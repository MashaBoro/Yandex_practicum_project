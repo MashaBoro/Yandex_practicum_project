{
 "cells": [
  {
   "cell_type": "markdown",
   "metadata": {},
   "source": [
    "# Choosing a location for a well"
   ]
  },
  {
   "cell_type": "markdown",
   "metadata": {},
   "source": [
    "The oil production company needs to decide where to drill a new well.\n",
    "\n",
    "We have oil samples in three regions: in each 10,000 fields, where we measured the quality of oil and the volume of its reserves. Build a machine learning model that will help determine the region where mining will bring the greatest profit. Analyze the possible profits and risks using the *Bootstrap.* technique.\n",
    "\n",
    "Steps to select a location:\n",
    "\n",
    "- Deposits are searched for in a selected region, and feature values are determined for each;\n",
    "- Build a model and estimate the volume of reserves;\n",
    "- The deposits with the highest estimated values are selected. The number of fields depends on the company’s budget and the cost of developing one well;\n",
    "- Profit is equal to the total profit of the selected fields."
   ]
  },
  {
   "cell_type": "markdown",
   "metadata": {},
   "source": [
    "# Data Description"
   ]
  },
  {
   "cell_type": "markdown",
   "metadata": {},
   "source": [
    "* id — unique well identifier;\n",
    "* f0, f1, f2 — three signs of points (it doesn’t matter what they mean, but the signs themselves are significant);\n",
    "* product — volume of reserves in the well (thousand barrels)."
   ]
  },
  {
   "cell_type": "markdown",
   "metadata": {},
   "source": [
    "# Conditions of the problem:"
   ]
  },
  {
   "cell_type": "markdown",
   "metadata": {},
   "source": [
    "1. Only linear regression is suitable for training the model (the rest are not predictable enough).\n",
    "2. When exploring a region, 500 points are examined, from which, using machine learning, the best 200 are selected for development.\n",
    "3. The budget for well development in the region is 10 billion rubles.\n",
    "4. At current prices, one barrel of raw materials brings 450 rubles in income. The income from each unit of product is 450 thousand rubles, since the volume is indicated in thousands of barrels.\n",
    "5. After assessing the risks, you need to leave only those regions in which the probability of losses is less than 2.5%. Among them, the region with the highest average profit is selected."
   ]
  },
  {
   "cell_type": "markdown",
   "metadata": {},
   "source": [
    "## Loading and preparing data"
   ]
  },
  {
   "cell_type": "code",
   "execution_count": 1,
   "metadata": {},
   "outputs": [],
   "source": [
    "# download the libraries\n",
    "import pandas as pd\n",
    "import numpy as np\n",
    "from sklearn.model_selection import train_test_split\n",
    "from sklearn.linear_model import LinearRegression\n",
    "from sklearn.preprocessing import MinMaxScaler, StandardScaler, OrdinalEncoder\n",
    "import matplotlib.pyplot as plt\n",
    "from sklearn.utils import shuffle\n",
    "from pandas.plotting import scatter_matrix\n",
    "from sklearn.linear_model import SGDRegressor\n",
    "from sklearn.metrics import mean_squared_error\n",
    "from numpy.random import RandomState\n",
    "from scipy import stats as st"
   ]
  },
  {
   "cell_type": "code",
   "execution_count": 2,
   "metadata": {},
   "outputs": [],
   "source": [
    "# download data for research\n",
    "data_0 = pd.read_csv('C:/Users/hp/Documents/data_science/GitHub/Yandex_project/Датасеты/geo_data_0.csv')\n",
    "data_1 = pd.read_csv('C:/Users/hp/Documents/data_science/GitHub/Yandex_project/Датасеты/geo_data_1.csv')\n",
    "data_2 = pd.read_csv('C:/Users/hp/Documents/data_science/GitHub/Yandex_project/Датасеты/geo_data_2.csv')\n"
   ]
  },
  {
   "cell_type": "code",
   "execution_count": 3,
   "metadata": {},
   "outputs": [
    {
     "data": {
      "text/html": [
       "<div>\n",
       "<style scoped>\n",
       "    .dataframe tbody tr th:only-of-type {\n",
       "        vertical-align: middle;\n",
       "    }\n",
       "\n",
       "    .dataframe tbody tr th {\n",
       "        vertical-align: top;\n",
       "    }\n",
       "\n",
       "    .dataframe thead th {\n",
       "        text-align: right;\n",
       "    }\n",
       "</style>\n",
       "<table border=\"1\" class=\"dataframe\">\n",
       "  <thead>\n",
       "    <tr style=\"text-align: right;\">\n",
       "      <th></th>\n",
       "      <th>id</th>\n",
       "      <th>f0</th>\n",
       "      <th>f1</th>\n",
       "      <th>f2</th>\n",
       "      <th>product</th>\n",
       "    </tr>\n",
       "  </thead>\n",
       "  <tbody>\n",
       "    <tr>\n",
       "      <th>0</th>\n",
       "      <td>txEyH</td>\n",
       "      <td>0.705745</td>\n",
       "      <td>-0.497823</td>\n",
       "      <td>1.221170</td>\n",
       "      <td>105.280062</td>\n",
       "    </tr>\n",
       "    <tr>\n",
       "      <th>1</th>\n",
       "      <td>2acmU</td>\n",
       "      <td>1.334711</td>\n",
       "      <td>-0.340164</td>\n",
       "      <td>4.365080</td>\n",
       "      <td>73.037750</td>\n",
       "    </tr>\n",
       "    <tr>\n",
       "      <th>2</th>\n",
       "      <td>409Wp</td>\n",
       "      <td>1.022732</td>\n",
       "      <td>0.151990</td>\n",
       "      <td>1.419926</td>\n",
       "      <td>85.265647</td>\n",
       "    </tr>\n",
       "    <tr>\n",
       "      <th>3</th>\n",
       "      <td>iJLyR</td>\n",
       "      <td>-0.032172</td>\n",
       "      <td>0.139033</td>\n",
       "      <td>2.978566</td>\n",
       "      <td>168.620776</td>\n",
       "    </tr>\n",
       "    <tr>\n",
       "      <th>4</th>\n",
       "      <td>Xdl7t</td>\n",
       "      <td>1.988431</td>\n",
       "      <td>0.155413</td>\n",
       "      <td>4.751769</td>\n",
       "      <td>154.036647</td>\n",
       "    </tr>\n",
       "  </tbody>\n",
       "</table>\n",
       "</div>"
      ],
      "text/plain": [
       "      id        f0        f1        f2     product\n",
       "0  txEyH  0.705745 -0.497823  1.221170  105.280062\n",
       "1  2acmU  1.334711 -0.340164  4.365080   73.037750\n",
       "2  409Wp  1.022732  0.151990  1.419926   85.265647\n",
       "3  iJLyR -0.032172  0.139033  2.978566  168.620776\n",
       "4  Xdl7t  1.988431  0.155413  4.751769  154.036647"
      ]
     },
     "metadata": {},
     "output_type": "display_data"
    },
    {
     "name": "stdout",
     "output_type": "stream",
     "text": [
      "<class 'pandas.core.frame.DataFrame'>\n",
      "RangeIndex: 100000 entries, 0 to 99999\n",
      "Data columns (total 5 columns):\n",
      " #   Column   Non-Null Count   Dtype  \n",
      "---  ------   --------------   -----  \n",
      " 0   id       100000 non-null  object \n",
      " 1   f0       100000 non-null  float64\n",
      " 2   f1       100000 non-null  float64\n",
      " 3   f2       100000 non-null  float64\n",
      " 4   product  100000 non-null  float64\n",
      "dtypes: float64(4), object(1)\n",
      "memory usage: 3.8+ MB\n"
     ]
    }
   ],
   "source": [
    "# read the data data_0\n",
    "display(data_0.head())\n",
    "# let's study the data type and completeness of the table contents\n",
    "data_0.info()"
   ]
  },
  {
   "cell_type": "code",
   "execution_count": 4,
   "metadata": {},
   "outputs": [
    {
     "name": "stderr",
     "output_type": "stream",
     "text": [
      "C:\\Users\\hp\\AppData\\Local\\Temp\\ipykernel_12892\\3761966417.py:2: FutureWarning: The default value of numeric_only in DataFrame.corr is deprecated. In a future version, it will default to False. Select only valid columns or specify the value of numeric_only to silence this warning.\n",
      "  corr_0 = data_0.corr()\n"
     ]
    },
    {
     "data": {
      "text/html": [
       "<style type=\"text/css\">\n",
       "#T_68467_row0_col0, #T_68467_row1_col1, #T_68467_row2_col2, #T_68467_row3_col3 {\n",
       "  background-color: #006837;\n",
       "  color: #f1f1f1;\n",
       "}\n",
       "#T_68467_row0_col1, #T_68467_row0_col2, #T_68467_row1_col0, #T_68467_row1_col3 {\n",
       "  background-color: #a50026;\n",
       "  color: #f1f1f1;\n",
       "}\n",
       "#T_68467_row0_col3 {\n",
       "  background-color: #fba35c;\n",
       "  color: #000000;\n",
       "}\n",
       "#T_68467_row1_col2 {\n",
       "  background-color: #a70226;\n",
       "  color: #f1f1f1;\n",
       "}\n",
       "#T_68467_row2_col0 {\n",
       "  background-color: #fdaf62;\n",
       "  color: #000000;\n",
       "}\n",
       "#T_68467_row2_col1 {\n",
       "  background-color: #fdb163;\n",
       "  color: #000000;\n",
       "}\n",
       "#T_68467_row2_col3 {\n",
       "  background-color: #e5f49b;\n",
       "  color: #000000;\n",
       "}\n",
       "#T_68467_row3_col0 {\n",
       "  background-color: #fee18d;\n",
       "  color: #000000;\n",
       "}\n",
       "#T_68467_row3_col1 {\n",
       "  background-color: #ec5c3b;\n",
       "  color: #f1f1f1;\n",
       "}\n",
       "#T_68467_row3_col2 {\n",
       "  background-color: #fffbb8;\n",
       "  color: #000000;\n",
       "}\n",
       "</style>\n",
       "<table id=\"T_68467\">\n",
       "  <thead>\n",
       "    <tr>\n",
       "      <th class=\"blank level0\" >&nbsp;</th>\n",
       "      <th id=\"T_68467_level0_col0\" class=\"col_heading level0 col0\" >f0</th>\n",
       "      <th id=\"T_68467_level0_col1\" class=\"col_heading level0 col1\" >f1</th>\n",
       "      <th id=\"T_68467_level0_col2\" class=\"col_heading level0 col2\" >f2</th>\n",
       "      <th id=\"T_68467_level0_col3\" class=\"col_heading level0 col3\" >product</th>\n",
       "    </tr>\n",
       "  </thead>\n",
       "  <tbody>\n",
       "    <tr>\n",
       "      <th id=\"T_68467_level0_row0\" class=\"row_heading level0 row0\" >f0</th>\n",
       "      <td id=\"T_68467_row0_col0\" class=\"data row0 col0\" >1.000000</td>\n",
       "      <td id=\"T_68467_row0_col1\" class=\"data row0 col1\" >-0.440723</td>\n",
       "      <td id=\"T_68467_row0_col2\" class=\"data row0 col2\" >-0.003153</td>\n",
       "      <td id=\"T_68467_row0_col3\" class=\"data row0 col3\" >0.143536</td>\n",
       "    </tr>\n",
       "    <tr>\n",
       "      <th id=\"T_68467_level0_row1\" class=\"row_heading level0 row1\" >f1</th>\n",
       "      <td id=\"T_68467_row1_col0\" class=\"data row1 col0\" >-0.440723</td>\n",
       "      <td id=\"T_68467_row1_col1\" class=\"data row1 col1\" >1.000000</td>\n",
       "      <td id=\"T_68467_row1_col2\" class=\"data row1 col2\" >0.001724</td>\n",
       "      <td id=\"T_68467_row1_col3\" class=\"data row1 col3\" >-0.192356</td>\n",
       "    </tr>\n",
       "    <tr>\n",
       "      <th id=\"T_68467_level0_row2\" class=\"row_heading level0 row2\" >f2</th>\n",
       "      <td id=\"T_68467_row2_col0\" class=\"data row2 col0\" >-0.003153</td>\n",
       "      <td id=\"T_68467_row2_col1\" class=\"data row2 col1\" >0.001724</td>\n",
       "      <td id=\"T_68467_row2_col2\" class=\"data row2 col2\" >1.000000</td>\n",
       "      <td id=\"T_68467_row2_col3\" class=\"data row2 col3\" >0.483663</td>\n",
       "    </tr>\n",
       "    <tr>\n",
       "      <th id=\"T_68467_level0_row3\" class=\"row_heading level0 row3\" >product</th>\n",
       "      <td id=\"T_68467_row3_col0\" class=\"data row3 col0\" >0.143536</td>\n",
       "      <td id=\"T_68467_row3_col1\" class=\"data row3 col1\" >-0.192356</td>\n",
       "      <td id=\"T_68467_row3_col2\" class=\"data row3 col2\" >0.483663</td>\n",
       "      <td id=\"T_68467_row3_col3\" class=\"data row3 col3\" >1.000000</td>\n",
       "    </tr>\n",
       "  </tbody>\n",
       "</table>\n"
      ],
      "text/plain": [
       "<pandas.io.formats.style.Styler at 0x24426d440d0>"
      ]
     },
     "execution_count": 4,
     "metadata": {},
     "output_type": "execute_result"
    }
   ],
   "source": [
    "# let's build a correlation matrix of variables for data_0\n",
    "corr_0 = data_0.corr()\n",
    "corr_0.style.background_gradient(cmap='RdYlGn')"
   ]
  },
  {
   "cell_type": "markdown",
   "metadata": {},
   "source": [
    "the highest correlation between f2 and product is 0.484, but at the same time this is a low level of correlation. There are weak positive and negative connections between traits."
   ]
  },
  {
   "cell_type": "code",
   "execution_count": 5,
   "metadata": {},
   "outputs": [
    {
     "data": {
      "image/png": "[encoded data removed]",
      "text/plain": [
       "<Figure size 640x480 with 16 Axes>"
      ]
     },
     "metadata": {},
     "output_type": "display_data"
    }
   ],
   "source": [
    "# let's build a scatterplot for data_0\n",
    "scatter_matrix(data_0)\n",
    "plt.show()"
   ]
  },
  {
   "cell_type": "code",
   "execution_count": 6,
   "metadata": {},
   "outputs": [
    {
     "data": {
      "text/html": [
       "<div>\n",
       "<style scoped>\n",
       "    .dataframe tbody tr th:only-of-type {\n",
       "        vertical-align: middle;\n",
       "    }\n",
       "\n",
       "    .dataframe tbody tr th {\n",
       "        vertical-align: top;\n",
       "    }\n",
       "\n",
       "    .dataframe thead th {\n",
       "        text-align: right;\n",
       "    }\n",
       "</style>\n",
       "<table border=\"1\" class=\"dataframe\">\n",
       "  <thead>\n",
       "    <tr style=\"text-align: right;\">\n",
       "      <th></th>\n",
       "      <th>f0</th>\n",
       "      <th>f1</th>\n",
       "      <th>f2</th>\n",
       "      <th>product</th>\n",
       "    </tr>\n",
       "  </thead>\n",
       "  <tbody>\n",
       "    <tr>\n",
       "      <th>count</th>\n",
       "      <td>100000.000000</td>\n",
       "      <td>100000.000000</td>\n",
       "      <td>100000.000000</td>\n",
       "      <td>100000.000000</td>\n",
       "    </tr>\n",
       "    <tr>\n",
       "      <th>mean</th>\n",
       "      <td>0.500419</td>\n",
       "      <td>0.250143</td>\n",
       "      <td>2.502647</td>\n",
       "      <td>92.500000</td>\n",
       "    </tr>\n",
       "    <tr>\n",
       "      <th>std</th>\n",
       "      <td>0.871832</td>\n",
       "      <td>0.504433</td>\n",
       "      <td>3.248248</td>\n",
       "      <td>44.288691</td>\n",
       "    </tr>\n",
       "    <tr>\n",
       "      <th>min</th>\n",
       "      <td>-1.408605</td>\n",
       "      <td>-0.848218</td>\n",
       "      <td>-12.088328</td>\n",
       "      <td>0.000000</td>\n",
       "    </tr>\n",
       "    <tr>\n",
       "      <th>25%</th>\n",
       "      <td>-0.072580</td>\n",
       "      <td>-0.200881</td>\n",
       "      <td>0.287748</td>\n",
       "      <td>56.497507</td>\n",
       "    </tr>\n",
       "    <tr>\n",
       "      <th>50%</th>\n",
       "      <td>0.502360</td>\n",
       "      <td>0.250252</td>\n",
       "      <td>2.515969</td>\n",
       "      <td>91.849972</td>\n",
       "    </tr>\n",
       "    <tr>\n",
       "      <th>75%</th>\n",
       "      <td>1.073581</td>\n",
       "      <td>0.700646</td>\n",
       "      <td>4.715088</td>\n",
       "      <td>128.564089</td>\n",
       "    </tr>\n",
       "    <tr>\n",
       "      <th>max</th>\n",
       "      <td>2.362331</td>\n",
       "      <td>1.343769</td>\n",
       "      <td>16.003790</td>\n",
       "      <td>185.364347</td>\n",
       "    </tr>\n",
       "  </tbody>\n",
       "</table>\n",
       "</div>"
      ],
      "text/plain": [
       "                  f0             f1             f2        product\n",
       "count  100000.000000  100000.000000  100000.000000  100000.000000\n",
       "mean        0.500419       0.250143       2.502647      92.500000\n",
       "std         0.871832       0.504433       3.248248      44.288691\n",
       "min        -1.408605      -0.848218     -12.088328       0.000000\n",
       "25%        -0.072580      -0.200881       0.287748      56.497507\n",
       "50%         0.502360       0.250252       2.515969      91.849972\n",
       "75%         1.073581       0.700646       4.715088     128.564089\n",
       "max         2.362331       1.343769      16.003790     185.364347"
      ]
     },
     "execution_count": 6,
     "metadata": {},
     "output_type": "execute_result"
    }
   ],
   "source": [
    "# display statistical data for data_0\n",
    "data_0.describe()"
   ]
  },
  {
   "cell_type": "code",
   "execution_count": 7,
   "metadata": {},
   "outputs": [
    {
     "data": {
      "text/html": [
       "<div>\n",
       "<style scoped>\n",
       "    .dataframe tbody tr th:only-of-type {\n",
       "        vertical-align: middle;\n",
       "    }\n",
       "\n",
       "    .dataframe tbody tr th {\n",
       "        vertical-align: top;\n",
       "    }\n",
       "\n",
       "    .dataframe thead th {\n",
       "        text-align: right;\n",
       "    }\n",
       "</style>\n",
       "<table border=\"1\" class=\"dataframe\">\n",
       "  <thead>\n",
       "    <tr style=\"text-align: right;\">\n",
       "      <th></th>\n",
       "      <th>id</th>\n",
       "      <th>f0</th>\n",
       "      <th>f1</th>\n",
       "      <th>f2</th>\n",
       "      <th>product</th>\n",
       "    </tr>\n",
       "  </thead>\n",
       "  <tbody>\n",
       "    <tr>\n",
       "      <th>0</th>\n",
       "      <td>kBEdx</td>\n",
       "      <td>-15.001348</td>\n",
       "      <td>-8.276000</td>\n",
       "      <td>-0.005876</td>\n",
       "      <td>3.179103</td>\n",
       "    </tr>\n",
       "    <tr>\n",
       "      <th>1</th>\n",
       "      <td>62mP7</td>\n",
       "      <td>14.272088</td>\n",
       "      <td>-3.475083</td>\n",
       "      <td>0.999183</td>\n",
       "      <td>26.953261</td>\n",
       "    </tr>\n",
       "    <tr>\n",
       "      <th>2</th>\n",
       "      <td>vyE1P</td>\n",
       "      <td>6.263187</td>\n",
       "      <td>-5.948386</td>\n",
       "      <td>5.001160</td>\n",
       "      <td>134.766305</td>\n",
       "    </tr>\n",
       "    <tr>\n",
       "      <th>3</th>\n",
       "      <td>KcrkZ</td>\n",
       "      <td>-13.081196</td>\n",
       "      <td>-11.506057</td>\n",
       "      <td>4.999415</td>\n",
       "      <td>137.945408</td>\n",
       "    </tr>\n",
       "    <tr>\n",
       "      <th>4</th>\n",
       "      <td>AHL4O</td>\n",
       "      <td>12.702195</td>\n",
       "      <td>-8.147433</td>\n",
       "      <td>5.004363</td>\n",
       "      <td>134.766305</td>\n",
       "    </tr>\n",
       "  </tbody>\n",
       "</table>\n",
       "</div>"
      ],
      "text/plain": [
       "      id         f0         f1        f2     product\n",
       "0  kBEdx -15.001348  -8.276000 -0.005876    3.179103\n",
       "1  62mP7  14.272088  -3.475083  0.999183   26.953261\n",
       "2  vyE1P   6.263187  -5.948386  5.001160  134.766305\n",
       "3  KcrkZ -13.081196 -11.506057  4.999415  137.945408\n",
       "4  AHL4O  12.702195  -8.147433  5.004363  134.766305"
      ]
     },
     "metadata": {},
     "output_type": "display_data"
    },
    {
     "name": "stdout",
     "output_type": "stream",
     "text": [
      "<class 'pandas.core.frame.DataFrame'>\n",
      "RangeIndex: 100000 entries, 0 to 99999\n",
      "Data columns (total 5 columns):\n",
      " #   Column   Non-Null Count   Dtype  \n",
      "---  ------   --------------   -----  \n",
      " 0   id       100000 non-null  object \n",
      " 1   f0       100000 non-null  float64\n",
      " 2   f1       100000 non-null  float64\n",
      " 3   f2       100000 non-null  float64\n",
      " 4   product  100000 non-null  float64\n",
      "dtypes: float64(4), object(1)\n",
      "memory usage: 3.8+ MB\n"
     ]
    }
   ],
   "source": [
    "# read the data data_1\n",
    "display(data_1.head())\n",
    "# дet's study the data type and completeness of the table contents\n",
    "data_1.info()"
   ]
  },
  {
   "cell_type": "code",
   "execution_count": 8,
   "metadata": {},
   "outputs": [
    {
     "name": "stderr",
     "output_type": "stream",
     "text": [
      "C:\\Users\\hp\\AppData\\Local\\Temp\\ipykernel_12892\\3324993532.py:2: FutureWarning: The default value of numeric_only in DataFrame.corr is deprecated. In a future version, it will default to False. Select only valid columns or specify the value of numeric_only to silence this warning.\n",
      "  corr_1 = data_1.corr()\n"
     ]
    },
    {
     "data": {
      "text/html": [
       "<style type=\"text/css\">\n",
       "#T_af543_row0_col0, #T_af543_row1_col1, #T_af543_row2_col2, #T_af543_row2_col3, #T_af543_row3_col2, #T_af543_row3_col3 {\n",
       "  background-color: #006837;\n",
       "  color: #f1f1f1;\n",
       "}\n",
       "#T_af543_row0_col1 {\n",
       "  background-color: #f16640;\n",
       "  color: #f1f1f1;\n",
       "}\n",
       "#T_af543_row0_col2, #T_af543_row0_col3, #T_af543_row1_col2, #T_af543_row3_col0, #T_af543_row3_col1 {\n",
       "  background-color: #a50026;\n",
       "  color: #f1f1f1;\n",
       "}\n",
       "#T_af543_row1_col0 {\n",
       "  background-color: #f47044;\n",
       "  color: #f1f1f1;\n",
       "}\n",
       "#T_af543_row1_col3 {\n",
       "  background-color: #af0926;\n",
       "  color: #f1f1f1;\n",
       "}\n",
       "#T_af543_row2_col0 {\n",
       "  background-color: #b30d26;\n",
       "  color: #f1f1f1;\n",
       "}\n",
       "#T_af543_row2_col1 {\n",
       "  background-color: #a70226;\n",
       "  color: #f1f1f1;\n",
       "}\n",
       "</style>\n",
       "<table id=\"T_af543\">\n",
       "  <thead>\n",
       "    <tr>\n",
       "      <th class=\"blank level0\" >&nbsp;</th>\n",
       "      <th id=\"T_af543_level0_col0\" class=\"col_heading level0 col0\" >f0</th>\n",
       "      <th id=\"T_af543_level0_col1\" class=\"col_heading level0 col1\" >f1</th>\n",
       "      <th id=\"T_af543_level0_col2\" class=\"col_heading level0 col2\" >f2</th>\n",
       "      <th id=\"T_af543_level0_col3\" class=\"col_heading level0 col3\" >product</th>\n",
       "    </tr>\n",
       "  </thead>\n",
       "  <tbody>\n",
       "    <tr>\n",
       "      <th id=\"T_af543_level0_row0\" class=\"row_heading level0 row0\" >f0</th>\n",
       "      <td id=\"T_af543_row0_col0\" class=\"data row0 col0\" >1.000000</td>\n",
       "      <td id=\"T_af543_row0_col1\" class=\"data row0 col1\" >0.182287</td>\n",
       "      <td id=\"T_af543_row0_col2\" class=\"data row0 col2\" >-0.001777</td>\n",
       "      <td id=\"T_af543_row0_col3\" class=\"data row0 col3\" >-0.030491</td>\n",
       "    </tr>\n",
       "    <tr>\n",
       "      <th id=\"T_af543_level0_row1\" class=\"row_heading level0 row1\" >f1</th>\n",
       "      <td id=\"T_af543_row1_col0\" class=\"data row1 col0\" >0.182287</td>\n",
       "      <td id=\"T_af543_row1_col1\" class=\"data row1 col1\" >1.000000</td>\n",
       "      <td id=\"T_af543_row1_col2\" class=\"data row1 col2\" >-0.002595</td>\n",
       "      <td id=\"T_af543_row1_col3\" class=\"data row1 col3\" >-0.010155</td>\n",
       "    </tr>\n",
       "    <tr>\n",
       "      <th id=\"T_af543_level0_row2\" class=\"row_heading level0 row2\" >f2</th>\n",
       "      <td id=\"T_af543_row2_col0\" class=\"data row2 col0\" >-0.001777</td>\n",
       "      <td id=\"T_af543_row2_col1\" class=\"data row2 col1\" >-0.002595</td>\n",
       "      <td id=\"T_af543_row2_col2\" class=\"data row2 col2\" >1.000000</td>\n",
       "      <td id=\"T_af543_row2_col3\" class=\"data row2 col3\" >0.999397</td>\n",
       "    </tr>\n",
       "    <tr>\n",
       "      <th id=\"T_af543_level0_row3\" class=\"row_heading level0 row3\" >product</th>\n",
       "      <td id=\"T_af543_row3_col0\" class=\"data row3 col0\" >-0.030491</td>\n",
       "      <td id=\"T_af543_row3_col1\" class=\"data row3 col1\" >-0.010155</td>\n",
       "      <td id=\"T_af543_row3_col2\" class=\"data row3 col2\" >0.999397</td>\n",
       "      <td id=\"T_af543_row3_col3\" class=\"data row3 col3\" >1.000000</td>\n",
       "    </tr>\n",
       "  </tbody>\n",
       "</table>\n"
      ],
      "text/plain": [
       "<pandas.io.formats.style.Styler at 0x2442463e250>"
      ]
     },
     "execution_count": 8,
     "metadata": {},
     "output_type": "execute_result"
    }
   ],
   "source": [
    "# let's build a correlation matrix of variables for data_1\n",
    "corr_1 = data_1.corr()\n",
    "corr_1.style.background_gradient(cmap='RdYlGn')"
   ]
  },
  {
   "cell_type": "markdown",
   "metadata": {},
   "source": [
    "very strong correlation between f2 and product 0.999. Perhaps in the future, when building a model, this connection will manifest itself. There are weak positive and negative connections between the signs."
   ]
  },
  {
   "cell_type": "code",
   "execution_count": 9,
   "metadata": {},
   "outputs": [
    {
     "data": {
      "image/png": "[encoded data removed]",
      "text/plain": [
       "<Figure size 640x480 with 16 Axes>"
      ]
     },
     "metadata": {},
     "output_type": "display_data"
    }
   ],
   "source": [
    "# let's build a scatterplot for data_1\n",
    "scatter_matrix(data_1)\n",
    "plt.show()"
   ]
  },
  {
   "cell_type": "code",
   "execution_count": 10,
   "metadata": {},
   "outputs": [
    {
     "data": {
      "text/html": [
       "<div>\n",
       "<style scoped>\n",
       "    .dataframe tbody tr th:only-of-type {\n",
       "        vertical-align: middle;\n",
       "    }\n",
       "\n",
       "    .dataframe tbody tr th {\n",
       "        vertical-align: top;\n",
       "    }\n",
       "\n",
       "    .dataframe thead th {\n",
       "        text-align: right;\n",
       "    }\n",
       "</style>\n",
       "<table border=\"1\" class=\"dataframe\">\n",
       "  <thead>\n",
       "    <tr style=\"text-align: right;\">\n",
       "      <th></th>\n",
       "      <th>f0</th>\n",
       "      <th>f1</th>\n",
       "      <th>f2</th>\n",
       "      <th>product</th>\n",
       "    </tr>\n",
       "  </thead>\n",
       "  <tbody>\n",
       "    <tr>\n",
       "      <th>count</th>\n",
       "      <td>100000.000000</td>\n",
       "      <td>100000.000000</td>\n",
       "      <td>100000.000000</td>\n",
       "      <td>100000.000000</td>\n",
       "    </tr>\n",
       "    <tr>\n",
       "      <th>mean</th>\n",
       "      <td>1.141296</td>\n",
       "      <td>-4.796579</td>\n",
       "      <td>2.494541</td>\n",
       "      <td>68.825000</td>\n",
       "    </tr>\n",
       "    <tr>\n",
       "      <th>std</th>\n",
       "      <td>8.965932</td>\n",
       "      <td>5.119872</td>\n",
       "      <td>1.703572</td>\n",
       "      <td>45.944423</td>\n",
       "    </tr>\n",
       "    <tr>\n",
       "      <th>min</th>\n",
       "      <td>-31.609576</td>\n",
       "      <td>-26.358598</td>\n",
       "      <td>-0.018144</td>\n",
       "      <td>0.000000</td>\n",
       "    </tr>\n",
       "    <tr>\n",
       "      <th>25%</th>\n",
       "      <td>-6.298551</td>\n",
       "      <td>-8.267985</td>\n",
       "      <td>1.000021</td>\n",
       "      <td>26.953261</td>\n",
       "    </tr>\n",
       "    <tr>\n",
       "      <th>50%</th>\n",
       "      <td>1.153055</td>\n",
       "      <td>-4.813172</td>\n",
       "      <td>2.011479</td>\n",
       "      <td>57.085625</td>\n",
       "    </tr>\n",
       "    <tr>\n",
       "      <th>75%</th>\n",
       "      <td>8.621015</td>\n",
       "      <td>-1.332816</td>\n",
       "      <td>3.999904</td>\n",
       "      <td>107.813044</td>\n",
       "    </tr>\n",
       "    <tr>\n",
       "      <th>max</th>\n",
       "      <td>29.421755</td>\n",
       "      <td>18.734063</td>\n",
       "      <td>5.019721</td>\n",
       "      <td>137.945408</td>\n",
       "    </tr>\n",
       "  </tbody>\n",
       "</table>\n",
       "</div>"
      ],
      "text/plain": [
       "                  f0             f1             f2        product\n",
       "count  100000.000000  100000.000000  100000.000000  100000.000000\n",
       "mean        1.141296      -4.796579       2.494541      68.825000\n",
       "std         8.965932       5.119872       1.703572      45.944423\n",
       "min       -31.609576     -26.358598      -0.018144       0.000000\n",
       "25%        -6.298551      -8.267985       1.000021      26.953261\n",
       "50%         1.153055      -4.813172       2.011479      57.085625\n",
       "75%         8.621015      -1.332816       3.999904     107.813044\n",
       "max        29.421755      18.734063       5.019721     137.945408"
      ]
     },
     "execution_count": 10,
     "metadata": {},
     "output_type": "execute_result"
    }
   ],
   "source": [
    "# display statistical data for data_1\n",
    "data_1.describe()"
   ]
  },
  {
   "cell_type": "code",
   "execution_count": 11,
   "metadata": {},
   "outputs": [
    {
     "data": {
      "text/html": [
       "<div>\n",
       "<style scoped>\n",
       "    .dataframe tbody tr th:only-of-type {\n",
       "        vertical-align: middle;\n",
       "    }\n",
       "\n",
       "    .dataframe tbody tr th {\n",
       "        vertical-align: top;\n",
       "    }\n",
       "\n",
       "    .dataframe thead th {\n",
       "        text-align: right;\n",
       "    }\n",
       "</style>\n",
       "<table border=\"1\" class=\"dataframe\">\n",
       "  <thead>\n",
       "    <tr style=\"text-align: right;\">\n",
       "      <th></th>\n",
       "      <th>id</th>\n",
       "      <th>f0</th>\n",
       "      <th>f1</th>\n",
       "      <th>f2</th>\n",
       "      <th>product</th>\n",
       "    </tr>\n",
       "  </thead>\n",
       "  <tbody>\n",
       "    <tr>\n",
       "      <th>0</th>\n",
       "      <td>txEyH</td>\n",
       "      <td>0.705745</td>\n",
       "      <td>-0.497823</td>\n",
       "      <td>1.221170</td>\n",
       "      <td>105.280062</td>\n",
       "    </tr>\n",
       "    <tr>\n",
       "      <th>1</th>\n",
       "      <td>2acmU</td>\n",
       "      <td>1.334711</td>\n",
       "      <td>-0.340164</td>\n",
       "      <td>4.365080</td>\n",
       "      <td>73.037750</td>\n",
       "    </tr>\n",
       "    <tr>\n",
       "      <th>2</th>\n",
       "      <td>409Wp</td>\n",
       "      <td>1.022732</td>\n",
       "      <td>0.151990</td>\n",
       "      <td>1.419926</td>\n",
       "      <td>85.265647</td>\n",
       "    </tr>\n",
       "    <tr>\n",
       "      <th>3</th>\n",
       "      <td>iJLyR</td>\n",
       "      <td>-0.032172</td>\n",
       "      <td>0.139033</td>\n",
       "      <td>2.978566</td>\n",
       "      <td>168.620776</td>\n",
       "    </tr>\n",
       "    <tr>\n",
       "      <th>4</th>\n",
       "      <td>Xdl7t</td>\n",
       "      <td>1.988431</td>\n",
       "      <td>0.155413</td>\n",
       "      <td>4.751769</td>\n",
       "      <td>154.036647</td>\n",
       "    </tr>\n",
       "  </tbody>\n",
       "</table>\n",
       "</div>"
      ],
      "text/plain": [
       "      id        f0        f1        f2     product\n",
       "0  txEyH  0.705745 -0.497823  1.221170  105.280062\n",
       "1  2acmU  1.334711 -0.340164  4.365080   73.037750\n",
       "2  409Wp  1.022732  0.151990  1.419926   85.265647\n",
       "3  iJLyR -0.032172  0.139033  2.978566  168.620776\n",
       "4  Xdl7t  1.988431  0.155413  4.751769  154.036647"
      ]
     },
     "metadata": {},
     "output_type": "display_data"
    },
    {
     "name": "stdout",
     "output_type": "stream",
     "text": [
      "<class 'pandas.core.frame.DataFrame'>\n",
      "RangeIndex: 100000 entries, 0 to 99999\n",
      "Data columns (total 5 columns):\n",
      " #   Column   Non-Null Count   Dtype  \n",
      "---  ------   --------------   -----  \n",
      " 0   id       100000 non-null  object \n",
      " 1   f0       100000 non-null  float64\n",
      " 2   f1       100000 non-null  float64\n",
      " 3   f2       100000 non-null  float64\n",
      " 4   product  100000 non-null  float64\n",
      "dtypes: float64(4), object(1)\n",
      "memory usage: 3.8+ MB\n"
     ]
    }
   ],
   "source": [
    "# read the data data_2\n",
    "display(data_0.head())\n",
    "# let's study the data type and completeness of the table contents\n",
    "data_2.info()"
   ]
  },
  {
   "cell_type": "code",
   "execution_count": 12,
   "metadata": {},
   "outputs": [
    {
     "name": "stderr",
     "output_type": "stream",
     "text": [
      "C:\\Users\\hp\\AppData\\Local\\Temp\\ipykernel_12892\\1515433248.py:2: FutureWarning: The default value of numeric_only in DataFrame.corr is deprecated. In a future version, it will default to False. Select only valid columns or specify the value of numeric_only to silence this warning.\n",
      "  corr_2 = data_2.corr()\n"
     ]
    },
    {
     "data": {
      "text/html": [
       "<style type=\"text/css\">\n",
       "#T_b2604_row0_col0, #T_b2604_row1_col1, #T_b2604_row2_col2, #T_b2604_row3_col3 {\n",
       "  background-color: #006837;\n",
       "  color: #f1f1f1;\n",
       "}\n",
       "#T_b2604_row0_col1, #T_b2604_row0_col2, #T_b2604_row0_col3, #T_b2604_row1_col0, #T_b2604_row1_col2, #T_b2604_row1_col3, #T_b2604_row2_col0, #T_b2604_row2_col1, #T_b2604_row3_col0, #T_b2604_row3_col1 {\n",
       "  background-color: #a50026;\n",
       "  color: #f1f1f1;\n",
       "}\n",
       "#T_b2604_row2_col3, #T_b2604_row3_col2 {\n",
       "  background-color: #feefa3;\n",
       "  color: #000000;\n",
       "}\n",
       "</style>\n",
       "<table id=\"T_b2604\">\n",
       "  <thead>\n",
       "    <tr>\n",
       "      <th class=\"blank level0\" >&nbsp;</th>\n",
       "      <th id=\"T_b2604_level0_col0\" class=\"col_heading level0 col0\" >f0</th>\n",
       "      <th id=\"T_b2604_level0_col1\" class=\"col_heading level0 col1\" >f1</th>\n",
       "      <th id=\"T_b2604_level0_col2\" class=\"col_heading level0 col2\" >f2</th>\n",
       "      <th id=\"T_b2604_level0_col3\" class=\"col_heading level0 col3\" >product</th>\n",
       "    </tr>\n",
       "  </thead>\n",
       "  <tbody>\n",
       "    <tr>\n",
       "      <th id=\"T_b2604_level0_row0\" class=\"row_heading level0 row0\" >f0</th>\n",
       "      <td id=\"T_b2604_row0_col0\" class=\"data row0 col0\" >1.000000</td>\n",
       "      <td id=\"T_b2604_row0_col1\" class=\"data row0 col1\" >0.000528</td>\n",
       "      <td id=\"T_b2604_row0_col2\" class=\"data row0 col2\" >-0.000448</td>\n",
       "      <td id=\"T_b2604_row0_col3\" class=\"data row0 col3\" >-0.001987</td>\n",
       "    </tr>\n",
       "    <tr>\n",
       "      <th id=\"T_b2604_level0_row1\" class=\"row_heading level0 row1\" >f1</th>\n",
       "      <td id=\"T_b2604_row1_col0\" class=\"data row1 col0\" >0.000528</td>\n",
       "      <td id=\"T_b2604_row1_col1\" class=\"data row1 col1\" >1.000000</td>\n",
       "      <td id=\"T_b2604_row1_col2\" class=\"data row1 col2\" >0.000779</td>\n",
       "      <td id=\"T_b2604_row1_col3\" class=\"data row1 col3\" >-0.001012</td>\n",
       "    </tr>\n",
       "    <tr>\n",
       "      <th id=\"T_b2604_level0_row2\" class=\"row_heading level0 row2\" >f2</th>\n",
       "      <td id=\"T_b2604_row2_col0\" class=\"data row2 col0\" >-0.000448</td>\n",
       "      <td id=\"T_b2604_row2_col1\" class=\"data row2 col1\" >0.000779</td>\n",
       "      <td id=\"T_b2604_row2_col2\" class=\"data row2 col2\" >1.000000</td>\n",
       "      <td id=\"T_b2604_row2_col3\" class=\"data row2 col3\" >0.445871</td>\n",
       "    </tr>\n",
       "    <tr>\n",
       "      <th id=\"T_b2604_level0_row3\" class=\"row_heading level0 row3\" >product</th>\n",
       "      <td id=\"T_b2604_row3_col0\" class=\"data row3 col0\" >-0.001987</td>\n",
       "      <td id=\"T_b2604_row3_col1\" class=\"data row3 col1\" >-0.001012</td>\n",
       "      <td id=\"T_b2604_row3_col2\" class=\"data row3 col2\" >0.445871</td>\n",
       "      <td id=\"T_b2604_row3_col3\" class=\"data row3 col3\" >1.000000</td>\n",
       "    </tr>\n",
       "  </tbody>\n",
       "</table>\n"
      ],
      "text/plain": [
       "<pandas.io.formats.style.Styler at 0x244255fe810>"
      ]
     },
     "execution_count": 12,
     "metadata": {},
     "output_type": "execute_result"
    }
   ],
   "source": [
    "# let's build a correlation matrix of variables for data_2\n",
    "corr_2 = data_2.corr()\n",
    "corr_2.style.background_gradient(cmap='RdYlGn')"
   ]
  },
  {
   "cell_type": "code",
   "execution_count": 13,
   "metadata": {},
   "outputs": [
    {
     "data": {
      "image/png": "[encoded data removed]",
      "text/plain": [
       "<Figure size 640x480 with 16 Axes>"
      ]
     },
     "metadata": {},
     "output_type": "display_data"
    }
   ],
   "source": [
    "# let's build a scatterplot for data_2\n",
    "scatter_matrix(data_2)\n",
    "plt.show()"
   ]
  },
  {
   "cell_type": "code",
   "execution_count": 14,
   "metadata": {},
   "outputs": [
    {
     "data": {
      "text/html": [
       "<div>\n",
       "<style scoped>\n",
       "    .dataframe tbody tr th:only-of-type {\n",
       "        vertical-align: middle;\n",
       "    }\n",
       "\n",
       "    .dataframe tbody tr th {\n",
       "        vertical-align: top;\n",
       "    }\n",
       "\n",
       "    .dataframe thead th {\n",
       "        text-align: right;\n",
       "    }\n",
       "</style>\n",
       "<table border=\"1\" class=\"dataframe\">\n",
       "  <thead>\n",
       "    <tr style=\"text-align: right;\">\n",
       "      <th></th>\n",
       "      <th>f0</th>\n",
       "      <th>f1</th>\n",
       "      <th>f2</th>\n",
       "      <th>product</th>\n",
       "    </tr>\n",
       "  </thead>\n",
       "  <tbody>\n",
       "    <tr>\n",
       "      <th>count</th>\n",
       "      <td>100000.000000</td>\n",
       "      <td>100000.000000</td>\n",
       "      <td>100000.000000</td>\n",
       "      <td>100000.000000</td>\n",
       "    </tr>\n",
       "    <tr>\n",
       "      <th>mean</th>\n",
       "      <td>0.002023</td>\n",
       "      <td>-0.002081</td>\n",
       "      <td>2.495128</td>\n",
       "      <td>95.000000</td>\n",
       "    </tr>\n",
       "    <tr>\n",
       "      <th>std</th>\n",
       "      <td>1.732045</td>\n",
       "      <td>1.730417</td>\n",
       "      <td>3.473445</td>\n",
       "      <td>44.749921</td>\n",
       "    </tr>\n",
       "    <tr>\n",
       "      <th>min</th>\n",
       "      <td>-8.760004</td>\n",
       "      <td>-7.084020</td>\n",
       "      <td>-11.970335</td>\n",
       "      <td>0.000000</td>\n",
       "    </tr>\n",
       "    <tr>\n",
       "      <th>25%</th>\n",
       "      <td>-1.162288</td>\n",
       "      <td>-1.174820</td>\n",
       "      <td>0.130359</td>\n",
       "      <td>59.450441</td>\n",
       "    </tr>\n",
       "    <tr>\n",
       "      <th>50%</th>\n",
       "      <td>0.009424</td>\n",
       "      <td>-0.009482</td>\n",
       "      <td>2.484236</td>\n",
       "      <td>94.925613</td>\n",
       "    </tr>\n",
       "    <tr>\n",
       "      <th>75%</th>\n",
       "      <td>1.158535</td>\n",
       "      <td>1.163678</td>\n",
       "      <td>4.858794</td>\n",
       "      <td>130.595027</td>\n",
       "    </tr>\n",
       "    <tr>\n",
       "      <th>max</th>\n",
       "      <td>7.238262</td>\n",
       "      <td>7.844801</td>\n",
       "      <td>16.739402</td>\n",
       "      <td>190.029838</td>\n",
       "    </tr>\n",
       "  </tbody>\n",
       "</table>\n",
       "</div>"
      ],
      "text/plain": [
       "                  f0             f1             f2        product\n",
       "count  100000.000000  100000.000000  100000.000000  100000.000000\n",
       "mean        0.002023      -0.002081       2.495128      95.000000\n",
       "std         1.732045       1.730417       3.473445      44.749921\n",
       "min        -8.760004      -7.084020     -11.970335       0.000000\n",
       "25%        -1.162288      -1.174820       0.130359      59.450441\n",
       "50%         0.009424      -0.009482       2.484236      94.925613\n",
       "75%         1.158535       1.163678       4.858794     130.595027\n",
       "max         7.238262       7.844801      16.739402     190.029838"
      ]
     },
     "execution_count": 14,
     "metadata": {},
     "output_type": "execute_result"
    }
   ],
   "source": [
    "# display statistical data for data_2\n",
    "data_2.describe()"
   ]
  },
  {
   "cell_type": "code",
   "execution_count": 15,
   "metadata": {},
   "outputs": [
    {
     "name": "stdout",
     "output_type": "stream",
     "text": [
      "0\n",
      "0\n",
      "0\n"
     ]
    }
   ],
   "source": [
    "# check for duplicate rows in each dataset\n",
    "print(data_0.duplicated ().sum())\n",
    "print(data_1.duplicated ().sum())\n",
    "print(data_2.duplicated ().sum())"
   ]
  },
  {
   "cell_type": "markdown",
   "metadata": {},
   "source": [
    "Conclusion: the data from the three datasets is 100% complete, without empty cells, and has no duplicate rows. We have prepared datasets for further work with them."
   ]
  },
  {
   "cell_type": "markdown",
   "metadata": {},
   "source": [
    "## Model training and validation"
   ]
  },
  {
   "cell_type": "markdown",
   "metadata": {},
   "source": [
    "### Splitting tables into training and validation samples"
   ]
  },
  {
   "cell_type": "code",
   "execution_count": 16,
   "metadata": {},
   "outputs": [],
   "source": [
    "# let's split the data into target features and features for all data\n",
    "target_data_0 = data_0['product']\n",
    "target_data_1 = data_1['product']\n",
    "target_data_2 = data_2['product']\n",
    "features_data_0 = data_0.drop(['product', 'id'], axis=1)\n",
    "features_data_1 = data_1.drop(['product', 'id'], axis=1)\n",
    "features_data_2 = data_2.drop(['product', 'id'], axis=1)\n"
   ]
  },
  {
   "cell_type": "code",
   "execution_count": 17,
   "metadata": {},
   "outputs": [],
   "source": [
    "# let's split target and features into training and validation samples for all data\n",
    "# data_0\n",
    "features_train_0, features_valid_0, target_train_0, target_valid_0 = train_test_split(features_data_0, target_data_0, \n",
    "                                                                                      test_size = 0.25, random_state=12345)\n",
    "features_train_1, features_valid_1, target_train_1, target_valid_1 = train_test_split(features_data_1, target_data_1, \n",
    "                                                                                      test_size = 0.25, random_state=12345)\n",
    "features_train_2, features_valid_2, target_train_2, target_valid_2 = train_test_split(features_data_2, target_data_2, \n",
    "                                                                                      test_size = 0.25, random_state=12345)\n"
   ]
  },
  {
   "cell_type": "code",
   "execution_count": 18,
   "metadata": {},
   "outputs": [
    {
     "name": "stdout",
     "output_type": "stream",
     "text": [
      "Size of samples with features: (75000, 3) (25000, 3)\n",
      "Size of samples with target attribute: (75000,) (25000,)\n",
      "Size of samples with features: (75000, 3) (25000, 3)\n",
      "Size of samples with target attribute: (75000,) (25000,)\n",
      "Size of samples with features: (75000, 3) (25000, 3)\n",
      "Size of samples with target attribute: (75000,) (25000,)\n"
     ]
    }
   ],
   "source": [
    "# let's check the separation\n",
    "print('Size of samples with features:',features_train_0.shape, features_valid_0.shape)\n",
    "print('Size of samples with target attribute:',target_train_0.shape, target_valid_0.shape)\n",
    "print('Size of samples with features:',features_train_1.shape, features_valid_1.shape)\n",
    "print('Size of samples with target attribute:',target_train_1.shape, target_valid_1.shape)\n",
    "print('Size of samples with features:',features_train_2.shape, features_valid_2.shape)\n",
    "print('Size of samples with target attribute:',target_train_2.shape, target_valid_2.shape)"
   ]
  },
  {
   "cell_type": "markdown",
   "metadata": {},
   "source": [
    "### Coding a model for data_0, data_1, data_2"
   ]
  },
  {
   "cell_type": "code",
   "execution_count": 19,
   "metadata": {},
   "outputs": [],
   "source": [
    "# coding a LinearRegression model for data_0\n",
    "model_0 = LinearRegression()\n",
    "model_0.fit(features_train_0, target_train_0)\n",
    "predicted_valid_0 = model_0.predict(features_valid_0)\n",
    "rmse_0 = mean_squared_error(target_valid_0, predicted_valid_0) ** 0.5"
   ]
  },
  {
   "cell_type": "markdown",
   "metadata": {},
   "source": [
    "For linear models, it is important that the features have a similar order. In our case, we were lucky; the signs do not differ much in the range of values."
   ]
  },
  {
   "cell_type": "code",
   "execution_count": 20,
   "metadata": {},
   "outputs": [
    {
     "name": "stdout",
     "output_type": "stream",
     "text": [
      "Average inventory of predicted raw materials: 92.59\n",
      "RMSE: 37.58\n"
     ]
    }
   ],
   "source": [
    "print('Average inventory of predicted raw materials:', \"%.2f\" % predicted_valid_0.mean())\n",
    "print('RMSE:', \"%.2f\" % rmse_0)"
   ]
  },
  {
   "cell_type": "code",
   "execution_count": 21,
   "metadata": {},
   "outputs": [],
   "source": [
    "# coding a LinearRegression for data_1\n",
    "model_1 = LinearRegression()\n",
    "model_1.fit(features_train_1, target_train_1)\n",
    "predicted_valid_1 = model_1.predict(features_valid_1)\n",
    "rmse_1 = mean_squared_error(target_valid_1, predicted_valid_1) ** 0.5"
   ]
  },
  {
   "cell_type": "code",
   "execution_count": 22,
   "metadata": {},
   "outputs": [
    {
     "name": "stdout",
     "output_type": "stream",
     "text": [
      "Average inventory of predicted raw materials: 68.73\n",
      "RMSE: 0.89\n"
     ]
    }
   ],
   "source": [
    "print('Average inventory of predicted raw materials:', \"%.2f\" % predicted_valid_1.mean())\n",
    "print('RMSE:', \"%.2f\" % rmse_1)"
   ]
  },
  {
   "cell_type": "code",
   "execution_count": 23,
   "metadata": {},
   "outputs": [],
   "source": [
    "#  coding a LinearRegression for data_2\n",
    "model_2 = LinearRegression()\n",
    "model_2.fit(features_train_2, target_train_2)\n",
    "predicted_valid_2 = model_2.predict(features_valid_2)\n",
    "rmse_2 = mean_squared_error(target_valid_2, predicted_valid_2) ** 0.5"
   ]
  },
  {
   "cell_type": "markdown",
   "metadata": {},
   "source": [
    "<div class=\"alert alert-success\">\n",
    "<h2> Комментарий ревьюера ✔️ <a class=\"tocSkip\"> </h2>\n",
    "\n",
    "У метрики `MSE` есть встроенная возможность сразу считать rmse. Вот [здесь](https://stackoverflow.com/questions/17197492/is-there-a-library-function-for-root-mean-square-error-rmse-in-python) про это пишут"
   ]
  },
  {
   "cell_type": "code",
   "execution_count": 24,
   "metadata": {},
   "outputs": [
    {
     "name": "stdout",
     "output_type": "stream",
     "text": [
      "Average inventory of predicted raw materials: 94.97\n",
      "RMSE: 40.03\n"
     ]
    }
   ],
   "source": [
    "print('Average inventory of predicted raw materials:', \"%.2f\" % predicted_valid_2.mean())\n",
    "print('RMSE:', \"%.2f\" % rmse_2)"
   ]
  },
  {
   "cell_type": "markdown",
   "metadata": {},
   "source": [
    "### Analysis of the results obtained"
   ]
  },
  {
   "cell_type": "code",
   "execution_count": 25,
   "metadata": {},
   "outputs": [
    {
     "data": {
      "text/html": [
       "<div>\n",
       "<style scoped>\n",
       "    .dataframe tbody tr th:only-of-type {\n",
       "        vertical-align: middle;\n",
       "    }\n",
       "\n",
       "    .dataframe tbody tr th {\n",
       "        vertical-align: top;\n",
       "    }\n",
       "\n",
       "    .dataframe thead th {\n",
       "        text-align: right;\n",
       "    }\n",
       "</style>\n",
       "<table border=\"1\" class=\"dataframe\">\n",
       "  <thead>\n",
       "    <tr style=\"text-align: right;\">\n",
       "      <th></th>\n",
       "      <th>data_0</th>\n",
       "      <th>data_1</th>\n",
       "      <th>data_2</th>\n",
       "    </tr>\n",
       "  </thead>\n",
       "  <tbody>\n",
       "    <tr>\n",
       "      <th>Average inventory of predicted raw materials</th>\n",
       "      <td>92.592568</td>\n",
       "      <td>68.728547</td>\n",
       "      <td>94.965046</td>\n",
       "    </tr>\n",
       "    <tr>\n",
       "      <th>RMSE</th>\n",
       "      <td>37.579422</td>\n",
       "      <td>0.893099</td>\n",
       "      <td>40.029709</td>\n",
       "    </tr>\n",
       "  </tbody>\n",
       "</table>\n",
       "</div>"
      ],
      "text/plain": [
       "                                                 data_0     data_1     data_2\n",
       "Average inventory of predicted raw materials  92.592568  68.728547  94.965046\n",
       "RMSE                                          37.579422   0.893099  40.029709"
      ]
     },
     "metadata": {},
     "output_type": "display_data"
    }
   ],
   "source": [
    "# display the results on the screen\n",
    "# let's form the data into a table\n",
    "table = pd.DataFrame(index = ['Average inventory of predicted raw materials', 'RMSE'],\n",
    "                     columns = ['data_0', 'data_1', 'data_2'])\n",
    "table['data_0'] = predicted_valid_0.mean(), rmse_0\n",
    "table['data_1'] = predicted_valid_1.mean(), rmse_1\n",
    "table['data_2'] = predicted_valid_2.mean(), rmse_2\n",
    "\n",
    "display(table)"
   ]
  },
  {
   "cell_type": "markdown",
   "metadata": {},
   "source": [
    "Regions 0 and 2 have a high average stock of predicted raw materials, while the root mean square errors in these regions also have a high value, which means that the model cannot accurately predict the size of the stock of raw materials in these regions. Region 1 has a low level of rmse (tends to zero), the average stock of predicted raw materials is 68.73. rmse tending to zero is a very good result; indicators 37 and 40 - low results of the model, taking into account that our target indicator data varies from 0 to 190 thousand barrels."
   ]
  },
  {
   "cell_type": "markdown",
   "metadata": {},
   "source": [
    "## Preparation for profit calculation"
   ]
  },
  {
   "cell_type": "markdown",
   "metadata": {},
   "source": [
    "### Let's prepare key indicators"
   ]
  },
  {
   "cell_type": "code",
   "execution_count": 26,
   "metadata": {},
   "outputs": [],
   "source": [
    "bu = 10000000 # budget for well development in the region, thousand rubles\n",
    "inc_per_unit = 450 # income from each unit of product, thousand rubles.\n",
    "product_mean_0 = data_0['product'].mean() # average stock of raw materials region with data_0\n",
    "product_mean_1 = data_1['product'].mean() # average stock of raw materials region with data_1\n",
    "product_mean_2 = data_2['product'].mean() # average stock of raw materials region with data_2\n",
    "bu_1_point = bu/200 # budget for the development of 1 well, thousand rubles.\n",
    "Count_Best = 200 # number of best wells\n",
    "Count_Point = 500 # number of points used for reconnaissance\n"
   ]
  },
  {
   "cell_type": "code",
   "execution_count": 27,
   "metadata": {},
   "outputs": [
    {
     "name": "stdout",
     "output_type": "stream",
     "text": [
      "Stock of raw materials for data_0: 92.50000000000001\n",
      "Stock of raw materials for data_1: 68.82500000000002\n",
      "Stock of raw materials for data_2: 95.00000000000004\n",
      "Budget 1 well: 50000.0\n"
     ]
    }
   ],
   "source": [
    "# let's look at raw material reserves, thousand barrels\n",
    "print('Stock of raw materials for data_0:', product_mean_0)\n",
    "print('Stock of raw materials for data_1:', product_mean_1)\n",
    "print('Stock of raw materials for data_2:', product_mean_2)\n",
    "print('Budget 1 well:', bu_1_point)"
   ]
  },
  {
   "cell_type": "markdown",
   "metadata": {},
   "source": [
    "### Calculation of a sufficient volume of raw materials for break-even well development, thousand barrels"
   ]
  },
  {
   "cell_type": "code",
   "execution_count": 28,
   "metadata": {},
   "outputs": [
    {
     "name": "stdout",
     "output_type": "stream",
     "text": [
      "Sufficient volume of raw materials: 111.11 thousand barrels\n"
     ]
    }
   ],
   "source": [
    "product_1_point = bu_1_point / inc_per_unit \n",
    "print('Sufficient volume of raw materials:', \"%.2f\" % product_1_point, 'thousand barrels')"
   ]
  },
  {
   "cell_type": "markdown",
   "metadata": {},
   "source": [
    "### Let's compare the sufficient volume with the average reserve of each region"
   ]
  },
  {
   "cell_type": "code",
   "execution_count": 29,
   "metadata": {},
   "outputs": [
    {
     "data": {
      "text/html": [
       "<div>\n",
       "<style scoped>\n",
       "    .dataframe tbody tr th:only-of-type {\n",
       "        vertical-align: middle;\n",
       "    }\n",
       "\n",
       "    .dataframe tbody tr th {\n",
       "        vertical-align: top;\n",
       "    }\n",
       "\n",
       "    .dataframe thead th {\n",
       "        text-align: right;\n",
       "    }\n",
       "</style>\n",
       "<table border=\"1\" class=\"dataframe\">\n",
       "  <thead>\n",
       "    <tr style=\"text-align: right;\">\n",
       "      <th></th>\n",
       "      <th>predicted_mean</th>\n",
       "      <th>product_mean</th>\n",
       "    </tr>\n",
       "  </thead>\n",
       "  <tbody>\n",
       "    <tr>\n",
       "      <th>data_0</th>\n",
       "      <td>92.592568</td>\n",
       "      <td>92.500</td>\n",
       "    </tr>\n",
       "    <tr>\n",
       "      <th>data_1</th>\n",
       "      <td>68.728547</td>\n",
       "      <td>68.825</td>\n",
       "    </tr>\n",
       "    <tr>\n",
       "      <th>data_2</th>\n",
       "      <td>94.965046</td>\n",
       "      <td>95.000</td>\n",
       "    </tr>\n",
       "  </tbody>\n",
       "</table>\n",
       "</div>"
      ],
      "text/plain": [
       "        predicted_mean  product_mean\n",
       "data_0       92.592568        92.500\n",
       "data_1       68.728547        68.825\n",
       "data_2       94.965046        95.000"
      ]
     },
     "metadata": {},
     "output_type": "display_data"
    }
   ],
   "source": [
    "# let's display the average predicted volume and average raw material reserves, thousand barrels\n",
    "table_1 = pd.DataFrame(index = ['data_0', 'data_1', 'data_2'], columns = ['predicted_mean', 'product_mean'])\n",
    "table_1['predicted_mean'] = predicted_valid_0.mean(), predicted_valid_1.mean(), predicted_valid_2.mean()\n",
    "table_1['product_mean'] = product_mean_0, product_mean_1, product_mean_2\n",
    "display(table_1)"
   ]
  },
  {
   "cell_type": "markdown",
   "metadata": {},
   "source": [
    "The average level of predicted reserves and the average level of reserves are not sufficient in any region, since the sufficient volume of raw materials is 111 thousand barrels."
   ]
  },
  {
   "cell_type": "markdown",
   "metadata": {},
   "source": [
    "## Calculation of profits and risks"
   ]
  },
  {
   "cell_type": "markdown",
   "metadata": {},
   "source": [
    "### Function for calculating the profit of the 200 best wells for each region"
   ]
  },
  {
   "cell_type": "code",
   "execution_count": 30,
   "metadata": {},
   "outputs": [
    {
     "data": {
      "text/plain": [
       "array([ 95.89495185,  77.57258261,  77.89263965, ...,  61.50983303,\n",
       "       118.18039721, 118.16939229])"
      ]
     },
     "execution_count": 30,
     "metadata": {},
     "output_type": "execute_result"
    }
   ],
   "source": [
    "# select the 200 best predictions for data_0\n",
    "predicted_valid_0"
   ]
  },
  {
   "cell_type": "code",
   "execution_count": 31,
   "metadata": {},
   "outputs": [
    {
     "data": {
      "text/plain": [
       "93073    180.180713\n",
       "46784    176.252213\n",
       "78948    175.850623\n",
       "43388    175.658429\n",
       "6496     173.299686\n",
       "            ...    \n",
       "30488    148.507064\n",
       "98799    148.481767\n",
       "53840    148.476498\n",
       "4638     148.436761\n",
       "75908    148.365941\n",
       "Length: 200, dtype: float64"
      ]
     },
     "metadata": {},
     "output_type": "display_data"
    }
   ],
   "source": [
    "pred_sorted_0 = pd.Series(predicted_valid_0, index=target_valid_0.index).sort_values(ascending=False)\n",
    "pred_200_0 = pred_sorted_0[:200]\n",
    "display(pred_200_0)"
   ]
  },
  {
   "cell_type": "code",
   "execution_count": 32,
   "metadata": {},
   "outputs": [
    {
     "name": "stdout",
     "output_type": "stream",
     "text": [
      "31102.33\n"
     ]
    }
   ],
   "source": [
    "# amount of predicted stock according to data_0\n",
    "pred_200_0_sum = pred_200_0.sum()\n",
    "print(\"%.2f\" % pred_200_0_sum)"
   ]
  },
  {
   "cell_type": "code",
   "execution_count": 33,
   "metadata": {},
   "outputs": [
    {
     "name": "stdout",
     "output_type": "stream",
     "text": [
      "3996048.88\n"
     ]
    }
   ],
   "source": [
    "# profit for predicted stock data_0\n",
    "profit_pred_200_0 = pred_200_0_sum * inc_per_unit - bu\n",
    "print(\"%.2f\" % profit_pred_200_0)"
   ]
  },
  {
   "cell_type": "code",
   "execution_count": 34,
   "metadata": {},
   "outputs": [],
   "source": [
    "# let's transfer all calculations to the function\n",
    "def profit (predicted, count):\n",
    "    pred_sorted = pd.Series(predicted).sort_values(ascending=False)\n",
    "    pred_200 = pred_sorted[:count]\n",
    "    pred_200_sum = pred_200.sum()\n",
    "    profit_pred_200 = pred_200_sum * inc_per_unit - bu\n",
    "    print('Amount of predicted reserves for 200 wells, thousand rubles.:', \"%.2f\" % pred_200_sum)\n",
    "    print('Profit from predicted reserves of 200 wells, thousand barrels:', \"%.2f\" % profit_pred_200)"
   ]
  },
  {
   "cell_type": "markdown",
   "metadata": {},
   "source": [
    "<div class=\"alert alert-warning\">\n",
    "<h2> Комментарий ревьюера ⚠️ <a class=\"tocSkip\"> </h2>\n",
    "\n",
    "Если здесь ты работаешь только с прогнозными значениями, то тогда для чего присваивать им индексы от реальных данных?"
   ]
  },
  {
   "cell_type": "markdown",
   "metadata": {},
   "source": [
    "<div class=\"alert alert-info\">\n",
    "    \n",
    "<span style = 'color: blue'> **Комментарий студента** </span>\n",
    "\n",
    "<span style = 'color: blue'> Ты можешь, пожалуйста, мне написать пример, чтобы я до конца разобралась в этой теме? </span>\n",
    "\n",
    "</div> "
   ]
  },
  {
   "cell_type": "markdown",
   "metadata": {},
   "source": [
    "<div class=\"alert alert-success\">\n",
    "<h2> Комментарий ревьюера v2 ✔️ <a class=\"tocSkip\"> </h2>\n",
    "\n",
    "Здесь нам не важно, какие будут у предикта индексы, поэтому таргет можно убрать, т.е так"
   ]
  },
  {
   "cell_type": "markdown",
   "metadata": {},
   "source": [
    "def profit(predicted, count):\n",
    "    \n",
    "    pred_200_sum = pd.Series(predicted).sort_values(ascending=False)[:count].sum()\n",
    "    profit_pred_200 = pred_200_sum * inc_per_unit - bu\n",
    "    \n",
    "    print('Сумма предсказанного запаса 200 скважин, тыс. руб.:', \"%.2f\" % pred_200_sum)\n",
    "    print('Прибыль предсказанного запаса 200 скважин, тыс. баррелей:', \"%.2f\" % profit_pred_200)"
   ]
  },
  {
   "cell_type": "markdown",
   "metadata": {},
   "source": [
    "### Profit from 200 wells for data_0, data_1, data_2, thousand rubles."
   ]
  },
  {
   "cell_type": "code",
   "execution_count": 35,
   "metadata": {},
   "outputs": [
    {
     "name": "stdout",
     "output_type": "stream",
     "text": [
      "Amount of predicted reserves for 200 wells, thousand rubles.: 31102.33\n",
      "Profit from predicted reserves of 200 wells, thousand barrels: 3996048.88\n",
      "None\n"
     ]
    }
   ],
   "source": [
    "# profit 200 wells data_0\n",
    "print(profit (predicted_valid_0, Count_Best))"
   ]
  },
  {
   "cell_type": "code",
   "execution_count": 36,
   "metadata": {},
   "outputs": [
    {
     "name": "stdout",
     "output_type": "stream",
     "text": [
      "Amount of predicted reserves for 200 wells, thousand rubles.: 27746.03\n",
      "Profit from predicted reserves of 200 wells, thousand barrels: 2485712.05\n",
      "None\n"
     ]
    }
   ],
   "source": [
    "# profit 200 wells data_1\n",
    "print(profit (predicted_valid_1, Count_Best))"
   ]
  },
  {
   "cell_type": "code",
   "execution_count": 37,
   "metadata": {},
   "outputs": [
    {
     "name": "stdout",
     "output_type": "stream",
     "text": [
      "Amount of predicted reserves for 200 wells, thousand rubles.: 29603.90\n",
      "Profit from predicted reserves of 200 wells, thousand barrels: 3321754.40\n",
      "None\n"
     ]
    }
   ],
   "source": [
    "# profit 200 wells data_2\n",
    "print(profit (predicted_valid_2, Count_Best))"
   ]
  },
  {
   "cell_type": "markdown",
   "metadata": {},
   "source": [
    "There are 200 wells in all three districts that will generate gross profit. The region with data_0 shows the highest profit. But at the same time, we also remember that the highest forecasting accuracy of the model is in the region with data_1."
   ]
  },
  {
   "cell_type": "markdown",
   "metadata": {},
   "source": [
    "### Bootstrap Profit and Risk Calculation"
   ]
  },
  {
   "cell_type": "markdown",
   "metadata": {},
   "source": [
    "#### Function for calculating risks"
   ]
  },
  {
   "cell_type": "code",
   "execution_count": 38,
   "metadata": {},
   "outputs": [],
   "source": [
    "def profit_2(predicted,target,count):\n",
    "    probs_sorted = pd.Series(predicted).sort_values(ascending=False)\n",
    "    selected = target[probs_sorted.index][:count]\n",
    "    revenue = selected.sum() * inc_per_unit\n",
    "    return revenue - bu"
   ]
  },
  {
   "cell_type": "code",
   "execution_count": 39,
   "metadata": {},
   "outputs": [],
   "source": [
    "def bootstrap_1000(target,predicted):\n",
    "    values = []\n",
    "    count=0\n",
    "    state = np.random.RandomState(12345)\n",
    "    predict_df = pd.Series(predicted, index=target.index)\n",
    "    \n",
    "    for i in range(1000):\n",
    "        target_subsample = target.sample(n=Count_Point,replace=True, random_state=state)\n",
    "  \n",
    "        probs_subsample = predict_df[target_subsample.index]\n",
    "        values.append(profit_2(probs_subsample,target_subsample, Count_Best))  \n",
    "    for i in values:\n",
    "        if i < 0:\n",
    "            count +=1\n",
    "            \n",
    "    values = pd.Series(values)\n",
    "    mean = values.mean()\n",
    "    \n",
    "       \n",
    "    lower = values.quantile(0.025)\n",
    "    hight = values.quantile(0.975)\n",
    "    \n",
    "    print('Average profit, thousand rubles.:', \"%.2f\" % mean)\n",
    "    print('With a 95% probability, the profit in this region will be, thousand rubles. from:', \"%.2f\" % lower, 'to: ' \"%.2f\" % hight)\n",
    "    print ('The percentage probability of loss in this region will be, %:', \"%.2f\" % (count/10))"
   ]
  },
  {
   "cell_type": "markdown",
   "metadata": {},
   "source": [
    "#### Calculation of gains and risks for regions with data_0, data_1, data_2"
   ]
  },
  {
   "cell_type": "code",
   "execution_count": 40,
   "metadata": {},
   "outputs": [
    {
     "name": "stdout",
     "output_type": "stream",
     "text": [
      "Average profit, thousand rubles.: 425938.53\n",
      "With a 95% probability, the profit in this region will be, thousand rubles. from: -102090.09 to: 947976.35\n",
      "The percentage probability of loss in this region will be, %: 6.00\n"
     ]
    }
   ],
   "source": [
    "# calculation of profits and risks for data_0\n",
    "bootstrap_1000(target_valid_0,predicted_valid_0)"
   ]
  },
  {
   "cell_type": "code",
   "execution_count": 41,
   "metadata": {},
   "outputs": [
    {
     "name": "stdout",
     "output_type": "stream",
     "text": [
      "Average profit, thousand rubles.: 515222.77\n",
      "With a 95% probability, the profit in this region will be, thousand rubles. from: 68873.23 to: 931547.59\n",
      "The percentage probability of loss in this region will be, %: 1.00\n"
     ]
    }
   ],
   "source": [
    "# calculation of profits and risks for data_1\n",
    "bootstrap_1000(target_valid_1,predicted_valid_1)"
   ]
  },
  {
   "cell_type": "markdown",
   "metadata": {},
   "source": [
    "<div class=\"alert alert-success\">\n",
    "<h2> Комментарий ревьюера ✔️ <a class=\"tocSkip\"> </h2>\n",
    "\n",
    "Я бы еще добавил отрисовку гистограмм распределений. На графики можно  еще вынести вертикальные динии для средних и доверительного интервала. Я бы использовал для этого [axvline](https://stackoverflow.com/questions/24988448/how-to-draw-vertical-lines-on-a-given-plot)"
   ]
  },
  {
   "cell_type": "code",
   "execution_count": 42,
   "metadata": {},
   "outputs": [
    {
     "name": "stdout",
     "output_type": "stream",
     "text": [
      "Average profit, thousand rubles.: 435008.36\n",
      "With a 95% probability, the profit in this region will be, thousand rubles. from: -128880.55 to: 969706.95\n",
      "The percentage probability of loss in this region will be, %: 6.40\n"
     ]
    }
   ],
   "source": [
    "# calculation of profits and risks for data_2\n",
    "bootstrap_1000(target_valid_2,predicted_valid_2)"
   ]
  },
  {
   "cell_type": "markdown",
   "metadata": {},
   "source": [
    "Based on calculations, the most promising region is with data_1, since the profit with a 95% probability, we can assume that the profit from the 200 best wells (with the largest predicted reserve) will be from 69 thousand rubles. up to 931 thousand rubles, while regions with data_0 and data_2 give results from - 102 thousand rubles. and -128t.r. up to 931t.r. and 970 tr. respectively. At the same time, the probability of losses in the region with data_1 is 1%, in the other two regions it is 6% each."
   ]
  },
  {
   "cell_type": "markdown",
   "metadata": {},
   "source": [
    "## Conclusion"
   ]
  },
  {
   "cell_type": "markdown",
   "metadata": {},
   "source": [
    "## At the first stage, we established that the data of the three datasets is 100% complete, without empty cells, and has no duplicate rows. \n",
    "\n",
    "At the second stage, the linear regression model was trained and tested on training and validation samples. For this reason, all three data sets were divided in a ratio of 75:25 into training and validation samples. The following values ​​were calculated: average regional reserve and RMSE. The following was revealed: regions 0 and 2 have a high average stock of predicted raw materials, while the root-mean-square errors in these regions also have a high value, which means that the model cannot accurately predict the size of the raw material stocks in these regions. Region 1 has a low level of rmse (tends to zero), the average stock of predicted raw materials is 68.73. rmse tending to zero is a very good result; indicators 37 and 40 - low results of the model, taking into account that our target indicator data varies from 0 to 190 thousand barrels.\n",
    "\n",
    "At the third stage, we saved key indicators into variables and calculated the average sufficient supply of raw materials in the region to reach a break-even level. As a result of comparing the average indicators for the regions with the average sufficient, it was revealed that: the average level of predicted reserves and the average level of reserves are not sufficient in any region, since the sufficient volume of raw materials is 111 thousand barrels.\n",
    "\n",
    "At the fourth stage, profit and risk calculations were carried out. To do this, wells with the largest average predicted reserves of raw materials were sorted in each region. When calculating profit, we received the following results: in all three regions there are 200 wells that will generate gross profit. The region with data_0 shows the highest profit. But at the same time, we also remember that the highest forecasting accuracy of the model is in the region with data_1.\n",
    "\n",
    "We also calculated the average profit and risk of loss using the Bootstrap technique. Based on the results, the following conclusions were made: the most promising region is with data_1, since the profit with a 95% probability we can assume that the profit from the 200 best wells (with the largest predicted reserve) will be from 69 thousand rubles. up to 931 thousand rubles, while regions with data_0 and data_2 give results from - 102 thousand rubles. and -128t.r. up to 948 t.r. and 970 tr. respectively. At the same time, the probability of losses in the region with data_1 is 1%, in the other two regions it is 6% each.\n",
    "\n"
   ]
  },
  {
   "cell_type": "code",
   "execution_count": null,
   "metadata": {},
   "outputs": [],
   "source": []
  }
 ],
 "metadata": {
  "ExecuteTimeLog": [
   {
    "duration": 1585,
    "start_time": "2023-06-07T13:14:21.636Z"
   },
   {
    "duration": 1606,
    "start_time": "2023-06-07T13:15:32.867Z"
   },
   {
    "duration": 365,
    "start_time": "2023-06-07T13:16:21.027Z"
   },
   {
    "duration": 16,
    "start_time": "2023-06-07T13:16:33.050Z"
   },
   {
    "duration": 9,
    "start_time": "2023-06-07T13:17:29.373Z"
   },
   {
    "duration": 13,
    "start_time": "2023-06-07T13:17:40.356Z"
   },
   {
    "duration": 31,
    "start_time": "2023-06-07T13:17:59.511Z"
   },
   {
    "duration": 29,
    "start_time": "2023-06-07T13:19:02.915Z"
   },
   {
    "duration": 13,
    "start_time": "2023-06-07T13:19:15.573Z"
   },
   {
    "duration": 20,
    "start_time": "2023-06-07T13:19:31.400Z"
   },
   {
    "duration": 29,
    "start_time": "2023-06-07T13:19:46.701Z"
   },
   {
    "duration": 47,
    "start_time": "2023-06-08T08:19:03.357Z"
   },
   {
    "duration": 1520,
    "start_time": "2023-06-08T08:19:10.537Z"
   },
   {
    "duration": 1619,
    "start_time": "2023-06-08T08:19:12.059Z"
   },
   {
    "duration": 25,
    "start_time": "2023-06-08T08:19:13.679Z"
   },
   {
    "duration": 78,
    "start_time": "2023-06-08T08:19:13.706Z"
   },
   {
    "duration": 0,
    "start_time": "2023-06-08T08:19:13.785Z"
   },
   {
    "duration": 0,
    "start_time": "2023-06-08T08:19:13.787Z"
   },
   {
    "duration": 61,
    "start_time": "2023-06-08T08:19:54.743Z"
   },
   {
    "duration": 30,
    "start_time": "2023-06-08T08:23:35.877Z"
   },
   {
    "duration": 23,
    "start_time": "2023-06-08T08:23:57.284Z"
   },
   {
    "duration": 27,
    "start_time": "2023-06-08T08:28:54.077Z"
   },
   {
    "duration": 20,
    "start_time": "2023-06-08T08:29:32.740Z"
   },
   {
    "duration": 128,
    "start_time": "2023-06-08T08:33:07.874Z"
   },
   {
    "duration": 21,
    "start_time": "2023-06-08T09:35:58.773Z"
   },
   {
    "duration": 914,
    "start_time": "2023-06-08T09:36:16.174Z"
   },
   {
    "duration": 847,
    "start_time": "2023-06-08T09:38:18.021Z"
   },
   {
    "duration": 10,
    "start_time": "2023-06-08T09:38:31.059Z"
   },
   {
    "duration": 906,
    "start_time": "2023-06-08T09:39:22.579Z"
   },
   {
    "duration": 293,
    "start_time": "2023-06-08T09:39:35.257Z"
   },
   {
    "duration": 11,
    "start_time": "2023-06-08T09:40:43.710Z"
   },
   {
    "duration": 10,
    "start_time": "2023-06-08T09:40:51.720Z"
   },
   {
    "duration": 3,
    "start_time": "2023-06-08T09:41:18.715Z"
   },
   {
    "duration": 4,
    "start_time": "2023-06-08T09:41:20.568Z"
   },
   {
    "duration": 356,
    "start_time": "2023-06-08T09:41:20.596Z"
   },
   {
    "duration": 21,
    "start_time": "2023-06-08T09:41:20.955Z"
   },
   {
    "duration": 113,
    "start_time": "2023-06-08T09:41:20.977Z"
   },
   {
    "duration": 10,
    "start_time": "2023-06-08T09:41:21.091Z"
   },
   {
    "duration": 0,
    "start_time": "2023-06-08T09:41:21.103Z"
   },
   {
    "duration": 0,
    "start_time": "2023-06-08T09:41:21.104Z"
   },
   {
    "duration": 0,
    "start_time": "2023-06-08T09:41:21.105Z"
   },
   {
    "duration": 0,
    "start_time": "2023-06-08T09:41:21.107Z"
   },
   {
    "duration": 0,
    "start_time": "2023-06-08T09:41:21.107Z"
   },
   {
    "duration": 4822,
    "start_time": "2023-06-08T09:42:16.387Z"
   },
   {
    "duration": 4726,
    "start_time": "2023-06-08T09:46:33.270Z"
   },
   {
    "duration": 4,
    "start_time": "2023-06-08T09:46:39.944Z"
   },
   {
    "duration": 358,
    "start_time": "2023-06-08T09:46:39.950Z"
   },
   {
    "duration": 24,
    "start_time": "2023-06-08T09:46:40.310Z"
   },
   {
    "duration": 33,
    "start_time": "2023-06-08T09:46:40.335Z"
   },
   {
    "duration": 4887,
    "start_time": "2023-06-08T09:46:40.370Z"
   },
   {
    "duration": 22,
    "start_time": "2023-06-08T09:46:45.259Z"
   },
   {
    "duration": 30,
    "start_time": "2023-06-08T09:46:45.283Z"
   },
   {
    "duration": 4765,
    "start_time": "2023-06-08T09:46:45.314Z"
   },
   {
    "duration": 20,
    "start_time": "2023-06-08T09:46:50.081Z"
   },
   {
    "duration": 20,
    "start_time": "2023-06-08T09:46:50.103Z"
   },
   {
    "duration": 147,
    "start_time": "2023-06-08T09:46:50.126Z"
   },
   {
    "duration": 4822,
    "start_time": "2023-06-08T09:50:26.955Z"
   },
   {
    "duration": 4,
    "start_time": "2023-06-08T10:48:16.415Z"
   },
   {
    "duration": 4,
    "start_time": "2023-06-08T10:48:19.459Z"
   },
   {
    "duration": 353,
    "start_time": "2023-06-08T10:48:19.465Z"
   },
   {
    "duration": 21,
    "start_time": "2023-06-08T10:48:19.820Z"
   },
   {
    "duration": 25,
    "start_time": "2023-06-08T10:48:19.842Z"
   },
   {
    "duration": 4681,
    "start_time": "2023-06-08T10:48:19.869Z"
   },
   {
    "duration": 19,
    "start_time": "2023-06-08T10:48:24.552Z"
   },
   {
    "duration": 19,
    "start_time": "2023-06-08T10:48:24.573Z"
   },
   {
    "duration": 4734,
    "start_time": "2023-06-08T10:48:24.594Z"
   },
   {
    "duration": 28,
    "start_time": "2023-06-08T10:48:29.329Z"
   },
   {
    "duration": 20,
    "start_time": "2023-06-08T10:48:29.359Z"
   },
   {
    "duration": 4,
    "start_time": "2023-06-08T10:48:34.424Z"
   },
   {
    "duration": 384,
    "start_time": "2023-06-08T10:48:34.429Z"
   },
   {
    "duration": 21,
    "start_time": "2023-06-08T10:48:34.815Z"
   },
   {
    "duration": 30,
    "start_time": "2023-06-08T10:48:34.838Z"
   },
   {
    "duration": 4776,
    "start_time": "2023-06-08T10:48:34.869Z"
   },
   {
    "duration": 21,
    "start_time": "2023-06-08T10:48:39.649Z"
   },
   {
    "duration": 18,
    "start_time": "2023-06-08T10:48:39.672Z"
   },
   {
    "duration": 4727,
    "start_time": "2023-06-08T10:48:39.692Z"
   },
   {
    "duration": 31,
    "start_time": "2023-06-08T10:48:44.421Z"
   },
   {
    "duration": 23,
    "start_time": "2023-06-08T10:48:44.453Z"
   },
   {
    "duration": 4837,
    "start_time": "2023-06-08T10:48:44.477Z"
   },
   {
    "duration": 124,
    "start_time": "2023-06-08T10:48:49.316Z"
   },
   {
    "duration": 4,
    "start_time": "2023-06-08T11:02:25.027Z"
   },
   {
    "duration": 347,
    "start_time": "2023-06-08T11:02:29.275Z"
   },
   {
    "duration": 4,
    "start_time": "2023-06-08T11:03:05.614Z"
   },
   {
    "duration": 359,
    "start_time": "2023-06-08T11:03:05.623Z"
   },
   {
    "duration": 21,
    "start_time": "2023-06-08T11:03:05.984Z"
   },
   {
    "duration": 20,
    "start_time": "2023-06-08T11:03:06.006Z"
   },
   {
    "duration": 4674,
    "start_time": "2023-06-08T11:03:06.028Z"
   },
   {
    "duration": 22,
    "start_time": "2023-06-08T11:03:10.705Z"
   },
   {
    "duration": 41,
    "start_time": "2023-06-08T11:03:10.729Z"
   },
   {
    "duration": 4735,
    "start_time": "2023-06-08T11:03:10.771Z"
   },
   {
    "duration": 21,
    "start_time": "2023-06-08T11:03:15.508Z"
   },
   {
    "duration": 37,
    "start_time": "2023-06-08T11:03:15.531Z"
   },
   {
    "duration": 4849,
    "start_time": "2023-06-08T11:03:15.569Z"
   },
   {
    "duration": 141,
    "start_time": "2023-06-08T11:03:20.421Z"
   },
   {
    "duration": 3,
    "start_time": "2023-06-08T11:03:20.564Z"
   },
   {
    "duration": 644,
    "start_time": "2023-06-08T11:21:51.084Z"
   },
   {
    "duration": 509,
    "start_time": "2023-06-08T11:24:50.112Z"
   },
   {
    "duration": 529,
    "start_time": "2023-06-08T11:25:13.340Z"
   },
   {
    "duration": 504,
    "start_time": "2023-06-08T11:25:27.460Z"
   },
   {
    "duration": 560,
    "start_time": "2023-06-08T11:25:44.879Z"
   },
   {
    "duration": 543,
    "start_time": "2023-06-08T11:28:57.901Z"
   },
   {
    "duration": 524,
    "start_time": "2023-06-08T11:29:46.560Z"
   },
   {
    "duration": 5,
    "start_time": "2023-06-08T13:10:54.183Z"
   },
   {
    "duration": 416,
    "start_time": "2023-06-08T13:10:54.191Z"
   },
   {
    "duration": 23,
    "start_time": "2023-06-08T13:10:54.610Z"
   },
   {
    "duration": 30,
    "start_time": "2023-06-08T13:10:54.635Z"
   },
   {
    "duration": 4690,
    "start_time": "2023-06-08T13:10:54.668Z"
   },
   {
    "duration": 21,
    "start_time": "2023-06-08T13:10:59.360Z"
   },
   {
    "duration": 38,
    "start_time": "2023-06-08T13:10:59.383Z"
   },
   {
    "duration": 4902,
    "start_time": "2023-06-08T13:10:59.423Z"
   },
   {
    "duration": 29,
    "start_time": "2023-06-08T13:11:04.326Z"
   },
   {
    "duration": 20,
    "start_time": "2023-06-08T13:11:04.357Z"
   },
   {
    "duration": 4735,
    "start_time": "2023-06-08T13:11:04.379Z"
   },
   {
    "duration": 127,
    "start_time": "2023-06-08T13:11:09.116Z"
   },
   {
    "duration": 557,
    "start_time": "2023-06-08T13:11:09.245Z"
   },
   {
    "duration": 497,
    "start_time": "2023-06-08T13:11:09.804Z"
   },
   {
    "duration": 565,
    "start_time": "2023-06-08T13:11:10.303Z"
   },
   {
    "duration": 3,
    "start_time": "2023-06-08T13:11:10.869Z"
   },
   {
    "duration": 53,
    "start_time": "2023-06-08T13:41:22.847Z"
   },
   {
    "duration": 8,
    "start_time": "2023-06-08T13:41:38.826Z"
   },
   {
    "duration": 1562,
    "start_time": "2023-06-08T13:41:53.192Z"
   },
   {
    "duration": 4,
    "start_time": "2023-06-08T13:41:55.733Z"
   },
   {
    "duration": 780,
    "start_time": "2023-06-08T13:41:55.741Z"
   },
   {
    "duration": 29,
    "start_time": "2023-06-08T13:41:56.523Z"
   },
   {
    "duration": 62,
    "start_time": "2023-06-08T13:41:56.554Z"
   },
   {
    "duration": 4688,
    "start_time": "2023-06-08T13:41:56.618Z"
   },
   {
    "duration": 37,
    "start_time": "2023-06-08T13:42:01.309Z"
   },
   {
    "duration": 38,
    "start_time": "2023-06-08T13:42:01.348Z"
   },
   {
    "duration": 4661,
    "start_time": "2023-06-08T13:42:01.388Z"
   },
   {
    "duration": 25,
    "start_time": "2023-06-08T13:42:06.051Z"
   },
   {
    "duration": 24,
    "start_time": "2023-06-08T13:42:06.078Z"
   },
   {
    "duration": 4946,
    "start_time": "2023-06-08T13:42:06.104Z"
   },
   {
    "duration": 134,
    "start_time": "2023-06-08T13:42:11.052Z"
   },
   {
    "duration": 565,
    "start_time": "2023-06-08T13:42:11.188Z"
   },
   {
    "duration": 517,
    "start_time": "2023-06-08T13:42:11.755Z"
   },
   {
    "duration": 674,
    "start_time": "2023-06-08T13:42:12.275Z"
   },
   {
    "duration": 201,
    "start_time": "2023-06-08T13:42:12.951Z"
   },
   {
    "duration": 0,
    "start_time": "2023-06-08T13:42:13.154Z"
   },
   {
    "duration": 0,
    "start_time": "2023-06-08T13:42:13.156Z"
   },
   {
    "duration": 8,
    "start_time": "2023-06-08T13:42:42.357Z"
   },
   {
    "duration": 33,
    "start_time": "2023-06-08T13:42:45.310Z"
   },
   {
    "duration": 6,
    "start_time": "2023-06-08T13:42:46.723Z"
   },
   {
    "duration": 2244,
    "start_time": "2023-06-09T13:57:35.797Z"
   },
   {
    "duration": 1033,
    "start_time": "2023-06-09T13:57:38.047Z"
   },
   {
    "duration": 29,
    "start_time": "2023-06-09T13:57:39.082Z"
   },
   {
    "duration": 93,
    "start_time": "2023-06-09T13:57:39.114Z"
   },
   {
    "duration": 5763,
    "start_time": "2023-06-09T13:57:39.209Z"
   },
   {
    "duration": 37,
    "start_time": "2023-06-09T13:57:44.979Z"
   },
   {
    "duration": 101,
    "start_time": "2023-06-09T13:57:45.018Z"
   },
   {
    "duration": 5371,
    "start_time": "2023-06-09T13:57:45.121Z"
   },
   {
    "duration": 24,
    "start_time": "2023-06-09T13:57:50.494Z"
   },
   {
    "duration": 46,
    "start_time": "2023-06-09T13:57:50.521Z"
   },
   {
    "duration": 5839,
    "start_time": "2023-06-09T13:57:50.572Z"
   },
   {
    "duration": 167,
    "start_time": "2023-06-09T13:57:56.413Z"
   },
   {
    "duration": 643,
    "start_time": "2023-06-09T13:57:56.583Z"
   },
   {
    "duration": 632,
    "start_time": "2023-06-09T13:57:57.228Z"
   },
   {
    "duration": 624,
    "start_time": "2023-06-09T13:57:57.862Z"
   },
   {
    "duration": 10,
    "start_time": "2023-06-09T13:57:58.488Z"
   },
   {
    "duration": 57,
    "start_time": "2023-06-09T13:57:58.500Z"
   },
   {
    "duration": 10,
    "start_time": "2023-06-09T13:57:58.565Z"
   },
   {
    "duration": 4789,
    "start_time": "2023-06-09T13:57:58.577Z"
   },
   {
    "duration": 3653,
    "start_time": "2023-06-09T13:58:23.616Z"
   },
   {
    "duration": 4434,
    "start_time": "2023-06-09T13:58:50.524Z"
   },
   {
    "duration": 4185,
    "start_time": "2023-06-09T14:25:47.073Z"
   },
   {
    "duration": 4,
    "start_time": "2023-06-09T14:25:55.253Z"
   },
   {
    "duration": 5,
    "start_time": "2023-06-09T14:28:32.267Z"
   },
   {
    "duration": 7,
    "start_time": "2023-06-09T14:37:31.444Z"
   },
   {
    "duration": 11,
    "start_time": "2023-06-09T14:44:24.963Z"
   },
   {
    "duration": 3681,
    "start_time": "2023-06-09T14:44:49.768Z"
   },
   {
    "duration": 0,
    "start_time": "2023-06-09T14:44:53.452Z"
   },
   {
    "duration": 4,
    "start_time": "2023-06-09T14:46:12.717Z"
   },
   {
    "duration": 638,
    "start_time": "2023-06-09T14:46:12.728Z"
   },
   {
    "duration": 26,
    "start_time": "2023-06-09T14:46:13.368Z"
   },
   {
    "duration": 25,
    "start_time": "2023-06-09T14:46:13.396Z"
   },
   {
    "duration": 5287,
    "start_time": "2023-06-09T14:46:13.424Z"
   },
   {
    "duration": 45,
    "start_time": "2023-06-09T14:46:18.713Z"
   },
   {
    "duration": 32,
    "start_time": "2023-06-09T14:46:18.764Z"
   },
   {
    "duration": 5680,
    "start_time": "2023-06-09T14:46:18.799Z"
   },
   {
    "duration": 32,
    "start_time": "2023-06-09T14:46:24.482Z"
   },
   {
    "duration": 50,
    "start_time": "2023-06-09T14:46:24.516Z"
   },
   {
    "duration": 5517,
    "start_time": "2023-06-09T14:46:24.568Z"
   },
   {
    "duration": 198,
    "start_time": "2023-06-09T14:46:30.087Z"
   },
   {
    "duration": 674,
    "start_time": "2023-06-09T14:46:30.287Z"
   },
   {
    "duration": 808,
    "start_time": "2023-06-09T14:46:30.963Z"
   },
   {
    "duration": 683,
    "start_time": "2023-06-09T14:46:31.776Z"
   },
   {
    "duration": 15,
    "start_time": "2023-06-09T14:46:32.466Z"
   },
   {
    "duration": 167,
    "start_time": "2023-06-09T14:46:32.484Z"
   },
   {
    "duration": 13,
    "start_time": "2023-06-09T14:46:32.654Z"
   },
   {
    "duration": 4695,
    "start_time": "2023-06-09T14:46:32.670Z"
   },
   {
    "duration": 11,
    "start_time": "2023-06-09T14:46:37.367Z"
   },
   {
    "duration": 29,
    "start_time": "2023-06-09T14:49:55.146Z"
   },
   {
    "duration": 246,
    "start_time": "2023-06-09T14:50:13.139Z"
   },
   {
    "duration": 5,
    "start_time": "2023-06-09T14:50:16.238Z"
   },
   {
    "duration": 108,
    "start_time": "2023-06-09T14:52:53.779Z"
   },
   {
    "duration": 333,
    "start_time": "2023-06-09T14:53:19.746Z"
   },
   {
    "duration": 174,
    "start_time": "2023-06-09T14:53:30.061Z"
   },
   {
    "duration": 108,
    "start_time": "2023-06-09T14:58:58.733Z"
   },
   {
    "duration": 7,
    "start_time": "2023-06-09T14:59:56.014Z"
   },
   {
    "duration": 24,
    "start_time": "2023-06-09T15:11:31.275Z"
   },
   {
    "duration": 5,
    "start_time": "2023-06-09T15:11:34.528Z"
   },
   {
    "duration": 17,
    "start_time": "2023-06-09T15:11:41.566Z"
   },
   {
    "duration": 5,
    "start_time": "2023-06-09T15:11:42.812Z"
   },
   {
    "duration": 17,
    "start_time": "2023-06-09T15:11:52.001Z"
   },
   {
    "duration": 5,
    "start_time": "2023-06-09T15:11:53.264Z"
   },
   {
    "duration": 11,
    "start_time": "2023-06-09T15:12:20.393Z"
   },
   {
    "duration": 16,
    "start_time": "2023-06-09T15:12:33.911Z"
   },
   {
    "duration": 3,
    "start_time": "2023-06-09T15:12:34.430Z"
   },
   {
    "duration": 4,
    "start_time": "2023-06-09T15:13:10.119Z"
   },
   {
    "duration": 5,
    "start_time": "2023-06-09T15:13:16.724Z"
   },
   {
    "duration": 5,
    "start_time": "2023-06-09T15:13:26.232Z"
   },
   {
    "duration": 552,
    "start_time": "2023-06-09T15:25:03.749Z"
   },
   {
    "duration": 660,
    "start_time": "2023-06-09T15:25:20.994Z"
   },
   {
    "duration": 231,
    "start_time": "2023-06-09T15:25:38.772Z"
   },
   {
    "duration": 193,
    "start_time": "2023-06-09T15:26:41.169Z"
   },
   {
    "duration": 564,
    "start_time": "2023-06-09T15:27:19.959Z"
   },
   {
    "duration": 571,
    "start_time": "2023-06-09T15:30:56.787Z"
   },
   {
    "duration": 14,
    "start_time": "2023-06-09T15:31:31.993Z"
   },
   {
    "duration": 40,
    "start_time": "2023-06-09T15:31:43.084Z"
   },
   {
    "duration": 6,
    "start_time": "2023-06-09T15:31:46.582Z"
   },
   {
    "duration": 19,
    "start_time": "2023-06-09T15:31:54.783Z"
   },
   {
    "duration": 4,
    "start_time": "2023-06-09T15:31:56.106Z"
   },
   {
    "duration": 15,
    "start_time": "2023-06-09T15:33:45.241Z"
   },
   {
    "duration": 5,
    "start_time": "2023-06-09T15:34:12.183Z"
   },
   {
    "duration": 4,
    "start_time": "2023-06-09T15:35:51.117Z"
   },
   {
    "duration": 5,
    "start_time": "2023-06-09T15:36:09.722Z"
   },
   {
    "duration": 4,
    "start_time": "2023-06-09T15:37:04.569Z"
   },
   {
    "duration": 16,
    "start_time": "2023-06-09T15:37:10.134Z"
   },
   {
    "duration": 5,
    "start_time": "2023-06-09T15:37:11.001Z"
   },
   {
    "duration": 17,
    "start_time": "2023-06-09T15:37:15.493Z"
   },
   {
    "duration": 5,
    "start_time": "2023-06-09T15:37:15.926Z"
   },
   {
    "duration": 23,
    "start_time": "2023-06-09T15:37:55.186Z"
   },
   {
    "duration": 4,
    "start_time": "2023-06-09T15:37:55.748Z"
   },
   {
    "duration": 5,
    "start_time": "2023-06-09T15:38:46.897Z"
   },
   {
    "duration": 17,
    "start_time": "2023-06-09T15:38:53.768Z"
   },
   {
    "duration": 4,
    "start_time": "2023-06-09T15:38:54.600Z"
   },
   {
    "duration": 4,
    "start_time": "2023-06-09T15:39:16.609Z"
   },
   {
    "duration": 16,
    "start_time": "2023-06-09T15:40:06.921Z"
   },
   {
    "duration": 4,
    "start_time": "2023-06-09T15:40:23.229Z"
   },
   {
    "duration": 196,
    "start_time": "2023-06-09T15:50:48.087Z"
   },
   {
    "duration": 186,
    "start_time": "2023-06-09T15:51:04.741Z"
   },
   {
    "duration": 219,
    "start_time": "2023-06-09T15:51:16.821Z"
   },
   {
    "duration": 86,
    "start_time": "2023-06-09T16:08:14.338Z"
   },
   {
    "duration": 22,
    "start_time": "2023-06-09T16:08:42.731Z"
   },
   {
    "duration": 21,
    "start_time": "2023-06-09T16:09:19.599Z"
   },
   {
    "duration": 21,
    "start_time": "2023-06-09T16:09:53.155Z"
   },
   {
    "duration": 1668,
    "start_time": "2023-06-11T06:51:58.702Z"
   },
   {
    "duration": 1811,
    "start_time": "2023-06-11T06:52:00.372Z"
   },
   {
    "duration": 30,
    "start_time": "2023-06-11T06:52:02.185Z"
   },
   {
    "duration": 105,
    "start_time": "2023-06-11T06:52:02.218Z"
   },
   {
    "duration": 4981,
    "start_time": "2023-06-11T06:52:02.325Z"
   },
   {
    "duration": 24,
    "start_time": "2023-06-11T06:52:07.307Z"
   },
   {
    "duration": 50,
    "start_time": "2023-06-11T06:52:07.334Z"
   },
   {
    "duration": 5017,
    "start_time": "2023-06-11T06:52:07.386Z"
   },
   {
    "duration": 35,
    "start_time": "2023-06-11T06:52:12.404Z"
   },
   {
    "duration": 36,
    "start_time": "2023-06-11T06:52:12.459Z"
   },
   {
    "duration": 5474,
    "start_time": "2023-06-11T06:52:12.497Z"
   },
   {
    "duration": 173,
    "start_time": "2023-06-11T06:52:17.977Z"
   },
   {
    "duration": 783,
    "start_time": "2023-06-11T06:52:18.152Z"
   },
   {
    "duration": 814,
    "start_time": "2023-06-11T06:52:18.937Z"
   },
   {
    "duration": 761,
    "start_time": "2023-06-11T06:52:19.762Z"
   },
   {
    "duration": 20,
    "start_time": "2023-06-11T06:52:20.524Z"
   },
   {
    "duration": 51,
    "start_time": "2023-06-11T06:52:20.546Z"
   },
   {
    "duration": 8,
    "start_time": "2023-06-11T06:52:20.600Z"
   },
   {
    "duration": 192,
    "start_time": "2023-06-11T06:52:20.610Z"
   },
   {
    "duration": 8,
    "start_time": "2023-06-11T06:52:20.856Z"
   },
   {
    "duration": 98,
    "start_time": "2023-06-11T06:52:20.868Z"
   },
   {
    "duration": 89,
    "start_time": "2023-06-11T06:52:20.968Z"
   },
   {
    "duration": 30,
    "start_time": "2023-06-11T06:52:21.061Z"
   },
   {
    "duration": 87,
    "start_time": "2023-06-11T06:52:21.093Z"
   },
   {
    "duration": 231,
    "start_time": "2023-06-11T06:52:21.183Z"
   },
   {
    "duration": 15,
    "start_time": "2023-06-11T06:53:13.411Z"
   },
   {
    "duration": 1990,
    "start_time": "2023-06-11T09:18:15.615Z"
   },
   {
    "duration": 960,
    "start_time": "2023-06-11T09:18:17.608Z"
   },
   {
    "duration": 31,
    "start_time": "2023-06-11T09:18:18.570Z"
   },
   {
    "duration": 78,
    "start_time": "2023-06-11T09:18:18.603Z"
   },
   {
    "duration": 5255,
    "start_time": "2023-06-11T09:18:18.683Z"
   },
   {
    "duration": 34,
    "start_time": "2023-06-11T09:18:23.940Z"
   },
   {
    "duration": 49,
    "start_time": "2023-06-11T09:18:23.976Z"
   },
   {
    "duration": 4911,
    "start_time": "2023-06-11T09:18:24.027Z"
   },
   {
    "duration": 35,
    "start_time": "2023-06-11T09:18:28.946Z"
   },
   {
    "duration": 31,
    "start_time": "2023-06-11T09:18:28.985Z"
   },
   {
    "duration": 5589,
    "start_time": "2023-06-11T09:18:29.046Z"
   },
   {
    "duration": 159,
    "start_time": "2023-06-11T09:18:34.637Z"
   },
   {
    "duration": 616,
    "start_time": "2023-06-11T09:18:34.799Z"
   },
   {
    "duration": 621,
    "start_time": "2023-06-11T09:18:35.417Z"
   },
   {
    "duration": 608,
    "start_time": "2023-06-11T09:18:36.046Z"
   },
   {
    "duration": 20,
    "start_time": "2023-06-11T09:18:36.656Z"
   },
   {
    "duration": 39,
    "start_time": "2023-06-11T09:18:36.678Z"
   },
   {
    "duration": 27,
    "start_time": "2023-06-11T09:18:36.719Z"
   },
   {
    "duration": 116,
    "start_time": "2023-06-11T09:18:36.749Z"
   },
   {
    "duration": 5,
    "start_time": "2023-06-11T09:18:36.948Z"
   },
   {
    "duration": 103,
    "start_time": "2023-06-11T09:18:36.956Z"
   },
   {
    "duration": 7,
    "start_time": "2023-06-11T09:18:37.147Z"
   },
   {
    "duration": 90,
    "start_time": "2023-06-11T09:18:37.156Z"
   },
   {
    "duration": 13,
    "start_time": "2023-06-11T09:18:37.248Z"
   },
   {
    "duration": 220,
    "start_time": "2023-06-11T09:18:37.347Z"
   },
   {
    "duration": 7,
    "start_time": "2023-06-11T09:19:46.516Z"
   },
   {
    "duration": 14,
    "start_time": "2023-06-11T09:20:10.971Z"
   },
   {
    "duration": 15,
    "start_time": "2023-06-11T09:26:08.320Z"
   },
   {
    "duration": 41,
    "start_time": "2023-06-11T09:27:25.997Z"
   },
   {
    "duration": 42,
    "start_time": "2023-06-11T09:30:00.201Z"
   },
   {
    "duration": 15,
    "start_time": "2023-06-11T09:31:13.946Z"
   },
   {
    "duration": 48,
    "start_time": "2023-06-11T09:31:22.365Z"
   },
   {
    "duration": 7,
    "start_time": "2023-06-11T11:17:13.671Z"
   },
   {
    "duration": 5,
    "start_time": "2023-06-11T11:18:57.242Z"
   },
   {
    "duration": 12,
    "start_time": "2023-06-11T11:22:38.672Z"
   },
   {
    "duration": 5,
    "start_time": "2023-06-11T11:22:45.319Z"
   },
   {
    "duration": 12,
    "start_time": "2023-06-11T11:22:45.763Z"
   },
   {
    "duration": 5,
    "start_time": "2023-06-11T11:23:55.938Z"
   },
   {
    "duration": 4,
    "start_time": "2023-06-11T11:35:05.867Z"
   },
   {
    "duration": 6,
    "start_time": "2023-06-11T11:36:03.761Z"
   },
   {
    "duration": 14,
    "start_time": "2023-06-11T12:00:47.776Z"
   },
   {
    "duration": 11,
    "start_time": "2023-06-11T12:00:58.705Z"
   },
   {
    "duration": 8,
    "start_time": "2023-06-11T12:43:11.804Z"
   },
   {
    "duration": 8,
    "start_time": "2023-06-11T12:43:22.395Z"
   },
   {
    "duration": 11,
    "start_time": "2023-06-11T12:49:14.761Z"
   },
   {
    "duration": 11,
    "start_time": "2023-06-11T12:49:31.568Z"
   },
   {
    "duration": 3,
    "start_time": "2023-06-11T12:52:04.676Z"
   },
   {
    "duration": 4,
    "start_time": "2023-06-11T12:52:51.807Z"
   },
   {
    "duration": 4,
    "start_time": "2023-06-11T12:54:54.700Z"
   },
   {
    "duration": 47,
    "start_time": "2023-06-12T07:29:46.294Z"
   },
   {
    "duration": 6,
    "start_time": "2023-06-12T07:29:49.084Z"
   },
   {
    "duration": 1542,
    "start_time": "2023-06-12T07:29:51.875Z"
   },
   {
    "duration": 1578,
    "start_time": "2023-06-12T07:29:53.419Z"
   },
   {
    "duration": 26,
    "start_time": "2023-06-12T07:29:54.999Z"
   },
   {
    "duration": 65,
    "start_time": "2023-06-12T07:29:55.027Z"
   },
   {
    "duration": 4525,
    "start_time": "2023-06-12T07:29:55.094Z"
   },
   {
    "duration": 47,
    "start_time": "2023-06-12T07:29:59.621Z"
   },
   {
    "duration": 21,
    "start_time": "2023-06-12T07:29:59.669Z"
   },
   {
    "duration": 21,
    "start_time": "2023-06-12T07:29:59.692Z"
   },
   {
    "duration": 4550,
    "start_time": "2023-06-12T07:29:59.715Z"
   },
   {
    "duration": 36,
    "start_time": "2023-06-12T07:30:04.268Z"
   },
   {
    "duration": 21,
    "start_time": "2023-06-12T07:30:04.306Z"
   },
   {
    "duration": 20,
    "start_time": "2023-06-12T07:30:04.357Z"
   },
   {
    "duration": 4780,
    "start_time": "2023-06-12T07:30:04.379Z"
   },
   {
    "duration": 37,
    "start_time": "2023-06-12T07:30:09.161Z"
   },
   {
    "duration": 142,
    "start_time": "2023-06-12T07:30:09.200Z"
   },
   {
    "duration": 558,
    "start_time": "2023-06-12T07:30:09.344Z"
   },
   {
    "duration": 573,
    "start_time": "2023-06-12T07:30:09.904Z"
   },
   {
    "duration": 596,
    "start_time": "2023-06-12T07:30:10.479Z"
   },
   {
    "duration": 18,
    "start_time": "2023-06-12T07:30:11.076Z"
   },
   {
    "duration": 31,
    "start_time": "2023-06-12T07:30:11.096Z"
   },
   {
    "duration": 31,
    "start_time": "2023-06-12T07:30:11.129Z"
   },
   {
    "duration": 118,
    "start_time": "2023-06-12T07:30:11.162Z"
   },
   {
    "duration": 5,
    "start_time": "2023-06-12T07:30:11.357Z"
   },
   {
    "duration": 17,
    "start_time": "2023-06-12T07:30:11.364Z"
   },
   {
    "duration": 76,
    "start_time": "2023-06-12T07:30:11.386Z"
   },
   {
    "duration": 103,
    "start_time": "2023-06-12T07:30:11.465Z"
   },
   {
    "duration": 4,
    "start_time": "2023-06-12T07:30:11.570Z"
   },
   {
    "duration": 91,
    "start_time": "2023-06-12T07:30:11.578Z"
   },
   {
    "duration": 7,
    "start_time": "2023-06-12T07:30:11.757Z"
   },
   {
    "duration": 13,
    "start_time": "2023-06-12T07:30:11.766Z"
   },
   {
    "duration": 27,
    "start_time": "2023-06-12T07:30:11.781Z"
   },
   {
    "duration": 10,
    "start_time": "2023-06-12T07:30:11.810Z"
   },
   {
    "duration": 15,
    "start_time": "2023-06-12T07:30:11.822Z"
   },
   {
    "duration": 33,
    "start_time": "2023-06-12T07:30:11.839Z"
   },
   {
    "duration": 4,
    "start_time": "2023-06-12T07:30:11.873Z"
   },
   {
    "duration": 17,
    "start_time": "2023-06-12T07:30:11.879Z"
   },
   {
    "duration": 18,
    "start_time": "2023-06-12T07:30:11.899Z"
   },
   {
    "duration": 4,
    "start_time": "2023-06-12T07:36:52.291Z"
   },
   {
    "duration": 4,
    "start_time": "2023-06-12T07:42:20.523Z"
   },
   {
    "duration": 90,
    "start_time": "2023-06-12T07:43:00.737Z"
   },
   {
    "duration": 4,
    "start_time": "2023-06-12T07:43:13.648Z"
   },
   {
    "duration": 17,
    "start_time": "2023-06-12T07:43:14.324Z"
   },
   {
    "duration": 5,
    "start_time": "2023-06-12T07:43:45.576Z"
   },
   {
    "duration": 19,
    "start_time": "2023-06-12T07:43:46.449Z"
   },
   {
    "duration": 6,
    "start_time": "2023-06-12T07:44:14.244Z"
   },
   {
    "duration": 17,
    "start_time": "2023-06-12T07:44:14.756Z"
   },
   {
    "duration": 5,
    "start_time": "2023-06-12T07:45:03.849Z"
   },
   {
    "duration": 12,
    "start_time": "2023-06-12T07:45:04.574Z"
   },
   {
    "duration": 5,
    "start_time": "2023-06-12T07:45:47.892Z"
   },
   {
    "duration": 10,
    "start_time": "2023-06-12T07:45:48.330Z"
   },
   {
    "duration": 3,
    "start_time": "2023-06-12T07:46:29.523Z"
   },
   {
    "duration": 7,
    "start_time": "2023-06-12T07:46:30.275Z"
   },
   {
    "duration": 7,
    "start_time": "2023-06-12T07:50:05.804Z"
   },
   {
    "duration": 9,
    "start_time": "2023-06-12T07:50:29.061Z"
   },
   {
    "duration": 3,
    "start_time": "2023-06-12T07:55:36.997Z"
   },
   {
    "duration": 8,
    "start_time": "2023-06-12T07:55:38.441Z"
   },
   {
    "duration": 8,
    "start_time": "2023-06-12T07:55:39.966Z"
   },
   {
    "duration": 8,
    "start_time": "2023-06-12T07:55:40.748Z"
   },
   {
    "duration": 4,
    "start_time": "2023-06-12T08:27:21.962Z"
   },
   {
    "duration": 3,
    "start_time": "2023-06-12T08:27:29.901Z"
   },
   {
    "duration": 406,
    "start_time": "2023-06-12T08:27:29.909Z"
   },
   {
    "duration": 23,
    "start_time": "2023-06-12T08:27:30.317Z"
   },
   {
    "duration": 39,
    "start_time": "2023-06-12T08:27:30.356Z"
   },
   {
    "duration": 4588,
    "start_time": "2023-06-12T08:27:30.397Z"
   },
   {
    "duration": 36,
    "start_time": "2023-06-12T08:27:34.987Z"
   },
   {
    "duration": 43,
    "start_time": "2023-06-12T08:27:35.026Z"
   },
   {
    "duration": 21,
    "start_time": "2023-06-12T08:27:35.072Z"
   },
   {
    "duration": 4961,
    "start_time": "2023-06-12T08:27:35.095Z"
   },
   {
    "duration": 37,
    "start_time": "2023-06-12T08:27:40.058Z"
   },
   {
    "duration": 35,
    "start_time": "2023-06-12T08:27:40.097Z"
   },
   {
    "duration": 45,
    "start_time": "2023-06-12T08:27:40.135Z"
   },
   {
    "duration": 4578,
    "start_time": "2023-06-12T08:27:40.182Z"
   },
   {
    "duration": 41,
    "start_time": "2023-06-12T08:27:44.762Z"
   },
   {
    "duration": 187,
    "start_time": "2023-06-12T08:27:44.808Z"
   },
   {
    "duration": 653,
    "start_time": "2023-06-12T08:27:44.997Z"
   },
   {
    "duration": 575,
    "start_time": "2023-06-12T08:27:45.657Z"
   },
   {
    "duration": 568,
    "start_time": "2023-06-12T08:27:46.234Z"
   },
   {
    "duration": 14,
    "start_time": "2023-06-12T08:27:46.803Z"
   },
   {
    "duration": 46,
    "start_time": "2023-06-12T08:27:46.820Z"
   },
   {
    "duration": 7,
    "start_time": "2023-06-12T08:27:46.868Z"
   },
   {
    "duration": 179,
    "start_time": "2023-06-12T08:27:46.876Z"
   },
   {
    "duration": 3,
    "start_time": "2023-06-12T08:27:47.058Z"
   },
   {
    "duration": 94,
    "start_time": "2023-06-12T08:27:47.063Z"
   },
   {
    "duration": 8,
    "start_time": "2023-06-12T08:27:47.159Z"
   },
   {
    "duration": 100,
    "start_time": "2023-06-12T08:27:47.172Z"
   },
   {
    "duration": 4,
    "start_time": "2023-06-12T08:27:47.274Z"
   },
   {
    "duration": 89,
    "start_time": "2023-06-12T08:27:47.280Z"
   },
   {
    "duration": 86,
    "start_time": "2023-06-12T08:27:47.372Z"
   },
   {
    "duration": 5,
    "start_time": "2023-06-12T08:27:47.461Z"
   },
   {
    "duration": 7,
    "start_time": "2023-06-12T08:27:47.468Z"
   },
   {
    "duration": 16,
    "start_time": "2023-06-12T08:27:47.477Z"
   },
   {
    "duration": 5,
    "start_time": "2023-06-12T08:27:47.495Z"
   },
   {
    "duration": 11,
    "start_time": "2023-06-12T08:27:47.502Z"
   },
   {
    "duration": 41,
    "start_time": "2023-06-12T08:27:47.516Z"
   },
   {
    "duration": 4,
    "start_time": "2023-06-12T08:27:47.560Z"
   },
   {
    "duration": 4,
    "start_time": "2023-06-12T08:27:47.566Z"
   },
   {
    "duration": 12,
    "start_time": "2023-06-12T08:27:47.572Z"
   },
   {
    "duration": 6,
    "start_time": "2023-06-12T08:27:47.585Z"
   },
   {
    "duration": 7,
    "start_time": "2023-06-12T08:27:47.593Z"
   },
   {
    "duration": 12,
    "start_time": "2023-06-12T08:27:47.601Z"
   },
   {
    "duration": 14,
    "start_time": "2023-06-12T08:50:27.135Z"
   },
   {
    "duration": 14,
    "start_time": "2023-06-12T08:51:56.100Z"
   },
   {
    "duration": 14,
    "start_time": "2023-06-12T08:59:27.149Z"
   },
   {
    "duration": 4,
    "start_time": "2023-06-12T09:01:13.333Z"
   },
   {
    "duration": 399,
    "start_time": "2023-06-12T09:01:13.339Z"
   },
   {
    "duration": 31,
    "start_time": "2023-06-12T09:01:13.739Z"
   },
   {
    "duration": 23,
    "start_time": "2023-06-12T09:01:13.773Z"
   },
   {
    "duration": 4669,
    "start_time": "2023-06-12T09:01:13.798Z"
   },
   {
    "duration": 36,
    "start_time": "2023-06-12T09:01:18.469Z"
   },
   {
    "duration": 21,
    "start_time": "2023-06-12T09:01:18.507Z"
   },
   {
    "duration": 44,
    "start_time": "2023-06-12T09:01:18.530Z"
   },
   {
    "duration": 4506,
    "start_time": "2023-06-12T09:01:18.576Z"
   },
   {
    "duration": 35,
    "start_time": "2023-06-12T09:01:23.085Z"
   },
   {
    "duration": 48,
    "start_time": "2023-06-12T09:01:23.121Z"
   },
   {
    "duration": 21,
    "start_time": "2023-06-12T09:01:23.171Z"
   },
   {
    "duration": 4474,
    "start_time": "2023-06-12T09:01:23.193Z"
   },
   {
    "duration": 43,
    "start_time": "2023-06-12T09:01:27.669Z"
   },
   {
    "duration": 147,
    "start_time": "2023-06-12T09:01:27.713Z"
   },
   {
    "duration": 622,
    "start_time": "2023-06-12T09:01:27.861Z"
   },
   {
    "duration": 639,
    "start_time": "2023-06-12T09:01:28.485Z"
   },
   {
    "duration": 593,
    "start_time": "2023-06-12T09:01:29.126Z"
   },
   {
    "duration": 16,
    "start_time": "2023-06-12T09:01:29.721Z"
   },
   {
    "duration": 43,
    "start_time": "2023-06-12T09:01:29.739Z"
   },
   {
    "duration": 6,
    "start_time": "2023-06-12T09:01:29.784Z"
   },
   {
    "duration": 65,
    "start_time": "2023-06-12T09:01:29.792Z"
   },
   {
    "duration": 99,
    "start_time": "2023-06-12T09:01:29.858Z"
   },
   {
    "duration": 14,
    "start_time": "2023-06-12T09:01:29.959Z"
   },
   {
    "duration": 91,
    "start_time": "2023-06-12T09:01:29.975Z"
   },
   {
    "duration": 44,
    "start_time": "2023-06-12T09:01:30.156Z"
   },
   {
    "duration": 168,
    "start_time": "2023-06-12T09:01:30.204Z"
   },
   {
    "duration": 30,
    "start_time": "2023-06-12T09:01:30.376Z"
   },
   {
    "duration": 44,
    "start_time": "2023-06-12T09:01:30.408Z"
   },
   {
    "duration": 60,
    "start_time": "2023-06-12T09:01:30.455Z"
   },
   {
    "duration": 72,
    "start_time": "2023-06-12T09:01:30.517Z"
   },
   {
    "duration": 113,
    "start_time": "2023-06-12T09:01:30.591Z"
   },
   {
    "duration": 33,
    "start_time": "2023-06-12T09:01:30.706Z"
   },
   {
    "duration": 77,
    "start_time": "2023-06-12T09:01:30.741Z"
   },
   {
    "duration": 58,
    "start_time": "2023-06-12T09:01:30.820Z"
   },
   {
    "duration": 95,
    "start_time": "2023-06-12T09:01:30.879Z"
   },
   {
    "duration": 65,
    "start_time": "2023-06-12T09:01:30.977Z"
   },
   {
    "duration": 94,
    "start_time": "2023-06-12T09:01:31.044Z"
   },
   {
    "duration": 40,
    "start_time": "2023-06-12T09:01:31.140Z"
   },
   {
    "duration": 42,
    "start_time": "2023-06-12T09:01:31.182Z"
   },
   {
    "duration": 193,
    "start_time": "2023-06-12T09:01:31.226Z"
   },
   {
    "duration": 14,
    "start_time": "2023-06-12T09:03:53.740Z"
   },
   {
    "duration": 14,
    "start_time": "2023-06-12T09:09:28.221Z"
   },
   {
    "duration": 14,
    "start_time": "2023-06-12T09:11:04.983Z"
   },
   {
    "duration": 4,
    "start_time": "2023-06-12T09:11:52.149Z"
   },
   {
    "duration": 11,
    "start_time": "2023-06-12T09:11:55.351Z"
   },
   {
    "duration": 3,
    "start_time": "2023-06-12T09:12:20.759Z"
   },
   {
    "duration": 13,
    "start_time": "2023-06-12T09:12:21.804Z"
   },
   {
    "duration": 13,
    "start_time": "2023-06-12T09:12:45.887Z"
   },
   {
    "duration": 12,
    "start_time": "2023-06-12T09:12:57.683Z"
   },
   {
    "duration": 5,
    "start_time": "2023-06-12T09:24:30.146Z"
   },
   {
    "duration": 67,
    "start_time": "2023-06-12T09:24:30.951Z"
   },
   {
    "duration": 52,
    "start_time": "2023-06-12T09:24:47.786Z"
   },
   {
    "duration": 13,
    "start_time": "2023-06-12T09:25:28.037Z"
   },
   {
    "duration": 14,
    "start_time": "2023-06-12T09:26:17.523Z"
   },
   {
    "duration": 3,
    "start_time": "2023-06-12T09:27:16.964Z"
   },
   {
    "duration": 16,
    "start_time": "2023-06-12T09:27:17.599Z"
   },
   {
    "duration": 4,
    "start_time": "2023-06-12T09:27:50.334Z"
   },
   {
    "duration": 15,
    "start_time": "2023-06-12T09:27:50.852Z"
   },
   {
    "duration": 5,
    "start_time": "2023-06-12T09:29:13.246Z"
   },
   {
    "duration": 8,
    "start_time": "2023-06-12T09:30:29.286Z"
   },
   {
    "duration": 9,
    "start_time": "2023-06-12T09:31:13.201Z"
   },
   {
    "duration": 15,
    "start_time": "2023-06-12T09:31:45.986Z"
   },
   {
    "duration": 5,
    "start_time": "2023-06-12T09:37:49.995Z"
   },
   {
    "duration": 17,
    "start_time": "2023-06-12T09:37:51.531Z"
   },
   {
    "duration": 5,
    "start_time": "2023-06-12T09:38:24.709Z"
   },
   {
    "duration": 17,
    "start_time": "2023-06-12T09:38:25.370Z"
   },
   {
    "duration": 6,
    "start_time": "2023-06-12T09:41:56.240Z"
   },
   {
    "duration": 15,
    "start_time": "2023-06-12T09:41:57.106Z"
   },
   {
    "duration": 5,
    "start_time": "2023-06-12T09:42:20.084Z"
   },
   {
    "duration": 24,
    "start_time": "2023-06-12T09:42:20.760Z"
   },
   {
    "duration": 5,
    "start_time": "2023-06-12T09:50:03.576Z"
   },
   {
    "duration": 23,
    "start_time": "2023-06-12T09:50:05.056Z"
   },
   {
    "duration": 5,
    "start_time": "2023-06-12T09:50:13.600Z"
   },
   {
    "duration": 22,
    "start_time": "2023-06-12T09:50:14.151Z"
   },
   {
    "duration": 62,
    "start_time": "2023-06-12T09:50:52.521Z"
   },
   {
    "duration": 24,
    "start_time": "2023-06-12T09:50:53.310Z"
   },
   {
    "duration": 5,
    "start_time": "2023-06-12T09:51:30.514Z"
   },
   {
    "duration": 24,
    "start_time": "2023-06-12T09:51:31.157Z"
   },
   {
    "duration": 6,
    "start_time": "2023-06-12T09:53:37.061Z"
   },
   {
    "duration": 11,
    "start_time": "2023-06-12T09:53:38.134Z"
   },
   {
    "duration": 24,
    "start_time": "2023-06-12T09:53:58.369Z"
   },
   {
    "duration": 5,
    "start_time": "2023-06-12T09:54:41.758Z"
   },
   {
    "duration": 11,
    "start_time": "2023-06-12T09:56:04.598Z"
   },
   {
    "duration": 6,
    "start_time": "2023-06-12T10:12:33.077Z"
   },
   {
    "duration": 14,
    "start_time": "2023-06-12T10:13:41.876Z"
   },
   {
    "duration": 6,
    "start_time": "2023-06-12T10:14:28.172Z"
   },
   {
    "duration": 18,
    "start_time": "2023-06-12T10:14:28.882Z"
   },
   {
    "duration": 5,
    "start_time": "2023-06-12T10:14:38.014Z"
   },
   {
    "duration": 3580,
    "start_time": "2023-06-12T10:14:38.743Z"
   },
   {
    "duration": 6,
    "start_time": "2023-06-12T10:16:26.860Z"
   },
   {
    "duration": 1635,
    "start_time": "2023-06-12T10:16:27.673Z"
   },
   {
    "duration": 6,
    "start_time": "2023-06-12T10:16:49.775Z"
   },
   {
    "duration": 1560,
    "start_time": "2023-06-12T10:16:50.629Z"
   },
   {
    "duration": 5,
    "start_time": "2023-06-12T10:17:14.490Z"
   },
   {
    "duration": 3365,
    "start_time": "2023-06-12T10:17:16.416Z"
   },
   {
    "duration": 6,
    "start_time": "2023-06-12T10:22:41.632Z"
   },
   {
    "duration": 23,
    "start_time": "2023-06-12T10:22:42.826Z"
   },
   {
    "duration": 6,
    "start_time": "2023-06-12T10:39:01.877Z"
   },
   {
    "duration": 23,
    "start_time": "2023-06-12T10:39:06.002Z"
   },
   {
    "duration": 22,
    "start_time": "2023-06-12T10:40:03.516Z"
   },
   {
    "duration": 5,
    "start_time": "2023-06-12T10:40:09.158Z"
   },
   {
    "duration": 4,
    "start_time": "2023-06-12T10:40:11.910Z"
   },
   {
    "duration": 5,
    "start_time": "2023-06-12T10:40:12.366Z"
   },
   {
    "duration": 23,
    "start_time": "2023-06-12T10:40:12.812Z"
   },
   {
    "duration": 5,
    "start_time": "2023-06-12T10:40:43.706Z"
   },
   {
    "duration": 342,
    "start_time": "2023-06-12T10:40:43.719Z"
   },
   {
    "duration": 23,
    "start_time": "2023-06-12T10:40:44.064Z"
   },
   {
    "duration": 21,
    "start_time": "2023-06-12T10:40:44.088Z"
   },
   {
    "duration": 4487,
    "start_time": "2023-06-12T10:40:44.111Z"
   },
   {
    "duration": 39,
    "start_time": "2023-06-12T10:40:48.601Z"
   },
   {
    "duration": 35,
    "start_time": "2023-06-12T10:40:48.642Z"
   },
   {
    "duration": 21,
    "start_time": "2023-06-12T10:40:48.680Z"
   },
   {
    "duration": 4545,
    "start_time": "2023-06-12T10:40:48.703Z"
   },
   {
    "duration": 48,
    "start_time": "2023-06-12T10:40:53.250Z"
   },
   {
    "duration": 23,
    "start_time": "2023-06-12T10:40:53.300Z"
   },
   {
    "duration": 42,
    "start_time": "2023-06-12T10:40:53.325Z"
   },
   {
    "duration": 4530,
    "start_time": "2023-06-12T10:40:53.369Z"
   },
   {
    "duration": 34,
    "start_time": "2023-06-12T10:40:57.901Z"
   },
   {
    "duration": 155,
    "start_time": "2023-06-12T10:40:57.938Z"
   },
   {
    "duration": 589,
    "start_time": "2023-06-12T10:40:58.096Z"
   },
   {
    "duration": 637,
    "start_time": "2023-06-12T10:40:58.687Z"
   },
   {
    "duration": 616,
    "start_time": "2023-06-12T10:40:59.326Z"
   },
   {
    "duration": 22,
    "start_time": "2023-06-12T10:40:59.944Z"
   },
   {
    "duration": 28,
    "start_time": "2023-06-12T10:40:59.968Z"
   },
   {
    "duration": 6,
    "start_time": "2023-06-12T10:40:59.998Z"
   },
   {
    "duration": 52,
    "start_time": "2023-06-12T10:41:00.006Z"
   },
   {
    "duration": 5,
    "start_time": "2023-06-12T10:41:00.060Z"
   },
   {
    "duration": 201,
    "start_time": "2023-06-12T10:41:00.067Z"
   },
   {
    "duration": 88,
    "start_time": "2023-06-12T10:41:00.273Z"
   },
   {
    "duration": 138,
    "start_time": "2023-06-12T10:41:00.365Z"
   },
   {
    "duration": 59,
    "start_time": "2023-06-12T10:41:00.505Z"
   },
   {
    "duration": 101,
    "start_time": "2023-06-12T10:41:00.566Z"
   },
   {
    "duration": 82,
    "start_time": "2023-06-12T10:41:00.669Z"
   },
   {
    "duration": 46,
    "start_time": "2023-06-12T10:41:00.753Z"
   },
   {
    "duration": 38,
    "start_time": "2023-06-12T10:41:00.801Z"
   },
   {
    "duration": 33,
    "start_time": "2023-06-12T10:41:00.841Z"
   },
   {
    "duration": 26,
    "start_time": "2023-06-12T10:41:00.876Z"
   },
   {
    "duration": 49,
    "start_time": "2023-06-12T10:41:00.904Z"
   },
   {
    "duration": 33,
    "start_time": "2023-06-12T10:41:00.956Z"
   },
   {
    "duration": 31,
    "start_time": "2023-06-12T10:41:00.992Z"
   },
   {
    "duration": 25,
    "start_time": "2023-06-12T10:41:01.025Z"
   },
   {
    "duration": 49,
    "start_time": "2023-06-12T10:41:01.052Z"
   },
   {
    "duration": 56,
    "start_time": "2023-06-12T10:41:01.103Z"
   },
   {
    "duration": 41,
    "start_time": "2023-06-12T10:41:01.161Z"
   },
   {
    "duration": 29,
    "start_time": "2023-06-12T10:41:01.204Z"
   },
   {
    "duration": 20,
    "start_time": "2023-06-12T10:41:01.237Z"
   },
   {
    "duration": 74,
    "start_time": "2023-06-12T10:41:01.259Z"
   },
   {
    "duration": 6,
    "start_time": "2023-06-12T10:42:00.235Z"
   },
   {
    "duration": 27,
    "start_time": "2023-06-12T10:42:00.989Z"
   },
   {
    "duration": 1700,
    "start_time": "2023-06-12T10:42:37.690Z"
   },
   {
    "duration": 437,
    "start_time": "2023-06-12T10:42:39.392Z"
   },
   {
    "duration": 45,
    "start_time": "2023-06-12T10:42:39.832Z"
   },
   {
    "duration": 110,
    "start_time": "2023-06-12T10:42:39.881Z"
   },
   {
    "duration": 5303,
    "start_time": "2023-06-12T10:42:39.992Z"
   },
   {
    "duration": 40,
    "start_time": "2023-06-12T10:42:45.297Z"
   },
   {
    "duration": 45,
    "start_time": "2023-06-12T10:42:45.339Z"
   },
   {
    "duration": 29,
    "start_time": "2023-06-12T10:42:45.386Z"
   },
   {
    "duration": 5431,
    "start_time": "2023-06-12T10:42:45.417Z"
   },
   {
    "duration": 52,
    "start_time": "2023-06-12T10:42:50.850Z"
   },
   {
    "duration": 22,
    "start_time": "2023-06-12T10:42:50.904Z"
   },
   {
    "duration": 56,
    "start_time": "2023-06-12T10:42:50.928Z"
   },
   {
    "duration": 5080,
    "start_time": "2023-06-12T10:42:50.986Z"
   },
   {
    "duration": 43,
    "start_time": "2023-06-12T10:42:56.070Z"
   },
   {
    "duration": 190,
    "start_time": "2023-06-12T10:42:56.115Z"
   },
   {
    "duration": 583,
    "start_time": "2023-06-12T10:42:56.307Z"
   },
   {
    "duration": 653,
    "start_time": "2023-06-12T10:42:56.892Z"
   },
   {
    "duration": 645,
    "start_time": "2023-06-12T10:42:57.556Z"
   },
   {
    "duration": 19,
    "start_time": "2023-06-12T10:42:58.203Z"
   },
   {
    "duration": 68,
    "start_time": "2023-06-12T10:42:58.224Z"
   },
   {
    "duration": 7,
    "start_time": "2023-06-12T10:42:58.294Z"
   },
   {
    "duration": 53,
    "start_time": "2023-06-12T10:42:58.304Z"
   },
   {
    "duration": 5,
    "start_time": "2023-06-12T10:42:58.359Z"
   },
   {
    "duration": 132,
    "start_time": "2023-06-12T10:42:58.366Z"
   },
   {
    "duration": 8,
    "start_time": "2023-06-12T10:42:58.559Z"
   },
   {
    "duration": 196,
    "start_time": "2023-06-12T10:42:58.570Z"
   },
   {
    "duration": 81,
    "start_time": "2023-06-12T10:42:58.777Z"
   },
   {
    "duration": 22,
    "start_time": "2023-06-12T10:42:58.864Z"
   },
   {
    "duration": 43,
    "start_time": "2023-06-12T10:42:58.889Z"
   },
   {
    "duration": 21,
    "start_time": "2023-06-12T10:42:58.935Z"
   },
   {
    "duration": 10,
    "start_time": "2023-06-12T10:42:58.959Z"
   },
   {
    "duration": 18,
    "start_time": "2023-06-12T10:42:58.972Z"
   },
   {
    "duration": 5,
    "start_time": "2023-06-12T10:42:58.992Z"
   },
   {
    "duration": 12,
    "start_time": "2023-06-12T10:42:59.000Z"
   },
   {
    "duration": 48,
    "start_time": "2023-06-12T10:42:59.014Z"
   },
   {
    "duration": 13,
    "start_time": "2023-06-12T10:42:59.065Z"
   },
   {
    "duration": 112,
    "start_time": "2023-06-12T10:42:59.081Z"
   },
   {
    "duration": 25,
    "start_time": "2023-06-12T10:42:59.195Z"
   },
   {
    "duration": 11,
    "start_time": "2023-06-12T10:42:59.222Z"
   },
   {
    "duration": 9,
    "start_time": "2023-06-12T10:42:59.236Z"
   },
   {
    "duration": 5,
    "start_time": "2023-06-12T10:42:59.247Z"
   },
   {
    "duration": 19,
    "start_time": "2023-06-12T10:42:59.254Z"
   },
   {
    "duration": 141,
    "start_time": "2023-06-12T10:42:59.279Z"
   },
   {
    "duration": 13,
    "start_time": "2023-06-12T10:43:34.780Z"
   },
   {
    "duration": 13,
    "start_time": "2023-06-12T10:43:55.895Z"
   },
   {
    "duration": 5,
    "start_time": "2023-06-12T10:44:19.481Z"
   },
   {
    "duration": 15,
    "start_time": "2023-06-12T10:44:20.198Z"
   },
   {
    "duration": 115,
    "start_time": "2023-06-12T11:15:26.548Z"
   },
   {
    "duration": 17,
    "start_time": "2023-06-12T11:15:47.472Z"
   },
   {
    "duration": 45,
    "start_time": "2023-06-12T11:34:45.556Z"
   },
   {
    "duration": 13,
    "start_time": "2023-06-12T11:34:56.924Z"
   },
   {
    "duration": 4,
    "start_time": "2023-06-12T11:45:08.820Z"
   },
   {
    "duration": 11,
    "start_time": "2023-06-12T11:46:44.575Z"
   },
   {
    "duration": 7,
    "start_time": "2023-06-12T11:47:03.020Z"
   },
   {
    "duration": 14,
    "start_time": "2023-06-12T11:47:04.727Z"
   },
   {
    "duration": 10,
    "start_time": "2023-06-12T11:47:24.224Z"
   },
   {
    "duration": 1416,
    "start_time": "2023-06-12T11:47:24.958Z"
   },
   {
    "duration": 4,
    "start_time": "2023-06-12T11:48:37.714Z"
   },
   {
    "duration": 413,
    "start_time": "2023-06-12T11:48:37.723Z"
   },
   {
    "duration": 27,
    "start_time": "2023-06-12T11:48:38.138Z"
   },
   {
    "duration": 22,
    "start_time": "2023-06-12T11:48:38.167Z"
   },
   {
    "duration": 4814,
    "start_time": "2023-06-12T11:48:38.191Z"
   },
   {
    "duration": 51,
    "start_time": "2023-06-12T11:48:43.009Z"
   },
   {
    "duration": 23,
    "start_time": "2023-06-12T11:48:43.061Z"
   },
   {
    "duration": 22,
    "start_time": "2023-06-12T11:48:43.086Z"
   },
   {
    "duration": 4821,
    "start_time": "2023-06-12T11:48:43.110Z"
   },
   {
    "duration": 45,
    "start_time": "2023-06-12T11:48:47.933Z"
   },
   {
    "duration": 19,
    "start_time": "2023-06-12T11:48:47.979Z"
   },
   {
    "duration": 29,
    "start_time": "2023-06-12T11:48:48.000Z"
   },
   {
    "duration": 4820,
    "start_time": "2023-06-12T11:48:48.031Z"
   },
   {
    "duration": 42,
    "start_time": "2023-06-12T11:48:52.853Z"
   },
   {
    "duration": 142,
    "start_time": "2023-06-12T11:48:52.898Z"
   },
   {
    "duration": 593,
    "start_time": "2023-06-12T11:48:53.042Z"
   },
   {
    "duration": 579,
    "start_time": "2023-06-12T11:48:53.637Z"
   },
   {
    "duration": 579,
    "start_time": "2023-06-12T11:48:54.218Z"
   },
   {
    "duration": 16,
    "start_time": "2023-06-12T11:48:54.799Z"
   },
   {
    "duration": 53,
    "start_time": "2023-06-12T11:48:54.817Z"
   },
   {
    "duration": 8,
    "start_time": "2023-06-12T11:48:54.872Z"
   },
   {
    "duration": 87,
    "start_time": "2023-06-12T11:48:54.882Z"
   },
   {
    "duration": 5,
    "start_time": "2023-06-12T11:48:55.057Z"
   },
   {
    "duration": 24,
    "start_time": "2023-06-12T11:48:55.064Z"
   },
   {
    "duration": 5,
    "start_time": "2023-06-12T11:48:55.156Z"
   },
   {
    "duration": 100,
    "start_time": "2023-06-12T11:48:55.163Z"
   },
   {
    "duration": 5,
    "start_time": "2023-06-12T11:48:55.265Z"
   },
   {
    "duration": 104,
    "start_time": "2023-06-12T11:48:55.357Z"
   },
   {
    "duration": 5,
    "start_time": "2023-06-12T11:48:55.464Z"
   },
   {
    "duration": 9,
    "start_time": "2023-06-12T11:48:55.471Z"
   },
   {
    "duration": 5,
    "start_time": "2023-06-12T11:48:55.482Z"
   },
   {
    "duration": 15,
    "start_time": "2023-06-12T11:48:55.489Z"
   },
   {
    "duration": 11,
    "start_time": "2023-06-12T11:48:55.506Z"
   },
   {
    "duration": 44,
    "start_time": "2023-06-12T11:48:55.519Z"
   },
   {
    "duration": 4,
    "start_time": "2023-06-12T11:48:55.566Z"
   },
   {
    "duration": 8,
    "start_time": "2023-06-12T11:48:55.572Z"
   },
   {
    "duration": 6,
    "start_time": "2023-06-12T11:48:55.581Z"
   },
   {
    "duration": 8,
    "start_time": "2023-06-12T11:48:55.589Z"
   },
   {
    "duration": 14,
    "start_time": "2023-06-12T11:48:55.599Z"
   },
   {
    "duration": 7,
    "start_time": "2023-06-12T11:48:55.616Z"
   },
   {
    "duration": 32,
    "start_time": "2023-06-12T11:48:55.625Z"
   },
   {
    "duration": 8,
    "start_time": "2023-06-12T11:48:55.661Z"
   },
   {
    "duration": 1645,
    "start_time": "2023-06-12T11:48:55.670Z"
   },
   {
    "duration": 6,
    "start_time": "2023-06-12T11:50:20.978Z"
   },
   {
    "duration": 1427,
    "start_time": "2023-06-12T11:50:22.776Z"
   },
   {
    "duration": 10,
    "start_time": "2023-06-12T11:51:27.858Z"
   },
   {
    "duration": 15,
    "start_time": "2023-06-12T11:51:28.556Z"
   },
   {
    "duration": 4,
    "start_time": "2023-06-12T11:51:33.479Z"
   },
   {
    "duration": 6,
    "start_time": "2023-06-12T11:51:33.863Z"
   },
   {
    "duration": 1395,
    "start_time": "2023-06-12T11:51:34.754Z"
   },
   {
    "duration": 6,
    "start_time": "2023-06-12T11:56:53.006Z"
   },
   {
    "duration": 1390,
    "start_time": "2023-06-12T11:56:54.436Z"
   },
   {
    "duration": 7,
    "start_time": "2023-06-12T11:59:01.992Z"
   },
   {
    "duration": 1502,
    "start_time": "2023-06-12T11:59:02.449Z"
   },
   {
    "duration": 6,
    "start_time": "2023-06-12T11:59:23.613Z"
   },
   {
    "duration": 1424,
    "start_time": "2023-06-12T11:59:24.192Z"
   },
   {
    "duration": 6,
    "start_time": "2023-06-12T12:00:01.712Z"
   },
   {
    "duration": 1479,
    "start_time": "2023-06-12T12:00:02.260Z"
   },
   {
    "duration": 6,
    "start_time": "2023-06-12T12:00:18.912Z"
   },
   {
    "duration": 1402,
    "start_time": "2023-06-12T12:00:19.450Z"
   },
   {
    "duration": 8,
    "start_time": "2023-06-12T12:08:00.760Z"
   },
   {
    "duration": 1724,
    "start_time": "2023-06-12T12:08:01.402Z"
   },
   {
    "duration": 7,
    "start_time": "2023-06-12T12:08:51.820Z"
   },
   {
    "duration": 1497,
    "start_time": "2023-06-12T12:08:52.402Z"
   },
   {
    "duration": 8,
    "start_time": "2023-06-12T12:09:12.006Z"
   },
   {
    "duration": 1546,
    "start_time": "2023-06-12T12:09:12.631Z"
   },
   {
    "duration": 9,
    "start_time": "2023-06-12T12:10:20.516Z"
   },
   {
    "duration": 1484,
    "start_time": "2023-06-12T12:10:21.288Z"
   },
   {
    "duration": 5,
    "start_time": "2023-06-12T12:10:59.997Z"
   },
   {
    "duration": 1584,
    "start_time": "2023-06-12T12:11:00.448Z"
   },
   {
    "duration": 5,
    "start_time": "2023-06-12T12:13:06.210Z"
   },
   {
    "duration": 7,
    "start_time": "2023-06-12T12:13:07.484Z"
   },
   {
    "duration": 1716,
    "start_time": "2023-06-12T12:13:08.100Z"
   },
   {
    "duration": 8,
    "start_time": "2023-06-12T12:15:48.420Z"
   },
   {
    "duration": 1630,
    "start_time": "2023-06-12T12:15:48.815Z"
   },
   {
    "duration": 1693,
    "start_time": "2023-06-12T12:16:01.751Z"
   },
   {
    "duration": 1599,
    "start_time": "2023-06-12T12:16:03.446Z"
   },
   {
    "duration": 1526,
    "start_time": "2023-06-12T12:16:33.691Z"
   },
   {
    "duration": 16,
    "start_time": "2023-06-12T12:19:57.159Z"
   },
   {
    "duration": 9,
    "start_time": "2023-06-12T12:20:02.013Z"
   },
   {
    "duration": 1512,
    "start_time": "2023-06-12T12:20:02.921Z"
   },
   {
    "duration": 1721,
    "start_time": "2023-06-12T12:20:13.950Z"
   },
   {
    "duration": 1540,
    "start_time": "2023-06-12T12:20:23.462Z"
   },
   {
    "duration": 2423,
    "start_time": "2023-06-12T16:44:30.158Z"
   },
   {
    "duration": 884,
    "start_time": "2023-06-12T16:44:32.583Z"
   },
   {
    "duration": 26,
    "start_time": "2023-06-12T16:44:33.468Z"
   },
   {
    "duration": 73,
    "start_time": "2023-06-12T16:44:33.497Z"
   },
   {
    "duration": 4208,
    "start_time": "2023-06-12T16:44:33.571Z"
   },
   {
    "duration": 45,
    "start_time": "2023-06-12T16:44:37.781Z"
   },
   {
    "duration": 20,
    "start_time": "2023-06-12T16:44:37.828Z"
   },
   {
    "duration": 25,
    "start_time": "2023-06-12T16:44:37.849Z"
   },
   {
    "duration": 4323,
    "start_time": "2023-06-12T16:44:37.876Z"
   },
   {
    "duration": 45,
    "start_time": "2023-06-12T16:44:42.202Z"
   },
   {
    "duration": 18,
    "start_time": "2023-06-12T16:44:42.248Z"
   },
   {
    "duration": 18,
    "start_time": "2023-06-12T16:44:42.267Z"
   },
   {
    "duration": 4346,
    "start_time": "2023-06-12T16:44:42.287Z"
   },
   {
    "duration": 33,
    "start_time": "2023-06-12T16:44:46.634Z"
   },
   {
    "duration": 121,
    "start_time": "2023-06-12T16:44:46.668Z"
   },
   {
    "duration": 489,
    "start_time": "2023-06-12T16:44:46.791Z"
   },
   {
    "duration": 473,
    "start_time": "2023-06-12T16:44:47.282Z"
   },
   {
    "duration": 540,
    "start_time": "2023-06-12T16:44:47.757Z"
   },
   {
    "duration": 27,
    "start_time": "2023-06-12T16:44:48.298Z"
   },
   {
    "duration": 27,
    "start_time": "2023-06-12T16:44:48.327Z"
   },
   {
    "duration": 6,
    "start_time": "2023-06-12T16:44:48.355Z"
   },
   {
    "duration": 165,
    "start_time": "2023-06-12T16:44:48.362Z"
   },
   {
    "duration": 4,
    "start_time": "2023-06-12T16:44:48.529Z"
   },
   {
    "duration": 190,
    "start_time": "2023-06-12T16:44:48.535Z"
   },
   {
    "duration": 5,
    "start_time": "2023-06-12T16:44:48.728Z"
   },
   {
    "duration": 109,
    "start_time": "2023-06-12T16:44:48.736Z"
   },
   {
    "duration": 73,
    "start_time": "2023-06-12T16:44:48.853Z"
   },
   {
    "duration": 112,
    "start_time": "2023-06-12T16:44:48.933Z"
   },
   {
    "duration": 5,
    "start_time": "2023-06-12T16:44:49.047Z"
   },
   {
    "duration": 10,
    "start_time": "2023-06-12T16:44:49.053Z"
   },
   {
    "duration": 7,
    "start_time": "2023-06-12T16:44:49.065Z"
   },
   {
    "duration": 14,
    "start_time": "2023-06-12T16:44:49.074Z"
   },
   {
    "duration": 17,
    "start_time": "2023-06-12T16:44:49.090Z"
   },
   {
    "duration": 23,
    "start_time": "2023-06-12T16:44:49.108Z"
   },
   {
    "duration": 4,
    "start_time": "2023-06-12T16:44:49.132Z"
   },
   {
    "duration": 9,
    "start_time": "2023-06-12T16:44:49.137Z"
   },
   {
    "duration": 11,
    "start_time": "2023-06-12T16:44:49.148Z"
   },
   {
    "duration": 12,
    "start_time": "2023-06-12T16:44:49.160Z"
   },
   {
    "duration": 10,
    "start_time": "2023-06-12T16:44:49.173Z"
   },
   {
    "duration": 9,
    "start_time": "2023-06-12T16:44:49.185Z"
   },
   {
    "duration": 3,
    "start_time": "2023-06-12T16:44:49.195Z"
   },
   {
    "duration": 25,
    "start_time": "2023-06-12T16:44:49.200Z"
   },
   {
    "duration": 1289,
    "start_time": "2023-06-12T16:44:49.227Z"
   },
   {
    "duration": 1192,
    "start_time": "2023-06-12T16:44:50.524Z"
   },
   {
    "duration": 1225,
    "start_time": "2023-06-12T16:44:51.717Z"
   },
   {
    "duration": 42,
    "start_time": "2023-06-13T08:28:19.522Z"
   },
   {
    "duration": 1552,
    "start_time": "2023-06-13T08:28:26.956Z"
   },
   {
    "duration": 881,
    "start_time": "2023-06-13T08:28:28.510Z"
   },
   {
    "duration": 23,
    "start_time": "2023-06-13T08:28:29.392Z"
   },
   {
    "duration": 51,
    "start_time": "2023-06-13T08:28:29.417Z"
   },
   {
    "duration": 4251,
    "start_time": "2023-06-13T08:28:29.470Z"
   },
   {
    "duration": 32,
    "start_time": "2023-06-13T08:28:33.722Z"
   },
   {
    "duration": 32,
    "start_time": "2023-06-13T08:28:33.756Z"
   },
   {
    "duration": 20,
    "start_time": "2023-06-13T08:28:33.790Z"
   },
   {
    "duration": 4036,
    "start_time": "2023-06-13T08:28:33.812Z"
   },
   {
    "duration": 41,
    "start_time": "2023-06-13T08:28:37.850Z"
   },
   {
    "duration": 22,
    "start_time": "2023-06-13T08:28:37.893Z"
   },
   {
    "duration": 20,
    "start_time": "2023-06-13T08:28:37.917Z"
   },
   {
    "duration": 4179,
    "start_time": "2023-06-13T08:28:37.938Z"
   },
   {
    "duration": 31,
    "start_time": "2023-06-13T08:28:42.119Z"
   },
   {
    "duration": 125,
    "start_time": "2023-06-13T08:28:42.152Z"
   },
   {
    "duration": 68,
    "start_time": "2023-06-13T08:28:42.278Z"
   },
   {
    "duration": 0,
    "start_time": "2023-06-13T08:28:42.348Z"
   },
   {
    "duration": 0,
    "start_time": "2023-06-13T08:28:42.349Z"
   },
   {
    "duration": 0,
    "start_time": "2023-06-13T08:28:42.350Z"
   },
   {
    "duration": 0,
    "start_time": "2023-06-13T08:28:42.351Z"
   },
   {
    "duration": 0,
    "start_time": "2023-06-13T08:28:42.352Z"
   },
   {
    "duration": 0,
    "start_time": "2023-06-13T08:28:42.353Z"
   },
   {
    "duration": 0,
    "start_time": "2023-06-13T08:28:42.372Z"
   },
   {
    "duration": 0,
    "start_time": "2023-06-13T08:28:42.373Z"
   },
   {
    "duration": 0,
    "start_time": "2023-06-13T08:28:42.374Z"
   },
   {
    "duration": 0,
    "start_time": "2023-06-13T08:28:42.375Z"
   },
   {
    "duration": 0,
    "start_time": "2023-06-13T08:28:42.376Z"
   },
   {
    "duration": 0,
    "start_time": "2023-06-13T08:28:42.377Z"
   },
   {
    "duration": 0,
    "start_time": "2023-06-13T08:28:42.378Z"
   },
   {
    "duration": 0,
    "start_time": "2023-06-13T08:28:42.379Z"
   },
   {
    "duration": 0,
    "start_time": "2023-06-13T08:28:42.380Z"
   },
   {
    "duration": 0,
    "start_time": "2023-06-13T08:28:42.382Z"
   },
   {
    "duration": 0,
    "start_time": "2023-06-13T08:28:42.382Z"
   },
   {
    "duration": 0,
    "start_time": "2023-06-13T08:28:42.384Z"
   },
   {
    "duration": 0,
    "start_time": "2023-06-13T08:28:42.385Z"
   },
   {
    "duration": 0,
    "start_time": "2023-06-13T08:28:42.386Z"
   },
   {
    "duration": 0,
    "start_time": "2023-06-13T08:28:42.387Z"
   },
   {
    "duration": 0,
    "start_time": "2023-06-13T08:28:42.388Z"
   },
   {
    "duration": 0,
    "start_time": "2023-06-13T08:28:42.389Z"
   },
   {
    "duration": 0,
    "start_time": "2023-06-13T08:28:42.390Z"
   },
   {
    "duration": 0,
    "start_time": "2023-06-13T08:28:42.391Z"
   },
   {
    "duration": 0,
    "start_time": "2023-06-13T08:28:42.393Z"
   },
   {
    "duration": 0,
    "start_time": "2023-06-13T08:28:42.394Z"
   },
   {
    "duration": 0,
    "start_time": "2023-06-13T08:28:42.395Z"
   },
   {
    "duration": 0,
    "start_time": "2023-06-13T08:28:42.396Z"
   },
   {
    "duration": 0,
    "start_time": "2023-06-13T08:28:42.397Z"
   },
   {
    "duration": 4,
    "start_time": "2023-06-13T08:31:50.827Z"
   },
   {
    "duration": 361,
    "start_time": "2023-06-13T08:31:50.833Z"
   },
   {
    "duration": 21,
    "start_time": "2023-06-13T08:31:51.196Z"
   },
   {
    "duration": 25,
    "start_time": "2023-06-13T08:31:51.219Z"
   },
   {
    "duration": 4090,
    "start_time": "2023-06-13T08:31:51.247Z"
   },
   {
    "duration": 40,
    "start_time": "2023-06-13T08:31:55.338Z"
   },
   {
    "duration": 18,
    "start_time": "2023-06-13T08:31:55.380Z"
   },
   {
    "duration": 18,
    "start_time": "2023-06-13T08:31:55.400Z"
   },
   {
    "duration": 4465,
    "start_time": "2023-06-13T08:31:55.419Z"
   },
   {
    "duration": 31,
    "start_time": "2023-06-13T08:31:59.886Z"
   },
   {
    "duration": 18,
    "start_time": "2023-06-13T08:31:59.920Z"
   },
   {
    "duration": 42,
    "start_time": "2023-06-13T08:31:59.940Z"
   },
   {
    "duration": 4090,
    "start_time": "2023-06-13T08:31:59.984Z"
   },
   {
    "duration": 42,
    "start_time": "2023-06-13T08:32:04.078Z"
   },
   {
    "duration": 139,
    "start_time": "2023-06-13T08:32:04.122Z"
   },
   {
    "duration": 517,
    "start_time": "2023-06-13T08:32:04.264Z"
   },
   {
    "duration": 526,
    "start_time": "2023-06-13T08:32:04.783Z"
   },
   {
    "duration": 544,
    "start_time": "2023-06-13T08:32:05.312Z"
   },
   {
    "duration": 27,
    "start_time": "2023-06-13T08:32:05.858Z"
   },
   {
    "duration": 39,
    "start_time": "2023-06-13T08:32:05.887Z"
   },
   {
    "duration": 5,
    "start_time": "2023-06-13T08:32:05.928Z"
   },
   {
    "duration": 47,
    "start_time": "2023-06-13T08:32:05.935Z"
   },
   {
    "duration": 4,
    "start_time": "2023-06-13T08:32:06.073Z"
   },
   {
    "duration": 111,
    "start_time": "2023-06-13T08:32:06.079Z"
   },
   {
    "duration": 84,
    "start_time": "2023-06-13T08:32:06.192Z"
   },
   {
    "duration": 108,
    "start_time": "2023-06-13T08:32:06.280Z"
   },
   {
    "duration": 183,
    "start_time": "2023-06-13T08:32:06.393Z"
   },
   {
    "duration": 23,
    "start_time": "2023-06-13T08:32:06.577Z"
   },
   {
    "duration": 10,
    "start_time": "2023-06-13T08:32:06.603Z"
   },
   {
    "duration": 11,
    "start_time": "2023-06-13T08:32:06.615Z"
   },
   {
    "duration": 9,
    "start_time": "2023-06-13T08:32:06.627Z"
   },
   {
    "duration": 26,
    "start_time": "2023-06-13T08:32:06.638Z"
   },
   {
    "duration": 15,
    "start_time": "2023-06-13T08:32:06.665Z"
   },
   {
    "duration": 17,
    "start_time": "2023-06-13T08:32:06.681Z"
   },
   {
    "duration": 4,
    "start_time": "2023-06-13T08:32:06.700Z"
   },
   {
    "duration": 52,
    "start_time": "2023-06-13T08:32:06.705Z"
   },
   {
    "duration": 28,
    "start_time": "2023-06-13T08:32:06.759Z"
   },
   {
    "duration": 13,
    "start_time": "2023-06-13T08:32:06.789Z"
   },
   {
    "duration": 14,
    "start_time": "2023-06-13T08:32:06.804Z"
   },
   {
    "duration": 18,
    "start_time": "2023-06-13T08:32:06.820Z"
   },
   {
    "duration": 11,
    "start_time": "2023-06-13T08:32:06.840Z"
   },
   {
    "duration": 7,
    "start_time": "2023-06-13T08:32:06.853Z"
   },
   {
    "duration": 1313,
    "start_time": "2023-06-13T08:32:06.862Z"
   },
   {
    "duration": 1274,
    "start_time": "2023-06-13T08:32:08.176Z"
   },
   {
    "duration": 1259,
    "start_time": "2023-06-13T08:32:09.451Z"
   },
   {
    "duration": 9,
    "start_time": "2023-06-13T08:43:56.908Z"
   },
   {
    "duration": 27,
    "start_time": "2023-06-13T08:43:59.256Z"
   },
   {
    "duration": 6,
    "start_time": "2023-06-13T08:44:01.847Z"
   },
   {
    "duration": 1365,
    "start_time": "2023-06-13T08:45:10.511Z"
   },
   {
    "duration": 430,
    "start_time": "2023-06-13T08:50:55.161Z"
   },
   {
    "duration": 197,
    "start_time": "2023-06-13T08:53:00.407Z"
   },
   {
    "duration": 241,
    "start_time": "2023-06-13T08:53:41.264Z"
   },
   {
    "duration": 430,
    "start_time": "2023-06-13T08:53:59.369Z"
   },
   {
    "duration": 289,
    "start_time": "2023-06-13T08:54:45.441Z"
   },
   {
    "duration": 5,
    "start_time": "2023-06-13T09:31:04.953Z"
   },
   {
    "duration": 8,
    "start_time": "2023-06-13T09:32:04.282Z"
   },
   {
    "duration": 4,
    "start_time": "2023-06-13T09:32:07.646Z"
   },
   {
    "duration": 391,
    "start_time": "2023-06-13T09:32:07.653Z"
   },
   {
    "duration": 26,
    "start_time": "2023-06-13T09:32:08.046Z"
   },
   {
    "duration": 21,
    "start_time": "2023-06-13T09:32:08.073Z"
   },
   {
    "duration": 4838,
    "start_time": "2023-06-13T09:32:08.097Z"
   },
   {
    "duration": 45,
    "start_time": "2023-06-13T09:32:12.937Z"
   },
   {
    "duration": 27,
    "start_time": "2023-06-13T09:32:12.984Z"
   },
   {
    "duration": 18,
    "start_time": "2023-06-13T09:32:13.013Z"
   },
   {
    "duration": 4988,
    "start_time": "2023-06-13T09:32:13.033Z"
   },
   {
    "duration": 34,
    "start_time": "2023-06-13T09:32:18.022Z"
   },
   {
    "duration": 42,
    "start_time": "2023-06-13T09:32:18.058Z"
   },
   {
    "duration": 18,
    "start_time": "2023-06-13T09:32:18.102Z"
   },
   {
    "duration": 4754,
    "start_time": "2023-06-13T09:32:18.122Z"
   },
   {
    "duration": 37,
    "start_time": "2023-06-13T09:32:22.879Z"
   },
   {
    "duration": 141,
    "start_time": "2023-06-13T09:32:22.918Z"
   },
   {
    "duration": 579,
    "start_time": "2023-06-13T09:32:23.061Z"
   },
   {
    "duration": 564,
    "start_time": "2023-06-13T09:32:23.641Z"
   },
   {
    "duration": 574,
    "start_time": "2023-06-13T09:32:24.208Z"
   },
   {
    "duration": 15,
    "start_time": "2023-06-13T09:32:24.784Z"
   },
   {
    "duration": 35,
    "start_time": "2023-06-13T09:32:24.801Z"
   },
   {
    "duration": 7,
    "start_time": "2023-06-13T09:32:24.838Z"
   },
   {
    "duration": 135,
    "start_time": "2023-06-13T09:32:24.846Z"
   },
   {
    "duration": 92,
    "start_time": "2023-06-13T09:32:24.983Z"
   },
   {
    "duration": 29,
    "start_time": "2023-06-13T09:32:25.076Z"
   },
   {
    "duration": 66,
    "start_time": "2023-06-13T09:32:25.108Z"
   },
   {
    "duration": 125,
    "start_time": "2023-06-13T09:32:25.176Z"
   },
   {
    "duration": 73,
    "start_time": "2023-06-13T09:32:25.306Z"
   },
   {
    "duration": 113,
    "start_time": "2023-06-13T09:32:25.387Z"
   },
   {
    "duration": 28,
    "start_time": "2023-06-13T09:32:25.503Z"
   },
   {
    "duration": 19,
    "start_time": "2023-06-13T09:32:25.533Z"
   },
   {
    "duration": 21,
    "start_time": "2023-06-13T09:32:25.554Z"
   },
   {
    "duration": 22,
    "start_time": "2023-06-13T09:32:25.577Z"
   },
   {
    "duration": 15,
    "start_time": "2023-06-13T09:32:25.600Z"
   },
   {
    "duration": 17,
    "start_time": "2023-06-13T09:32:25.617Z"
   },
   {
    "duration": 5,
    "start_time": "2023-06-13T09:32:25.636Z"
   },
   {
    "duration": 15,
    "start_time": "2023-06-13T09:32:25.642Z"
   },
   {
    "duration": 12,
    "start_time": "2023-06-13T09:32:25.658Z"
   },
   {
    "duration": 14,
    "start_time": "2023-06-13T09:32:25.671Z"
   },
   {
    "duration": 11,
    "start_time": "2023-06-13T09:32:25.687Z"
   },
   {
    "duration": 7,
    "start_time": "2023-06-13T09:32:25.701Z"
   },
   {
    "duration": 10,
    "start_time": "2023-06-13T09:32:25.710Z"
   },
   {
    "duration": 20,
    "start_time": "2023-06-13T09:32:25.725Z"
   },
   {
    "duration": 1416,
    "start_time": "2023-06-13T09:32:25.747Z"
   },
   {
    "duration": 1436,
    "start_time": "2023-06-13T09:32:27.165Z"
   },
   {
    "duration": 1597,
    "start_time": "2023-06-13T09:32:28.603Z"
   },
   {
    "duration": 7,
    "start_time": "2023-06-13T09:46:32.487Z"
   },
   {
    "duration": 8,
    "start_time": "2023-06-13T09:46:50.853Z"
   },
   {
    "duration": 6,
    "start_time": "2023-06-13T09:46:54.049Z"
   },
   {
    "duration": 5,
    "start_time": "2023-06-13T09:47:35.887Z"
   },
   {
    "duration": 1357,
    "start_time": "2023-06-13T09:47:43.958Z"
   },
   {
    "duration": 4,
    "start_time": "2023-06-13T10:24:06.114Z"
   }
  ],
  "kernelspec": {
   "display_name": "Python 3 (ipykernel)",
   "language": "python",
   "name": "python3"
  },
  "language_info": {
   "codemirror_mode": {
    "name": "ipython",
    "version": 3
   },
   "file_extension": ".py",
   "mimetype": "text/x-python",
   "name": "python",
   "nbconvert_exporter": "python",
   "pygments_lexer": "ipython3",
   "version": "3.11.4"
  },
  "toc": {
   "base_numbering": 1,
   "nav_menu": {},
   "number_sections": true,
   "sideBar": true,
   "skip_h1_title": true,
   "title_cell": "Table of Contents",
   "title_sidebar": "Contents",
   "toc_cell": false,
   "toc_position": {
    "height": "calc(100% - 180px)",
    "left": "10px",
    "top": "150px",
    "width": "165px"
   },
   "toc_section_display": true,
   "toc_window_display": true
  }
 },
 "nbformat": 4,
 "nbformat_minor": 2
}
