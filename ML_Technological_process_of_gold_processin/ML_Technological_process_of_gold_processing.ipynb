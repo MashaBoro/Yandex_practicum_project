{
 "cells": [
  {
   "cell_type": "markdown",
   "metadata": {},
   "source": [
    "# Recovery of gold from ore"
   ]
  },
  {
   "cell_type": "markdown",
   "metadata": {},
   "source": [
    "Prepare a prototype of a machine learning model for Digital. The company develops solutions for the efficient operation of industrial enterprises.\n",
    "\n",
    "The model must predict the recovery rate of gold from gold ore. Use data with mining and purification parameters.\n",
    "\n",
    "The model will help optimize production so as not to launch an enterprise with unprofitable characteristics.\n",
    "\n",
    "Work plan:\n",
    "\n",
    "1. Prepare data;\n",
    "2. Conduct exploratory data analysis;\n",
    "3. Build and train the model.\n",
    "\n"
   ]
  },
  {
   "cell_type": "markdown",
   "metadata": {},
   "source": [
    "# Technological process"
   ]
  },
  {
   "cell_type": "markdown",
   "metadata": {},
   "source": [
    "1. Flotation\n",
    "A mixture of gold ore is fed into the flotation unit. After enrichment, a rough concentrate and “waste tailings” are obtained, that is, the remains of a product with a low concentration of valuable metals.\n",
    "The stability of this process is affected by the inconsistent and non-optimal physico-chemical state of the flotation pulp (a mixture of solid particles and liquid).\n",
    "2. Cleaning\n",
    "The rough concentrate undergoes two purifications. The output is a final concentrate and new tailings."
   ]
  },
  {
   "cell_type": "markdown",
   "metadata": {},
   "source": [
    "# Data Description"
   ]
  },
  {
   "cell_type": "markdown",
   "metadata": {},
   "source": [
    "<u>*Technological process*<u/>\n",
    "    \n",
    "Rougher feed\n",
    "Rougher additions (or reagent additions) — Xanthate, Sulphate, Depressant\n",
    "Xanthate — promoter or flotation activator;\n",
    "Sulphate — in this production sodium sulfide;\n",
    "Depressant — sodium silicate.\n",
    "Rougher process — flotation\n",
    "Rougher tails\n",
    "Float banks\n",
    "Cleaner process\n",
    "Rougher Au - flotation gold concentrate\n",
    "Final Au - final gold concentrate\n",
    "    \n",
    "Stage parameters\n",
    "air amount\n",
    "fluid levels\n",
    "feed size — raw material granule size\n",
    "feed rate"
   ]
  },
  {
   "cell_type": "markdown",
   "metadata": {},
   "source": [
    "# Quality Metric"
   ]
  },
  {
   "attachments": {
    "image-2.png": {
     "image/png": "[encoded data removed]"
    },
    "image.png": {
     "image/png": "[encoded data removed]"
    }
   },
   "cell_type": "markdown",
   "metadata": {},
   "source": [
    "The sMAPE metric is calculated like this:\n",
    "![image.png](attachment:image.png)\n",
    "\n",
    "We need to predict two quantities at once:\n",
    "\n",
    "efficiency of rough concentrate enrichment rougher.output.recovery;\n",
    "final concentrate enrichment efficiency final.output.recovery.\n",
    "\n",
    "The final metric consists of two values:\n",
    "\n",
    "![image-2.png](attachment:image-2.png)"
   ]
  },
  {
   "cell_type": "markdown",
   "metadata": {
    "toc": true
   },
   "source": [
    "<h1>Contents<span class=\"tocSkip\"></span></h1>\n",
    "<div class=\"toc\"><ul class=\"toc-item\"><li><span><a href=\"#Data-preparation\" data-toc-modified-id=\"Data-preparation-1\"><span class=\"toc-item-num\">1&nbsp;&nbsp;</span>Data preparation</a></span></li><li><span><a href=\"#Data-analysis\" data-toc-modified-id=\"Data-analysis-2\"><span class=\"toc-item-num\">2&nbsp;&nbsp;</span>Data analysis</a></span><ul class=\"toc-item\"><li><ul class=\"toc-item\"><li><span><a href=\"#Concentration-of-metals-at-different-stages\" data-toc-modified-id=\"Concentration-of-metals-at-different-stages-2.0.1\"><span class=\"toc-item-num\">2.0.1&nbsp;&nbsp;</span>Concentration of metals at different stages</a></span></li><li><span><a href=\"#Comparison-of-the-sizes-of-raw-material-granules-on-the-training-and-test-set\" data-toc-modified-id=\"Comparison-of-the-sizes-of-raw-material-granules-on-the-training-and-test-set-2.0.2\"><span class=\"toc-item-num\">2.0.2&nbsp;&nbsp;</span>Comparison of the sizes of raw material granules on the training and test set</a></span></li><li><span><a href=\"#Total-concentration-of-metals-at-various-stages\" data-toc-modified-id=\"Total-concentration-of-metals-at-various-stages-2.0.3\"><span class=\"toc-item-num\">2.0.3&nbsp;&nbsp;</span>Total concentration of metals at various stages</a></span></li></ul></li><li><span><a href=\"#Conclusion\" data-toc-modified-id=\"Conclusion-2.1\"><span class=\"toc-item-num\">2.1&nbsp;&nbsp;</span>Conclusion</a></span></li></ul></li><li><span><a href=\"#Model\" data-toc-modified-id=\"Model-3\"><span class=\"toc-item-num\">3&nbsp;&nbsp;</span>Model</a></span><ul class=\"toc-item\"><li><ul class=\"toc-item\"><li><span><a href=\"#Preparing-of-dataframes-for-forecasting\" data-toc-modified-id=\"Preparing-of-dataframes-for-forecasting-3.0.1\"><span class=\"toc-item-num\">3.0.1&nbsp;&nbsp;</span>Preparing of dataframes for forecasting</a></span></li><li><span><a href=\"#Function-for-sMAPE-and-Final-sMAPE\" data-toc-modified-id=\"Function-for-sMAPE-and-Final-sMAPE-3.0.2\"><span class=\"toc-item-num\">3.0.2&nbsp;&nbsp;</span>Function for sMAPE and Final sMAPE</a></span></li><li><span><a href=\"#Building-and-training-models-on-training-data\" data-toc-modified-id=\"Building-and-training-models-on-training-data-3.0.3\"><span class=\"toc-item-num\">3.0.3&nbsp;&nbsp;</span>Building and training models on training data</a></span><ul class=\"toc-item\"><li><span><a href=\"#Training\" data-toc-modified-id=\"Training-3.0.3.1\"><span class=\"toc-item-num\">3.0.3.1&nbsp;&nbsp;</span>Training</a></span></li><li><span><a href=\"#Test-sample\" data-toc-modified-id=\"Test-sample-3.0.3.2\"><span class=\"toc-item-num\">3.0.3.2&nbsp;&nbsp;</span>Test sample</a></span></li><li><span><a href=\"#Checking-the-model-for-adequacy\" data-toc-modified-id=\"Checking-the-model-for-adequacy-3.0.3.3\"><span class=\"toc-item-num\">3.0.3.3&nbsp;&nbsp;</span>Checking the model for adequacy</a></span></li></ul></li></ul></li></ul></li></ul></div>"
   ]
  },
  {
   "cell_type": "markdown",
   "metadata": {},
   "source": [
    "## Data preparation"
   ]
  },
  {
   "cell_type": "code",
   "execution_count": 1,
   "metadata": {},
   "outputs": [],
   "source": [
    "#download the libraries\n",
    "import pandas as pd\n",
    "import numpy as np\n",
    "from sklearn.metrics import make_scorer, mean_absolute_error\n",
    "from sklearn.linear_model import LinearRegression\n",
    "from sklearn.tree import DecisionTreeRegressor\n",
    "from sklearn.ensemble import RandomForestRegressor\n",
    "from sklearn.model_selection import GridSearchCV\n",
    "from sklearn.model_selection import cross_val_score\n",
    "import matplotlib.pyplot as plt\n",
    "from numpy.random import RandomState\n",
    "from scipy import stats as st\n",
    "import seaborn as sns\n",
    "from sklearn.dummy import DummyRegressor"
   ]
  },
  {
   "cell_type": "code",
   "execution_count": 2,
   "metadata": {},
   "outputs": [],
   "source": [
    "#download data for research\n",
    "try:\n",
    "    df_tr = pd.read_csv('gold_industry_train.csv')\n",
    "    df_te = pd.read_csv('gold_industry_test.csv')\n",
    "    df_fu = pd.read_csv('gold_industry_full.csv')\n",
    "except:\n",
    "    df_tr = pd.read_csv('C:/Users/hp/Documents/data_science/GitHub/Yandex_project/Датасеты/gold_industry_train.csv')\n",
    "    df_te = pd.read_csv('C:/Users/hp/Documents/data_science/GitHub/Yandex_project/Датасеты/gold_industry_test.csv')\n",
    "    df_fu = pd.read_csv('C:/Users/hp/Documents/data_science/GitHub/Yandex_project/Датасеты/gold_industry_full.csv')"
   ]
  },
  {
   "cell_type": "code",
   "execution_count": 3,
   "metadata": {
    "scrolled": false
   },
   "outputs": [
    {
     "data": {
      "text/html": [
       "<div>\n",
       "<style scoped>\n",
       "    .dataframe tbody tr th:only-of-type {\n",
       "        vertical-align: middle;\n",
       "    }\n",
       "\n",
       "    .dataframe tbody tr th {\n",
       "        vertical-align: top;\n",
       "    }\n",
       "\n",
       "    .dataframe thead th {\n",
       "        text-align: right;\n",
       "    }\n",
       "</style>\n",
       "<table border=\"1\" class=\"dataframe\">\n",
       "  <thead>\n",
       "    <tr style=\"text-align: right;\">\n",
       "      <th></th>\n",
       "      <th>date</th>\n",
       "      <th>rougher.input.feed_au</th>\n",
       "      <th>rougher.input.feed_ag</th>\n",
       "      <th>rougher.input.feed_pb</th>\n",
       "      <th>rougher.input.feed_sol</th>\n",
       "      <th>rougher.input.feed_rate</th>\n",
       "      <th>rougher.input.feed_size</th>\n",
       "      <th>rougher.input.floatbank10_sulfate</th>\n",
       "      <th>rougher.input.floatbank10_xanthate</th>\n",
       "      <th>rougher.state.floatbank10_a_air</th>\n",
       "      <th>...</th>\n",
       "      <th>secondary_cleaner.output.tail_sol</th>\n",
       "      <th>final.output.concentrate_au</th>\n",
       "      <th>final.output.concentrate_ag</th>\n",
       "      <th>final.output.concentrate_pb</th>\n",
       "      <th>final.output.concentrate_sol</th>\n",
       "      <th>final.output.recovery</th>\n",
       "      <th>final.output.tail_au</th>\n",
       "      <th>final.output.tail_ag</th>\n",
       "      <th>final.output.tail_pb</th>\n",
       "      <th>final.output.tail_sol</th>\n",
       "    </tr>\n",
       "  </thead>\n",
       "  <tbody>\n",
       "    <tr>\n",
       "      <th>0</th>\n",
       "      <td>2016-01-15 00:00:00</td>\n",
       "      <td>6.486150</td>\n",
       "      <td>6.100378</td>\n",
       "      <td>2.284912</td>\n",
       "      <td>36.808594</td>\n",
       "      <td>523.546326</td>\n",
       "      <td>55.486599</td>\n",
       "      <td>11.986616</td>\n",
       "      <td>6.007990</td>\n",
       "      <td>999.706909</td>\n",
       "      <td>...</td>\n",
       "      <td>8.764648</td>\n",
       "      <td>42.192020</td>\n",
       "      <td>6.055403</td>\n",
       "      <td>9.889648</td>\n",
       "      <td>5.507324</td>\n",
       "      <td>70.541216</td>\n",
       "      <td>2.143149</td>\n",
       "      <td>10.411962</td>\n",
       "      <td>0.895447</td>\n",
       "      <td>16.904297</td>\n",
       "    </tr>\n",
       "    <tr>\n",
       "      <th>1</th>\n",
       "      <td>2016-01-15 01:00:00</td>\n",
       "      <td>6.478583</td>\n",
       "      <td>6.161113</td>\n",
       "      <td>2.266033</td>\n",
       "      <td>35.753385</td>\n",
       "      <td>525.290581</td>\n",
       "      <td>57.278666</td>\n",
       "      <td>11.971193</td>\n",
       "      <td>6.005766</td>\n",
       "      <td>1000.286398</td>\n",
       "      <td>...</td>\n",
       "      <td>9.001494</td>\n",
       "      <td>42.701629</td>\n",
       "      <td>6.029369</td>\n",
       "      <td>9.968944</td>\n",
       "      <td>5.257781</td>\n",
       "      <td>69.266198</td>\n",
       "      <td>2.224930</td>\n",
       "      <td>10.462676</td>\n",
       "      <td>0.927452</td>\n",
       "      <td>16.634514</td>\n",
       "    </tr>\n",
       "    <tr>\n",
       "      <th>2</th>\n",
       "      <td>2016-01-15 02:00:00</td>\n",
       "      <td>6.362222</td>\n",
       "      <td>6.116455</td>\n",
       "      <td>2.159622</td>\n",
       "      <td>35.971630</td>\n",
       "      <td>530.026610</td>\n",
       "      <td>57.510649</td>\n",
       "      <td>11.920603</td>\n",
       "      <td>6.197377</td>\n",
       "      <td>999.719565</td>\n",
       "      <td>...</td>\n",
       "      <td>8.842896</td>\n",
       "      <td>42.657501</td>\n",
       "      <td>6.055926</td>\n",
       "      <td>10.213995</td>\n",
       "      <td>5.383759</td>\n",
       "      <td>68.116445</td>\n",
       "      <td>2.257889</td>\n",
       "      <td>10.507046</td>\n",
       "      <td>0.953716</td>\n",
       "      <td>16.208849</td>\n",
       "    </tr>\n",
       "    <tr>\n",
       "      <th>3</th>\n",
       "      <td>2016-01-15 03:00:00</td>\n",
       "      <td>6.118189</td>\n",
       "      <td>6.043309</td>\n",
       "      <td>2.037807</td>\n",
       "      <td>36.862241</td>\n",
       "      <td>542.590390</td>\n",
       "      <td>57.792734</td>\n",
       "      <td>11.630094</td>\n",
       "      <td>6.203177</td>\n",
       "      <td>999.814770</td>\n",
       "      <td>...</td>\n",
       "      <td>9.122857</td>\n",
       "      <td>42.689819</td>\n",
       "      <td>6.047977</td>\n",
       "      <td>9.977019</td>\n",
       "      <td>4.858634</td>\n",
       "      <td>68.347543</td>\n",
       "      <td>2.146849</td>\n",
       "      <td>10.422762</td>\n",
       "      <td>0.883763</td>\n",
       "      <td>16.532835</td>\n",
       "    </tr>\n",
       "    <tr>\n",
       "      <th>4</th>\n",
       "      <td>2016-01-15 04:00:00</td>\n",
       "      <td>5.663707</td>\n",
       "      <td>6.060915</td>\n",
       "      <td>1.786875</td>\n",
       "      <td>34.347666</td>\n",
       "      <td>540.531893</td>\n",
       "      <td>56.047189</td>\n",
       "      <td>10.957755</td>\n",
       "      <td>6.198826</td>\n",
       "      <td>999.678690</td>\n",
       "      <td>...</td>\n",
       "      <td>8.871028</td>\n",
       "      <td>42.774141</td>\n",
       "      <td>6.148599</td>\n",
       "      <td>10.142511</td>\n",
       "      <td>4.939416</td>\n",
       "      <td>66.927016</td>\n",
       "      <td>2.055292</td>\n",
       "      <td>10.360302</td>\n",
       "      <td>0.792826</td>\n",
       "      <td>16.525686</td>\n",
       "    </tr>\n",
       "  </tbody>\n",
       "</table>\n",
       "<p>5 rows × 87 columns</p>\n",
       "</div>"
      ],
      "text/plain": [
       "                  date  rougher.input.feed_au  rougher.input.feed_ag  \\\n",
       "0  2016-01-15 00:00:00               6.486150               6.100378   \n",
       "1  2016-01-15 01:00:00               6.478583               6.161113   \n",
       "2  2016-01-15 02:00:00               6.362222               6.116455   \n",
       "3  2016-01-15 03:00:00               6.118189               6.043309   \n",
       "4  2016-01-15 04:00:00               5.663707               6.060915   \n",
       "\n",
       "   rougher.input.feed_pb  rougher.input.feed_sol  rougher.input.feed_rate  \\\n",
       "0               2.284912               36.808594               523.546326   \n",
       "1               2.266033               35.753385               525.290581   \n",
       "2               2.159622               35.971630               530.026610   \n",
       "3               2.037807               36.862241               542.590390   \n",
       "4               1.786875               34.347666               540.531893   \n",
       "\n",
       "   rougher.input.feed_size  rougher.input.floatbank10_sulfate  \\\n",
       "0                55.486599                          11.986616   \n",
       "1                57.278666                          11.971193   \n",
       "2                57.510649                          11.920603   \n",
       "3                57.792734                          11.630094   \n",
       "4                56.047189                          10.957755   \n",
       "\n",
       "   rougher.input.floatbank10_xanthate  rougher.state.floatbank10_a_air  ...  \\\n",
       "0                            6.007990                       999.706909  ...   \n",
       "1                            6.005766                      1000.286398  ...   \n",
       "2                            6.197377                       999.719565  ...   \n",
       "3                            6.203177                       999.814770  ...   \n",
       "4                            6.198826                       999.678690  ...   \n",
       "\n",
       "   secondary_cleaner.output.tail_sol  final.output.concentrate_au  \\\n",
       "0                           8.764648                    42.192020   \n",
       "1                           9.001494                    42.701629   \n",
       "2                           8.842896                    42.657501   \n",
       "3                           9.122857                    42.689819   \n",
       "4                           8.871028                    42.774141   \n",
       "\n",
       "   final.output.concentrate_ag  final.output.concentrate_pb  \\\n",
       "0                     6.055403                     9.889648   \n",
       "1                     6.029369                     9.968944   \n",
       "2                     6.055926                    10.213995   \n",
       "3                     6.047977                     9.977019   \n",
       "4                     6.148599                    10.142511   \n",
       "\n",
       "   final.output.concentrate_sol  final.output.recovery  final.output.tail_au  \\\n",
       "0                      5.507324              70.541216              2.143149   \n",
       "1                      5.257781              69.266198              2.224930   \n",
       "2                      5.383759              68.116445              2.257889   \n",
       "3                      4.858634              68.347543              2.146849   \n",
       "4                      4.939416              66.927016              2.055292   \n",
       "\n",
       "   final.output.tail_ag  final.output.tail_pb  final.output.tail_sol  \n",
       "0             10.411962              0.895447              16.904297  \n",
       "1             10.462676              0.927452              16.634514  \n",
       "2             10.507046              0.953716              16.208849  \n",
       "3             10.422762              0.883763              16.532835  \n",
       "4             10.360302              0.792826              16.525686  \n",
       "\n",
       "[5 rows x 87 columns]"
      ]
     },
     "metadata": {},
     "output_type": "display_data"
    }
   ],
   "source": [
    "# output the training sample\n",
    "display(df_tr.head())"
   ]
  },
  {
   "cell_type": "code",
   "execution_count": 4,
   "metadata": {
    "scrolled": false
   },
   "outputs": [
    {
     "data": {
      "text/html": [
       "<div>\n",
       "<style scoped>\n",
       "    .dataframe tbody tr th:only-of-type {\n",
       "        vertical-align: middle;\n",
       "    }\n",
       "\n",
       "    .dataframe tbody tr th {\n",
       "        vertical-align: top;\n",
       "    }\n",
       "\n",
       "    .dataframe thead th {\n",
       "        text-align: right;\n",
       "    }\n",
       "</style>\n",
       "<table border=\"1\" class=\"dataframe\">\n",
       "  <thead>\n",
       "    <tr style=\"text-align: right;\">\n",
       "      <th></th>\n",
       "      <th>date</th>\n",
       "      <th>rougher.input.feed_au</th>\n",
       "      <th>rougher.input.feed_ag</th>\n",
       "      <th>rougher.input.feed_pb</th>\n",
       "      <th>rougher.input.feed_sol</th>\n",
       "      <th>rougher.input.feed_rate</th>\n",
       "      <th>rougher.input.feed_size</th>\n",
       "      <th>rougher.input.floatbank10_sulfate</th>\n",
       "      <th>rougher.input.floatbank10_xanthate</th>\n",
       "      <th>rougher.state.floatbank10_a_air</th>\n",
       "      <th>...</th>\n",
       "      <th>secondary_cleaner.state.floatbank4_a_air</th>\n",
       "      <th>secondary_cleaner.state.floatbank4_a_level</th>\n",
       "      <th>secondary_cleaner.state.floatbank4_b_air</th>\n",
       "      <th>secondary_cleaner.state.floatbank4_b_level</th>\n",
       "      <th>secondary_cleaner.state.floatbank5_a_air</th>\n",
       "      <th>secondary_cleaner.state.floatbank5_a_level</th>\n",
       "      <th>secondary_cleaner.state.floatbank5_b_air</th>\n",
       "      <th>secondary_cleaner.state.floatbank5_b_level</th>\n",
       "      <th>secondary_cleaner.state.floatbank6_a_air</th>\n",
       "      <th>secondary_cleaner.state.floatbank6_a_level</th>\n",
       "    </tr>\n",
       "  </thead>\n",
       "  <tbody>\n",
       "    <tr>\n",
       "      <th>0</th>\n",
       "      <td>2017-12-09 14:59:59</td>\n",
       "      <td>4.365491</td>\n",
       "      <td>6.158718</td>\n",
       "      <td>3.875727</td>\n",
       "      <td>39.135119</td>\n",
       "      <td>555.820208</td>\n",
       "      <td>94.544358</td>\n",
       "      <td>6.146982</td>\n",
       "      <td>9.308612</td>\n",
       "      <td>1196.238112</td>\n",
       "      <td>...</td>\n",
       "      <td>23.018622</td>\n",
       "      <td>-500.492702</td>\n",
       "      <td>20.020205</td>\n",
       "      <td>-500.220296</td>\n",
       "      <td>17.963512</td>\n",
       "      <td>-499.939490</td>\n",
       "      <td>12.990306</td>\n",
       "      <td>-500.080993</td>\n",
       "      <td>19.990336</td>\n",
       "      <td>-499.191575</td>\n",
       "    </tr>\n",
       "    <tr>\n",
       "      <th>1</th>\n",
       "      <td>2017-12-09 15:59:59</td>\n",
       "      <td>4.362781</td>\n",
       "      <td>6.048130</td>\n",
       "      <td>3.902537</td>\n",
       "      <td>39.713906</td>\n",
       "      <td>544.731687</td>\n",
       "      <td>123.742430</td>\n",
       "      <td>6.210119</td>\n",
       "      <td>9.297709</td>\n",
       "      <td>1201.904177</td>\n",
       "      <td>...</td>\n",
       "      <td>23.024963</td>\n",
       "      <td>-501.153409</td>\n",
       "      <td>20.054122</td>\n",
       "      <td>-500.314711</td>\n",
       "      <td>17.979515</td>\n",
       "      <td>-499.272871</td>\n",
       "      <td>12.992404</td>\n",
       "      <td>-499.976268</td>\n",
       "      <td>20.013986</td>\n",
       "      <td>-500.625471</td>\n",
       "    </tr>\n",
       "    <tr>\n",
       "      <th>2</th>\n",
       "      <td>2017-12-09 16:59:59</td>\n",
       "      <td>5.081681</td>\n",
       "      <td>6.082745</td>\n",
       "      <td>4.564078</td>\n",
       "      <td>37.208683</td>\n",
       "      <td>558.155110</td>\n",
       "      <td>82.610855</td>\n",
       "      <td>7.363824</td>\n",
       "      <td>9.003562</td>\n",
       "      <td>1200.826926</td>\n",
       "      <td>...</td>\n",
       "      <td>22.993827</td>\n",
       "      <td>-501.559663</td>\n",
       "      <td>20.029144</td>\n",
       "      <td>-500.000662</td>\n",
       "      <td>18.012723</td>\n",
       "      <td>-500.024764</td>\n",
       "      <td>13.016445</td>\n",
       "      <td>-500.058432</td>\n",
       "      <td>19.973767</td>\n",
       "      <td>-501.394155</td>\n",
       "    </tr>\n",
       "    <tr>\n",
       "      <th>3</th>\n",
       "      <td>2017-12-09 17:59:59</td>\n",
       "      <td>5.145949</td>\n",
       "      <td>6.084374</td>\n",
       "      <td>4.768124</td>\n",
       "      <td>36.808874</td>\n",
       "      <td>539.713765</td>\n",
       "      <td>77.984784</td>\n",
       "      <td>6.927072</td>\n",
       "      <td>8.955597</td>\n",
       "      <td>1199.292489</td>\n",
       "      <td>...</td>\n",
       "      <td>23.032807</td>\n",
       "      <td>-501.287889</td>\n",
       "      <td>19.977466</td>\n",
       "      <td>-500.159903</td>\n",
       "      <td>17.980463</td>\n",
       "      <td>-500.504602</td>\n",
       "      <td>12.949071</td>\n",
       "      <td>-500.009937</td>\n",
       "      <td>20.010332</td>\n",
       "      <td>-508.337973</td>\n",
       "    </tr>\n",
       "    <tr>\n",
       "      <th>4</th>\n",
       "      <td>2017-12-09 18:59:59</td>\n",
       "      <td>5.735249</td>\n",
       "      <td>6.165220</td>\n",
       "      <td>4.512346</td>\n",
       "      <td>37.810642</td>\n",
       "      <td>558.713584</td>\n",
       "      <td>86.434874</td>\n",
       "      <td>7.823471</td>\n",
       "      <td>7.490356</td>\n",
       "      <td>1198.005449</td>\n",
       "      <td>...</td>\n",
       "      <td>23.001911</td>\n",
       "      <td>-499.947838</td>\n",
       "      <td>20.023735</td>\n",
       "      <td>-499.713680</td>\n",
       "      <td>17.990955</td>\n",
       "      <td>-500.334769</td>\n",
       "      <td>13.007523</td>\n",
       "      <td>-499.968459</td>\n",
       "      <td>19.995999</td>\n",
       "      <td>-499.788805</td>\n",
       "    </tr>\n",
       "  </tbody>\n",
       "</table>\n",
       "<p>5 rows × 53 columns</p>\n",
       "</div>"
      ],
      "text/plain": [
       "                  date  rougher.input.feed_au  rougher.input.feed_ag  \\\n",
       "0  2017-12-09 14:59:59               4.365491               6.158718   \n",
       "1  2017-12-09 15:59:59               4.362781               6.048130   \n",
       "2  2017-12-09 16:59:59               5.081681               6.082745   \n",
       "3  2017-12-09 17:59:59               5.145949               6.084374   \n",
       "4  2017-12-09 18:59:59               5.735249               6.165220   \n",
       "\n",
       "   rougher.input.feed_pb  rougher.input.feed_sol  rougher.input.feed_rate  \\\n",
       "0               3.875727               39.135119               555.820208   \n",
       "1               3.902537               39.713906               544.731687   \n",
       "2               4.564078               37.208683               558.155110   \n",
       "3               4.768124               36.808874               539.713765   \n",
       "4               4.512346               37.810642               558.713584   \n",
       "\n",
       "   rougher.input.feed_size  rougher.input.floatbank10_sulfate  \\\n",
       "0                94.544358                           6.146982   \n",
       "1               123.742430                           6.210119   \n",
       "2                82.610855                           7.363824   \n",
       "3                77.984784                           6.927072   \n",
       "4                86.434874                           7.823471   \n",
       "\n",
       "   rougher.input.floatbank10_xanthate  rougher.state.floatbank10_a_air  ...  \\\n",
       "0                            9.308612                      1196.238112  ...   \n",
       "1                            9.297709                      1201.904177  ...   \n",
       "2                            9.003562                      1200.826926  ...   \n",
       "3                            8.955597                      1199.292489  ...   \n",
       "4                            7.490356                      1198.005449  ...   \n",
       "\n",
       "   secondary_cleaner.state.floatbank4_a_air  \\\n",
       "0                                 23.018622   \n",
       "1                                 23.024963   \n",
       "2                                 22.993827   \n",
       "3                                 23.032807   \n",
       "4                                 23.001911   \n",
       "\n",
       "   secondary_cleaner.state.floatbank4_a_level  \\\n",
       "0                                 -500.492702   \n",
       "1                                 -501.153409   \n",
       "2                                 -501.559663   \n",
       "3                                 -501.287889   \n",
       "4                                 -499.947838   \n",
       "\n",
       "   secondary_cleaner.state.floatbank4_b_air  \\\n",
       "0                                 20.020205   \n",
       "1                                 20.054122   \n",
       "2                                 20.029144   \n",
       "3                                 19.977466   \n",
       "4                                 20.023735   \n",
       "\n",
       "   secondary_cleaner.state.floatbank4_b_level  \\\n",
       "0                                 -500.220296   \n",
       "1                                 -500.314711   \n",
       "2                                 -500.000662   \n",
       "3                                 -500.159903   \n",
       "4                                 -499.713680   \n",
       "\n",
       "   secondary_cleaner.state.floatbank5_a_air  \\\n",
       "0                                 17.963512   \n",
       "1                                 17.979515   \n",
       "2                                 18.012723   \n",
       "3                                 17.980463   \n",
       "4                                 17.990955   \n",
       "\n",
       "   secondary_cleaner.state.floatbank5_a_level  \\\n",
       "0                                 -499.939490   \n",
       "1                                 -499.272871   \n",
       "2                                 -500.024764   \n",
       "3                                 -500.504602   \n",
       "4                                 -500.334769   \n",
       "\n",
       "   secondary_cleaner.state.floatbank5_b_air  \\\n",
       "0                                 12.990306   \n",
       "1                                 12.992404   \n",
       "2                                 13.016445   \n",
       "3                                 12.949071   \n",
       "4                                 13.007523   \n",
       "\n",
       "   secondary_cleaner.state.floatbank5_b_level  \\\n",
       "0                                 -500.080993   \n",
       "1                                 -499.976268   \n",
       "2                                 -500.058432   \n",
       "3                                 -500.009937   \n",
       "4                                 -499.968459   \n",
       "\n",
       "   secondary_cleaner.state.floatbank6_a_air  \\\n",
       "0                                 19.990336   \n",
       "1                                 20.013986   \n",
       "2                                 19.973767   \n",
       "3                                 20.010332   \n",
       "4                                 19.995999   \n",
       "\n",
       "   secondary_cleaner.state.floatbank6_a_level  \n",
       "0                                 -499.191575  \n",
       "1                                 -500.625471  \n",
       "2                                 -501.394155  \n",
       "3                                 -508.337973  \n",
       "4                                 -499.788805  \n",
       "\n",
       "[5 rows x 53 columns]"
      ]
     },
     "metadata": {},
     "output_type": "display_data"
    }
   ],
   "source": [
    "# display a test sample\n",
    "display(df_te.head())"
   ]
  },
  {
   "cell_type": "code",
   "execution_count": 5,
   "metadata": {
    "scrolled": false
   },
   "outputs": [
    {
     "data": {
      "text/html": [
       "<div>\n",
       "<style scoped>\n",
       "    .dataframe tbody tr th:only-of-type {\n",
       "        vertical-align: middle;\n",
       "    }\n",
       "\n",
       "    .dataframe tbody tr th {\n",
       "        vertical-align: top;\n",
       "    }\n",
       "\n",
       "    .dataframe thead th {\n",
       "        text-align: right;\n",
       "    }\n",
       "</style>\n",
       "<table border=\"1\" class=\"dataframe\">\n",
       "  <thead>\n",
       "    <tr style=\"text-align: right;\">\n",
       "      <th></th>\n",
       "      <th>date</th>\n",
       "      <th>rougher.input.feed_au</th>\n",
       "      <th>rougher.input.feed_ag</th>\n",
       "      <th>rougher.input.feed_pb</th>\n",
       "      <th>rougher.input.feed_sol</th>\n",
       "      <th>rougher.input.feed_rate</th>\n",
       "      <th>rougher.input.feed_size</th>\n",
       "      <th>rougher.input.floatbank10_sulfate</th>\n",
       "      <th>rougher.input.floatbank10_xanthate</th>\n",
       "      <th>rougher.state.floatbank10_a_air</th>\n",
       "      <th>...</th>\n",
       "      <th>secondary_cleaner.output.tail_sol</th>\n",
       "      <th>final.output.concentrate_au</th>\n",
       "      <th>final.output.concentrate_ag</th>\n",
       "      <th>final.output.concentrate_pb</th>\n",
       "      <th>final.output.concentrate_sol</th>\n",
       "      <th>final.output.recovery</th>\n",
       "      <th>final.output.tail_au</th>\n",
       "      <th>final.output.tail_ag</th>\n",
       "      <th>final.output.tail_pb</th>\n",
       "      <th>final.output.tail_sol</th>\n",
       "    </tr>\n",
       "  </thead>\n",
       "  <tbody>\n",
       "    <tr>\n",
       "      <th>0</th>\n",
       "      <td>2016-01-15 00:00:00</td>\n",
       "      <td>6.486150</td>\n",
       "      <td>6.100378</td>\n",
       "      <td>2.284912</td>\n",
       "      <td>36.808594</td>\n",
       "      <td>523.546326</td>\n",
       "      <td>55.486599</td>\n",
       "      <td>11.986616</td>\n",
       "      <td>6.007990</td>\n",
       "      <td>999.706909</td>\n",
       "      <td>...</td>\n",
       "      <td>8.764648</td>\n",
       "      <td>42.192020</td>\n",
       "      <td>6.055403</td>\n",
       "      <td>9.889648</td>\n",
       "      <td>5.507324</td>\n",
       "      <td>70.541216</td>\n",
       "      <td>2.143149</td>\n",
       "      <td>10.411962</td>\n",
       "      <td>0.895447</td>\n",
       "      <td>16.904297</td>\n",
       "    </tr>\n",
       "    <tr>\n",
       "      <th>1</th>\n",
       "      <td>2016-01-15 01:00:00</td>\n",
       "      <td>6.478583</td>\n",
       "      <td>6.161113</td>\n",
       "      <td>2.266033</td>\n",
       "      <td>35.753385</td>\n",
       "      <td>525.290581</td>\n",
       "      <td>57.278666</td>\n",
       "      <td>11.971193</td>\n",
       "      <td>6.005766</td>\n",
       "      <td>1000.286398</td>\n",
       "      <td>...</td>\n",
       "      <td>9.001494</td>\n",
       "      <td>42.701629</td>\n",
       "      <td>6.029369</td>\n",
       "      <td>9.968944</td>\n",
       "      <td>5.257781</td>\n",
       "      <td>69.266198</td>\n",
       "      <td>2.224930</td>\n",
       "      <td>10.462676</td>\n",
       "      <td>0.927452</td>\n",
       "      <td>16.634514</td>\n",
       "    </tr>\n",
       "    <tr>\n",
       "      <th>2</th>\n",
       "      <td>2016-01-15 02:00:00</td>\n",
       "      <td>6.362222</td>\n",
       "      <td>6.116455</td>\n",
       "      <td>2.159622</td>\n",
       "      <td>35.971630</td>\n",
       "      <td>530.026610</td>\n",
       "      <td>57.510649</td>\n",
       "      <td>11.920603</td>\n",
       "      <td>6.197377</td>\n",
       "      <td>999.719565</td>\n",
       "      <td>...</td>\n",
       "      <td>8.842896</td>\n",
       "      <td>42.657501</td>\n",
       "      <td>6.055926</td>\n",
       "      <td>10.213995</td>\n",
       "      <td>5.383759</td>\n",
       "      <td>68.116445</td>\n",
       "      <td>2.257889</td>\n",
       "      <td>10.507046</td>\n",
       "      <td>0.953716</td>\n",
       "      <td>16.208849</td>\n",
       "    </tr>\n",
       "    <tr>\n",
       "      <th>3</th>\n",
       "      <td>2016-01-15 03:00:00</td>\n",
       "      <td>6.118189</td>\n",
       "      <td>6.043309</td>\n",
       "      <td>2.037807</td>\n",
       "      <td>36.862241</td>\n",
       "      <td>542.590390</td>\n",
       "      <td>57.792734</td>\n",
       "      <td>11.630094</td>\n",
       "      <td>6.203177</td>\n",
       "      <td>999.814770</td>\n",
       "      <td>...</td>\n",
       "      <td>9.122857</td>\n",
       "      <td>42.689819</td>\n",
       "      <td>6.047977</td>\n",
       "      <td>9.977019</td>\n",
       "      <td>4.858634</td>\n",
       "      <td>68.347543</td>\n",
       "      <td>2.146849</td>\n",
       "      <td>10.422762</td>\n",
       "      <td>0.883763</td>\n",
       "      <td>16.532835</td>\n",
       "    </tr>\n",
       "    <tr>\n",
       "      <th>4</th>\n",
       "      <td>2016-01-15 04:00:00</td>\n",
       "      <td>5.663707</td>\n",
       "      <td>6.060915</td>\n",
       "      <td>1.786875</td>\n",
       "      <td>34.347666</td>\n",
       "      <td>540.531893</td>\n",
       "      <td>56.047189</td>\n",
       "      <td>10.957755</td>\n",
       "      <td>6.198826</td>\n",
       "      <td>999.678690</td>\n",
       "      <td>...</td>\n",
       "      <td>8.871028</td>\n",
       "      <td>42.774141</td>\n",
       "      <td>6.148599</td>\n",
       "      <td>10.142511</td>\n",
       "      <td>4.939416</td>\n",
       "      <td>66.927016</td>\n",
       "      <td>2.055292</td>\n",
       "      <td>10.360302</td>\n",
       "      <td>0.792826</td>\n",
       "      <td>16.525686</td>\n",
       "    </tr>\n",
       "  </tbody>\n",
       "</table>\n",
       "<p>5 rows × 87 columns</p>\n",
       "</div>"
      ],
      "text/plain": [
       "                  date  rougher.input.feed_au  rougher.input.feed_ag  \\\n",
       "0  2016-01-15 00:00:00               6.486150               6.100378   \n",
       "1  2016-01-15 01:00:00               6.478583               6.161113   \n",
       "2  2016-01-15 02:00:00               6.362222               6.116455   \n",
       "3  2016-01-15 03:00:00               6.118189               6.043309   \n",
       "4  2016-01-15 04:00:00               5.663707               6.060915   \n",
       "\n",
       "   rougher.input.feed_pb  rougher.input.feed_sol  rougher.input.feed_rate  \\\n",
       "0               2.284912               36.808594               523.546326   \n",
       "1               2.266033               35.753385               525.290581   \n",
       "2               2.159622               35.971630               530.026610   \n",
       "3               2.037807               36.862241               542.590390   \n",
       "4               1.786875               34.347666               540.531893   \n",
       "\n",
       "   rougher.input.feed_size  rougher.input.floatbank10_sulfate  \\\n",
       "0                55.486599                          11.986616   \n",
       "1                57.278666                          11.971193   \n",
       "2                57.510649                          11.920603   \n",
       "3                57.792734                          11.630094   \n",
       "4                56.047189                          10.957755   \n",
       "\n",
       "   rougher.input.floatbank10_xanthate  rougher.state.floatbank10_a_air  ...  \\\n",
       "0                            6.007990                       999.706909  ...   \n",
       "1                            6.005766                      1000.286398  ...   \n",
       "2                            6.197377                       999.719565  ...   \n",
       "3                            6.203177                       999.814770  ...   \n",
       "4                            6.198826                       999.678690  ...   \n",
       "\n",
       "   secondary_cleaner.output.tail_sol  final.output.concentrate_au  \\\n",
       "0                           8.764648                    42.192020   \n",
       "1                           9.001494                    42.701629   \n",
       "2                           8.842896                    42.657501   \n",
       "3                           9.122857                    42.689819   \n",
       "4                           8.871028                    42.774141   \n",
       "\n",
       "   final.output.concentrate_ag  final.output.concentrate_pb  \\\n",
       "0                     6.055403                     9.889648   \n",
       "1                     6.029369                     9.968944   \n",
       "2                     6.055926                    10.213995   \n",
       "3                     6.047977                     9.977019   \n",
       "4                     6.148599                    10.142511   \n",
       "\n",
       "   final.output.concentrate_sol  final.output.recovery  final.output.tail_au  \\\n",
       "0                      5.507324              70.541216              2.143149   \n",
       "1                      5.257781              69.266198              2.224930   \n",
       "2                      5.383759              68.116445              2.257889   \n",
       "3                      4.858634              68.347543              2.146849   \n",
       "4                      4.939416              66.927016              2.055292   \n",
       "\n",
       "   final.output.tail_ag  final.output.tail_pb  final.output.tail_sol  \n",
       "0             10.411962              0.895447              16.904297  \n",
       "1             10.462676              0.927452              16.634514  \n",
       "2             10.507046              0.953716              16.208849  \n",
       "3             10.422762              0.883763              16.532835  \n",
       "4             10.360302              0.792826              16.525686  \n",
       "\n",
       "[5 rows x 87 columns]"
      ]
     },
     "metadata": {},
     "output_type": "display_data"
    }
   ],
   "source": [
    "# display complete data\n",
    "display(df_fu.head())"
   ]
  },
  {
   "cell_type": "code",
   "execution_count": 6,
   "metadata": {},
   "outputs": [
    {
     "data": {
      "text/html": [
       "<div>\n",
       "<style scoped>\n",
       "    .dataframe tbody tr th:only-of-type {\n",
       "        vertical-align: middle;\n",
       "    }\n",
       "\n",
       "    .dataframe tbody tr th {\n",
       "        vertical-align: top;\n",
       "    }\n",
       "\n",
       "    .dataframe thead th {\n",
       "        text-align: right;\n",
       "    }\n",
       "</style>\n",
       "<table border=\"1\" class=\"dataframe\">\n",
       "  <thead>\n",
       "    <tr style=\"text-align: right;\">\n",
       "      <th></th>\n",
       "      <th>rougher.input.feed_au</th>\n",
       "      <th>rougher.input.feed_ag</th>\n",
       "      <th>rougher.input.feed_pb</th>\n",
       "      <th>rougher.input.feed_sol</th>\n",
       "      <th>rougher.input.feed_rate</th>\n",
       "      <th>rougher.input.feed_size</th>\n",
       "      <th>rougher.input.floatbank10_sulfate</th>\n",
       "      <th>rougher.input.floatbank10_xanthate</th>\n",
       "      <th>rougher.state.floatbank10_a_air</th>\n",
       "      <th>rougher.state.floatbank10_a_level</th>\n",
       "      <th>...</th>\n",
       "      <th>secondary_cleaner.output.tail_sol</th>\n",
       "      <th>final.output.concentrate_au</th>\n",
       "      <th>final.output.concentrate_ag</th>\n",
       "      <th>final.output.concentrate_pb</th>\n",
       "      <th>final.output.concentrate_sol</th>\n",
       "      <th>final.output.recovery</th>\n",
       "      <th>final.output.tail_au</th>\n",
       "      <th>final.output.tail_ag</th>\n",
       "      <th>final.output.tail_pb</th>\n",
       "      <th>final.output.tail_sol</th>\n",
       "    </tr>\n",
       "  </thead>\n",
       "  <tbody>\n",
       "    <tr>\n",
       "      <th>count</th>\n",
       "      <td>14579.000000</td>\n",
       "      <td>14579.000000</td>\n",
       "      <td>14507.000000</td>\n",
       "      <td>14502.000000</td>\n",
       "      <td>14572.000000</td>\n",
       "      <td>14478.000000</td>\n",
       "      <td>14548.000000</td>\n",
       "      <td>14572.000000</td>\n",
       "      <td>14579.000000</td>\n",
       "      <td>14579.000000</td>\n",
       "      <td>...</td>\n",
       "      <td>13659.000000</td>\n",
       "      <td>14579.000000</td>\n",
       "      <td>14578.000000</td>\n",
       "      <td>14578.000000</td>\n",
       "      <td>14387.000000</td>\n",
       "      <td>14579.000000</td>\n",
       "      <td>14579.000000</td>\n",
       "      <td>14578.000000</td>\n",
       "      <td>14504.000000</td>\n",
       "      <td>14574.000000</td>\n",
       "    </tr>\n",
       "    <tr>\n",
       "      <th>mean</th>\n",
       "      <td>8.352941</td>\n",
       "      <td>8.877460</td>\n",
       "      <td>3.604221</td>\n",
       "      <td>36.561420</td>\n",
       "      <td>474.332784</td>\n",
       "      <td>58.922712</td>\n",
       "      <td>12.427399</td>\n",
       "      <td>5.994854</td>\n",
       "      <td>1104.208278</td>\n",
       "      <td>-379.367166</td>\n",
       "      <td>...</td>\n",
       "      <td>7.111347</td>\n",
       "      <td>43.979499</td>\n",
       "      <td>5.192145</td>\n",
       "      <td>9.923809</td>\n",
       "      <td>9.566676</td>\n",
       "      <td>66.759066</td>\n",
       "      <td>3.087939</td>\n",
       "      <td>9.731972</td>\n",
       "      <td>2.719985</td>\n",
       "      <td>10.612745</td>\n",
       "    </tr>\n",
       "    <tr>\n",
       "      <th>std</th>\n",
       "      <td>1.934376</td>\n",
       "      <td>1.922536</td>\n",
       "      <td>1.056063</td>\n",
       "      <td>5.209823</td>\n",
       "      <td>108.503552</td>\n",
       "      <td>22.407410</td>\n",
       "      <td>3.428939</td>\n",
       "      <td>1.152873</td>\n",
       "      <td>162.235606</td>\n",
       "      <td>94.652311</td>\n",
       "      <td>...</td>\n",
       "      <td>3.909951</td>\n",
       "      <td>5.471437</td>\n",
       "      <td>1.388014</td>\n",
       "      <td>1.706976</td>\n",
       "      <td>2.805654</td>\n",
       "      <td>10.619709</td>\n",
       "      <td>0.915187</td>\n",
       "      <td>2.358143</td>\n",
       "      <td>0.958929</td>\n",
       "      <td>2.871075</td>\n",
       "    </tr>\n",
       "    <tr>\n",
       "      <th>min</th>\n",
       "      <td>0.010000</td>\n",
       "      <td>0.010000</td>\n",
       "      <td>0.010000</td>\n",
       "      <td>0.010000</td>\n",
       "      <td>0.002986</td>\n",
       "      <td>0.049194</td>\n",
       "      <td>0.001083</td>\n",
       "      <td>0.000568</td>\n",
       "      <td>-0.042069</td>\n",
       "      <td>-657.949759</td>\n",
       "      <td>...</td>\n",
       "      <td>0.000000</td>\n",
       "      <td>0.000000</td>\n",
       "      <td>0.000000</td>\n",
       "      <td>0.000000</td>\n",
       "      <td>0.000000</td>\n",
       "      <td>0.000000</td>\n",
       "      <td>0.000000</td>\n",
       "      <td>0.000000</td>\n",
       "      <td>0.000000</td>\n",
       "      <td>0.000000</td>\n",
       "    </tr>\n",
       "    <tr>\n",
       "      <th>25%</th>\n",
       "      <td>6.932996</td>\n",
       "      <td>7.341922</td>\n",
       "      <td>2.880490</td>\n",
       "      <td>34.093951</td>\n",
       "      <td>411.048483</td>\n",
       "      <td>47.278490</td>\n",
       "      <td>10.002832</td>\n",
       "      <td>5.304167</td>\n",
       "      <td>999.644856</td>\n",
       "      <td>-499.861797</td>\n",
       "      <td>...</td>\n",
       "      <td>3.784897</td>\n",
       "      <td>43.345906</td>\n",
       "      <td>4.283347</td>\n",
       "      <td>9.103183</td>\n",
       "      <td>7.860030</td>\n",
       "      <td>63.114596</td>\n",
       "      <td>2.505287</td>\n",
       "      <td>8.088928</td>\n",
       "      <td>2.036512</td>\n",
       "      <td>9.013412</td>\n",
       "    </tr>\n",
       "    <tr>\n",
       "      <th>50%</th>\n",
       "      <td>8.225284</td>\n",
       "      <td>8.715859</td>\n",
       "      <td>3.532399</td>\n",
       "      <td>37.097511</td>\n",
       "      <td>498.187968</td>\n",
       "      <td>54.361187</td>\n",
       "      <td>12.003320</td>\n",
       "      <td>6.003053</td>\n",
       "      <td>1000.982624</td>\n",
       "      <td>-300.314199</td>\n",
       "      <td>...</td>\n",
       "      <td>7.629968</td>\n",
       "      <td>44.975014</td>\n",
       "      <td>5.118647</td>\n",
       "      <td>10.046455</td>\n",
       "      <td>9.301970</td>\n",
       "      <td>67.962788</td>\n",
       "      <td>3.029238</td>\n",
       "      <td>9.818512</td>\n",
       "      <td>2.774847</td>\n",
       "      <td>10.670515</td>\n",
       "    </tr>\n",
       "    <tr>\n",
       "      <th>75%</th>\n",
       "      <td>9.832210</td>\n",
       "      <td>10.255843</td>\n",
       "      <td>4.257282</td>\n",
       "      <td>39.899799</td>\n",
       "      <td>549.586552</td>\n",
       "      <td>64.464926</td>\n",
       "      <td>14.929903</td>\n",
       "      <td>6.796632</td>\n",
       "      <td>1292.663971</td>\n",
       "      <td>-299.989315</td>\n",
       "      <td>...</td>\n",
       "      <td>10.367050</td>\n",
       "      <td>46.275153</td>\n",
       "      <td>5.925380</td>\n",
       "      <td>10.981203</td>\n",
       "      <td>11.001573</td>\n",
       "      <td>72.598187</td>\n",
       "      <td>3.614098</td>\n",
       "      <td>11.169187</td>\n",
       "      <td>3.353845</td>\n",
       "      <td>12.130827</td>\n",
       "    </tr>\n",
       "    <tr>\n",
       "      <th>max</th>\n",
       "      <td>13.731330</td>\n",
       "      <td>14.596026</td>\n",
       "      <td>7.052325</td>\n",
       "      <td>53.475325</td>\n",
       "      <td>717.508837</td>\n",
       "      <td>484.967466</td>\n",
       "      <td>36.118275</td>\n",
       "      <td>9.703448</td>\n",
       "      <td>1512.299531</td>\n",
       "      <td>-273.776101</td>\n",
       "      <td>...</td>\n",
       "      <td>26.000772</td>\n",
       "      <td>52.756638</td>\n",
       "      <td>16.001945</td>\n",
       "      <td>16.705297</td>\n",
       "      <td>19.423912</td>\n",
       "      <td>100.000000</td>\n",
       "      <td>8.245022</td>\n",
       "      <td>19.552149</td>\n",
       "      <td>5.804178</td>\n",
       "      <td>22.317730</td>\n",
       "    </tr>\n",
       "  </tbody>\n",
       "</table>\n",
       "<p>8 rows × 86 columns</p>\n",
       "</div>"
      ],
      "text/plain": [
       "       rougher.input.feed_au  rougher.input.feed_ag  rougher.input.feed_pb  \\\n",
       "count           14579.000000           14579.000000           14507.000000   \n",
       "mean                8.352941               8.877460               3.604221   \n",
       "std                 1.934376               1.922536               1.056063   \n",
       "min                 0.010000               0.010000               0.010000   \n",
       "25%                 6.932996               7.341922               2.880490   \n",
       "50%                 8.225284               8.715859               3.532399   \n",
       "75%                 9.832210              10.255843               4.257282   \n",
       "max                13.731330              14.596026               7.052325   \n",
       "\n",
       "       rougher.input.feed_sol  rougher.input.feed_rate  \\\n",
       "count            14502.000000             14572.000000   \n",
       "mean                36.561420               474.332784   \n",
       "std                  5.209823               108.503552   \n",
       "min                  0.010000                 0.002986   \n",
       "25%                 34.093951               411.048483   \n",
       "50%                 37.097511               498.187968   \n",
       "75%                 39.899799               549.586552   \n",
       "max                 53.475325               717.508837   \n",
       "\n",
       "       rougher.input.feed_size  rougher.input.floatbank10_sulfate  \\\n",
       "count             14478.000000                       14548.000000   \n",
       "mean                 58.922712                          12.427399   \n",
       "std                  22.407410                           3.428939   \n",
       "min                   0.049194                           0.001083   \n",
       "25%                  47.278490                          10.002832   \n",
       "50%                  54.361187                          12.003320   \n",
       "75%                  64.464926                          14.929903   \n",
       "max                 484.967466                          36.118275   \n",
       "\n",
       "       rougher.input.floatbank10_xanthate  rougher.state.floatbank10_a_air  \\\n",
       "count                        14572.000000                     14579.000000   \n",
       "mean                             5.994854                      1104.208278   \n",
       "std                              1.152873                       162.235606   \n",
       "min                              0.000568                        -0.042069   \n",
       "25%                              5.304167                       999.644856   \n",
       "50%                              6.003053                      1000.982624   \n",
       "75%                              6.796632                      1292.663971   \n",
       "max                              9.703448                      1512.299531   \n",
       "\n",
       "       rougher.state.floatbank10_a_level  ...  \\\n",
       "count                       14579.000000  ...   \n",
       "mean                         -379.367166  ...   \n",
       "std                            94.652311  ...   \n",
       "min                          -657.949759  ...   \n",
       "25%                          -499.861797  ...   \n",
       "50%                          -300.314199  ...   \n",
       "75%                          -299.989315  ...   \n",
       "max                          -273.776101  ...   \n",
       "\n",
       "       secondary_cleaner.output.tail_sol  final.output.concentrate_au  \\\n",
       "count                       13659.000000                 14579.000000   \n",
       "mean                            7.111347                    43.979499   \n",
       "std                             3.909951                     5.471437   \n",
       "min                             0.000000                     0.000000   \n",
       "25%                             3.784897                    43.345906   \n",
       "50%                             7.629968                    44.975014   \n",
       "75%                            10.367050                    46.275153   \n",
       "max                            26.000772                    52.756638   \n",
       "\n",
       "       final.output.concentrate_ag  final.output.concentrate_pb  \\\n",
       "count                 14578.000000                 14578.000000   \n",
       "mean                      5.192145                     9.923809   \n",
       "std                       1.388014                     1.706976   \n",
       "min                       0.000000                     0.000000   \n",
       "25%                       4.283347                     9.103183   \n",
       "50%                       5.118647                    10.046455   \n",
       "75%                       5.925380                    10.981203   \n",
       "max                      16.001945                    16.705297   \n",
       "\n",
       "       final.output.concentrate_sol  final.output.recovery  \\\n",
       "count                  14387.000000           14579.000000   \n",
       "mean                       9.566676              66.759066   \n",
       "std                        2.805654              10.619709   \n",
       "min                        0.000000               0.000000   \n",
       "25%                        7.860030              63.114596   \n",
       "50%                        9.301970              67.962788   \n",
       "75%                       11.001573              72.598187   \n",
       "max                       19.423912             100.000000   \n",
       "\n",
       "       final.output.tail_au  final.output.tail_ag  final.output.tail_pb  \\\n",
       "count          14579.000000          14578.000000          14504.000000   \n",
       "mean               3.087939              9.731972              2.719985   \n",
       "std                0.915187              2.358143              0.958929   \n",
       "min                0.000000              0.000000              0.000000   \n",
       "25%                2.505287              8.088928              2.036512   \n",
       "50%                3.029238              9.818512              2.774847   \n",
       "75%                3.614098             11.169187              3.353845   \n",
       "max                8.245022             19.552149              5.804178   \n",
       "\n",
       "       final.output.tail_sol  \n",
       "count           14574.000000  \n",
       "mean               10.612745  \n",
       "std                 2.871075  \n",
       "min                 0.000000  \n",
       "25%                 9.013412  \n",
       "50%                10.670515  \n",
       "75%                12.130827  \n",
       "max                22.317730  \n",
       "\n",
       "[8 rows x 86 columns]"
      ]
     },
     "execution_count": 6,
     "metadata": {},
     "output_type": "execute_result"
    }
   ],
   "source": [
    "# display statistical information\n",
    "df_tr.describe()"
   ]
  },
  {
   "cell_type": "code",
   "execution_count": 7,
   "metadata": {
    "scrolled": true
   },
   "outputs": [
    {
     "data": {
      "text/html": [
       "<div>\n",
       "<style scoped>\n",
       "    .dataframe tbody tr th:only-of-type {\n",
       "        vertical-align: middle;\n",
       "    }\n",
       "\n",
       "    .dataframe tbody tr th {\n",
       "        vertical-align: top;\n",
       "    }\n",
       "\n",
       "    .dataframe thead th {\n",
       "        text-align: right;\n",
       "    }\n",
       "</style>\n",
       "<table border=\"1\" class=\"dataframe\">\n",
       "  <thead>\n",
       "    <tr style=\"text-align: right;\">\n",
       "      <th></th>\n",
       "      <th>rougher.input.feed_au</th>\n",
       "      <th>rougher.input.feed_ag</th>\n",
       "      <th>rougher.input.feed_pb</th>\n",
       "      <th>rougher.input.feed_sol</th>\n",
       "      <th>rougher.input.feed_rate</th>\n",
       "      <th>rougher.input.feed_size</th>\n",
       "      <th>rougher.input.floatbank10_sulfate</th>\n",
       "      <th>rougher.input.floatbank10_xanthate</th>\n",
       "      <th>rougher.state.floatbank10_a_air</th>\n",
       "      <th>rougher.state.floatbank10_a_level</th>\n",
       "      <th>...</th>\n",
       "      <th>secondary_cleaner.state.floatbank4_a_air</th>\n",
       "      <th>secondary_cleaner.state.floatbank4_a_level</th>\n",
       "      <th>secondary_cleaner.state.floatbank4_b_air</th>\n",
       "      <th>secondary_cleaner.state.floatbank4_b_level</th>\n",
       "      <th>secondary_cleaner.state.floatbank5_a_air</th>\n",
       "      <th>secondary_cleaner.state.floatbank5_a_level</th>\n",
       "      <th>secondary_cleaner.state.floatbank5_b_air</th>\n",
       "      <th>secondary_cleaner.state.floatbank5_b_level</th>\n",
       "      <th>secondary_cleaner.state.floatbank6_a_air</th>\n",
       "      <th>secondary_cleaner.state.floatbank6_a_level</th>\n",
       "    </tr>\n",
       "  </thead>\n",
       "  <tbody>\n",
       "    <tr>\n",
       "      <th>count</th>\n",
       "      <td>4860.000000</td>\n",
       "      <td>4860.000000</td>\n",
       "      <td>4832.000000</td>\n",
       "      <td>4838.000000</td>\n",
       "      <td>4856.000000</td>\n",
       "      <td>4816.000000</td>\n",
       "      <td>4857.000000</td>\n",
       "      <td>4859.000000</td>\n",
       "      <td>4859.000000</td>\n",
       "      <td>4859.000000</td>\n",
       "      <td>...</td>\n",
       "      <td>4.859000e+03</td>\n",
       "      <td>4859.000000</td>\n",
       "      <td>4.859000e+03</td>\n",
       "      <td>4859.000000</td>\n",
       "      <td>4859.000000</td>\n",
       "      <td>4859.000000</td>\n",
       "      <td>4859.000000</td>\n",
       "      <td>4859.000000</td>\n",
       "      <td>4859.000000</td>\n",
       "      <td>4859.000000</td>\n",
       "    </tr>\n",
       "    <tr>\n",
       "      <th>mean</th>\n",
       "      <td>8.005584</td>\n",
       "      <td>8.547348</td>\n",
       "      <td>3.579662</td>\n",
       "      <td>37.095864</td>\n",
       "      <td>490.285103</td>\n",
       "      <td>59.113400</td>\n",
       "      <td>12.055735</td>\n",
       "      <td>6.101308</td>\n",
       "      <td>1108.635895</td>\n",
       "      <td>-368.340127</td>\n",
       "      <td>...</td>\n",
       "      <td>1.985770e+01</td>\n",
       "      <td>-488.665140</td>\n",
       "      <td>1.557025e+01</td>\n",
       "      <td>-464.176507</td>\n",
       "      <td>16.594103</td>\n",
       "      <td>-490.815250</td>\n",
       "      <td>12.945971</td>\n",
       "      <td>-489.583564</td>\n",
       "      <td>19.053888</td>\n",
       "      <td>-504.678924</td>\n",
       "    </tr>\n",
       "    <tr>\n",
       "      <th>std</th>\n",
       "      <td>1.993590</td>\n",
       "      <td>1.958601</td>\n",
       "      <td>1.029377</td>\n",
       "      <td>4.926284</td>\n",
       "      <td>94.371623</td>\n",
       "      <td>19.125122</td>\n",
       "      <td>3.407642</td>\n",
       "      <td>1.042754</td>\n",
       "      <td>156.493143</td>\n",
       "      <td>91.155929</td>\n",
       "      <td>...</td>\n",
       "      <td>5.913105e+00</td>\n",
       "      <td>44.392714</td>\n",
       "      <td>4.927361e+00</td>\n",
       "      <td>65.706994</td>\n",
       "      <td>5.724305</td>\n",
       "      <td>32.258443</td>\n",
       "      <td>5.533176</td>\n",
       "      <td>37.084609</td>\n",
       "      <td>5.548996</td>\n",
       "      <td>38.690186</td>\n",
       "    </tr>\n",
       "    <tr>\n",
       "      <th>min</th>\n",
       "      <td>0.010000</td>\n",
       "      <td>0.010000</td>\n",
       "      <td>0.010000</td>\n",
       "      <td>0.010000</td>\n",
       "      <td>0.012786</td>\n",
       "      <td>0.046369</td>\n",
       "      <td>0.018907</td>\n",
       "      <td>0.015783</td>\n",
       "      <td>300.792494</td>\n",
       "      <td>-600.568138</td>\n",
       "      <td>...</td>\n",
       "      <td>1.079872e-16</td>\n",
       "      <td>-799.704969</td>\n",
       "      <td>2.489718e-17</td>\n",
       "      <td>-799.860767</td>\n",
       "      <td>-0.371498</td>\n",
       "      <td>-797.142475</td>\n",
       "      <td>1.358469</td>\n",
       "      <td>-800.006180</td>\n",
       "      <td>0.160386</td>\n",
       "      <td>-809.734800</td>\n",
       "    </tr>\n",
       "    <tr>\n",
       "      <th>25%</th>\n",
       "      <td>6.574363</td>\n",
       "      <td>6.975898</td>\n",
       "      <td>2.903612</td>\n",
       "      <td>34.510841</td>\n",
       "      <td>434.099695</td>\n",
       "      <td>47.596984</td>\n",
       "      <td>9.890429</td>\n",
       "      <td>5.499808</td>\n",
       "      <td>999.715729</td>\n",
       "      <td>-499.731972</td>\n",
       "      <td>...</td>\n",
       "      <td>1.501123e+01</td>\n",
       "      <td>-500.704004</td>\n",
       "      <td>1.202172e+01</td>\n",
       "      <td>-500.196517</td>\n",
       "      <td>11.073822</td>\n",
       "      <td>-500.483564</td>\n",
       "      <td>9.011890</td>\n",
       "      <td>-500.129913</td>\n",
       "      <td>14.963953</td>\n",
       "      <td>-500.668501</td>\n",
       "    </tr>\n",
       "    <tr>\n",
       "      <th>50%</th>\n",
       "      <td>7.812923</td>\n",
       "      <td>8.179714</td>\n",
       "      <td>3.540772</td>\n",
       "      <td>37.499761</td>\n",
       "      <td>502.118742</td>\n",
       "      <td>55.509481</td>\n",
       "      <td>11.997859</td>\n",
       "      <td>6.099805</td>\n",
       "      <td>1001.414798</td>\n",
       "      <td>-300.181367</td>\n",
       "      <td>...</td>\n",
       "      <td>1.996807e+01</td>\n",
       "      <td>-499.892919</td>\n",
       "      <td>1.501240e+01</td>\n",
       "      <td>-499.540776</td>\n",
       "      <td>16.631195</td>\n",
       "      <td>-499.873136</td>\n",
       "      <td>11.999417</td>\n",
       "      <td>-499.955304</td>\n",
       "      <td>19.960006</td>\n",
       "      <td>-500.033769</td>\n",
       "    </tr>\n",
       "    <tr>\n",
       "      <th>75%</th>\n",
       "      <td>9.556589</td>\n",
       "      <td>10.084339</td>\n",
       "      <td>4.199847</td>\n",
       "      <td>40.461315</td>\n",
       "      <td>555.596563</td>\n",
       "      <td>66.661547</td>\n",
       "      <td>14.496072</td>\n",
       "      <td>6.802101</td>\n",
       "      <td>1202.837565</td>\n",
       "      <td>-299.961547</td>\n",
       "      <td>...</td>\n",
       "      <td>2.498900e+01</td>\n",
       "      <td>-498.652030</td>\n",
       "      <td>1.999949e+01</td>\n",
       "      <td>-400.302329</td>\n",
       "      <td>19.983191</td>\n",
       "      <td>-498.852815</td>\n",
       "      <td>15.004198</td>\n",
       "      <td>-499.643776</td>\n",
       "      <td>24.974583</td>\n",
       "      <td>-499.460134</td>\n",
       "    </tr>\n",
       "    <tr>\n",
       "      <th>max</th>\n",
       "      <td>13.417156</td>\n",
       "      <td>14.533698</td>\n",
       "      <td>7.142594</td>\n",
       "      <td>53.477742</td>\n",
       "      <td>702.523396</td>\n",
       "      <td>363.989699</td>\n",
       "      <td>30.010759</td>\n",
       "      <td>9.396928</td>\n",
       "      <td>1521.980372</td>\n",
       "      <td>-281.039299</td>\n",
       "      <td>...</td>\n",
       "      <td>3.008450e+01</td>\n",
       "      <td>-383.373053</td>\n",
       "      <td>2.398898e+01</td>\n",
       "      <td>-114.250832</td>\n",
       "      <td>33.215996</td>\n",
       "      <td>-288.963521</td>\n",
       "      <td>24.177106</td>\n",
       "      <td>-141.934397</td>\n",
       "      <td>32.028529</td>\n",
       "      <td>-104.427459</td>\n",
       "    </tr>\n",
       "  </tbody>\n",
       "</table>\n",
       "<p>8 rows × 52 columns</p>\n",
       "</div>"
      ],
      "text/plain": [
       "       rougher.input.feed_au  rougher.input.feed_ag  rougher.input.feed_pb  \\\n",
       "count            4860.000000            4860.000000            4832.000000   \n",
       "mean                8.005584               8.547348               3.579662   \n",
       "std                 1.993590               1.958601               1.029377   \n",
       "min                 0.010000               0.010000               0.010000   \n",
       "25%                 6.574363               6.975898               2.903612   \n",
       "50%                 7.812923               8.179714               3.540772   \n",
       "75%                 9.556589              10.084339               4.199847   \n",
       "max                13.417156              14.533698               7.142594   \n",
       "\n",
       "       rougher.input.feed_sol  rougher.input.feed_rate  \\\n",
       "count             4838.000000              4856.000000   \n",
       "mean                37.095864               490.285103   \n",
       "std                  4.926284                94.371623   \n",
       "min                  0.010000                 0.012786   \n",
       "25%                 34.510841               434.099695   \n",
       "50%                 37.499761               502.118742   \n",
       "75%                 40.461315               555.596563   \n",
       "max                 53.477742               702.523396   \n",
       "\n",
       "       rougher.input.feed_size  rougher.input.floatbank10_sulfate  \\\n",
       "count              4816.000000                        4857.000000   \n",
       "mean                 59.113400                          12.055735   \n",
       "std                  19.125122                           3.407642   \n",
       "min                   0.046369                           0.018907   \n",
       "25%                  47.596984                           9.890429   \n",
       "50%                  55.509481                          11.997859   \n",
       "75%                  66.661547                          14.496072   \n",
       "max                 363.989699                          30.010759   \n",
       "\n",
       "       rougher.input.floatbank10_xanthate  rougher.state.floatbank10_a_air  \\\n",
       "count                         4859.000000                      4859.000000   \n",
       "mean                             6.101308                      1108.635895   \n",
       "std                              1.042754                       156.493143   \n",
       "min                              0.015783                       300.792494   \n",
       "25%                              5.499808                       999.715729   \n",
       "50%                              6.099805                      1001.414798   \n",
       "75%                              6.802101                      1202.837565   \n",
       "max                              9.396928                      1521.980372   \n",
       "\n",
       "       rougher.state.floatbank10_a_level  ...  \\\n",
       "count                        4859.000000  ...   \n",
       "mean                         -368.340127  ...   \n",
       "std                            91.155929  ...   \n",
       "min                          -600.568138  ...   \n",
       "25%                          -499.731972  ...   \n",
       "50%                          -300.181367  ...   \n",
       "75%                          -299.961547  ...   \n",
       "max                          -281.039299  ...   \n",
       "\n",
       "       secondary_cleaner.state.floatbank4_a_air  \\\n",
       "count                              4.859000e+03   \n",
       "mean                               1.985770e+01   \n",
       "std                                5.913105e+00   \n",
       "min                                1.079872e-16   \n",
       "25%                                1.501123e+01   \n",
       "50%                                1.996807e+01   \n",
       "75%                                2.498900e+01   \n",
       "max                                3.008450e+01   \n",
       "\n",
       "       secondary_cleaner.state.floatbank4_a_level  \\\n",
       "count                                 4859.000000   \n",
       "mean                                  -488.665140   \n",
       "std                                     44.392714   \n",
       "min                                   -799.704969   \n",
       "25%                                   -500.704004   \n",
       "50%                                   -499.892919   \n",
       "75%                                   -498.652030   \n",
       "max                                   -383.373053   \n",
       "\n",
       "       secondary_cleaner.state.floatbank4_b_air  \\\n",
       "count                              4.859000e+03   \n",
       "mean                               1.557025e+01   \n",
       "std                                4.927361e+00   \n",
       "min                                2.489718e-17   \n",
       "25%                                1.202172e+01   \n",
       "50%                                1.501240e+01   \n",
       "75%                                1.999949e+01   \n",
       "max                                2.398898e+01   \n",
       "\n",
       "       secondary_cleaner.state.floatbank4_b_level  \\\n",
       "count                                 4859.000000   \n",
       "mean                                  -464.176507   \n",
       "std                                     65.706994   \n",
       "min                                   -799.860767   \n",
       "25%                                   -500.196517   \n",
       "50%                                   -499.540776   \n",
       "75%                                   -400.302329   \n",
       "max                                   -114.250832   \n",
       "\n",
       "       secondary_cleaner.state.floatbank5_a_air  \\\n",
       "count                               4859.000000   \n",
       "mean                                  16.594103   \n",
       "std                                    5.724305   \n",
       "min                                   -0.371498   \n",
       "25%                                   11.073822   \n",
       "50%                                   16.631195   \n",
       "75%                                   19.983191   \n",
       "max                                   33.215996   \n",
       "\n",
       "       secondary_cleaner.state.floatbank5_a_level  \\\n",
       "count                                 4859.000000   \n",
       "mean                                  -490.815250   \n",
       "std                                     32.258443   \n",
       "min                                   -797.142475   \n",
       "25%                                   -500.483564   \n",
       "50%                                   -499.873136   \n",
       "75%                                   -498.852815   \n",
       "max                                   -288.963521   \n",
       "\n",
       "       secondary_cleaner.state.floatbank5_b_air  \\\n",
       "count                               4859.000000   \n",
       "mean                                  12.945971   \n",
       "std                                    5.533176   \n",
       "min                                    1.358469   \n",
       "25%                                    9.011890   \n",
       "50%                                   11.999417   \n",
       "75%                                   15.004198   \n",
       "max                                   24.177106   \n",
       "\n",
       "       secondary_cleaner.state.floatbank5_b_level  \\\n",
       "count                                 4859.000000   \n",
       "mean                                  -489.583564   \n",
       "std                                     37.084609   \n",
       "min                                   -800.006180   \n",
       "25%                                   -500.129913   \n",
       "50%                                   -499.955304   \n",
       "75%                                   -499.643776   \n",
       "max                                   -141.934397   \n",
       "\n",
       "       secondary_cleaner.state.floatbank6_a_air  \\\n",
       "count                               4859.000000   \n",
       "mean                                  19.053888   \n",
       "std                                    5.548996   \n",
       "min                                    0.160386   \n",
       "25%                                   14.963953   \n",
       "50%                                   19.960006   \n",
       "75%                                   24.974583   \n",
       "max                                   32.028529   \n",
       "\n",
       "       secondary_cleaner.state.floatbank6_a_level  \n",
       "count                                 4859.000000  \n",
       "mean                                  -504.678924  \n",
       "std                                     38.690186  \n",
       "min                                   -809.734800  \n",
       "25%                                   -500.668501  \n",
       "50%                                   -500.033769  \n",
       "75%                                   -499.460134  \n",
       "max                                   -104.427459  \n",
       "\n",
       "[8 rows x 52 columns]"
      ]
     },
     "execution_count": 7,
     "metadata": {},
     "output_type": "execute_result"
    }
   ],
   "source": [
    "# display statistical information\n",
    "df_te.describe()"
   ]
  },
  {
   "cell_type": "code",
   "execution_count": 8,
   "metadata": {},
   "outputs": [
    {
     "data": {
      "text/html": [
       "<div>\n",
       "<style scoped>\n",
       "    .dataframe tbody tr th:only-of-type {\n",
       "        vertical-align: middle;\n",
       "    }\n",
       "\n",
       "    .dataframe tbody tr th {\n",
       "        vertical-align: top;\n",
       "    }\n",
       "\n",
       "    .dataframe thead th {\n",
       "        text-align: right;\n",
       "    }\n",
       "</style>\n",
       "<table border=\"1\" class=\"dataframe\">\n",
       "  <thead>\n",
       "    <tr style=\"text-align: right;\">\n",
       "      <th></th>\n",
       "      <th>rougher.input.feed_au</th>\n",
       "      <th>rougher.input.feed_ag</th>\n",
       "      <th>rougher.input.feed_pb</th>\n",
       "      <th>rougher.input.feed_sol</th>\n",
       "      <th>rougher.input.feed_rate</th>\n",
       "      <th>rougher.input.feed_size</th>\n",
       "      <th>rougher.input.floatbank10_sulfate</th>\n",
       "      <th>rougher.input.floatbank10_xanthate</th>\n",
       "      <th>rougher.state.floatbank10_a_air</th>\n",
       "      <th>rougher.state.floatbank10_a_level</th>\n",
       "      <th>...</th>\n",
       "      <th>secondary_cleaner.output.tail_sol</th>\n",
       "      <th>final.output.concentrate_au</th>\n",
       "      <th>final.output.concentrate_ag</th>\n",
       "      <th>final.output.concentrate_pb</th>\n",
       "      <th>final.output.concentrate_sol</th>\n",
       "      <th>final.output.recovery</th>\n",
       "      <th>final.output.tail_au</th>\n",
       "      <th>final.output.tail_ag</th>\n",
       "      <th>final.output.tail_pb</th>\n",
       "      <th>final.output.tail_sol</th>\n",
       "    </tr>\n",
       "  </thead>\n",
       "  <tbody>\n",
       "    <tr>\n",
       "      <th>count</th>\n",
       "      <td>19439.000000</td>\n",
       "      <td>19439.000000</td>\n",
       "      <td>19339.000000</td>\n",
       "      <td>19340.000000</td>\n",
       "      <td>19428.000000</td>\n",
       "      <td>19294.000000</td>\n",
       "      <td>19405.000000</td>\n",
       "      <td>19431.000000</td>\n",
       "      <td>19438.000000</td>\n",
       "      <td>19438.000000</td>\n",
       "      <td>...</td>\n",
       "      <td>17691.000000</td>\n",
       "      <td>19439.000000</td>\n",
       "      <td>19438.000000</td>\n",
       "      <td>19438.000000</td>\n",
       "      <td>19228.000000</td>\n",
       "      <td>19439.000000</td>\n",
       "      <td>19439.000000</td>\n",
       "      <td>19438.000000</td>\n",
       "      <td>19338.000000</td>\n",
       "      <td>19433.000000</td>\n",
       "    </tr>\n",
       "    <tr>\n",
       "      <th>mean</th>\n",
       "      <td>8.266097</td>\n",
       "      <td>8.794927</td>\n",
       "      <td>3.598085</td>\n",
       "      <td>36.695114</td>\n",
       "      <td>478.320042</td>\n",
       "      <td>58.970310</td>\n",
       "      <td>12.334373</td>\n",
       "      <td>6.021474</td>\n",
       "      <td>1105.315068</td>\n",
       "      <td>-376.610690</td>\n",
       "      <td>...</td>\n",
       "      <td>7.167247</td>\n",
       "      <td>44.076513</td>\n",
       "      <td>5.168470</td>\n",
       "      <td>9.978895</td>\n",
       "      <td>9.501224</td>\n",
       "      <td>67.050208</td>\n",
       "      <td>3.042467</td>\n",
       "      <td>9.688589</td>\n",
       "      <td>2.705795</td>\n",
       "      <td>10.583728</td>\n",
       "    </tr>\n",
       "    <tr>\n",
       "      <th>std</th>\n",
       "      <td>1.955092</td>\n",
       "      <td>1.936847</td>\n",
       "      <td>1.049486</td>\n",
       "      <td>5.145445</td>\n",
       "      <td>105.373758</td>\n",
       "      <td>21.634478</td>\n",
       "      <td>3.427317</td>\n",
       "      <td>1.127263</td>\n",
       "      <td>160.826798</td>\n",
       "      <td>93.909667</td>\n",
       "      <td>...</td>\n",
       "      <td>3.916079</td>\n",
       "      <td>5.129784</td>\n",
       "      <td>1.372348</td>\n",
       "      <td>1.669240</td>\n",
       "      <td>2.787537</td>\n",
       "      <td>10.125840</td>\n",
       "      <td>0.922808</td>\n",
       "      <td>2.328642</td>\n",
       "      <td>0.949077</td>\n",
       "      <td>2.868782</td>\n",
       "    </tr>\n",
       "    <tr>\n",
       "      <th>min</th>\n",
       "      <td>0.010000</td>\n",
       "      <td>0.010000</td>\n",
       "      <td>0.010000</td>\n",
       "      <td>0.010000</td>\n",
       "      <td>0.002986</td>\n",
       "      <td>0.046369</td>\n",
       "      <td>0.001083</td>\n",
       "      <td>0.000568</td>\n",
       "      <td>-0.042069</td>\n",
       "      <td>-657.949759</td>\n",
       "      <td>...</td>\n",
       "      <td>0.000000</td>\n",
       "      <td>0.000000</td>\n",
       "      <td>0.000000</td>\n",
       "      <td>0.000000</td>\n",
       "      <td>0.000000</td>\n",
       "      <td>0.000000</td>\n",
       "      <td>0.000000</td>\n",
       "      <td>0.000000</td>\n",
       "      <td>0.000000</td>\n",
       "      <td>0.000000</td>\n",
       "    </tr>\n",
       "    <tr>\n",
       "      <th>25%</th>\n",
       "      <td>6.854384</td>\n",
       "      <td>7.237967</td>\n",
       "      <td>2.887280</td>\n",
       "      <td>34.207799</td>\n",
       "      <td>416.525453</td>\n",
       "      <td>47.435103</td>\n",
       "      <td>10.000362</td>\n",
       "      <td>5.398678</td>\n",
       "      <td>999.661867</td>\n",
       "      <td>-499.835165</td>\n",
       "      <td>...</td>\n",
       "      <td>3.845475</td>\n",
       "      <td>43.402215</td>\n",
       "      <td>4.251240</td>\n",
       "      <td>9.137262</td>\n",
       "      <td>7.722820</td>\n",
       "      <td>63.299712</td>\n",
       "      <td>2.461138</td>\n",
       "      <td>8.062878</td>\n",
       "      <td>2.040119</td>\n",
       "      <td>8.938947</td>\n",
       "    </tr>\n",
       "    <tr>\n",
       "      <th>50%</th>\n",
       "      <td>8.125839</td>\n",
       "      <td>8.593574</td>\n",
       "      <td>3.534895</td>\n",
       "      <td>37.202650</td>\n",
       "      <td>499.416120</td>\n",
       "      <td>54.610197</td>\n",
       "      <td>12.001174</td>\n",
       "      <td>6.008273</td>\n",
       "      <td>1001.072890</td>\n",
       "      <td>-300.263994</td>\n",
       "      <td>...</td>\n",
       "      <td>7.685827</td>\n",
       "      <td>45.011244</td>\n",
       "      <td>5.066094</td>\n",
       "      <td>10.102433</td>\n",
       "      <td>9.218961</td>\n",
       "      <td>68.172738</td>\n",
       "      <td>2.984909</td>\n",
       "      <td>9.743623</td>\n",
       "      <td>2.748730</td>\n",
       "      <td>10.622456</td>\n",
       "    </tr>\n",
       "    <tr>\n",
       "      <th>75%</th>\n",
       "      <td>9.769917</td>\n",
       "      <td>10.213771</td>\n",
       "      <td>4.244161</td>\n",
       "      <td>40.039133</td>\n",
       "      <td>550.172183</td>\n",
       "      <td>65.023044</td>\n",
       "      <td>14.716595</td>\n",
       "      <td>6.798051</td>\n",
       "      <td>1205.620588</td>\n",
       "      <td>-299.981998</td>\n",
       "      <td>...</td>\n",
       "      <td>10.411296</td>\n",
       "      <td>46.275313</td>\n",
       "      <td>5.895527</td>\n",
       "      <td>11.035769</td>\n",
       "      <td>10.947813</td>\n",
       "      <td>72.686642</td>\n",
       "      <td>3.571351</td>\n",
       "      <td>11.134294</td>\n",
       "      <td>3.333216</td>\n",
       "      <td>12.104271</td>\n",
       "    </tr>\n",
       "    <tr>\n",
       "      <th>max</th>\n",
       "      <td>13.731330</td>\n",
       "      <td>14.596026</td>\n",
       "      <td>7.142594</td>\n",
       "      <td>53.477742</td>\n",
       "      <td>717.508837</td>\n",
       "      <td>484.967466</td>\n",
       "      <td>36.118275</td>\n",
       "      <td>9.703448</td>\n",
       "      <td>1521.980372</td>\n",
       "      <td>-273.776101</td>\n",
       "      <td>...</td>\n",
       "      <td>26.000772</td>\n",
       "      <td>52.756638</td>\n",
       "      <td>16.001945</td>\n",
       "      <td>17.031899</td>\n",
       "      <td>19.615720</td>\n",
       "      <td>100.000000</td>\n",
       "      <td>8.245022</td>\n",
       "      <td>19.552149</td>\n",
       "      <td>5.804178</td>\n",
       "      <td>22.317730</td>\n",
       "    </tr>\n",
       "  </tbody>\n",
       "</table>\n",
       "<p>8 rows × 86 columns</p>\n",
       "</div>"
      ],
      "text/plain": [
       "       rougher.input.feed_au  rougher.input.feed_ag  rougher.input.feed_pb  \\\n",
       "count           19439.000000           19439.000000           19339.000000   \n",
       "mean                8.266097               8.794927               3.598085   \n",
       "std                 1.955092               1.936847               1.049486   \n",
       "min                 0.010000               0.010000               0.010000   \n",
       "25%                 6.854384               7.237967               2.887280   \n",
       "50%                 8.125839               8.593574               3.534895   \n",
       "75%                 9.769917              10.213771               4.244161   \n",
       "max                13.731330              14.596026               7.142594   \n",
       "\n",
       "       rougher.input.feed_sol  rougher.input.feed_rate  \\\n",
       "count            19340.000000             19428.000000   \n",
       "mean                36.695114               478.320042   \n",
       "std                  5.145445               105.373758   \n",
       "min                  0.010000                 0.002986   \n",
       "25%                 34.207799               416.525453   \n",
       "50%                 37.202650               499.416120   \n",
       "75%                 40.039133               550.172183   \n",
       "max                 53.477742               717.508837   \n",
       "\n",
       "       rougher.input.feed_size  rougher.input.floatbank10_sulfate  \\\n",
       "count             19294.000000                       19405.000000   \n",
       "mean                 58.970310                          12.334373   \n",
       "std                  21.634478                           3.427317   \n",
       "min                   0.046369                           0.001083   \n",
       "25%                  47.435103                          10.000362   \n",
       "50%                  54.610197                          12.001174   \n",
       "75%                  65.023044                          14.716595   \n",
       "max                 484.967466                          36.118275   \n",
       "\n",
       "       rougher.input.floatbank10_xanthate  rougher.state.floatbank10_a_air  \\\n",
       "count                        19431.000000                     19438.000000   \n",
       "mean                             6.021474                      1105.315068   \n",
       "std                              1.127263                       160.826798   \n",
       "min                              0.000568                        -0.042069   \n",
       "25%                              5.398678                       999.661867   \n",
       "50%                              6.008273                      1001.072890   \n",
       "75%                              6.798051                      1205.620588   \n",
       "max                              9.703448                      1521.980372   \n",
       "\n",
       "       rougher.state.floatbank10_a_level  ...  \\\n",
       "count                       19438.000000  ...   \n",
       "mean                         -376.610690  ...   \n",
       "std                            93.909667  ...   \n",
       "min                          -657.949759  ...   \n",
       "25%                          -499.835165  ...   \n",
       "50%                          -300.263994  ...   \n",
       "75%                          -299.981998  ...   \n",
       "max                          -273.776101  ...   \n",
       "\n",
       "       secondary_cleaner.output.tail_sol  final.output.concentrate_au  \\\n",
       "count                       17691.000000                 19439.000000   \n",
       "mean                            7.167247                    44.076513   \n",
       "std                             3.916079                     5.129784   \n",
       "min                             0.000000                     0.000000   \n",
       "25%                             3.845475                    43.402215   \n",
       "50%                             7.685827                    45.011244   \n",
       "75%                            10.411296                    46.275313   \n",
       "max                            26.000772                    52.756638   \n",
       "\n",
       "       final.output.concentrate_ag  final.output.concentrate_pb  \\\n",
       "count                 19438.000000                 19438.000000   \n",
       "mean                      5.168470                     9.978895   \n",
       "std                       1.372348                     1.669240   \n",
       "min                       0.000000                     0.000000   \n",
       "25%                       4.251240                     9.137262   \n",
       "50%                       5.066094                    10.102433   \n",
       "75%                       5.895527                    11.035769   \n",
       "max                      16.001945                    17.031899   \n",
       "\n",
       "       final.output.concentrate_sol  final.output.recovery  \\\n",
       "count                  19228.000000           19439.000000   \n",
       "mean                       9.501224              67.050208   \n",
       "std                        2.787537              10.125840   \n",
       "min                        0.000000               0.000000   \n",
       "25%                        7.722820              63.299712   \n",
       "50%                        9.218961              68.172738   \n",
       "75%                       10.947813              72.686642   \n",
       "max                       19.615720             100.000000   \n",
       "\n",
       "       final.output.tail_au  final.output.tail_ag  final.output.tail_pb  \\\n",
       "count          19439.000000          19438.000000          19338.000000   \n",
       "mean               3.042467              9.688589              2.705795   \n",
       "std                0.922808              2.328642              0.949077   \n",
       "min                0.000000              0.000000              0.000000   \n",
       "25%                2.461138              8.062878              2.040119   \n",
       "50%                2.984909              9.743623              2.748730   \n",
       "75%                3.571351             11.134294              3.333216   \n",
       "max                8.245022             19.552149              5.804178   \n",
       "\n",
       "       final.output.tail_sol  \n",
       "count           19433.000000  \n",
       "mean               10.583728  \n",
       "std                 2.868782  \n",
       "min                 0.000000  \n",
       "25%                 8.938947  \n",
       "50%                10.622456  \n",
       "75%                12.104271  \n",
       "max                22.317730  \n",
       "\n",
       "[8 rows x 86 columns]"
      ]
     },
     "execution_count": 8,
     "metadata": {},
     "output_type": "execute_result"
    }
   ],
   "source": [
    "# display statistical information\n",
    "df_fu.describe()"
   ]
  },
  {
   "cell_type": "code",
   "execution_count": 9,
   "metadata": {},
   "outputs": [
    {
     "name": "stdout",
     "output_type": "stream",
     "text": [
      "<class 'pandas.core.frame.DataFrame'>\n",
      "RangeIndex: 19439 entries, 0 to 19438\n",
      "Data columns (total 87 columns):\n",
      " #   Column                                              Non-Null Count  Dtype  \n",
      "---  ------                                              --------------  -----  \n",
      " 0   date                                                19439 non-null  object \n",
      " 1   rougher.input.feed_au                               19439 non-null  float64\n",
      " 2   rougher.input.feed_ag                               19439 non-null  float64\n",
      " 3   rougher.input.feed_pb                               19339 non-null  float64\n",
      " 4   rougher.input.feed_sol                              19340 non-null  float64\n",
      " 5   rougher.input.feed_rate                             19428 non-null  float64\n",
      " 6   rougher.input.feed_size                             19294 non-null  float64\n",
      " 7   rougher.input.floatbank10_sulfate                   19405 non-null  float64\n",
      " 8   rougher.input.floatbank10_xanthate                  19431 non-null  float64\n",
      " 9   rougher.state.floatbank10_a_air                     19438 non-null  float64\n",
      " 10  rougher.state.floatbank10_a_level                   19438 non-null  float64\n",
      " 11  rougher.state.floatbank10_b_air                     19438 non-null  float64\n",
      " 12  rougher.state.floatbank10_b_level                   19438 non-null  float64\n",
      " 13  rougher.state.floatbank10_c_air                     19438 non-null  float64\n",
      " 14  rougher.state.floatbank10_c_level                   19438 non-null  float64\n",
      " 15  rougher.state.floatbank10_d_air                     19439 non-null  float64\n",
      " 16  rougher.state.floatbank10_d_level                   19439 non-null  float64\n",
      " 17  rougher.state.floatbank10_e_air                     19003 non-null  float64\n",
      " 18  rougher.state.floatbank10_e_level                   19439 non-null  float64\n",
      " 19  rougher.state.floatbank10_f_air                     19439 non-null  float64\n",
      " 20  rougher.state.floatbank10_f_level                   19439 non-null  float64\n",
      " 21  rougher.input.floatbank11_sulfate                   19395 non-null  float64\n",
      " 22  rougher.input.floatbank11_xanthate                  18986 non-null  float64\n",
      " 23  rougher.calculation.sulfate_to_au_concentrate       19437 non-null  float64\n",
      " 24  rougher.calculation.floatbank10_sulfate_to_au_feed  19437 non-null  float64\n",
      " 25  rougher.calculation.floatbank11_sulfate_to_au_feed  19437 non-null  float64\n",
      " 26  rougher.calculation.au_pb_ratio                     19439 non-null  float64\n",
      " 27  rougher.output.concentrate_au                       19439 non-null  float64\n",
      " 28  rougher.output.concentrate_ag                       19439 non-null  float64\n",
      " 29  rougher.output.concentrate_pb                       19439 non-null  float64\n",
      " 30  rougher.output.concentrate_sol                      19416 non-null  float64\n",
      " 31  rougher.output.recovery                             19439 non-null  float64\n",
      " 32  rougher.output.tail_au                              19439 non-null  float64\n",
      " 33  rougher.output.tail_ag                              19438 non-null  float64\n",
      " 34  rougher.output.tail_pb                              19439 non-null  float64\n",
      " 35  rougher.output.tail_sol                             19439 non-null  float64\n",
      " 36  primary_cleaner.input.sulfate                       19415 non-null  float64\n",
      " 37  primary_cleaner.input.depressant                    19402 non-null  float64\n",
      " 38  primary_cleaner.input.feed_size                     19439 non-null  float64\n",
      " 39  primary_cleaner.input.xanthate                      19335 non-null  float64\n",
      " 40  primary_cleaner.state.floatbank8_a_air              19435 non-null  float64\n",
      " 41  primary_cleaner.state.floatbank8_a_level            19438 non-null  float64\n",
      " 42  primary_cleaner.state.floatbank8_b_air              19435 non-null  float64\n",
      " 43  primary_cleaner.state.floatbank8_b_level            19438 non-null  float64\n",
      " 44  primary_cleaner.state.floatbank8_c_air              19437 non-null  float64\n",
      " 45  primary_cleaner.state.floatbank8_c_level            19438 non-null  float64\n",
      " 46  primary_cleaner.state.floatbank8_d_air              19436 non-null  float64\n",
      " 47  primary_cleaner.state.floatbank8_d_level            19438 non-null  float64\n",
      " 48  primary_cleaner.output.concentrate_au               19439 non-null  float64\n",
      " 49  primary_cleaner.output.concentrate_ag               19439 non-null  float64\n",
      " 50  primary_cleaner.output.concentrate_pb               19323 non-null  float64\n",
      " 51  primary_cleaner.output.concentrate_sol              19069 non-null  float64\n",
      " 52  primary_cleaner.output.tail_au                      19439 non-null  float64\n",
      " 53  primary_cleaner.output.tail_ag                      19435 non-null  float64\n",
      " 54  primary_cleaner.output.tail_pb                      19418 non-null  float64\n",
      " 55  primary_cleaner.output.tail_sol                     19377 non-null  float64\n",
      " 56  secondary_cleaner.state.floatbank2_a_air            19219 non-null  float64\n",
      " 57  secondary_cleaner.state.floatbank2_a_level          19438 non-null  float64\n",
      " 58  secondary_cleaner.state.floatbank2_b_air            19416 non-null  float64\n",
      " 59  secondary_cleaner.state.floatbank2_b_level          19438 non-null  float64\n",
      " 60  secondary_cleaner.state.floatbank3_a_air            19426 non-null  float64\n",
      " 61  secondary_cleaner.state.floatbank3_a_level          19438 non-null  float64\n",
      " 62  secondary_cleaner.state.floatbank3_b_air            19438 non-null  float64\n",
      " 63  secondary_cleaner.state.floatbank3_b_level          19438 non-null  float64\n",
      " 64  secondary_cleaner.state.floatbank4_a_air            19433 non-null  float64\n",
      " 65  secondary_cleaner.state.floatbank4_a_level          19438 non-null  float64\n",
      " 66  secondary_cleaner.state.floatbank4_b_air            19438 non-null  float64\n",
      " 67  secondary_cleaner.state.floatbank4_b_level          19438 non-null  float64\n",
      " 68  secondary_cleaner.state.floatbank5_a_air            19438 non-null  float64\n",
      " 69  secondary_cleaner.state.floatbank5_a_level          19438 non-null  float64\n",
      " 70  secondary_cleaner.state.floatbank5_b_air            19438 non-null  float64\n",
      " 71  secondary_cleaner.state.floatbank5_b_level          19438 non-null  float64\n",
      " 72  secondary_cleaner.state.floatbank6_a_air            19437 non-null  float64\n",
      " 73  secondary_cleaner.state.floatbank6_a_level          19438 non-null  float64\n",
      " 74  secondary_cleaner.output.tail_au                    19439 non-null  float64\n",
      " 75  secondary_cleaner.output.tail_ag                    19437 non-null  float64\n",
      " 76  secondary_cleaner.output.tail_pb                    19427 non-null  float64\n",
      " 77  secondary_cleaner.output.tail_sol                   17691 non-null  float64\n",
      " 78  final.output.concentrate_au                         19439 non-null  float64\n",
      " 79  final.output.concentrate_ag                         19438 non-null  float64\n",
      " 80  final.output.concentrate_pb                         19438 non-null  float64\n",
      " 81  final.output.concentrate_sol                        19228 non-null  float64\n",
      " 82  final.output.recovery                               19439 non-null  float64\n",
      " 83  final.output.tail_au                                19439 non-null  float64\n",
      " 84  final.output.tail_ag                                19438 non-null  float64\n",
      " 85  final.output.tail_pb                                19338 non-null  float64\n",
      " 86  final.output.tail_sol                               19433 non-null  float64\n",
      "dtypes: float64(86), object(1)\n",
      "memory usage: 12.9+ MB\n"
     ]
    }
   ],
   "source": [
    "# Let's look at the entire list of columns to get an idea of ​​the process\n",
    "df_fu.info()"
   ]
  },
  {
   "cell_type": "code",
   "execution_count": 10,
   "metadata": {},
   "outputs": [
    {
     "name": "stdout",
     "output_type": "stream",
     "text": [
      "<class 'pandas.core.frame.DataFrame'>\n",
      "RangeIndex: 14579 entries, 0 to 14578\n",
      "Data columns (total 87 columns):\n",
      " #   Column                                              Non-Null Count  Dtype  \n",
      "---  ------                                              --------------  -----  \n",
      " 0   date                                                14579 non-null  object \n",
      " 1   rougher.input.feed_au                               14579 non-null  float64\n",
      " 2   rougher.input.feed_ag                               14579 non-null  float64\n",
      " 3   rougher.input.feed_pb                               14507 non-null  float64\n",
      " 4   rougher.input.feed_sol                              14502 non-null  float64\n",
      " 5   rougher.input.feed_rate                             14572 non-null  float64\n",
      " 6   rougher.input.feed_size                             14478 non-null  float64\n",
      " 7   rougher.input.floatbank10_sulfate                   14548 non-null  float64\n",
      " 8   rougher.input.floatbank10_xanthate                  14572 non-null  float64\n",
      " 9   rougher.state.floatbank10_a_air                     14579 non-null  float64\n",
      " 10  rougher.state.floatbank10_a_level                   14579 non-null  float64\n",
      " 11  rougher.state.floatbank10_b_air                     14579 non-null  float64\n",
      " 12  rougher.state.floatbank10_b_level                   14579 non-null  float64\n",
      " 13  rougher.state.floatbank10_c_air                     14579 non-null  float64\n",
      " 14  rougher.state.floatbank10_c_level                   14579 non-null  float64\n",
      " 15  rougher.state.floatbank10_d_air                     14579 non-null  float64\n",
      " 16  rougher.state.floatbank10_d_level                   14579 non-null  float64\n",
      " 17  rougher.state.floatbank10_e_air                     14150 non-null  float64\n",
      " 18  rougher.state.floatbank10_e_level                   14579 non-null  float64\n",
      " 19  rougher.state.floatbank10_f_air                     14579 non-null  float64\n",
      " 20  rougher.state.floatbank10_f_level                   14579 non-null  float64\n",
      " 21  rougher.input.floatbank11_sulfate                   14543 non-null  float64\n",
      " 22  rougher.input.floatbank11_xanthate                  14172 non-null  float64\n",
      " 23  rougher.calculation.sulfate_to_au_concentrate       14578 non-null  float64\n",
      " 24  rougher.calculation.floatbank10_sulfate_to_au_feed  14578 non-null  float64\n",
      " 25  rougher.calculation.floatbank11_sulfate_to_au_feed  14578 non-null  float64\n",
      " 26  rougher.calculation.au_pb_ratio                     14579 non-null  float64\n",
      " 27  rougher.output.concentrate_au                       14579 non-null  float64\n",
      " 28  rougher.output.concentrate_ag                       14579 non-null  float64\n",
      " 29  rougher.output.concentrate_pb                       14579 non-null  float64\n",
      " 30  rougher.output.concentrate_sol                      14561 non-null  float64\n",
      " 31  rougher.output.recovery                             14579 non-null  float64\n",
      " 32  rougher.output.tail_au                              14579 non-null  float64\n",
      " 33  rougher.output.tail_ag                              14578 non-null  float64\n",
      " 34  rougher.output.tail_pb                              14579 non-null  float64\n",
      " 35  rougher.output.tail_sol                             14579 non-null  float64\n",
      " 36  primary_cleaner.input.sulfate                       14556 non-null  float64\n",
      " 37  primary_cleaner.input.depressant                    14551 non-null  float64\n",
      " 38  primary_cleaner.input.feed_size                     14579 non-null  float64\n",
      " 39  primary_cleaner.input.xanthate                      14518 non-null  float64\n",
      " 40  primary_cleaner.state.floatbank8_a_air              14576 non-null  float64\n",
      " 41  primary_cleaner.state.floatbank8_a_level            14579 non-null  float64\n",
      " 42  primary_cleaner.state.floatbank8_b_air              14576 non-null  float64\n",
      " 43  primary_cleaner.state.floatbank8_b_level            14579 non-null  float64\n",
      " 44  primary_cleaner.state.floatbank8_c_air              14579 non-null  float64\n",
      " 45  primary_cleaner.state.floatbank8_c_level            14579 non-null  float64\n",
      " 46  primary_cleaner.state.floatbank8_d_air              14578 non-null  float64\n",
      " 47  primary_cleaner.state.floatbank8_d_level            14579 non-null  float64\n",
      " 48  primary_cleaner.output.concentrate_au               14579 non-null  float64\n",
      " 49  primary_cleaner.output.concentrate_ag               14579 non-null  float64\n",
      " 50  primary_cleaner.output.concentrate_pb               14491 non-null  float64\n",
      " 51  primary_cleaner.output.concentrate_sol              14314 non-null  float64\n",
      " 52  primary_cleaner.output.tail_au                      14579 non-null  float64\n",
      " 53  primary_cleaner.output.tail_ag                      14575 non-null  float64\n",
      " 54  primary_cleaner.output.tail_pb                      14573 non-null  float64\n",
      " 55  primary_cleaner.output.tail_sol                     14534 non-null  float64\n",
      " 56  secondary_cleaner.state.floatbank2_a_air            14485 non-null  float64\n",
      " 57  secondary_cleaner.state.floatbank2_a_level          14579 non-null  float64\n",
      " 58  secondary_cleaner.state.floatbank2_b_air            14557 non-null  float64\n",
      " 59  secondary_cleaner.state.floatbank2_b_level          14579 non-null  float64\n",
      " 60  secondary_cleaner.state.floatbank3_a_air            14567 non-null  float64\n",
      " 61  secondary_cleaner.state.floatbank3_a_level          14579 non-null  float64\n",
      " 62  secondary_cleaner.state.floatbank3_b_air            14579 non-null  float64\n",
      " 63  secondary_cleaner.state.floatbank3_b_level          14579 non-null  float64\n",
      " 64  secondary_cleaner.state.floatbank4_a_air            14574 non-null  float64\n",
      " 65  secondary_cleaner.state.floatbank4_a_level          14579 non-null  float64\n",
      " 66  secondary_cleaner.state.floatbank4_b_air            14579 non-null  float64\n",
      " 67  secondary_cleaner.state.floatbank4_b_level          14579 non-null  float64\n",
      " 68  secondary_cleaner.state.floatbank5_a_air            14579 non-null  float64\n",
      " 69  secondary_cleaner.state.floatbank5_a_level          14579 non-null  float64\n",
      " 70  secondary_cleaner.state.floatbank5_b_air            14579 non-null  float64\n",
      " 71  secondary_cleaner.state.floatbank5_b_level          14579 non-null  float64\n",
      " 72  secondary_cleaner.state.floatbank6_a_air            14578 non-null  float64\n",
      " 73  secondary_cleaner.state.floatbank6_a_level          14579 non-null  float64\n",
      " 74  secondary_cleaner.output.tail_au                    14579 non-null  float64\n",
      " 75  secondary_cleaner.output.tail_ag                    14578 non-null  float64\n",
      " 76  secondary_cleaner.output.tail_pb                    14575 non-null  float64\n",
      " 77  secondary_cleaner.output.tail_sol                   13659 non-null  float64\n",
      " 78  final.output.concentrate_au                         14579 non-null  float64\n",
      " 79  final.output.concentrate_ag                         14578 non-null  float64\n",
      " 80  final.output.concentrate_pb                         14578 non-null  float64\n",
      " 81  final.output.concentrate_sol                        14387 non-null  float64\n",
      " 82  final.output.recovery                               14579 non-null  float64\n",
      " 83  final.output.tail_au                                14579 non-null  float64\n",
      " 84  final.output.tail_ag                                14578 non-null  float64\n",
      " 85  final.output.tail_pb                                14504 non-null  float64\n",
      " 86  final.output.tail_sol                               14574 non-null  float64\n",
      "dtypes: float64(86), object(1)\n",
      "memory usage: 9.7+ MB\n"
     ]
    }
   ],
   "source": [
    "# let's look at the information on the training set\n",
    "df_tr.info()"
   ]
  },
  {
   "cell_type": "code",
   "execution_count": 11,
   "metadata": {},
   "outputs": [
    {
     "name": "stdout",
     "output_type": "stream",
     "text": [
      "0        87.107763\n",
      "1        86.843261\n",
      "2        86.842308\n",
      "3        87.226430\n",
      "4        86.688794\n",
      "           ...    \n",
      "14574    87.684717\n",
      "14575    90.677361\n",
      "14576    89.574376\n",
      "14577    87.724007\n",
      "14578    88.890579\n",
      "Length: 14579, dtype: float64\n",
      "9.83758577644259e-15\n"
     ]
    }
   ],
   "source": [
    "# check the correctness of the calculation of enrichment efficiency\n",
    "input_au, output_tail, output_au = (df_tr['rougher.input.feed_au'], df_tr['rougher.output.tail_au'],\n",
    "                                    df_tr['rougher.output.concentrate_au'])\n",
    "check_recovery = (output_au * (input_au - output_tail)) / (input_au * (output_au - output_tail)) * 100\n",
    "mae = mean_absolute_error(df_tr['rougher.output.recovery'], check_recovery)\n",
    "print(check_recovery)\n",
    "print(mae)"
   ]
  },
  {
   "cell_type": "markdown",
   "metadata": {},
   "source": [
    "MAE не очень высокий, значения столбцов check_recovery и rougher.output.recovery близки."
   ]
  },
  {
   "cell_type": "code",
   "execution_count": 12,
   "metadata": {},
   "outputs": [
    {
     "data": {
      "text/html": [
       "<div>\n",
       "<style scoped>\n",
       "    .dataframe tbody tr th:only-of-type {\n",
       "        vertical-align: middle;\n",
       "    }\n",
       "\n",
       "    .dataframe tbody tr th {\n",
       "        vertical-align: top;\n",
       "    }\n",
       "\n",
       "    .dataframe thead th {\n",
       "        text-align: right;\n",
       "    }\n",
       "</style>\n",
       "<table border=\"1\" class=\"dataframe\">\n",
       "  <thead>\n",
       "    <tr style=\"text-align: right;\">\n",
       "      <th></th>\n",
       "      <th>rougher.input.feed_pb</th>\n",
       "      <th>rougher.input.feed_sol</th>\n",
       "      <th>rougher.input.feed_rate</th>\n",
       "      <th>rougher.input.feed_size</th>\n",
       "      <th>rougher.input.floatbank10_sulfate</th>\n",
       "      <th>rougher.input.floatbank10_xanthate</th>\n",
       "      <th>rougher.state.floatbank10_a_air</th>\n",
       "      <th>rougher.state.floatbank10_a_level</th>\n",
       "      <th>rougher.state.floatbank10_b_air</th>\n",
       "      <th>rougher.state.floatbank10_b_level</th>\n",
       "      <th>...</th>\n",
       "      <th>secondary_cleaner.state.floatbank4_a_air</th>\n",
       "      <th>secondary_cleaner.state.floatbank4_a_level</th>\n",
       "      <th>secondary_cleaner.state.floatbank4_b_air</th>\n",
       "      <th>secondary_cleaner.state.floatbank4_b_level</th>\n",
       "      <th>secondary_cleaner.state.floatbank5_a_air</th>\n",
       "      <th>secondary_cleaner.state.floatbank5_a_level</th>\n",
       "      <th>secondary_cleaner.state.floatbank5_b_air</th>\n",
       "      <th>secondary_cleaner.state.floatbank5_b_level</th>\n",
       "      <th>secondary_cleaner.state.floatbank6_a_air</th>\n",
       "      <th>secondary_cleaner.state.floatbank6_a_level</th>\n",
       "    </tr>\n",
       "  </thead>\n",
       "  <tbody>\n",
       "    <tr>\n",
       "      <th>0</th>\n",
       "      <td>3.875727</td>\n",
       "      <td>39.135119</td>\n",
       "      <td>555.820208</td>\n",
       "      <td>94.544358</td>\n",
       "      <td>6.146982</td>\n",
       "      <td>9.308612</td>\n",
       "      <td>1196.238112</td>\n",
       "      <td>-299.862743</td>\n",
       "      <td>1147.248241</td>\n",
       "      <td>-500.363165</td>\n",
       "      <td>...</td>\n",
       "      <td>23.018622</td>\n",
       "      <td>-500.492702</td>\n",
       "      <td>20.020205</td>\n",
       "      <td>-500.220296</td>\n",
       "      <td>17.963512</td>\n",
       "      <td>-499.939490</td>\n",
       "      <td>12.990306</td>\n",
       "      <td>-500.080993</td>\n",
       "      <td>19.990336</td>\n",
       "      <td>-499.191575</td>\n",
       "    </tr>\n",
       "    <tr>\n",
       "      <th>1</th>\n",
       "      <td>3.902537</td>\n",
       "      <td>39.713906</td>\n",
       "      <td>544.731687</td>\n",
       "      <td>123.742430</td>\n",
       "      <td>6.210119</td>\n",
       "      <td>9.297709</td>\n",
       "      <td>1201.904177</td>\n",
       "      <td>-299.907308</td>\n",
       "      <td>1154.087804</td>\n",
       "      <td>-500.036580</td>\n",
       "      <td>...</td>\n",
       "      <td>23.024963</td>\n",
       "      <td>-501.153409</td>\n",
       "      <td>20.054122</td>\n",
       "      <td>-500.314711</td>\n",
       "      <td>17.979515</td>\n",
       "      <td>-499.272871</td>\n",
       "      <td>12.992404</td>\n",
       "      <td>-499.976268</td>\n",
       "      <td>20.013986</td>\n",
       "      <td>-500.625471</td>\n",
       "    </tr>\n",
       "    <tr>\n",
       "      <th>2</th>\n",
       "      <td>4.564078</td>\n",
       "      <td>37.208683</td>\n",
       "      <td>558.155110</td>\n",
       "      <td>82.610855</td>\n",
       "      <td>7.363824</td>\n",
       "      <td>9.003562</td>\n",
       "      <td>1200.826926</td>\n",
       "      <td>-300.124116</td>\n",
       "      <td>1150.754676</td>\n",
       "      <td>-499.986009</td>\n",
       "      <td>...</td>\n",
       "      <td>22.993827</td>\n",
       "      <td>-501.559663</td>\n",
       "      <td>20.029144</td>\n",
       "      <td>-500.000662</td>\n",
       "      <td>18.012723</td>\n",
       "      <td>-500.024764</td>\n",
       "      <td>13.016445</td>\n",
       "      <td>-500.058432</td>\n",
       "      <td>19.973767</td>\n",
       "      <td>-501.394155</td>\n",
       "    </tr>\n",
       "    <tr>\n",
       "      <th>3</th>\n",
       "      <td>4.768124</td>\n",
       "      <td>36.808874</td>\n",
       "      <td>539.713765</td>\n",
       "      <td>77.984784</td>\n",
       "      <td>6.927072</td>\n",
       "      <td>8.955597</td>\n",
       "      <td>1199.292489</td>\n",
       "      <td>-299.778385</td>\n",
       "      <td>1152.512559</td>\n",
       "      <td>-500.338106</td>\n",
       "      <td>...</td>\n",
       "      <td>23.032807</td>\n",
       "      <td>-501.287889</td>\n",
       "      <td>19.977466</td>\n",
       "      <td>-500.159903</td>\n",
       "      <td>17.980463</td>\n",
       "      <td>-500.504602</td>\n",
       "      <td>12.949071</td>\n",
       "      <td>-500.009937</td>\n",
       "      <td>20.010332</td>\n",
       "      <td>-508.337973</td>\n",
       "    </tr>\n",
       "    <tr>\n",
       "      <th>4</th>\n",
       "      <td>4.512346</td>\n",
       "      <td>37.810642</td>\n",
       "      <td>558.713584</td>\n",
       "      <td>86.434874</td>\n",
       "      <td>7.823471</td>\n",
       "      <td>7.490356</td>\n",
       "      <td>1198.005449</td>\n",
       "      <td>-300.283401</td>\n",
       "      <td>1099.481500</td>\n",
       "      <td>-499.702465</td>\n",
       "      <td>...</td>\n",
       "      <td>23.001911</td>\n",
       "      <td>-499.947838</td>\n",
       "      <td>20.023735</td>\n",
       "      <td>-499.713680</td>\n",
       "      <td>17.990955</td>\n",
       "      <td>-500.334769</td>\n",
       "      <td>13.007523</td>\n",
       "      <td>-499.968459</td>\n",
       "      <td>19.995999</td>\n",
       "      <td>-499.788805</td>\n",
       "    </tr>\n",
       "    <tr>\n",
       "      <th>...</th>\n",
       "      <td>...</td>\n",
       "      <td>...</td>\n",
       "      <td>...</td>\n",
       "      <td>...</td>\n",
       "      <td>...</td>\n",
       "      <td>...</td>\n",
       "      <td>...</td>\n",
       "      <td>...</td>\n",
       "      <td>...</td>\n",
       "      <td>...</td>\n",
       "      <td>...</td>\n",
       "      <td>...</td>\n",
       "      <td>...</td>\n",
       "      <td>...</td>\n",
       "      <td>...</td>\n",
       "      <td>...</td>\n",
       "      <td>...</td>\n",
       "      <td>...</td>\n",
       "      <td>...</td>\n",
       "      <td>...</td>\n",
       "      <td>...</td>\n",
       "    </tr>\n",
       "    <tr>\n",
       "      <th>4855</th>\n",
       "      <td>2.589242</td>\n",
       "      <td>39.934641</td>\n",
       "      <td>578.654582</td>\n",
       "      <td>63.473450</td>\n",
       "      <td>14.688804</td>\n",
       "      <td>6.898599</td>\n",
       "      <td>999.688257</td>\n",
       "      <td>-399.217124</td>\n",
       "      <td>1600.278420</td>\n",
       "      <td>-450.107091</td>\n",
       "      <td>...</td>\n",
       "      <td>14.003057</td>\n",
       "      <td>-503.152258</td>\n",
       "      <td>12.016724</td>\n",
       "      <td>-501.136446</td>\n",
       "      <td>10.041864</td>\n",
       "      <td>-499.338844</td>\n",
       "      <td>8.007022</td>\n",
       "      <td>-500.279583</td>\n",
       "      <td>14.001271</td>\n",
       "      <td>-602.072365</td>\n",
       "    </tr>\n",
       "    <tr>\n",
       "      <th>4856</th>\n",
       "      <td>2.647185</td>\n",
       "      <td>40.176307</td>\n",
       "      <td>571.622005</td>\n",
       "      <td>62.815291</td>\n",
       "      <td>14.892720</td>\n",
       "      <td>6.903204</td>\n",
       "      <td>1000.479783</td>\n",
       "      <td>-399.574748</td>\n",
       "      <td>1600.585419</td>\n",
       "      <td>-450.871865</td>\n",
       "      <td>...</td>\n",
       "      <td>14.031220</td>\n",
       "      <td>-503.471307</td>\n",
       "      <td>11.966426</td>\n",
       "      <td>-500.656842</td>\n",
       "      <td>10.051620</td>\n",
       "      <td>-498.318772</td>\n",
       "      <td>8.018091</td>\n",
       "      <td>-499.696138</td>\n",
       "      <td>13.958937</td>\n",
       "      <td>-599.213013</td>\n",
       "    </tr>\n",
       "    <tr>\n",
       "      <th>4857</th>\n",
       "      <td>2.466127</td>\n",
       "      <td>39.841423</td>\n",
       "      <td>563.733146</td>\n",
       "      <td>61.287347</td>\n",
       "      <td>13.723692</td>\n",
       "      <td>6.700148</td>\n",
       "      <td>1000.014718</td>\n",
       "      <td>-400.320877</td>\n",
       "      <td>1600.572169</td>\n",
       "      <td>-449.351989</td>\n",
       "      <td>...</td>\n",
       "      <td>13.996317</td>\n",
       "      <td>-502.995300</td>\n",
       "      <td>11.980055</td>\n",
       "      <td>-500.607751</td>\n",
       "      <td>9.964501</td>\n",
       "      <td>-499.261719</td>\n",
       "      <td>8.065048</td>\n",
       "      <td>-499.492395</td>\n",
       "      <td>13.997801</td>\n",
       "      <td>-600.621416</td>\n",
       "    </tr>\n",
       "    <tr>\n",
       "      <th>4858</th>\n",
       "      <td>2.278955</td>\n",
       "      <td>37.728375</td>\n",
       "      <td>549.812490</td>\n",
       "      <td>59.637037</td>\n",
       "      <td>13.746510</td>\n",
       "      <td>6.706417</td>\n",
       "      <td>999.635748</td>\n",
       "      <td>-399.484884</td>\n",
       "      <td>1599.852212</td>\n",
       "      <td>-449.448826</td>\n",
       "      <td>...</td>\n",
       "      <td>13.983963</td>\n",
       "      <td>-503.675714</td>\n",
       "      <td>11.928745</td>\n",
       "      <td>-500.583183</td>\n",
       "      <td>9.970359</td>\n",
       "      <td>-498.822343</td>\n",
       "      <td>8.016377</td>\n",
       "      <td>-499.013145</td>\n",
       "      <td>14.000032</td>\n",
       "      <td>-600.024741</td>\n",
       "    </tr>\n",
       "    <tr>\n",
       "      <th>4859</th>\n",
       "      <td>2.440899</td>\n",
       "      <td>36.958540</td>\n",
       "      <td>573.076049</td>\n",
       "      <td>58.509262</td>\n",
       "      <td>13.707775</td>\n",
       "      <td>6.820245</td>\n",
       "      <td>1000.589156</td>\n",
       "      <td>-398.879586</td>\n",
       "      <td>1598.975250</td>\n",
       "      <td>-451.238638</td>\n",
       "      <td>...</td>\n",
       "      <td>13.989632</td>\n",
       "      <td>-503.195299</td>\n",
       "      <td>12.052233</td>\n",
       "      <td>-500.928547</td>\n",
       "      <td>9.962574</td>\n",
       "      <td>-502.986357</td>\n",
       "      <td>7.979219</td>\n",
       "      <td>-500.146835</td>\n",
       "      <td>13.981614</td>\n",
       "      <td>-598.070855</td>\n",
       "    </tr>\n",
       "  </tbody>\n",
       "</table>\n",
       "<p>4860 rows × 44 columns</p>\n",
       "</div>"
      ],
      "text/plain": [
       "      rougher.input.feed_pb  rougher.input.feed_sol  rougher.input.feed_rate  \\\n",
       "0                  3.875727               39.135119               555.820208   \n",
       "1                  3.902537               39.713906               544.731687   \n",
       "2                  4.564078               37.208683               558.155110   \n",
       "3                  4.768124               36.808874               539.713765   \n",
       "4                  4.512346               37.810642               558.713584   \n",
       "...                     ...                     ...                      ...   \n",
       "4855               2.589242               39.934641               578.654582   \n",
       "4856               2.647185               40.176307               571.622005   \n",
       "4857               2.466127               39.841423               563.733146   \n",
       "4858               2.278955               37.728375               549.812490   \n",
       "4859               2.440899               36.958540               573.076049   \n",
       "\n",
       "      rougher.input.feed_size  rougher.input.floatbank10_sulfate  \\\n",
       "0                   94.544358                           6.146982   \n",
       "1                  123.742430                           6.210119   \n",
       "2                   82.610855                           7.363824   \n",
       "3                   77.984784                           6.927072   \n",
       "4                   86.434874                           7.823471   \n",
       "...                       ...                                ...   \n",
       "4855                63.473450                          14.688804   \n",
       "4856                62.815291                          14.892720   \n",
       "4857                61.287347                          13.723692   \n",
       "4858                59.637037                          13.746510   \n",
       "4859                58.509262                          13.707775   \n",
       "\n",
       "      rougher.input.floatbank10_xanthate  rougher.state.floatbank10_a_air  \\\n",
       "0                               9.308612                      1196.238112   \n",
       "1                               9.297709                      1201.904177   \n",
       "2                               9.003562                      1200.826926   \n",
       "3                               8.955597                      1199.292489   \n",
       "4                               7.490356                      1198.005449   \n",
       "...                                  ...                              ...   \n",
       "4855                            6.898599                       999.688257   \n",
       "4856                            6.903204                      1000.479783   \n",
       "4857                            6.700148                      1000.014718   \n",
       "4858                            6.706417                       999.635748   \n",
       "4859                            6.820245                      1000.589156   \n",
       "\n",
       "      rougher.state.floatbank10_a_level  rougher.state.floatbank10_b_air  \\\n",
       "0                           -299.862743                      1147.248241   \n",
       "1                           -299.907308                      1154.087804   \n",
       "2                           -300.124116                      1150.754676   \n",
       "3                           -299.778385                      1152.512559   \n",
       "4                           -300.283401                      1099.481500   \n",
       "...                                 ...                              ...   \n",
       "4855                        -399.217124                      1600.278420   \n",
       "4856                        -399.574748                      1600.585419   \n",
       "4857                        -400.320877                      1600.572169   \n",
       "4858                        -399.484884                      1599.852212   \n",
       "4859                        -398.879586                      1598.975250   \n",
       "\n",
       "      rougher.state.floatbank10_b_level  ...  \\\n",
       "0                           -500.363165  ...   \n",
       "1                           -500.036580  ...   \n",
       "2                           -499.986009  ...   \n",
       "3                           -500.338106  ...   \n",
       "4                           -499.702465  ...   \n",
       "...                                 ...  ...   \n",
       "4855                        -450.107091  ...   \n",
       "4856                        -450.871865  ...   \n",
       "4857                        -449.351989  ...   \n",
       "4858                        -449.448826  ...   \n",
       "4859                        -451.238638  ...   \n",
       "\n",
       "      secondary_cleaner.state.floatbank4_a_air  \\\n",
       "0                                    23.018622   \n",
       "1                                    23.024963   \n",
       "2                                    22.993827   \n",
       "3                                    23.032807   \n",
       "4                                    23.001911   \n",
       "...                                        ...   \n",
       "4855                                 14.003057   \n",
       "4856                                 14.031220   \n",
       "4857                                 13.996317   \n",
       "4858                                 13.983963   \n",
       "4859                                 13.989632   \n",
       "\n",
       "      secondary_cleaner.state.floatbank4_a_level  \\\n",
       "0                                    -500.492702   \n",
       "1                                    -501.153409   \n",
       "2                                    -501.559663   \n",
       "3                                    -501.287889   \n",
       "4                                    -499.947838   \n",
       "...                                          ...   \n",
       "4855                                 -503.152258   \n",
       "4856                                 -503.471307   \n",
       "4857                                 -502.995300   \n",
       "4858                                 -503.675714   \n",
       "4859                                 -503.195299   \n",
       "\n",
       "      secondary_cleaner.state.floatbank4_b_air  \\\n",
       "0                                    20.020205   \n",
       "1                                    20.054122   \n",
       "2                                    20.029144   \n",
       "3                                    19.977466   \n",
       "4                                    20.023735   \n",
       "...                                        ...   \n",
       "4855                                 12.016724   \n",
       "4856                                 11.966426   \n",
       "4857                                 11.980055   \n",
       "4858                                 11.928745   \n",
       "4859                                 12.052233   \n",
       "\n",
       "      secondary_cleaner.state.floatbank4_b_level  \\\n",
       "0                                    -500.220296   \n",
       "1                                    -500.314711   \n",
       "2                                    -500.000662   \n",
       "3                                    -500.159903   \n",
       "4                                    -499.713680   \n",
       "...                                          ...   \n",
       "4855                                 -501.136446   \n",
       "4856                                 -500.656842   \n",
       "4857                                 -500.607751   \n",
       "4858                                 -500.583183   \n",
       "4859                                 -500.928547   \n",
       "\n",
       "      secondary_cleaner.state.floatbank5_a_air  \\\n",
       "0                                    17.963512   \n",
       "1                                    17.979515   \n",
       "2                                    18.012723   \n",
       "3                                    17.980463   \n",
       "4                                    17.990955   \n",
       "...                                        ...   \n",
       "4855                                 10.041864   \n",
       "4856                                 10.051620   \n",
       "4857                                  9.964501   \n",
       "4858                                  9.970359   \n",
       "4859                                  9.962574   \n",
       "\n",
       "      secondary_cleaner.state.floatbank5_a_level  \\\n",
       "0                                    -499.939490   \n",
       "1                                    -499.272871   \n",
       "2                                    -500.024764   \n",
       "3                                    -500.504602   \n",
       "4                                    -500.334769   \n",
       "...                                          ...   \n",
       "4855                                 -499.338844   \n",
       "4856                                 -498.318772   \n",
       "4857                                 -499.261719   \n",
       "4858                                 -498.822343   \n",
       "4859                                 -502.986357   \n",
       "\n",
       "      secondary_cleaner.state.floatbank5_b_air  \\\n",
       "0                                    12.990306   \n",
       "1                                    12.992404   \n",
       "2                                    13.016445   \n",
       "3                                    12.949071   \n",
       "4                                    13.007523   \n",
       "...                                        ...   \n",
       "4855                                  8.007022   \n",
       "4856                                  8.018091   \n",
       "4857                                  8.065048   \n",
       "4858                                  8.016377   \n",
       "4859                                  7.979219   \n",
       "\n",
       "      secondary_cleaner.state.floatbank5_b_level  \\\n",
       "0                                    -500.080993   \n",
       "1                                    -499.976268   \n",
       "2                                    -500.058432   \n",
       "3                                    -500.009937   \n",
       "4                                    -499.968459   \n",
       "...                                          ...   \n",
       "4855                                 -500.279583   \n",
       "4856                                 -499.696138   \n",
       "4857                                 -499.492395   \n",
       "4858                                 -499.013145   \n",
       "4859                                 -500.146835   \n",
       "\n",
       "      secondary_cleaner.state.floatbank6_a_air  \\\n",
       "0                                    19.990336   \n",
       "1                                    20.013986   \n",
       "2                                    19.973767   \n",
       "3                                    20.010332   \n",
       "4                                    19.995999   \n",
       "...                                        ...   \n",
       "4855                                 14.001271   \n",
       "4856                                 13.958937   \n",
       "4857                                 13.997801   \n",
       "4858                                 14.000032   \n",
       "4859                                 13.981614   \n",
       "\n",
       "      secondary_cleaner.state.floatbank6_a_level  \n",
       "0                                    -499.191575  \n",
       "1                                    -500.625471  \n",
       "2                                    -501.394155  \n",
       "3                                    -508.337973  \n",
       "4                                    -499.788805  \n",
       "...                                          ...  \n",
       "4855                                 -602.072365  \n",
       "4856                                 -599.213013  \n",
       "4857                                 -600.621416  \n",
       "4858                                 -600.024741  \n",
       "4859                                 -598.070855  \n",
       "\n",
       "[4860 rows x 44 columns]"
      ]
     },
     "metadata": {},
     "output_type": "display_data"
    }
   ],
   "source": [
    "# table in df_te test set with missing values\n",
    "table_isnull = df_te[df_te.columns[df_te.isna().any()]]\n",
    "display(table_isnull)"
   ]
  },
  {
   "cell_type": "code",
   "execution_count": 13,
   "metadata": {},
   "outputs": [
    {
     "data": {
      "text/plain": [
       "rougher.input.feed_pb                         0.005761\n",
       "rougher.input.feed_sol                        0.004527\n",
       "rougher.input.feed_rate                       0.000823\n",
       "rougher.input.feed_size                       0.009053\n",
       "rougher.input.floatbank10_sulfate             0.000617\n",
       "rougher.input.floatbank10_xanthate            0.000206\n",
       "rougher.state.floatbank10_a_air               0.000206\n",
       "rougher.state.floatbank10_a_level             0.000206\n",
       "rougher.state.floatbank10_b_air               0.000206\n",
       "rougher.state.floatbank10_b_level             0.000206\n",
       "rougher.state.floatbank10_c_air               0.000206\n",
       "rougher.state.floatbank10_c_level             0.000206\n",
       "rougher.state.floatbank10_e_air               0.001440\n",
       "rougher.input.floatbank11_sulfate             0.001646\n",
       "rougher.input.floatbank11_xanthate            0.009465\n",
       "primary_cleaner.input.sulfate                 0.000206\n",
       "primary_cleaner.input.depressant              0.001852\n",
       "primary_cleaner.input.xanthate                0.008848\n",
       "primary_cleaner.state.floatbank8_a_air        0.000206\n",
       "primary_cleaner.state.floatbank8_a_level      0.000206\n",
       "primary_cleaner.state.floatbank8_b_air        0.000206\n",
       "primary_cleaner.state.floatbank8_b_level      0.000206\n",
       "primary_cleaner.state.floatbank8_c_air        0.000412\n",
       "primary_cleaner.state.floatbank8_c_level      0.000206\n",
       "primary_cleaner.state.floatbank8_d_air        0.000412\n",
       "primary_cleaner.state.floatbank8_d_level      0.000206\n",
       "secondary_cleaner.state.floatbank2_a_air      0.025926\n",
       "secondary_cleaner.state.floatbank2_a_level    0.000206\n",
       "secondary_cleaner.state.floatbank2_b_air      0.000206\n",
       "secondary_cleaner.state.floatbank2_b_level    0.000206\n",
       "secondary_cleaner.state.floatbank3_a_air      0.000206\n",
       "secondary_cleaner.state.floatbank3_a_level    0.000206\n",
       "secondary_cleaner.state.floatbank3_b_air      0.000206\n",
       "secondary_cleaner.state.floatbank3_b_level    0.000206\n",
       "secondary_cleaner.state.floatbank4_a_air      0.000206\n",
       "secondary_cleaner.state.floatbank4_a_level    0.000206\n",
       "secondary_cleaner.state.floatbank4_b_air      0.000206\n",
       "secondary_cleaner.state.floatbank4_b_level    0.000206\n",
       "secondary_cleaner.state.floatbank5_a_air      0.000206\n",
       "secondary_cleaner.state.floatbank5_a_level    0.000206\n",
       "secondary_cleaner.state.floatbank5_b_air      0.000206\n",
       "secondary_cleaner.state.floatbank5_b_level    0.000206\n",
       "secondary_cleaner.state.floatbank6_a_air      0.000206\n",
       "secondary_cleaner.state.floatbank6_a_level    0.000206\n",
       "dtype: float64"
      ]
     },
     "execution_count": 13,
     "metadata": {},
     "output_type": "execute_result"
    }
   ],
   "source": [
    "# display statistics on missing df_te values\n",
    "table_isnull.isnull().mean()"
   ]
  },
  {
   "cell_type": "markdown",
   "metadata": {},
   "source": [
    "The number of columns with missing values is 39. All missing data relate to the flotation, primary and secondary purification stages.\n",
    "Types of parameters with missing values: raw material parameters, product parameters, 9 columns with parameters characterizing the state of the stage and 3 columns with calculated characteristics"
   ]
  },
  {
   "cell_type": "code",
   "execution_count": 14,
   "metadata": {},
   "outputs": [
    {
     "name": "stdout",
     "output_type": "stream",
     "text": [
      "34\n"
     ]
    },
    {
     "data": {
      "text/plain": [
       "array([['final.output.concentrate_ag'],\n",
       "       ['final.output.concentrate_au'],\n",
       "       ['final.output.concentrate_pb'],\n",
       "       ['final.output.concentrate_sol'],\n",
       "       ['final.output.recovery'],\n",
       "       ['final.output.tail_ag'],\n",
       "       ['final.output.tail_au'],\n",
       "       ['final.output.tail_pb'],\n",
       "       ['final.output.tail_sol'],\n",
       "       ['primary_cleaner.output.concentrate_ag'],\n",
       "       ['primary_cleaner.output.concentrate_au'],\n",
       "       ['primary_cleaner.output.concentrate_pb'],\n",
       "       ['primary_cleaner.output.concentrate_sol'],\n",
       "       ['primary_cleaner.output.tail_ag'],\n",
       "       ['primary_cleaner.output.tail_au'],\n",
       "       ['primary_cleaner.output.tail_pb'],\n",
       "       ['primary_cleaner.output.tail_sol'],\n",
       "       ['rougher.calculation.au_pb_ratio'],\n",
       "       ['rougher.calculation.floatbank10_sulfate_to_au_feed'],\n",
       "       ['rougher.calculation.floatbank11_sulfate_to_au_feed'],\n",
       "       ['rougher.calculation.sulfate_to_au_concentrate'],\n",
       "       ['rougher.output.concentrate_ag'],\n",
       "       ['rougher.output.concentrate_au'],\n",
       "       ['rougher.output.concentrate_pb'],\n",
       "       ['rougher.output.concentrate_sol'],\n",
       "       ['rougher.output.recovery'],\n",
       "       ['rougher.output.tail_ag'],\n",
       "       ['rougher.output.tail_au'],\n",
       "       ['rougher.output.tail_pb'],\n",
       "       ['rougher.output.tail_sol'],\n",
       "       ['secondary_cleaner.output.tail_ag'],\n",
       "       ['secondary_cleaner.output.tail_au'],\n",
       "       ['secondary_cleaner.output.tail_pb'],\n",
       "       ['secondary_cleaner.output.tail_sol']], dtype='<U50')"
      ]
     },
     "execution_count": 14,
     "metadata": {},
     "output_type": "execute_result"
    }
   ],
   "source": [
    "# display a list of columns that are in df_tr, but not in df_te\n",
    "list_tr = df_tr.columns.tolist()\n",
    "\n",
    "list_te = df_te.columns.tolist()\n",
    "\n",
    "list_dif = (set(list_tr) - set(list_te)) # find missing columns\n",
    "list_dif_sort = sorted(list_dif) # let's sort the list for ease of reading\n",
    "count = len(list_dif) # count the number of lines\n",
    "print(count)\n",
    "np.array([[i] for i in list_dif_sort]) # display a list of missing columns"
   ]
  },
  {
   "cell_type": "markdown",
   "metadata": {},
   "source": [
    "The test sample does not contain columns (34 units) with final results after each stage described in the technological process"
   ]
  },
  {
   "cell_type": "markdown",
   "metadata": {},
   "source": [
    "Conclusion about the reasons for the discrepancy between train and test. In the test sample there is no data with final results, since in real conditions when using the model we will know the initial input data about raw materials, granule sizes, etc. The rest of the data should already be predicted by the model."
   ]
  },
  {
   "cell_type": "code",
   "execution_count": 15,
   "metadata": {},
   "outputs": [
    {
     "name": "stdout",
     "output_type": "stream",
     "text": [
      "39\n"
     ]
    },
    {
     "data": {
      "text/plain": [
       "rougher.input.feed_pb                                 0.004939\n",
       "rougher.input.feed_sol                                0.005282\n",
       "rougher.input.feed_rate                               0.000480\n",
       "rougher.input.feed_size                               0.006928\n",
       "rougher.input.floatbank10_sulfate                     0.002126\n",
       "rougher.input.floatbank10_xanthate                    0.000480\n",
       "rougher.state.floatbank10_e_air                       0.029426\n",
       "rougher.input.floatbank11_sulfate                     0.002469\n",
       "rougher.input.floatbank11_xanthate                    0.027917\n",
       "rougher.calculation.sulfate_to_au_concentrate         0.000069\n",
       "rougher.calculation.floatbank10_sulfate_to_au_feed    0.000069\n",
       "rougher.calculation.floatbank11_sulfate_to_au_feed    0.000069\n",
       "rougher.output.concentrate_sol                        0.001235\n",
       "rougher.output.tail_ag                                0.000069\n",
       "primary_cleaner.input.sulfate                         0.001578\n",
       "primary_cleaner.input.depressant                      0.001921\n",
       "primary_cleaner.input.xanthate                        0.004184\n",
       "primary_cleaner.state.floatbank8_a_air                0.000206\n",
       "primary_cleaner.state.floatbank8_b_air                0.000206\n",
       "primary_cleaner.state.floatbank8_d_air                0.000069\n",
       "primary_cleaner.output.concentrate_pb                 0.006036\n",
       "primary_cleaner.output.concentrate_sol                0.018177\n",
       "primary_cleaner.output.tail_ag                        0.000274\n",
       "primary_cleaner.output.tail_pb                        0.000412\n",
       "primary_cleaner.output.tail_sol                       0.003087\n",
       "secondary_cleaner.state.floatbank2_a_air              0.006448\n",
       "secondary_cleaner.state.floatbank2_b_air              0.001509\n",
       "secondary_cleaner.state.floatbank3_a_air              0.000823\n",
       "secondary_cleaner.state.floatbank4_a_air              0.000343\n",
       "secondary_cleaner.state.floatbank6_a_air              0.000069\n",
       "secondary_cleaner.output.tail_ag                      0.000069\n",
       "secondary_cleaner.output.tail_pb                      0.000274\n",
       "secondary_cleaner.output.tail_sol                     0.063104\n",
       "final.output.concentrate_ag                           0.000069\n",
       "final.output.concentrate_pb                           0.000069\n",
       "final.output.concentrate_sol                          0.013170\n",
       "final.output.tail_ag                                  0.000069\n",
       "final.output.tail_pb                                  0.005144\n",
       "final.output.tail_sol                                 0.000343\n",
       "dtype: float64"
      ]
     },
     "execution_count": 15,
     "metadata": {},
     "output_type": "execute_result"
    }
   ],
   "source": [
    "# look at the missing values ​​in the training set\n",
    "table_isnull_tr = df_tr[df_tr.columns[df_tr.isna().any()]]\n",
    "print(table_isnull_tr.isnull().mean().count())\n",
    "table_isnull_tr.isnull().mean()"
   ]
  },
  {
   "cell_type": "markdown",
   "metadata": {},
   "source": [
    "Missing values in 39 columns in almost all stages. The same number of columns with missing values ​​in the test set. But the columns are not identical."
   ]
  },
  {
   "cell_type": "code",
   "execution_count": 16,
   "metadata": {},
   "outputs": [
    {
     "name": "stdout",
     "output_type": "stream",
     "text": [
      "0\n"
     ]
    },
    {
     "data": {
      "text/plain": [
       "Series([], dtype: float64)"
      ]
     },
     "execution_count": 16,
     "metadata": {},
     "output_type": "execute_result"
    }
   ],
   "source": [
    "# fill in the missing values of the training sample with the closest values\n",
    "# since it is said that they are often approximately the same\n",
    "# fill with the averages of the previous and subsequent values\n",
    "df_tr = df_tr.interpolate()\n",
    "table_isnull_tr_q = df_tr[df_tr.columns[df_tr.isna().any()]]\n",
    "print(table_isnull_tr_q.isnull().mean().count())\n",
    "table_isnull_tr_q.isnull().mean()"
   ]
  },
  {
   "cell_type": "code",
   "execution_count": 17,
   "metadata": {},
   "outputs": [
    {
     "name": "stdout",
     "output_type": "stream",
     "text": [
      "0\n"
     ]
    },
    {
     "data": {
      "text/plain": [
       "Series([], dtype: float64)"
      ]
     },
     "execution_count": 17,
     "metadata": {},
     "output_type": "execute_result"
    }
   ],
   "source": [
    "# за# fill in the missing values of the training sample with the closest values\n",
    "# since it is said that they are often approximately the same\n",
    "# fill with the averages of the previous and subsequent values\n",
    "df_fu = df_fu.interpolate()\n",
    "table_isnull_fu = df_fu[df_fu.columns[df_fu.isna().any()]]\n",
    "print(table_isnull_fu.isnull().mean().count())\n",
    "table_isnull_fu.isnull().mean()"
   ]
  },
  {
   "cell_type": "code",
   "execution_count": 18,
   "metadata": {},
   "outputs": [
    {
     "name": "stdout",
     "output_type": "stream",
     "text": [
      "0\n"
     ]
    },
    {
     "data": {
      "text/plain": [
       "Series([], dtype: float64)"
      ]
     },
     "execution_count": 18,
     "metadata": {},
     "output_type": "execute_result"
    }
   ],
   "source": [
    "# fill in the missing values of the training sample with the closest values\n",
    "# since it is said that they are often approximately the same\n",
    "# fill with the averages of the previous and subsequent values\n",
    "df_te = df_te.interpolate()\n",
    "table_isnull_te = df_te[df_te.columns[df_te.isna().any()]]\n",
    "print(table_isnull_te.isnull().mean().count())\n",
    "table_isnull_te.isnull().mean()"
   ]
  },
  {
   "cell_type": "markdown",
   "metadata": {},
   "source": [
    "In the first block, we downloaded the data and studied it. From the displayed tables it can be seen that the division into training and test samples included data from different periods. The tutorial has 87 columns and more than 14 thousand. rows starting from 2016, in the test data 2017 and 53 columns. We have displayed a list of columns that are missing in the test set - data associated with the product at various stages. We also found out how many columns of the test and training samples had missing values - 39 columns, while the names of the columns did not match 100%.\n",
    "\n",
    "We filled in the missing values in the training and full samples with the average of the previous and subsequent values, since it was indicated that neighboring parameter values are often similar. There is no certainty yet that the same thing needs to be done with the test sample."
   ]
  },
  {
   "cell_type": "markdown",
   "metadata": {},
   "source": [
    "## Data analysis"
   ]
  },
  {
   "cell_type": "markdown",
   "metadata": {},
   "source": [
    "#### Concentration of metals at different stages"
   ]
  },
  {
   "cell_type": "code",
   "execution_count": 19,
   "metadata": {},
   "outputs": [
    {
     "name": "stdout",
     "output_type": "stream",
     "text": [
      "Average concentration of gold in raw materials: 8.27\n",
      "Average gold concentration in rough concentrate: 19.77\n",
      "Average gold concentration after first cleaning: 32.12\n",
      "Average concentration of gold in the final: 44.08\n"
     ]
    }
   ],
   "source": [
    "# Let's display figures for Au concentration at stages: in raw materials, in rough concentrate,\n",
    "# concentrate after the first purification and final\n",
    "mean_conc_input_Au = df_fu['rougher.input.feed_au'].mean()\n",
    "mean_conc_rou_out_Au = df_fu['rougher.output.concentrate_au'].mean()\n",
    "mean_conc_1_cl_Au = df_fu['primary_cleaner.output.concentrate_au'].mean()\n",
    "mean_final_Au = df_fu['final.output.concentrate_au'].mean()\n",
    "\n",
    "print('Average concentration of gold in raw materials:', '%.2f' % mean_conc_input_Au)\n",
    "print('Average gold concentration in rough concentrate:', '%.2f' % mean_conc_rou_out_Au)\n",
    "print('Average gold concentration after first cleaning:', '%.2f' % mean_conc_1_cl_Au)\n",
    "print('Average concentration of gold in the final:', '%.2f' % mean_final_Au)"
   ]
  },
  {
   "cell_type": "markdown",
   "metadata": {},
   "source": [
    "we see that the average increases from stage to stage"
   ]
  },
  {
   "cell_type": "code",
   "execution_count": 20,
   "metadata": {},
   "outputs": [
    {
     "data": {
      "image/png": "[encoded data removed]",
      "text/plain": [
       "<Figure size 500x500 with 1 Axes>"
      ]
     },
     "metadata": {},
     "output_type": "display_data"
    }
   ],
   "source": [
    "plt.figure(figsize=[5,5])\n",
    "\n",
    "plt.hist(df_fu['rougher.input.feed_au'], bins=100, label = 'ougher.input.feed', alpha=.5)\n",
    "plt.hist(df_fu['rougher.output.concentrate_au'], bins=100, label = 'rougher.output.concentrate', alpha=.5)\n",
    "plt.hist(df_fu['primary_cleaner.output.concentrate_au'], bins=100, label = 'rimary_cleaner.output', alpha=.5)\n",
    "plt.hist(df_fu['final.output.concentrate_au'], bins=100, label = 'final.output.concentrate', alpha=.5)\n",
    "\n",
    "plt.xlim([-1, 60])\n",
    "plt.ylim([0, 1000])\n",
    "\n",
    "plt.xlabel('Gold concentration at stages')\n",
    "plt.ylabel('Number of results')\n",
    "\n",
    "plt.legend(loc='upper right', fontsize= 'small')\n",
    "\n",
    "plt.title('Gold concentration at stages')\n",
    "plt.show()"
   ]
  },
  {
   "cell_type": "code",
   "execution_count": 21,
   "metadata": {},
   "outputs": [
    {
     "name": "stdout",
     "output_type": "stream",
     "text": [
      "Average concentration of silver in raw materials: 8.79\n",
      "Average silver concentration in rough concentrate: 11.99\n",
      "Average silver concentration after first cleaning: 8.44\n",
      "Average concentration of silver in the final: 5.17\n"
     ]
    }
   ],
   "source": [
    "# let's display the figures for Ag concentration at stages: in raw materials, \n",
    "# in rough concentrate, concentrate after the first purification and final\n",
    "mean_conc_input_Ag = df_fu['rougher.input.feed_ag'].mean()\n",
    "mean_conc_rou_out_Ag = df_fu['rougher.output.concentrate_ag'].mean()\n",
    "mean_conc_1_cl_Ag = df_fu['primary_cleaner.output.concentrate_ag'].mean()\n",
    "mean_final_Ag = df_fu['final.output.concentrate_ag'].mean()\n",
    "\n",
    "print('Average concentration of silver in raw materials:', '%.2f' % mean_conc_input_Ag)\n",
    "print('Average silver concentration in rough concentrate:', '%.2f' % mean_conc_rou_out_Ag)\n",
    "print('Average silver concentration after first cleaning:', '%.2f' % mean_conc_1_cl_Ag)\n",
    "print('Average concentration of silver in the final:', '%.2f' % mean_final_Ag)"
   ]
  },
  {
   "cell_type": "code",
   "execution_count": 22,
   "metadata": {},
   "outputs": [
    {
     "data": {
      "image/png": "[encoded data removed]",
      "text/plain": [
       "<Figure size 1400x800 with 1 Axes>"
      ]
     },
     "metadata": {},
     "output_type": "display_data"
    }
   ],
   "source": [
    "plt.figure(figsize=[14,8])\n",
    "\n",
    "plt.hist(df_fu['rougher.input.feed_ag'], bins=100, label = 'ougher.input.feed', alpha=.5)\n",
    "plt.hist(df_fu['rougher.output.concentrate_ag'], bins=100, label = 'rougher.output.concentrate', alpha=.5)\n",
    "plt.hist(df_fu['primary_cleaner.output.concentrate_ag'], bins=100, label = 'rimary_cleaner.output', alpha=.5)\n",
    "plt.hist(df_fu['final.output.concentrate_ag'], bins=100, label = 'final.output.concentrate', alpha=.5)\n",
    "\n",
    "plt.xlim([-1, 40])\n",
    "plt.ylim([0, 1000])\n",
    "\n",
    "plt.xlabel('Silver concentration at stages')\n",
    "plt.ylabel('Number of results')\n",
    "\n",
    "plt.legend(loc='upper right', fontsize= 'small')\n",
    "\n",
    "plt.title('Silver concentration at stages')\n",
    "plt.show()"
   ]
  },
  {
   "cell_type": "markdown",
   "metadata": {},
   "source": [
    "the average silver content increases after flotation and decreases towards the final product"
   ]
  },
  {
   "cell_type": "code",
   "execution_count": 23,
   "metadata": {},
   "outputs": [
    {
     "name": "stdout",
     "output_type": "stream",
     "text": [
      "Average lead concentration in raw materials: 3.59\n",
      "Average lead concentration in rough concentrate: 7.61\n",
      "Average lead concentration after first cleaning: 9.81\n",
      "Average lead concentration in the final: 9.98\n"
     ]
    }
   ],
   "source": [
    "# Let's display the figures for Pb concentration at stages: in raw materials, in rough concentrate, \n",
    "# concentrate after the first purification and final\n",
    "mean_conc_input_Pb = df_fu['rougher.input.feed_pb'].mean()\n",
    "mean_conc_rou_out_Pb = df_fu['rougher.output.concentrate_pb'].mean()\n",
    "mean_conc_1_cl_Pb = df_fu['primary_cleaner.output.concentrate_pb'].mean()\n",
    "mean_final_Pb = df_fu['final.output.concentrate_pb'].mean()\n",
    "\n",
    "print('Average lead concentration in raw materials:', '%.2f' % mean_conc_input_Pb)\n",
    "print('Average lead concentration in rough concentrate:', '%.2f' % mean_conc_rou_out_Pb)\n",
    "print('Average lead concentration after first cleaning:', '%.2f' % mean_conc_1_cl_Pb)\n",
    "print('Average lead concentration in the final:', '%.2f' % mean_final_Pb)"
   ]
  },
  {
   "cell_type": "code",
   "execution_count": 24,
   "metadata": {},
   "outputs": [
    {
     "data": {
      "image/png": "[encoded data removed]",
      "text/plain": [
       "<Figure size 1400x800 with 1 Axes>"
      ]
     },
     "metadata": {},
     "output_type": "display_data"
    }
   ],
   "source": [
    "plt.figure(figsize=[14,8])\n",
    "\n",
    "plt.hist(df_fu['rougher.input.feed_pb'], bins=100, label = 'ougher.input.feed', alpha=.5)\n",
    "plt.hist(df_fu['rougher.output.concentrate_pb'], bins=100, label = 'rougher.output.concentrate', alpha=.5)\n",
    "plt.hist(df_fu['primary_cleaner.output.concentrate_pb'], bins=100, label = 'rimary_cleaner.output', alpha=.5)\n",
    "plt.hist(df_fu['final.output.concentrate_pb'], bins=100, label = 'final.output.concentrate', alpha=.5)\n",
    "\n",
    "plt.xlabel('Lead concentration at stages')\n",
    "plt.ylabel('Number of Results')\n",
    "\n",
    "plt.legend(loc='upper right', fontsize= 'small')\n",
    "\n",
    "plt.title('Lead concentration at stages')\n",
    "plt.show()"
   ]
  },
  {
   "cell_type": "markdown",
   "metadata": {},
   "source": [
    "the average lead concentration increases from stage to stage\n",
    "\n",
    "Gold has a distribution of values from 0 to > 50, while silver and lead have values ​​ranging from 0 to ~ 20."
   ]
  },
  {
   "cell_type": "code",
   "execution_count": 25,
   "metadata": {},
   "outputs": [
    {
     "data": {
      "image/png": "[encoded data removed]",
      "text/plain": [
       "<Figure size 1400x800 with 1 Axes>"
      ]
     },
     "metadata": {},
     "output_type": "display_data"
    }
   ],
   "source": [
    "# concentration of au on the training set\n",
    "plt.figure(figsize=[14,8])\n",
    "\n",
    "plt.hist(df_tr['rougher.input.feed_au'], bins=100, label = 'ougher.input.feed', alpha=.5)\n",
    "plt.hist(df_tr['rougher.output.concentrate_au'], bins=100, label = 'rougher.output.concentrate', alpha=.5)\n",
    "plt.hist(df_tr['primary_cleaner.output.concentrate_au'], bins=100, label = 'rimary_cleaner.output', alpha=.5)\n",
    "plt.hist(df_tr['final.output.concentrate_au'], bins=100, label = 'final.output.concentrate', alpha=.5)\n",
    "\n",
    "\n",
    "plt.xlabel('Gold concentration at stages')\n",
    "plt.ylabel('Number of Results')\n",
    "\n",
    "plt.legend(loc='upper right', fontsize= 'small')\n",
    "\n",
    "plt.title('Gold concentration at stages')\n",
    "plt.show()"
   ]
  },
  {
   "cell_type": "code",
   "execution_count": 26,
   "metadata": {},
   "outputs": [
    {
     "data": {
      "image/png": "[encoded data removed]",
      "text/plain": [
       "<Figure size 1400x800 with 1 Axes>"
      ]
     },
     "metadata": {},
     "output_type": "display_data"
    }
   ],
   "source": [
    "# concentration of ag on the training set\n",
    "plt.figure(figsize=[14,8])\n",
    "\n",
    "plt.hist(df_tr['rougher.input.feed_ag'], bins=100, label = 'ougher.input.feed', alpha=.5)\n",
    "plt.hist(df_tr['rougher.output.concentrate_ag'], bins=100, label = 'rougher.output.concentrate', alpha=.5)\n",
    "plt.hist(df_tr['primary_cleaner.output.concentrate_ag'], bins=100, label = 'rimary_cleaner.output', alpha=.5)\n",
    "plt.hist(df_tr['final.output.concentrate_ag'], bins=100, label = 'final.output.concentrate', alpha=.5)\n",
    "\n",
    "plt.xlabel('Silver concentration at stages')\n",
    "plt.ylabel('Number of results')\n",
    "\n",
    "plt.legend(loc='upper right', fontsize= 'small')\n",
    "\n",
    "plt.title('Silver concentration at stages')\n",
    "plt.show()"
   ]
  },
  {
   "cell_type": "code",
   "execution_count": 27,
   "metadata": {},
   "outputs": [
    {
     "data": {
      "image/png": "[encoded data removed]",
      "text/plain": [
       "<Figure size 1400x800 with 1 Axes>"
      ]
     },
     "metadata": {},
     "output_type": "display_data"
    }
   ],
   "source": [
    "# pb concentration on the training set\n",
    "plt.figure(figsize=[14,8])\n",
    "\n",
    "plt.hist(df_tr['rougher.input.feed_pb'], bins=100, label = 'ougher.input.feed', alpha=.5)\n",
    "plt.hist(df_tr['rougher.output.concentrate_pb'], bins=100, label = 'rougher.output.concentrate', alpha=.5)\n",
    "plt.hist(df_tr['primary_cleaner.output.concentrate_pb'], bins=100, label = 'rimary_cleaner.output', alpha=.5)\n",
    "plt.hist(df_tr['final.output.concentrate_pb'], bins=100, label = 'final.output.concentrate', alpha=.5)\n",
    "\n",
    "plt.xlabel('Lead concentration at stages')\n",
    "plt.ylabel('Number of results')\n",
    "\n",
    "plt.legend(loc='upper right', fontsize= 'small')\n",
    "\n",
    "plt.title('Lead concentration at stages')\n",
    "plt.show()"
   ]
  },
  {
   "cell_type": "code",
   "execution_count": 28,
   "metadata": {},
   "outputs": [],
   "source": [
    "# let's calculate exactly the size of emissions towards zero\n",
    "def left_func(df, column):\n",
    "    q1 = np.quantile(df[column], 0.25)\n",
    "    q3 = np.quantile(df[column], 0.75)\n",
    "    diff = q3 - q1\n",
    "    left = q1 - 1.5 * diff\n",
    "    return left"
   ]
  },
  {
   "cell_type": "code",
   "execution_count": 29,
   "metadata": {},
   "outputs": [
    {
     "name": "stdout",
     "output_type": "stream",
     "text": [
      "2.5841767518716985\n",
      "14.621210409367047\n",
      "23.483426283955094\n",
      "38.952036560903004\n",
      "2.9710402020002578\n",
      "5.871456128467493\n",
      "3.6777698131435326\n",
      "1.820063264377311\n",
      "0.7907804413636517\n",
      "3.9461233226168475\n",
      "4.586617022951441\n",
      "6.286079977817005\n"
     ]
    }
   ],
   "source": [
    "print(left_func(df_tr, ['rougher.input.feed_au']))\n",
    "print(left_func(df_tr, ['rougher.output.concentrate_au']))\n",
    "print(left_func(df_tr, ['primary_cleaner.output.concentrate_au']))\n",
    "print(left_func(df_tr, ['final.output.concentrate_au']))\n",
    "print(left_func(df_tr, ['rougher.input.feed_ag']))\n",
    "print(left_func(df_tr, ['rougher.output.concentrate_ag']))\n",
    "print(left_func(df_tr, ['primary_cleaner.output.concentrate_ag']))\n",
    "print(left_func(df_tr, ['final.output.concentrate_ag']))\n",
    "print(left_func(df_tr, ['rougher.input.feed_pb']))\n",
    "print(left_func(df_tr, ['rougher.output.concentrate_pb']))\n",
    "print(left_func(df_tr, ['primary_cleaner.output.concentrate_pb']))\n",
    "print(left_func(df_tr, ['final.output.concentrate_pb']))\n"
   ]
  },
  {
   "cell_type": "markdown",
   "metadata": {},
   "source": [
    "Let's remove those that are less than 1. Since if we remove everything up to the left whisker, we will throw out about 18% from the training sample. Of course, a decrease from 14,000 to 12,000 would not seem like a big loss, in my opinion it is quite a lot."
   ]
  },
  {
   "cell_type": "code",
   "execution_count": 30,
   "metadata": {},
   "outputs": [],
   "source": [
    "df_tr = df_tr[df_tr['rougher.input.feed_au'] > 1]\n",
    "df_tr = df_tr[df_tr['rougher.output.concentrate_au'] > 1]  \n",
    "df_tr = df_tr[df_tr['primary_cleaner.output.concentrate_au'] > 1]\n",
    "df_tr = df_tr[df_tr['final.output.concentrate_au'] > 1]\n",
    "df_tr = df_tr[df_tr['rougher.input.feed_ag'] > 1]\n",
    "df_tr = df_tr[df_tr['rougher.output.concentrate_ag'] > 1]  \n",
    "df_tr = df_tr[df_tr['primary_cleaner.output.concentrate_ag'] > 1]\n",
    "df_tr = df_tr[df_tr['final.output.concentrate_ag'] > 1]\n",
    "df_tr = df_tr[df_tr['rougher.input.feed_pb'] > 0.7]\n",
    "df_tr = df_tr[df_tr['rougher.output.concentrate_pb'] > 1]  \n",
    "df_tr = df_tr[df_tr['primary_cleaner.output.concentrate_pb'] > 1]\n",
    "df_tr = df_tr[df_tr['final.output.concentrate_pb'] > 1]"
   ]
  },
  {
   "cell_type": "code",
   "execution_count": 31,
   "metadata": {},
   "outputs": [
    {
     "data": {
      "image/png": "[encoded data removed]",
      "text/plain": [
       "<Figure size 1400x800 with 1 Axes>"
      ]
     },
     "metadata": {},
     "output_type": "display_data"
    }
   ],
   "source": [
    "# let's check the absence of emissions on the left on Pb\n",
    "# concentration of au on the training set\n",
    "plt.figure(figsize=[14,8])\n",
    "\n",
    "plt.hist(df_tr['rougher.input.feed_au'], bins=100, label = 'ougher.input.feed', alpha=.5)\n",
    "plt.hist(df_tr['rougher.output.concentrate_au'], bins=100, label = 'rougher.output.concentrate', alpha=.5)\n",
    "plt.hist(df_tr['primary_cleaner.output.concentrate_au'], bins=100, label = 'rimary_cleaner.output', alpha=.5)\n",
    "plt.hist(df_tr['final.output.concentrate_au'], bins=100, label = 'final.output.concentrate', alpha=.5)\n",
    "\n",
    "plt.xlabel('Lead concentration at stages')\n",
    "plt.ylabel('Number of results')\n",
    "\n",
    "plt.legend(loc='upper right', fontsize= 'small')\n",
    "\n",
    "plt.title('Lead concentration at stages')\n",
    "plt.show()"
   ]
  },
  {
   "cell_type": "markdown",
   "metadata": {},
   "source": [
    "#### Comparison of the sizes of raw material granules on the training and test set"
   ]
  },
  {
   "cell_type": "code",
   "execution_count": 32,
   "metadata": {},
   "outputs": [
    {
     "data": {
      "text/plain": [
       "Ttest_indResult(statistic=-0.5009483050809528, pvalue=0.6164134133911569)"
      ]
     },
     "execution_count": 32,
     "metadata": {},
     "output_type": "execute_result"
    }
   ],
   "source": [
    "# let's do a t-test\n",
    "import scipy. stats as stats\n",
    "stats. ttest_ind (a=df_tr['rougher.input.feed_size'], b=df_te['rougher.input.feed_size'])"
   ]
  },
  {
   "cell_type": "code",
   "execution_count": 33,
   "metadata": {},
   "outputs": [
    {
     "data": {
      "image/png": "[encoded data removed]",
      "text/plain": [
       "<Figure size 1400x700 with 1 Axes>"
      ]
     },
     "metadata": {},
     "output_type": "display_data"
    }
   ],
   "source": [
    "# visualize the distribution of granules during flotation on training and test samples\n",
    "\n",
    "plt.figure(figsize=(14,7))\n",
    "sns.histplot(df_tr['rougher.input.feed_size'], stat='density', bins = 50, alpha=0.8)\n",
    "sns.histplot(df_te['rougher.input.feed_size'], stat='density', bins = 50, color='green', alpha=0.8)\n",
    "\n",
    "plt.title('Granule size distribution for feedstock')\n",
    "plt.xlabel('Granule sizes')\n",
    "plt.ylabel('Distribution density')\n",
    "plt.legend(['rougher.input.feed_size', 'rougher.input.feed_size'])\n",
    "\n",
    "plt.show()"
   ]
  },
  {
   "cell_type": "markdown",
   "metadata": {},
   "source": [
    "In the histogram we see a normal distribution of granules in both samples. There are outliers both to the left - tending to zero, and to the right of the main concentration of the distribution."
   ]
  },
  {
   "cell_type": "markdown",
   "metadata": {},
   "source": [
    "#### Total concentration of metals at various stages"
   ]
  },
  {
   "cell_type": "code",
   "execution_count": 34,
   "metadata": {},
   "outputs": [
    {
     "data": {
      "image/png": "[encoded data removed]",
      "text/plain": [
       "<Figure size 1400x700 with 1 Axes>"
      ]
     },
     "metadata": {},
     "output_type": "display_data"
    }
   ],
   "source": [
    "# let's display figures for Au concentration at stages: in raw materials, in rough concentrate, \n",
    "# concentrate after the first purification and final\n",
    "df_tr['rougher.input.feed'] = df_tr['rougher.input.feed_au']+df_tr['rougher.input.feed_ag']+df_tr['rougher.input.feed_pb']\n",
    "df_tr['rougher.output.concentrate'] = df_tr['rougher.output.concentrate_au']+df_tr['rougher.output.concentrate_ag']+df_tr['rougher.output.concentrate_pb']\n",
    "df_tr['primary_cleaner.output.concentrate'] = df_tr['primary_cleaner.output.concentrate_au']+df_tr['primary_cleaner.output.concentrate_ag']+df_tr['primary_cleaner.output.concentrate_pb']\n",
    "df_tr['final.output.concentrate'] = df_tr['final.output.concentrate_au']+df_tr['final.output.concentrate_ag']+df_tr['final.output.concentrate_pb']\n",
    "\n",
    "x_name = ('rough_inp', 'rough_out', 'prim_clean', 'final_out')\n",
    "\n",
    "# Box plot\n",
    "\n",
    "df_tr[['rougher.input.feed', 'rougher.output.concentrate', 'primary_cleaner.output.concentrate', 'final.output.concentrate']]\n",
    "plt.figure(figsize=(14,7))\n",
    "plt.boxplot(df_tr[['rougher.input.feed', 'rougher.output.concentrate', 'primary_cleaner.output.concentrate', 'final.output.concentrate']])\n",
    "plt.xticks([1,2,3,4],['rough.inp', 'rough.out', 'prim.clean', 'final.out'], rotation=10)\n",
    "plt.title('Box plot: sum of metals at each stage')\n",
    "plt.ylabel('Values')\n",
    "plt.show()"
   ]
  },
  {
   "cell_type": "code",
   "execution_count": 35,
   "metadata": {},
   "outputs": [
    {
     "data": {
      "image/png": "[encoded data removed]",
      "text/plain": [
       "<Figure size 1400x800 with 1 Axes>"
      ]
     },
     "metadata": {},
     "output_type": "display_data"
    }
   ],
   "source": [
    "plt.figure(figsize=[14,8])\n",
    "\n",
    "plt.hist(df_tr['rougher.input.feed'], bins=100, label = 'rougher.input.feed', alpha=.5)\n",
    "plt.hist(df_tr['rougher.output.concentrate'], bins=100, label = 'rougher.output.concentrate', alpha=.5)\n",
    "plt.hist(df_tr['primary_cleaner.output.concentrate'], bins=100, label = 'rimary_cleaner.output', alpha=.5)\n",
    "plt.hist(df_tr['final.output.concentrate'], bins=100, label = 'final.output.concentrate', alpha=.5)\n",
    "\n",
    "plt.xlim([-1, 100])\n",
    "plt.ylim([0,1500])\n",
    "\n",
    "plt.xlabel('Concentration of metals at stages')\n",
    "plt.ylabel('Number of results')\n",
    "\n",
    "plt.legend(loc='upper left', fontsize= 'small')\n",
    "\n",
    "plt.title('Concentration of metals at stages')\n",
    "plt.show()"
   ]
  },
  {
   "cell_type": "markdown",
   "metadata": {},
   "source": [
    "The strange emissions that haunted us were not left in 0, since we threw them out at the stage of analyzing the concentration of each type of metal at each stage."
   ]
  },
  {
   "cell_type": "markdown",
   "metadata": {},
   "source": [
    "The total concentration of metals increases from stage to stage and the range of dispersion narrows."
   ]
  },
  {
   "cell_type": "markdown",
   "metadata": {},
   "source": [
    "### Conclusion"
   ]
  },
  {
   "cell_type": "markdown",
   "metadata": {},
   "source": [
    "We checked the metal concentrations at different stages. We came to the following conclusions: the average concentration of gold increases from stage to stage (in raw materials - 8.27, in rough concentrate - 19.77, after the first purification - 32.12, in the final - 44.08); the average silver concentration, on the contrary, drops after the rough concentrate stage (in raw materials - 8.79, in rough concentrate - 11.99, after the first purification - 8.44, in the final - 5.17); The average concentration of lead is growing (in raw materials - 3.59, in rough concentrate - 7.61, after the first purification - 9.81, in the final - 9.98). \n",
    "\n",
    "We also removed outliers in metal concentrations in the training set, which are less than 1 at all stages of the process.\n",
    "\n",
    "Comparison of the sizes of granules of the initial raw materials on the training and test samples - in the histogram we see a normal distribution of granules on both samples. There are outliers both to the left - tending to zero, and to the right of the main concentration of the distribution.\n",
    "\n",
    "We analyzed the total concentration of metals at various stages. The strange emissions that haunted us were not left in 0, since we threw them out at the stage of analyzing the concentration of each type of metal at each stage. The total concentration of metals increases from stage to stage and the range of spread narrows."
   ]
  },
  {
   "cell_type": "markdown",
   "metadata": {},
   "source": [
    "## Model"
   ]
  },
  {
   "cell_type": "markdown",
   "metadata": {},
   "source": [
    "#### Preparing of dataframes for forecasting"
   ]
  },
  {
   "cell_type": "code",
   "execution_count": 36,
   "metadata": {},
   "outputs": [
    {
     "name": "stdout",
     "output_type": "stream",
     "text": [
      "<class 'pandas.core.frame.DataFrame'>\n",
      "RangeIndex: 4860 entries, 0 to 4859\n",
      "Data columns (total 53 columns):\n",
      " #   Column                                      Non-Null Count  Dtype  \n",
      "---  ------                                      --------------  -----  \n",
      " 0   date                                        4860 non-null   object \n",
      " 1   rougher.input.feed_au                       4860 non-null   float64\n",
      " 2   rougher.input.feed_ag                       4860 non-null   float64\n",
      " 3   rougher.input.feed_pb                       4860 non-null   float64\n",
      " 4   rougher.input.feed_sol                      4860 non-null   float64\n",
      " 5   rougher.input.feed_rate                     4860 non-null   float64\n",
      " 6   rougher.input.feed_size                     4860 non-null   float64\n",
      " 7   rougher.input.floatbank10_sulfate           4860 non-null   float64\n",
      " 8   rougher.input.floatbank10_xanthate          4860 non-null   float64\n",
      " 9   rougher.state.floatbank10_a_air             4860 non-null   float64\n",
      " 10  rougher.state.floatbank10_a_level           4860 non-null   float64\n",
      " 11  rougher.state.floatbank10_b_air             4860 non-null   float64\n",
      " 12  rougher.state.floatbank10_b_level           4860 non-null   float64\n",
      " 13  rougher.state.floatbank10_c_air             4860 non-null   float64\n",
      " 14  rougher.state.floatbank10_c_level           4860 non-null   float64\n",
      " 15  rougher.state.floatbank10_d_air             4860 non-null   float64\n",
      " 16  rougher.state.floatbank10_d_level           4860 non-null   float64\n",
      " 17  rougher.state.floatbank10_e_air             4860 non-null   float64\n",
      " 18  rougher.state.floatbank10_e_level           4860 non-null   float64\n",
      " 19  rougher.state.floatbank10_f_air             4860 non-null   float64\n",
      " 20  rougher.state.floatbank10_f_level           4860 non-null   float64\n",
      " 21  rougher.input.floatbank11_sulfate           4860 non-null   float64\n",
      " 22  rougher.input.floatbank11_xanthate          4860 non-null   float64\n",
      " 23  primary_cleaner.input.sulfate               4860 non-null   float64\n",
      " 24  primary_cleaner.input.depressant            4860 non-null   float64\n",
      " 25  primary_cleaner.input.feed_size             4860 non-null   float64\n",
      " 26  primary_cleaner.input.xanthate              4860 non-null   float64\n",
      " 27  primary_cleaner.state.floatbank8_a_air      4860 non-null   float64\n",
      " 28  primary_cleaner.state.floatbank8_a_level    4860 non-null   float64\n",
      " 29  primary_cleaner.state.floatbank8_b_air      4860 non-null   float64\n",
      " 30  primary_cleaner.state.floatbank8_b_level    4860 non-null   float64\n",
      " 31  primary_cleaner.state.floatbank8_c_air      4860 non-null   float64\n",
      " 32  primary_cleaner.state.floatbank8_c_level    4860 non-null   float64\n",
      " 33  primary_cleaner.state.floatbank8_d_air      4860 non-null   float64\n",
      " 34  primary_cleaner.state.floatbank8_d_level    4860 non-null   float64\n",
      " 35  secondary_cleaner.state.floatbank2_a_air    4860 non-null   float64\n",
      " 36  secondary_cleaner.state.floatbank2_a_level  4860 non-null   float64\n",
      " 37  secondary_cleaner.state.floatbank2_b_air    4860 non-null   float64\n",
      " 38  secondary_cleaner.state.floatbank2_b_level  4860 non-null   float64\n",
      " 39  secondary_cleaner.state.floatbank3_a_air    4860 non-null   float64\n",
      " 40  secondary_cleaner.state.floatbank3_a_level  4860 non-null   float64\n",
      " 41  secondary_cleaner.state.floatbank3_b_air    4860 non-null   float64\n",
      " 42  secondary_cleaner.state.floatbank3_b_level  4860 non-null   float64\n",
      " 43  secondary_cleaner.state.floatbank4_a_air    4860 non-null   float64\n",
      " 44  secondary_cleaner.state.floatbank4_a_level  4860 non-null   float64\n",
      " 45  secondary_cleaner.state.floatbank4_b_air    4860 non-null   float64\n",
      " 46  secondary_cleaner.state.floatbank4_b_level  4860 non-null   float64\n",
      " 47  secondary_cleaner.state.floatbank5_a_air    4860 non-null   float64\n",
      " 48  secondary_cleaner.state.floatbank5_a_level  4860 non-null   float64\n",
      " 49  secondary_cleaner.state.floatbank5_b_air    4860 non-null   float64\n",
      " 50  secondary_cleaner.state.floatbank5_b_level  4860 non-null   float64\n",
      " 51  secondary_cleaner.state.floatbank6_a_air    4860 non-null   float64\n",
      " 52  secondary_cleaner.state.floatbank6_a_level  4860 non-null   float64\n",
      "dtypes: float64(52), object(1)\n",
      "memory usage: 2.0+ MB\n"
     ]
    }
   ],
   "source": [
    "df_te.info()"
   ]
  },
  {
   "cell_type": "code",
   "execution_count": 37,
   "metadata": {},
   "outputs": [
    {
     "data": {
      "text/html": [
       "<div>\n",
       "<style scoped>\n",
       "    .dataframe tbody tr th:only-of-type {\n",
       "        vertical-align: middle;\n",
       "    }\n",
       "\n",
       "    .dataframe tbody tr th {\n",
       "        vertical-align: top;\n",
       "    }\n",
       "\n",
       "    .dataframe thead th {\n",
       "        text-align: right;\n",
       "    }\n",
       "</style>\n",
       "<table border=\"1\" class=\"dataframe\">\n",
       "  <thead>\n",
       "    <tr style=\"text-align: right;\">\n",
       "      <th></th>\n",
       "      <th>date</th>\n",
       "      <th>rougher.input.feed_au</th>\n",
       "      <th>rougher.input.feed_ag</th>\n",
       "      <th>rougher.input.feed_pb</th>\n",
       "      <th>rougher.input.feed_sol</th>\n",
       "      <th>rougher.input.feed_rate</th>\n",
       "      <th>rougher.input.feed_size</th>\n",
       "      <th>rougher.input.floatbank10_sulfate</th>\n",
       "      <th>rougher.input.floatbank10_xanthate</th>\n",
       "      <th>rougher.state.floatbank10_a_air</th>\n",
       "      <th>...</th>\n",
       "      <th>secondary_cleaner.state.floatbank4_b_air</th>\n",
       "      <th>secondary_cleaner.state.floatbank4_b_level</th>\n",
       "      <th>secondary_cleaner.state.floatbank5_a_air</th>\n",
       "      <th>secondary_cleaner.state.floatbank5_a_level</th>\n",
       "      <th>secondary_cleaner.state.floatbank5_b_air</th>\n",
       "      <th>secondary_cleaner.state.floatbank5_b_level</th>\n",
       "      <th>secondary_cleaner.state.floatbank6_a_air</th>\n",
       "      <th>secondary_cleaner.state.floatbank6_a_level</th>\n",
       "      <th>rougher.output.recovery</th>\n",
       "      <th>final.output.recovery</th>\n",
       "    </tr>\n",
       "  </thead>\n",
       "  <tbody>\n",
       "    <tr>\n",
       "      <th>0</th>\n",
       "      <td>2017-12-09 14:59:59</td>\n",
       "      <td>4.365491</td>\n",
       "      <td>6.158718</td>\n",
       "      <td>3.875727</td>\n",
       "      <td>39.135119</td>\n",
       "      <td>555.820208</td>\n",
       "      <td>94.544358</td>\n",
       "      <td>6.146982</td>\n",
       "      <td>9.308612</td>\n",
       "      <td>1196.238112</td>\n",
       "      <td>...</td>\n",
       "      <td>20.020205</td>\n",
       "      <td>-500.220296</td>\n",
       "      <td>17.963512</td>\n",
       "      <td>-499.939490</td>\n",
       "      <td>12.990306</td>\n",
       "      <td>-500.080993</td>\n",
       "      <td>19.990336</td>\n",
       "      <td>-499.191575</td>\n",
       "      <td>89.514960</td>\n",
       "      <td>70.281454</td>\n",
       "    </tr>\n",
       "    <tr>\n",
       "      <th>1</th>\n",
       "      <td>2017-12-09 15:59:59</td>\n",
       "      <td>4.362781</td>\n",
       "      <td>6.048130</td>\n",
       "      <td>3.902537</td>\n",
       "      <td>39.713906</td>\n",
       "      <td>544.731687</td>\n",
       "      <td>123.742430</td>\n",
       "      <td>6.210119</td>\n",
       "      <td>9.297709</td>\n",
       "      <td>1201.904177</td>\n",
       "      <td>...</td>\n",
       "      <td>20.054122</td>\n",
       "      <td>-500.314711</td>\n",
       "      <td>17.979515</td>\n",
       "      <td>-499.272871</td>\n",
       "      <td>12.992404</td>\n",
       "      <td>-499.976268</td>\n",
       "      <td>20.013986</td>\n",
       "      <td>-500.625471</td>\n",
       "      <td>89.858126</td>\n",
       "      <td>65.523246</td>\n",
       "    </tr>\n",
       "    <tr>\n",
       "      <th>2</th>\n",
       "      <td>2017-12-09 16:59:59</td>\n",
       "      <td>5.081681</td>\n",
       "      <td>6.082745</td>\n",
       "      <td>4.564078</td>\n",
       "      <td>37.208683</td>\n",
       "      <td>558.155110</td>\n",
       "      <td>82.610855</td>\n",
       "      <td>7.363824</td>\n",
       "      <td>9.003562</td>\n",
       "      <td>1200.826926</td>\n",
       "      <td>...</td>\n",
       "      <td>20.029144</td>\n",
       "      <td>-500.000662</td>\n",
       "      <td>18.012723</td>\n",
       "      <td>-500.024764</td>\n",
       "      <td>13.016445</td>\n",
       "      <td>-500.058432</td>\n",
       "      <td>19.973767</td>\n",
       "      <td>-501.394155</td>\n",
       "      <td>91.816623</td>\n",
       "      <td>74.817644</td>\n",
       "    </tr>\n",
       "    <tr>\n",
       "      <th>3</th>\n",
       "      <td>2017-12-09 17:59:59</td>\n",
       "      <td>5.145949</td>\n",
       "      <td>6.084374</td>\n",
       "      <td>4.768124</td>\n",
       "      <td>36.808874</td>\n",
       "      <td>539.713765</td>\n",
       "      <td>77.984784</td>\n",
       "      <td>6.927072</td>\n",
       "      <td>8.955597</td>\n",
       "      <td>1199.292489</td>\n",
       "      <td>...</td>\n",
       "      <td>19.977466</td>\n",
       "      <td>-500.159903</td>\n",
       "      <td>17.980463</td>\n",
       "      <td>-500.504602</td>\n",
       "      <td>12.949071</td>\n",
       "      <td>-500.009937</td>\n",
       "      <td>20.010332</td>\n",
       "      <td>-508.337973</td>\n",
       "      <td>88.478959</td>\n",
       "      <td>63.082720</td>\n",
       "    </tr>\n",
       "    <tr>\n",
       "      <th>4</th>\n",
       "      <td>2017-12-09 18:59:59</td>\n",
       "      <td>5.735249</td>\n",
       "      <td>6.165220</td>\n",
       "      <td>4.512346</td>\n",
       "      <td>37.810642</td>\n",
       "      <td>558.713584</td>\n",
       "      <td>86.434874</td>\n",
       "      <td>7.823471</td>\n",
       "      <td>7.490356</td>\n",
       "      <td>1198.005449</td>\n",
       "      <td>...</td>\n",
       "      <td>20.023735</td>\n",
       "      <td>-499.713680</td>\n",
       "      <td>17.990955</td>\n",
       "      <td>-500.334769</td>\n",
       "      <td>13.007523</td>\n",
       "      <td>-499.968459</td>\n",
       "      <td>19.995999</td>\n",
       "      <td>-499.788805</td>\n",
       "      <td>89.230316</td>\n",
       "      <td>74.463380</td>\n",
       "    </tr>\n",
       "  </tbody>\n",
       "</table>\n",
       "<p>5 rows × 55 columns</p>\n",
       "</div>"
      ],
      "text/plain": [
       "                  date  rougher.input.feed_au  rougher.input.feed_ag  \\\n",
       "0  2017-12-09 14:59:59               4.365491               6.158718   \n",
       "1  2017-12-09 15:59:59               4.362781               6.048130   \n",
       "2  2017-12-09 16:59:59               5.081681               6.082745   \n",
       "3  2017-12-09 17:59:59               5.145949               6.084374   \n",
       "4  2017-12-09 18:59:59               5.735249               6.165220   \n",
       "\n",
       "   rougher.input.feed_pb  rougher.input.feed_sol  rougher.input.feed_rate  \\\n",
       "0               3.875727               39.135119               555.820208   \n",
       "1               3.902537               39.713906               544.731687   \n",
       "2               4.564078               37.208683               558.155110   \n",
       "3               4.768124               36.808874               539.713765   \n",
       "4               4.512346               37.810642               558.713584   \n",
       "\n",
       "   rougher.input.feed_size  rougher.input.floatbank10_sulfate  \\\n",
       "0                94.544358                           6.146982   \n",
       "1               123.742430                           6.210119   \n",
       "2                82.610855                           7.363824   \n",
       "3                77.984784                           6.927072   \n",
       "4                86.434874                           7.823471   \n",
       "\n",
       "   rougher.input.floatbank10_xanthate  rougher.state.floatbank10_a_air  ...  \\\n",
       "0                            9.308612                      1196.238112  ...   \n",
       "1                            9.297709                      1201.904177  ...   \n",
       "2                            9.003562                      1200.826926  ...   \n",
       "3                            8.955597                      1199.292489  ...   \n",
       "4                            7.490356                      1198.005449  ...   \n",
       "\n",
       "   secondary_cleaner.state.floatbank4_b_air  \\\n",
       "0                                 20.020205   \n",
       "1                                 20.054122   \n",
       "2                                 20.029144   \n",
       "3                                 19.977466   \n",
       "4                                 20.023735   \n",
       "\n",
       "   secondary_cleaner.state.floatbank4_b_level  \\\n",
       "0                                 -500.220296   \n",
       "1                                 -500.314711   \n",
       "2                                 -500.000662   \n",
       "3                                 -500.159903   \n",
       "4                                 -499.713680   \n",
       "\n",
       "   secondary_cleaner.state.floatbank5_a_air  \\\n",
       "0                                 17.963512   \n",
       "1                                 17.979515   \n",
       "2                                 18.012723   \n",
       "3                                 17.980463   \n",
       "4                                 17.990955   \n",
       "\n",
       "   secondary_cleaner.state.floatbank5_a_level  \\\n",
       "0                                 -499.939490   \n",
       "1                                 -499.272871   \n",
       "2                                 -500.024764   \n",
       "3                                 -500.504602   \n",
       "4                                 -500.334769   \n",
       "\n",
       "   secondary_cleaner.state.floatbank5_b_air  \\\n",
       "0                                 12.990306   \n",
       "1                                 12.992404   \n",
       "2                                 13.016445   \n",
       "3                                 12.949071   \n",
       "4                                 13.007523   \n",
       "\n",
       "   secondary_cleaner.state.floatbank5_b_level  \\\n",
       "0                                 -500.080993   \n",
       "1                                 -499.976268   \n",
       "2                                 -500.058432   \n",
       "3                                 -500.009937   \n",
       "4                                 -499.968459   \n",
       "\n",
       "   secondary_cleaner.state.floatbank6_a_air  \\\n",
       "0                                 19.990336   \n",
       "1                                 20.013986   \n",
       "2                                 19.973767   \n",
       "3                                 20.010332   \n",
       "4                                 19.995999   \n",
       "\n",
       "   secondary_cleaner.state.floatbank6_a_level  rougher.output.recovery  \\\n",
       "0                                 -499.191575                89.514960   \n",
       "1                                 -500.625471                89.858126   \n",
       "2                                 -501.394155                91.816623   \n",
       "3                                 -508.337973                88.478959   \n",
       "4                                 -499.788805                89.230316   \n",
       "\n",
       "   final.output.recovery  \n",
       "0              70.281454  \n",
       "1              65.523246  \n",
       "2              74.817644  \n",
       "3              63.082720  \n",
       "4              74.463380  \n",
       "\n",
       "[5 rows x 55 columns]"
      ]
     },
     "execution_count": 37,
     "metadata": {},
     "output_type": "execute_result"
    }
   ],
   "source": [
    "# let's introduce variables for target features\n",
    "y_rougher = 'rougher.output.recovery'\n",
    "y_final = 'final.output.recovery'\n",
    "\n",
    "# let's denote it as a list\n",
    "targets = [y_final, y_rougher]\n",
    "\n",
    "df_te = df_te.merge(df_fu[['date', 'rougher.output.recovery', 'final.output.recovery']], how='left', on='date')\n",
    "\n",
    "# display the test sample\n",
    "df_te.head()"
   ]
  },
  {
   "cell_type": "code",
   "execution_count": 38,
   "metadata": {},
   "outputs": [
    {
     "name": "stdout",
     "output_type": "stream",
     "text": [
      "<class 'pandas.core.frame.DataFrame'>\n",
      "Int64Index: 13804 entries, 0 to 14578\n",
      "Data columns (total 91 columns):\n",
      " #   Column                                              Non-Null Count  Dtype  \n",
      "---  ------                                              --------------  -----  \n",
      " 0   date                                                13804 non-null  object \n",
      " 1   rougher.input.feed_au                               13804 non-null  float64\n",
      " 2   rougher.input.feed_ag                               13804 non-null  float64\n",
      " 3   rougher.input.feed_pb                               13804 non-null  float64\n",
      " 4   rougher.input.feed_sol                              13804 non-null  float64\n",
      " 5   rougher.input.feed_rate                             13804 non-null  float64\n",
      " 6   rougher.input.feed_size                             13804 non-null  float64\n",
      " 7   rougher.input.floatbank10_sulfate                   13804 non-null  float64\n",
      " 8   rougher.input.floatbank10_xanthate                  13804 non-null  float64\n",
      " 9   rougher.state.floatbank10_a_air                     13804 non-null  float64\n",
      " 10  rougher.state.floatbank10_a_level                   13804 non-null  float64\n",
      " 11  rougher.state.floatbank10_b_air                     13804 non-null  float64\n",
      " 12  rougher.state.floatbank10_b_level                   13804 non-null  float64\n",
      " 13  rougher.state.floatbank10_c_air                     13804 non-null  float64\n",
      " 14  rougher.state.floatbank10_c_level                   13804 non-null  float64\n",
      " 15  rougher.state.floatbank10_d_air                     13804 non-null  float64\n",
      " 16  rougher.state.floatbank10_d_level                   13804 non-null  float64\n",
      " 17  rougher.state.floatbank10_e_air                     13804 non-null  float64\n",
      " 18  rougher.state.floatbank10_e_level                   13804 non-null  float64\n",
      " 19  rougher.state.floatbank10_f_air                     13804 non-null  float64\n",
      " 20  rougher.state.floatbank10_f_level                   13804 non-null  float64\n",
      " 21  rougher.input.floatbank11_sulfate                   13804 non-null  float64\n",
      " 22  rougher.input.floatbank11_xanthate                  13804 non-null  float64\n",
      " 23  rougher.calculation.sulfate_to_au_concentrate       13804 non-null  float64\n",
      " 24  rougher.calculation.floatbank10_sulfate_to_au_feed  13804 non-null  float64\n",
      " 25  rougher.calculation.floatbank11_sulfate_to_au_feed  13804 non-null  float64\n",
      " 26  rougher.calculation.au_pb_ratio                     13804 non-null  float64\n",
      " 27  rougher.output.concentrate_au                       13804 non-null  float64\n",
      " 28  rougher.output.concentrate_ag                       13804 non-null  float64\n",
      " 29  rougher.output.concentrate_pb                       13804 non-null  float64\n",
      " 30  rougher.output.concentrate_sol                      13804 non-null  float64\n",
      " 31  rougher.output.recovery                             13804 non-null  float64\n",
      " 32  rougher.output.tail_au                              13804 non-null  float64\n",
      " 33  rougher.output.tail_ag                              13804 non-null  float64\n",
      " 34  rougher.output.tail_pb                              13804 non-null  float64\n",
      " 35  rougher.output.tail_sol                             13804 non-null  float64\n",
      " 36  primary_cleaner.input.sulfate                       13804 non-null  float64\n",
      " 37  primary_cleaner.input.depressant                    13804 non-null  float64\n",
      " 38  primary_cleaner.input.feed_size                     13804 non-null  float64\n",
      " 39  primary_cleaner.input.xanthate                      13804 non-null  float64\n",
      " 40  primary_cleaner.state.floatbank8_a_air              13804 non-null  float64\n",
      " 41  primary_cleaner.state.floatbank8_a_level            13804 non-null  float64\n",
      " 42  primary_cleaner.state.floatbank8_b_air              13804 non-null  float64\n",
      " 43  primary_cleaner.state.floatbank8_b_level            13804 non-null  float64\n",
      " 44  primary_cleaner.state.floatbank8_c_air              13804 non-null  float64\n",
      " 45  primary_cleaner.state.floatbank8_c_level            13804 non-null  float64\n",
      " 46  primary_cleaner.state.floatbank8_d_air              13804 non-null  float64\n",
      " 47  primary_cleaner.state.floatbank8_d_level            13804 non-null  float64\n",
      " 48  primary_cleaner.output.concentrate_au               13804 non-null  float64\n",
      " 49  primary_cleaner.output.concentrate_ag               13804 non-null  float64\n",
      " 50  primary_cleaner.output.concentrate_pb               13804 non-null  float64\n",
      " 51  primary_cleaner.output.concentrate_sol              13804 non-null  float64\n",
      " 52  primary_cleaner.output.tail_au                      13804 non-null  float64\n",
      " 53  primary_cleaner.output.tail_ag                      13804 non-null  float64\n",
      " 54  primary_cleaner.output.tail_pb                      13804 non-null  float64\n",
      " 55  primary_cleaner.output.tail_sol                     13804 non-null  float64\n",
      " 56  secondary_cleaner.state.floatbank2_a_air            13804 non-null  float64\n",
      " 57  secondary_cleaner.state.floatbank2_a_level          13804 non-null  float64\n",
      " 58  secondary_cleaner.state.floatbank2_b_air            13804 non-null  float64\n",
      " 59  secondary_cleaner.state.floatbank2_b_level          13804 non-null  float64\n",
      " 60  secondary_cleaner.state.floatbank3_a_air            13804 non-null  float64\n",
      " 61  secondary_cleaner.state.floatbank3_a_level          13804 non-null  float64\n",
      " 62  secondary_cleaner.state.floatbank3_b_air            13804 non-null  float64\n",
      " 63  secondary_cleaner.state.floatbank3_b_level          13804 non-null  float64\n",
      " 64  secondary_cleaner.state.floatbank4_a_air            13804 non-null  float64\n",
      " 65  secondary_cleaner.state.floatbank4_a_level          13804 non-null  float64\n",
      " 66  secondary_cleaner.state.floatbank4_b_air            13804 non-null  float64\n",
      " 67  secondary_cleaner.state.floatbank4_b_level          13804 non-null  float64\n",
      " 68  secondary_cleaner.state.floatbank5_a_air            13804 non-null  float64\n",
      " 69  secondary_cleaner.state.floatbank5_a_level          13804 non-null  float64\n",
      " 70  secondary_cleaner.state.floatbank5_b_air            13804 non-null  float64\n",
      " 71  secondary_cleaner.state.floatbank5_b_level          13804 non-null  float64\n",
      " 72  secondary_cleaner.state.floatbank6_a_air            13804 non-null  float64\n",
      " 73  secondary_cleaner.state.floatbank6_a_level          13804 non-null  float64\n",
      " 74  secondary_cleaner.output.tail_au                    13804 non-null  float64\n",
      " 75  secondary_cleaner.output.tail_ag                    13804 non-null  float64\n",
      " 76  secondary_cleaner.output.tail_pb                    13804 non-null  float64\n",
      " 77  secondary_cleaner.output.tail_sol                   13804 non-null  float64\n",
      " 78  final.output.concentrate_au                         13804 non-null  float64\n",
      " 79  final.output.concentrate_ag                         13804 non-null  float64\n",
      " 80  final.output.concentrate_pb                         13804 non-null  float64\n",
      " 81  final.output.concentrate_sol                        13804 non-null  float64\n",
      " 82  final.output.recovery                               13804 non-null  float64\n",
      " 83  final.output.tail_au                                13804 non-null  float64\n",
      " 84  final.output.tail_ag                                13804 non-null  float64\n",
      " 85  final.output.tail_pb                                13804 non-null  float64\n",
      " 86  final.output.tail_sol                               13804 non-null  float64\n",
      " 87  rougher.input.feed                                  13804 non-null  float64\n",
      " 88  rougher.output.concentrate                          13804 non-null  float64\n",
      " 89  primary_cleaner.output.concentrate                  13804 non-null  float64\n",
      " 90  final.output.concentrate                            13804 non-null  float64\n",
      "dtypes: float64(90), object(1)\n",
      "memory usage: 9.7+ MB\n"
     ]
    }
   ],
   "source": [
    "df_tr.info()"
   ]
  },
  {
   "cell_type": "code",
   "execution_count": 39,
   "metadata": {},
   "outputs": [
    {
     "data": {
      "text/html": [
       "<div>\n",
       "<style scoped>\n",
       "    .dataframe tbody tr th:only-of-type {\n",
       "        vertical-align: middle;\n",
       "    }\n",
       "\n",
       "    .dataframe tbody tr th {\n",
       "        vertical-align: top;\n",
       "    }\n",
       "\n",
       "    .dataframe thead th {\n",
       "        text-align: right;\n",
       "    }\n",
       "</style>\n",
       "<table border=\"1\" class=\"dataframe\">\n",
       "  <thead>\n",
       "    <tr style=\"text-align: right;\">\n",
       "      <th></th>\n",
       "      <th>date</th>\n",
       "      <th>rougher.input.feed_au</th>\n",
       "      <th>rougher.input.feed_ag</th>\n",
       "      <th>rougher.input.feed_pb</th>\n",
       "      <th>rougher.input.feed_sol</th>\n",
       "      <th>rougher.input.feed_rate</th>\n",
       "      <th>rougher.input.feed_size</th>\n",
       "      <th>rougher.input.floatbank10_sulfate</th>\n",
       "      <th>rougher.input.floatbank10_xanthate</th>\n",
       "      <th>rougher.state.floatbank10_a_air</th>\n",
       "      <th>...</th>\n",
       "      <th>secondary_cleaner.state.floatbank5_a_level</th>\n",
       "      <th>secondary_cleaner.state.floatbank5_b_air</th>\n",
       "      <th>secondary_cleaner.state.floatbank5_b_level</th>\n",
       "      <th>secondary_cleaner.state.floatbank6_a_air</th>\n",
       "      <th>secondary_cleaner.state.floatbank6_a_level</th>\n",
       "      <th>final.output.recovery</th>\n",
       "      <th>rougher.input.feed</th>\n",
       "      <th>rougher.output.concentrate</th>\n",
       "      <th>primary_cleaner.output.concentrate</th>\n",
       "      <th>final.output.concentrate</th>\n",
       "    </tr>\n",
       "  </thead>\n",
       "  <tbody>\n",
       "    <tr>\n",
       "      <th>0</th>\n",
       "      <td>2016-01-15 00:00:00</td>\n",
       "      <td>6.486150</td>\n",
       "      <td>6.100378</td>\n",
       "      <td>2.284912</td>\n",
       "      <td>36.808594</td>\n",
       "      <td>523.546326</td>\n",
       "      <td>55.486599</td>\n",
       "      <td>11.986616</td>\n",
       "      <td>6.007990</td>\n",
       "      <td>999.706909</td>\n",
       "      <td>...</td>\n",
       "      <td>-498.310211</td>\n",
       "      <td>8.079666</td>\n",
       "      <td>-500.470978</td>\n",
       "      <td>14.151341</td>\n",
       "      <td>-605.841980</td>\n",
       "      <td>70.541216</td>\n",
       "      <td>14.871440</td>\n",
       "      <td>38.395653</td>\n",
       "      <td>53.111627</td>\n",
       "      <td>58.137072</td>\n",
       "    </tr>\n",
       "    <tr>\n",
       "      <th>1</th>\n",
       "      <td>2016-01-15 01:00:00</td>\n",
       "      <td>6.478583</td>\n",
       "      <td>6.161113</td>\n",
       "      <td>2.266033</td>\n",
       "      <td>35.753385</td>\n",
       "      <td>525.290581</td>\n",
       "      <td>57.278666</td>\n",
       "      <td>11.971193</td>\n",
       "      <td>6.005766</td>\n",
       "      <td>1000.286398</td>\n",
       "      <td>...</td>\n",
       "      <td>-500.169983</td>\n",
       "      <td>7.984757</td>\n",
       "      <td>-500.582168</td>\n",
       "      <td>13.998353</td>\n",
       "      <td>-599.787184</td>\n",
       "      <td>69.266198</td>\n",
       "      <td>14.905729</td>\n",
       "      <td>38.945647</td>\n",
       "      <td>53.174338</td>\n",
       "      <td>58.699942</td>\n",
       "    </tr>\n",
       "    <tr>\n",
       "      <th>2</th>\n",
       "      <td>2016-01-15 02:00:00</td>\n",
       "      <td>6.362222</td>\n",
       "      <td>6.116455</td>\n",
       "      <td>2.159622</td>\n",
       "      <td>35.971630</td>\n",
       "      <td>530.026610</td>\n",
       "      <td>57.510649</td>\n",
       "      <td>11.920603</td>\n",
       "      <td>6.197377</td>\n",
       "      <td>999.719565</td>\n",
       "      <td>...</td>\n",
       "      <td>-500.129135</td>\n",
       "      <td>8.013877</td>\n",
       "      <td>-500.517572</td>\n",
       "      <td>14.028663</td>\n",
       "      <td>-601.427363</td>\n",
       "      <td>68.116445</td>\n",
       "      <td>14.638299</td>\n",
       "      <td>38.649756</td>\n",
       "      <td>52.927464</td>\n",
       "      <td>58.927421</td>\n",
       "    </tr>\n",
       "    <tr>\n",
       "      <th>3</th>\n",
       "      <td>2016-01-15 03:00:00</td>\n",
       "      <td>6.118189</td>\n",
       "      <td>6.043309</td>\n",
       "      <td>2.037807</td>\n",
       "      <td>36.862241</td>\n",
       "      <td>542.590390</td>\n",
       "      <td>57.792734</td>\n",
       "      <td>11.630094</td>\n",
       "      <td>6.203177</td>\n",
       "      <td>999.814770</td>\n",
       "      <td>...</td>\n",
       "      <td>-499.201640</td>\n",
       "      <td>7.977324</td>\n",
       "      <td>-500.255908</td>\n",
       "      <td>14.005551</td>\n",
       "      <td>-599.996129</td>\n",
       "      <td>68.347543</td>\n",
       "      <td>14.199305</td>\n",
       "      <td>38.411473</td>\n",
       "      <td>43.979185</td>\n",
       "      <td>58.714815</td>\n",
       "    </tr>\n",
       "    <tr>\n",
       "      <th>4</th>\n",
       "      <td>2016-01-15 04:00:00</td>\n",
       "      <td>5.663707</td>\n",
       "      <td>6.060915</td>\n",
       "      <td>1.786875</td>\n",
       "      <td>34.347666</td>\n",
       "      <td>540.531893</td>\n",
       "      <td>56.047189</td>\n",
       "      <td>10.957755</td>\n",
       "      <td>6.198826</td>\n",
       "      <td>999.678690</td>\n",
       "      <td>...</td>\n",
       "      <td>-501.686727</td>\n",
       "      <td>7.894242</td>\n",
       "      <td>-500.356035</td>\n",
       "      <td>13.996647</td>\n",
       "      <td>-601.496691</td>\n",
       "      <td>66.927016</td>\n",
       "      <td>13.511497</td>\n",
       "      <td>38.867359</td>\n",
       "      <td>52.121146</td>\n",
       "      <td>59.065251</td>\n",
       "    </tr>\n",
       "  </tbody>\n",
       "</table>\n",
       "<p>5 rows × 59 columns</p>\n",
       "</div>"
      ],
      "text/plain": [
       "                  date  rougher.input.feed_au  rougher.input.feed_ag  \\\n",
       "0  2016-01-15 00:00:00               6.486150               6.100378   \n",
       "1  2016-01-15 01:00:00               6.478583               6.161113   \n",
       "2  2016-01-15 02:00:00               6.362222               6.116455   \n",
       "3  2016-01-15 03:00:00               6.118189               6.043309   \n",
       "4  2016-01-15 04:00:00               5.663707               6.060915   \n",
       "\n",
       "   rougher.input.feed_pb  rougher.input.feed_sol  rougher.input.feed_rate  \\\n",
       "0               2.284912               36.808594               523.546326   \n",
       "1               2.266033               35.753385               525.290581   \n",
       "2               2.159622               35.971630               530.026610   \n",
       "3               2.037807               36.862241               542.590390   \n",
       "4               1.786875               34.347666               540.531893   \n",
       "\n",
       "   rougher.input.feed_size  rougher.input.floatbank10_sulfate  \\\n",
       "0                55.486599                          11.986616   \n",
       "1                57.278666                          11.971193   \n",
       "2                57.510649                          11.920603   \n",
       "3                57.792734                          11.630094   \n",
       "4                56.047189                          10.957755   \n",
       "\n",
       "   rougher.input.floatbank10_xanthate  rougher.state.floatbank10_a_air  ...  \\\n",
       "0                            6.007990                       999.706909  ...   \n",
       "1                            6.005766                      1000.286398  ...   \n",
       "2                            6.197377                       999.719565  ...   \n",
       "3                            6.203177                       999.814770  ...   \n",
       "4                            6.198826                       999.678690  ...   \n",
       "\n",
       "   secondary_cleaner.state.floatbank5_a_level  \\\n",
       "0                                 -498.310211   \n",
       "1                                 -500.169983   \n",
       "2                                 -500.129135   \n",
       "3                                 -499.201640   \n",
       "4                                 -501.686727   \n",
       "\n",
       "   secondary_cleaner.state.floatbank5_b_air  \\\n",
       "0                                  8.079666   \n",
       "1                                  7.984757   \n",
       "2                                  8.013877   \n",
       "3                                  7.977324   \n",
       "4                                  7.894242   \n",
       "\n",
       "   secondary_cleaner.state.floatbank5_b_level  \\\n",
       "0                                 -500.470978   \n",
       "1                                 -500.582168   \n",
       "2                                 -500.517572   \n",
       "3                                 -500.255908   \n",
       "4                                 -500.356035   \n",
       "\n",
       "   secondary_cleaner.state.floatbank6_a_air  \\\n",
       "0                                 14.151341   \n",
       "1                                 13.998353   \n",
       "2                                 14.028663   \n",
       "3                                 14.005551   \n",
       "4                                 13.996647   \n",
       "\n",
       "   secondary_cleaner.state.floatbank6_a_level  final.output.recovery  \\\n",
       "0                                 -605.841980              70.541216   \n",
       "1                                 -599.787184              69.266198   \n",
       "2                                 -601.427363              68.116445   \n",
       "3                                 -599.996129              68.347543   \n",
       "4                                 -601.496691              66.927016   \n",
       "\n",
       "   rougher.input.feed  rougher.output.concentrate  \\\n",
       "0           14.871440                   38.395653   \n",
       "1           14.905729                   38.945647   \n",
       "2           14.638299                   38.649756   \n",
       "3           14.199305                   38.411473   \n",
       "4           13.511497                   38.867359   \n",
       "\n",
       "   primary_cleaner.output.concentrate  final.output.concentrate  \n",
       "0                           53.111627                 58.137072  \n",
       "1                           53.174338                 58.699942  \n",
       "2                           52.927464                 58.927421  \n",
       "3                           43.979185                 58.714815  \n",
       "4                           52.121146                 59.065251  \n",
       "\n",
       "[5 rows x 59 columns]"
      ]
     },
     "execution_count": 39,
     "metadata": {},
     "output_type": "execute_result"
    }
   ],
   "source": [
    "# let's bring the training set to the test set based on a set of columns\n",
    "# let's delete the columns that we found earlier when studying samples, except for targets\n",
    "for_drop = list(set(list_dif) - set(targets)) # columns to be deleted without target features\n",
    "\n",
    "df_tr.drop(for_drop, axis=1, inplace=True)\n",
    "\n",
    "df_tr.head()"
   ]
  },
  {
   "cell_type": "code",
   "execution_count": 40,
   "metadata": {},
   "outputs": [
    {
     "data": {
      "text/html": [
       "<div>\n",
       "<style scoped>\n",
       "    .dataframe tbody tr th:only-of-type {\n",
       "        vertical-align: middle;\n",
       "    }\n",
       "\n",
       "    .dataframe tbody tr th {\n",
       "        vertical-align: top;\n",
       "    }\n",
       "\n",
       "    .dataframe thead th {\n",
       "        text-align: right;\n",
       "    }\n",
       "</style>\n",
       "<table border=\"1\" class=\"dataframe\">\n",
       "  <thead>\n",
       "    <tr style=\"text-align: right;\">\n",
       "      <th></th>\n",
       "      <th>rougher.input.feed_au</th>\n",
       "      <th>rougher.input.feed_ag</th>\n",
       "      <th>rougher.input.feed_pb</th>\n",
       "      <th>rougher.input.feed_sol</th>\n",
       "      <th>rougher.input.feed_rate</th>\n",
       "      <th>rougher.input.feed_size</th>\n",
       "      <th>rougher.input.floatbank10_sulfate</th>\n",
       "      <th>rougher.input.floatbank10_xanthate</th>\n",
       "      <th>rougher.state.floatbank10_a_air</th>\n",
       "      <th>rougher.state.floatbank10_a_level</th>\n",
       "      <th>...</th>\n",
       "      <th>secondary_cleaner.state.floatbank4_a_level</th>\n",
       "      <th>secondary_cleaner.state.floatbank4_b_air</th>\n",
       "      <th>secondary_cleaner.state.floatbank4_b_level</th>\n",
       "      <th>secondary_cleaner.state.floatbank5_a_air</th>\n",
       "      <th>secondary_cleaner.state.floatbank5_a_level</th>\n",
       "      <th>secondary_cleaner.state.floatbank5_b_air</th>\n",
       "      <th>secondary_cleaner.state.floatbank5_b_level</th>\n",
       "      <th>secondary_cleaner.state.floatbank6_a_air</th>\n",
       "      <th>secondary_cleaner.state.floatbank6_a_level</th>\n",
       "      <th>final.output.recovery</th>\n",
       "    </tr>\n",
       "  </thead>\n",
       "  <tbody>\n",
       "    <tr>\n",
       "      <th>0</th>\n",
       "      <td>6.486150</td>\n",
       "      <td>6.100378</td>\n",
       "      <td>2.284912</td>\n",
       "      <td>36.808594</td>\n",
       "      <td>523.546326</td>\n",
       "      <td>55.486599</td>\n",
       "      <td>11.986616</td>\n",
       "      <td>6.007990</td>\n",
       "      <td>999.706909</td>\n",
       "      <td>-404.066986</td>\n",
       "      <td>...</td>\n",
       "      <td>-502.488007</td>\n",
       "      <td>12.099931</td>\n",
       "      <td>-504.715942</td>\n",
       "      <td>9.925633</td>\n",
       "      <td>-498.310211</td>\n",
       "      <td>8.079666</td>\n",
       "      <td>-500.470978</td>\n",
       "      <td>14.151341</td>\n",
       "      <td>-605.841980</td>\n",
       "      <td>70.541216</td>\n",
       "    </tr>\n",
       "    <tr>\n",
       "      <th>1</th>\n",
       "      <td>6.478583</td>\n",
       "      <td>6.161113</td>\n",
       "      <td>2.266033</td>\n",
       "      <td>35.753385</td>\n",
       "      <td>525.290581</td>\n",
       "      <td>57.278666</td>\n",
       "      <td>11.971193</td>\n",
       "      <td>6.005766</td>\n",
       "      <td>1000.286398</td>\n",
       "      <td>-400.065196</td>\n",
       "      <td>...</td>\n",
       "      <td>-505.503262</td>\n",
       "      <td>11.950531</td>\n",
       "      <td>-501.331529</td>\n",
       "      <td>10.039245</td>\n",
       "      <td>-500.169983</td>\n",
       "      <td>7.984757</td>\n",
       "      <td>-500.582168</td>\n",
       "      <td>13.998353</td>\n",
       "      <td>-599.787184</td>\n",
       "      <td>69.266198</td>\n",
       "    </tr>\n",
       "    <tr>\n",
       "      <th>2</th>\n",
       "      <td>6.362222</td>\n",
       "      <td>6.116455</td>\n",
       "      <td>2.159622</td>\n",
       "      <td>35.971630</td>\n",
       "      <td>530.026610</td>\n",
       "      <td>57.510649</td>\n",
       "      <td>11.920603</td>\n",
       "      <td>6.197377</td>\n",
       "      <td>999.719565</td>\n",
       "      <td>-400.074028</td>\n",
       "      <td>...</td>\n",
       "      <td>-502.520901</td>\n",
       "      <td>11.912783</td>\n",
       "      <td>-501.133383</td>\n",
       "      <td>10.070913</td>\n",
       "      <td>-500.129135</td>\n",
       "      <td>8.013877</td>\n",
       "      <td>-500.517572</td>\n",
       "      <td>14.028663</td>\n",
       "      <td>-601.427363</td>\n",
       "      <td>68.116445</td>\n",
       "    </tr>\n",
       "    <tr>\n",
       "      <th>3</th>\n",
       "      <td>6.118189</td>\n",
       "      <td>6.043309</td>\n",
       "      <td>2.037807</td>\n",
       "      <td>36.862241</td>\n",
       "      <td>542.590390</td>\n",
       "      <td>57.792734</td>\n",
       "      <td>11.630094</td>\n",
       "      <td>6.203177</td>\n",
       "      <td>999.814770</td>\n",
       "      <td>-400.200179</td>\n",
       "      <td>...</td>\n",
       "      <td>-500.857308</td>\n",
       "      <td>11.999550</td>\n",
       "      <td>-501.193686</td>\n",
       "      <td>9.970366</td>\n",
       "      <td>-499.201640</td>\n",
       "      <td>7.977324</td>\n",
       "      <td>-500.255908</td>\n",
       "      <td>14.005551</td>\n",
       "      <td>-599.996129</td>\n",
       "      <td>68.347543</td>\n",
       "    </tr>\n",
       "    <tr>\n",
       "      <th>4</th>\n",
       "      <td>5.663707</td>\n",
       "      <td>6.060915</td>\n",
       "      <td>1.786875</td>\n",
       "      <td>34.347666</td>\n",
       "      <td>540.531893</td>\n",
       "      <td>56.047189</td>\n",
       "      <td>10.957755</td>\n",
       "      <td>6.198826</td>\n",
       "      <td>999.678690</td>\n",
       "      <td>-399.752729</td>\n",
       "      <td>...</td>\n",
       "      <td>-499.838632</td>\n",
       "      <td>11.953070</td>\n",
       "      <td>-501.053894</td>\n",
       "      <td>9.925709</td>\n",
       "      <td>-501.686727</td>\n",
       "      <td>7.894242</td>\n",
       "      <td>-500.356035</td>\n",
       "      <td>13.996647</td>\n",
       "      <td>-601.496691</td>\n",
       "      <td>66.927016</td>\n",
       "    </tr>\n",
       "  </tbody>\n",
       "</table>\n",
       "<p>5 rows × 54 columns</p>\n",
       "</div>"
      ],
      "text/plain": [
       "   rougher.input.feed_au  rougher.input.feed_ag  rougher.input.feed_pb  \\\n",
       "0               6.486150               6.100378               2.284912   \n",
       "1               6.478583               6.161113               2.266033   \n",
       "2               6.362222               6.116455               2.159622   \n",
       "3               6.118189               6.043309               2.037807   \n",
       "4               5.663707               6.060915               1.786875   \n",
       "\n",
       "   rougher.input.feed_sol  rougher.input.feed_rate  rougher.input.feed_size  \\\n",
       "0               36.808594               523.546326                55.486599   \n",
       "1               35.753385               525.290581                57.278666   \n",
       "2               35.971630               530.026610                57.510649   \n",
       "3               36.862241               542.590390                57.792734   \n",
       "4               34.347666               540.531893                56.047189   \n",
       "\n",
       "   rougher.input.floatbank10_sulfate  rougher.input.floatbank10_xanthate  \\\n",
       "0                          11.986616                            6.007990   \n",
       "1                          11.971193                            6.005766   \n",
       "2                          11.920603                            6.197377   \n",
       "3                          11.630094                            6.203177   \n",
       "4                          10.957755                            6.198826   \n",
       "\n",
       "   rougher.state.floatbank10_a_air  rougher.state.floatbank10_a_level  ...  \\\n",
       "0                       999.706909                        -404.066986  ...   \n",
       "1                      1000.286398                        -400.065196  ...   \n",
       "2                       999.719565                        -400.074028  ...   \n",
       "3                       999.814770                        -400.200179  ...   \n",
       "4                       999.678690                        -399.752729  ...   \n",
       "\n",
       "   secondary_cleaner.state.floatbank4_a_level  \\\n",
       "0                                 -502.488007   \n",
       "1                                 -505.503262   \n",
       "2                                 -502.520901   \n",
       "3                                 -500.857308   \n",
       "4                                 -499.838632   \n",
       "\n",
       "   secondary_cleaner.state.floatbank4_b_air  \\\n",
       "0                                 12.099931   \n",
       "1                                 11.950531   \n",
       "2                                 11.912783   \n",
       "3                                 11.999550   \n",
       "4                                 11.953070   \n",
       "\n",
       "   secondary_cleaner.state.floatbank4_b_level  \\\n",
       "0                                 -504.715942   \n",
       "1                                 -501.331529   \n",
       "2                                 -501.133383   \n",
       "3                                 -501.193686   \n",
       "4                                 -501.053894   \n",
       "\n",
       "   secondary_cleaner.state.floatbank5_a_air  \\\n",
       "0                                  9.925633   \n",
       "1                                 10.039245   \n",
       "2                                 10.070913   \n",
       "3                                  9.970366   \n",
       "4                                  9.925709   \n",
       "\n",
       "   secondary_cleaner.state.floatbank5_a_level  \\\n",
       "0                                 -498.310211   \n",
       "1                                 -500.169983   \n",
       "2                                 -500.129135   \n",
       "3                                 -499.201640   \n",
       "4                                 -501.686727   \n",
       "\n",
       "   secondary_cleaner.state.floatbank5_b_air  \\\n",
       "0                                  8.079666   \n",
       "1                                  7.984757   \n",
       "2                                  8.013877   \n",
       "3                                  7.977324   \n",
       "4                                  7.894242   \n",
       "\n",
       "   secondary_cleaner.state.floatbank5_b_level  \\\n",
       "0                                 -500.470978   \n",
       "1                                 -500.582168   \n",
       "2                                 -500.517572   \n",
       "3                                 -500.255908   \n",
       "4                                 -500.356035   \n",
       "\n",
       "   secondary_cleaner.state.floatbank6_a_air  \\\n",
       "0                                 14.151341   \n",
       "1                                 13.998353   \n",
       "2                                 14.028663   \n",
       "3                                 14.005551   \n",
       "4                                 13.996647   \n",
       "\n",
       "   secondary_cleaner.state.floatbank6_a_level  final.output.recovery  \n",
       "0                                 -605.841980              70.541216  \n",
       "1                                 -599.787184              69.266198  \n",
       "2                                 -601.427363              68.116445  \n",
       "3                                 -599.996129              68.347543  \n",
       "4                                 -601.496691              66.927016  \n",
       "\n",
       "[5 rows x 54 columns]"
      ]
     },
     "execution_count": 40,
     "metadata": {},
     "output_type": "execute_result"
    }
   ],
   "source": [
    "# delete columns rougher.input.feed, rougher.output.concentrate, \n",
    "# primary_cleaner.output.concentrate, final.output.concentrate\n",
    "df_tr.drop(['rougher.input.feed', 'rougher.output.concentrate', 'primary_cleaner.output.concentrate',\n",
    "           'final.output.concentrate', 'date'], axis=1, inplace=True)\n",
    "df_tr.head()"
   ]
  },
  {
   "cell_type": "markdown",
   "metadata": {},
   "source": [
    "we received samples (training) and test with the same set of columns"
   ]
  },
  {
   "cell_type": "code",
   "execution_count": 41,
   "metadata": {},
   "outputs": [],
   "source": [
    "# et's create the features & target test and train samples\n",
    "# rough: tr_features_rougher, tr_target_rougher & final: tr_featuters_final, tr_target_final \n",
    "tr_features_rougher = df_tr.drop([y_rougher], axis=1)\n",
    "tr_target_rougher = df_tr[y_rougher]\n",
    "tr_features_final = df_tr.drop([y_rougher, y_final], axis=1)\n",
    "tr_target_final = df_tr[y_final]"
   ]
  },
  {
   "cell_type": "code",
   "execution_count": 42,
   "metadata": {},
   "outputs": [
    {
     "data": {
      "text/plain": [
       "((13804, 53), (13804,))"
      ]
     },
     "execution_count": 42,
     "metadata": {},
     "output_type": "execute_result"
    }
   ],
   "source": [
    "# display information on rougher\n",
    "tr_features_rougher.shape, tr_target_rougher.shape"
   ]
  },
  {
   "cell_type": "code",
   "execution_count": 43,
   "metadata": {
    "scrolled": true
   },
   "outputs": [
    {
     "data": {
      "text/plain": [
       "((13804, 52), (13804,))"
      ]
     },
     "execution_count": 43,
     "metadata": {},
     "output_type": "execute_result"
    }
   ],
   "source": [
    "# display information on final\n",
    "tr_features_final.shape, tr_target_final.shape"
   ]
  },
  {
   "cell_type": "markdown",
   "metadata": {},
   "source": [
    "#### Function for sMAPE and Final sMAPE"
   ]
  },
  {
   "cell_type": "code",
   "execution_count": 44,
   "metadata": {},
   "outputs": [],
   "source": [
    "#sMAPE\n",
    "def smape(target, pred):\n",
    "    error = np.mean(abs(target - pred)/((abs(target)+abs(pred))/2))*100\n",
    "    return error"
   ]
  },
  {
   "cell_type": "code",
   "execution_count": 45,
   "metadata": {},
   "outputs": [],
   "source": [
    "#final sMAPE\n",
    "def final_smape(smape_rougher,smape_final):\n",
    "    return (0.25*smape_rougher + 0.75*smape_final)"
   ]
  },
  {
   "cell_type": "markdown",
   "metadata": {},
   "source": [
    "#### Building and training models on training data"
   ]
  },
  {
   "cell_type": "markdown",
   "metadata": {},
   "source": [
    "##### Training"
   ]
  },
  {
   "cell_type": "code",
   "execution_count": 46,
   "metadata": {},
   "outputs": [],
   "source": [
    "# let's introduce a counter\n",
    "scor_smape = make_scorer(smape, greater_is_better=False)"
   ]
  },
  {
   "cell_type": "code",
   "execution_count": 47,
   "metadata": {},
   "outputs": [
    {
     "name": "stdout",
     "output_type": "stream",
     "text": [
      "sMAPE для rougher равен: 6.1753\n",
      "sMAPE для final равен: 9.5400\n",
      "Итоговый sMAPE: 8.6989\n"
     ]
    }
   ],
   "source": [
    "# code LinearRegression\n",
    "# code for rougher\n",
    "model_lr_r = LinearRegression()\n",
    "scores_lr_rougher = cross_val_score(model_lr_r, tr_features_rougher,\n",
    "                                    tr_target_rougher,\n",
    "                                    scoring=scor_smape,\n",
    "                                    cv=5)\n",
    "smape_rougher = np.mean(abs(scores_lr_rougher))\n",
    "# code for final\n",
    "model_lr_f = LinearRegression()\n",
    "scores_lr_final = cross_val_score(model_lr_f, tr_features_final,\n",
    "                                    tr_target_final,\n",
    "                                    scoring=scor_smape,\n",
    "                                    cv=5)\n",
    "smape_final = np.mean(abs(scores_lr_final))\n",
    "\n",
    "print('sMAPE для rougher равен:', '%.4f' % smape_rougher)\n",
    "print('sMAPE для final равен:', '%.4f' % smape_final)\n",
    "print('Итоговый sMAPE:', '%.4f' % final_smape(smape_rougher, smape_final))"
   ]
  },
  {
   "cell_type": "code",
   "execution_count": 48,
   "metadata": {},
   "outputs": [
    {
     "name": "stdout",
     "output_type": "stream",
     "text": [
      "Fitting 3 folds for each of 70 candidates, totalling 210 fits\n",
      "Fitting 3 folds for each of 70 candidates, totalling 210 fits\n",
      "{'max_depth': 7, 'min_samples_leaf': 10}\n",
      "sMAPE for rougher equal to: 6.123429257608039\n",
      "{'max_depth': 1, 'min_samples_leaf': 1}\n",
      "sMAPE for final equal to: 9.63151096940563\n",
      "final sMAPE for DecisionTree: 8.754490541456232\n"
     ]
    }
   ],
   "source": [
    "# code DecisionTreeRegressor\n",
    "model_dt = DecisionTreeRegressor(random_state=12345)\n",
    "parameters = {\"min_samples_leaf\":[1,2,3,4,5,6,7,8,9,10],\n",
    "              \"max_depth\" : [1,3,5,7,9,11,12]} # let's collect the parameters\n",
    "grid_r = GridSearchCV(model_dt, param_grid=parameters, cv=3, verbose=5, scoring=scor_smape, n_jobs=-1)\n",
    "grid_r.fit(tr_features_rougher, tr_target_rougher)\n",
    "grid_f = GridSearchCV(model_dt, param_grid=parameters, cv=3, verbose=5, scoring=scor_smape, n_jobs=-1)\n",
    "grid_f.fit(tr_features_final, tr_target_final)\n",
    "\n",
    "\n",
    "smape_dt_rougher = abs(grid_r.best_score_)\n",
    "smape_dt_final = abs(grid_f.best_score_)\n",
    "\n",
    "grid_dt_best_r = grid_r.best_params_\n",
    "grid_dt_best_f = grid_f.best_params_\n",
    "\n",
    "print(grid_dt_best_r)\n",
    "print('sMAPE for rougher equal to:', smape_dt_rougher)\n",
    "print(grid_dt_best_f)\n",
    "print('sMAPE for final equal to:', smape_dt_final)\n",
    "print('final sMAPE for DecisionTree:',final_smape(smape_dt_rougher, smape_dt_final))"
   ]
  },
  {
   "cell_type": "code",
   "execution_count": 49,
   "metadata": {},
   "outputs": [
    {
     "name": "stdout",
     "output_type": "stream",
     "text": [
      "Fitting 3 folds for each of 150 candidates, totalling 450 fits\n",
      "Fitting 3 folds for each of 150 candidates, totalling 450 fits\n",
      "{'max_depth': 7, 'min_samples_leaf': 11, 'n_estimators': 50}\n",
      "sMAPE for rougher equal to: 5.556399122250159\n",
      "{'max_depth': 1, 'min_samples_leaf': 1, 'n_estimators': 30}\n",
      "sMAPE for final equal to: 9.582443856563645\n",
      "final sMAPE for RandomForest: 8.575932672985275\n"
     ]
    }
   ],
   "source": [
    "# code RandomForestRegressor\n",
    "model_rf = RandomForestRegressor(random_state=12345)\n",
    "parameters = {'n_estimators': range(10, 60, 10),\n",
    "              'max_depth' : [1,3,5,7,9],\n",
    "              'min_samples_leaf' : [1,3,5,7,9,11]}\n",
    "grid_r_rf = GridSearchCV(model_rf, param_grid=parameters, cv=3, verbose=10, scoring=scor_smape, n_jobs=-1)\n",
    "grid_r_rf.fit(tr_features_rougher, tr_target_rougher)\n",
    "grid_f_rf = GridSearchCV(model_rf, param_grid=parameters, cv=3, verbose=10, scoring=scor_smape, n_jobs=-1)\n",
    "grid_f_rf.fit(tr_features_final, tr_target_final)\n",
    "\n",
    "\n",
    "smape_rf_rougher = -grid_r_rf.best_score_\n",
    "smape_rf_final = -grid_f_rf.best_score_\n",
    "\n",
    "grid_rf_best_r = grid_r_rf.best_params_\n",
    "grid_rf_best_f = grid_f_rf.best_params_\n",
    "\n",
    "print(grid_rf_best_r)\n",
    "print('sMAPE for rougher equal to:', smape_rf_rougher)\n",
    "print(grid_rf_best_f)\n",
    "print('sMAPE for final equal to:', smape_rf_final)\n",
    "print('final sMAPE for RandomForest:',final_smape(smape_rf_rougher, smape_rf_final))"
   ]
  },
  {
   "cell_type": "markdown",
   "metadata": {},
   "source": [
    "Conclusion: RandomForestRegressor showed the highest results - sMAPE for rougher is: 5.5563, sMAPE for final is: 9.5824, Final sMAPE: 8.5759. Let's apply this model on a test sample"
   ]
  },
  {
   "cell_type": "markdown",
   "metadata": {},
   "source": [
    "##### Test sample"
   ]
  },
  {
   "cell_type": "code",
   "execution_count": 50,
   "metadata": {},
   "outputs": [],
   "source": [
    "# let's create selections features & target for test \n",
    "# rough: te_features_rougher, te_target_rougher & final: te_featuters_final, te_target_final \n",
    "te_features_rougher = df_te.drop([y_rougher,'date'], axis=1)\n",
    "te_target_rougher = df_te[y_rougher]\n",
    "te_features_final = df_te.drop([y_rougher, y_final, 'date'], axis=1)\n",
    "te_target_final = df_te[y_final]"
   ]
  },
  {
   "cell_type": "code",
   "execution_count": 51,
   "metadata": {},
   "outputs": [
    {
     "data": {
      "text/plain": [
       "((4860, 53), (4860,))"
      ]
     },
     "execution_count": 51,
     "metadata": {},
     "output_type": "execute_result"
    }
   ],
   "source": [
    "# display info about rougher\n",
    "te_features_rougher.shape, te_target_rougher.shape"
   ]
  },
  {
   "cell_type": "code",
   "execution_count": 52,
   "metadata": {},
   "outputs": [
    {
     "data": {
      "text/plain": [
       "((4860, 52), (4860,))"
      ]
     },
     "execution_count": 52,
     "metadata": {},
     "output_type": "execute_result"
    }
   ],
   "source": [
    "# display info about final\n",
    "te_features_final.shape, te_target_final.shape"
   ]
  },
  {
   "cell_type": "code",
   "execution_count": 53,
   "metadata": {},
   "outputs": [
    {
     "name": "stdout",
     "output_type": "stream",
     "text": [
      "[89.05356594 88.64222831 90.5975581  ... 87.31520584 87.52241652\n",
      " 87.53066207]\n",
      "[65.42397931 65.31446744 68.09515264 ... 68.919461   70.08291711\n",
      " 68.88610057]\n"
     ]
    }
   ],
   "source": [
    "# ML RandomForestRegressor on the test sample\n",
    "model_rf.fit(tr_features_rougher, tr_target_rougher)\n",
    "te_pred_r = model_rf.predict(te_features_rougher)\n",
    "\n",
    "model_rf.fit(tr_features_final, tr_target_final)\n",
    "te_pred_f = model_rf.predict(te_features_final)\n",
    "\n",
    "\n",
    "print(te_pred_r)\n",
    "print(te_pred_f)"
   ]
  },
  {
   "cell_type": "code",
   "execution_count": 54,
   "metadata": {},
   "outputs": [
    {
     "data": {
      "text/plain": [
       "5.233784782963146"
      ]
     },
     "execution_count": 54,
     "metadata": {},
     "output_type": "execute_result"
    }
   ],
   "source": [
    "# final sMAPE on the test sample\n",
    "final_smape(smape(te_target_rougher, te_pred_r),smape(te_target_final, te_pred_f))"
   ]
  },
  {
   "cell_type": "markdown",
   "metadata": {},
   "source": [
    "##### Checking the model for adequacy"
   ]
  },
  {
   "cell_type": "code",
   "execution_count": 55,
   "metadata": {},
   "outputs": [],
   "source": [
    "dr_r = DummyRegressor(strategy=\"median\")\n",
    "dr_f = DummyRegressor(strategy=\"median\")"
   ]
  },
  {
   "cell_type": "code",
   "execution_count": 56,
   "metadata": {},
   "outputs": [
    {
     "data": {
      "text/html": [
       "<style>#sk-container-id-1 {color: black;}#sk-container-id-1 pre{padding: 0;}#sk-container-id-1 div.sk-toggleable {background-color: white;}#sk-container-id-1 label.sk-toggleable__label {cursor: pointer;display: block;width: 100%;margin-bottom: 0;padding: 0.3em;box-sizing: border-box;text-align: center;}#sk-container-id-1 label.sk-toggleable__label-arrow:before {content: \"▸\";float: left;margin-right: 0.25em;color: #696969;}#sk-container-id-1 label.sk-toggleable__label-arrow:hover:before {color: black;}#sk-container-id-1 div.sk-estimator:hover label.sk-toggleable__label-arrow:before {color: black;}#sk-container-id-1 div.sk-toggleable__content {max-height: 0;max-width: 0;overflow: hidden;text-align: left;background-color: #f0f8ff;}#sk-container-id-1 div.sk-toggleable__content pre {margin: 0.2em;color: black;border-radius: 0.25em;background-color: #f0f8ff;}#sk-container-id-1 input.sk-toggleable__control:checked~div.sk-toggleable__content {max-height: 200px;max-width: 100%;overflow: auto;}#sk-container-id-1 input.sk-toggleable__control:checked~label.sk-toggleable__label-arrow:before {content: \"▾\";}#sk-container-id-1 div.sk-estimator input.sk-toggleable__control:checked~label.sk-toggleable__label {background-color: #d4ebff;}#sk-container-id-1 div.sk-label input.sk-toggleable__control:checked~label.sk-toggleable__label {background-color: #d4ebff;}#sk-container-id-1 input.sk-hidden--visually {border: 0;clip: rect(1px 1px 1px 1px);clip: rect(1px, 1px, 1px, 1px);height: 1px;margin: -1px;overflow: hidden;padding: 0;position: absolute;width: 1px;}#sk-container-id-1 div.sk-estimator {font-family: monospace;background-color: #f0f8ff;border: 1px dotted black;border-radius: 0.25em;box-sizing: border-box;margin-bottom: 0.5em;}#sk-container-id-1 div.sk-estimator:hover {background-color: #d4ebff;}#sk-container-id-1 div.sk-parallel-item::after {content: \"\";width: 100%;border-bottom: 1px solid gray;flex-grow: 1;}#sk-container-id-1 div.sk-label:hover label.sk-toggleable__label {background-color: #d4ebff;}#sk-container-id-1 div.sk-serial::before {content: \"\";position: absolute;border-left: 1px solid gray;box-sizing: border-box;top: 0;bottom: 0;left: 50%;z-index: 0;}#sk-container-id-1 div.sk-serial {display: flex;flex-direction: column;align-items: center;background-color: white;padding-right: 0.2em;padding-left: 0.2em;position: relative;}#sk-container-id-1 div.sk-item {position: relative;z-index: 1;}#sk-container-id-1 div.sk-parallel {display: flex;align-items: stretch;justify-content: center;background-color: white;position: relative;}#sk-container-id-1 div.sk-item::before, #sk-container-id-1 div.sk-parallel-item::before {content: \"\";position: absolute;border-left: 1px solid gray;box-sizing: border-box;top: 0;bottom: 0;left: 50%;z-index: -1;}#sk-container-id-1 div.sk-parallel-item {display: flex;flex-direction: column;z-index: 1;position: relative;background-color: white;}#sk-container-id-1 div.sk-parallel-item:first-child::after {align-self: flex-end;width: 50%;}#sk-container-id-1 div.sk-parallel-item:last-child::after {align-self: flex-start;width: 50%;}#sk-container-id-1 div.sk-parallel-item:only-child::after {width: 0;}#sk-container-id-1 div.sk-dashed-wrapped {border: 1px dashed gray;margin: 0 0.4em 0.5em 0.4em;box-sizing: border-box;padding-bottom: 0.4em;background-color: white;}#sk-container-id-1 div.sk-label label {font-family: monospace;font-weight: bold;display: inline-block;line-height: 1.2em;}#sk-container-id-1 div.sk-label-container {text-align: center;}#sk-container-id-1 div.sk-container {/* jupyter's `normalize.less` sets `[hidden] { display: none; }` but bootstrap.min.css set `[hidden] { display: none !important; }` so we also need the `!important` here to be able to override the default hidden behavior on the sphinx rendered scikit-learn.org. See: https://github.com/scikit-learn/scikit-learn/issues/21755 */display: inline-block !important;position: relative;}#sk-container-id-1 div.sk-text-repr-fallback {display: none;}</style><div id=\"sk-container-id-1\" class=\"sk-top-container\"><div class=\"sk-text-repr-fallback\"><pre>DummyRegressor(strategy=&#x27;median&#x27;)</pre><b>In a Jupyter environment, please rerun this cell to show the HTML representation or trust the notebook. <br />On GitHub, the HTML representation is unable to render, please try loading this page with nbviewer.org.</b></div><div class=\"sk-container\" hidden><div class=\"sk-item\"><div class=\"sk-estimator sk-toggleable\"><input class=\"sk-toggleable__control sk-hidden--visually\" id=\"sk-estimator-id-1\" type=\"checkbox\" checked><label for=\"sk-estimator-id-1\" class=\"sk-toggleable__label sk-toggleable__label-arrow\">DummyRegressor</label><div class=\"sk-toggleable__content\"><pre>DummyRegressor(strategy=&#x27;median&#x27;)</pre></div></div></div></div></div>"
      ],
      "text/plain": [
       "DummyRegressor(strategy='median')"
      ]
     },
     "execution_count": 56,
     "metadata": {},
     "output_type": "execute_result"
    }
   ],
   "source": [
    "dr_r.fit(tr_features_rougher,tr_target_rougher)\n",
    "dr_f.fit(tr_features_final,tr_target_final)"
   ]
  },
  {
   "cell_type": "code",
   "execution_count": 57,
   "metadata": {},
   "outputs": [],
   "source": [
    "pred_r = dr_r.predict(te_features_rougher)\n",
    "pred_f = dr_f.predict(te_features_rougher)"
   ]
  },
  {
   "cell_type": "code",
   "execution_count": 58,
   "metadata": {},
   "outputs": [
    {
     "data": {
      "text/plain": [
       "8.295097097406776"
      ]
     },
     "execution_count": 58,
     "metadata": {},
     "output_type": "execute_result"
    }
   ],
   "source": [
    "final_smape(smape(te_target_rougher, pred_r), smape(te_target_final, pred_f))"
   ]
  },
  {
   "cell_type": "markdown",
   "metadata": {},
   "source": [
    "Conclusion:\n",
    "When analyzing the samples, we noticed a discrepancy in the number of train and test columns. In the test sample there is no data with final results, since in real conditions when using the model we will know the initial input data about raw materials, granule sizes, etc. The rest of the data should already be predicted by the model.\n",
    "\n",
    "In addition, in all samples we saw missing values in the cells; we prefilled them with values from neighboring cells, since the values were close. \n",
    "\n",
    "When comparing the concentration of metals at different stages, an increase in the concentration of gold towards the final stage was noted. In addition, we noticed that there are outliers - values close to zero. We counted outliers by removing all values less than 1. If we removed outliers up to the left whisker, the sample was reduced by approximately 18%.\n",
    "\n",
    "A comparison of the feedstock granules on trai and test showed that the granules are approximately the same.\n",
    "\n",
    "We prepared samples for working with the model. We compared the training and test samples by the number of columns, and added columns with target features to the test set from the full sample. \n",
    "\n",
    "Trained Logistic Regression, Decision Tree and Random Forest. RandomForestRegressor showed the best result; when transferred to the test, the result increased to 5.23. The result of the constant model was 8.30.\n"
   ]
  },
  {
   "cell_type": "code",
   "execution_count": null,
   "metadata": {},
   "outputs": [],
   "source": []
  }
 ],
 "metadata": {
  "ExecuteTimeLog": [
   {
    "duration": 1788,
    "start_time": "2023-06-14T11:35:02.435Z"
   },
   {
    "duration": 4066,
    "start_time": "2023-06-14T11:41:14.554Z"
   },
   {
    "duration": 121,
    "start_time": "2023-06-14T11:42:39.554Z"
   },
   {
    "duration": 745,
    "start_time": "2023-06-14T11:43:58.550Z"
   },
   {
    "duration": 96,
    "start_time": "2023-06-14T11:43:59.297Z"
   },
   {
    "duration": 30,
    "start_time": "2023-06-14T11:44:33.166Z"
   },
   {
    "duration": 36,
    "start_time": "2023-06-14T11:46:39.350Z"
   },
   {
    "duration": 22,
    "start_time": "2023-06-14T11:47:10.662Z"
   },
   {
    "duration": 20,
    "start_time": "2023-06-14T11:47:51.234Z"
   },
   {
    "duration": 14,
    "start_time": "2023-06-14T11:52:30.087Z"
   },
   {
    "duration": 18033,
    "start_time": "2023-06-14T11:55:30.589Z"
   },
   {
    "duration": 36,
    "start_time": "2023-06-14T11:56:22.854Z"
   },
   {
    "duration": 74,
    "start_time": "2023-06-14T12:08:52.949Z"
   },
   {
    "duration": 3445,
    "start_time": "2023-06-14T12:08:57.526Z"
   },
   {
    "duration": 4006,
    "start_time": "2023-06-14T12:09:00.972Z"
   },
   {
    "duration": 23,
    "start_time": "2023-06-14T12:09:04.980Z"
   },
   {
    "duration": 32,
    "start_time": "2023-06-14T12:09:05.005Z"
   },
   {
    "duration": 45,
    "start_time": "2023-06-14T12:09:05.038Z"
   },
   {
    "duration": 134,
    "start_time": "2023-06-14T12:13:06.903Z"
   },
   {
    "duration": 227,
    "start_time": "2023-06-14T12:13:29.477Z"
   },
   {
    "duration": 151,
    "start_time": "2023-06-14T12:13:40.734Z"
   },
   {
    "duration": 330,
    "start_time": "2023-06-14T12:14:02.221Z"
   },
   {
    "duration": 2565,
    "start_time": "2023-06-14T12:38:30.229Z"
   },
   {
    "duration": 855,
    "start_time": "2023-06-14T12:38:32.797Z"
   },
   {
    "duration": 39,
    "start_time": "2023-06-14T12:38:33.653Z"
   },
   {
    "duration": 35,
    "start_time": "2023-06-14T12:38:33.695Z"
   },
   {
    "duration": 65,
    "start_time": "2023-06-14T12:38:33.732Z"
   },
   {
    "duration": 387,
    "start_time": "2023-06-14T12:38:33.800Z"
   },
   {
    "duration": 203,
    "start_time": "2023-06-14T12:38:34.189Z"
   },
   {
    "duration": 309,
    "start_time": "2023-06-14T12:38:34.397Z"
   },
   {
    "duration": 222,
    "start_time": "2023-06-14T12:44:41.492Z"
   },
   {
    "duration": 28,
    "start_time": "2023-06-14T12:44:50.167Z"
   },
   {
    "duration": 6,
    "start_time": "2023-06-14T13:30:52.838Z"
   },
   {
    "duration": 8,
    "start_time": "2023-06-14T13:31:25.318Z"
   },
   {
    "duration": 1338,
    "start_time": "2023-06-14T13:32:12.490Z"
   },
   {
    "duration": 1152,
    "start_time": "2023-06-14T13:33:06.501Z"
   },
   {
    "duration": 7,
    "start_time": "2023-06-14T13:33:24.779Z"
   },
   {
    "duration": 14,
    "start_time": "2023-06-14T13:35:04.094Z"
   },
   {
    "duration": 14,
    "start_time": "2023-06-14T13:35:28.379Z"
   },
   {
    "duration": 28,
    "start_time": "2023-06-14T13:38:48.976Z"
   },
   {
    "duration": 15,
    "start_time": "2023-06-14T14:30:26.105Z"
   },
   {
    "duration": 33,
    "start_time": "2023-06-14T14:32:08.300Z"
   },
   {
    "duration": 3605,
    "start_time": "2023-06-14T14:32:08.335Z"
   },
   {
    "duration": 26,
    "start_time": "2023-06-14T14:32:11.942Z"
   },
   {
    "duration": 25,
    "start_time": "2023-06-14T14:32:11.970Z"
   },
   {
    "duration": 28,
    "start_time": "2023-06-14T14:32:11.997Z"
   },
   {
    "duration": 276,
    "start_time": "2023-06-14T14:32:12.027Z"
   },
   {
    "duration": 139,
    "start_time": "2023-06-14T14:32:12.305Z"
   },
   {
    "duration": 261,
    "start_time": "2023-06-14T14:32:12.445Z"
   },
   {
    "duration": 16,
    "start_time": "2023-06-14T14:32:12.707Z"
   },
   {
    "duration": 15,
    "start_time": "2023-06-14T14:32:12.725Z"
   },
   {
    "duration": 8,
    "start_time": "2023-06-14T14:33:05.028Z"
   },
   {
    "duration": 8,
    "start_time": "2023-06-14T14:34:19.076Z"
   },
   {
    "duration": 10,
    "start_time": "2023-06-14T14:34:44.368Z"
   },
   {
    "duration": 8,
    "start_time": "2023-06-14T14:35:05.640Z"
   },
   {
    "duration": 8,
    "start_time": "2023-06-14T14:35:10.539Z"
   },
   {
    "duration": 4,
    "start_time": "2023-06-14T14:43:24.602Z"
   },
   {
    "duration": 14,
    "start_time": "2023-06-14T15:00:23.533Z"
   },
   {
    "duration": 14,
    "start_time": "2023-06-14T15:00:41.916Z"
   },
   {
    "duration": 11,
    "start_time": "2023-06-14T15:06:58.384Z"
   },
   {
    "duration": 22,
    "start_time": "2023-06-14T15:17:06.848Z"
   },
   {
    "duration": 12,
    "start_time": "2023-06-14T15:17:15.763Z"
   },
   {
    "duration": 15,
    "start_time": "2023-06-14T15:18:26.307Z"
   },
   {
    "duration": 78,
    "start_time": "2023-06-14T15:21:33.838Z"
   },
   {
    "duration": 15,
    "start_time": "2023-06-14T15:21:47.878Z"
   },
   {
    "duration": 13,
    "start_time": "2023-06-14T15:25:34.779Z"
   },
   {
    "duration": 9,
    "start_time": "2023-06-14T15:25:44.840Z"
   },
   {
    "duration": 39,
    "start_time": "2023-06-14T15:37:34.114Z"
   },
   {
    "duration": 23,
    "start_time": "2023-06-14T15:38:18.807Z"
   },
   {
    "duration": 20,
    "start_time": "2023-06-14T15:43:57.307Z"
   },
   {
    "duration": 36,
    "start_time": "2023-06-14T15:44:06.446Z"
   },
   {
    "duration": 55,
    "start_time": "2023-06-14T15:44:41.854Z"
   },
   {
    "duration": 45,
    "start_time": "2023-06-14T15:46:57.451Z"
   },
   {
    "duration": 753,
    "start_time": "2023-06-14T15:46:57.497Z"
   },
   {
    "duration": 41,
    "start_time": "2023-06-14T15:49:45.806Z"
   },
   {
    "duration": 757,
    "start_time": "2023-06-14T15:49:45.849Z"
   },
   {
    "duration": 22,
    "start_time": "2023-06-14T15:49:46.607Z"
   },
   {
    "duration": 38,
    "start_time": "2023-06-14T15:49:46.630Z"
   },
   {
    "duration": 20,
    "start_time": "2023-06-14T15:49:46.671Z"
   },
   {
    "duration": 240,
    "start_time": "2023-06-14T15:49:46.693Z"
   },
   {
    "duration": 140,
    "start_time": "2023-06-14T15:49:46.934Z"
   },
   {
    "duration": 264,
    "start_time": "2023-06-14T15:49:47.075Z"
   },
   {
    "duration": 30,
    "start_time": "2023-06-14T15:49:47.341Z"
   },
   {
    "duration": 8,
    "start_time": "2023-06-14T15:49:47.373Z"
   },
   {
    "duration": 14,
    "start_time": "2023-06-14T15:49:47.383Z"
   },
   {
    "duration": 20,
    "start_time": "2023-06-14T15:49:47.399Z"
   },
   {
    "duration": 13,
    "start_time": "2023-06-14T15:50:24.256Z"
   },
   {
    "duration": 17,
    "start_time": "2023-06-14T15:50:33.824Z"
   },
   {
    "duration": 6,
    "start_time": "2023-06-14T15:50:50.587Z"
   },
   {
    "duration": 6,
    "start_time": "2023-06-14T15:51:00.124Z"
   },
   {
    "duration": 21,
    "start_time": "2023-06-14T15:52:13.983Z"
   },
   {
    "duration": 60,
    "start_time": "2023-06-14T15:52:33.527Z"
   },
   {
    "duration": 21,
    "start_time": "2023-06-14T15:52:38.882Z"
   },
   {
    "duration": 16,
    "start_time": "2023-06-14T15:52:58.187Z"
   },
   {
    "duration": 19,
    "start_time": "2023-06-14T15:53:13.090Z"
   },
   {
    "duration": 17,
    "start_time": "2023-06-14T15:59:30.480Z"
   },
   {
    "duration": 8,
    "start_time": "2023-06-14T16:00:01.949Z"
   },
   {
    "duration": 10,
    "start_time": "2023-06-14T16:00:21.190Z"
   },
   {
    "duration": 18,
    "start_time": "2023-06-14T16:00:43.883Z"
   },
   {
    "duration": 19,
    "start_time": "2023-06-14T16:01:08.711Z"
   },
   {
    "duration": 15,
    "start_time": "2023-06-14T16:02:50.440Z"
   },
   {
    "duration": 9,
    "start_time": "2023-06-14T16:02:56.413Z"
   },
   {
    "duration": 15,
    "start_time": "2023-06-14T16:04:22.713Z"
   },
   {
    "duration": 17,
    "start_time": "2023-06-14T16:06:34.911Z"
   },
   {
    "duration": 27,
    "start_time": "2023-06-14T16:06:44.212Z"
   },
   {
    "duration": 16,
    "start_time": "2023-06-14T16:07:11.727Z"
   },
   {
    "duration": 23,
    "start_time": "2023-06-14T16:07:51.635Z"
   },
   {
    "duration": 9,
    "start_time": "2023-06-14T16:12:13.977Z"
   },
   {
    "duration": 11,
    "start_time": "2023-06-14T16:12:26.612Z"
   },
   {
    "duration": 23,
    "start_time": "2023-06-14T16:13:20.876Z"
   },
   {
    "duration": 45,
    "start_time": "2023-06-14T16:16:26.060Z"
   },
   {
    "duration": 13,
    "start_time": "2023-06-14T16:18:08.391Z"
   },
   {
    "duration": 29,
    "start_time": "2023-06-14T16:23:54.722Z"
   },
   {
    "duration": 35,
    "start_time": "2023-06-14T16:45:11.832Z"
   },
   {
    "duration": 9,
    "start_time": "2023-06-14T16:45:58.329Z"
   },
   {
    "duration": 496,
    "start_time": "2023-06-15T08:11:04.351Z"
   },
   {
    "duration": 0,
    "start_time": "2023-06-15T08:11:04.851Z"
   },
   {
    "duration": 0,
    "start_time": "2023-06-15T08:11:04.852Z"
   },
   {
    "duration": 0,
    "start_time": "2023-06-15T08:11:04.854Z"
   },
   {
    "duration": 0,
    "start_time": "2023-06-15T08:11:04.855Z"
   },
   {
    "duration": 0,
    "start_time": "2023-06-15T08:11:04.857Z"
   },
   {
    "duration": 0,
    "start_time": "2023-06-15T08:11:04.858Z"
   },
   {
    "duration": 0,
    "start_time": "2023-06-15T08:11:04.860Z"
   },
   {
    "duration": 0,
    "start_time": "2023-06-15T08:11:04.861Z"
   },
   {
    "duration": 0,
    "start_time": "2023-06-15T08:11:04.863Z"
   },
   {
    "duration": 0,
    "start_time": "2023-06-15T08:11:04.865Z"
   },
   {
    "duration": 0,
    "start_time": "2023-06-15T08:11:04.866Z"
   },
   {
    "duration": 1228,
    "start_time": "2023-06-15T08:11:27.497Z"
   },
   {
    "duration": 2092,
    "start_time": "2023-06-15T08:11:28.728Z"
   },
   {
    "duration": 23,
    "start_time": "2023-06-15T08:11:30.822Z"
   },
   {
    "duration": 62,
    "start_time": "2023-06-15T08:11:30.847Z"
   },
   {
    "duration": 119,
    "start_time": "2023-06-15T08:11:30.910Z"
   },
   {
    "duration": 291,
    "start_time": "2023-06-15T08:11:31.031Z"
   },
   {
    "duration": 137,
    "start_time": "2023-06-15T08:11:31.324Z"
   },
   {
    "duration": 245,
    "start_time": "2023-06-15T08:11:31.463Z"
   },
   {
    "duration": 15,
    "start_time": "2023-06-15T08:11:31.710Z"
   },
   {
    "duration": 34,
    "start_time": "2023-06-15T08:11:31.727Z"
   },
   {
    "duration": 69,
    "start_time": "2023-06-15T08:11:31.763Z"
   },
   {
    "duration": 0,
    "start_time": "2023-06-15T08:11:31.834Z"
   },
   {
    "duration": 27,
    "start_time": "2023-06-15T08:12:07.753Z"
   },
   {
    "duration": 9,
    "start_time": "2023-06-15T08:12:20.496Z"
   },
   {
    "duration": 4062,
    "start_time": "2023-06-15T08:33:42.973Z"
   },
   {
    "duration": 36,
    "start_time": "2023-06-15T08:35:22.771Z"
   },
   {
    "duration": 25,
    "start_time": "2023-06-15T08:42:12.669Z"
   },
   {
    "duration": 9,
    "start_time": "2023-06-15T08:42:33.233Z"
   },
   {
    "duration": 12,
    "start_time": "2023-06-15T08:46:15.332Z"
   },
   {
    "duration": 5,
    "start_time": "2023-06-15T08:49:23.265Z"
   },
   {
    "duration": 4,
    "start_time": "2023-06-15T08:49:59.069Z"
   },
   {
    "duration": 10,
    "start_time": "2023-06-15T08:51:51.989Z"
   },
   {
    "duration": 5,
    "start_time": "2023-06-15T08:57:02.732Z"
   },
   {
    "duration": 1940,
    "start_time": "2023-06-15T11:45:54.392Z"
   },
   {
    "duration": 4447,
    "start_time": "2023-06-15T11:45:56.334Z"
   },
   {
    "duration": 39,
    "start_time": "2023-06-15T11:46:00.783Z"
   },
   {
    "duration": 76,
    "start_time": "2023-06-15T11:46:00.824Z"
   },
   {
    "duration": 38,
    "start_time": "2023-06-15T11:46:00.903Z"
   },
   {
    "duration": 316,
    "start_time": "2023-06-15T11:46:00.943Z"
   },
   {
    "duration": 156,
    "start_time": "2023-06-15T11:46:01.261Z"
   },
   {
    "duration": 303,
    "start_time": "2023-06-15T11:46:01.419Z"
   },
   {
    "duration": 18,
    "start_time": "2023-06-15T11:46:01.724Z"
   },
   {
    "duration": 359,
    "start_time": "2023-06-15T11:46:01.758Z"
   },
   {
    "duration": 171,
    "start_time": "2023-06-15T11:46:02.120Z"
   },
   {
    "duration": 52,
    "start_time": "2023-06-15T11:46:02.294Z"
   },
   {
    "duration": 277,
    "start_time": "2023-06-15T11:46:02.348Z"
   },
   {
    "duration": 58,
    "start_time": "2023-06-19T15:56:31.326Z"
   },
   {
    "duration": 1509,
    "start_time": "2023-06-19T15:56:37.386Z"
   },
   {
    "duration": 3666,
    "start_time": "2023-06-19T15:56:38.898Z"
   },
   {
    "duration": 25,
    "start_time": "2023-06-19T15:56:42.567Z"
   },
   {
    "duration": 20,
    "start_time": "2023-06-19T15:56:42.594Z"
   },
   {
    "duration": 34,
    "start_time": "2023-06-19T15:56:42.616Z"
   },
   {
    "duration": 303,
    "start_time": "2023-06-19T15:56:42.668Z"
   },
   {
    "duration": 208,
    "start_time": "2023-06-19T15:56:42.973Z"
   },
   {
    "duration": 293,
    "start_time": "2023-06-19T15:56:43.183Z"
   },
   {
    "duration": 25,
    "start_time": "2023-06-19T15:56:43.478Z"
   },
   {
    "duration": 11,
    "start_time": "2023-06-19T15:56:43.506Z"
   },
   {
    "duration": 50,
    "start_time": "2023-06-19T15:56:43.519Z"
   },
   {
    "duration": 7,
    "start_time": "2023-06-19T15:56:43.572Z"
   },
   {
    "duration": 5,
    "start_time": "2023-06-19T15:56:43.581Z"
   },
   {
    "duration": 27,
    "start_time": "2023-06-19T15:57:23.443Z"
   },
   {
    "duration": 9,
    "start_time": "2023-06-19T15:58:15.678Z"
   },
   {
    "duration": 16,
    "start_time": "2023-06-19T15:58:44.779Z"
   },
   {
    "duration": 41,
    "start_time": "2023-06-19T15:59:17.083Z"
   },
   {
    "duration": 61,
    "start_time": "2023-06-19T15:59:37.260Z"
   },
   {
    "duration": 26,
    "start_time": "2023-06-19T15:59:45.751Z"
   },
   {
    "duration": 9,
    "start_time": "2023-06-19T16:00:29.563Z"
   },
   {
    "duration": 722,
    "start_time": "2023-06-19T16:00:55.262Z"
   },
   {
    "duration": 7,
    "start_time": "2023-06-19T16:01:11.501Z"
   },
   {
    "duration": 645,
    "start_time": "2023-06-19T16:01:28.239Z"
   },
   {
    "duration": 7,
    "start_time": "2023-06-19T16:02:00.563Z"
   },
   {
    "duration": 794,
    "start_time": "2023-06-19T16:02:14.946Z"
   },
   {
    "duration": 694,
    "start_time": "2023-06-19T16:02:45.661Z"
   },
   {
    "duration": 645,
    "start_time": "2023-06-19T16:03:01.634Z"
   },
   {
    "duration": 746,
    "start_time": "2023-06-19T16:03:19.719Z"
   },
   {
    "duration": 447,
    "start_time": "2023-06-19T16:03:57.045Z"
   },
   {
    "duration": 378,
    "start_time": "2023-06-19T16:04:10.563Z"
   },
   {
    "duration": 11,
    "start_time": "2023-06-19T16:04:49.722Z"
   },
   {
    "duration": 706,
    "start_time": "2023-06-19T16:05:12.594Z"
   },
   {
    "duration": 36,
    "start_time": "2023-06-19T16:06:02.188Z"
   },
   {
    "duration": 40,
    "start_time": "2023-06-19T16:06:17.831Z"
   },
   {
    "duration": 10,
    "start_time": "2023-06-19T16:06:45.164Z"
   },
   {
    "duration": 4,
    "start_time": "2023-06-19T16:06:56.585Z"
   },
   {
    "duration": 4,
    "start_time": "2023-06-19T16:07:07.306Z"
   },
   {
    "duration": 3,
    "start_time": "2023-06-19T16:07:48.611Z"
   },
   {
    "duration": 2,
    "start_time": "2023-06-19T16:07:58.923Z"
   },
   {
    "duration": 3,
    "start_time": "2023-06-19T16:09:10.832Z"
   },
   {
    "duration": 1262,
    "start_time": "2023-06-19T16:09:34.811Z"
   },
   {
    "duration": 5,
    "start_time": "2023-06-19T16:14:44.420Z"
   },
   {
    "duration": 292059,
    "start_time": "2023-06-19T16:19:43.884Z"
   },
   {
    "duration": 4999,
    "start_time": "2023-06-19T16:24:35.944Z"
   },
   {
    "duration": 13,
    "start_time": "2023-06-19T16:35:39.787Z"
   },
   {
    "duration": 10,
    "start_time": "2023-06-19T16:40:13.781Z"
   },
   {
    "duration": 90,
    "start_time": "2023-06-19T16:49:55.587Z"
   },
   {
    "duration": 1669,
    "start_time": "2023-06-19T16:50:05.336Z"
   },
   {
    "duration": 24,
    "start_time": "2023-06-19T16:53:58.238Z"
   },
   {
    "duration": 16,
    "start_time": "2023-06-19T16:58:56.786Z"
   },
   {
    "duration": 139,
    "start_time": "2023-06-19T17:00:40.322Z"
   },
   {
    "duration": 1152,
    "start_time": "2023-06-19T17:00:50.800Z"
   },
   {
    "duration": 137,
    "start_time": "2023-06-19T17:01:02.895Z"
   },
   {
    "duration": 148,
    "start_time": "2023-06-19T19:24:55.789Z"
   },
   {
    "duration": 9,
    "start_time": "2023-06-19T19:25:04.056Z"
   },
   {
    "duration": 6,
    "start_time": "2023-06-19T19:33:00.439Z"
   },
   {
    "duration": 11,
    "start_time": "2023-06-19T19:38:42.922Z"
   },
   {
    "duration": 8,
    "start_time": "2023-06-19T19:39:07.031Z"
   },
   {
    "duration": 83,
    "start_time": "2023-06-19T19:45:33.837Z"
   },
   {
    "duration": 3,
    "start_time": "2023-06-19T19:46:39.426Z"
   },
   {
    "duration": 6,
    "start_time": "2023-06-19T19:47:27.618Z"
   },
   {
    "duration": 6,
    "start_time": "2023-06-19T19:49:37.652Z"
   },
   {
    "duration": 6,
    "start_time": "2023-06-19T19:50:24.353Z"
   },
   {
    "duration": 5,
    "start_time": "2023-06-19T19:51:30.853Z"
   },
   {
    "duration": 3,
    "start_time": "2023-06-19T20:02:34.641Z"
   },
   {
    "duration": 683,
    "start_time": "2023-06-19T20:02:45.832Z"
   },
   {
    "duration": 14,
    "start_time": "2023-06-19T20:05:25.884Z"
   },
   {
    "duration": 12,
    "start_time": "2023-06-19T20:05:49.503Z"
   },
   {
    "duration": 12,
    "start_time": "2023-06-19T20:08:20.932Z"
   },
   {
    "duration": 12,
    "start_time": "2023-06-19T20:09:57.724Z"
   },
   {
    "duration": 12,
    "start_time": "2023-06-19T20:12:31.360Z"
   },
   {
    "duration": 5,
    "start_time": "2023-06-19T20:15:25.645Z"
   },
   {
    "duration": 5,
    "start_time": "2023-06-19T20:15:42.031Z"
   },
   {
    "duration": 8,
    "start_time": "2023-06-19T20:17:26.505Z"
   },
   {
    "duration": 8,
    "start_time": "2023-06-19T20:18:57.854Z"
   },
   {
    "duration": 7,
    "start_time": "2023-06-19T20:20:37.795Z"
   },
   {
    "duration": 7,
    "start_time": "2023-06-19T20:21:21.978Z"
   },
   {
    "duration": 7,
    "start_time": "2023-06-19T20:22:12.198Z"
   },
   {
    "duration": 31,
    "start_time": "2023-06-19T20:22:34.450Z"
   },
   {
    "duration": 667,
    "start_time": "2023-06-19T20:22:34.483Z"
   },
   {
    "duration": 19,
    "start_time": "2023-06-19T20:22:35.152Z"
   },
   {
    "duration": 16,
    "start_time": "2023-06-19T20:22:35.172Z"
   },
   {
    "duration": 17,
    "start_time": "2023-06-19T20:22:35.190Z"
   },
   {
    "duration": 211,
    "start_time": "2023-06-19T20:22:35.209Z"
   },
   {
    "duration": 116,
    "start_time": "2023-06-19T20:22:35.421Z"
   },
   {
    "duration": 217,
    "start_time": "2023-06-19T20:22:35.539Z"
   },
   {
    "duration": 15,
    "start_time": "2023-06-19T20:22:35.757Z"
   },
   {
    "duration": 42,
    "start_time": "2023-06-19T20:22:35.774Z"
   },
   {
    "duration": 9,
    "start_time": "2023-06-19T20:22:35.818Z"
   },
   {
    "duration": 92,
    "start_time": "2023-06-19T20:22:35.828Z"
   },
   {
    "duration": 6,
    "start_time": "2023-06-19T20:22:35.922Z"
   },
   {
    "duration": 6,
    "start_time": "2023-06-19T20:22:35.931Z"
   },
   {
    "duration": 15,
    "start_time": "2023-06-19T20:22:35.938Z"
   },
   {
    "duration": 28,
    "start_time": "2023-06-19T20:22:35.955Z"
   },
   {
    "duration": 51,
    "start_time": "2023-06-19T20:22:35.985Z"
   },
   {
    "duration": 6,
    "start_time": "2023-06-19T20:22:36.037Z"
   },
   {
    "duration": 640,
    "start_time": "2023-06-19T20:22:36.044Z"
   },
   {
    "duration": 5,
    "start_time": "2023-06-19T20:22:36.685Z"
   },
   {
    "duration": 630,
    "start_time": "2023-06-19T20:22:36.692Z"
   },
   {
    "duration": 6,
    "start_time": "2023-06-19T20:22:37.323Z"
   },
   {
    "duration": 669,
    "start_time": "2023-06-19T20:22:37.330Z"
   },
   {
    "duration": 555,
    "start_time": "2023-06-19T20:22:38.000Z"
   },
   {
    "duration": 683,
    "start_time": "2023-06-19T20:22:38.556Z"
   },
   {
    "duration": 585,
    "start_time": "2023-06-19T20:22:39.240Z"
   },
   {
    "duration": 367,
    "start_time": "2023-06-19T20:22:39.826Z"
   },
   {
    "duration": 499,
    "start_time": "2023-06-19T20:22:40.194Z"
   },
   {
    "duration": 17,
    "start_time": "2023-06-19T20:22:40.695Z"
   },
   {
    "duration": 148,
    "start_time": "2023-06-19T20:22:40.714Z"
   },
   {
    "duration": 27,
    "start_time": "2023-06-19T20:22:40.863Z"
   },
   {
    "duration": 3,
    "start_time": "2023-06-19T20:22:40.891Z"
   },
   {
    "duration": 12,
    "start_time": "2023-06-19T20:22:40.895Z"
   },
   {
    "duration": 17,
    "start_time": "2023-06-19T20:22:40.909Z"
   },
   {
    "duration": 6,
    "start_time": "2023-06-19T20:22:40.928Z"
   },
   {
    "duration": 19,
    "start_time": "2023-06-19T20:22:40.935Z"
   },
   {
    "duration": 6,
    "start_time": "2023-06-19T20:22:40.956Z"
   },
   {
    "duration": 18,
    "start_time": "2023-06-19T20:22:40.964Z"
   },
   {
    "duration": 0,
    "start_time": "2023-06-19T20:22:40.983Z"
   },
   {
    "duration": 0,
    "start_time": "2023-06-19T20:22:40.984Z"
   },
   {
    "duration": 0,
    "start_time": "2023-06-19T20:22:40.986Z"
   },
   {
    "duration": 0,
    "start_time": "2023-06-19T20:22:40.987Z"
   },
   {
    "duration": 0,
    "start_time": "2023-06-19T20:22:40.988Z"
   },
   {
    "duration": 0,
    "start_time": "2023-06-19T20:22:40.990Z"
   },
   {
    "duration": 0,
    "start_time": "2023-06-19T20:22:40.991Z"
   },
   {
    "duration": 0,
    "start_time": "2023-06-19T20:22:40.992Z"
   },
   {
    "duration": 0,
    "start_time": "2023-06-19T20:22:40.994Z"
   },
   {
    "duration": 0,
    "start_time": "2023-06-19T20:22:40.995Z"
   },
   {
    "duration": 0,
    "start_time": "2023-06-19T20:22:40.996Z"
   },
   {
    "duration": 0,
    "start_time": "2023-06-19T20:22:40.997Z"
   },
   {
    "duration": 0,
    "start_time": "2023-06-19T20:22:40.998Z"
   },
   {
    "duration": 0,
    "start_time": "2023-06-19T20:22:41.001Z"
   },
   {
    "duration": 7,
    "start_time": "2023-06-19T20:24:10.575Z"
   },
   {
    "duration": 1386,
    "start_time": "2023-06-19T20:24:37.273Z"
   },
   {
    "duration": 766,
    "start_time": "2023-06-19T20:24:38.662Z"
   },
   {
    "duration": 21,
    "start_time": "2023-06-19T20:24:39.429Z"
   },
   {
    "duration": 24,
    "start_time": "2023-06-19T20:24:39.452Z"
   },
   {
    "duration": 27,
    "start_time": "2023-06-19T20:24:39.478Z"
   },
   {
    "duration": 215,
    "start_time": "2023-06-19T20:24:39.507Z"
   },
   {
    "duration": 118,
    "start_time": "2023-06-19T20:24:39.724Z"
   },
   {
    "duration": 233,
    "start_time": "2023-06-19T20:24:39.844Z"
   },
   {
    "duration": 15,
    "start_time": "2023-06-19T20:24:40.079Z"
   },
   {
    "duration": 14,
    "start_time": "2023-06-19T20:24:40.097Z"
   },
   {
    "duration": 9,
    "start_time": "2023-06-19T20:24:40.112Z"
   },
   {
    "duration": 47,
    "start_time": "2023-06-19T20:24:40.122Z"
   },
   {
    "duration": 6,
    "start_time": "2023-06-19T20:24:40.171Z"
   },
   {
    "duration": 6,
    "start_time": "2023-06-19T20:24:40.179Z"
   },
   {
    "duration": 14,
    "start_time": "2023-06-19T20:24:40.187Z"
   },
   {
    "duration": 69,
    "start_time": "2023-06-19T20:24:40.202Z"
   },
   {
    "duration": 59,
    "start_time": "2023-06-19T20:24:40.272Z"
   },
   {
    "duration": 6,
    "start_time": "2023-06-19T20:24:40.333Z"
   },
   {
    "duration": 688,
    "start_time": "2023-06-19T20:24:40.340Z"
   },
   {
    "duration": 7,
    "start_time": "2023-06-19T20:24:41.029Z"
   },
   {
    "duration": 636,
    "start_time": "2023-06-19T20:24:41.037Z"
   },
   {
    "duration": 6,
    "start_time": "2023-06-19T20:24:41.675Z"
   },
   {
    "duration": 589,
    "start_time": "2023-06-19T20:24:41.682Z"
   },
   {
    "duration": 715,
    "start_time": "2023-06-19T20:24:42.272Z"
   },
   {
    "duration": 565,
    "start_time": "2023-06-19T20:24:42.988Z"
   },
   {
    "duration": 755,
    "start_time": "2023-06-19T20:24:43.554Z"
   },
   {
    "duration": 354,
    "start_time": "2023-06-19T20:24:44.310Z"
   },
   {
    "duration": 362,
    "start_time": "2023-06-19T20:24:44.669Z"
   },
   {
    "duration": 20,
    "start_time": "2023-06-19T20:24:45.033Z"
   },
   {
    "duration": 169,
    "start_time": "2023-06-19T20:24:45.055Z"
   },
   {
    "duration": 27,
    "start_time": "2023-06-19T20:24:45.225Z"
   },
   {
    "duration": 15,
    "start_time": "2023-06-19T20:24:45.253Z"
   },
   {
    "duration": 8,
    "start_time": "2023-06-19T20:24:45.270Z"
   },
   {
    "duration": 8,
    "start_time": "2023-06-19T20:24:45.279Z"
   },
   {
    "duration": 5,
    "start_time": "2023-06-19T20:24:45.289Z"
   },
   {
    "duration": 5,
    "start_time": "2023-06-19T20:24:45.296Z"
   },
   {
    "duration": 5,
    "start_time": "2023-06-19T20:24:45.303Z"
   },
   {
    "duration": 244,
    "start_time": "2023-06-19T20:24:45.309Z"
   },
   {
    "duration": 0,
    "start_time": "2023-06-19T20:24:45.555Z"
   },
   {
    "duration": 0,
    "start_time": "2023-06-19T20:24:45.557Z"
   },
   {
    "duration": 0,
    "start_time": "2023-06-19T20:24:45.558Z"
   },
   {
    "duration": 0,
    "start_time": "2023-06-19T20:24:45.568Z"
   },
   {
    "duration": 0,
    "start_time": "2023-06-19T20:24:45.569Z"
   },
   {
    "duration": 0,
    "start_time": "2023-06-19T20:24:45.570Z"
   },
   {
    "duration": 0,
    "start_time": "2023-06-19T20:24:45.572Z"
   },
   {
    "duration": 0,
    "start_time": "2023-06-19T20:24:45.573Z"
   },
   {
    "duration": 0,
    "start_time": "2023-06-19T20:24:45.574Z"
   },
   {
    "duration": 0,
    "start_time": "2023-06-19T20:24:45.575Z"
   },
   {
    "duration": 0,
    "start_time": "2023-06-19T20:24:45.576Z"
   },
   {
    "duration": 0,
    "start_time": "2023-06-19T20:24:45.578Z"
   },
   {
    "duration": 0,
    "start_time": "2023-06-19T20:24:45.579Z"
   },
   {
    "duration": 0,
    "start_time": "2023-06-19T20:24:45.580Z"
   },
   {
    "duration": 10,
    "start_time": "2023-06-19T20:29:18.806Z"
   },
   {
    "duration": 5,
    "start_time": "2023-06-19T20:29:42.907Z"
   },
   {
    "duration": 4,
    "start_time": "2023-06-19T20:29:57.420Z"
   },
   {
    "duration": 5,
    "start_time": "2023-06-19T20:30:43.648Z"
   },
   {
    "duration": 1376,
    "start_time": "2023-06-19T20:31:21.376Z"
   },
   {
    "duration": 808,
    "start_time": "2023-06-19T20:31:22.754Z"
   },
   {
    "duration": 24,
    "start_time": "2023-06-19T20:31:23.564Z"
   },
   {
    "duration": 21,
    "start_time": "2023-06-19T20:31:23.590Z"
   },
   {
    "duration": 22,
    "start_time": "2023-06-19T20:31:23.612Z"
   },
   {
    "duration": 272,
    "start_time": "2023-06-19T20:31:23.635Z"
   },
   {
    "duration": 176,
    "start_time": "2023-06-19T20:31:23.909Z"
   },
   {
    "duration": 275,
    "start_time": "2023-06-19T20:31:24.087Z"
   },
   {
    "duration": 18,
    "start_time": "2023-06-19T20:31:24.363Z"
   },
   {
    "duration": 15,
    "start_time": "2023-06-19T20:31:24.384Z"
   },
   {
    "duration": 9,
    "start_time": "2023-06-19T20:31:24.401Z"
   },
   {
    "duration": 57,
    "start_time": "2023-06-19T20:31:24.412Z"
   },
   {
    "duration": 6,
    "start_time": "2023-06-19T20:31:24.471Z"
   },
   {
    "duration": 44,
    "start_time": "2023-06-19T20:31:24.479Z"
   },
   {
    "duration": 19,
    "start_time": "2023-06-19T20:31:24.524Z"
   },
   {
    "duration": 42,
    "start_time": "2023-06-19T20:31:24.545Z"
   },
   {
    "duration": 64,
    "start_time": "2023-06-19T20:31:24.589Z"
   },
   {
    "duration": 16,
    "start_time": "2023-06-19T20:31:24.655Z"
   },
   {
    "duration": 761,
    "start_time": "2023-06-19T20:31:24.673Z"
   },
   {
    "duration": 7,
    "start_time": "2023-06-19T20:31:25.436Z"
   },
   {
    "duration": 747,
    "start_time": "2023-06-19T20:31:25.445Z"
   },
   {
    "duration": 7,
    "start_time": "2023-06-19T20:31:26.194Z"
   },
   {
    "duration": 676,
    "start_time": "2023-06-19T20:31:26.202Z"
   },
   {
    "duration": 837,
    "start_time": "2023-06-19T20:31:26.880Z"
   },
   {
    "duration": 685,
    "start_time": "2023-06-19T20:31:27.719Z"
   },
   {
    "duration": 859,
    "start_time": "2023-06-19T20:31:28.406Z"
   },
   {
    "duration": 453,
    "start_time": "2023-06-19T20:31:29.267Z"
   },
   {
    "duration": 426,
    "start_time": "2023-06-19T20:31:29.724Z"
   },
   {
    "duration": 28,
    "start_time": "2023-06-19T20:31:30.152Z"
   },
   {
    "duration": 186,
    "start_time": "2023-06-19T20:31:30.182Z"
   },
   {
    "duration": 32,
    "start_time": "2023-06-19T20:31:30.370Z"
   },
   {
    "duration": 3,
    "start_time": "2023-06-19T20:31:30.404Z"
   },
   {
    "duration": 30,
    "start_time": "2023-06-19T20:31:30.409Z"
   },
   {
    "duration": 34,
    "start_time": "2023-06-19T20:31:30.440Z"
   },
   {
    "duration": 36,
    "start_time": "2023-06-19T20:31:30.476Z"
   },
   {
    "duration": 39,
    "start_time": "2023-06-19T20:31:30.514Z"
   },
   {
    "duration": 37,
    "start_time": "2023-06-19T20:31:30.555Z"
   },
   {
    "duration": 156,
    "start_time": "2023-06-19T20:31:30.594Z"
   },
   {
    "duration": 0,
    "start_time": "2023-06-19T20:31:30.752Z"
   },
   {
    "duration": 0,
    "start_time": "2023-06-19T20:31:30.753Z"
   },
   {
    "duration": 0,
    "start_time": "2023-06-19T20:31:30.755Z"
   },
   {
    "duration": 0,
    "start_time": "2023-06-19T20:31:30.756Z"
   },
   {
    "duration": 0,
    "start_time": "2023-06-19T20:31:30.758Z"
   },
   {
    "duration": 0,
    "start_time": "2023-06-19T20:31:30.760Z"
   },
   {
    "duration": 0,
    "start_time": "2023-06-19T20:31:30.768Z"
   },
   {
    "duration": 0,
    "start_time": "2023-06-19T20:31:30.770Z"
   },
   {
    "duration": 0,
    "start_time": "2023-06-19T20:31:30.772Z"
   },
   {
    "duration": 0,
    "start_time": "2023-06-19T20:31:30.773Z"
   },
   {
    "duration": 0,
    "start_time": "2023-06-19T20:31:30.775Z"
   },
   {
    "duration": 0,
    "start_time": "2023-06-19T20:31:30.776Z"
   },
   {
    "duration": 0,
    "start_time": "2023-06-19T20:31:30.778Z"
   },
   {
    "duration": 0,
    "start_time": "2023-06-19T20:31:30.779Z"
   },
   {
    "duration": 11,
    "start_time": "2023-06-19T20:32:14.898Z"
   },
   {
    "duration": 6,
    "start_time": "2023-06-19T20:32:23.299Z"
   },
   {
    "duration": 1428,
    "start_time": "2023-06-19T20:32:48.642Z"
   },
   {
    "duration": 769,
    "start_time": "2023-06-19T20:32:50.072Z"
   },
   {
    "duration": 20,
    "start_time": "2023-06-19T20:32:50.843Z"
   },
   {
    "duration": 18,
    "start_time": "2023-06-19T20:32:50.868Z"
   },
   {
    "duration": 17,
    "start_time": "2023-06-19T20:32:50.888Z"
   },
   {
    "duration": 220,
    "start_time": "2023-06-19T20:32:50.907Z"
   },
   {
    "duration": 120,
    "start_time": "2023-06-19T20:32:51.129Z"
   },
   {
    "duration": 228,
    "start_time": "2023-06-19T20:32:51.251Z"
   },
   {
    "duration": 16,
    "start_time": "2023-06-19T20:32:51.481Z"
   },
   {
    "duration": 14,
    "start_time": "2023-06-19T20:32:51.498Z"
   },
   {
    "duration": 7,
    "start_time": "2023-06-19T20:32:51.514Z"
   },
   {
    "duration": 48,
    "start_time": "2023-06-19T20:32:51.523Z"
   },
   {
    "duration": 5,
    "start_time": "2023-06-19T20:32:51.573Z"
   },
   {
    "duration": 24,
    "start_time": "2023-06-19T20:32:51.580Z"
   },
   {
    "duration": 29,
    "start_time": "2023-06-19T20:32:51.605Z"
   },
   {
    "duration": 47,
    "start_time": "2023-06-19T20:32:51.636Z"
   },
   {
    "duration": 68,
    "start_time": "2023-06-19T20:32:51.685Z"
   },
   {
    "duration": 15,
    "start_time": "2023-06-19T20:32:51.755Z"
   },
   {
    "duration": 716,
    "start_time": "2023-06-19T20:32:51.772Z"
   },
   {
    "duration": 6,
    "start_time": "2023-06-19T20:32:52.490Z"
   },
   {
    "duration": 660,
    "start_time": "2023-06-19T20:32:52.497Z"
   },
   {
    "duration": 12,
    "start_time": "2023-06-19T20:32:53.159Z"
   },
   {
    "duration": 585,
    "start_time": "2023-06-19T20:32:53.173Z"
   },
   {
    "duration": 772,
    "start_time": "2023-06-19T20:32:53.759Z"
   },
   {
    "duration": 576,
    "start_time": "2023-06-19T20:32:54.533Z"
   },
   {
    "duration": 675,
    "start_time": "2023-06-19T20:32:55.111Z"
   },
   {
    "duration": 380,
    "start_time": "2023-06-19T20:32:55.788Z"
   },
   {
    "duration": 356,
    "start_time": "2023-06-19T20:32:56.169Z"
   },
   {
    "duration": 21,
    "start_time": "2023-06-19T20:32:56.527Z"
   },
   {
    "duration": 163,
    "start_time": "2023-06-19T20:32:56.549Z"
   },
   {
    "duration": 28,
    "start_time": "2023-06-19T20:32:56.713Z"
   },
   {
    "duration": 3,
    "start_time": "2023-06-19T20:32:56.743Z"
   },
   {
    "duration": 23,
    "start_time": "2023-06-19T20:32:56.747Z"
   },
   {
    "duration": 9,
    "start_time": "2023-06-19T20:32:56.772Z"
   },
   {
    "duration": 7,
    "start_time": "2023-06-19T20:32:56.783Z"
   },
   {
    "duration": 6,
    "start_time": "2023-06-19T20:32:56.792Z"
   },
   {
    "duration": 15,
    "start_time": "2023-06-19T20:32:56.800Z"
   },
   {
    "duration": 117,
    "start_time": "2023-06-19T20:32:56.817Z"
   },
   {
    "duration": 0,
    "start_time": "2023-06-19T20:32:56.936Z"
   },
   {
    "duration": 0,
    "start_time": "2023-06-19T20:32:56.937Z"
   },
   {
    "duration": 0,
    "start_time": "2023-06-19T20:32:56.938Z"
   },
   {
    "duration": 0,
    "start_time": "2023-06-19T20:32:56.939Z"
   },
   {
    "duration": 0,
    "start_time": "2023-06-19T20:32:57.055Z"
   },
   {
    "duration": 0,
    "start_time": "2023-06-19T20:32:57.057Z"
   },
   {
    "duration": 0,
    "start_time": "2023-06-19T20:32:57.058Z"
   },
   {
    "duration": 0,
    "start_time": "2023-06-19T20:32:57.068Z"
   },
   {
    "duration": 0,
    "start_time": "2023-06-19T20:32:57.069Z"
   },
   {
    "duration": 0,
    "start_time": "2023-06-19T20:32:57.070Z"
   },
   {
    "duration": 0,
    "start_time": "2023-06-19T20:32:57.071Z"
   },
   {
    "duration": 0,
    "start_time": "2023-06-19T20:32:57.071Z"
   },
   {
    "duration": 0,
    "start_time": "2023-06-19T20:32:57.073Z"
   },
   {
    "duration": 0,
    "start_time": "2023-06-19T20:32:57.073Z"
   },
   {
    "duration": 9,
    "start_time": "2023-06-19T20:33:24.611Z"
   },
   {
    "duration": 9,
    "start_time": "2023-06-19T20:33:37.472Z"
   },
   {
    "duration": 8,
    "start_time": "2023-06-19T20:35:05.490Z"
   },
   {
    "duration": 18,
    "start_time": "2023-06-19T20:35:09.931Z"
   },
   {
    "duration": 9,
    "start_time": "2023-06-19T20:35:13.664Z"
   },
   {
    "duration": 20,
    "start_time": "2023-06-19T20:35:23.093Z"
   },
   {
    "duration": 21,
    "start_time": "2023-06-19T20:35:26.301Z"
   },
   {
    "duration": 8,
    "start_time": "2023-06-19T20:35:29.341Z"
   },
   {
    "duration": 36,
    "start_time": "2023-06-19T20:39:00.120Z"
   },
   {
    "duration": 762,
    "start_time": "2023-06-19T20:39:00.158Z"
   },
   {
    "duration": 19,
    "start_time": "2023-06-19T20:39:00.922Z"
   },
   {
    "duration": 59,
    "start_time": "2023-06-19T20:39:00.943Z"
   },
   {
    "duration": 42,
    "start_time": "2023-06-19T20:39:01.004Z"
   },
   {
    "duration": 248,
    "start_time": "2023-06-19T20:39:01.047Z"
   },
   {
    "duration": 122,
    "start_time": "2023-06-19T20:39:01.297Z"
   },
   {
    "duration": 295,
    "start_time": "2023-06-19T20:39:01.421Z"
   },
   {
    "duration": 17,
    "start_time": "2023-06-19T20:39:01.718Z"
   },
   {
    "duration": 60,
    "start_time": "2023-06-19T20:39:01.738Z"
   },
   {
    "duration": 25,
    "start_time": "2023-06-19T20:39:01.799Z"
   },
   {
    "duration": 61,
    "start_time": "2023-06-19T20:39:01.826Z"
   },
   {
    "duration": 24,
    "start_time": "2023-06-19T20:39:01.888Z"
   },
   {
    "duration": 33,
    "start_time": "2023-06-19T20:39:01.914Z"
   },
   {
    "duration": 42,
    "start_time": "2023-06-19T20:39:01.949Z"
   },
   {
    "duration": 77,
    "start_time": "2023-06-19T20:39:01.993Z"
   },
   {
    "duration": 92,
    "start_time": "2023-06-19T20:39:02.072Z"
   },
   {
    "duration": 13,
    "start_time": "2023-06-19T20:39:02.166Z"
   },
   {
    "duration": 633,
    "start_time": "2023-06-19T20:39:02.181Z"
   },
   {
    "duration": 6,
    "start_time": "2023-06-19T20:39:02.815Z"
   },
   {
    "duration": 727,
    "start_time": "2023-06-19T20:39:02.823Z"
   },
   {
    "duration": 6,
    "start_time": "2023-06-19T20:39:03.552Z"
   },
   {
    "duration": 645,
    "start_time": "2023-06-19T20:39:03.568Z"
   },
   {
    "duration": 588,
    "start_time": "2023-06-19T20:39:04.215Z"
   },
   {
    "duration": 700,
    "start_time": "2023-06-19T20:39:04.804Z"
   },
   {
    "duration": 595,
    "start_time": "2023-06-19T20:39:05.506Z"
   },
   {
    "duration": 448,
    "start_time": "2023-06-19T20:39:06.103Z"
   },
   {
    "duration": 355,
    "start_time": "2023-06-19T20:39:06.554Z"
   },
   {
    "duration": 19,
    "start_time": "2023-06-19T20:39:06.911Z"
   },
   {
    "duration": 159,
    "start_time": "2023-06-19T20:39:06.932Z"
   },
   {
    "duration": 25,
    "start_time": "2023-06-19T20:39:07.093Z"
   },
   {
    "duration": 3,
    "start_time": "2023-06-19T20:39:07.120Z"
   },
   {
    "duration": 7,
    "start_time": "2023-06-19T20:39:07.124Z"
   },
   {
    "duration": 5,
    "start_time": "2023-06-19T20:39:07.132Z"
   },
   {
    "duration": 30,
    "start_time": "2023-06-19T20:39:07.138Z"
   },
   {
    "duration": 5,
    "start_time": "2023-06-19T20:39:07.170Z"
   },
   {
    "duration": 7,
    "start_time": "2023-06-19T20:39:07.177Z"
   },
   {
    "duration": 13,
    "start_time": "2023-06-19T20:39:07.186Z"
   },
   {
    "duration": 0,
    "start_time": "2023-06-19T20:39:07.200Z"
   },
   {
    "duration": 0,
    "start_time": "2023-06-19T20:39:07.202Z"
   },
   {
    "duration": 0,
    "start_time": "2023-06-19T20:39:07.203Z"
   },
   {
    "duration": 0,
    "start_time": "2023-06-19T20:39:07.205Z"
   },
   {
    "duration": 0,
    "start_time": "2023-06-19T20:39:07.206Z"
   },
   {
    "duration": 0,
    "start_time": "2023-06-19T20:39:07.207Z"
   },
   {
    "duration": 0,
    "start_time": "2023-06-19T20:39:07.208Z"
   },
   {
    "duration": 0,
    "start_time": "2023-06-19T20:39:07.209Z"
   },
   {
    "duration": 0,
    "start_time": "2023-06-19T20:39:07.211Z"
   },
   {
    "duration": 0,
    "start_time": "2023-06-19T20:39:07.212Z"
   },
   {
    "duration": 0,
    "start_time": "2023-06-19T20:39:07.213Z"
   },
   {
    "duration": 0,
    "start_time": "2023-06-19T20:39:07.214Z"
   },
   {
    "duration": 0,
    "start_time": "2023-06-19T20:39:07.215Z"
   },
   {
    "duration": 0,
    "start_time": "2023-06-19T20:39:07.216Z"
   },
   {
    "duration": 8,
    "start_time": "2023-06-19T20:40:25.247Z"
   },
   {
    "duration": 9,
    "start_time": "2023-06-19T20:40:44.538Z"
   },
   {
    "duration": 9,
    "start_time": "2023-06-19T20:40:55.894Z"
   },
   {
    "duration": 65,
    "start_time": "2023-06-19T20:43:27.084Z"
   },
   {
    "duration": 4,
    "start_time": "2023-06-19T20:43:33.094Z"
   },
   {
    "duration": 1724,
    "start_time": "2023-06-20T11:52:47.002Z"
   },
   {
    "duration": 4683,
    "start_time": "2023-06-20T11:52:48.728Z"
   },
   {
    "duration": 25,
    "start_time": "2023-06-20T11:52:53.414Z"
   },
   {
    "duration": 23,
    "start_time": "2023-06-20T11:52:53.441Z"
   },
   {
    "duration": 36,
    "start_time": "2023-06-20T11:52:53.466Z"
   },
   {
    "duration": 242,
    "start_time": "2023-06-20T11:52:53.504Z"
   },
   {
    "duration": 160,
    "start_time": "2023-06-20T11:52:53.748Z"
   },
   {
    "duration": 300,
    "start_time": "2023-06-20T11:52:53.910Z"
   },
   {
    "duration": 22,
    "start_time": "2023-06-20T11:52:54.212Z"
   },
   {
    "duration": 46,
    "start_time": "2023-06-20T11:52:54.238Z"
   },
   {
    "duration": 13,
    "start_time": "2023-06-20T11:52:54.294Z"
   },
   {
    "duration": 31,
    "start_time": "2023-06-20T11:52:54.308Z"
   },
   {
    "duration": 7,
    "start_time": "2023-06-20T11:52:54.341Z"
   },
   {
    "duration": 13,
    "start_time": "2023-06-20T11:52:54.350Z"
   },
   {
    "duration": 57,
    "start_time": "2023-06-20T11:52:54.368Z"
   },
   {
    "duration": 51,
    "start_time": "2023-06-20T11:52:54.427Z"
   },
   {
    "duration": 62,
    "start_time": "2023-06-20T11:52:54.480Z"
   },
   {
    "duration": 7,
    "start_time": "2023-06-20T11:52:54.544Z"
   },
   {
    "duration": 880,
    "start_time": "2023-06-20T11:52:54.553Z"
   },
   {
    "duration": 10,
    "start_time": "2023-06-20T11:52:55.434Z"
   },
   {
    "duration": 781,
    "start_time": "2023-06-20T11:52:55.445Z"
   },
   {
    "duration": 8,
    "start_time": "2023-06-20T11:52:56.229Z"
   },
   {
    "duration": 855,
    "start_time": "2023-06-20T11:52:56.238Z"
   },
   {
    "duration": 716,
    "start_time": "2023-06-20T11:52:57.098Z"
   },
   {
    "duration": 705,
    "start_time": "2023-06-20T11:52:57.816Z"
   },
   {
    "duration": 892,
    "start_time": "2023-06-20T11:52:58.523Z"
   },
   {
    "duration": 434,
    "start_time": "2023-06-20T11:52:59.417Z"
   },
   {
    "duration": 425,
    "start_time": "2023-06-20T11:52:59.854Z"
   },
   {
    "duration": 24,
    "start_time": "2023-06-20T11:53:00.280Z"
   },
   {
    "duration": 327,
    "start_time": "2023-06-20T11:53:00.306Z"
   },
   {
    "duration": 46,
    "start_time": "2023-06-20T11:53:00.635Z"
   },
   {
    "duration": 3,
    "start_time": "2023-06-20T11:53:00.683Z"
   },
   {
    "duration": 14,
    "start_time": "2023-06-20T11:53:00.687Z"
   },
   {
    "duration": 46,
    "start_time": "2023-06-20T11:53:00.702Z"
   },
   {
    "duration": 45,
    "start_time": "2023-06-20T11:53:00.750Z"
   },
   {
    "duration": 49,
    "start_time": "2023-06-20T11:53:00.797Z"
   },
   {
    "duration": 203,
    "start_time": "2023-06-20T11:53:00.847Z"
   },
   {
    "duration": 443,
    "start_time": "2023-06-20T11:53:01.052Z"
   },
   {
    "duration": 118,
    "start_time": "2023-06-20T11:53:01.497Z"
   },
   {
    "duration": 0,
    "start_time": "2023-06-20T11:53:01.616Z"
   },
   {
    "duration": 0,
    "start_time": "2023-06-20T11:53:01.617Z"
   },
   {
    "duration": 0,
    "start_time": "2023-06-20T11:53:01.619Z"
   },
   {
    "duration": 0,
    "start_time": "2023-06-20T11:53:01.620Z"
   },
   {
    "duration": 0,
    "start_time": "2023-06-20T11:53:01.621Z"
   },
   {
    "duration": 0,
    "start_time": "2023-06-20T11:53:01.623Z"
   },
   {
    "duration": 0,
    "start_time": "2023-06-20T11:53:01.624Z"
   },
   {
    "duration": 0,
    "start_time": "2023-06-20T11:53:01.625Z"
   },
   {
    "duration": 0,
    "start_time": "2023-06-20T11:53:01.626Z"
   },
   {
    "duration": 0,
    "start_time": "2023-06-20T11:53:01.628Z"
   },
   {
    "duration": 0,
    "start_time": "2023-06-20T11:53:01.629Z"
   },
   {
    "duration": 0,
    "start_time": "2023-06-20T11:53:01.630Z"
   },
   {
    "duration": 28,
    "start_time": "2023-06-20T11:55:55.862Z"
   },
   {
    "duration": 7,
    "start_time": "2023-06-20T11:55:55.892Z"
   },
   {
    "duration": 729,
    "start_time": "2023-06-20T11:55:55.903Z"
   },
   {
    "duration": 7,
    "start_time": "2023-06-20T11:55:56.634Z"
   },
   {
    "duration": 846,
    "start_time": "2023-06-20T11:55:56.642Z"
   },
   {
    "duration": 10,
    "start_time": "2023-06-20T11:55:57.490Z"
   },
   {
    "duration": 677,
    "start_time": "2023-06-20T11:55:57.502Z"
   },
   {
    "duration": 825,
    "start_time": "2023-06-20T11:55:58.180Z"
   },
   {
    "duration": 705,
    "start_time": "2023-06-20T11:55:59.007Z"
   },
   {
    "duration": 815,
    "start_time": "2023-06-20T11:55:59.716Z"
   },
   {
    "duration": 403,
    "start_time": "2023-06-20T11:56:00.533Z"
   },
   {
    "duration": 406,
    "start_time": "2023-06-20T11:56:00.937Z"
   },
   {
    "duration": 35,
    "start_time": "2023-06-20T11:56:01.346Z"
   },
   {
    "duration": 212,
    "start_time": "2023-06-20T11:56:01.382Z"
   },
   {
    "duration": 30,
    "start_time": "2023-06-20T11:56:01.595Z"
   },
   {
    "duration": 34,
    "start_time": "2023-06-20T11:56:01.627Z"
   },
   {
    "duration": 64,
    "start_time": "2023-06-20T11:56:01.663Z"
   },
   {
    "duration": 72,
    "start_time": "2023-06-20T11:56:01.729Z"
   },
   {
    "duration": 94,
    "start_time": "2023-06-20T11:56:01.802Z"
   },
   {
    "duration": 54,
    "start_time": "2023-06-20T11:56:01.897Z"
   },
   {
    "duration": 198,
    "start_time": "2023-06-20T11:56:01.952Z"
   },
   {
    "duration": 582,
    "start_time": "2023-06-20T11:56:02.152Z"
   },
   {
    "duration": 10,
    "start_time": "2023-06-20T11:56:02.735Z"
   },
   {
    "duration": 0,
    "start_time": "2023-06-20T11:56:02.747Z"
   },
   {
    "duration": 0,
    "start_time": "2023-06-20T11:56:02.748Z"
   },
   {
    "duration": 0,
    "start_time": "2023-06-20T11:56:02.750Z"
   },
   {
    "duration": 0,
    "start_time": "2023-06-20T11:56:02.751Z"
   },
   {
    "duration": 0,
    "start_time": "2023-06-20T11:56:02.752Z"
   },
   {
    "duration": 0,
    "start_time": "2023-06-20T11:56:02.766Z"
   },
   {
    "duration": 0,
    "start_time": "2023-06-20T11:56:02.767Z"
   },
   {
    "duration": 0,
    "start_time": "2023-06-20T11:56:02.768Z"
   },
   {
    "duration": 0,
    "start_time": "2023-06-20T11:56:02.772Z"
   },
   {
    "duration": 0,
    "start_time": "2023-06-20T11:56:02.772Z"
   },
   {
    "duration": 0,
    "start_time": "2023-06-20T11:56:02.773Z"
   },
   {
    "duration": 0,
    "start_time": "2023-06-20T11:56:02.774Z"
   },
   {
    "duration": 694,
    "start_time": "2023-06-20T11:57:49.733Z"
   },
   {
    "duration": 3,
    "start_time": "2023-06-20T11:57:50.429Z"
   },
   {
    "duration": 16,
    "start_time": "2023-06-20T11:57:50.434Z"
   },
   {
    "duration": 21,
    "start_time": "2023-06-20T11:57:50.453Z"
   },
   {
    "duration": 16,
    "start_time": "2023-06-20T11:57:50.475Z"
   },
   {
    "duration": 7,
    "start_time": "2023-06-20T11:57:50.493Z"
   },
   {
    "duration": 159,
    "start_time": "2023-06-20T11:57:50.502Z"
   },
   {
    "duration": 445,
    "start_time": "2023-06-20T11:57:50.663Z"
   },
   {
    "duration": 11,
    "start_time": "2023-06-20T11:57:51.111Z"
   },
   {
    "duration": 0,
    "start_time": "2023-06-20T11:57:51.124Z"
   },
   {
    "duration": 0,
    "start_time": "2023-06-20T11:57:51.126Z"
   },
   {
    "duration": 0,
    "start_time": "2023-06-20T11:57:51.127Z"
   },
   {
    "duration": 0,
    "start_time": "2023-06-20T11:57:51.129Z"
   },
   {
    "duration": 0,
    "start_time": "2023-06-20T11:57:51.130Z"
   },
   {
    "duration": 0,
    "start_time": "2023-06-20T11:57:51.132Z"
   },
   {
    "duration": 0,
    "start_time": "2023-06-20T11:57:51.133Z"
   },
   {
    "duration": 0,
    "start_time": "2023-06-20T11:57:51.135Z"
   },
   {
    "duration": 0,
    "start_time": "2023-06-20T11:57:51.136Z"
   },
   {
    "duration": 0,
    "start_time": "2023-06-20T11:57:51.137Z"
   },
   {
    "duration": 0,
    "start_time": "2023-06-20T11:57:51.138Z"
   },
   {
    "duration": 0,
    "start_time": "2023-06-20T11:57:51.139Z"
   },
   {
    "duration": 309,
    "start_time": "2023-06-20T12:02:35.045Z"
   },
   {
    "duration": 677,
    "start_time": "2023-06-20T12:02:35.367Z"
   },
   {
    "duration": 2,
    "start_time": "2023-06-20T12:02:36.046Z"
   },
   {
    "duration": 32,
    "start_time": "2023-06-20T12:02:36.050Z"
   },
   {
    "duration": 9,
    "start_time": "2023-06-20T12:02:36.085Z"
   },
   {
    "duration": 21,
    "start_time": "2023-06-20T12:02:36.095Z"
   },
   {
    "duration": 12,
    "start_time": "2023-06-20T12:02:36.117Z"
   },
   {
    "duration": 45,
    "start_time": "2023-06-20T12:02:36.130Z"
   },
   {
    "duration": 39,
    "start_time": "2023-06-20T12:02:36.177Z"
   },
   {
    "duration": 0,
    "start_time": "2023-06-20T12:02:36.219Z"
   },
   {
    "duration": 0,
    "start_time": "2023-06-20T12:02:36.220Z"
   },
   {
    "duration": 0,
    "start_time": "2023-06-20T12:02:36.221Z"
   },
   {
    "duration": 0,
    "start_time": "2023-06-20T12:02:36.222Z"
   },
   {
    "duration": 0,
    "start_time": "2023-06-20T12:02:36.223Z"
   },
   {
    "duration": 0,
    "start_time": "2023-06-20T12:02:36.224Z"
   },
   {
    "duration": 0,
    "start_time": "2023-06-20T12:02:36.225Z"
   },
   {
    "duration": 0,
    "start_time": "2023-06-20T12:02:36.226Z"
   },
   {
    "duration": 0,
    "start_time": "2023-06-20T12:02:36.227Z"
   },
   {
    "duration": 0,
    "start_time": "2023-06-20T12:02:36.228Z"
   },
   {
    "duration": 0,
    "start_time": "2023-06-20T12:02:36.229Z"
   },
   {
    "duration": 0,
    "start_time": "2023-06-20T12:02:36.230Z"
   },
   {
    "duration": 0,
    "start_time": "2023-06-20T12:02:36.231Z"
   },
   {
    "duration": 0,
    "start_time": "2023-06-20T12:02:36.232Z"
   },
   {
    "duration": 0,
    "start_time": "2023-06-20T12:02:36.233Z"
   },
   {
    "duration": 0,
    "start_time": "2023-06-20T12:02:36.234Z"
   },
   {
    "duration": 0,
    "start_time": "2023-06-20T12:02:36.236Z"
   },
   {
    "duration": 0,
    "start_time": "2023-06-20T12:02:36.237Z"
   },
   {
    "duration": 28,
    "start_time": "2023-06-20T12:03:19.989Z"
   },
   {
    "duration": 40,
    "start_time": "2023-06-20T12:03:30.818Z"
   },
   {
    "duration": 14,
    "start_time": "2023-06-20T12:03:40.727Z"
   },
   {
    "duration": 4,
    "start_time": "2023-06-20T12:03:42.097Z"
   },
   {
    "duration": 4,
    "start_time": "2023-06-20T12:03:43.301Z"
   },
   {
    "duration": 14,
    "start_time": "2023-06-20T12:04:54.812Z"
   },
   {
    "duration": 10,
    "start_time": "2023-06-20T12:05:20.136Z"
   },
   {
    "duration": 4,
    "start_time": "2023-06-20T12:05:25.787Z"
   },
   {
    "duration": 10,
    "start_time": "2023-06-20T12:05:26.815Z"
   },
   {
    "duration": 8,
    "start_time": "2023-06-20T12:05:44.242Z"
   },
   {
    "duration": 8,
    "start_time": "2023-06-20T12:06:49.827Z"
   },
   {
    "duration": 9,
    "start_time": "2023-06-20T12:06:50.766Z"
   },
   {
    "duration": 7,
    "start_time": "2023-06-20T12:06:51.524Z"
   },
   {
    "duration": 10,
    "start_time": "2023-06-20T12:06:52.270Z"
   },
   {
    "duration": 2573,
    "start_time": "2023-06-20T12:06:54.847Z"
   },
   {
    "duration": 0,
    "start_time": "2023-06-20T12:06:57.422Z"
   },
   {
    "duration": 2096,
    "start_time": "2023-06-20T12:08:27.026Z"
   },
   {
    "duration": 9,
    "start_time": "2023-06-20T12:09:41.870Z"
   },
   {
    "duration": 897,
    "start_time": "2023-06-20T12:09:41.895Z"
   },
   {
    "duration": 28,
    "start_time": "2023-06-20T12:09:42.796Z"
   },
   {
    "duration": 52,
    "start_time": "2023-06-20T12:09:42.826Z"
   },
   {
    "duration": 42,
    "start_time": "2023-06-20T12:09:42.880Z"
   },
   {
    "duration": 261,
    "start_time": "2023-06-20T12:09:42.925Z"
   },
   {
    "duration": 152,
    "start_time": "2023-06-20T12:09:43.189Z"
   },
   {
    "duration": 265,
    "start_time": "2023-06-20T12:09:43.343Z"
   },
   {
    "duration": 18,
    "start_time": "2023-06-20T12:09:43.609Z"
   },
   {
    "duration": 18,
    "start_time": "2023-06-20T12:09:43.630Z"
   },
   {
    "duration": 28,
    "start_time": "2023-06-20T12:09:43.670Z"
   },
   {
    "duration": 92,
    "start_time": "2023-06-20T12:09:43.700Z"
   },
   {
    "duration": 8,
    "start_time": "2023-06-20T12:09:43.796Z"
   },
   {
    "duration": 38,
    "start_time": "2023-06-20T12:09:43.806Z"
   },
   {
    "duration": 49,
    "start_time": "2023-06-20T12:09:43.850Z"
   },
   {
    "duration": 70,
    "start_time": "2023-06-20T12:09:43.900Z"
   },
   {
    "duration": 95,
    "start_time": "2023-06-20T12:09:43.973Z"
   },
   {
    "duration": 38,
    "start_time": "2023-06-20T12:09:44.072Z"
   },
   {
    "duration": 20,
    "start_time": "2023-06-20T12:09:44.112Z"
   },
   {
    "duration": 899,
    "start_time": "2023-06-20T12:09:44.135Z"
   },
   {
    "duration": 8,
    "start_time": "2023-06-20T12:09:45.037Z"
   },
   {
    "duration": 788,
    "start_time": "2023-06-20T12:09:45.047Z"
   },
   {
    "duration": 8,
    "start_time": "2023-06-20T12:09:45.837Z"
   },
   {
    "duration": 881,
    "start_time": "2023-06-20T12:09:45.847Z"
   },
   {
    "duration": 726,
    "start_time": "2023-06-20T12:09:46.730Z"
   },
   {
    "duration": 733,
    "start_time": "2023-06-20T12:09:47.458Z"
   },
   {
    "duration": 864,
    "start_time": "2023-06-20T12:09:48.194Z"
   },
   {
    "duration": 440,
    "start_time": "2023-06-20T12:09:49.060Z"
   },
   {
    "duration": 503,
    "start_time": "2023-06-20T12:09:49.503Z"
   },
   {
    "duration": 327,
    "start_time": "2023-06-20T12:09:50.009Z"
   },
   {
    "duration": 842,
    "start_time": "2023-06-20T12:09:50.339Z"
   },
   {
    "duration": 14,
    "start_time": "2023-06-20T12:09:51.187Z"
   },
   {
    "duration": 29,
    "start_time": "2023-06-20T12:09:51.205Z"
   },
   {
    "duration": 55,
    "start_time": "2023-06-20T12:09:51.237Z"
   },
   {
    "duration": 26,
    "start_time": "2023-06-20T12:09:51.295Z"
   },
   {
    "duration": 59,
    "start_time": "2023-06-20T12:09:51.323Z"
   },
   {
    "duration": 45,
    "start_time": "2023-06-20T12:09:51.385Z"
   },
   {
    "duration": 50,
    "start_time": "2023-06-20T12:09:51.433Z"
   },
   {
    "duration": 22,
    "start_time": "2023-06-20T12:09:51.488Z"
   },
   {
    "duration": 31,
    "start_time": "2023-06-20T12:09:51.511Z"
   },
   {
    "duration": 28,
    "start_time": "2023-06-20T12:09:51.545Z"
   },
   {
    "duration": 108,
    "start_time": "2023-06-20T12:09:51.579Z"
   },
   {
    "duration": 0,
    "start_time": "2023-06-20T12:09:51.689Z"
   },
   {
    "duration": 0,
    "start_time": "2023-06-20T12:09:51.691Z"
   },
   {
    "duration": 0,
    "start_time": "2023-06-20T12:09:51.693Z"
   },
   {
    "duration": 0,
    "start_time": "2023-06-20T12:09:51.696Z"
   },
   {
    "duration": 0,
    "start_time": "2023-06-20T12:09:51.698Z"
   },
   {
    "duration": 0,
    "start_time": "2023-06-20T12:09:51.700Z"
   },
   {
    "duration": 0,
    "start_time": "2023-06-20T12:09:51.702Z"
   },
   {
    "duration": 0,
    "start_time": "2023-06-20T12:09:51.703Z"
   },
   {
    "duration": 0,
    "start_time": "2023-06-20T12:09:51.705Z"
   },
   {
    "duration": 0,
    "start_time": "2023-06-20T12:09:51.706Z"
   },
   {
    "duration": 0,
    "start_time": "2023-06-20T12:09:51.707Z"
   },
   {
    "duration": 0,
    "start_time": "2023-06-20T12:09:51.708Z"
   },
   {
    "duration": 0,
    "start_time": "2023-06-20T12:09:51.709Z"
   },
   {
    "duration": 0,
    "start_time": "2023-06-20T12:09:51.711Z"
   },
   {
    "duration": 26,
    "start_time": "2023-06-20T12:11:13.994Z"
   },
   {
    "duration": 747,
    "start_time": "2023-06-20T12:11:14.022Z"
   },
   {
    "duration": 33,
    "start_time": "2023-06-20T12:11:14.771Z"
   },
   {
    "duration": 62,
    "start_time": "2023-06-20T12:11:14.806Z"
   },
   {
    "duration": 11,
    "start_time": "2023-06-20T12:11:14.870Z"
   },
   {
    "duration": 16,
    "start_time": "2023-06-20T12:11:14.884Z"
   },
   {
    "duration": 18,
    "start_time": "2023-06-20T12:11:14.903Z"
   },
   {
    "duration": 31,
    "start_time": "2023-06-20T12:11:14.923Z"
   },
   {
    "duration": 7,
    "start_time": "2023-06-20T12:11:14.957Z"
   },
   {
    "duration": 14,
    "start_time": "2023-06-20T12:11:14.967Z"
   },
   {
    "duration": 3312,
    "start_time": "2023-06-20T12:11:14.983Z"
   },
   {
    "duration": 6,
    "start_time": "2023-06-20T12:11:18.367Z"
   },
   {
    "duration": 228689,
    "start_time": "2023-06-20T12:11:18.375Z"
   },
   {
    "duration": 3862,
    "start_time": "2023-06-20T12:15:07.075Z"
   },
   {
    "duration": 4251,
    "start_time": "2023-06-20T12:15:10.939Z"
   },
   {
    "duration": 4,
    "start_time": "2023-06-20T12:18:43.641Z"
   },
   {
    "duration": 0,
    "start_time": "2023-06-20T12:44:52.020Z"
   },
   {
    "duration": 0,
    "start_time": "2023-06-20T12:44:52.021Z"
   },
   {
    "duration": 0,
    "start_time": "2023-06-20T12:44:52.023Z"
   },
   {
    "duration": 0,
    "start_time": "2023-06-20T12:44:52.024Z"
   },
   {
    "duration": 0,
    "start_time": "2023-06-20T12:44:52.025Z"
   },
   {
    "duration": 0,
    "start_time": "2023-06-20T12:44:52.027Z"
   },
   {
    "duration": 0,
    "start_time": "2023-06-20T12:44:52.028Z"
   },
   {
    "duration": 27454,
    "start_time": "2023-06-20T12:47:34.900Z"
   },
   {
    "duration": 1530253,
    "start_time": "2023-06-20T12:48:24.154Z"
   },
   {
    "duration": 8,
    "start_time": "2023-06-20T13:15:24.615Z"
   },
   {
    "duration": 4,
    "start_time": "2023-06-20T13:15:25.442Z"
   },
   {
    "duration": 5,
    "start_time": "2023-06-20T13:15:26.561Z"
   },
   {
    "duration": 362,
    "start_time": "2023-06-20T13:15:29.598Z"
   },
   {
    "duration": 8,
    "start_time": "2023-06-20T13:15:32.442Z"
   },
   {
    "duration": 640,
    "start_time": "2023-06-20T13:15:57.969Z"
   },
   {
    "duration": 7,
    "start_time": "2023-06-20T13:15:59.020Z"
   },
   {
    "duration": 486,
    "start_time": "2023-06-20T13:16:33.555Z"
   },
   {
    "duration": 8,
    "start_time": "2023-06-20T13:16:35.846Z"
   },
   {
    "duration": 138,
    "start_time": "2023-06-20T13:16:44.295Z"
   },
   {
    "duration": 7,
    "start_time": "2023-06-20T13:16:45.398Z"
   },
   {
    "duration": 55,
    "start_time": "2023-06-20T13:16:56.396Z"
   },
   {
    "duration": 9,
    "start_time": "2023-06-20T13:16:57.508Z"
   },
   {
    "duration": 12,
    "start_time": "2023-06-20T13:17:57.552Z"
   },
   {
    "duration": 386,
    "start_time": "2023-06-20T13:21:52.498Z"
   },
   {
    "duration": 9,
    "start_time": "2023-06-20T13:21:55.219Z"
   },
   {
    "duration": 468,
    "start_time": "2023-06-20T13:23:50.405Z"
   },
   {
    "duration": 11,
    "start_time": "2023-06-20T13:23:53.152Z"
   },
   {
    "duration": 41373,
    "start_time": "2023-06-20T13:28:28.983Z"
   },
   {
    "duration": 16,
    "start_time": "2023-06-20T13:29:10.358Z"
   },
   {
    "duration": 24769,
    "start_time": "2023-06-20T13:29:31.986Z"
   },
   {
    "duration": 12,
    "start_time": "2023-06-20T13:29:56.758Z"
   },
   {
    "duration": 2805,
    "start_time": "2023-06-21T13:30:52.899Z"
   },
   {
    "duration": 772,
    "start_time": "2023-06-21T13:30:55.706Z"
   },
   {
    "duration": 36,
    "start_time": "2023-06-21T13:30:56.480Z"
   },
   {
    "duration": 50,
    "start_time": "2023-06-21T13:30:56.518Z"
   },
   {
    "duration": 28,
    "start_time": "2023-06-21T13:30:56.572Z"
   },
   {
    "duration": 283,
    "start_time": "2023-06-21T13:30:56.602Z"
   },
   {
    "duration": 147,
    "start_time": "2023-06-21T13:30:56.887Z"
   },
   {
    "duration": 284,
    "start_time": "2023-06-21T13:30:57.036Z"
   },
   {
    "duration": 37,
    "start_time": "2023-06-21T13:30:57.321Z"
   },
   {
    "duration": 19,
    "start_time": "2023-06-21T13:30:57.360Z"
   },
   {
    "duration": 10,
    "start_time": "2023-06-21T13:30:57.381Z"
   },
   {
    "duration": 69,
    "start_time": "2023-06-21T13:30:57.393Z"
   },
   {
    "duration": 8,
    "start_time": "2023-06-21T13:30:57.464Z"
   },
   {
    "duration": 16,
    "start_time": "2023-06-21T13:30:57.475Z"
   },
   {
    "duration": 28,
    "start_time": "2023-06-21T13:30:57.492Z"
   },
   {
    "duration": 64,
    "start_time": "2023-06-21T13:30:57.522Z"
   },
   {
    "duration": 75,
    "start_time": "2023-06-21T13:30:57.589Z"
   },
   {
    "duration": 19,
    "start_time": "2023-06-21T13:30:57.666Z"
   },
   {
    "duration": 9,
    "start_time": "2023-06-21T13:30:57.687Z"
   },
   {
    "duration": 966,
    "start_time": "2023-06-21T13:30:57.698Z"
   },
   {
    "duration": 8,
    "start_time": "2023-06-21T13:30:58.667Z"
   },
   {
    "duration": 955,
    "start_time": "2023-06-21T13:30:58.677Z"
   },
   {
    "duration": 10,
    "start_time": "2023-06-21T13:30:59.634Z"
   },
   {
    "duration": 798,
    "start_time": "2023-06-21T13:30:59.646Z"
   },
   {
    "duration": 988,
    "start_time": "2023-06-21T13:31:00.446Z"
   },
   {
    "duration": 796,
    "start_time": "2023-06-21T13:31:01.436Z"
   },
   {
    "duration": 991,
    "start_time": "2023-06-21T13:31:02.234Z"
   },
   {
    "duration": 475,
    "start_time": "2023-06-21T13:31:03.227Z"
   },
   {
    "duration": 476,
    "start_time": "2023-06-21T13:31:03.704Z"
   },
   {
    "duration": 210,
    "start_time": "2023-06-21T13:31:04.183Z"
   },
   {
    "duration": 828,
    "start_time": "2023-06-21T13:31:04.395Z"
   },
   {
    "duration": 4,
    "start_time": "2023-06-21T13:31:05.225Z"
   },
   {
    "duration": 20,
    "start_time": "2023-06-21T13:31:05.231Z"
   },
   {
    "duration": 13,
    "start_time": "2023-06-21T13:31:05.257Z"
   },
   {
    "duration": 27,
    "start_time": "2023-06-21T13:31:05.272Z"
   },
   {
    "duration": 22,
    "start_time": "2023-06-21T13:31:05.301Z"
   },
   {
    "duration": 30,
    "start_time": "2023-06-21T13:31:05.325Z"
   },
   {
    "duration": 30,
    "start_time": "2023-06-21T13:31:05.357Z"
   },
   {
    "duration": 6,
    "start_time": "2023-06-21T13:31:05.389Z"
   },
   {
    "duration": 23,
    "start_time": "2023-06-21T13:31:05.397Z"
   },
   {
    "duration": 32,
    "start_time": "2023-06-21T13:31:05.424Z"
   },
   {
    "duration": 36,
    "start_time": "2023-06-21T13:31:05.458Z"
   },
   {
    "duration": 689,
    "start_time": "2023-06-21T13:31:05.496Z"
   },
   {
    "duration": 3,
    "start_time": "2023-06-21T13:35:13.199Z"
   },
   {
    "duration": 5,
    "start_time": "2023-06-21T13:35:17.512Z"
   },
   {
    "duration": 82,
    "start_time": "2023-06-21T15:51:03.041Z"
   },
   {
    "duration": 42,
    "start_time": "2023-06-21T15:54:30.213Z"
   },
   {
    "duration": 126,
    "start_time": "2023-06-21T15:54:34.214Z"
   },
   {
    "duration": 329,
    "start_time": "2023-06-21T15:55:08.453Z"
   },
   {
    "duration": 4,
    "start_time": "2023-06-21T15:55:50.331Z"
   },
   {
    "duration": 5,
    "start_time": "2023-06-21T15:55:52.341Z"
   },
   {
    "duration": 1493,
    "start_time": "2023-06-21T15:56:22.948Z"
   },
   {
    "duration": 1968,
    "start_time": "2023-06-21T15:56:24.443Z"
   },
   {
    "duration": 20,
    "start_time": "2023-06-21T15:56:26.413Z"
   },
   {
    "duration": 17,
    "start_time": "2023-06-21T15:56:26.435Z"
   },
   {
    "duration": 18,
    "start_time": "2023-06-21T15:56:26.453Z"
   },
   {
    "duration": 179,
    "start_time": "2023-06-21T15:56:26.472Z"
   },
   {
    "duration": 101,
    "start_time": "2023-06-21T15:56:26.652Z"
   },
   {
    "duration": 202,
    "start_time": "2023-06-21T15:56:26.754Z"
   },
   {
    "duration": 15,
    "start_time": "2023-06-21T15:56:26.957Z"
   },
   {
    "duration": 25,
    "start_time": "2023-06-21T15:56:26.974Z"
   },
   {
    "duration": 7,
    "start_time": "2023-06-21T15:56:27.001Z"
   },
   {
    "duration": 22,
    "start_time": "2023-06-21T15:56:27.009Z"
   },
   {
    "duration": 5,
    "start_time": "2023-06-21T15:56:27.032Z"
   },
   {
    "duration": 7,
    "start_time": "2023-06-21T15:56:27.038Z"
   },
   {
    "duration": 16,
    "start_time": "2023-06-21T15:56:27.046Z"
   },
   {
    "duration": 61,
    "start_time": "2023-06-21T15:56:27.063Z"
   },
   {
    "duration": 48,
    "start_time": "2023-06-21T15:56:27.125Z"
   },
   {
    "duration": 26,
    "start_time": "2023-06-21T15:56:27.174Z"
   },
   {
    "duration": 5,
    "start_time": "2023-06-21T15:56:27.201Z"
   },
   {
    "duration": 588,
    "start_time": "2023-06-21T15:56:27.208Z"
   },
   {
    "duration": 6,
    "start_time": "2023-06-21T15:56:27.799Z"
   },
   {
    "duration": 562,
    "start_time": "2023-06-21T15:56:27.806Z"
   },
   {
    "duration": 6,
    "start_time": "2023-06-21T15:56:28.370Z"
   },
   {
    "duration": 635,
    "start_time": "2023-06-21T15:56:28.378Z"
   },
   {
    "duration": 567,
    "start_time": "2023-06-21T15:56:29.015Z"
   },
   {
    "duration": 560,
    "start_time": "2023-06-21T15:56:29.584Z"
   },
   {
    "duration": 674,
    "start_time": "2023-06-21T15:56:30.146Z"
   },
   {
    "duration": 4,
    "start_time": "2023-06-21T15:56:30.823Z"
   },
   {
    "duration": 173,
    "start_time": "2023-06-21T15:56:30.829Z"
   },
   {
    "duration": 0,
    "start_time": "2023-06-21T15:56:31.004Z"
   },
   {
    "duration": 0,
    "start_time": "2023-06-21T15:56:31.005Z"
   },
   {
    "duration": 0,
    "start_time": "2023-06-21T15:56:31.006Z"
   },
   {
    "duration": 0,
    "start_time": "2023-06-21T15:56:31.007Z"
   },
   {
    "duration": 0,
    "start_time": "2023-06-21T15:56:31.008Z"
   },
   {
    "duration": 0,
    "start_time": "2023-06-21T15:56:31.009Z"
   },
   {
    "duration": 0,
    "start_time": "2023-06-21T15:56:31.010Z"
   },
   {
    "duration": 0,
    "start_time": "2023-06-21T15:56:31.011Z"
   },
   {
    "duration": 0,
    "start_time": "2023-06-21T15:56:31.011Z"
   },
   {
    "duration": 0,
    "start_time": "2023-06-21T15:56:31.012Z"
   },
   {
    "duration": 0,
    "start_time": "2023-06-21T15:56:31.014Z"
   },
   {
    "duration": 0,
    "start_time": "2023-06-21T15:56:31.014Z"
   },
   {
    "duration": 0,
    "start_time": "2023-06-21T15:56:31.015Z"
   },
   {
    "duration": 0,
    "start_time": "2023-06-21T15:56:31.016Z"
   },
   {
    "duration": 0,
    "start_time": "2023-06-21T15:56:31.017Z"
   },
   {
    "duration": 0,
    "start_time": "2023-06-21T15:56:31.017Z"
   },
   {
    "duration": 0,
    "start_time": "2023-06-21T15:56:31.018Z"
   },
   {
    "duration": 0,
    "start_time": "2023-06-21T15:56:31.019Z"
   },
   {
    "duration": 0,
    "start_time": "2023-06-21T15:56:31.021Z"
   },
   {
    "duration": 0,
    "start_time": "2023-06-21T15:56:31.021Z"
   },
   {
    "duration": 0,
    "start_time": "2023-06-21T15:56:31.022Z"
   },
   {
    "duration": 0,
    "start_time": "2023-06-21T15:56:31.024Z"
   },
   {
    "duration": 0,
    "start_time": "2023-06-21T15:56:31.025Z"
   },
   {
    "duration": 0,
    "start_time": "2023-06-21T15:56:31.026Z"
   },
   {
    "duration": 0,
    "start_time": "2023-06-21T15:56:31.027Z"
   },
   {
    "duration": 0,
    "start_time": "2023-06-21T15:56:31.028Z"
   },
   {
    "duration": 0,
    "start_time": "2023-06-21T15:56:31.029Z"
   },
   {
    "duration": 0,
    "start_time": "2023-06-21T15:56:31.030Z"
   },
   {
    "duration": 0,
    "start_time": "2023-06-21T15:56:31.031Z"
   },
   {
    "duration": 0,
    "start_time": "2023-06-21T15:56:31.032Z"
   },
   {
    "duration": 0,
    "start_time": "2023-06-21T15:56:31.033Z"
   },
   {
    "duration": 0,
    "start_time": "2023-06-21T15:56:31.034Z"
   },
   {
    "duration": 3,
    "start_time": "2023-06-21T15:59:58.241Z"
   },
   {
    "duration": 8,
    "start_time": "2023-06-21T16:00:00.709Z"
   },
   {
    "duration": 4,
    "start_time": "2023-06-21T16:01:09.475Z"
   },
   {
    "duration": 9,
    "start_time": "2023-06-21T16:01:10.204Z"
   },
   {
    "duration": 2883,
    "start_time": "2023-06-21T16:02:39.634Z"
   },
   {
    "duration": 209,
    "start_time": "2023-06-21T16:03:05.117Z"
   },
   {
    "duration": 4,
    "start_time": "2023-06-21T16:03:23.644Z"
   },
   {
    "duration": 8,
    "start_time": "2023-06-21T16:03:26.527Z"
   },
   {
    "duration": 8,
    "start_time": "2023-06-21T16:05:38.223Z"
   },
   {
    "duration": 2,
    "start_time": "2023-06-21T16:06:05.326Z"
   },
   {
    "duration": 7,
    "start_time": "2023-06-21T16:06:06.950Z"
   },
   {
    "duration": 4,
    "start_time": "2023-06-21T16:08:54.413Z"
   },
   {
    "duration": 7,
    "start_time": "2023-06-21T16:08:55.213Z"
   },
   {
    "duration": 3,
    "start_time": "2023-06-21T16:10:05.619Z"
   },
   {
    "duration": 7,
    "start_time": "2023-06-21T16:10:06.260Z"
   },
   {
    "duration": 3,
    "start_time": "2023-06-21T16:11:06.532Z"
   },
   {
    "duration": 8,
    "start_time": "2023-06-21T16:11:07.128Z"
   },
   {
    "duration": 3,
    "start_time": "2023-06-21T16:11:53.145Z"
   },
   {
    "duration": 8,
    "start_time": "2023-06-21T16:11:53.703Z"
   },
   {
    "duration": 3,
    "start_time": "2023-06-21T16:12:24.923Z"
   },
   {
    "duration": 8,
    "start_time": "2023-06-21T16:12:25.522Z"
   },
   {
    "duration": 1322,
    "start_time": "2023-06-21T16:13:54.537Z"
   },
   {
    "duration": 7,
    "start_time": "2023-06-21T16:17:06.144Z"
   },
   {
    "duration": 3,
    "start_time": "2023-06-21T16:18:10.720Z"
   },
   {
    "duration": 4343,
    "start_time": "2023-06-21T16:18:11.834Z"
   },
   {
    "duration": 3,
    "start_time": "2023-06-21T16:19:04.719Z"
   },
   {
    "duration": 28,
    "start_time": "2023-06-21T16:19:05.778Z"
   },
   {
    "duration": 3,
    "start_time": "2023-06-21T16:19:37.519Z"
   },
   {
    "duration": 17,
    "start_time": "2023-06-21T16:19:39.011Z"
   },
   {
    "duration": 6,
    "start_time": "2023-06-21T16:20:05.041Z"
   },
   {
    "duration": 17,
    "start_time": "2023-06-21T16:24:36.506Z"
   },
   {
    "duration": 4,
    "start_time": "2023-06-21T16:24:55.952Z"
   },
   {
    "duration": 4238,
    "start_time": "2023-06-21T16:24:58.644Z"
   },
   {
    "duration": 10,
    "start_time": "2023-06-21T16:25:42.613Z"
   },
   {
    "duration": 3,
    "start_time": "2023-06-21T16:26:07.120Z"
   },
   {
    "duration": 10,
    "start_time": "2023-06-21T16:26:08.114Z"
   },
   {
    "duration": 3703,
    "start_time": "2023-06-21T16:28:23.135Z"
   },
   {
    "duration": 370,
    "start_time": "2023-06-21T16:32:21.085Z"
   },
   {
    "duration": 278,
    "start_time": "2023-06-21T16:33:06.283Z"
   },
   {
    "duration": 177,
    "start_time": "2023-06-21T16:33:11.520Z"
   },
   {
    "duration": 88,
    "start_time": "2023-06-21T16:33:34.802Z"
   },
   {
    "duration": 10,
    "start_time": "2023-06-21T16:35:11.713Z"
   },
   {
    "duration": 9,
    "start_time": "2023-06-21T16:35:38.264Z"
   },
   {
    "duration": 10,
    "start_time": "2023-06-21T16:35:49.027Z"
   },
   {
    "duration": 20,
    "start_time": "2023-06-21T16:43:45.067Z"
   },
   {
    "duration": 534,
    "start_time": "2023-06-21T16:44:32.967Z"
   },
   {
    "duration": 669,
    "start_time": "2023-06-21T16:46:32.061Z"
   },
   {
    "duration": 532,
    "start_time": "2023-06-21T16:47:09.478Z"
   },
   {
    "duration": 604,
    "start_time": "2023-06-21T16:47:41.050Z"
   },
   {
    "duration": 3,
    "start_time": "2023-06-21T16:50:19.235Z"
   },
   {
    "duration": 732,
    "start_time": "2023-06-21T16:50:19.250Z"
   },
   {
    "duration": 20,
    "start_time": "2023-06-21T16:50:19.984Z"
   },
   {
    "duration": 25,
    "start_time": "2023-06-21T16:50:20.006Z"
   },
   {
    "duration": 46,
    "start_time": "2023-06-21T16:50:20.032Z"
   },
   {
    "duration": 202,
    "start_time": "2023-06-21T16:50:20.080Z"
   },
   {
    "duration": 121,
    "start_time": "2023-06-21T16:50:20.283Z"
   },
   {
    "duration": 223,
    "start_time": "2023-06-21T16:50:20.406Z"
   },
   {
    "duration": 16,
    "start_time": "2023-06-21T16:50:20.631Z"
   },
   {
    "duration": 24,
    "start_time": "2023-06-21T16:50:20.648Z"
   },
   {
    "duration": 7,
    "start_time": "2023-06-21T16:50:20.674Z"
   },
   {
    "duration": 38,
    "start_time": "2023-06-21T16:50:20.682Z"
   },
   {
    "duration": 5,
    "start_time": "2023-06-21T16:50:20.722Z"
   },
   {
    "duration": 44,
    "start_time": "2023-06-21T16:50:20.728Z"
   },
   {
    "duration": 19,
    "start_time": "2023-06-21T16:50:20.775Z"
   },
   {
    "duration": 28,
    "start_time": "2023-06-21T16:50:20.795Z"
   },
   {
    "duration": 49,
    "start_time": "2023-06-21T16:50:20.824Z"
   },
   {
    "duration": 29,
    "start_time": "2023-06-21T16:50:20.875Z"
   },
   {
    "duration": 6,
    "start_time": "2023-06-21T16:50:20.905Z"
   },
   {
    "duration": 565,
    "start_time": "2023-06-21T16:50:20.912Z"
   },
   {
    "duration": 20,
    "start_time": "2023-06-21T16:50:21.478Z"
   },
   {
    "duration": 683,
    "start_time": "2023-06-21T16:50:21.501Z"
   },
   {
    "duration": 6,
    "start_time": "2023-06-21T16:50:22.185Z"
   },
   {
    "duration": 534,
    "start_time": "2023-06-21T16:50:22.192Z"
   },
   {
    "duration": 623,
    "start_time": "2023-06-21T16:50:22.728Z"
   },
   {
    "duration": 552,
    "start_time": "2023-06-21T16:50:23.353Z"
   },
   {
    "duration": 640,
    "start_time": "2023-06-21T16:50:23.907Z"
   },
   {
    "duration": 31,
    "start_time": "2023-06-21T16:50:24.549Z"
   },
   {
    "duration": 545,
    "start_time": "2023-06-21T16:50:24.581Z"
   },
   {
    "duration": 351,
    "start_time": "2023-06-21T16:50:25.128Z"
   },
   {
    "duration": 438,
    "start_time": "2023-06-21T16:50:25.481Z"
   },
   {
    "duration": 194,
    "start_time": "2023-06-21T16:50:25.920Z"
   },
   {
    "duration": 540,
    "start_time": "2023-06-21T16:50:26.115Z"
   },
   {
    "duration": 3,
    "start_time": "2023-06-21T16:50:26.656Z"
   },
   {
    "duration": 13,
    "start_time": "2023-06-21T16:50:26.660Z"
   },
   {
    "duration": 4,
    "start_time": "2023-06-21T16:50:26.674Z"
   },
   {
    "duration": 9,
    "start_time": "2023-06-21T16:50:26.680Z"
   },
   {
    "duration": 11,
    "start_time": "2023-06-21T16:50:26.690Z"
   },
   {
    "duration": 6,
    "start_time": "2023-06-21T16:50:26.703Z"
   },
   {
    "duration": 12,
    "start_time": "2023-06-21T16:50:26.711Z"
   },
   {
    "duration": 4,
    "start_time": "2023-06-21T16:50:26.724Z"
   },
   {
    "duration": 4,
    "start_time": "2023-06-21T16:50:26.732Z"
   },
   {
    "duration": 11,
    "start_time": "2023-06-21T16:50:26.737Z"
   },
   {
    "duration": 14,
    "start_time": "2023-06-21T16:50:26.749Z"
   },
   {
    "duration": 625,
    "start_time": "2023-06-21T16:50:26.765Z"
   },
   {
    "duration": 30,
    "start_time": "2023-06-21T16:50:27.392Z"
   },
   {
    "duration": 27,
    "start_time": "2023-06-21T16:50:27.424Z"
   },
   {
    "duration": 6,
    "start_time": "2023-06-21T16:50:27.452Z"
   },
   {
    "duration": 8,
    "start_time": "2023-06-21T16:50:27.460Z"
   },
   {
    "duration": 4,
    "start_time": "2023-06-21T16:50:27.470Z"
   },
   {
    "duration": 26,
    "start_time": "2023-06-21T16:50:27.475Z"
   },
   {
    "duration": 10,
    "start_time": "2023-06-21T16:50:27.502Z"
   },
   {
    "duration": 11,
    "start_time": "2023-06-21T16:50:27.513Z"
   },
   {
    "duration": 2278,
    "start_time": "2023-06-21T16:50:27.525Z"
   },
   {
    "duration": 26451,
    "start_time": "2023-06-21T16:50:29.805Z"
   },
   {
    "duration": 1389,
    "start_time": "2023-06-21T17:04:31.383Z"
   },
   {
    "duration": 693,
    "start_time": "2023-06-21T17:04:32.774Z"
   },
   {
    "duration": 20,
    "start_time": "2023-06-21T17:04:33.469Z"
   },
   {
    "duration": 16,
    "start_time": "2023-06-21T17:04:33.499Z"
   },
   {
    "duration": 31,
    "start_time": "2023-06-21T17:04:33.517Z"
   },
   {
    "duration": 204,
    "start_time": "2023-06-21T17:04:33.549Z"
   },
   {
    "duration": 114,
    "start_time": "2023-06-21T17:04:33.754Z"
   },
   {
    "duration": 208,
    "start_time": "2023-06-21T17:04:33.870Z"
   },
   {
    "duration": 22,
    "start_time": "2023-06-21T17:04:34.080Z"
   },
   {
    "duration": 18,
    "start_time": "2023-06-21T17:04:34.104Z"
   },
   {
    "duration": 10,
    "start_time": "2023-06-21T17:04:34.124Z"
   },
   {
    "duration": 65,
    "start_time": "2023-06-21T17:04:34.135Z"
   },
   {
    "duration": 6,
    "start_time": "2023-06-21T17:04:34.202Z"
   },
   {
    "duration": 20,
    "start_time": "2023-06-21T17:04:34.210Z"
   },
   {
    "duration": 25,
    "start_time": "2023-06-21T17:04:34.231Z"
   },
   {
    "duration": 52,
    "start_time": "2023-06-21T17:04:34.258Z"
   },
   {
    "duration": 45,
    "start_time": "2023-06-21T17:04:34.312Z"
   },
   {
    "duration": 14,
    "start_time": "2023-06-21T17:04:34.358Z"
   },
   {
    "duration": 27,
    "start_time": "2023-06-21T17:04:34.373Z"
   },
   {
    "duration": 584,
    "start_time": "2023-06-21T17:04:34.402Z"
   },
   {
    "duration": 13,
    "start_time": "2023-06-21T17:04:34.987Z"
   },
   {
    "duration": 562,
    "start_time": "2023-06-21T17:04:35.001Z"
   },
   {
    "duration": 6,
    "start_time": "2023-06-21T17:04:35.565Z"
   },
   {
    "duration": 622,
    "start_time": "2023-06-21T17:04:35.573Z"
   },
   {
    "duration": 639,
    "start_time": "2023-06-21T17:04:36.197Z"
   },
   {
    "duration": 554,
    "start_time": "2023-06-21T17:04:36.838Z"
   },
   {
    "duration": 642,
    "start_time": "2023-06-21T17:04:37.399Z"
   },
   {
    "duration": 2,
    "start_time": "2023-06-21T17:04:38.045Z"
   },
   {
    "duration": 11,
    "start_time": "2023-06-21T17:04:38.049Z"
   },
   {
    "duration": 38,
    "start_time": "2023-06-21T17:04:38.061Z"
   },
   {
    "duration": 553,
    "start_time": "2023-06-21T17:04:38.101Z"
   },
   {
    "duration": 431,
    "start_time": "2023-06-21T17:04:38.655Z"
   },
   {
    "duration": 348,
    "start_time": "2023-06-21T17:04:39.088Z"
   },
   {
    "duration": 174,
    "start_time": "2023-06-21T17:04:39.437Z"
   },
   {
    "duration": 561,
    "start_time": "2023-06-21T17:04:39.613Z"
   },
   {
    "duration": 2,
    "start_time": "2023-06-21T17:04:40.176Z"
   },
   {
    "duration": 14,
    "start_time": "2023-06-21T17:04:40.179Z"
   },
   {
    "duration": 7,
    "start_time": "2023-06-21T17:04:40.194Z"
   },
   {
    "duration": 6,
    "start_time": "2023-06-21T17:04:40.202Z"
   },
   {
    "duration": 6,
    "start_time": "2023-06-21T17:04:40.209Z"
   },
   {
    "duration": 13,
    "start_time": "2023-06-21T17:04:40.216Z"
   },
   {
    "duration": 21,
    "start_time": "2023-06-21T17:04:40.230Z"
   },
   {
    "duration": 4,
    "start_time": "2023-06-21T17:04:40.253Z"
   },
   {
    "duration": 7,
    "start_time": "2023-06-21T17:04:40.258Z"
   },
   {
    "duration": 27,
    "start_time": "2023-06-21T17:04:40.266Z"
   },
   {
    "duration": 16,
    "start_time": "2023-06-21T17:04:40.294Z"
   },
   {
    "duration": 635,
    "start_time": "2023-06-21T17:04:40.312Z"
   },
   {
    "duration": 24,
    "start_time": "2023-06-21T17:04:40.948Z"
   },
   {
    "duration": 35,
    "start_time": "2023-06-21T17:04:40.974Z"
   },
   {
    "duration": 6,
    "start_time": "2023-06-21T17:04:41.011Z"
   },
   {
    "duration": 19,
    "start_time": "2023-06-21T17:04:41.018Z"
   },
   {
    "duration": 32,
    "start_time": "2023-06-21T17:04:41.038Z"
   },
   {
    "duration": 22,
    "start_time": "2023-06-21T17:04:41.072Z"
   },
   {
    "duration": 11,
    "start_time": "2023-06-21T17:04:41.095Z"
   },
   {
    "duration": 15,
    "start_time": "2023-06-21T17:04:41.107Z"
   },
   {
    "duration": 2478,
    "start_time": "2023-06-21T17:04:41.123Z"
   },
   {
    "duration": 27315,
    "start_time": "2023-06-21T17:04:43.602Z"
   },
   {
    "duration": 1601593,
    "start_time": "2023-06-21T17:05:10.919Z"
   },
   {
    "duration": 5,
    "start_time": "2023-06-21T17:31:52.514Z"
   },
   {
    "duration": 9,
    "start_time": "2023-06-21T17:31:52.520Z"
   },
   {
    "duration": 22,
    "start_time": "2023-06-21T17:31:52.530Z"
   },
   {
    "duration": 22669,
    "start_time": "2023-06-21T17:31:52.553Z"
   },
   {
    "duration": 6,
    "start_time": "2023-06-21T17:32:15.224Z"
   },
   {
    "duration": 620,
    "start_time": "2023-06-21T17:32:15.234Z"
   },
   {
    "duration": 128,
    "start_time": "2023-06-21T17:38:53.511Z"
   },
   {
    "duration": 108,
    "start_time": "2023-06-21T17:39:06.609Z"
   },
   {
    "duration": 16,
    "start_time": "2023-06-21T17:40:55.635Z"
   },
   {
    "duration": 12,
    "start_time": "2023-06-21T17:42:36.581Z"
   },
   {
    "duration": 145,
    "start_time": "2023-06-21T17:45:20.587Z"
   },
   {
    "duration": 2355,
    "start_time": "2023-06-21T17:45:44.363Z"
   },
   {
    "duration": 490,
    "start_time": "2023-06-21T17:46:35.207Z"
   },
   {
    "duration": 82,
    "start_time": "2023-06-21T17:57:59.801Z"
   },
   {
    "duration": 3,
    "start_time": "2023-06-21T17:59:48.952Z"
   },
   {
    "duration": 4,
    "start_time": "2023-06-21T18:01:17.140Z"
   },
   {
    "duration": 12,
    "start_time": "2023-06-21T18:14:14.072Z"
   },
   {
    "duration": 12,
    "start_time": "2023-06-21T18:16:01.618Z"
   },
   {
    "duration": 11,
    "start_time": "2023-06-21T18:16:23.136Z"
   },
   {
    "duration": 1738,
    "start_time": "2023-06-21T19:39:30.598Z"
   },
   {
    "duration": 2762,
    "start_time": "2023-06-21T19:39:32.339Z"
   },
   {
    "duration": 28,
    "start_time": "2023-06-21T19:39:35.103Z"
   },
   {
    "duration": 32,
    "start_time": "2023-06-21T19:39:35.133Z"
   },
   {
    "duration": 38,
    "start_time": "2023-06-21T19:39:35.171Z"
   },
   {
    "duration": 285,
    "start_time": "2023-06-21T19:39:35.211Z"
   },
   {
    "duration": 140,
    "start_time": "2023-06-21T19:39:35.497Z"
   },
   {
    "duration": 308,
    "start_time": "2023-06-21T19:39:35.638Z"
   },
   {
    "duration": 38,
    "start_time": "2023-06-21T19:39:35.948Z"
   },
   {
    "duration": 38,
    "start_time": "2023-06-21T19:39:35.988Z"
   },
   {
    "duration": 31,
    "start_time": "2023-06-21T19:39:36.028Z"
   },
   {
    "duration": 50,
    "start_time": "2023-06-21T19:39:36.061Z"
   },
   {
    "duration": 23,
    "start_time": "2023-06-21T19:39:36.113Z"
   },
   {
    "duration": 37,
    "start_time": "2023-06-21T19:39:36.140Z"
   },
   {
    "duration": 28,
    "start_time": "2023-06-21T19:39:36.179Z"
   },
   {
    "duration": 56,
    "start_time": "2023-06-21T19:39:36.208Z"
   },
   {
    "duration": 68,
    "start_time": "2023-06-21T19:39:36.274Z"
   },
   {
    "duration": 31,
    "start_time": "2023-06-21T19:39:36.345Z"
   },
   {
    "duration": 23,
    "start_time": "2023-06-21T19:39:36.380Z"
   },
   {
    "duration": 971,
    "start_time": "2023-06-21T19:39:36.405Z"
   },
   {
    "duration": 10,
    "start_time": "2023-06-21T19:39:37.380Z"
   },
   {
    "duration": 933,
    "start_time": "2023-06-21T19:39:37.392Z"
   },
   {
    "duration": 9,
    "start_time": "2023-06-21T19:39:38.328Z"
   },
   {
    "duration": 1000,
    "start_time": "2023-06-21T19:39:38.353Z"
   },
   {
    "duration": 789,
    "start_time": "2023-06-21T19:39:39.361Z"
   },
   {
    "duration": 833,
    "start_time": "2023-06-21T19:39:40.152Z"
   },
   {
    "duration": 1014,
    "start_time": "2023-06-21T19:39:40.987Z"
   },
   {
    "duration": 2,
    "start_time": "2023-06-21T19:39:42.003Z"
   },
   {
    "duration": 12,
    "start_time": "2023-06-21T19:39:42.007Z"
   },
   {
    "duration": 62,
    "start_time": "2023-06-21T19:39:42.020Z"
   },
   {
    "duration": 784,
    "start_time": "2023-06-21T19:39:42.084Z"
   },
   {
    "duration": 648,
    "start_time": "2023-06-21T19:39:42.875Z"
   },
   {
    "duration": 487,
    "start_time": "2023-06-21T19:39:43.525Z"
   },
   {
    "duration": 230,
    "start_time": "2023-06-21T19:39:44.014Z"
   },
   {
    "duration": 789,
    "start_time": "2023-06-21T19:39:44.261Z"
   },
   {
    "duration": 11,
    "start_time": "2023-06-21T19:39:45.056Z"
   },
   {
    "duration": 68,
    "start_time": "2023-06-21T19:39:45.069Z"
   },
   {
    "duration": 41,
    "start_time": "2023-06-21T19:39:45.140Z"
   },
   {
    "duration": 16,
    "start_time": "2023-06-21T19:39:45.183Z"
   },
   {
    "duration": 7,
    "start_time": "2023-06-21T19:39:45.201Z"
   },
   {
    "duration": 11,
    "start_time": "2023-06-21T19:39:45.214Z"
   },
   {
    "duration": 22,
    "start_time": "2023-06-21T19:39:45.227Z"
   },
   {
    "duration": 19,
    "start_time": "2023-06-21T19:39:45.257Z"
   },
   {
    "duration": 18,
    "start_time": "2023-06-21T19:39:45.280Z"
   },
   {
    "duration": 27,
    "start_time": "2023-06-21T19:39:45.300Z"
   },
   {
    "duration": 90,
    "start_time": "2023-06-21T19:39:45.331Z"
   },
   {
    "duration": 1006,
    "start_time": "2023-06-21T19:39:45.423Z"
   },
   {
    "duration": 55,
    "start_time": "2023-06-21T19:39:46.432Z"
   },
   {
    "duration": 42,
    "start_time": "2023-06-21T19:39:46.490Z"
   },
   {
    "duration": 25,
    "start_time": "2023-06-21T19:39:46.535Z"
   },
   {
    "duration": 44,
    "start_time": "2023-06-21T19:39:46.562Z"
   },
   {
    "duration": 22,
    "start_time": "2023-06-21T19:39:46.608Z"
   },
   {
    "duration": 62,
    "start_time": "2023-06-21T19:39:46.632Z"
   },
   {
    "duration": 31,
    "start_time": "2023-06-21T19:39:46.696Z"
   },
   {
    "duration": 57,
    "start_time": "2023-06-21T19:39:46.729Z"
   },
   {
    "duration": 5582,
    "start_time": "2023-06-21T19:39:46.788Z"
   },
   {
    "duration": 28531,
    "start_time": "2023-06-21T19:39:52.380Z"
   },
   {
    "duration": 1653,
    "start_time": "2023-06-21T19:58:37.551Z"
   },
   {
    "duration": 906,
    "start_time": "2023-06-21T19:58:39.206Z"
   },
   {
    "duration": 28,
    "start_time": "2023-06-21T19:58:40.114Z"
   },
   {
    "duration": 28,
    "start_time": "2023-06-21T19:58:40.165Z"
   },
   {
    "duration": 35,
    "start_time": "2023-06-21T19:58:40.195Z"
   },
   {
    "duration": 280,
    "start_time": "2023-06-21T19:58:40.233Z"
   },
   {
    "duration": 161,
    "start_time": "2023-06-21T19:58:40.516Z"
   },
   {
    "duration": 259,
    "start_time": "2023-06-21T19:58:40.679Z"
   },
   {
    "duration": 25,
    "start_time": "2023-06-21T19:58:40.940Z"
   },
   {
    "duration": 28,
    "start_time": "2023-06-21T19:58:40.971Z"
   },
   {
    "duration": 10,
    "start_time": "2023-06-21T19:58:41.000Z"
   },
   {
    "duration": 30,
    "start_time": "2023-06-21T19:58:41.011Z"
   },
   {
    "duration": 20,
    "start_time": "2023-06-21T19:58:41.054Z"
   },
   {
    "duration": 15,
    "start_time": "2023-06-21T19:58:41.082Z"
   },
   {
    "duration": 22,
    "start_time": "2023-06-21T19:58:41.099Z"
   },
   {
    "duration": 49,
    "start_time": "2023-06-21T19:58:41.123Z"
   },
   {
    "duration": 65,
    "start_time": "2023-06-21T19:58:41.173Z"
   },
   {
    "duration": 26,
    "start_time": "2023-06-21T19:58:41.263Z"
   },
   {
    "duration": 7,
    "start_time": "2023-06-21T19:58:41.291Z"
   },
   {
    "duration": 919,
    "start_time": "2023-06-21T19:58:41.299Z"
   },
   {
    "duration": 7,
    "start_time": "2023-06-21T19:58:42.220Z"
   },
   {
    "duration": 808,
    "start_time": "2023-06-21T19:58:42.229Z"
   },
   {
    "duration": 18,
    "start_time": "2023-06-21T19:58:43.039Z"
   },
   {
    "duration": 1061,
    "start_time": "2023-06-21T19:58:43.059Z"
   },
   {
    "duration": 889,
    "start_time": "2023-06-21T19:58:44.122Z"
   },
   {
    "duration": 1031,
    "start_time": "2023-06-21T19:58:45.013Z"
   },
   {
    "duration": 827,
    "start_time": "2023-06-21T19:58:46.054Z"
   },
   {
    "duration": 3,
    "start_time": "2023-06-21T19:58:46.887Z"
   },
   {
    "duration": 10,
    "start_time": "2023-06-21T19:58:46.892Z"
   },
   {
    "duration": 57,
    "start_time": "2023-06-21T19:58:46.904Z"
   },
   {
    "duration": 857,
    "start_time": "2023-06-21T19:58:46.962Z"
   },
   {
    "duration": 105,
    "start_time": "2023-06-21T19:58:47.821Z"
   },
   {
    "duration": 0,
    "start_time": "2023-06-21T19:58:47.928Z"
   },
   {
    "duration": 0,
    "start_time": "2023-06-21T19:58:47.929Z"
   },
   {
    "duration": 0,
    "start_time": "2023-06-21T19:58:47.934Z"
   },
   {
    "duration": 0,
    "start_time": "2023-06-21T19:58:47.934Z"
   },
   {
    "duration": 0,
    "start_time": "2023-06-21T19:58:47.935Z"
   },
   {
    "duration": 0,
    "start_time": "2023-06-21T19:58:47.937Z"
   },
   {
    "duration": 0,
    "start_time": "2023-06-21T19:58:47.938Z"
   },
   {
    "duration": 0,
    "start_time": "2023-06-21T19:58:47.939Z"
   },
   {
    "duration": 0,
    "start_time": "2023-06-21T19:58:47.940Z"
   },
   {
    "duration": 0,
    "start_time": "2023-06-21T19:58:47.941Z"
   },
   {
    "duration": 0,
    "start_time": "2023-06-21T19:58:47.942Z"
   },
   {
    "duration": 0,
    "start_time": "2023-06-21T19:58:47.943Z"
   },
   {
    "duration": 0,
    "start_time": "2023-06-21T19:58:47.944Z"
   },
   {
    "duration": 0,
    "start_time": "2023-06-21T19:58:47.945Z"
   },
   {
    "duration": 0,
    "start_time": "2023-06-21T19:58:47.946Z"
   },
   {
    "duration": 0,
    "start_time": "2023-06-21T19:58:47.947Z"
   },
   {
    "duration": 0,
    "start_time": "2023-06-21T19:58:47.948Z"
   },
   {
    "duration": 0,
    "start_time": "2023-06-21T19:58:47.949Z"
   },
   {
    "duration": 0,
    "start_time": "2023-06-21T19:58:47.950Z"
   },
   {
    "duration": 0,
    "start_time": "2023-06-21T19:58:47.960Z"
   },
   {
    "duration": 1,
    "start_time": "2023-06-21T19:58:47.960Z"
   },
   {
    "duration": 0,
    "start_time": "2023-06-21T19:58:47.964Z"
   },
   {
    "duration": 0,
    "start_time": "2023-06-21T19:58:47.965Z"
   },
   {
    "duration": 132,
    "start_time": "2023-06-21T19:59:43.490Z"
   },
   {
    "duration": 1025,
    "start_time": "2023-06-21T20:05:12.462Z"
   },
   {
    "duration": 263,
    "start_time": "2023-06-21T20:09:30.028Z"
   },
   {
    "duration": 297,
    "start_time": "2023-06-21T20:09:49.013Z"
   },
   {
    "duration": 157,
    "start_time": "2023-06-21T20:10:20.678Z"
   },
   {
    "duration": 619,
    "start_time": "2023-06-21T20:11:23.181Z"
   },
   {
    "duration": 510,
    "start_time": "2023-06-21T20:14:28.708Z"
   },
   {
    "duration": 292,
    "start_time": "2023-06-21T20:14:46.596Z"
   },
   {
    "duration": 329,
    "start_time": "2023-06-21T20:15:33.240Z"
   },
   {
    "duration": 269,
    "start_time": "2023-06-21T20:16:02.506Z"
   },
   {
    "duration": 391,
    "start_time": "2023-06-21T20:16:11.372Z"
   },
   {
    "duration": 343,
    "start_time": "2023-06-21T20:16:20.904Z"
   },
   {
    "duration": 331,
    "start_time": "2023-06-21T20:17:00.789Z"
   },
   {
    "duration": 346,
    "start_time": "2023-06-21T20:17:58.737Z"
   },
   {
    "duration": 87,
    "start_time": "2023-06-21T20:18:51.476Z"
   },
   {
    "duration": 203,
    "start_time": "2023-06-21T20:20:39.383Z"
   },
   {
    "duration": 29,
    "start_time": "2023-06-21T20:33:46.676Z"
   },
   {
    "duration": 48,
    "start_time": "2023-06-21T20:34:35.439Z"
   },
   {
    "duration": 28,
    "start_time": "2023-06-21T20:35:50.688Z"
   },
   {
    "duration": 28,
    "start_time": "2023-06-21T20:35:59.735Z"
   },
   {
    "duration": 30,
    "start_time": "2023-06-21T20:36:33.881Z"
   },
   {
    "duration": 403,
    "start_time": "2023-06-21T20:38:27.840Z"
   },
   {
    "duration": 148,
    "start_time": "2023-06-21T20:38:41.691Z"
   },
   {
    "duration": 147,
    "start_time": "2023-06-21T20:44:52.895Z"
   },
   {
    "duration": 176,
    "start_time": "2023-06-21T20:45:13.251Z"
   },
   {
    "duration": 167,
    "start_time": "2023-06-21T20:45:57.791Z"
   },
   {
    "duration": 162,
    "start_time": "2023-06-21T20:52:28.742Z"
   },
   {
    "duration": 165,
    "start_time": "2023-06-21T20:52:57.146Z"
   },
   {
    "duration": 181,
    "start_time": "2023-06-21T20:55:21.408Z"
   },
   {
    "duration": 156,
    "start_time": "2023-06-21T20:55:46.621Z"
   },
   {
    "duration": 164,
    "start_time": "2023-06-21T20:56:04.878Z"
   },
   {
    "duration": 289,
    "start_time": "2023-06-21T20:58:44.735Z"
   },
   {
    "duration": 158,
    "start_time": "2023-06-21T20:59:35.979Z"
   },
   {
    "duration": 199,
    "start_time": "2023-06-21T21:00:12.878Z"
   },
   {
    "duration": 176,
    "start_time": "2023-06-21T21:02:45.941Z"
   },
   {
    "duration": 166,
    "start_time": "2023-06-21T21:02:59.716Z"
   },
   {
    "duration": 157,
    "start_time": "2023-06-21T21:03:08.983Z"
   },
   {
    "duration": 204,
    "start_time": "2023-06-21T21:04:19.509Z"
   },
   {
    "duration": 925,
    "start_time": "2023-06-21T21:06:42.810Z"
   },
   {
    "duration": 857,
    "start_time": "2023-06-21T21:11:09.424Z"
   },
   {
    "duration": 748,
    "start_time": "2023-06-21T21:11:19.401Z"
   },
   {
    "duration": 1105,
    "start_time": "2023-06-21T21:11:35.898Z"
   },
   {
    "duration": 2003,
    "start_time": "2023-06-21T21:41:18.631Z"
   },
   {
    "duration": 2014,
    "start_time": "2023-06-21T21:42:06.845Z"
   },
   {
    "duration": 6,
    "start_time": "2023-06-21T21:42:32.786Z"
   },
   {
    "duration": 2085,
    "start_time": "2023-06-21T21:42:37.915Z"
   },
   {
    "duration": 1928,
    "start_time": "2023-06-21T21:43:14.500Z"
   },
   {
    "duration": 3326,
    "start_time": "2023-06-21T21:45:08.406Z"
   },
   {
    "duration": 39,
    "start_time": "2023-06-21T21:46:09.199Z"
   },
   {
    "duration": 14,
    "start_time": "2023-06-21T21:47:27.801Z"
   },
   {
    "duration": 1838,
    "start_time": "2023-06-21T21:48:19.280Z"
   },
   {
    "duration": 929,
    "start_time": "2023-06-21T21:48:21.120Z"
   },
   {
    "duration": 48,
    "start_time": "2023-06-21T21:48:22.051Z"
   },
   {
    "duration": 22,
    "start_time": "2023-06-21T21:48:22.108Z"
   },
   {
    "duration": 26,
    "start_time": "2023-06-21T21:48:22.133Z"
   },
   {
    "duration": 292,
    "start_time": "2023-06-21T21:48:22.163Z"
   },
   {
    "duration": 151,
    "start_time": "2023-06-21T21:48:22.459Z"
   },
   {
    "duration": 298,
    "start_time": "2023-06-21T21:48:22.612Z"
   },
   {
    "duration": 19,
    "start_time": "2023-06-21T21:48:22.912Z"
   },
   {
    "duration": 44,
    "start_time": "2023-06-21T21:48:22.934Z"
   },
   {
    "duration": 14,
    "start_time": "2023-06-21T21:48:22.979Z"
   },
   {
    "duration": 57,
    "start_time": "2023-06-21T21:48:22.995Z"
   },
   {
    "duration": 17,
    "start_time": "2023-06-21T21:48:23.054Z"
   },
   {
    "duration": 46,
    "start_time": "2023-06-21T21:48:23.072Z"
   },
   {
    "duration": 23,
    "start_time": "2023-06-21T21:48:23.120Z"
   },
   {
    "duration": 50,
    "start_time": "2023-06-21T21:48:23.145Z"
   },
   {
    "duration": 89,
    "start_time": "2023-06-21T21:48:23.196Z"
   },
   {
    "duration": 28,
    "start_time": "2023-06-21T21:48:23.287Z"
   },
   {
    "duration": 85,
    "start_time": "2023-06-21T21:48:23.317Z"
   },
   {
    "duration": 1011,
    "start_time": "2023-06-21T21:48:23.407Z"
   },
   {
    "duration": 10,
    "start_time": "2023-06-21T21:48:24.420Z"
   },
   {
    "duration": 967,
    "start_time": "2023-06-21T21:48:24.431Z"
   },
   {
    "duration": 16,
    "start_time": "2023-06-21T21:48:25.400Z"
   },
   {
    "duration": 1036,
    "start_time": "2023-06-21T21:48:25.418Z"
   },
   {
    "duration": 860,
    "start_time": "2023-06-21T21:48:26.456Z"
   },
   {
    "duration": 1074,
    "start_time": "2023-06-21T21:48:27.318Z"
   },
   {
    "duration": 902,
    "start_time": "2023-06-21T21:48:28.400Z"
   },
   {
    "duration": 3,
    "start_time": "2023-06-21T21:48:29.305Z"
   },
   {
    "duration": 9,
    "start_time": "2023-06-21T21:48:29.310Z"
   },
   {
    "duration": 68,
    "start_time": "2023-06-21T21:48:29.321Z"
   },
   {
    "duration": 822,
    "start_time": "2023-06-21T21:48:29.395Z"
   },
   {
    "duration": 597,
    "start_time": "2023-06-21T21:48:30.219Z"
   },
   {
    "duration": 215,
    "start_time": "2023-06-21T21:48:30.817Z"
   },
   {
    "duration": 871,
    "start_time": "2023-06-21T21:48:31.034Z"
   },
   {
    "duration": 3,
    "start_time": "2023-06-21T21:48:31.907Z"
   },
   {
    "duration": 37,
    "start_time": "2023-06-21T21:48:31.912Z"
   },
   {
    "duration": 60,
    "start_time": "2023-06-21T21:48:31.951Z"
   },
   {
    "duration": 46,
    "start_time": "2023-06-21T21:48:32.013Z"
   },
   {
    "duration": 12,
    "start_time": "2023-06-21T21:48:32.061Z"
   },
   {
    "duration": 58,
    "start_time": "2023-06-21T21:48:32.075Z"
   },
   {
    "duration": 55,
    "start_time": "2023-06-21T21:48:32.134Z"
   },
   {
    "duration": 21,
    "start_time": "2023-06-21T21:48:32.191Z"
   },
   {
    "duration": 22,
    "start_time": "2023-06-21T21:48:32.214Z"
   },
   {
    "duration": 55,
    "start_time": "2023-06-21T21:48:32.238Z"
   },
   {
    "duration": 9305,
    "start_time": "2023-06-21T21:48:32.295Z"
   },
   {
    "duration": 147,
    "start_time": "2023-06-21T21:56:00.152Z"
   },
   {
    "duration": 12,
    "start_time": "2023-06-21T21:56:26.726Z"
   },
   {
    "duration": 23,
    "start_time": "2023-06-21T21:57:03.898Z"
   },
   {
    "duration": 19,
    "start_time": "2023-06-21T21:57:27.003Z"
   },
   {
    "duration": 23,
    "start_time": "2023-06-21T21:58:07.076Z"
   },
   {
    "duration": 43,
    "start_time": "2023-06-21T21:58:23.875Z"
   },
   {
    "duration": 20,
    "start_time": "2023-06-21T21:58:57.942Z"
   },
   {
    "duration": 70,
    "start_time": "2023-06-21T21:58:57.965Z"
   },
   {
    "duration": 22,
    "start_time": "2023-06-21T21:58:58.037Z"
   },
   {
    "duration": 0,
    "start_time": "2023-06-21T21:58:58.062Z"
   },
   {
    "duration": 0,
    "start_time": "2023-06-21T21:58:58.063Z"
   },
   {
    "duration": 0,
    "start_time": "2023-06-21T21:58:58.064Z"
   },
   {
    "duration": 0,
    "start_time": "2023-06-21T21:58:58.066Z"
   },
   {
    "duration": 0,
    "start_time": "2023-06-21T21:58:58.067Z"
   },
   {
    "duration": 0,
    "start_time": "2023-06-21T21:58:58.068Z"
   },
   {
    "duration": 0,
    "start_time": "2023-06-21T21:58:58.070Z"
   },
   {
    "duration": 19,
    "start_time": "2023-06-21T22:00:12.192Z"
   },
   {
    "duration": 15,
    "start_time": "2023-06-21T22:02:43.088Z"
   },
   {
    "duration": 43,
    "start_time": "2023-06-21T22:02:43.105Z"
   },
   {
    "duration": 21,
    "start_time": "2023-06-21T22:02:43.150Z"
   },
   {
    "duration": 39,
    "start_time": "2023-06-21T22:02:43.175Z"
   },
   {
    "duration": 0,
    "start_time": "2023-06-21T22:02:43.216Z"
   },
   {
    "duration": 0,
    "start_time": "2023-06-21T22:02:43.217Z"
   },
   {
    "duration": 0,
    "start_time": "2023-06-21T22:02:43.218Z"
   },
   {
    "duration": 0,
    "start_time": "2023-06-21T22:02:43.220Z"
   },
   {
    "duration": 0,
    "start_time": "2023-06-21T22:02:43.221Z"
   },
   {
    "duration": 0,
    "start_time": "2023-06-21T22:02:43.222Z"
   },
   {
    "duration": 0,
    "start_time": "2023-06-21T22:02:43.223Z"
   },
   {
    "duration": 1645,
    "start_time": "2023-06-21T22:03:50.188Z"
   },
   {
    "duration": 885,
    "start_time": "2023-06-21T22:03:51.835Z"
   },
   {
    "duration": 43,
    "start_time": "2023-06-21T22:03:52.722Z"
   },
   {
    "duration": 28,
    "start_time": "2023-06-21T22:03:52.767Z"
   },
   {
    "duration": 28,
    "start_time": "2023-06-21T22:03:52.797Z"
   },
   {
    "duration": 283,
    "start_time": "2023-06-21T22:03:52.827Z"
   },
   {
    "duration": 177,
    "start_time": "2023-06-21T22:03:53.113Z"
   },
   {
    "duration": 281,
    "start_time": "2023-06-21T22:03:53.292Z"
   },
   {
    "duration": 24,
    "start_time": "2023-06-21T22:03:53.574Z"
   },
   {
    "duration": 18,
    "start_time": "2023-06-21T22:03:53.602Z"
   },
   {
    "duration": 57,
    "start_time": "2023-06-21T22:03:53.622Z"
   },
   {
    "duration": 33,
    "start_time": "2023-06-21T22:03:53.680Z"
   },
   {
    "duration": 10,
    "start_time": "2023-06-21T22:03:53.715Z"
   },
   {
    "duration": 9,
    "start_time": "2023-06-21T22:03:53.727Z"
   },
   {
    "duration": 75,
    "start_time": "2023-06-21T22:03:53.738Z"
   },
   {
    "duration": 79,
    "start_time": "2023-06-21T22:03:53.815Z"
   },
   {
    "duration": 95,
    "start_time": "2023-06-21T22:03:53.897Z"
   },
   {
    "duration": 19,
    "start_time": "2023-06-21T22:03:53.994Z"
   },
   {
    "duration": 8,
    "start_time": "2023-06-21T22:03:54.015Z"
   },
   {
    "duration": 919,
    "start_time": "2023-06-21T22:03:54.025Z"
   },
   {
    "duration": 20,
    "start_time": "2023-06-21T22:03:54.946Z"
   },
   {
    "duration": 940,
    "start_time": "2023-06-21T22:03:54.971Z"
   },
   {
    "duration": 9,
    "start_time": "2023-06-21T22:03:55.913Z"
   },
   {
    "duration": 1012,
    "start_time": "2023-06-21T22:03:55.924Z"
   },
   {
    "duration": 848,
    "start_time": "2023-06-21T22:03:56.939Z"
   },
   {
    "duration": 1079,
    "start_time": "2023-06-21T22:03:57.791Z"
   },
   {
    "duration": 855,
    "start_time": "2023-06-21T22:03:58.872Z"
   },
   {
    "duration": 7,
    "start_time": "2023-06-21T22:03:59.733Z"
   },
   {
    "duration": 27,
    "start_time": "2023-06-21T22:03:59.742Z"
   },
   {
    "duration": 62,
    "start_time": "2023-06-21T22:03:59.775Z"
   },
   {
    "duration": 841,
    "start_time": "2023-06-21T22:03:59.838Z"
   },
   {
    "duration": 637,
    "start_time": "2023-06-21T22:04:00.685Z"
   },
   {
    "duration": 258,
    "start_time": "2023-06-21T22:04:01.325Z"
   },
   {
    "duration": 826,
    "start_time": "2023-06-21T22:04:01.587Z"
   },
   {
    "duration": 3,
    "start_time": "2023-06-21T22:04:02.415Z"
   },
   {
    "duration": 38,
    "start_time": "2023-06-21T22:04:02.420Z"
   },
   {
    "duration": 73,
    "start_time": "2023-06-21T22:04:02.463Z"
   },
   {
    "duration": 26,
    "start_time": "2023-06-21T22:04:02.538Z"
   },
   {
    "duration": 85,
    "start_time": "2023-06-21T22:04:02.566Z"
   },
   {
    "duration": 25,
    "start_time": "2023-06-21T22:04:02.654Z"
   },
   {
    "duration": 57,
    "start_time": "2023-06-21T22:04:02.681Z"
   },
   {
    "duration": 56,
    "start_time": "2023-06-21T22:04:02.741Z"
   },
   {
    "duration": 41,
    "start_time": "2023-06-21T22:04:02.799Z"
   },
   {
    "duration": 64,
    "start_time": "2023-06-21T22:04:02.842Z"
   },
   {
    "duration": 19,
    "start_time": "2023-06-21T22:04:02.908Z"
   },
   {
    "duration": 8731,
    "start_time": "2023-06-21T22:04:02.929Z"
   },
   {
    "duration": 126,
    "start_time": "2023-06-21T22:07:36.696Z"
   },
   {
    "duration": 149,
    "start_time": "2023-06-21T22:07:53.180Z"
   },
   {
    "duration": 25,
    "start_time": "2023-06-21T22:10:31.088Z"
   },
   {
    "duration": 15,
    "start_time": "2023-06-21T22:12:11.805Z"
   },
   {
    "duration": 21,
    "start_time": "2023-06-21T22:12:59.226Z"
   },
   {
    "duration": 15,
    "start_time": "2023-06-21T22:14:00.211Z"
   },
   {
    "duration": 15,
    "start_time": "2023-06-21T22:16:04.383Z"
   },
   {
    "duration": 16,
    "start_time": "2023-06-21T22:17:17.299Z"
   },
   {
    "duration": 1685,
    "start_time": "2023-06-21T22:17:52.195Z"
   },
   {
    "duration": 837,
    "start_time": "2023-06-21T22:17:53.883Z"
   },
   {
    "duration": 42,
    "start_time": "2023-06-21T22:17:54.722Z"
   },
   {
    "duration": 26,
    "start_time": "2023-06-21T22:17:54.769Z"
   },
   {
    "duration": 22,
    "start_time": "2023-06-21T22:17:54.798Z"
   },
   {
    "duration": 282,
    "start_time": "2023-06-21T22:17:54.822Z"
   },
   {
    "duration": 151,
    "start_time": "2023-06-21T22:17:55.106Z"
   },
   {
    "duration": 329,
    "start_time": "2023-06-21T22:17:55.259Z"
   },
   {
    "duration": 18,
    "start_time": "2023-06-21T22:17:55.590Z"
   },
   {
    "duration": 29,
    "start_time": "2023-06-21T22:17:55.611Z"
   },
   {
    "duration": 9,
    "start_time": "2023-06-21T22:17:55.642Z"
   },
   {
    "duration": 49,
    "start_time": "2023-06-21T22:17:55.662Z"
   },
   {
    "duration": 8,
    "start_time": "2023-06-21T22:17:55.713Z"
   },
   {
    "duration": 9,
    "start_time": "2023-06-21T22:17:55.723Z"
   },
   {
    "duration": 36,
    "start_time": "2023-06-21T22:17:55.734Z"
   },
   {
    "duration": 48,
    "start_time": "2023-06-21T22:17:55.776Z"
   },
   {
    "duration": 73,
    "start_time": "2023-06-21T22:17:55.826Z"
   },
   {
    "duration": 19,
    "start_time": "2023-06-21T22:17:55.900Z"
   },
   {
    "duration": 13,
    "start_time": "2023-06-21T22:17:55.922Z"
   },
   {
    "duration": 907,
    "start_time": "2023-06-21T22:17:55.936Z"
   },
   {
    "duration": 20,
    "start_time": "2023-06-21T22:17:56.845Z"
   },
   {
    "duration": 811,
    "start_time": "2023-06-21T22:17:56.869Z"
   },
   {
    "duration": 8,
    "start_time": "2023-06-21T22:17:57.686Z"
   },
   {
    "duration": 991,
    "start_time": "2023-06-21T22:17:57.696Z"
   },
   {
    "duration": 750,
    "start_time": "2023-06-21T22:17:58.689Z"
   },
   {
    "duration": 899,
    "start_time": "2023-06-21T22:17:59.441Z"
   },
   {
    "duration": 780,
    "start_time": "2023-06-21T22:18:00.342Z"
   },
   {
    "duration": 2,
    "start_time": "2023-06-21T22:18:01.126Z"
   },
   {
    "duration": 133,
    "start_time": "2023-06-21T22:18:01.132Z"
   },
   {
    "duration": 125,
    "start_time": "2023-06-21T22:18:01.267Z"
   },
   {
    "duration": 899,
    "start_time": "2023-06-21T22:18:01.395Z"
   },
   {
    "duration": 590,
    "start_time": "2023-06-21T22:18:02.296Z"
   },
   {
    "duration": 218,
    "start_time": "2023-06-21T22:18:02.889Z"
   },
   {
    "duration": 804,
    "start_time": "2023-06-21T22:18:03.109Z"
   },
   {
    "duration": 2,
    "start_time": "2023-06-21T22:18:03.915Z"
   },
   {
    "duration": 44,
    "start_time": "2023-06-21T22:18:03.918Z"
   },
   {
    "duration": 48,
    "start_time": "2023-06-21T22:18:03.964Z"
   },
   {
    "duration": 19,
    "start_time": "2023-06-21T22:18:04.013Z"
   },
   {
    "duration": 8,
    "start_time": "2023-06-21T22:18:04.034Z"
   },
   {
    "duration": 140,
    "start_time": "2023-06-21T22:18:04.055Z"
   },
   {
    "duration": 0,
    "start_time": "2023-06-21T22:18:04.196Z"
   },
   {
    "duration": 0,
    "start_time": "2023-06-21T22:18:04.198Z"
   },
   {
    "duration": 0,
    "start_time": "2023-06-21T22:18:04.199Z"
   },
   {
    "duration": 0,
    "start_time": "2023-06-21T22:18:04.200Z"
   },
   {
    "duration": 0,
    "start_time": "2023-06-21T22:18:04.201Z"
   },
   {
    "duration": 0,
    "start_time": "2023-06-21T22:18:04.202Z"
   },
   {
    "duration": 0,
    "start_time": "2023-06-21T22:18:04.203Z"
   },
   {
    "duration": 14,
    "start_time": "2023-06-21T22:18:40.090Z"
   },
   {
    "duration": 10,
    "start_time": "2023-06-21T22:18:57.384Z"
   },
   {
    "duration": 0,
    "start_time": "2023-06-21T22:18:57.395Z"
   },
   {
    "duration": 0,
    "start_time": "2023-06-21T22:18:57.397Z"
   },
   {
    "duration": 0,
    "start_time": "2023-06-21T22:18:57.398Z"
   },
   {
    "duration": 88,
    "start_time": "2023-06-21T22:18:57.400Z"
   },
   {
    "duration": 0,
    "start_time": "2023-06-21T22:18:57.489Z"
   },
   {
    "duration": 0,
    "start_time": "2023-06-21T22:18:57.491Z"
   },
   {
    "duration": 0,
    "start_time": "2023-06-21T22:18:57.492Z"
   },
   {
    "duration": 0,
    "start_time": "2023-06-21T22:18:57.493Z"
   },
   {
    "duration": 0,
    "start_time": "2023-06-21T22:18:57.494Z"
   },
   {
    "duration": 1912,
    "start_time": "2023-06-21T22:19:23.738Z"
   },
   {
    "duration": 886,
    "start_time": "2023-06-21T22:19:25.658Z"
   },
   {
    "duration": 41,
    "start_time": "2023-06-21T22:19:26.546Z"
   },
   {
    "duration": 33,
    "start_time": "2023-06-21T22:19:26.589Z"
   },
   {
    "duration": 37,
    "start_time": "2023-06-21T22:19:26.624Z"
   },
   {
    "duration": 258,
    "start_time": "2023-06-21T22:19:26.663Z"
   },
   {
    "duration": 162,
    "start_time": "2023-06-21T22:19:26.923Z"
   },
   {
    "duration": 283,
    "start_time": "2023-06-21T22:19:27.087Z"
   },
   {
    "duration": 20,
    "start_time": "2023-06-21T22:19:27.378Z"
   },
   {
    "duration": 18,
    "start_time": "2023-06-21T22:19:27.402Z"
   },
   {
    "duration": 11,
    "start_time": "2023-06-21T22:19:27.422Z"
   },
   {
    "duration": 56,
    "start_time": "2023-06-21T22:19:27.435Z"
   },
   {
    "duration": 7,
    "start_time": "2023-06-21T22:19:27.493Z"
   },
   {
    "duration": 15,
    "start_time": "2023-06-21T22:19:27.502Z"
   },
   {
    "duration": 19,
    "start_time": "2023-06-21T22:19:27.519Z"
   },
   {
    "duration": 49,
    "start_time": "2023-06-21T22:19:27.553Z"
   },
   {
    "duration": 88,
    "start_time": "2023-06-21T22:19:27.604Z"
   },
   {
    "duration": 18,
    "start_time": "2023-06-21T22:19:27.693Z"
   },
   {
    "duration": 6,
    "start_time": "2023-06-21T22:19:27.713Z"
   },
   {
    "duration": 975,
    "start_time": "2023-06-21T22:19:27.721Z"
   },
   {
    "duration": 9,
    "start_time": "2023-06-21T22:19:28.698Z"
   },
   {
    "duration": 825,
    "start_time": "2023-06-21T22:19:28.709Z"
   },
   {
    "duration": 17,
    "start_time": "2023-06-21T22:19:29.536Z"
   },
   {
    "duration": 959,
    "start_time": "2023-06-21T22:19:29.555Z"
   },
   {
    "duration": 819,
    "start_time": "2023-06-21T22:19:30.517Z"
   },
   {
    "duration": 963,
    "start_time": "2023-06-21T22:19:31.339Z"
   },
   {
    "duration": 820,
    "start_time": "2023-06-21T22:19:32.304Z"
   },
   {
    "duration": 4,
    "start_time": "2023-06-21T22:19:33.128Z"
   },
   {
    "duration": 30,
    "start_time": "2023-06-21T22:19:33.134Z"
   },
   {
    "duration": 74,
    "start_time": "2023-06-21T22:19:33.172Z"
   },
   {
    "duration": 793,
    "start_time": "2023-06-21T22:19:33.247Z"
   },
   {
    "duration": 565,
    "start_time": "2023-06-21T22:19:34.043Z"
   },
   {
    "duration": 237,
    "start_time": "2023-06-21T22:19:34.610Z"
   },
   {
    "duration": 801,
    "start_time": "2023-06-21T22:19:34.849Z"
   },
   {
    "duration": 8,
    "start_time": "2023-06-21T22:19:35.656Z"
   },
   {
    "duration": 194,
    "start_time": "2023-06-21T22:19:35.666Z"
   },
   {
    "duration": 134,
    "start_time": "2023-06-21T22:19:35.862Z"
   },
   {
    "duration": 18,
    "start_time": "2023-06-21T22:19:35.998Z"
   },
   {
    "duration": 10,
    "start_time": "2023-06-21T22:19:36.018Z"
   },
   {
    "duration": 168,
    "start_time": "2023-06-21T22:19:36.029Z"
   },
   {
    "duration": 0,
    "start_time": "2023-06-21T22:19:36.198Z"
   },
   {
    "duration": 0,
    "start_time": "2023-06-21T22:19:36.200Z"
   },
   {
    "duration": 0,
    "start_time": "2023-06-21T22:19:36.201Z"
   },
   {
    "duration": 0,
    "start_time": "2023-06-21T22:19:36.202Z"
   },
   {
    "duration": 0,
    "start_time": "2023-06-21T22:19:36.203Z"
   },
   {
    "duration": 0,
    "start_time": "2023-06-21T22:19:36.204Z"
   },
   {
    "duration": 0,
    "start_time": "2023-06-21T22:19:36.205Z"
   },
   {
    "duration": 11,
    "start_time": "2023-06-21T22:20:04.514Z"
   },
   {
    "duration": 18,
    "start_time": "2023-06-21T22:20:31.841Z"
   },
   {
    "duration": 12,
    "start_time": "2023-06-21T22:21:25.309Z"
   },
   {
    "duration": 0,
    "start_time": "2023-06-21T22:21:25.322Z"
   },
   {
    "duration": 13,
    "start_time": "2023-06-21T22:21:25.329Z"
   },
   {
    "duration": 0,
    "start_time": "2023-06-21T22:21:25.345Z"
   },
   {
    "duration": 0,
    "start_time": "2023-06-21T22:21:25.347Z"
   },
   {
    "duration": 0,
    "start_time": "2023-06-21T22:21:25.349Z"
   },
   {
    "duration": 0,
    "start_time": "2023-06-21T22:21:25.350Z"
   },
   {
    "duration": 48,
    "start_time": "2023-06-21T22:21:25.357Z"
   },
   {
    "duration": 20,
    "start_time": "2023-06-21T22:21:25.408Z"
   },
   {
    "duration": 0,
    "start_time": "2023-06-21T22:21:25.429Z"
   },
   {
    "duration": 48,
    "start_time": "2023-06-21T22:22:00.988Z"
   },
   {
    "duration": 70,
    "start_time": "2023-06-21T22:22:01.038Z"
   },
   {
    "duration": 0,
    "start_time": "2023-06-21T22:22:01.111Z"
   },
   {
    "duration": 0,
    "start_time": "2023-06-21T22:22:01.112Z"
   },
   {
    "duration": 0,
    "start_time": "2023-06-21T22:22:01.114Z"
   },
   {
    "duration": 0,
    "start_time": "2023-06-21T22:22:01.115Z"
   },
   {
    "duration": 0,
    "start_time": "2023-06-21T22:22:01.117Z"
   },
   {
    "duration": 0,
    "start_time": "2023-06-21T22:22:01.124Z"
   },
   {
    "duration": 0,
    "start_time": "2023-06-21T22:22:01.128Z"
   },
   {
    "duration": 0,
    "start_time": "2023-06-21T22:22:01.129Z"
   },
   {
    "duration": 0,
    "start_time": "2023-06-21T22:22:01.131Z"
   },
   {
    "duration": 18,
    "start_time": "2023-06-21T22:22:20.051Z"
   },
   {
    "duration": 1774,
    "start_time": "2023-06-21T22:22:33.854Z"
   },
   {
    "duration": 905,
    "start_time": "2023-06-21T22:22:35.630Z"
   },
   {
    "duration": 45,
    "start_time": "2023-06-21T22:22:36.537Z"
   },
   {
    "duration": 31,
    "start_time": "2023-06-21T22:22:36.586Z"
   },
   {
    "duration": 29,
    "start_time": "2023-06-21T22:22:36.618Z"
   },
   {
    "duration": 282,
    "start_time": "2023-06-21T22:22:36.659Z"
   },
   {
    "duration": 170,
    "start_time": "2023-06-21T22:22:36.944Z"
   },
   {
    "duration": 309,
    "start_time": "2023-06-21T22:22:37.116Z"
   },
   {
    "duration": 35,
    "start_time": "2023-06-21T22:22:37.426Z"
   },
   {
    "duration": 22,
    "start_time": "2023-06-21T22:22:37.471Z"
   },
   {
    "duration": 40,
    "start_time": "2023-06-21T22:22:37.496Z"
   },
   {
    "duration": 41,
    "start_time": "2023-06-21T22:22:37.537Z"
   },
   {
    "duration": 14,
    "start_time": "2023-06-21T22:22:37.580Z"
   },
   {
    "duration": 10,
    "start_time": "2023-06-21T22:22:37.596Z"
   },
   {
    "duration": 19,
    "start_time": "2023-06-21T22:22:37.608Z"
   },
   {
    "duration": 72,
    "start_time": "2023-06-21T22:22:37.628Z"
   },
   {
    "duration": 71,
    "start_time": "2023-06-21T22:22:37.702Z"
   },
   {
    "duration": 27,
    "start_time": "2023-06-21T22:22:37.775Z"
   },
   {
    "duration": 9,
    "start_time": "2023-06-21T22:22:37.805Z"
   },
   {
    "duration": 1044,
    "start_time": "2023-06-21T22:22:37.816Z"
   },
   {
    "duration": 23,
    "start_time": "2023-06-21T22:22:38.862Z"
   },
   {
    "duration": 798,
    "start_time": "2023-06-21T22:22:38.888Z"
   },
   {
    "duration": 9,
    "start_time": "2023-06-21T22:22:39.688Z"
   },
   {
    "duration": 1033,
    "start_time": "2023-06-21T22:22:39.699Z"
   },
   {
    "duration": 866,
    "start_time": "2023-06-21T22:22:40.734Z"
   },
   {
    "duration": 937,
    "start_time": "2023-06-21T22:22:41.603Z"
   },
   {
    "duration": 812,
    "start_time": "2023-06-21T22:22:42.541Z"
   },
   {
    "duration": 9,
    "start_time": "2023-06-21T22:22:43.368Z"
   },
   {
    "duration": 24,
    "start_time": "2023-06-21T22:22:43.379Z"
   },
   {
    "duration": 77,
    "start_time": "2023-06-21T22:22:43.406Z"
   },
   {
    "duration": 761,
    "start_time": "2023-06-21T22:22:43.486Z"
   },
   {
    "duration": 559,
    "start_time": "2023-06-21T22:22:44.249Z"
   },
   {
    "duration": 260,
    "start_time": "2023-06-21T22:22:44.811Z"
   },
   {
    "duration": 794,
    "start_time": "2023-06-21T22:22:45.073Z"
   },
   {
    "duration": 11,
    "start_time": "2023-06-21T22:22:45.875Z"
   },
   {
    "duration": 17,
    "start_time": "2023-06-21T22:22:45.887Z"
   },
   {
    "duration": 41,
    "start_time": "2023-06-21T22:22:45.906Z"
   },
   {
    "duration": 30,
    "start_time": "2023-06-21T22:22:45.949Z"
   },
   {
    "duration": 13,
    "start_time": "2023-06-21T22:22:45.985Z"
   },
   {
    "duration": 140,
    "start_time": "2023-06-21T22:22:46.000Z"
   },
   {
    "duration": 0,
    "start_time": "2023-06-21T22:22:46.142Z"
   },
   {
    "duration": 0,
    "start_time": "2023-06-21T22:22:46.143Z"
   },
   {
    "duration": 0,
    "start_time": "2023-06-21T22:22:46.145Z"
   },
   {
    "duration": 0,
    "start_time": "2023-06-21T22:22:46.154Z"
   },
   {
    "duration": 0,
    "start_time": "2023-06-21T22:22:46.155Z"
   },
   {
    "duration": 0,
    "start_time": "2023-06-21T22:22:46.155Z"
   },
   {
    "duration": 0,
    "start_time": "2023-06-21T22:22:46.158Z"
   },
   {
    "duration": 2270,
    "start_time": "2023-06-22T05:54:55.300Z"
   },
   {
    "duration": 4199,
    "start_time": "2023-06-22T05:54:57.575Z"
   },
   {
    "duration": 36,
    "start_time": "2023-06-22T05:55:01.776Z"
   },
   {
    "duration": 288,
    "start_time": "2023-06-22T05:55:01.814Z"
   },
   {
    "duration": 93,
    "start_time": "2023-06-22T05:55:02.105Z"
   },
   {
    "duration": 384,
    "start_time": "2023-06-22T05:55:02.200Z"
   },
   {
    "duration": 224,
    "start_time": "2023-06-22T05:55:02.587Z"
   },
   {
    "duration": 357,
    "start_time": "2023-06-22T05:55:02.813Z"
   },
   {
    "duration": 24,
    "start_time": "2023-06-22T05:55:03.172Z"
   },
   {
    "duration": 30,
    "start_time": "2023-06-22T05:55:03.214Z"
   },
   {
    "duration": 10,
    "start_time": "2023-06-22T05:55:03.245Z"
   },
   {
    "duration": 36,
    "start_time": "2023-06-22T05:55:03.258Z"
   },
   {
    "duration": 30,
    "start_time": "2023-06-22T05:55:03.296Z"
   },
   {
    "duration": 18,
    "start_time": "2023-06-22T05:55:03.332Z"
   },
   {
    "duration": 20,
    "start_time": "2023-06-22T05:55:03.352Z"
   },
   {
    "duration": 68,
    "start_time": "2023-06-22T05:55:03.374Z"
   },
   {
    "duration": 72,
    "start_time": "2023-06-22T05:55:03.447Z"
   },
   {
    "duration": 32,
    "start_time": "2023-06-22T05:55:03.523Z"
   },
   {
    "duration": 10,
    "start_time": "2023-06-22T05:55:03.558Z"
   },
   {
    "duration": 1129,
    "start_time": "2023-06-22T05:55:03.570Z"
   },
   {
    "duration": 16,
    "start_time": "2023-06-22T05:55:04.701Z"
   },
   {
    "duration": 922,
    "start_time": "2023-06-22T05:55:04.723Z"
   },
   {
    "duration": 10,
    "start_time": "2023-06-22T05:55:05.647Z"
   },
   {
    "duration": 992,
    "start_time": "2023-06-22T05:55:05.659Z"
   },
   {
    "duration": 890,
    "start_time": "2023-06-22T05:55:06.654Z"
   },
   {
    "duration": 1011,
    "start_time": "2023-06-22T05:55:07.550Z"
   },
   {
    "duration": 936,
    "start_time": "2023-06-22T05:55:08.565Z"
   },
   {
    "duration": 3,
    "start_time": "2023-06-22T05:55:09.503Z"
   },
   {
    "duration": 28,
    "start_time": "2023-06-22T05:55:09.513Z"
   },
   {
    "duration": 84,
    "start_time": "2023-06-22T05:55:09.549Z"
   },
   {
    "duration": 1100,
    "start_time": "2023-06-22T05:55:09.635Z"
   },
   {
    "duration": 361,
    "start_time": "2023-06-22T05:55:10.737Z"
   },
   {
    "duration": 277,
    "start_time": "2023-06-22T05:55:11.100Z"
   },
   {
    "duration": 831,
    "start_time": "2023-06-22T05:55:11.379Z"
   },
   {
    "duration": 3,
    "start_time": "2023-06-22T05:55:12.213Z"
   },
   {
    "duration": 20,
    "start_time": "2023-06-22T05:55:12.218Z"
   },
   {
    "duration": 74,
    "start_time": "2023-06-22T05:55:12.243Z"
   },
   {
    "duration": 38,
    "start_time": "2023-06-22T05:55:12.327Z"
   },
   {
    "duration": 9,
    "start_time": "2023-06-22T05:55:12.367Z"
   },
   {
    "duration": 207,
    "start_time": "2023-06-22T05:55:12.378Z"
   },
   {
    "duration": 0,
    "start_time": "2023-06-22T05:55:12.588Z"
   },
   {
    "duration": 0,
    "start_time": "2023-06-22T05:55:12.590Z"
   },
   {
    "duration": 0,
    "start_time": "2023-06-22T05:55:12.592Z"
   },
   {
    "duration": 0,
    "start_time": "2023-06-22T05:55:12.593Z"
   },
   {
    "duration": 0,
    "start_time": "2023-06-22T05:55:12.595Z"
   },
   {
    "duration": 0,
    "start_time": "2023-06-22T05:55:12.596Z"
   },
   {
    "duration": 0,
    "start_time": "2023-06-22T05:55:12.598Z"
   },
   {
    "duration": 11,
    "start_time": "2023-06-22T05:56:03.858Z"
   },
   {
    "duration": 1986,
    "start_time": "2023-06-22T06:01:28.700Z"
   },
   {
    "duration": 845,
    "start_time": "2023-06-22T06:01:30.688Z"
   },
   {
    "duration": 29,
    "start_time": "2023-06-22T06:01:31.536Z"
   },
   {
    "duration": 51,
    "start_time": "2023-06-22T06:01:31.567Z"
   },
   {
    "duration": 72,
    "start_time": "2023-06-22T06:01:31.621Z"
   },
   {
    "duration": 473,
    "start_time": "2023-06-22T06:01:31.695Z"
   },
   {
    "duration": 350,
    "start_time": "2023-06-22T06:01:32.170Z"
   },
   {
    "duration": 268,
    "start_time": "2023-06-22T06:01:32.522Z"
   },
   {
    "duration": 25,
    "start_time": "2023-06-22T06:01:32.792Z"
   },
   {
    "duration": 16,
    "start_time": "2023-06-22T06:01:32.820Z"
   },
   {
    "duration": 12,
    "start_time": "2023-06-22T06:01:32.838Z"
   },
   {
    "duration": 74,
    "start_time": "2023-06-22T06:01:32.852Z"
   },
   {
    "duration": 45,
    "start_time": "2023-06-22T06:01:32.928Z"
   },
   {
    "duration": 43,
    "start_time": "2023-06-22T06:01:32.975Z"
   },
   {
    "duration": 40,
    "start_time": "2023-06-22T06:01:33.021Z"
   },
   {
    "duration": 56,
    "start_time": "2023-06-22T06:01:33.064Z"
   },
   {
    "duration": 99,
    "start_time": "2023-06-22T06:01:33.124Z"
   },
   {
    "duration": 22,
    "start_time": "2023-06-22T06:01:33.226Z"
   },
   {
    "duration": 9,
    "start_time": "2023-06-22T06:01:33.252Z"
   },
   {
    "duration": 1028,
    "start_time": "2023-06-22T06:01:33.263Z"
   },
   {
    "duration": 11,
    "start_time": "2023-06-22T06:01:34.292Z"
   },
   {
    "duration": 752,
    "start_time": "2023-06-22T06:01:34.314Z"
   },
   {
    "duration": 10,
    "start_time": "2023-06-22T06:01:35.069Z"
   },
   {
    "duration": 989,
    "start_time": "2023-06-22T06:01:35.081Z"
   },
   {
    "duration": 766,
    "start_time": "2023-06-22T06:01:36.072Z"
   },
   {
    "duration": 1040,
    "start_time": "2023-06-22T06:01:36.841Z"
   },
   {
    "duration": 881,
    "start_time": "2023-06-22T06:01:37.885Z"
   },
   {
    "duration": 3,
    "start_time": "2023-06-22T06:01:38.770Z"
   },
   {
    "duration": 11,
    "start_time": "2023-06-22T06:01:38.774Z"
   },
   {
    "duration": 78,
    "start_time": "2023-06-22T06:01:38.788Z"
   },
   {
    "duration": 1214,
    "start_time": "2023-06-22T06:01:38.868Z"
   },
   {
    "duration": 559,
    "start_time": "2023-06-22T06:01:40.084Z"
   },
   {
    "duration": 245,
    "start_time": "2023-06-22T06:01:40.645Z"
   },
   {
    "duration": 764,
    "start_time": "2023-06-22T06:01:40.893Z"
   },
   {
    "duration": 3,
    "start_time": "2023-06-22T06:01:41.659Z"
   },
   {
    "duration": 26,
    "start_time": "2023-06-22T06:01:41.664Z"
   },
   {
    "duration": 67,
    "start_time": "2023-06-22T06:01:41.692Z"
   },
   {
    "duration": 25,
    "start_time": "2023-06-22T06:01:41.761Z"
   },
   {
    "duration": 65,
    "start_time": "2023-06-22T06:01:41.788Z"
   },
   {
    "duration": 10,
    "start_time": "2023-06-22T06:01:41.855Z"
   },
   {
    "duration": 8,
    "start_time": "2023-06-22T06:01:41.868Z"
   },
   {
    "duration": 8,
    "start_time": "2023-06-22T06:01:41.878Z"
   },
   {
    "duration": 3,
    "start_time": "2023-06-22T06:01:41.915Z"
   },
   {
    "duration": 10,
    "start_time": "2023-06-22T06:01:41.920Z"
   },
   {
    "duration": 9,
    "start_time": "2023-06-22T06:01:41.932Z"
   },
   {
    "duration": 3769,
    "start_time": "2023-06-22T06:01:41.943Z"
   },
   {
    "duration": 47,
    "start_time": "2023-06-22T06:06:43.199Z"
   },
   {
    "duration": 133,
    "start_time": "2023-06-22T06:07:19.147Z"
   },
   {
    "duration": 1514,
    "start_time": "2023-06-22T06:08:33.909Z"
   },
   {
    "duration": 798,
    "start_time": "2023-06-22T06:08:35.424Z"
   },
   {
    "duration": 36,
    "start_time": "2023-06-22T06:08:36.224Z"
   },
   {
    "duration": 23,
    "start_time": "2023-06-22T06:08:36.263Z"
   },
   {
    "duration": 45,
    "start_time": "2023-06-22T06:08:36.288Z"
   },
   {
    "duration": 284,
    "start_time": "2023-06-22T06:08:36.335Z"
   },
   {
    "duration": 150,
    "start_time": "2023-06-22T06:08:36.621Z"
   },
   {
    "duration": 292,
    "start_time": "2023-06-22T06:08:36.773Z"
   },
   {
    "duration": 19,
    "start_time": "2023-06-22T06:08:37.067Z"
   },
   {
    "duration": 30,
    "start_time": "2023-06-22T06:08:37.089Z"
   },
   {
    "duration": 12,
    "start_time": "2023-06-22T06:08:37.121Z"
   },
   {
    "duration": 43,
    "start_time": "2023-06-22T06:08:37.136Z"
   },
   {
    "duration": 8,
    "start_time": "2023-06-22T06:08:37.182Z"
   },
   {
    "duration": 27,
    "start_time": "2023-06-22T06:08:37.193Z"
   },
   {
    "duration": 39,
    "start_time": "2023-06-22T06:08:37.222Z"
   },
   {
    "duration": 79,
    "start_time": "2023-06-22T06:08:37.263Z"
   },
   {
    "duration": 70,
    "start_time": "2023-06-22T06:08:37.344Z"
   },
   {
    "duration": 97,
    "start_time": "2023-06-22T06:08:37.416Z"
   },
   {
    "duration": 18,
    "start_time": "2023-06-22T06:08:37.515Z"
   },
   {
    "duration": 951,
    "start_time": "2023-06-22T06:08:37.535Z"
   },
   {
    "duration": 9,
    "start_time": "2023-06-22T06:08:38.487Z"
   },
   {
    "duration": 767,
    "start_time": "2023-06-22T06:08:38.498Z"
   },
   {
    "duration": 10,
    "start_time": "2023-06-22T06:08:39.267Z"
   },
   {
    "duration": 1117,
    "start_time": "2023-06-22T06:08:39.279Z"
   },
   {
    "duration": 873,
    "start_time": "2023-06-22T06:08:40.399Z"
   },
   {
    "duration": 1125,
    "start_time": "2023-06-22T06:08:41.273Z"
   },
   {
    "duration": 934,
    "start_time": "2023-06-22T06:08:42.400Z"
   },
   {
    "duration": 3,
    "start_time": "2023-06-22T06:08:43.340Z"
   },
   {
    "duration": 12,
    "start_time": "2023-06-22T06:08:43.345Z"
   },
   {
    "duration": 61,
    "start_time": "2023-06-22T06:08:43.359Z"
   },
   {
    "duration": 954,
    "start_time": "2023-06-22T06:08:43.422Z"
   },
   {
    "duration": 631,
    "start_time": "2023-06-22T06:08:44.378Z"
   },
   {
    "duration": 224,
    "start_time": "2023-06-22T06:08:45.014Z"
   },
   {
    "duration": 832,
    "start_time": "2023-06-22T06:08:45.240Z"
   },
   {
    "duration": 4,
    "start_time": "2023-06-22T06:08:46.074Z"
   },
   {
    "duration": 26,
    "start_time": "2023-06-22T06:08:46.080Z"
   },
   {
    "duration": 110,
    "start_time": "2023-06-22T06:08:46.107Z"
   },
   {
    "duration": 134,
    "start_time": "2023-06-22T06:08:46.219Z"
   },
   {
    "duration": 250,
    "start_time": "2023-06-22T06:08:46.355Z"
   },
   {
    "duration": 45,
    "start_time": "2023-06-22T06:08:46.607Z"
   },
   {
    "duration": 9,
    "start_time": "2023-06-22T06:08:46.654Z"
   },
   {
    "duration": 10,
    "start_time": "2023-06-22T06:08:46.665Z"
   },
   {
    "duration": 7,
    "start_time": "2023-06-22T06:08:46.677Z"
   },
   {
    "duration": 27,
    "start_time": "2023-06-22T06:08:46.686Z"
   },
   {
    "duration": 6,
    "start_time": "2023-06-22T06:08:46.715Z"
   },
   {
    "duration": 7,
    "start_time": "2023-06-22T06:08:46.722Z"
   },
   {
    "duration": 6386,
    "start_time": "2023-06-22T06:08:46.730Z"
   },
   {
    "duration": 343299,
    "start_time": "2023-06-22T09:12:58.293Z"
   },
   {
    "duration": 340869,
    "start_time": "2023-06-22T09:23:05.096Z"
   },
   {
    "duration": 534498,
    "start_time": "2023-06-22T09:34:40.439Z"
   },
   {
    "duration": 7,
    "start_time": "2023-06-22T09:50:33.568Z"
   },
   {
    "duration": 4,
    "start_time": "2023-06-22T09:50:39.100Z"
   },
   {
    "duration": 5,
    "start_time": "2023-06-22T09:50:45.554Z"
   },
   {
    "duration": 11,
    "start_time": "2023-06-22T09:52:58.626Z"
   },
   {
    "duration": 15,
    "start_time": "2023-06-22T09:56:02.820Z"
   },
   {
    "duration": 12,
    "start_time": "2023-06-22T09:56:13.017Z"
   },
   {
    "duration": 8,
    "start_time": "2023-06-22T09:56:15.909Z"
   },
   {
    "duration": 3966,
    "start_time": "2023-06-22T09:57:17.436Z"
   },
   {
    "duration": 8,
    "start_time": "2023-06-22T09:57:32.828Z"
   },
   {
    "duration": 3933,
    "start_time": "2023-06-22T09:57:36.429Z"
   },
   {
    "duration": 7,
    "start_time": "2023-06-22T09:57:40.364Z"
   },
   {
    "duration": 1570,
    "start_time": "2023-06-22T09:58:09.409Z"
   },
   {
    "duration": 816,
    "start_time": "2023-06-22T09:58:10.981Z"
   },
   {
    "duration": 31,
    "start_time": "2023-06-22T09:58:11.798Z"
   },
   {
    "duration": 21,
    "start_time": "2023-06-22T09:58:11.831Z"
   },
   {
    "duration": 33,
    "start_time": "2023-06-22T09:58:11.854Z"
   },
   {
    "duration": 269,
    "start_time": "2023-06-22T09:58:11.889Z"
   },
   {
    "duration": 205,
    "start_time": "2023-06-22T09:58:12.159Z"
   },
   {
    "duration": 315,
    "start_time": "2023-06-22T09:58:12.365Z"
   },
   {
    "duration": 17,
    "start_time": "2023-06-22T09:58:12.681Z"
   },
   {
    "duration": 25,
    "start_time": "2023-06-22T09:58:12.701Z"
   },
   {
    "duration": 9,
    "start_time": "2023-06-22T09:58:12.728Z"
   },
   {
    "duration": 27,
    "start_time": "2023-06-22T09:58:12.738Z"
   },
   {
    "duration": 6,
    "start_time": "2023-06-22T09:58:12.766Z"
   },
   {
    "duration": 40,
    "start_time": "2023-06-22T09:58:12.776Z"
   },
   {
    "duration": 19,
    "start_time": "2023-06-22T09:58:12.818Z"
   },
   {
    "duration": 39,
    "start_time": "2023-06-22T09:58:12.839Z"
   },
   {
    "duration": 90,
    "start_time": "2023-06-22T09:58:12.880Z"
   },
   {
    "duration": 18,
    "start_time": "2023-06-22T09:58:12.971Z"
   },
   {
    "duration": 27,
    "start_time": "2023-06-22T09:58:12.991Z"
   },
   {
    "duration": 797,
    "start_time": "2023-06-22T09:58:13.020Z"
   },
   {
    "duration": 8,
    "start_time": "2023-06-22T09:58:13.818Z"
   },
   {
    "duration": 768,
    "start_time": "2023-06-22T09:58:13.827Z"
   },
   {
    "duration": 17,
    "start_time": "2023-06-22T09:58:14.598Z"
   },
   {
    "duration": 878,
    "start_time": "2023-06-22T09:58:14.617Z"
   },
   {
    "duration": 741,
    "start_time": "2023-06-22T09:58:15.497Z"
   },
   {
    "duration": 845,
    "start_time": "2023-06-22T09:58:16.240Z"
   },
   {
    "duration": 764,
    "start_time": "2023-06-22T09:58:17.087Z"
   },
   {
    "duration": 3,
    "start_time": "2023-06-22T09:58:17.853Z"
   },
   {
    "duration": 10,
    "start_time": "2023-06-22T09:58:17.858Z"
   },
   {
    "duration": 51,
    "start_time": "2023-06-22T09:58:17.869Z"
   },
   {
    "duration": 750,
    "start_time": "2023-06-22T09:58:17.922Z"
   },
   {
    "duration": 486,
    "start_time": "2023-06-22T09:58:18.673Z"
   },
   {
    "duration": 192,
    "start_time": "2023-06-22T09:58:19.161Z"
   },
   {
    "duration": 807,
    "start_time": "2023-06-22T09:58:19.355Z"
   },
   {
    "duration": 3,
    "start_time": "2023-06-22T09:58:20.163Z"
   },
   {
    "duration": 54,
    "start_time": "2023-06-22T09:58:20.167Z"
   },
   {
    "duration": 47,
    "start_time": "2023-06-22T09:58:20.229Z"
   },
   {
    "duration": 15,
    "start_time": "2023-06-22T09:58:20.278Z"
   },
   {
    "duration": 50,
    "start_time": "2023-06-22T09:58:20.295Z"
   },
   {
    "duration": 30,
    "start_time": "2023-06-22T09:58:20.347Z"
   },
   {
    "duration": 7,
    "start_time": "2023-06-22T09:58:20.381Z"
   },
   {
    "duration": 44,
    "start_time": "2023-06-22T09:58:20.390Z"
   },
   {
    "duration": 41,
    "start_time": "2023-06-22T09:58:20.436Z"
   },
   {
    "duration": 50,
    "start_time": "2023-06-22T09:58:20.479Z"
   },
   {
    "duration": 56,
    "start_time": "2023-06-22T09:58:20.533Z"
   },
   {
    "duration": 39,
    "start_time": "2023-06-22T09:58:20.591Z"
   },
   {
    "duration": 3500,
    "start_time": "2023-06-22T09:58:20.632Z"
   },
   {
    "duration": 377338,
    "start_time": "2023-06-22T09:58:24.134Z"
   },
   {
    "duration": 575879,
    "start_time": "2023-06-22T10:04:41.474Z"
   },
   {
    "duration": 7,
    "start_time": "2023-06-22T10:14:17.355Z"
   },
   {
    "duration": 28,
    "start_time": "2023-06-22T10:14:17.365Z"
   },
   {
    "duration": 28,
    "start_time": "2023-06-22T10:14:17.394Z"
   },
   {
    "duration": 3905,
    "start_time": "2023-06-22T10:14:17.424Z"
   },
   {
    "duration": 8,
    "start_time": "2023-06-22T10:14:21.331Z"
   },
   {
    "duration": 8,
    "start_time": "2023-06-22T10:14:42.427Z"
   },
   {
    "duration": 111,
    "start_time": "2023-06-22T10:14:44.146Z"
   },
   {
    "duration": 3,
    "start_time": "2023-06-22T10:15:14.343Z"
   },
   {
    "duration": 7,
    "start_time": "2023-06-22T10:15:16.336Z"
   },
   {
    "duration": 4,
    "start_time": "2023-06-22T10:15:18.163Z"
   },
   {
    "duration": 8,
    "start_time": "2023-06-22T10:15:19.435Z"
   },
   {
    "duration": 1786,
    "start_time": "2023-06-22T10:19:43.432Z"
   },
   {
    "duration": 7,
    "start_time": "2023-06-22T10:20:02.638Z"
   },
   {
    "duration": 16,
    "start_time": "2023-06-22T10:20:46.557Z"
   },
   {
    "duration": 9,
    "start_time": "2023-06-22T10:20:49.015Z"
   },
   {
    "duration": 1956,
    "start_time": "2023-06-22T10:23:09.158Z"
   },
   {
    "duration": 1720,
    "start_time": "2023-06-22T10:26:02.036Z"
   },
   {
    "duration": 1465,
    "start_time": "2023-06-22T10:26:03.759Z"
   },
   {
    "duration": 27,
    "start_time": "2023-06-22T10:26:05.238Z"
   },
   {
    "duration": 22,
    "start_time": "2023-06-22T10:26:05.267Z"
   },
   {
    "duration": 65,
    "start_time": "2023-06-22T10:26:05.292Z"
   },
   {
    "duration": 300,
    "start_time": "2023-06-22T10:26:05.359Z"
   },
   {
    "duration": 172,
    "start_time": "2023-06-22T10:26:05.661Z"
   },
   {
    "duration": 392,
    "start_time": "2023-06-22T10:26:05.835Z"
   },
   {
    "duration": 27,
    "start_time": "2023-06-22T10:26:06.231Z"
   },
   {
    "duration": 32,
    "start_time": "2023-06-22T10:26:06.260Z"
   },
   {
    "duration": 51,
    "start_time": "2023-06-22T10:26:06.294Z"
   },
   {
    "duration": 93,
    "start_time": "2023-06-22T10:26:06.347Z"
   },
   {
    "duration": 10,
    "start_time": "2023-06-22T10:26:06.442Z"
   },
   {
    "duration": 18,
    "start_time": "2023-06-22T10:26:06.455Z"
   },
   {
    "duration": 60,
    "start_time": "2023-06-22T10:26:06.475Z"
   },
   {
    "duration": 121,
    "start_time": "2023-06-22T10:26:06.538Z"
   },
   {
    "duration": 71,
    "start_time": "2023-06-22T10:26:06.662Z"
   },
   {
    "duration": 23,
    "start_time": "2023-06-22T10:26:06.740Z"
   },
   {
    "duration": 21,
    "start_time": "2023-06-22T10:26:06.765Z"
   },
   {
    "duration": 1001,
    "start_time": "2023-06-22T10:26:06.789Z"
   },
   {
    "duration": 7,
    "start_time": "2023-06-22T10:26:07.793Z"
   },
   {
    "duration": 863,
    "start_time": "2023-06-22T10:26:07.819Z"
   },
   {
    "duration": 8,
    "start_time": "2023-06-22T10:26:08.684Z"
   },
   {
    "duration": 1083,
    "start_time": "2023-06-22T10:26:08.694Z"
   },
   {
    "duration": 908,
    "start_time": "2023-06-22T10:26:09.780Z"
   },
   {
    "duration": 1385,
    "start_time": "2023-06-22T10:26:10.690Z"
   },
   {
    "duration": 834,
    "start_time": "2023-06-22T10:26:12.078Z"
   },
   {
    "duration": 8,
    "start_time": "2023-06-22T10:26:12.914Z"
   },
   {
    "duration": 19,
    "start_time": "2023-06-22T10:26:12.924Z"
   },
   {
    "duration": 5824,
    "start_time": "2023-06-22T10:26:12.945Z"
   },
   {
    "duration": 0,
    "start_time": "2023-06-22T10:26:18.775Z"
   },
   {
    "duration": 0,
    "start_time": "2023-06-22T10:26:18.777Z"
   },
   {
    "duration": 0,
    "start_time": "2023-06-22T10:26:18.779Z"
   },
   {
    "duration": 0,
    "start_time": "2023-06-22T10:26:18.780Z"
   },
   {
    "duration": 0,
    "start_time": "2023-06-22T10:26:18.782Z"
   },
   {
    "duration": 0,
    "start_time": "2023-06-22T10:26:18.783Z"
   },
   {
    "duration": 0,
    "start_time": "2023-06-22T10:26:18.784Z"
   },
   {
    "duration": 0,
    "start_time": "2023-06-22T10:26:18.786Z"
   },
   {
    "duration": 0,
    "start_time": "2023-06-22T10:26:18.787Z"
   },
   {
    "duration": 0,
    "start_time": "2023-06-22T10:26:18.789Z"
   },
   {
    "duration": 0,
    "start_time": "2023-06-22T10:26:18.790Z"
   },
   {
    "duration": 0,
    "start_time": "2023-06-22T10:26:18.813Z"
   },
   {
    "duration": 0,
    "start_time": "2023-06-22T10:26:18.815Z"
   },
   {
    "duration": 0,
    "start_time": "2023-06-22T10:26:18.816Z"
   },
   {
    "duration": 0,
    "start_time": "2023-06-22T10:26:18.816Z"
   },
   {
    "duration": 0,
    "start_time": "2023-06-22T10:26:18.818Z"
   },
   {
    "duration": 0,
    "start_time": "2023-06-22T10:26:18.819Z"
   },
   {
    "duration": 0,
    "start_time": "2023-06-22T10:26:18.822Z"
   },
   {
    "duration": 0,
    "start_time": "2023-06-22T10:26:18.823Z"
   },
   {
    "duration": 0,
    "start_time": "2023-06-22T10:26:18.824Z"
   },
   {
    "duration": 0,
    "start_time": "2023-06-22T10:26:18.824Z"
   },
   {
    "duration": 0,
    "start_time": "2023-06-22T10:26:18.825Z"
   },
   {
    "duration": 0,
    "start_time": "2023-06-22T10:26:18.827Z"
   },
   {
    "duration": 0,
    "start_time": "2023-06-22T10:26:18.835Z"
   },
   {
    "duration": 0,
    "start_time": "2023-06-22T10:26:18.837Z"
   },
   {
    "duration": 0,
    "start_time": "2023-06-22T10:26:18.839Z"
   },
   {
    "duration": 0,
    "start_time": "2023-06-22T10:26:18.841Z"
   },
   {
    "duration": 0,
    "start_time": "2023-06-22T10:26:18.842Z"
   },
   {
    "duration": 0,
    "start_time": "2023-06-22T10:26:18.844Z"
   },
   {
    "duration": 3,
    "start_time": "2023-06-22T10:36:17.748Z"
   },
   {
    "duration": 32,
    "start_time": "2023-06-22T10:36:19.016Z"
   },
   {
    "duration": 50,
    "start_time": "2023-06-22T10:38:04.147Z"
   },
   {
    "duration": 736,
    "start_time": "2023-06-22T10:38:08.025Z"
   },
   {
    "duration": 506,
    "start_time": "2023-06-22T10:38:47.238Z"
   },
   {
    "duration": 230,
    "start_time": "2023-06-22T10:38:56.509Z"
   },
   {
    "duration": 819,
    "start_time": "2023-06-22T10:39:03.208Z"
   },
   {
    "duration": 861,
    "start_time": "2023-06-22T10:39:25.520Z"
   },
   {
    "duration": 864,
    "start_time": "2023-06-22T10:39:33.524Z"
   },
   {
    "duration": 1008,
    "start_time": "2023-06-22T10:39:49.665Z"
   },
   {
    "duration": 2,
    "start_time": "2023-06-22T10:40:42.253Z"
   },
   {
    "duration": 15,
    "start_time": "2023-06-22T10:40:46.300Z"
   },
   {
    "duration": 41,
    "start_time": "2023-06-22T10:40:51.412Z"
   },
   {
    "duration": 24,
    "start_time": "2023-06-22T10:40:58.142Z"
   },
   {
    "duration": 32,
    "start_time": "2023-06-22T10:41:04.028Z"
   },
   {
    "duration": 43,
    "start_time": "2023-06-22T10:41:08.766Z"
   },
   {
    "duration": 12,
    "start_time": "2023-06-22T10:41:14.825Z"
   },
   {
    "duration": 5,
    "start_time": "2023-06-22T10:41:16.205Z"
   },
   {
    "duration": 5,
    "start_time": "2023-06-22T10:41:17.708Z"
   },
   {
    "duration": 4,
    "start_time": "2023-06-22T10:41:21.254Z"
   },
   {
    "duration": 3,
    "start_time": "2023-06-22T10:41:21.961Z"
   },
   {
    "duration": 4,
    "start_time": "2023-06-22T10:41:24.520Z"
   },
   {
    "duration": 3371,
    "start_time": "2023-06-22T10:41:26.750Z"
   },
   {
    "duration": 310989,
    "start_time": "2023-06-22T10:41:34.332Z"
   },
   {
    "duration": 303580,
    "start_time": "2023-06-22T10:47:38.439Z"
   },
   {
    "duration": 543435,
    "start_time": "2023-06-22T10:58:28.027Z"
   },
   {
    "duration": 10,
    "start_time": "2023-06-22T11:10:31.542Z"
   },
   {
    "duration": 9,
    "start_time": "2023-06-22T11:10:32.533Z"
   },
   {
    "duration": 6,
    "start_time": "2023-06-22T11:10:34.361Z"
   },
   {
    "duration": 4891,
    "start_time": "2023-06-22T11:10:35.218Z"
   },
   {
    "duration": 11,
    "start_time": "2023-06-22T11:10:41.821Z"
   },
   {
    "duration": 11,
    "start_time": "2023-06-22T11:10:44.460Z"
   },
   {
    "duration": 12,
    "start_time": "2023-06-22T11:10:45.024Z"
   },
   {
    "duration": 6,
    "start_time": "2023-06-22T11:10:45.524Z"
   },
   {
    "duration": 11,
    "start_time": "2023-06-22T11:10:46.620Z"
   },
   {
    "duration": 33,
    "start_time": "2023-06-22T11:11:45.218Z"
   },
   {
    "duration": 1280,
    "start_time": "2023-06-22T11:12:04.565Z"
   },
   {
    "duration": 439,
    "start_time": "2023-06-22T11:12:47.443Z"
   },
   {
    "duration": 1656,
    "start_time": "2023-06-22T11:12:59.622Z"
   },
   {
    "duration": 981,
    "start_time": "2023-06-22T11:13:01.280Z"
   },
   {
    "duration": 30,
    "start_time": "2023-06-22T11:13:02.262Z"
   },
   {
    "duration": 197,
    "start_time": "2023-06-22T11:13:02.294Z"
   },
   {
    "duration": 60,
    "start_time": "2023-06-22T11:13:02.493Z"
   },
   {
    "duration": 302,
    "start_time": "2023-06-22T11:13:02.555Z"
   },
   {
    "duration": 163,
    "start_time": "2023-06-22T11:13:02.859Z"
   },
   {
    "duration": 282,
    "start_time": "2023-06-22T11:13:03.024Z"
   },
   {
    "duration": 26,
    "start_time": "2023-06-22T11:13:03.308Z"
   },
   {
    "duration": 22,
    "start_time": "2023-06-22T11:13:03.335Z"
   },
   {
    "duration": 15,
    "start_time": "2023-06-22T11:13:03.359Z"
   },
   {
    "duration": 62,
    "start_time": "2023-06-22T11:13:03.376Z"
   },
   {
    "duration": 9,
    "start_time": "2023-06-22T11:13:03.440Z"
   },
   {
    "duration": 29,
    "start_time": "2023-06-22T11:13:03.453Z"
   },
   {
    "duration": 63,
    "start_time": "2023-06-22T11:13:03.484Z"
   },
   {
    "duration": 78,
    "start_time": "2023-06-22T11:13:03.549Z"
   },
   {
    "duration": 70,
    "start_time": "2023-06-22T11:13:03.629Z"
   },
   {
    "duration": 20,
    "start_time": "2023-06-22T11:13:03.712Z"
   },
   {
    "duration": 29,
    "start_time": "2023-06-22T11:13:03.734Z"
   },
   {
    "duration": 1030,
    "start_time": "2023-06-22T11:13:03.765Z"
   },
   {
    "duration": 18,
    "start_time": "2023-06-22T11:13:04.797Z"
   },
   {
    "duration": 843,
    "start_time": "2023-06-22T11:13:04.818Z"
   },
   {
    "duration": 8,
    "start_time": "2023-06-22T11:13:05.663Z"
   },
   {
    "duration": 1743,
    "start_time": "2023-06-22T11:13:05.673Z"
   },
   {
    "duration": 843,
    "start_time": "2023-06-22T11:13:07.418Z"
   },
   {
    "duration": 991,
    "start_time": "2023-06-22T11:13:08.263Z"
   },
   {
    "duration": 989,
    "start_time": "2023-06-22T11:13:09.256Z"
   },
   {
    "duration": 4,
    "start_time": "2023-06-22T11:13:10.249Z"
   },
   {
    "duration": 465,
    "start_time": "2023-06-22T11:13:10.255Z"
   },
   {
    "duration": 291,
    "start_time": "2023-06-22T11:13:10.723Z"
   },
   {
    "duration": 934,
    "start_time": "2023-06-22T11:13:11.017Z"
   },
   {
    "duration": 3,
    "start_time": "2023-06-22T11:13:11.953Z"
   },
   {
    "duration": 25,
    "start_time": "2023-06-22T11:13:11.958Z"
   },
   {
    "duration": 64,
    "start_time": "2023-06-22T11:13:11.986Z"
   },
   {
    "duration": 18,
    "start_time": "2023-06-22T11:13:12.051Z"
   },
   {
    "duration": 55,
    "start_time": "2023-06-22T11:13:12.070Z"
   },
   {
    "duration": 34,
    "start_time": "2023-06-22T11:13:12.126Z"
   },
   {
    "duration": 8,
    "start_time": "2023-06-22T11:13:12.162Z"
   },
   {
    "duration": 16,
    "start_time": "2023-06-22T11:13:12.172Z"
   },
   {
    "duration": 24,
    "start_time": "2023-06-22T11:13:12.190Z"
   },
   {
    "duration": 4,
    "start_time": "2023-06-22T11:13:12.219Z"
   },
   {
    "duration": 6,
    "start_time": "2023-06-22T11:13:12.225Z"
   },
   {
    "duration": 4,
    "start_time": "2023-06-22T11:13:12.233Z"
   },
   {
    "duration": 4073,
    "start_time": "2023-06-22T11:13:12.239Z"
   },
   {
    "duration": 416755,
    "start_time": "2023-06-22T11:13:16.315Z"
   },
   {
    "duration": 611000,
    "start_time": "2023-06-22T11:20:13.073Z"
   },
   {
    "duration": 8,
    "start_time": "2023-06-22T11:30:24.075Z"
   },
   {
    "duration": 38,
    "start_time": "2023-06-22T11:30:24.085Z"
   },
   {
    "duration": 30,
    "start_time": "2023-06-22T11:30:24.125Z"
   },
   {
    "duration": 4364,
    "start_time": "2023-06-22T11:30:24.157Z"
   },
   {
    "duration": 8,
    "start_time": "2023-06-22T11:30:28.523Z"
   },
   {
    "duration": 18,
    "start_time": "2023-06-22T11:30:28.533Z"
   },
   {
    "duration": 43,
    "start_time": "2023-06-22T11:30:28.553Z"
   },
   {
    "duration": 18,
    "start_time": "2023-06-22T11:30:28.598Z"
   },
   {
    "duration": 48,
    "start_time": "2023-06-22T11:30:28.619Z"
   },
   {
    "duration": 1528,
    "start_time": "2023-06-22T11:31:20.214Z"
   },
   {
    "duration": 9,
    "start_time": "2023-06-22T11:31:23.030Z"
   },
   {
    "duration": 4,
    "start_time": "2023-06-22T11:32:51.655Z"
   },
   {
    "duration": 165,
    "start_time": "2023-06-22T11:32:53.944Z"
   },
   {
    "duration": 22,
    "start_time": "2023-06-22T11:33:00.135Z"
   },
   {
    "duration": 1706,
    "start_time": "2023-06-22T11:33:15.838Z"
   },
   {
    "duration": 951,
    "start_time": "2023-06-22T11:33:17.546Z"
   },
   {
    "duration": 52,
    "start_time": "2023-06-22T11:33:18.499Z"
   },
   {
    "duration": 22,
    "start_time": "2023-06-22T11:33:18.553Z"
   },
   {
    "duration": 35,
    "start_time": "2023-06-22T11:33:18.578Z"
   },
   {
    "duration": 293,
    "start_time": "2023-06-22T11:33:18.621Z"
   },
   {
    "duration": 166,
    "start_time": "2023-06-22T11:33:18.916Z"
   },
   {
    "duration": 300,
    "start_time": "2023-06-22T11:33:19.084Z"
   },
   {
    "duration": 29,
    "start_time": "2023-06-22T11:33:19.386Z"
   },
   {
    "duration": 23,
    "start_time": "2023-06-22T11:33:19.421Z"
   },
   {
    "duration": 10,
    "start_time": "2023-06-22T11:33:19.445Z"
   },
   {
    "duration": 31,
    "start_time": "2023-06-22T11:33:19.456Z"
   },
   {
    "duration": 34,
    "start_time": "2023-06-22T11:33:19.489Z"
   },
   {
    "duration": 16,
    "start_time": "2023-06-22T11:33:19.527Z"
   },
   {
    "duration": 23,
    "start_time": "2023-06-22T11:33:19.545Z"
   },
   {
    "duration": 80,
    "start_time": "2023-06-22T11:33:19.570Z"
   },
   {
    "duration": 95,
    "start_time": "2023-06-22T11:33:19.660Z"
   },
   {
    "duration": 25,
    "start_time": "2023-06-22T11:33:19.758Z"
   },
   {
    "duration": 28,
    "start_time": "2023-06-22T11:33:19.786Z"
   },
   {
    "duration": 923,
    "start_time": "2023-06-22T11:33:19.818Z"
   },
   {
    "duration": 10,
    "start_time": "2023-06-22T11:33:20.743Z"
   },
   {
    "duration": 992,
    "start_time": "2023-06-22T11:33:20.756Z"
   },
   {
    "duration": 8,
    "start_time": "2023-06-22T11:33:21.751Z"
   },
   {
    "duration": 943,
    "start_time": "2023-06-22T11:33:21.760Z"
   },
   {
    "duration": 841,
    "start_time": "2023-06-22T11:33:22.705Z"
   },
   {
    "duration": 1043,
    "start_time": "2023-06-22T11:33:23.548Z"
   },
   {
    "duration": 847,
    "start_time": "2023-06-22T11:33:24.593Z"
   },
   {
    "duration": 4,
    "start_time": "2023-06-22T11:33:25.442Z"
   },
   {
    "duration": 84,
    "start_time": "2023-06-22T11:33:25.448Z"
   },
   {
    "duration": 60,
    "start_time": "2023-06-22T11:33:25.534Z"
   },
   {
    "duration": 52,
    "start_time": "2023-06-22T11:33:25.596Z"
   },
   {
    "duration": 822,
    "start_time": "2023-06-22T11:33:25.650Z"
   },
   {
    "duration": 549,
    "start_time": "2023-06-22T11:33:26.474Z"
   },
   {
    "duration": 213,
    "start_time": "2023-06-22T11:33:27.025Z"
   },
   {
    "duration": 815,
    "start_time": "2023-06-22T11:33:27.240Z"
   },
   {
    "duration": 3,
    "start_time": "2023-06-22T11:33:28.058Z"
   },
   {
    "duration": 21,
    "start_time": "2023-06-22T11:33:28.063Z"
   },
   {
    "duration": 73,
    "start_time": "2023-06-22T11:33:28.086Z"
   },
   {
    "duration": 24,
    "start_time": "2023-06-22T11:33:28.161Z"
   },
   {
    "duration": 61,
    "start_time": "2023-06-22T11:33:28.187Z"
   },
   {
    "duration": 62,
    "start_time": "2023-06-22T11:33:28.255Z"
   },
   {
    "duration": 17,
    "start_time": "2023-06-22T11:33:28.321Z"
   },
   {
    "duration": 5,
    "start_time": "2023-06-22T11:33:28.341Z"
   },
   {
    "duration": 17,
    "start_time": "2023-06-22T11:33:28.348Z"
   },
   {
    "duration": 5,
    "start_time": "2023-06-22T11:33:28.367Z"
   },
   {
    "duration": 13,
    "start_time": "2023-06-22T11:33:28.374Z"
   },
   {
    "duration": 26,
    "start_time": "2023-06-22T11:33:28.390Z"
   },
   {
    "duration": 3796,
    "start_time": "2023-06-22T11:33:28.419Z"
   },
   {
    "duration": 356888,
    "start_time": "2023-06-22T11:33:32.218Z"
   },
   {
    "duration": 580394,
    "start_time": "2023-06-22T11:39:29.108Z"
   },
   {
    "duration": 24,
    "start_time": "2023-06-22T11:49:09.504Z"
   },
   {
    "duration": 33,
    "start_time": "2023-06-22T11:49:09.530Z"
   },
   {
    "duration": 23,
    "start_time": "2023-06-22T11:49:09.565Z"
   },
   {
    "duration": 1343,
    "start_time": "2023-06-22T11:49:09.590Z"
   },
   {
    "duration": 10,
    "start_time": "2023-06-22T11:49:10.939Z"
   },
   {
    "duration": 11,
    "start_time": "2023-06-22T11:49:10.952Z"
   },
   {
    "duration": 11,
    "start_time": "2023-06-22T11:49:10.966Z"
   },
   {
    "duration": 14,
    "start_time": "2023-06-22T11:49:10.979Z"
   },
   {
    "duration": 31,
    "start_time": "2023-06-22T11:49:10.995Z"
   },
   {
    "duration": 9,
    "start_time": "2023-06-22T11:49:52.533Z"
   },
   {
    "duration": 5,
    "start_time": "2023-06-22T11:49:53.466Z"
   },
   {
    "duration": 6,
    "start_time": "2023-06-22T11:49:54.317Z"
   },
   {
    "duration": 3220,
    "start_time": "2023-06-22T11:49:55.609Z"
   },
   {
    "duration": 11,
    "start_time": "2023-06-22T11:50:02.341Z"
   },
   {
    "duration": 3,
    "start_time": "2023-06-22T11:50:08.350Z"
   },
   {
    "duration": 10,
    "start_time": "2023-06-22T11:50:08.615Z"
   },
   {
    "duration": 6,
    "start_time": "2023-06-22T11:50:08.914Z"
   },
   {
    "duration": 13,
    "start_time": "2023-06-22T11:50:09.926Z"
   },
   {
    "duration": 232,
    "start_time": "2023-06-22T11:51:33.353Z"
   },
   {
    "duration": 20,
    "start_time": "2023-06-22T11:52:12.548Z"
   },
   {
    "duration": 17,
    "start_time": "2023-06-22T11:53:19.255Z"
   },
   {
    "duration": 14,
    "start_time": "2023-06-22T11:55:50.176Z"
   },
   {
    "duration": 16,
    "start_time": "2023-06-22T12:03:51.968Z"
   },
   {
    "duration": 914,
    "start_time": "2023-06-22T12:04:27.832Z"
   },
   {
    "duration": 10,
    "start_time": "2023-06-22T12:04:33.037Z"
   },
   {
    "duration": 1293,
    "start_time": "2023-06-22T12:08:25.944Z"
   },
   {
    "duration": 1881,
    "start_time": "2023-06-22T12:08:43.635Z"
   },
   {
    "duration": 3877,
    "start_time": "2023-06-22T12:08:45.524Z"
   },
   {
    "duration": 35,
    "start_time": "2023-06-22T12:08:49.403Z"
   },
   {
    "duration": 22,
    "start_time": "2023-06-22T12:08:49.440Z"
   },
   {
    "duration": 60,
    "start_time": "2023-06-22T12:08:49.464Z"
   },
   {
    "duration": 337,
    "start_time": "2023-06-22T12:08:49.531Z"
   },
   {
    "duration": 192,
    "start_time": "2023-06-22T12:08:49.870Z"
   },
   {
    "duration": 347,
    "start_time": "2023-06-22T12:08:50.064Z"
   },
   {
    "duration": 23,
    "start_time": "2023-06-22T12:08:50.413Z"
   },
   {
    "duration": 21,
    "start_time": "2023-06-22T12:08:50.438Z"
   },
   {
    "duration": 11,
    "start_time": "2023-06-22T12:08:50.462Z"
   },
   {
    "duration": 71,
    "start_time": "2023-06-22T12:08:50.476Z"
   },
   {
    "duration": 9,
    "start_time": "2023-06-22T12:08:50.552Z"
   },
   {
    "duration": 7,
    "start_time": "2023-06-22T12:08:50.565Z"
   },
   {
    "duration": 47,
    "start_time": "2023-06-22T12:08:50.574Z"
   },
   {
    "duration": 50,
    "start_time": "2023-06-22T12:08:50.623Z"
   },
   {
    "duration": 83,
    "start_time": "2023-06-22T12:08:50.675Z"
   },
   {
    "duration": 22,
    "start_time": "2023-06-22T12:08:50.759Z"
   },
   {
    "duration": 8,
    "start_time": "2023-06-22T12:08:50.783Z"
   },
   {
    "duration": 974,
    "start_time": "2023-06-22T12:08:50.813Z"
   },
   {
    "duration": 9,
    "start_time": "2023-06-22T12:08:51.789Z"
   },
   {
    "duration": 772,
    "start_time": "2023-06-22T12:08:51.816Z"
   },
   {
    "duration": 10,
    "start_time": "2023-06-22T12:08:52.590Z"
   },
   {
    "duration": 952,
    "start_time": "2023-06-22T12:08:52.614Z"
   },
   {
    "duration": 862,
    "start_time": "2023-06-22T12:08:53.568Z"
   },
   {
    "duration": 1010,
    "start_time": "2023-06-22T12:08:54.433Z"
   },
   {
    "duration": 850,
    "start_time": "2023-06-22T12:08:55.448Z"
   },
   {
    "duration": 3,
    "start_time": "2023-06-22T12:08:56.301Z"
   },
   {
    "duration": 21,
    "start_time": "2023-06-22T12:08:56.313Z"
   },
   {
    "duration": 39,
    "start_time": "2023-06-22T12:08:56.336Z"
   },
   {
    "duration": 46,
    "start_time": "2023-06-22T12:08:56.378Z"
   },
   {
    "duration": 832,
    "start_time": "2023-06-22T12:08:56.428Z"
   },
   {
    "duration": 556,
    "start_time": "2023-06-22T12:08:57.262Z"
   },
   {
    "duration": 219,
    "start_time": "2023-06-22T12:08:57.823Z"
   },
   {
    "duration": 877,
    "start_time": "2023-06-22T12:08:58.043Z"
   },
   {
    "duration": 7,
    "start_time": "2023-06-22T12:08:58.922Z"
   },
   {
    "duration": 48,
    "start_time": "2023-06-22T12:08:58.932Z"
   },
   {
    "duration": 82,
    "start_time": "2023-06-22T12:08:58.983Z"
   },
   {
    "duration": 27,
    "start_time": "2023-06-22T12:08:59.070Z"
   },
   {
    "duration": 68,
    "start_time": "2023-06-22T12:08:59.099Z"
   },
   {
    "duration": 64,
    "start_time": "2023-06-22T12:08:59.173Z"
   },
   {
    "duration": 14,
    "start_time": "2023-06-22T12:08:59.242Z"
   },
   {
    "duration": 12,
    "start_time": "2023-06-22T12:08:59.259Z"
   },
   {
    "duration": 8,
    "start_time": "2023-06-22T12:08:59.273Z"
   },
   {
    "duration": 36,
    "start_time": "2023-06-22T12:08:59.283Z"
   },
   {
    "duration": 21,
    "start_time": "2023-06-22T12:08:59.321Z"
   },
   {
    "duration": 24,
    "start_time": "2023-06-22T12:08:59.344Z"
   },
   {
    "duration": 6265,
    "start_time": "2023-06-22T12:08:59.370Z"
   },
   {
    "duration": 382549,
    "start_time": "2023-06-22T12:09:05.638Z"
   },
   {
    "duration": 576546,
    "start_time": "2023-06-22T12:15:28.189Z"
   },
   {
    "duration": 8,
    "start_time": "2023-06-22T12:25:04.736Z"
   },
   {
    "duration": 12,
    "start_time": "2023-06-22T12:25:04.745Z"
   },
   {
    "duration": 5,
    "start_time": "2023-06-22T12:25:04.759Z"
   },
   {
    "duration": 3460,
    "start_time": "2023-06-22T12:25:04.766Z"
   },
   {
    "duration": 8,
    "start_time": "2023-06-22T12:25:08.228Z"
   },
   {
    "duration": 16,
    "start_time": "2023-06-22T12:25:08.238Z"
   },
   {
    "duration": 40,
    "start_time": "2023-06-22T12:25:08.257Z"
   },
   {
    "duration": 10,
    "start_time": "2023-06-22T12:25:08.299Z"
   },
   {
    "duration": 14,
    "start_time": "2023-06-22T12:25:08.311Z"
   },
   {
    "duration": 175,
    "start_time": "2023-06-22T12:25:55.724Z"
   },
   {
    "duration": 0,
    "start_time": "2023-06-22T12:25:55.902Z"
   },
   {
    "duration": 0,
    "start_time": "2023-06-22T12:25:55.904Z"
   },
   {
    "duration": 0,
    "start_time": "2023-06-22T12:25:55.913Z"
   },
   {
    "duration": 0,
    "start_time": "2023-06-22T12:25:55.914Z"
   },
   {
    "duration": 0,
    "start_time": "2023-06-22T12:25:55.918Z"
   },
   {
    "duration": 0,
    "start_time": "2023-06-22T12:25:55.920Z"
   },
   {
    "duration": 0,
    "start_time": "2023-06-22T12:25:55.921Z"
   },
   {
    "duration": 0,
    "start_time": "2023-06-22T12:25:55.922Z"
   },
   {
    "duration": 0,
    "start_time": "2023-06-22T12:25:55.923Z"
   },
   {
    "duration": 0,
    "start_time": "2023-06-22T12:25:55.924Z"
   },
   {
    "duration": 0,
    "start_time": "2023-06-22T12:25:55.927Z"
   },
   {
    "duration": 0,
    "start_time": "2023-06-22T12:25:55.930Z"
   },
   {
    "duration": 0,
    "start_time": "2023-06-22T12:25:55.936Z"
   },
   {
    "duration": 0,
    "start_time": "2023-06-22T12:25:55.937Z"
   },
   {
    "duration": 0,
    "start_time": "2023-06-22T12:25:55.940Z"
   },
   {
    "duration": 0,
    "start_time": "2023-06-22T12:25:55.940Z"
   },
   {
    "duration": 0,
    "start_time": "2023-06-22T12:25:55.942Z"
   },
   {
    "duration": 0,
    "start_time": "2023-06-22T12:25:55.945Z"
   },
   {
    "duration": 0,
    "start_time": "2023-06-22T12:25:55.948Z"
   },
   {
    "duration": 1649,
    "start_time": "2023-06-22T12:27:45.206Z"
   },
   {
    "duration": 928,
    "start_time": "2023-06-22T12:27:46.857Z"
   },
   {
    "duration": 38,
    "start_time": "2023-06-22T12:27:47.787Z"
   },
   {
    "duration": 24,
    "start_time": "2023-06-22T12:27:47.826Z"
   },
   {
    "duration": 26,
    "start_time": "2023-06-22T12:27:47.853Z"
   },
   {
    "duration": 285,
    "start_time": "2023-06-22T12:27:47.881Z"
   },
   {
    "duration": 162,
    "start_time": "2023-06-22T12:27:48.169Z"
   },
   {
    "duration": 265,
    "start_time": "2023-06-22T12:27:48.333Z"
   },
   {
    "duration": 33,
    "start_time": "2023-06-22T12:27:48.600Z"
   },
   {
    "duration": 17,
    "start_time": "2023-06-22T12:27:48.635Z"
   },
   {
    "duration": 10,
    "start_time": "2023-06-22T12:27:48.654Z"
   },
   {
    "duration": 50,
    "start_time": "2023-06-22T12:27:48.666Z"
   },
   {
    "duration": 11,
    "start_time": "2023-06-22T12:27:48.718Z"
   },
   {
    "duration": 18,
    "start_time": "2023-06-22T12:27:48.733Z"
   },
   {
    "duration": 26,
    "start_time": "2023-06-22T12:27:48.753Z"
   },
   {
    "duration": 69,
    "start_time": "2023-06-22T12:27:48.781Z"
   },
   {
    "duration": 80,
    "start_time": "2023-06-22T12:27:48.852Z"
   },
   {
    "duration": 18,
    "start_time": "2023-06-22T12:27:48.934Z"
   },
   {
    "duration": 100,
    "start_time": "2023-06-22T12:27:48.953Z"
   },
   {
    "duration": 916,
    "start_time": "2023-06-22T12:27:49.055Z"
   },
   {
    "duration": 10,
    "start_time": "2023-06-22T12:27:49.973Z"
   },
   {
    "duration": 878,
    "start_time": "2023-06-22T12:27:49.984Z"
   },
   {
    "duration": 8,
    "start_time": "2023-06-22T12:27:50.864Z"
   },
   {
    "duration": 913,
    "start_time": "2023-06-22T12:27:50.874Z"
   },
   {
    "duration": 760,
    "start_time": "2023-06-22T12:27:51.789Z"
   },
   {
    "duration": 910,
    "start_time": "2023-06-22T12:27:52.551Z"
   },
   {
    "duration": 836,
    "start_time": "2023-06-22T12:27:53.463Z"
   },
   {
    "duration": 3,
    "start_time": "2023-06-22T12:27:54.301Z"
   },
   {
    "duration": 22,
    "start_time": "2023-06-22T12:27:54.306Z"
   },
   {
    "duration": 47,
    "start_time": "2023-06-22T12:27:54.330Z"
   },
   {
    "duration": 62,
    "start_time": "2023-06-22T12:27:54.379Z"
   },
   {
    "duration": 804,
    "start_time": "2023-06-22T12:27:54.443Z"
   },
   {
    "duration": 500,
    "start_time": "2023-06-22T12:27:55.249Z"
   },
   {
    "duration": 203,
    "start_time": "2023-06-22T12:27:55.751Z"
   },
   {
    "duration": 739,
    "start_time": "2023-06-22T12:27:55.956Z"
   },
   {
    "duration": 3,
    "start_time": "2023-06-22T12:27:56.697Z"
   },
   {
    "duration": 31,
    "start_time": "2023-06-22T12:27:56.702Z"
   },
   {
    "duration": 37,
    "start_time": "2023-06-22T12:27:56.735Z"
   },
   {
    "duration": 15,
    "start_time": "2023-06-22T12:27:56.774Z"
   },
   {
    "duration": 57,
    "start_time": "2023-06-22T12:27:56.791Z"
   },
   {
    "duration": 28,
    "start_time": "2023-06-22T12:27:56.852Z"
   },
   {
    "duration": 8,
    "start_time": "2023-06-22T12:27:56.882Z"
   },
   {
    "duration": 22,
    "start_time": "2023-06-22T12:27:56.892Z"
   },
   {
    "duration": 15,
    "start_time": "2023-06-22T12:27:56.920Z"
   },
   {
    "duration": 4,
    "start_time": "2023-06-22T12:27:56.937Z"
   },
   {
    "duration": 5,
    "start_time": "2023-06-22T12:27:56.943Z"
   },
   {
    "duration": 5,
    "start_time": "2023-06-22T12:27:56.949Z"
   },
   {
    "duration": 4460,
    "start_time": "2023-06-22T12:27:56.956Z"
   },
   {
    "duration": 369680,
    "start_time": "2023-06-22T12:28:01.417Z"
   },
   {
    "duration": 573946,
    "start_time": "2023-06-22T12:34:11.099Z"
   },
   {
    "duration": 6,
    "start_time": "2023-06-22T12:43:45.046Z"
   },
   {
    "duration": 10,
    "start_time": "2023-06-22T12:43:45.054Z"
   },
   {
    "duration": 10,
    "start_time": "2023-06-22T12:43:45.066Z"
   },
   {
    "duration": 3447,
    "start_time": "2023-06-22T12:43:45.078Z"
   },
   {
    "duration": 8,
    "start_time": "2023-06-22T12:43:48.527Z"
   },
   {
    "duration": 238,
    "start_time": "2023-06-22T12:43:48.537Z"
   },
   {
    "duration": 10,
    "start_time": "2023-06-22T12:43:48.776Z"
   },
   {
    "duration": 35,
    "start_time": "2023-06-22T12:43:48.788Z"
   },
   {
    "duration": 11,
    "start_time": "2023-06-22T12:43:48.825Z"
   },
   {
    "duration": 5106,
    "start_time": "2023-06-22T12:50:53.714Z"
   },
   {
    "duration": 27,
    "start_time": "2023-06-22T12:51:02.214Z"
   },
   {
    "duration": 9,
    "start_time": "2023-06-22T12:52:32.014Z"
   },
   {
    "duration": 1591,
    "start_time": "2023-06-22T13:00:45.149Z"
   },
   {
    "duration": 829,
    "start_time": "2023-06-22T13:00:46.742Z"
   },
   {
    "duration": 25,
    "start_time": "2023-06-22T13:00:47.573Z"
   },
   {
    "duration": 54,
    "start_time": "2023-06-22T13:00:47.599Z"
   },
   {
    "duration": 26,
    "start_time": "2023-06-22T13:00:47.656Z"
   },
   {
    "duration": 275,
    "start_time": "2023-06-22T13:00:47.684Z"
   },
   {
    "duration": 141,
    "start_time": "2023-06-22T13:00:47.960Z"
   },
   {
    "duration": 280,
    "start_time": "2023-06-22T13:00:48.102Z"
   },
   {
    "duration": 16,
    "start_time": "2023-06-22T13:00:48.383Z"
   },
   {
    "duration": 31,
    "start_time": "2023-06-22T13:00:48.400Z"
   },
   {
    "duration": 10,
    "start_time": "2023-06-22T13:00:48.433Z"
   },
   {
    "duration": 38,
    "start_time": "2023-06-22T13:00:48.444Z"
   },
   {
    "duration": 47,
    "start_time": "2023-06-22T13:00:48.483Z"
   },
   {
    "duration": 44,
    "start_time": "2023-06-22T13:00:48.534Z"
   },
   {
    "duration": 47,
    "start_time": "2023-06-22T13:00:48.580Z"
   },
   {
    "duration": 43,
    "start_time": "2023-06-22T13:00:48.631Z"
   },
   {
    "duration": 72,
    "start_time": "2023-06-22T13:00:48.676Z"
   },
   {
    "duration": 17,
    "start_time": "2023-06-22T13:00:48.751Z"
   },
   {
    "duration": 15,
    "start_time": "2023-06-22T13:00:48.770Z"
   },
   {
    "duration": 815,
    "start_time": "2023-06-22T13:00:48.787Z"
   },
   {
    "duration": 19,
    "start_time": "2023-06-22T13:00:49.604Z"
   },
   {
    "duration": 856,
    "start_time": "2023-06-22T13:00:49.624Z"
   },
   {
    "duration": 6,
    "start_time": "2023-06-22T13:00:50.482Z"
   },
   {
    "duration": 877,
    "start_time": "2023-06-22T13:00:50.490Z"
   },
   {
    "duration": 774,
    "start_time": "2023-06-22T13:00:51.369Z"
   },
   {
    "duration": 913,
    "start_time": "2023-06-22T13:00:52.145Z"
   },
   {
    "duration": 801,
    "start_time": "2023-06-22T13:00:53.060Z"
   },
   {
    "duration": 3,
    "start_time": "2023-06-22T13:00:53.863Z"
   },
   {
    "duration": 53,
    "start_time": "2023-06-22T13:00:53.868Z"
   },
   {
    "duration": 52,
    "start_time": "2023-06-22T13:00:53.926Z"
   },
   {
    "duration": 47,
    "start_time": "2023-06-22T13:00:53.980Z"
   },
   {
    "duration": 764,
    "start_time": "2023-06-22T13:00:54.030Z"
   },
   {
    "duration": 490,
    "start_time": "2023-06-22T13:00:54.796Z"
   },
   {
    "duration": 256,
    "start_time": "2023-06-22T13:00:55.288Z"
   },
   {
    "duration": 792,
    "start_time": "2023-06-22T13:00:55.547Z"
   },
   {
    "duration": 3,
    "start_time": "2023-06-22T13:00:56.341Z"
   },
   {
    "duration": 46,
    "start_time": "2023-06-22T13:00:56.345Z"
   },
   {
    "duration": 116,
    "start_time": "2023-06-22T13:00:56.393Z"
   },
   {
    "duration": 41,
    "start_time": "2023-06-22T13:00:56.511Z"
   },
   {
    "duration": 50,
    "start_time": "2023-06-22T13:00:56.554Z"
   },
   {
    "duration": 55,
    "start_time": "2023-06-22T13:00:56.609Z"
   },
   {
    "duration": 22,
    "start_time": "2023-06-22T13:00:56.665Z"
   },
   {
    "duration": 44,
    "start_time": "2023-06-22T13:00:56.689Z"
   },
   {
    "duration": 25,
    "start_time": "2023-06-22T13:00:56.735Z"
   },
   {
    "duration": 18,
    "start_time": "2023-06-22T13:00:56.762Z"
   },
   {
    "duration": 15,
    "start_time": "2023-06-22T13:00:56.782Z"
   },
   {
    "duration": 28,
    "start_time": "2023-06-22T13:00:56.799Z"
   },
   {
    "duration": 4507,
    "start_time": "2023-06-22T13:00:56.830Z"
   },
   {
    "duration": 408784,
    "start_time": "2023-06-22T13:01:01.515Z"
   },
   {
    "duration": 683494,
    "start_time": "2023-06-22T13:07:50.301Z"
   },
   {
    "duration": 20,
    "start_time": "2023-06-22T13:19:13.797Z"
   },
   {
    "duration": 11,
    "start_time": "2023-06-22T13:19:13.822Z"
   },
   {
    "duration": 14,
    "start_time": "2023-06-22T13:19:13.835Z"
   },
   {
    "duration": 5528,
    "start_time": "2023-06-22T13:19:13.852Z"
   },
   {
    "duration": 12,
    "start_time": "2023-06-22T13:19:19.382Z"
   },
   {
    "duration": 1861,
    "start_time": "2023-06-22T13:19:19.396Z"
   },
   {
    "duration": 72,
    "start_time": "2023-06-22T13:19:21.267Z"
   },
   {
    "duration": 8,
    "start_time": "2023-06-22T13:19:21.350Z"
   },
   {
    "duration": 20,
    "start_time": "2023-06-22T13:19:21.361Z"
   },
   {
    "duration": 23,
    "start_time": "2023-06-22T13:19:21.390Z"
   },
   {
    "duration": 28,
    "start_time": "2023-06-22T13:19:21.416Z"
   },
   {
    "duration": 7221,
    "start_time": "2023-06-22T13:19:58.233Z"
   },
   {
    "duration": 13,
    "start_time": "2023-06-22T13:20:05.459Z"
   },
   {
    "duration": 23,
    "start_time": "2023-06-22T13:28:11.132Z"
   },
   {
    "duration": 12,
    "start_time": "2023-06-22T13:28:14.309Z"
   },
   {
    "duration": 1946,
    "start_time": "2023-06-22T13:47:47.929Z"
   },
   {
    "duration": 1046,
    "start_time": "2023-06-22T13:47:49.878Z"
   },
   {
    "duration": 42,
    "start_time": "2023-06-22T13:47:50.930Z"
   },
   {
    "duration": 31,
    "start_time": "2023-06-22T13:47:50.974Z"
   },
   {
    "duration": 82,
    "start_time": "2023-06-22T13:47:51.022Z"
   },
   {
    "duration": 439,
    "start_time": "2023-06-22T13:47:51.106Z"
   },
   {
    "duration": 195,
    "start_time": "2023-06-22T13:47:51.547Z"
   },
   {
    "duration": 378,
    "start_time": "2023-06-22T13:47:51.744Z"
   },
   {
    "duration": 27,
    "start_time": "2023-06-22T13:47:52.124Z"
   },
   {
    "duration": 87,
    "start_time": "2023-06-22T13:47:52.153Z"
   },
   {
    "duration": 65,
    "start_time": "2023-06-22T13:47:52.244Z"
   },
   {
    "duration": 164,
    "start_time": "2023-06-22T13:47:52.312Z"
   },
   {
    "duration": 77,
    "start_time": "2023-06-22T13:47:52.478Z"
   },
   {
    "duration": 65,
    "start_time": "2023-06-22T13:47:52.559Z"
   },
   {
    "duration": 61,
    "start_time": "2023-06-22T13:47:52.633Z"
   },
   {
    "duration": 75,
    "start_time": "2023-06-22T13:47:52.696Z"
   },
   {
    "duration": 97,
    "start_time": "2023-06-22T13:47:52.774Z"
   },
   {
    "duration": 50,
    "start_time": "2023-06-22T13:47:52.874Z"
   },
   {
    "duration": 14,
    "start_time": "2023-06-22T13:47:52.926Z"
   },
   {
    "duration": 1360,
    "start_time": "2023-06-22T13:47:52.942Z"
   },
   {
    "duration": 17,
    "start_time": "2023-06-22T13:47:54.304Z"
   },
   {
    "duration": 1129,
    "start_time": "2023-06-22T13:47:54.326Z"
   },
   {
    "duration": 10,
    "start_time": "2023-06-22T13:47:55.458Z"
   },
   {
    "duration": 1340,
    "start_time": "2023-06-22T13:47:55.470Z"
   },
   {
    "duration": 810,
    "start_time": "2023-06-22T13:47:56.813Z"
   },
   {
    "duration": 1455,
    "start_time": "2023-06-22T13:47:57.625Z"
   },
   {
    "duration": 1323,
    "start_time": "2023-06-22T13:47:59.083Z"
   },
   {
    "duration": 18,
    "start_time": "2023-06-22T13:48:00.409Z"
   },
   {
    "duration": 453,
    "start_time": "2023-06-22T13:48:00.429Z"
   },
   {
    "duration": 285,
    "start_time": "2023-06-22T13:48:00.884Z"
   },
   {
    "duration": 79,
    "start_time": "2023-06-22T13:48:01.172Z"
   },
   {
    "duration": 1185,
    "start_time": "2023-06-22T13:48:01.254Z"
   },
   {
    "duration": 572,
    "start_time": "2023-06-22T13:48:02.448Z"
   },
   {
    "duration": 303,
    "start_time": "2023-06-22T13:48:03.023Z"
   },
   {
    "duration": 988,
    "start_time": "2023-06-22T13:48:03.337Z"
   },
   {
    "duration": 2,
    "start_time": "2023-06-22T13:48:04.329Z"
   },
   {
    "duration": 20,
    "start_time": "2023-06-22T13:48:04.336Z"
   },
   {
    "duration": 52,
    "start_time": "2023-06-22T13:48:04.358Z"
   },
   {
    "duration": 41,
    "start_time": "2023-06-22T13:48:04.416Z"
   },
   {
    "duration": 40,
    "start_time": "2023-06-22T13:48:04.459Z"
   },
   {
    "duration": 48,
    "start_time": "2023-06-22T13:48:04.505Z"
   },
   {
    "duration": 35,
    "start_time": "2023-06-22T13:48:04.555Z"
   },
   {
    "duration": 29,
    "start_time": "2023-06-22T13:48:04.592Z"
   },
   {
    "duration": 18,
    "start_time": "2023-06-22T13:48:04.624Z"
   },
   {
    "duration": 7,
    "start_time": "2023-06-22T13:48:04.644Z"
   },
   {
    "duration": 21,
    "start_time": "2023-06-22T13:48:04.653Z"
   },
   {
    "duration": 9,
    "start_time": "2023-06-22T13:48:04.677Z"
   },
   {
    "duration": 5026,
    "start_time": "2023-06-22T13:48:04.690Z"
   },
   {
    "duration": 369253,
    "start_time": "2023-06-22T13:48:09.724Z"
   },
   {
    "duration": 590175,
    "start_time": "2023-06-22T13:54:18.978Z"
   },
   {
    "duration": 7,
    "start_time": "2023-06-22T14:04:09.155Z"
   },
   {
    "duration": 59,
    "start_time": "2023-06-22T14:04:09.164Z"
   },
   {
    "duration": 37,
    "start_time": "2023-06-22T14:04:09.225Z"
   },
   {
    "duration": 26,
    "start_time": "2023-06-22T14:04:09.264Z"
   },
   {
    "duration": 13,
    "start_time": "2023-06-22T14:04:09.292Z"
   },
   {
    "duration": 614,
    "start_time": "2023-06-22T14:04:09.307Z"
   },
   {
    "duration": 18,
    "start_time": "2023-06-22T14:04:09.923Z"
   },
   {
    "duration": 97,
    "start_time": "2023-06-22T14:04:09.943Z"
   },
   {
    "duration": 25,
    "start_time": "2023-06-22T14:04:10.044Z"
   },
   {
    "duration": 14,
    "start_time": "2023-06-22T14:04:10.071Z"
   },
   {
    "duration": 20,
    "start_time": "2023-06-22T14:04:10.088Z"
   },
   {
    "duration": 75,
    "start_time": "2023-06-23T19:48:27.863Z"
   },
   {
    "duration": 2049,
    "start_time": "2023-06-23T19:48:43.024Z"
   },
   {
    "duration": 5038,
    "start_time": "2023-06-23T19:48:45.081Z"
   },
   {
    "duration": 23,
    "start_time": "2023-06-23T19:48:50.122Z"
   },
   {
    "duration": 19,
    "start_time": "2023-06-23T19:48:50.147Z"
   },
   {
    "duration": 45,
    "start_time": "2023-06-23T19:48:50.172Z"
   },
   {
    "duration": 237,
    "start_time": "2023-06-23T19:48:50.218Z"
   },
   {
    "duration": 140,
    "start_time": "2023-06-23T19:48:50.457Z"
   },
   {
    "duration": 253,
    "start_time": "2023-06-23T19:48:50.599Z"
   },
   {
    "duration": 28,
    "start_time": "2023-06-23T19:48:50.853Z"
   },
   {
    "duration": 18,
    "start_time": "2023-06-23T19:48:50.884Z"
   },
   {
    "duration": 20,
    "start_time": "2023-06-23T19:48:50.903Z"
   },
   {
    "duration": 30,
    "start_time": "2023-06-23T19:48:50.924Z"
   },
   {
    "duration": 6,
    "start_time": "2023-06-23T19:48:50.955Z"
   },
   {
    "duration": 20,
    "start_time": "2023-06-23T19:48:50.969Z"
   },
   {
    "duration": 28,
    "start_time": "2023-06-23T19:48:50.999Z"
   },
   {
    "duration": 49,
    "start_time": "2023-06-23T19:48:51.029Z"
   },
   {
    "duration": 68,
    "start_time": "2023-06-23T19:48:51.080Z"
   },
   {
    "duration": 36,
    "start_time": "2023-06-23T19:48:51.150Z"
   },
   {
    "duration": 11,
    "start_time": "2023-06-23T19:48:51.187Z"
   },
   {
    "duration": 807,
    "start_time": "2023-06-23T19:48:51.199Z"
   },
   {
    "duration": 7,
    "start_time": "2023-06-23T19:48:52.007Z"
   },
   {
    "duration": 740,
    "start_time": "2023-06-23T19:48:52.015Z"
   },
   {
    "duration": 15,
    "start_time": "2023-06-23T19:48:52.756Z"
   },
   {
    "duration": 882,
    "start_time": "2023-06-23T19:48:52.777Z"
   },
   {
    "duration": 825,
    "start_time": "2023-06-23T19:48:53.660Z"
   },
   {
    "duration": 891,
    "start_time": "2023-06-23T19:48:54.487Z"
   },
   {
    "duration": 770,
    "start_time": "2023-06-23T19:48:55.387Z"
   },
   {
    "duration": 3,
    "start_time": "2023-06-23T19:48:56.160Z"
   },
   {
    "duration": 33,
    "start_time": "2023-06-23T19:48:56.175Z"
   },
   {
    "duration": 39,
    "start_time": "2023-06-23T19:48:56.209Z"
   },
   {
    "duration": 886,
    "start_time": "2023-06-23T19:48:56.250Z"
   },
   {
    "duration": 339,
    "start_time": "2023-06-23T19:48:57.138Z"
   },
   {
    "duration": 205,
    "start_time": "2023-06-23T19:48:57.484Z"
   },
   {
    "duration": 747,
    "start_time": "2023-06-23T19:48:57.691Z"
   },
   {
    "duration": 12,
    "start_time": "2023-06-23T19:48:58.440Z"
   },
   {
    "duration": 68,
    "start_time": "2023-06-23T19:48:58.454Z"
   },
   {
    "duration": 17,
    "start_time": "2023-06-23T19:48:58.524Z"
   },
   {
    "duration": 38,
    "start_time": "2023-06-23T19:48:58.542Z"
   },
   {
    "duration": 41,
    "start_time": "2023-06-23T19:48:58.581Z"
   },
   {
    "duration": 7,
    "start_time": "2023-06-23T19:48:58.624Z"
   },
   {
    "duration": 8,
    "start_time": "2023-06-23T19:48:58.633Z"
   },
   {
    "duration": 5,
    "start_time": "2023-06-23T19:48:58.642Z"
   },
   {
    "duration": 5,
    "start_time": "2023-06-23T19:48:58.648Z"
   },
   {
    "duration": 6,
    "start_time": "2023-06-23T19:48:58.654Z"
   },
   {
    "duration": 11,
    "start_time": "2023-06-23T19:48:58.661Z"
   },
   {
    "duration": 11919,
    "start_time": "2023-06-23T19:48:58.686Z"
   },
   {
    "duration": 389345,
    "start_time": "2023-06-23T19:49:10.667Z"
   },
   {
    "duration": 1641,
    "start_time": "2023-06-23T20:08:33.964Z"
   },
   {
    "duration": 953,
    "start_time": "2023-06-23T20:08:35.614Z"
   },
   {
    "duration": 34,
    "start_time": "2023-06-23T20:08:36.572Z"
   },
   {
    "duration": 21,
    "start_time": "2023-06-23T20:08:36.612Z"
   },
   {
    "duration": 18,
    "start_time": "2023-06-23T20:08:36.635Z"
   },
   {
    "duration": 264,
    "start_time": "2023-06-23T20:08:36.654Z"
   },
   {
    "duration": 142,
    "start_time": "2023-06-23T20:08:36.919Z"
   },
   {
    "duration": 274,
    "start_time": "2023-06-23T20:08:37.063Z"
   },
   {
    "duration": 19,
    "start_time": "2023-06-23T20:08:37.338Z"
   },
   {
    "duration": 27,
    "start_time": "2023-06-23T20:08:37.359Z"
   },
   {
    "duration": 20,
    "start_time": "2023-06-23T20:08:37.387Z"
   },
   {
    "duration": 29,
    "start_time": "2023-06-23T20:08:37.409Z"
   },
   {
    "duration": 6,
    "start_time": "2023-06-23T20:08:37.440Z"
   },
   {
    "duration": 27,
    "start_time": "2023-06-23T20:08:37.447Z"
   },
   {
    "duration": 25,
    "start_time": "2023-06-23T20:08:37.476Z"
   },
   {
    "duration": 42,
    "start_time": "2023-06-23T20:08:37.506Z"
   },
   {
    "duration": 80,
    "start_time": "2023-06-23T20:08:37.550Z"
   },
   {
    "duration": 17,
    "start_time": "2023-06-23T20:08:37.631Z"
   },
   {
    "duration": 6,
    "start_time": "2023-06-23T20:08:37.649Z"
   },
   {
    "duration": 834,
    "start_time": "2023-06-23T20:08:37.668Z"
   },
   {
    "duration": 14,
    "start_time": "2023-06-23T20:08:38.503Z"
   },
   {
    "duration": 742,
    "start_time": "2023-06-23T20:08:38.518Z"
   },
   {
    "duration": 23,
    "start_time": "2023-06-23T20:08:39.261Z"
   },
   {
    "duration": 929,
    "start_time": "2023-06-23T20:08:39.288Z"
   },
   {
    "duration": 753,
    "start_time": "2023-06-23T20:08:40.222Z"
   },
   {
    "duration": 880,
    "start_time": "2023-06-23T20:08:40.977Z"
   },
   {
    "duration": 777,
    "start_time": "2023-06-23T20:08:41.859Z"
   },
   {
    "duration": 3,
    "start_time": "2023-06-23T20:08:42.640Z"
   },
   {
    "duration": 45,
    "start_time": "2023-06-23T20:08:42.645Z"
   },
   {
    "duration": 45,
    "start_time": "2023-06-23T20:08:42.696Z"
   },
   {
    "duration": 776,
    "start_time": "2023-06-23T20:08:42.743Z"
   },
   {
    "duration": 514,
    "start_time": "2023-06-23T20:08:43.523Z"
   },
   {
    "duration": 254,
    "start_time": "2023-06-23T20:08:44.039Z"
   },
   {
    "duration": 805,
    "start_time": "2023-06-23T20:08:44.299Z"
   },
   {
    "duration": 19,
    "start_time": "2023-06-23T20:08:45.107Z"
   },
   {
    "duration": 54,
    "start_time": "2023-06-23T20:08:45.132Z"
   },
   {
    "duration": 24,
    "start_time": "2023-06-23T20:08:45.187Z"
   },
   {
    "duration": 31,
    "start_time": "2023-06-23T20:08:45.222Z"
   },
   {
    "duration": 57,
    "start_time": "2023-06-23T20:08:45.255Z"
   },
   {
    "duration": 9,
    "start_time": "2023-06-23T20:08:45.319Z"
   },
   {
    "duration": 9,
    "start_time": "2023-06-23T20:08:45.329Z"
   },
   {
    "duration": 5,
    "start_time": "2023-06-23T20:08:45.339Z"
   },
   {
    "duration": 6,
    "start_time": "2023-06-23T20:08:45.345Z"
   },
   {
    "duration": 6,
    "start_time": "2023-06-23T20:08:45.352Z"
   },
   {
    "duration": 5,
    "start_time": "2023-06-23T20:08:45.360Z"
   },
   {
    "duration": 9251,
    "start_time": "2023-06-23T20:08:45.366Z"
   },
   {
    "duration": 397849,
    "start_time": "2023-06-23T20:08:54.620Z"
   },
   {
    "duration": 3698961,
    "start_time": "2023-06-23T20:15:32.471Z"
   },
   {
    "duration": 6,
    "start_time": "2023-06-23T21:17:11.434Z"
   },
   {
    "duration": 4,
    "start_time": "2023-06-23T21:17:11.441Z"
   },
   {
    "duration": 4,
    "start_time": "2023-06-23T21:17:11.446Z"
   },
   {
    "duration": 45,
    "start_time": "2023-06-23T21:17:11.451Z"
   },
   {
    "duration": 11,
    "start_time": "2023-06-23T21:17:11.505Z"
   },
   {
    "duration": 2282,
    "start_time": "2023-06-23T21:17:11.518Z"
   },
   {
    "duration": 64,
    "start_time": "2023-06-23T21:17:13.810Z"
   },
   {
    "duration": 14,
    "start_time": "2023-06-23T21:17:13.876Z"
   },
   {
    "duration": 80,
    "start_time": "2023-06-23T21:17:13.896Z"
   },
   {
    "duration": 9,
    "start_time": "2023-06-23T21:17:13.978Z"
   },
   {
    "duration": 21,
    "start_time": "2023-06-23T21:17:13.991Z"
   },
   {
    "duration": 1430,
    "start_time": "2023-06-23T21:25:41.334Z"
   },
   {
    "duration": 808,
    "start_time": "2023-06-23T21:25:42.766Z"
   },
   {
    "duration": 22,
    "start_time": "2023-06-23T21:25:43.583Z"
   },
   {
    "duration": 19,
    "start_time": "2023-06-23T21:25:43.607Z"
   },
   {
    "duration": 19,
    "start_time": "2023-06-23T21:25:43.627Z"
   },
   {
    "duration": 238,
    "start_time": "2023-06-23T21:25:43.647Z"
   },
   {
    "duration": 146,
    "start_time": "2023-06-23T21:25:43.887Z"
   },
   {
    "duration": 291,
    "start_time": "2023-06-23T21:25:44.036Z"
   },
   {
    "duration": 18,
    "start_time": "2023-06-23T21:25:44.329Z"
   },
   {
    "duration": 35,
    "start_time": "2023-06-23T21:25:44.350Z"
   },
   {
    "duration": 10,
    "start_time": "2023-06-23T21:25:44.387Z"
   },
   {
    "duration": 31,
    "start_time": "2023-06-23T21:25:44.398Z"
   },
   {
    "duration": 7,
    "start_time": "2023-06-23T21:25:44.430Z"
   },
   {
    "duration": 9,
    "start_time": "2023-06-23T21:25:44.439Z"
   },
   {
    "duration": 39,
    "start_time": "2023-06-23T21:25:44.449Z"
   },
   {
    "duration": 38,
    "start_time": "2023-06-23T21:25:44.489Z"
   },
   {
    "duration": 78,
    "start_time": "2023-06-23T21:25:44.529Z"
   },
   {
    "duration": 15,
    "start_time": "2023-06-23T21:25:44.609Z"
   },
   {
    "duration": 6,
    "start_time": "2023-06-23T21:25:44.626Z"
   },
   {
    "duration": 753,
    "start_time": "2023-06-23T21:25:44.634Z"
   },
   {
    "duration": 7,
    "start_time": "2023-06-23T21:25:45.388Z"
   },
   {
    "duration": 704,
    "start_time": "2023-06-23T21:25:45.397Z"
   },
   {
    "duration": 6,
    "start_time": "2023-06-23T21:25:46.103Z"
   },
   {
    "duration": 780,
    "start_time": "2023-06-23T21:25:46.111Z"
   },
   {
    "duration": 696,
    "start_time": "2023-06-23T21:25:46.892Z"
   },
   {
    "duration": 820,
    "start_time": "2023-06-23T21:25:47.590Z"
   },
   {
    "duration": 677,
    "start_time": "2023-06-23T21:25:48.411Z"
   },
   {
    "duration": 3,
    "start_time": "2023-06-23T21:25:49.092Z"
   },
   {
    "duration": 29,
    "start_time": "2023-06-23T21:25:49.097Z"
   },
   {
    "duration": 54,
    "start_time": "2023-06-23T21:25:49.128Z"
   },
   {
    "duration": 640,
    "start_time": "2023-06-23T21:25:49.186Z"
   },
   {
    "duration": 437,
    "start_time": "2023-06-23T21:25:49.827Z"
   },
   {
    "duration": 170,
    "start_time": "2023-06-23T21:25:50.271Z"
   },
   {
    "duration": 671,
    "start_time": "2023-06-23T21:25:50.443Z"
   },
   {
    "duration": 11,
    "start_time": "2023-06-23T21:25:51.116Z"
   },
   {
    "duration": 45,
    "start_time": "2023-06-23T21:25:51.129Z"
   },
   {
    "duration": 15,
    "start_time": "2023-06-23T21:25:51.181Z"
   },
   {
    "duration": 29,
    "start_time": "2023-06-23T21:25:51.197Z"
   },
   {
    "duration": 46,
    "start_time": "2023-06-23T21:25:51.228Z"
   },
   {
    "duration": 9,
    "start_time": "2023-06-23T21:25:51.279Z"
   },
   {
    "duration": 9,
    "start_time": "2023-06-23T21:25:51.290Z"
   },
   {
    "duration": 6,
    "start_time": "2023-06-23T21:25:51.301Z"
   },
   {
    "duration": 5,
    "start_time": "2023-06-23T21:25:51.308Z"
   },
   {
    "duration": 4,
    "start_time": "2023-06-23T21:25:51.314Z"
   },
   {
    "duration": 5,
    "start_time": "2023-06-23T21:25:51.319Z"
   },
   {
    "duration": 4648,
    "start_time": "2023-06-23T21:25:51.325Z"
   },
   {
    "duration": 14,
    "start_time": "2023-06-23T21:25:55.974Z"
   },
   {
    "duration": 84,
    "start_time": "2023-06-23T21:25:55.989Z"
   },
   {
    "duration": 25,
    "start_time": "2023-06-23T21:25:56.075Z"
   },
   {
    "duration": 859,
    "start_time": "2023-06-23T21:25:56.102Z"
   },
   {
    "duration": 0,
    "start_time": "2023-06-23T21:25:56.962Z"
   },
   {
    "duration": 0,
    "start_time": "2023-06-23T21:25:56.968Z"
   },
   {
    "duration": 0,
    "start_time": "2023-06-23T21:25:56.968Z"
   },
   {
    "duration": 0,
    "start_time": "2023-06-23T21:25:56.969Z"
   },
   {
    "duration": 0,
    "start_time": "2023-06-23T21:25:56.970Z"
   },
   {
    "duration": 1409,
    "start_time": "2023-06-23T21:27:09.418Z"
   },
   {
    "duration": 831,
    "start_time": "2023-06-23T21:27:10.829Z"
   },
   {
    "duration": 27,
    "start_time": "2023-06-23T21:27:11.662Z"
   },
   {
    "duration": 18,
    "start_time": "2023-06-23T21:27:11.691Z"
   },
   {
    "duration": 24,
    "start_time": "2023-06-23T21:27:11.710Z"
   },
   {
    "duration": 240,
    "start_time": "2023-06-23T21:27:11.735Z"
   },
   {
    "duration": 119,
    "start_time": "2023-06-23T21:27:11.981Z"
   },
   {
    "duration": 238,
    "start_time": "2023-06-23T21:27:12.102Z"
   },
   {
    "duration": 28,
    "start_time": "2023-06-23T21:27:12.342Z"
   },
   {
    "duration": 19,
    "start_time": "2023-06-23T21:27:12.380Z"
   },
   {
    "duration": 8,
    "start_time": "2023-06-23T21:27:12.400Z"
   },
   {
    "duration": 25,
    "start_time": "2023-06-23T21:27:12.409Z"
   },
   {
    "duration": 5,
    "start_time": "2023-06-23T21:27:12.435Z"
   },
   {
    "duration": 29,
    "start_time": "2023-06-23T21:27:12.442Z"
   },
   {
    "duration": 14,
    "start_time": "2023-06-23T21:27:12.479Z"
   },
   {
    "duration": 37,
    "start_time": "2023-06-23T21:27:12.495Z"
   },
   {
    "duration": 79,
    "start_time": "2023-06-23T21:27:12.534Z"
   },
   {
    "duration": 15,
    "start_time": "2023-06-23T21:27:12.614Z"
   },
   {
    "duration": 6,
    "start_time": "2023-06-23T21:27:12.631Z"
   },
   {
    "duration": 752,
    "start_time": "2023-06-23T21:27:12.638Z"
   },
   {
    "duration": 6,
    "start_time": "2023-06-23T21:27:13.392Z"
   },
   {
    "duration": 714,
    "start_time": "2023-06-23T21:27:13.400Z"
   },
   {
    "duration": 9,
    "start_time": "2023-06-23T21:27:14.116Z"
   },
   {
    "duration": 780,
    "start_time": "2023-06-23T21:27:14.126Z"
   },
   {
    "duration": 670,
    "start_time": "2023-06-23T21:27:14.907Z"
   },
   {
    "duration": 813,
    "start_time": "2023-06-23T21:27:15.583Z"
   },
   {
    "duration": 744,
    "start_time": "2023-06-23T21:27:16.398Z"
   },
   {
    "duration": 3,
    "start_time": "2023-06-23T21:27:17.145Z"
   },
   {
    "duration": 50,
    "start_time": "2023-06-23T21:27:17.150Z"
   },
   {
    "duration": 43,
    "start_time": "2023-06-23T21:27:17.201Z"
   },
   {
    "duration": 741,
    "start_time": "2023-06-23T21:27:17.245Z"
   },
   {
    "duration": 446,
    "start_time": "2023-06-23T21:27:17.988Z"
   },
   {
    "duration": 178,
    "start_time": "2023-06-23T21:27:18.435Z"
   },
   {
    "duration": 647,
    "start_time": "2023-06-23T21:27:18.614Z"
   },
   {
    "duration": 21,
    "start_time": "2023-06-23T21:27:19.262Z"
   },
   {
    "duration": 35,
    "start_time": "2023-06-23T21:27:19.285Z"
   },
   {
    "duration": 16,
    "start_time": "2023-06-23T21:27:19.322Z"
   },
   {
    "duration": 66,
    "start_time": "2023-06-23T21:27:19.340Z"
   },
   {
    "duration": 26,
    "start_time": "2023-06-23T21:27:19.408Z"
   },
   {
    "duration": 7,
    "start_time": "2023-06-23T21:27:19.436Z"
   },
   {
    "duration": 28,
    "start_time": "2023-06-23T21:27:19.445Z"
   },
   {
    "duration": 16,
    "start_time": "2023-06-23T21:27:19.479Z"
   },
   {
    "duration": 5,
    "start_time": "2023-06-23T21:27:19.496Z"
   },
   {
    "duration": 5,
    "start_time": "2023-06-23T21:27:19.503Z"
   },
   {
    "duration": 4,
    "start_time": "2023-06-23T21:27:19.509Z"
   },
   {
    "duration": 4665,
    "start_time": "2023-06-23T21:27:19.514Z"
   },
   {
    "duration": 88,
    "start_time": "2023-06-23T21:27:24.187Z"
   },
   {
    "duration": 13,
    "start_time": "2023-06-23T21:27:24.281Z"
   },
   {
    "duration": 14,
    "start_time": "2023-06-23T21:27:24.296Z"
   },
   {
    "duration": 872,
    "start_time": "2023-06-23T21:27:24.312Z"
   },
   {
    "duration": 88,
    "start_time": "2023-06-23T21:27:25.189Z"
   },
   {
    "duration": 3,
    "start_time": "2023-06-23T21:27:25.279Z"
   },
   {
    "duration": 13,
    "start_time": "2023-06-23T21:27:25.284Z"
   },
   {
    "duration": 2,
    "start_time": "2023-06-23T21:27:25.299Z"
   },
   {
    "duration": 13,
    "start_time": "2023-06-23T21:27:25.369Z"
   },
   {
    "duration": 322,
    "start_time": "2023-06-23T21:35:03.263Z"
   },
   {
    "duration": 1438,
    "start_time": "2023-06-23T21:38:18.031Z"
   },
   {
    "duration": 771,
    "start_time": "2023-06-23T21:38:19.471Z"
   },
   {
    "duration": 25,
    "start_time": "2023-06-23T21:38:20.244Z"
   },
   {
    "duration": 18,
    "start_time": "2023-06-23T21:38:20.270Z"
   },
   {
    "duration": 23,
    "start_time": "2023-06-23T21:38:20.289Z"
   },
   {
    "duration": 265,
    "start_time": "2023-06-23T21:38:20.314Z"
   },
   {
    "duration": 138,
    "start_time": "2023-06-23T21:38:20.581Z"
   },
   {
    "duration": 263,
    "start_time": "2023-06-23T21:38:20.720Z"
   },
   {
    "duration": 17,
    "start_time": "2023-06-23T21:38:20.984Z"
   },
   {
    "duration": 15,
    "start_time": "2023-06-23T21:38:21.004Z"
   },
   {
    "duration": 13,
    "start_time": "2023-06-23T21:38:21.020Z"
   },
   {
    "duration": 45,
    "start_time": "2023-06-23T21:38:21.035Z"
   },
   {
    "duration": 7,
    "start_time": "2023-06-23T21:38:21.082Z"
   },
   {
    "duration": 6,
    "start_time": "2023-06-23T21:38:21.090Z"
   },
   {
    "duration": 18,
    "start_time": "2023-06-23T21:38:21.098Z"
   },
   {
    "duration": 73,
    "start_time": "2023-06-23T21:38:21.117Z"
   },
   {
    "duration": 63,
    "start_time": "2023-06-23T21:38:21.191Z"
   },
   {
    "duration": 18,
    "start_time": "2023-06-23T21:38:21.268Z"
   },
   {
    "duration": 7,
    "start_time": "2023-06-23T21:38:21.288Z"
   },
   {
    "duration": 798,
    "start_time": "2023-06-23T21:38:21.296Z"
   },
   {
    "duration": 7,
    "start_time": "2023-06-23T21:38:22.096Z"
   },
   {
    "duration": 712,
    "start_time": "2023-06-23T21:38:22.105Z"
   },
   {
    "duration": 8,
    "start_time": "2023-06-23T21:38:22.818Z"
   },
   {
    "duration": 1013,
    "start_time": "2023-06-23T21:38:22.827Z"
   },
   {
    "duration": 721,
    "start_time": "2023-06-23T21:38:23.842Z"
   },
   {
    "duration": 722,
    "start_time": "2023-06-23T21:38:24.564Z"
   },
   {
    "duration": 637,
    "start_time": "2023-06-23T21:38:25.288Z"
   },
   {
    "duration": 3,
    "start_time": "2023-06-23T21:38:25.929Z"
   },
   {
    "duration": 42,
    "start_time": "2023-06-23T21:38:25.934Z"
   },
   {
    "duration": 38,
    "start_time": "2023-06-23T21:38:25.977Z"
   },
   {
    "duration": 619,
    "start_time": "2023-06-23T21:38:26.016Z"
   },
   {
    "duration": 402,
    "start_time": "2023-06-23T21:38:26.636Z"
   },
   {
    "duration": 171,
    "start_time": "2023-06-23T21:38:27.039Z"
   },
   {
    "duration": 629,
    "start_time": "2023-06-23T21:38:27.212Z"
   },
   {
    "duration": 13,
    "start_time": "2023-06-23T21:38:27.843Z"
   },
   {
    "duration": 44,
    "start_time": "2023-06-23T21:38:27.857Z"
   },
   {
    "duration": 14,
    "start_time": "2023-06-23T21:38:27.903Z"
   },
   {
    "duration": 50,
    "start_time": "2023-06-23T21:38:27.918Z"
   },
   {
    "duration": 27,
    "start_time": "2023-06-23T21:38:27.969Z"
   },
   {
    "duration": 8,
    "start_time": "2023-06-23T21:38:27.997Z"
   },
   {
    "duration": 19,
    "start_time": "2023-06-23T21:38:28.006Z"
   },
   {
    "duration": 6,
    "start_time": "2023-06-23T21:38:28.026Z"
   },
   {
    "duration": 4,
    "start_time": "2023-06-23T21:38:28.034Z"
   },
   {
    "duration": 11,
    "start_time": "2023-06-23T21:38:28.039Z"
   },
   {
    "duration": 15,
    "start_time": "2023-06-23T21:38:28.052Z"
   },
   {
    "duration": 2703,
    "start_time": "2023-06-23T21:38:28.068Z"
   },
   {
    "duration": 7,
    "start_time": "2023-06-23T21:38:30.773Z"
   },
   {
    "duration": 88,
    "start_time": "2023-06-23T21:38:30.782Z"
   },
   {
    "duration": 30,
    "start_time": "2023-06-23T21:38:30.871Z"
   },
   {
    "duration": 372,
    "start_time": "2023-06-23T21:38:30.903Z"
   },
   {
    "duration": 98,
    "start_time": "2023-06-23T21:38:31.277Z"
   },
   {
    "duration": 92,
    "start_time": "2023-06-23T21:38:31.377Z"
   },
   {
    "duration": 35,
    "start_time": "2023-06-23T21:38:31.471Z"
   },
   {
    "duration": 54,
    "start_time": "2023-06-23T21:38:31.508Z"
   },
   {
    "duration": 30,
    "start_time": "2023-06-23T21:38:31.564Z"
   },
   {
    "duration": 1346,
    "start_time": "2023-06-23T21:41:35.502Z"
   },
   {
    "duration": 772,
    "start_time": "2023-06-23T21:41:36.850Z"
   },
   {
    "duration": 23,
    "start_time": "2023-06-23T21:41:37.623Z"
   },
   {
    "duration": 28,
    "start_time": "2023-06-23T21:41:37.648Z"
   },
   {
    "duration": 18,
    "start_time": "2023-06-23T21:41:37.677Z"
   },
   {
    "duration": 233,
    "start_time": "2023-06-23T21:41:37.697Z"
   },
   {
    "duration": 131,
    "start_time": "2023-06-23T21:41:37.932Z"
   },
   {
    "duration": 234,
    "start_time": "2023-06-23T21:41:38.065Z"
   },
   {
    "duration": 16,
    "start_time": "2023-06-23T21:41:38.300Z"
   },
   {
    "duration": 14,
    "start_time": "2023-06-23T21:41:38.319Z"
   },
   {
    "duration": 8,
    "start_time": "2023-06-23T21:41:38.334Z"
   },
   {
    "duration": 47,
    "start_time": "2023-06-23T21:41:38.343Z"
   },
   {
    "duration": 6,
    "start_time": "2023-06-23T21:41:38.391Z"
   },
   {
    "duration": 6,
    "start_time": "2023-06-23T21:41:38.399Z"
   },
   {
    "duration": 16,
    "start_time": "2023-06-23T21:41:38.406Z"
   },
   {
    "duration": 67,
    "start_time": "2023-06-23T21:41:38.423Z"
   },
   {
    "duration": 58,
    "start_time": "2023-06-23T21:41:38.491Z"
   },
   {
    "duration": 29,
    "start_time": "2023-06-23T21:41:38.551Z"
   },
   {
    "duration": 6,
    "start_time": "2023-06-23T21:41:38.581Z"
   },
   {
    "duration": 691,
    "start_time": "2023-06-23T21:41:38.588Z"
   },
   {
    "duration": 7,
    "start_time": "2023-06-23T21:41:39.280Z"
   },
   {
    "duration": 617,
    "start_time": "2023-06-23T21:41:39.288Z"
   },
   {
    "duration": 6,
    "start_time": "2023-06-23T21:41:39.907Z"
   },
   {
    "duration": 747,
    "start_time": "2023-06-23T21:41:39.915Z"
   },
   {
    "duration": 620,
    "start_time": "2023-06-23T21:41:40.664Z"
   },
   {
    "duration": 732,
    "start_time": "2023-06-23T21:41:41.285Z"
   },
   {
    "duration": 652,
    "start_time": "2023-06-23T21:41:42.019Z"
   },
   {
    "duration": 2,
    "start_time": "2023-06-23T21:41:42.675Z"
   },
   {
    "duration": 30,
    "start_time": "2023-06-23T21:41:42.678Z"
   },
   {
    "duration": 40,
    "start_time": "2023-06-23T21:41:42.710Z"
   },
   {
    "duration": 643,
    "start_time": "2023-06-23T21:41:42.768Z"
   },
   {
    "duration": 410,
    "start_time": "2023-06-23T21:41:43.413Z"
   },
   {
    "duration": 183,
    "start_time": "2023-06-23T21:41:43.825Z"
   },
   {
    "duration": 617,
    "start_time": "2023-06-23T21:41:44.010Z"
   },
   {
    "duration": 12,
    "start_time": "2023-06-23T21:41:44.629Z"
   },
   {
    "duration": 42,
    "start_time": "2023-06-23T21:41:44.643Z"
   },
   {
    "duration": 14,
    "start_time": "2023-06-23T21:41:44.687Z"
   },
   {
    "duration": 29,
    "start_time": "2023-06-23T21:41:44.702Z"
   },
   {
    "duration": 51,
    "start_time": "2023-06-23T21:41:44.732Z"
   },
   {
    "duration": 7,
    "start_time": "2023-06-23T21:41:44.785Z"
   },
   {
    "duration": 8,
    "start_time": "2023-06-23T21:41:44.794Z"
   },
   {
    "duration": 5,
    "start_time": "2023-06-23T21:41:44.803Z"
   },
   {
    "duration": 4,
    "start_time": "2023-06-23T21:41:44.809Z"
   },
   {
    "duration": 5,
    "start_time": "2023-06-23T21:41:44.814Z"
   },
   {
    "duration": 5,
    "start_time": "2023-06-23T21:41:44.820Z"
   },
   {
    "duration": 2544,
    "start_time": "2023-06-23T21:41:44.826Z"
   },
   {
    "duration": 8,
    "start_time": "2023-06-23T21:41:47.372Z"
   },
   {
    "duration": 4,
    "start_time": "2023-06-23T21:41:47.468Z"
   },
   {
    "duration": 6,
    "start_time": "2023-06-23T21:41:47.474Z"
   },
   {
    "duration": 390,
    "start_time": "2023-06-23T21:41:47.481Z"
   },
   {
    "duration": 96,
    "start_time": "2023-06-23T21:41:47.873Z"
   },
   {
    "duration": 5,
    "start_time": "2023-06-23T21:41:47.971Z"
   },
   {
    "duration": 9,
    "start_time": "2023-06-23T21:41:47.977Z"
   },
   {
    "duration": 14,
    "start_time": "2023-06-23T21:41:47.987Z"
   },
   {
    "duration": 8,
    "start_time": "2023-06-23T21:41:48.003Z"
   },
   {
    "duration": 1423,
    "start_time": "2023-06-23T21:51:14.902Z"
   },
   {
    "duration": 752,
    "start_time": "2023-06-23T21:51:16.328Z"
   },
   {
    "duration": 21,
    "start_time": "2023-06-23T21:51:17.082Z"
   },
   {
    "duration": 19,
    "start_time": "2023-06-23T21:51:17.105Z"
   },
   {
    "duration": 18,
    "start_time": "2023-06-23T21:51:17.125Z"
   },
   {
    "duration": 248,
    "start_time": "2023-06-23T21:51:17.144Z"
   },
   {
    "duration": 124,
    "start_time": "2023-06-23T21:51:17.394Z"
   },
   {
    "duration": 227,
    "start_time": "2023-06-23T21:51:17.519Z"
   },
   {
    "duration": 21,
    "start_time": "2023-06-23T21:51:17.748Z"
   },
   {
    "duration": 14,
    "start_time": "2023-06-23T21:51:17.772Z"
   },
   {
    "duration": 8,
    "start_time": "2023-06-23T21:51:17.788Z"
   },
   {
    "duration": 26,
    "start_time": "2023-06-23T21:51:17.798Z"
   },
   {
    "duration": 7,
    "start_time": "2023-06-23T21:51:17.826Z"
   },
   {
    "duration": 36,
    "start_time": "2023-06-23T21:51:17.834Z"
   },
   {
    "duration": 22,
    "start_time": "2023-06-23T21:51:17.872Z"
   },
   {
    "duration": 38,
    "start_time": "2023-06-23T21:51:17.896Z"
   },
   {
    "duration": 76,
    "start_time": "2023-06-23T21:51:17.936Z"
   },
   {
    "duration": 18,
    "start_time": "2023-06-23T21:51:18.014Z"
   },
   {
    "duration": 7,
    "start_time": "2023-06-23T21:51:18.033Z"
   },
   {
    "duration": 723,
    "start_time": "2023-06-23T21:51:18.041Z"
   },
   {
    "duration": 7,
    "start_time": "2023-06-23T21:51:18.767Z"
   },
   {
    "duration": 641,
    "start_time": "2023-06-23T21:51:18.776Z"
   },
   {
    "duration": 7,
    "start_time": "2023-06-23T21:51:19.419Z"
   },
   {
    "duration": 771,
    "start_time": "2023-06-23T21:51:19.428Z"
   },
   {
    "duration": 692,
    "start_time": "2023-06-23T21:51:20.200Z"
   },
   {
    "duration": 841,
    "start_time": "2023-06-23T21:51:20.894Z"
   },
   {
    "duration": 715,
    "start_time": "2023-06-23T21:51:21.737Z"
   },
   {
    "duration": 3,
    "start_time": "2023-06-23T21:51:22.456Z"
   },
   {
    "duration": 32,
    "start_time": "2023-06-23T21:51:22.467Z"
   },
   {
    "duration": 39,
    "start_time": "2023-06-23T21:51:22.501Z"
   },
   {
    "duration": 708,
    "start_time": "2023-06-23T21:51:22.542Z"
   },
   {
    "duration": 489,
    "start_time": "2023-06-23T21:51:23.251Z"
   },
   {
    "duration": 190,
    "start_time": "2023-06-23T21:51:23.742Z"
   },
   {
    "duration": 737,
    "start_time": "2023-06-23T21:51:23.933Z"
   },
   {
    "duration": 13,
    "start_time": "2023-06-23T21:51:24.672Z"
   },
   {
    "duration": 37,
    "start_time": "2023-06-23T21:51:24.687Z"
   },
   {
    "duration": 16,
    "start_time": "2023-06-23T21:51:24.725Z"
   },
   {
    "duration": 33,
    "start_time": "2023-06-23T21:51:24.767Z"
   },
   {
    "duration": 29,
    "start_time": "2023-06-23T21:51:24.801Z"
   },
   {
    "duration": 8,
    "start_time": "2023-06-23T21:51:24.831Z"
   },
   {
    "duration": 29,
    "start_time": "2023-06-23T21:51:24.841Z"
   },
   {
    "duration": 5,
    "start_time": "2023-06-23T21:51:24.871Z"
   },
   {
    "duration": 3,
    "start_time": "2023-06-23T21:51:24.878Z"
   },
   {
    "duration": 4,
    "start_time": "2023-06-23T21:51:24.883Z"
   },
   {
    "duration": 5,
    "start_time": "2023-06-23T21:51:24.888Z"
   },
   {
    "duration": 2578,
    "start_time": "2023-06-23T21:51:24.894Z"
   },
   {
    "duration": 8,
    "start_time": "2023-06-23T21:51:27.473Z"
   },
   {
    "duration": 10,
    "start_time": "2023-06-23T21:51:27.567Z"
   },
   {
    "duration": 6,
    "start_time": "2023-06-23T21:51:27.578Z"
   },
   {
    "duration": 484,
    "start_time": "2023-06-23T21:51:27.585Z"
   },
   {
    "duration": 9,
    "start_time": "2023-06-23T21:51:28.071Z"
   },
   {
    "duration": 103,
    "start_time": "2023-06-23T21:51:28.082Z"
   },
   {
    "duration": 15,
    "start_time": "2023-06-23T21:51:28.187Z"
   },
   {
    "duration": 18,
    "start_time": "2023-06-23T21:51:28.204Z"
   },
   {
    "duration": 12,
    "start_time": "2023-06-23T21:51:28.224Z"
   },
   {
    "duration": 1400,
    "start_time": "2023-06-23T21:53:40.094Z"
   },
   {
    "duration": 756,
    "start_time": "2023-06-23T21:53:41.496Z"
   },
   {
    "duration": 25,
    "start_time": "2023-06-23T21:53:42.254Z"
   },
   {
    "duration": 19,
    "start_time": "2023-06-23T21:53:42.280Z"
   },
   {
    "duration": 17,
    "start_time": "2023-06-23T21:53:42.300Z"
   },
   {
    "duration": 237,
    "start_time": "2023-06-23T21:53:42.319Z"
   },
   {
    "duration": 128,
    "start_time": "2023-06-23T21:53:42.558Z"
   },
   {
    "duration": 240,
    "start_time": "2023-06-23T21:53:42.688Z"
   },
   {
    "duration": 16,
    "start_time": "2023-06-23T21:53:42.930Z"
   },
   {
    "duration": 28,
    "start_time": "2023-06-23T21:53:42.948Z"
   },
   {
    "duration": 9,
    "start_time": "2023-06-23T21:53:42.979Z"
   },
   {
    "duration": 25,
    "start_time": "2023-06-23T21:53:42.989Z"
   },
   {
    "duration": 6,
    "start_time": "2023-06-23T21:53:43.016Z"
   },
   {
    "duration": 7,
    "start_time": "2023-06-23T21:53:43.023Z"
   },
   {
    "duration": 54,
    "start_time": "2023-06-23T21:53:43.032Z"
   },
   {
    "duration": 39,
    "start_time": "2023-06-23T21:53:43.088Z"
   },
   {
    "duration": 87,
    "start_time": "2023-06-23T21:53:43.129Z"
   },
   {
    "duration": 17,
    "start_time": "2023-06-23T21:53:43.218Z"
   },
   {
    "duration": 6,
    "start_time": "2023-06-23T21:53:43.237Z"
   },
   {
    "duration": 754,
    "start_time": "2023-06-23T21:53:43.244Z"
   },
   {
    "duration": 9,
    "start_time": "2023-06-23T21:53:44.000Z"
   },
   {
    "duration": 633,
    "start_time": "2023-06-23T21:53:44.011Z"
   },
   {
    "duration": 6,
    "start_time": "2023-06-23T21:53:44.645Z"
   },
   {
    "duration": 727,
    "start_time": "2023-06-23T21:53:44.653Z"
   },
   {
    "duration": 646,
    "start_time": "2023-06-23T21:53:45.382Z"
   },
   {
    "duration": 751,
    "start_time": "2023-06-23T21:53:46.030Z"
   },
   {
    "duration": 661,
    "start_time": "2023-06-23T21:53:46.783Z"
   },
   {
    "duration": 3,
    "start_time": "2023-06-23T21:53:47.448Z"
   },
   {
    "duration": 36,
    "start_time": "2023-06-23T21:53:47.452Z"
   },
   {
    "duration": 34,
    "start_time": "2023-06-23T21:53:47.489Z"
   },
   {
    "duration": 614,
    "start_time": "2023-06-23T21:53:47.525Z"
   },
   {
    "duration": 409,
    "start_time": "2023-06-23T21:53:48.140Z"
   },
   {
    "duration": 159,
    "start_time": "2023-06-23T21:53:48.550Z"
   },
   {
    "duration": 596,
    "start_time": "2023-06-23T21:53:48.711Z"
   },
   {
    "duration": 12,
    "start_time": "2023-06-23T21:53:49.308Z"
   },
   {
    "duration": 47,
    "start_time": "2023-06-23T21:53:49.322Z"
   },
   {
    "duration": 15,
    "start_time": "2023-06-23T21:53:49.370Z"
   },
   {
    "duration": 34,
    "start_time": "2023-06-23T21:53:49.386Z"
   },
   {
    "duration": 52,
    "start_time": "2023-06-23T21:53:49.422Z"
   },
   {
    "duration": 7,
    "start_time": "2023-06-23T21:53:49.475Z"
   },
   {
    "duration": 12,
    "start_time": "2023-06-23T21:53:49.484Z"
   },
   {
    "duration": 18,
    "start_time": "2023-06-23T21:53:49.497Z"
   },
   {
    "duration": 9,
    "start_time": "2023-06-23T21:53:49.517Z"
   },
   {
    "duration": 5,
    "start_time": "2023-06-23T21:53:49.527Z"
   },
   {
    "duration": 9,
    "start_time": "2023-06-23T21:53:49.533Z"
   },
   {
    "duration": 2829,
    "start_time": "2023-06-23T21:53:49.543Z"
   },
   {
    "duration": 94,
    "start_time": "2023-06-23T21:53:52.374Z"
   },
   {
    "duration": 5,
    "start_time": "2023-06-23T21:53:52.471Z"
   },
   {
    "duration": 6,
    "start_time": "2023-06-23T21:53:52.477Z"
   },
   {
    "duration": 373,
    "start_time": "2023-06-23T21:53:52.485Z"
   },
   {
    "duration": 0,
    "start_time": "2023-06-23T21:53:52.860Z"
   },
   {
    "duration": 0,
    "start_time": "2023-06-23T21:53:52.861Z"
   },
   {
    "duration": 0,
    "start_time": "2023-06-23T21:53:52.861Z"
   },
   {
    "duration": 0,
    "start_time": "2023-06-23T21:53:52.868Z"
   },
   {
    "duration": 0,
    "start_time": "2023-06-23T21:53:52.869Z"
   },
   {
    "duration": 1481,
    "start_time": "2023-06-23T21:55:00.544Z"
   },
   {
    "duration": 773,
    "start_time": "2023-06-23T21:55:02.027Z"
   },
   {
    "duration": 22,
    "start_time": "2023-06-23T21:55:02.801Z"
   },
   {
    "duration": 17,
    "start_time": "2023-06-23T21:55:02.825Z"
   },
   {
    "duration": 36,
    "start_time": "2023-06-23T21:55:02.843Z"
   },
   {
    "duration": 247,
    "start_time": "2023-06-23T21:55:02.880Z"
   },
   {
    "duration": 122,
    "start_time": "2023-06-23T21:55:03.128Z"
   },
   {
    "duration": 237,
    "start_time": "2023-06-23T21:55:03.251Z"
   },
   {
    "duration": 16,
    "start_time": "2023-06-23T21:55:03.490Z"
   },
   {
    "duration": 15,
    "start_time": "2023-06-23T21:55:03.508Z"
   },
   {
    "duration": 8,
    "start_time": "2023-06-23T21:55:03.524Z"
   },
   {
    "duration": 46,
    "start_time": "2023-06-23T21:55:03.533Z"
   },
   {
    "duration": 6,
    "start_time": "2023-06-23T21:55:03.580Z"
   },
   {
    "duration": 8,
    "start_time": "2023-06-23T21:55:03.587Z"
   },
   {
    "duration": 18,
    "start_time": "2023-06-23T21:55:03.597Z"
   },
   {
    "duration": 60,
    "start_time": "2023-06-23T21:55:03.616Z"
   },
   {
    "duration": 59,
    "start_time": "2023-06-23T21:55:03.677Z"
   },
   {
    "duration": 31,
    "start_time": "2023-06-23T21:55:03.738Z"
   },
   {
    "duration": 7,
    "start_time": "2023-06-23T21:55:03.770Z"
   },
   {
    "duration": 736,
    "start_time": "2023-06-23T21:55:03.778Z"
   },
   {
    "duration": 7,
    "start_time": "2023-06-23T21:55:04.515Z"
   },
   {
    "duration": 650,
    "start_time": "2023-06-23T21:55:04.523Z"
   },
   {
    "duration": 7,
    "start_time": "2023-06-23T21:55:05.175Z"
   },
   {
    "duration": 776,
    "start_time": "2023-06-23T21:55:05.183Z"
   },
   {
    "duration": 620,
    "start_time": "2023-06-23T21:55:05.961Z"
   },
   {
    "duration": 748,
    "start_time": "2023-06-23T21:55:06.583Z"
   },
   {
    "duration": 611,
    "start_time": "2023-06-23T21:55:07.333Z"
   },
   {
    "duration": 3,
    "start_time": "2023-06-23T21:55:07.947Z"
   },
   {
    "duration": 39,
    "start_time": "2023-06-23T21:55:07.952Z"
   },
   {
    "duration": 38,
    "start_time": "2023-06-23T21:55:07.992Z"
   },
   {
    "duration": 631,
    "start_time": "2023-06-23T21:55:08.032Z"
   },
   {
    "duration": 413,
    "start_time": "2023-06-23T21:55:08.664Z"
   },
   {
    "duration": 161,
    "start_time": "2023-06-23T21:55:09.079Z"
   },
   {
    "duration": 608,
    "start_time": "2023-06-23T21:55:09.242Z"
   },
   {
    "duration": 16,
    "start_time": "2023-06-23T21:55:09.852Z"
   },
   {
    "duration": 34,
    "start_time": "2023-06-23T21:55:09.869Z"
   },
   {
    "duration": 15,
    "start_time": "2023-06-23T21:55:09.904Z"
   },
   {
    "duration": 50,
    "start_time": "2023-06-23T21:55:09.921Z"
   },
   {
    "duration": 27,
    "start_time": "2023-06-23T21:55:09.973Z"
   },
   {
    "duration": 8,
    "start_time": "2023-06-23T21:55:10.001Z"
   },
   {
    "duration": 39,
    "start_time": "2023-06-23T21:55:10.011Z"
   },
   {
    "duration": 9,
    "start_time": "2023-06-23T21:55:10.051Z"
   },
   {
    "duration": 17,
    "start_time": "2023-06-23T21:55:10.061Z"
   },
   {
    "duration": 6,
    "start_time": "2023-06-23T21:55:10.079Z"
   },
   {
    "duration": 18,
    "start_time": "2023-06-23T21:55:10.086Z"
   },
   {
    "duration": 2870,
    "start_time": "2023-06-23T21:55:10.105Z"
   },
   {
    "duration": 92,
    "start_time": "2023-06-23T21:55:12.977Z"
   },
   {
    "duration": 8,
    "start_time": "2023-06-23T21:55:13.071Z"
   },
   {
    "duration": 87,
    "start_time": "2023-06-23T21:55:13.081Z"
   },
   {
    "duration": 331,
    "start_time": "2023-06-23T21:55:13.170Z"
   },
   {
    "duration": 0,
    "start_time": "2023-06-23T21:55:13.503Z"
   },
   {
    "duration": 0,
    "start_time": "2023-06-23T21:55:13.504Z"
   },
   {
    "duration": 0,
    "start_time": "2023-06-23T21:55:13.505Z"
   },
   {
    "duration": 0,
    "start_time": "2023-06-23T21:55:13.506Z"
   },
   {
    "duration": 0,
    "start_time": "2023-06-23T21:55:13.507Z"
   },
   {
    "duration": 1446,
    "start_time": "2023-06-23T22:00:52.948Z"
   },
   {
    "duration": 756,
    "start_time": "2023-06-23T22:00:54.396Z"
   },
   {
    "duration": 27,
    "start_time": "2023-06-23T22:00:55.153Z"
   },
   {
    "duration": 16,
    "start_time": "2023-06-23T22:00:55.182Z"
   },
   {
    "duration": 31,
    "start_time": "2023-06-23T22:00:55.199Z"
   },
   {
    "duration": 215,
    "start_time": "2023-06-23T22:00:55.231Z"
   },
   {
    "duration": 113,
    "start_time": "2023-06-23T22:00:55.448Z"
   },
   {
    "duration": 229,
    "start_time": "2023-06-23T22:00:55.562Z"
   },
   {
    "duration": 18,
    "start_time": "2023-06-23T22:00:55.792Z"
   },
   {
    "duration": 15,
    "start_time": "2023-06-23T22:00:55.813Z"
   },
   {
    "duration": 11,
    "start_time": "2023-06-23T22:00:55.829Z"
   },
   {
    "duration": 51,
    "start_time": "2023-06-23T22:00:55.842Z"
   },
   {
    "duration": 6,
    "start_time": "2023-06-23T22:00:55.895Z"
   },
   {
    "duration": 13,
    "start_time": "2023-06-23T22:00:55.903Z"
   },
   {
    "duration": 16,
    "start_time": "2023-06-23T22:00:55.918Z"
   },
   {
    "duration": 66,
    "start_time": "2023-06-23T22:00:55.936Z"
   },
   {
    "duration": 66,
    "start_time": "2023-06-23T22:00:56.004Z"
   },
   {
    "duration": 16,
    "start_time": "2023-06-23T22:00:56.071Z"
   },
   {
    "duration": 6,
    "start_time": "2023-06-23T22:00:56.088Z"
   },
   {
    "duration": 673,
    "start_time": "2023-06-23T22:00:56.095Z"
   },
   {
    "duration": 7,
    "start_time": "2023-06-23T22:00:56.769Z"
   },
   {
    "duration": 633,
    "start_time": "2023-06-23T22:00:56.778Z"
   },
   {
    "duration": 7,
    "start_time": "2023-06-23T22:00:57.412Z"
   },
   {
    "duration": 736,
    "start_time": "2023-06-23T22:00:57.420Z"
   },
   {
    "duration": 619,
    "start_time": "2023-06-23T22:00:58.157Z"
   },
   {
    "duration": 731,
    "start_time": "2023-06-23T22:00:58.777Z"
   },
   {
    "duration": 615,
    "start_time": "2023-06-23T22:00:59.510Z"
   },
   {
    "duration": 4,
    "start_time": "2023-06-23T22:01:00.128Z"
   },
   {
    "duration": 71,
    "start_time": "2023-06-23T22:01:00.133Z"
   },
   {
    "duration": 59,
    "start_time": "2023-06-23T22:01:00.206Z"
   },
   {
    "duration": 646,
    "start_time": "2023-06-23T22:01:00.266Z"
   },
   {
    "duration": 434,
    "start_time": "2023-06-23T22:01:00.913Z"
   },
   {
    "duration": 174,
    "start_time": "2023-06-23T22:01:01.349Z"
   },
   {
    "duration": 618,
    "start_time": "2023-06-23T22:01:01.525Z"
   },
   {
    "duration": 11,
    "start_time": "2023-06-23T22:01:02.145Z"
   },
   {
    "duration": 64,
    "start_time": "2023-06-23T22:01:02.158Z"
   },
   {
    "duration": 65,
    "start_time": "2023-06-23T22:01:02.224Z"
   },
   {
    "duration": 63,
    "start_time": "2023-06-23T22:01:02.290Z"
   },
   {
    "duration": 35,
    "start_time": "2023-06-23T22:01:02.354Z"
   },
   {
    "duration": 20,
    "start_time": "2023-06-23T22:01:02.390Z"
   },
   {
    "duration": 140,
    "start_time": "2023-06-23T22:01:02.412Z"
   },
   {
    "duration": 41,
    "start_time": "2023-06-23T22:01:02.554Z"
   },
   {
    "duration": 30,
    "start_time": "2023-06-23T22:01:02.596Z"
   },
   {
    "duration": 29,
    "start_time": "2023-06-23T22:01:02.627Z"
   },
   {
    "duration": 28,
    "start_time": "2023-06-23T22:01:02.658Z"
   },
   {
    "duration": 2680,
    "start_time": "2023-06-23T22:01:02.688Z"
   },
   {
    "duration": 101,
    "start_time": "2023-06-23T22:01:05.371Z"
   },
   {
    "duration": 7,
    "start_time": "2023-06-23T22:01:05.473Z"
   },
   {
    "duration": 8,
    "start_time": "2023-06-23T22:01:05.481Z"
   },
   {
    "duration": 486,
    "start_time": "2023-06-23T22:01:05.490Z"
   },
   {
    "duration": 101,
    "start_time": "2023-06-23T22:01:05.977Z"
   },
   {
    "duration": 91,
    "start_time": "2023-06-23T22:01:06.080Z"
   },
   {
    "duration": 20,
    "start_time": "2023-06-23T22:01:06.173Z"
   },
   {
    "duration": 4,
    "start_time": "2023-06-23T22:01:06.195Z"
   },
   {
    "duration": 10,
    "start_time": "2023-06-23T22:01:06.200Z"
   },
   {
    "duration": 1382,
    "start_time": "2023-06-23T22:05:07.697Z"
   },
   {
    "duration": 771,
    "start_time": "2023-06-23T22:05:09.080Z"
   },
   {
    "duration": 26,
    "start_time": "2023-06-23T22:05:09.853Z"
   },
   {
    "duration": 18,
    "start_time": "2023-06-23T22:05:09.881Z"
   },
   {
    "duration": 38,
    "start_time": "2023-06-23T22:05:09.900Z"
   },
   {
    "duration": 215,
    "start_time": "2023-06-23T22:05:09.939Z"
   },
   {
    "duration": 114,
    "start_time": "2023-06-23T22:05:10.156Z"
   },
   {
    "duration": 238,
    "start_time": "2023-06-23T22:05:10.271Z"
   },
   {
    "duration": 16,
    "start_time": "2023-06-23T22:05:10.513Z"
   },
   {
    "duration": 14,
    "start_time": "2023-06-23T22:05:10.532Z"
   },
   {
    "duration": 24,
    "start_time": "2023-06-23T22:05:10.547Z"
   },
   {
    "duration": 29,
    "start_time": "2023-06-23T22:05:10.573Z"
   },
   {
    "duration": 7,
    "start_time": "2023-06-23T22:05:10.603Z"
   },
   {
    "duration": 13,
    "start_time": "2023-06-23T22:05:10.611Z"
   },
   {
    "duration": 19,
    "start_time": "2023-06-23T22:05:10.626Z"
   },
   {
    "duration": 56,
    "start_time": "2023-06-23T22:05:10.646Z"
   },
   {
    "duration": 66,
    "start_time": "2023-06-23T22:05:10.704Z"
   },
   {
    "duration": 15,
    "start_time": "2023-06-23T22:05:10.772Z"
   },
   {
    "duration": 22,
    "start_time": "2023-06-23T22:05:10.789Z"
   },
   {
    "duration": 683,
    "start_time": "2023-06-23T22:05:10.812Z"
   },
   {
    "duration": 10,
    "start_time": "2023-06-23T22:05:11.497Z"
   },
   {
    "duration": 645,
    "start_time": "2023-06-23T22:05:11.509Z"
   },
   {
    "duration": 13,
    "start_time": "2023-06-23T22:05:12.156Z"
   },
   {
    "duration": 731,
    "start_time": "2023-06-23T22:05:12.171Z"
   },
   {
    "duration": 628,
    "start_time": "2023-06-23T22:05:12.904Z"
   },
   {
    "duration": 759,
    "start_time": "2023-06-23T22:05:13.533Z"
   },
   {
    "duration": 612,
    "start_time": "2023-06-23T22:05:14.294Z"
   },
   {
    "duration": 3,
    "start_time": "2023-06-23T22:05:14.909Z"
   },
   {
    "duration": 40,
    "start_time": "2023-06-23T22:05:14.913Z"
   },
   {
    "duration": 40,
    "start_time": "2023-06-23T22:05:14.955Z"
   },
   {
    "duration": 617,
    "start_time": "2023-06-23T22:05:14.997Z"
   },
   {
    "duration": 447,
    "start_time": "2023-06-23T22:05:15.616Z"
   },
   {
    "duration": 179,
    "start_time": "2023-06-23T22:05:16.064Z"
   },
   {
    "duration": 739,
    "start_time": "2023-06-23T22:05:16.244Z"
   },
   {
    "duration": 13,
    "start_time": "2023-06-23T22:05:16.985Z"
   },
   {
    "duration": 49,
    "start_time": "2023-06-23T22:05:17.000Z"
   },
   {
    "duration": 32,
    "start_time": "2023-06-23T22:05:17.051Z"
   },
   {
    "duration": 39,
    "start_time": "2023-06-23T22:05:17.085Z"
   },
   {
    "duration": 52,
    "start_time": "2023-06-23T22:05:17.126Z"
   },
   {
    "duration": 8,
    "start_time": "2023-06-23T22:05:17.180Z"
   },
   {
    "duration": 31,
    "start_time": "2023-06-23T22:05:17.189Z"
   },
   {
    "duration": 22,
    "start_time": "2023-06-23T22:05:17.222Z"
   },
   {
    "duration": 9,
    "start_time": "2023-06-23T22:05:17.246Z"
   },
   {
    "duration": 11,
    "start_time": "2023-06-23T22:05:17.257Z"
   },
   {
    "duration": 17,
    "start_time": "2023-06-23T22:05:17.270Z"
   },
   {
    "duration": 2481,
    "start_time": "2023-06-23T22:05:17.289Z"
   },
   {
    "duration": 96,
    "start_time": "2023-06-23T22:05:19.772Z"
   },
   {
    "duration": 28,
    "start_time": "2023-06-23T22:05:19.870Z"
   },
   {
    "duration": 33,
    "start_time": "2023-06-23T22:05:19.900Z"
   },
   {
    "duration": 536,
    "start_time": "2023-06-23T22:05:19.934Z"
   },
   {
    "duration": 7,
    "start_time": "2023-06-23T22:05:20.472Z"
   },
   {
    "duration": 10,
    "start_time": "2023-06-23T22:05:20.481Z"
   },
   {
    "duration": 10,
    "start_time": "2023-06-23T22:05:20.493Z"
   },
   {
    "duration": 64,
    "start_time": "2023-06-23T22:05:20.504Z"
   },
   {
    "duration": 9,
    "start_time": "2023-06-23T22:05:20.570Z"
   },
   {
    "duration": 1441,
    "start_time": "2023-06-23T22:14:03.211Z"
   },
   {
    "duration": 804,
    "start_time": "2023-06-23T22:14:04.654Z"
   },
   {
    "duration": 27,
    "start_time": "2023-06-23T22:14:05.460Z"
   },
   {
    "duration": 38,
    "start_time": "2023-06-23T22:14:05.489Z"
   },
   {
    "duration": 21,
    "start_time": "2023-06-23T22:14:05.529Z"
   },
   {
    "duration": 207,
    "start_time": "2023-06-23T22:14:05.552Z"
   },
   {
    "duration": 138,
    "start_time": "2023-06-23T22:14:05.761Z"
   },
   {
    "duration": 232,
    "start_time": "2023-06-23T22:14:05.901Z"
   },
   {
    "duration": 15,
    "start_time": "2023-06-23T22:14:06.135Z"
   },
   {
    "duration": 24,
    "start_time": "2023-06-23T22:14:06.152Z"
   },
   {
    "duration": 8,
    "start_time": "2023-06-23T22:14:06.178Z"
   },
   {
    "duration": 29,
    "start_time": "2023-06-23T22:14:06.187Z"
   },
   {
    "duration": 6,
    "start_time": "2023-06-23T22:14:06.218Z"
   },
   {
    "duration": 9,
    "start_time": "2023-06-23T22:14:06.225Z"
   },
   {
    "duration": 35,
    "start_time": "2023-06-23T22:14:06.236Z"
   },
   {
    "duration": 38,
    "start_time": "2023-06-23T22:14:06.272Z"
   },
   {
    "duration": 75,
    "start_time": "2023-06-23T22:14:06.312Z"
   },
   {
    "duration": 17,
    "start_time": "2023-06-23T22:14:06.389Z"
   },
   {
    "duration": 6,
    "start_time": "2023-06-23T22:14:06.408Z"
   },
   {
    "duration": 676,
    "start_time": "2023-06-23T22:14:06.415Z"
   },
   {
    "duration": 7,
    "start_time": "2023-06-23T22:14:07.093Z"
   },
   {
    "duration": 628,
    "start_time": "2023-06-23T22:14:07.102Z"
   },
   {
    "duration": 8,
    "start_time": "2023-06-23T22:14:07.732Z"
   },
   {
    "duration": 727,
    "start_time": "2023-06-23T22:14:07.741Z"
   },
   {
    "duration": 625,
    "start_time": "2023-06-23T22:14:08.470Z"
   },
   {
    "duration": 735,
    "start_time": "2023-06-23T22:14:09.097Z"
   },
   {
    "duration": 614,
    "start_time": "2023-06-23T22:14:09.834Z"
   },
   {
    "duration": 3,
    "start_time": "2023-06-23T22:14:10.452Z"
   },
   {
    "duration": 41,
    "start_time": "2023-06-23T22:14:10.457Z"
   },
   {
    "duration": 36,
    "start_time": "2023-06-23T22:14:10.499Z"
   },
   {
    "duration": 617,
    "start_time": "2023-06-23T22:14:10.537Z"
   },
   {
    "duration": 393,
    "start_time": "2023-06-23T22:14:11.156Z"
   },
   {
    "duration": 167,
    "start_time": "2023-06-23T22:14:11.551Z"
   },
   {
    "duration": 595,
    "start_time": "2023-06-23T22:14:11.720Z"
   },
   {
    "duration": 12,
    "start_time": "2023-06-23T22:14:12.318Z"
   },
   {
    "duration": 49,
    "start_time": "2023-06-23T22:14:12.332Z"
   },
   {
    "duration": 15,
    "start_time": "2023-06-23T22:14:12.383Z"
   },
   {
    "duration": 31,
    "start_time": "2023-06-23T22:14:12.400Z"
   },
   {
    "duration": 53,
    "start_time": "2023-06-23T22:14:12.432Z"
   },
   {
    "duration": 8,
    "start_time": "2023-06-23T22:14:12.487Z"
   },
   {
    "duration": 31,
    "start_time": "2023-06-23T22:14:12.496Z"
   },
   {
    "duration": 20,
    "start_time": "2023-06-23T22:14:12.529Z"
   },
   {
    "duration": 17,
    "start_time": "2023-06-23T22:14:12.551Z"
   },
   {
    "duration": 23,
    "start_time": "2023-06-23T22:14:12.570Z"
   },
   {
    "duration": 16,
    "start_time": "2023-06-23T22:14:12.595Z"
   },
   {
    "duration": 2856,
    "start_time": "2023-06-23T22:14:12.613Z"
   },
   {
    "duration": 324255,
    "start_time": "2023-06-23T22:14:15.471Z"
   },
   {
    "duration": 1718761,
    "start_time": "2023-06-23T22:19:39.728Z"
   },
   {
    "duration": 6,
    "start_time": "2023-06-23T22:48:18.491Z"
   },
   {
    "duration": 5,
    "start_time": "2023-06-23T22:48:18.499Z"
   },
   {
    "duration": 5,
    "start_time": "2023-06-23T22:48:18.505Z"
   },
   {
    "duration": 16,
    "start_time": "2023-06-23T22:48:18.511Z"
   },
   {
    "duration": 7,
    "start_time": "2023-06-23T22:48:18.528Z"
   },
   {
    "duration": 641,
    "start_time": "2023-06-23T22:48:18.536Z"
   },
   {
    "duration": 14,
    "start_time": "2023-06-23T22:48:19.267Z"
   },
   {
    "duration": 4,
    "start_time": "2023-06-23T22:48:19.282Z"
   },
   {
    "duration": 6,
    "start_time": "2023-06-23T22:48:19.288Z"
   },
   {
    "duration": 3,
    "start_time": "2023-06-23T22:48:19.296Z"
   },
   {
    "duration": 8,
    "start_time": "2023-06-23T22:48:19.300Z"
   },
   {
    "duration": 281,
    "start_time": "2023-06-23T23:09:58.318Z"
   },
   {
    "duration": 1366,
    "start_time": "2023-06-23T23:10:19.029Z"
   },
   {
    "duration": 829,
    "start_time": "2023-06-23T23:10:20.397Z"
   },
   {
    "duration": 24,
    "start_time": "2023-06-23T23:10:21.228Z"
   },
   {
    "duration": 30,
    "start_time": "2023-06-23T23:10:21.254Z"
   },
   {
    "duration": 21,
    "start_time": "2023-06-23T23:10:21.285Z"
   },
   {
    "duration": 248,
    "start_time": "2023-06-23T23:10:21.308Z"
   },
   {
    "duration": 134,
    "start_time": "2023-06-23T23:10:21.558Z"
   },
   {
    "duration": 262,
    "start_time": "2023-06-23T23:10:21.693Z"
   },
   {
    "duration": 21,
    "start_time": "2023-06-23T23:10:21.957Z"
   },
   {
    "duration": 17,
    "start_time": "2023-06-23T23:10:21.980Z"
   },
   {
    "duration": 9,
    "start_time": "2023-06-23T23:10:21.998Z"
   },
   {
    "duration": 31,
    "start_time": "2023-06-23T23:10:22.008Z"
   },
   {
    "duration": 33,
    "start_time": "2023-06-23T23:10:22.040Z"
   },
   {
    "duration": 6,
    "start_time": "2023-06-23T23:10:22.074Z"
   },
   {
    "duration": 22,
    "start_time": "2023-06-23T23:10:22.082Z"
   },
   {
    "duration": 63,
    "start_time": "2023-06-23T23:10:22.106Z"
   },
   {
    "duration": 67,
    "start_time": "2023-06-23T23:10:22.171Z"
   },
   {
    "duration": 35,
    "start_time": "2023-06-23T23:10:22.239Z"
   },
   {
    "duration": 7,
    "start_time": "2023-06-23T23:10:22.275Z"
   },
   {
    "duration": 727,
    "start_time": "2023-06-23T23:10:22.284Z"
   },
   {
    "duration": 6,
    "start_time": "2023-06-23T23:10:23.012Z"
   },
   {
    "duration": 662,
    "start_time": "2023-06-23T23:10:23.020Z"
   },
   {
    "duration": 8,
    "start_time": "2023-06-23T23:10:23.684Z"
   },
   {
    "duration": 871,
    "start_time": "2023-06-23T23:10:23.693Z"
   },
   {
    "duration": 633,
    "start_time": "2023-06-23T23:10:24.565Z"
   },
   {
    "duration": 739,
    "start_time": "2023-06-23T23:10:25.200Z"
   },
   {
    "duration": 625,
    "start_time": "2023-06-23T23:10:25.940Z"
   },
   {
    "duration": 3,
    "start_time": "2023-06-23T23:10:26.569Z"
   },
   {
    "duration": 29,
    "start_time": "2023-06-23T23:10:26.574Z"
   },
   {
    "duration": 36,
    "start_time": "2023-06-23T23:10:26.604Z"
   },
   {
    "duration": 653,
    "start_time": "2023-06-23T23:10:26.642Z"
   },
   {
    "duration": 427,
    "start_time": "2023-06-23T23:10:27.297Z"
   },
   {
    "duration": 173,
    "start_time": "2023-06-23T23:10:27.726Z"
   },
   {
    "duration": 610,
    "start_time": "2023-06-23T23:10:27.901Z"
   },
   {
    "duration": 13,
    "start_time": "2023-06-23T23:10:28.513Z"
   },
   {
    "duration": 46,
    "start_time": "2023-06-23T23:10:28.528Z"
   },
   {
    "duration": 15,
    "start_time": "2023-06-23T23:10:28.576Z"
   },
   {
    "duration": 29,
    "start_time": "2023-06-23T23:10:28.592Z"
   },
   {
    "duration": 51,
    "start_time": "2023-06-23T23:10:28.622Z"
   },
   {
    "duration": 8,
    "start_time": "2023-06-23T23:10:28.675Z"
   },
   {
    "duration": 16,
    "start_time": "2023-06-23T23:10:28.684Z"
   },
   {
    "duration": 12,
    "start_time": "2023-06-23T23:10:28.701Z"
   },
   {
    "duration": 7,
    "start_time": "2023-06-23T23:10:28.714Z"
   },
   {
    "duration": 4,
    "start_time": "2023-06-23T23:10:28.723Z"
   },
   {
    "duration": 8,
    "start_time": "2023-06-23T23:10:28.728Z"
   },
   {
    "duration": 3036,
    "start_time": "2023-06-23T23:10:28.738Z"
   },
   {
    "duration": 342509,
    "start_time": "2023-06-23T23:10:31.776Z"
   },
   {
    "duration": 1498,
    "start_time": "2023-06-23T23:18:17.323Z"
   },
   {
    "duration": 768,
    "start_time": "2023-06-23T23:18:18.823Z"
   },
   {
    "duration": 24,
    "start_time": "2023-06-23T23:18:19.592Z"
   },
   {
    "duration": 18,
    "start_time": "2023-06-23T23:18:19.618Z"
   },
   {
    "duration": 33,
    "start_time": "2023-06-23T23:18:19.637Z"
   },
   {
    "duration": 216,
    "start_time": "2023-06-23T23:18:19.671Z"
   },
   {
    "duration": 127,
    "start_time": "2023-06-23T23:18:19.888Z"
   },
   {
    "duration": 236,
    "start_time": "2023-06-23T23:18:20.016Z"
   },
   {
    "duration": 22,
    "start_time": "2023-06-23T23:18:20.253Z"
   },
   {
    "duration": 14,
    "start_time": "2023-06-23T23:18:20.277Z"
   },
   {
    "duration": 8,
    "start_time": "2023-06-23T23:18:20.293Z"
   },
   {
    "duration": 24,
    "start_time": "2023-06-23T23:18:20.302Z"
   },
   {
    "duration": 6,
    "start_time": "2023-06-23T23:18:20.327Z"
   },
   {
    "duration": 6,
    "start_time": "2023-06-23T23:18:20.368Z"
   },
   {
    "duration": 20,
    "start_time": "2023-06-23T23:18:20.375Z"
   },
   {
    "duration": 38,
    "start_time": "2023-06-23T23:18:20.396Z"
   },
   {
    "duration": 87,
    "start_time": "2023-06-23T23:18:20.436Z"
   },
   {
    "duration": 17,
    "start_time": "2023-06-23T23:18:20.525Z"
   },
   {
    "duration": 27,
    "start_time": "2023-06-23T23:18:20.543Z"
   },
   {
    "duration": 774,
    "start_time": "2023-06-23T23:18:20.571Z"
   },
   {
    "duration": 7,
    "start_time": "2023-06-23T23:18:21.347Z"
   },
   {
    "duration": 737,
    "start_time": "2023-06-23T23:18:21.356Z"
   },
   {
    "duration": 8,
    "start_time": "2023-06-23T23:18:22.095Z"
   },
   {
    "duration": 817,
    "start_time": "2023-06-23T23:18:22.105Z"
   },
   {
    "duration": 733,
    "start_time": "2023-06-23T23:18:22.924Z"
   },
   {
    "duration": 981,
    "start_time": "2023-06-23T23:18:23.659Z"
   },
   {
    "duration": 727,
    "start_time": "2023-06-23T23:18:24.641Z"
   },
   {
    "duration": 3,
    "start_time": "2023-06-23T23:18:25.371Z"
   },
   {
    "duration": 28,
    "start_time": "2023-06-23T23:18:25.376Z"
   },
   {
    "duration": 33,
    "start_time": "2023-06-23T23:18:25.406Z"
   },
   {
    "duration": 637,
    "start_time": "2023-06-23T23:18:25.441Z"
   },
   {
    "duration": 449,
    "start_time": "2023-06-23T23:18:26.080Z"
   },
   {
    "duration": 165,
    "start_time": "2023-06-23T23:18:26.530Z"
   },
   {
    "duration": 624,
    "start_time": "2023-06-23T23:18:26.697Z"
   },
   {
    "duration": 13,
    "start_time": "2023-06-23T23:18:27.322Z"
   },
   {
    "duration": 53,
    "start_time": "2023-06-23T23:18:27.336Z"
   },
   {
    "duration": 15,
    "start_time": "2023-06-23T23:18:27.390Z"
   },
   {
    "duration": 30,
    "start_time": "2023-06-23T23:18:27.407Z"
   },
   {
    "duration": 48,
    "start_time": "2023-06-23T23:18:27.439Z"
   },
   {
    "duration": 7,
    "start_time": "2023-06-23T23:18:27.489Z"
   },
   {
    "duration": 9,
    "start_time": "2023-06-23T23:18:27.497Z"
   },
   {
    "duration": 8,
    "start_time": "2023-06-23T23:18:27.507Z"
   },
   {
    "duration": 5,
    "start_time": "2023-06-23T23:18:27.516Z"
   },
   {
    "duration": 4,
    "start_time": "2023-06-23T23:18:27.522Z"
   },
   {
    "duration": 5,
    "start_time": "2023-06-23T23:18:27.528Z"
   },
   {
    "duration": 2938,
    "start_time": "2023-06-23T23:18:27.535Z"
   },
   {
    "duration": 334632,
    "start_time": "2023-06-23T23:18:30.475Z"
   },
   {
    "duration": 1637974,
    "start_time": "2023-06-23T23:24:05.108Z"
   },
   {
    "duration": 6,
    "start_time": "2023-06-23T23:51:23.084Z"
   },
   {
    "duration": 4,
    "start_time": "2023-06-23T23:51:23.091Z"
   },
   {
    "duration": 5,
    "start_time": "2023-06-23T23:51:23.097Z"
   },
   {
    "duration": 13,
    "start_time": "2023-06-23T23:51:23.104Z"
   },
   {
    "duration": 7,
    "start_time": "2023-06-23T23:51:23.119Z"
   },
   {
    "duration": 543,
    "start_time": "2023-06-23T23:51:23.128Z"
   },
   {
    "duration": 95,
    "start_time": "2023-06-23T23:51:23.674Z"
   },
   {
    "duration": 4,
    "start_time": "2023-06-23T23:51:23.771Z"
   },
   {
    "duration": 7,
    "start_time": "2023-06-23T23:51:23.777Z"
   },
   {
    "duration": 3,
    "start_time": "2023-06-23T23:51:23.786Z"
   },
   {
    "duration": 82,
    "start_time": "2023-06-23T23:51:23.790Z"
   },
   {
    "duration": 1811,
    "start_time": "2023-06-24T07:31:21.310Z"
   },
   {
    "duration": 2332,
    "start_time": "2023-06-24T07:31:23.123Z"
   },
   {
    "duration": 37,
    "start_time": "2023-06-24T07:31:25.458Z"
   },
   {
    "duration": 50,
    "start_time": "2023-06-24T07:31:25.498Z"
   },
   {
    "duration": 65,
    "start_time": "2023-06-24T07:31:25.552Z"
   },
   {
    "duration": 302,
    "start_time": "2023-06-24T07:31:25.619Z"
   },
   {
    "duration": 138,
    "start_time": "2023-06-24T07:31:25.922Z"
   },
   {
    "duration": 261,
    "start_time": "2023-06-24T07:31:26.061Z"
   },
   {
    "duration": 28,
    "start_time": "2023-06-24T07:31:26.324Z"
   },
   {
    "duration": 30,
    "start_time": "2023-06-24T07:31:26.355Z"
   },
   {
    "duration": 11,
    "start_time": "2023-06-24T07:31:26.387Z"
   },
   {
    "duration": 30,
    "start_time": "2023-06-24T07:31:26.400Z"
   },
   {
    "duration": 26,
    "start_time": "2023-06-24T07:31:26.432Z"
   },
   {
    "duration": 13,
    "start_time": "2023-06-24T07:31:26.460Z"
   },
   {
    "duration": 42,
    "start_time": "2023-06-24T07:31:26.476Z"
   },
   {
    "duration": 78,
    "start_time": "2023-06-24T07:31:26.521Z"
   },
   {
    "duration": 76,
    "start_time": "2023-06-24T07:31:26.601Z"
   },
   {
    "duration": 18,
    "start_time": "2023-06-24T07:31:26.679Z"
   },
   {
    "duration": 15,
    "start_time": "2023-06-24T07:31:26.699Z"
   },
   {
    "duration": 969,
    "start_time": "2023-06-24T07:31:26.716Z"
   },
   {
    "duration": 7,
    "start_time": "2023-06-24T07:31:27.690Z"
   },
   {
    "duration": 902,
    "start_time": "2023-06-24T07:31:27.699Z"
   },
   {
    "duration": 10,
    "start_time": "2023-06-24T07:31:28.603Z"
   },
   {
    "duration": 1005,
    "start_time": "2023-06-24T07:31:28.616Z"
   },
   {
    "duration": 738,
    "start_time": "2023-06-24T07:31:29.623Z"
   },
   {
    "duration": 905,
    "start_time": "2023-06-24T07:31:30.363Z"
   },
   {
    "duration": 811,
    "start_time": "2023-06-24T07:31:31.270Z"
   },
   {
    "duration": 5,
    "start_time": "2023-06-24T07:31:32.088Z"
   },
   {
    "duration": 88,
    "start_time": "2023-06-24T07:31:32.095Z"
   },
   {
    "duration": 88,
    "start_time": "2023-06-24T07:31:32.186Z"
   },
   {
    "duration": 1066,
    "start_time": "2023-06-24T07:31:32.276Z"
   },
   {
    "duration": 402,
    "start_time": "2023-06-24T07:31:33.346Z"
   },
   {
    "duration": 214,
    "start_time": "2023-06-24T07:31:33.751Z"
   },
   {
    "duration": 916,
    "start_time": "2023-06-24T07:31:33.967Z"
   },
   {
    "duration": 16,
    "start_time": "2023-06-24T07:31:34.885Z"
   },
   {
    "duration": 62,
    "start_time": "2023-06-24T07:31:34.904Z"
   },
   {
    "duration": 23,
    "start_time": "2023-06-24T07:31:34.968Z"
   },
   {
    "duration": 61,
    "start_time": "2023-06-24T07:31:34.993Z"
   },
   {
    "duration": 49,
    "start_time": "2023-06-24T07:31:35.056Z"
   },
   {
    "duration": 11,
    "start_time": "2023-06-24T07:31:35.108Z"
   },
   {
    "duration": 33,
    "start_time": "2023-06-24T07:31:35.122Z"
   },
   {
    "duration": 36,
    "start_time": "2023-06-24T07:31:35.157Z"
   },
   {
    "duration": 23,
    "start_time": "2023-06-24T07:31:35.195Z"
   },
   {
    "duration": 20,
    "start_time": "2023-06-24T07:31:35.220Z"
   },
   {
    "duration": 21,
    "start_time": "2023-06-24T07:31:35.243Z"
   },
   {
    "duration": 3592,
    "start_time": "2023-06-24T07:31:35.266Z"
   },
   {
    "duration": 372501,
    "start_time": "2023-06-24T07:31:38.862Z"
   },
   {
    "duration": 1887779,
    "start_time": "2023-06-24T07:37:51.365Z"
   },
   {
    "duration": 27,
    "start_time": "2023-06-24T08:09:19.146Z"
   },
   {
    "duration": 39,
    "start_time": "2023-06-24T08:09:19.177Z"
   },
   {
    "duration": 11,
    "start_time": "2023-06-24T08:09:19.218Z"
   },
   {
    "duration": 49,
    "start_time": "2023-06-24T08:09:19.231Z"
   },
   {
    "duration": 16,
    "start_time": "2023-06-24T08:09:19.282Z"
   },
   {
    "duration": 1867,
    "start_time": "2023-06-24T08:09:19.300Z"
   },
   {
    "duration": 13,
    "start_time": "2023-06-24T08:09:21.186Z"
   },
   {
    "duration": 10,
    "start_time": "2023-06-24T08:09:21.201Z"
   },
   {
    "duration": 52,
    "start_time": "2023-06-24T08:09:21.214Z"
   },
   {
    "duration": 18,
    "start_time": "2023-06-24T08:09:21.271Z"
   },
   {
    "duration": 12,
    "start_time": "2023-06-24T08:09:21.291Z"
   }
  ],
  "kernelspec": {
   "display_name": "Python 3 (ipykernel)",
   "language": "python",
   "name": "python3"
  },
  "language_info": {
   "codemirror_mode": {
    "name": "ipython",
    "version": 3
   },
   "file_extension": ".py",
   "mimetype": "text/x-python",
   "name": "python",
   "nbconvert_exporter": "python",
   "pygments_lexer": "ipython3",
   "version": "3.11.4"
  },
  "toc": {
   "base_numbering": 1,
   "nav_menu": {},
   "number_sections": true,
   "sideBar": true,
   "skip_h1_title": true,
   "title_cell": "Contents",
   "title_sidebar": "Contents",
   "toc_cell": true,
   "toc_position": {
    "height": "calc(100% - 180px)",
    "left": "10px",
    "top": "150px",
    "width": "214.333px"
   },
   "toc_section_display": true,
   "toc_window_display": true
  },
  "varInspector": {
   "cols": {
    "lenName": 16,
    "lenType": 16,
    "lenVar": 40
   },
   "kernels_config": {
    "python": {
     "delete_cmd_postfix": "",
     "delete_cmd_prefix": "del ",
     "library": "var_list.py",
     "varRefreshCmd": "print(var_dic_list())"
    },
    "r": {
     "delete_cmd_postfix": ") ",
     "delete_cmd_prefix": "rm(",
     "library": "var_list.r",
     "varRefreshCmd": "cat(var_dic_list()) "
    }
   },
   "types_to_exclude": [
    "module",
    "function",
    "builtin_function_or_method",
    "instance",
    "_Feature"
   ],
   "window_display": false
  }
 },
 "nbformat": 4,
 "nbformat_minor": 2
}
