{
 "cells": [
  {
   "cell_type": "markdown",
   "metadata": {},
   "source": [
    "# Protection of clients' personal data"
   ]
  },
  {
   "cell_type": "markdown",
   "metadata": {},
   "source": [
    "It is necessary to protect the data of clients of the insurance company \"Though the Flood\". \n",
    "\n",
    "<u>*Target*</u>\n",
    "\n",
    "Develop a method for converting data so that it is difficult to recover personal information from it. Justify the correctness of its operation.\n",
    "\n",
    "It is necessary to protect the data so that the quality of machine learning models does not deteriorate during conversion. There is no need to select the best model.\n",
    "\n",
    "<u>*Tasks*</u>\n",
    "1. Download and explore data.\n",
    "\n",
    "2. Answer the question and justify the decision. \n",
    "\n",
    " The features are multiplied by an invertible matrix. Will the quality of linear regression change? (She can be retrained.)\n",
    " \n",
    " a. Will change. Give examples of matrices.\n",
    " \n",
    " b. Will not change. Indicate how the linear regression parameters in the original problem and in the transformed one are related.\n",
    " \n",
    " 3. Propose a data transformation algorithm to solve the problem. Justify why the quality of linear regression will not change.\n",
    " \n",
    " 4. Program this algorithm using matrix operations. Check that the quality of the linear regression from sklearn does not differ before and after the transformation. Apply Metric R2.\n",
    "\n",
    "<u>Features</u>: Пол - gender, Возраст - age and Зарплата - salary of the insured, Члены семьи -  number of family members.\n",
    "\n",
    "<u>Target</u>: Страховые выплаты - number of insurance payments to the client over the last 5 years."
   ]
  },
  {
   "cell_type": "markdown",
   "metadata": {
    "toc": true
   },
   "source": [
    "<h1>Contents<span class=\"tocSkip\"></span></h1>\n",
    "<div class=\"toc\"><ul class=\"toc-item\"><li><span><a href=\"#Loading-Data\" data-toc-modified-id=\"Loading-Data-1\"><span class=\"toc-item-num\">1&nbsp;&nbsp;</span>Loading Data</a></span></li><li><span><a href=\"#Matrix-multiplication\" data-toc-modified-id=\"Matrix-multiplication-2\"><span class=\"toc-item-num\">2&nbsp;&nbsp;</span>Matrix multiplication</a></span></li><li><span><a href=\"#Conversion-algorithm\" data-toc-modified-id=\"Conversion-algorithm-3\"><span class=\"toc-item-num\">3&nbsp;&nbsp;</span>Conversion algorithm</a></span><ul class=\"toc-item\"><li><span><a href=\"#Algorithm\" data-toc-modified-id=\"Algorithm-3.1\"><span class=\"toc-item-num\">3.1&nbsp;&nbsp;</span>Algorithm</a></span></li><li><span><a href=\"#Rationale\" data-toc-modified-id=\"Rationale-3.2\"><span class=\"toc-item-num\">3.2&nbsp;&nbsp;</span>Rationale</a></span></li></ul></li><li><span><a href=\"#Algorithm-verification\" data-toc-modified-id=\"Algorithm-verification-4\"><span class=\"toc-item-num\">4&nbsp;&nbsp;</span>Algorithm verification</a></span></li></ul></div>"
   ]
  },
  {
   "cell_type": "markdown",
   "metadata": {},
   "source": [
    "## Loading Data"
   ]
  },
  {
   "cell_type": "code",
   "execution_count": 1,
   "metadata": {},
   "outputs": [],
   "source": [
    "# download the libraries\n",
    "import pandas as pd\n",
    "import numpy as np\n",
    "from sklearn.metrics import r2_score, mean_squared_error, accuracy_score\n",
    "import warnings\n",
    "warnings.filterwarnings('ignore')\n",
    "from sklearn.model_selection import train_test_split\n",
    "from sklearn.linear_model import LinearRegression"
   ]
  },
  {
   "cell_type": "code",
   "execution_count": 2,
   "metadata": {},
   "outputs": [
    {
     "data": {
      "text/html": [
       "<div>\n",
       "<style scoped>\n",
       "    .dataframe tbody tr th:only-of-type {\n",
       "        vertical-align: middle;\n",
       "    }\n",
       "\n",
       "    .dataframe tbody tr th {\n",
       "        vertical-align: top;\n",
       "    }\n",
       "\n",
       "    .dataframe thead th {\n",
       "        text-align: right;\n",
       "    }\n",
       "</style>\n",
       "<table border=\"1\" class=\"dataframe\">\n",
       "  <thead>\n",
       "    <tr style=\"text-align: right;\">\n",
       "      <th></th>\n",
       "      <th>Пол</th>\n",
       "      <th>Возраст</th>\n",
       "      <th>Зарплата</th>\n",
       "      <th>Члены семьи</th>\n",
       "      <th>Страховые выплаты</th>\n",
       "    </tr>\n",
       "  </thead>\n",
       "  <tbody>\n",
       "    <tr>\n",
       "      <th>0</th>\n",
       "      <td>1</td>\n",
       "      <td>41.0</td>\n",
       "      <td>49600.0</td>\n",
       "      <td>1</td>\n",
       "      <td>0</td>\n",
       "    </tr>\n",
       "    <tr>\n",
       "      <th>1</th>\n",
       "      <td>0</td>\n",
       "      <td>46.0</td>\n",
       "      <td>38000.0</td>\n",
       "      <td>1</td>\n",
       "      <td>1</td>\n",
       "    </tr>\n",
       "    <tr>\n",
       "      <th>2</th>\n",
       "      <td>0</td>\n",
       "      <td>29.0</td>\n",
       "      <td>21000.0</td>\n",
       "      <td>0</td>\n",
       "      <td>0</td>\n",
       "    </tr>\n",
       "    <tr>\n",
       "      <th>3</th>\n",
       "      <td>0</td>\n",
       "      <td>21.0</td>\n",
       "      <td>41700.0</td>\n",
       "      <td>2</td>\n",
       "      <td>0</td>\n",
       "    </tr>\n",
       "    <tr>\n",
       "      <th>4</th>\n",
       "      <td>1</td>\n",
       "      <td>28.0</td>\n",
       "      <td>26100.0</td>\n",
       "      <td>0</td>\n",
       "      <td>0</td>\n",
       "    </tr>\n",
       "    <tr>\n",
       "      <th>5</th>\n",
       "      <td>1</td>\n",
       "      <td>43.0</td>\n",
       "      <td>41000.0</td>\n",
       "      <td>2</td>\n",
       "      <td>1</td>\n",
       "    </tr>\n",
       "    <tr>\n",
       "      <th>6</th>\n",
       "      <td>1</td>\n",
       "      <td>39.0</td>\n",
       "      <td>39700.0</td>\n",
       "      <td>2</td>\n",
       "      <td>0</td>\n",
       "    </tr>\n",
       "    <tr>\n",
       "      <th>7</th>\n",
       "      <td>1</td>\n",
       "      <td>25.0</td>\n",
       "      <td>38600.0</td>\n",
       "      <td>4</td>\n",
       "      <td>0</td>\n",
       "    </tr>\n",
       "    <tr>\n",
       "      <th>8</th>\n",
       "      <td>1</td>\n",
       "      <td>36.0</td>\n",
       "      <td>49700.0</td>\n",
       "      <td>1</td>\n",
       "      <td>0</td>\n",
       "    </tr>\n",
       "    <tr>\n",
       "      <th>9</th>\n",
       "      <td>1</td>\n",
       "      <td>32.0</td>\n",
       "      <td>51700.0</td>\n",
       "      <td>1</td>\n",
       "      <td>0</td>\n",
       "    </tr>\n",
       "    <tr>\n",
       "      <th>10</th>\n",
       "      <td>1</td>\n",
       "      <td>25.0</td>\n",
       "      <td>36600.0</td>\n",
       "      <td>1</td>\n",
       "      <td>0</td>\n",
       "    </tr>\n",
       "    <tr>\n",
       "      <th>11</th>\n",
       "      <td>1</td>\n",
       "      <td>38.0</td>\n",
       "      <td>29300.0</td>\n",
       "      <td>0</td>\n",
       "      <td>0</td>\n",
       "    </tr>\n",
       "    <tr>\n",
       "      <th>12</th>\n",
       "      <td>0</td>\n",
       "      <td>23.0</td>\n",
       "      <td>39500.0</td>\n",
       "      <td>3</td>\n",
       "      <td>0</td>\n",
       "    </tr>\n",
       "    <tr>\n",
       "      <th>13</th>\n",
       "      <td>0</td>\n",
       "      <td>21.0</td>\n",
       "      <td>55000.0</td>\n",
       "      <td>0</td>\n",
       "      <td>0</td>\n",
       "    </tr>\n",
       "    <tr>\n",
       "      <th>14</th>\n",
       "      <td>0</td>\n",
       "      <td>40.0</td>\n",
       "      <td>43700.0</td>\n",
       "      <td>1</td>\n",
       "      <td>0</td>\n",
       "    </tr>\n",
       "    <tr>\n",
       "      <th>15</th>\n",
       "      <td>1</td>\n",
       "      <td>34.0</td>\n",
       "      <td>23300.0</td>\n",
       "      <td>0</td>\n",
       "      <td>0</td>\n",
       "    </tr>\n",
       "    <tr>\n",
       "      <th>16</th>\n",
       "      <td>1</td>\n",
       "      <td>26.0</td>\n",
       "      <td>48900.0</td>\n",
       "      <td>2</td>\n",
       "      <td>0</td>\n",
       "    </tr>\n",
       "    <tr>\n",
       "      <th>17</th>\n",
       "      <td>1</td>\n",
       "      <td>41.0</td>\n",
       "      <td>33200.0</td>\n",
       "      <td>2</td>\n",
       "      <td>0</td>\n",
       "    </tr>\n",
       "    <tr>\n",
       "      <th>18</th>\n",
       "      <td>1</td>\n",
       "      <td>42.0</td>\n",
       "      <td>49700.0</td>\n",
       "      <td>0</td>\n",
       "      <td>1</td>\n",
       "    </tr>\n",
       "    <tr>\n",
       "      <th>19</th>\n",
       "      <td>1</td>\n",
       "      <td>27.0</td>\n",
       "      <td>36900.0</td>\n",
       "      <td>0</td>\n",
       "      <td>0</td>\n",
       "    </tr>\n",
       "  </tbody>\n",
       "</table>\n",
       "</div>"
      ],
      "text/plain": [
       "    Пол  Возраст  Зарплата  Члены семьи  Страховые выплаты\n",
       "0     1     41.0   49600.0            1                  0\n",
       "1     0     46.0   38000.0            1                  1\n",
       "2     0     29.0   21000.0            0                  0\n",
       "3     0     21.0   41700.0            2                  0\n",
       "4     1     28.0   26100.0            0                  0\n",
       "5     1     43.0   41000.0            2                  1\n",
       "6     1     39.0   39700.0            2                  0\n",
       "7     1     25.0   38600.0            4                  0\n",
       "8     1     36.0   49700.0            1                  0\n",
       "9     1     32.0   51700.0            1                  0\n",
       "10    1     25.0   36600.0            1                  0\n",
       "11    1     38.0   29300.0            0                  0\n",
       "12    0     23.0   39500.0            3                  0\n",
       "13    0     21.0   55000.0            0                  0\n",
       "14    0     40.0   43700.0            1                  0\n",
       "15    1     34.0   23300.0            0                  0\n",
       "16    1     26.0   48900.0            2                  0\n",
       "17    1     41.0   33200.0            2                  0\n",
       "18    1     42.0   49700.0            0                  1\n",
       "19    1     27.0   36900.0            0                  0"
      ]
     },
     "metadata": {},
     "output_type": "display_data"
    }
   ],
   "source": [
    "# upload the dataset\n",
    "df = pd.read_csv('C:/Users/hp/Documents/data_science/GitHub/Yandex_project/Датасеты/insurance.csv')\n",
    "display(df.head(20))"
   ]
  },
  {
   "cell_type": "code",
   "execution_count": 3,
   "metadata": {},
   "outputs": [
    {
     "data": {
      "text/html": [
       "<div>\n",
       "<style scoped>\n",
       "    .dataframe tbody tr th:only-of-type {\n",
       "        vertical-align: middle;\n",
       "    }\n",
       "\n",
       "    .dataframe tbody tr th {\n",
       "        vertical-align: top;\n",
       "    }\n",
       "\n",
       "    .dataframe thead th {\n",
       "        text-align: right;\n",
       "    }\n",
       "</style>\n",
       "<table border=\"1\" class=\"dataframe\">\n",
       "  <thead>\n",
       "    <tr style=\"text-align: right;\">\n",
       "      <th></th>\n",
       "      <th>Пол</th>\n",
       "      <th>Возраст</th>\n",
       "      <th>Зарплата</th>\n",
       "      <th>Члены семьи</th>\n",
       "      <th>Страховые выплаты</th>\n",
       "    </tr>\n",
       "  </thead>\n",
       "  <tbody>\n",
       "    <tr>\n",
       "      <th>count</th>\n",
       "      <td>5000.000000</td>\n",
       "      <td>5000.000000</td>\n",
       "      <td>5000.000000</td>\n",
       "      <td>5000.000000</td>\n",
       "      <td>5000.000000</td>\n",
       "    </tr>\n",
       "    <tr>\n",
       "      <th>mean</th>\n",
       "      <td>0.499000</td>\n",
       "      <td>30.952800</td>\n",
       "      <td>39916.360000</td>\n",
       "      <td>1.194200</td>\n",
       "      <td>0.148000</td>\n",
       "    </tr>\n",
       "    <tr>\n",
       "      <th>std</th>\n",
       "      <td>0.500049</td>\n",
       "      <td>8.440807</td>\n",
       "      <td>9900.083569</td>\n",
       "      <td>1.091387</td>\n",
       "      <td>0.463183</td>\n",
       "    </tr>\n",
       "    <tr>\n",
       "      <th>min</th>\n",
       "      <td>0.000000</td>\n",
       "      <td>18.000000</td>\n",
       "      <td>5300.000000</td>\n",
       "      <td>0.000000</td>\n",
       "      <td>0.000000</td>\n",
       "    </tr>\n",
       "    <tr>\n",
       "      <th>25%</th>\n",
       "      <td>0.000000</td>\n",
       "      <td>24.000000</td>\n",
       "      <td>33300.000000</td>\n",
       "      <td>0.000000</td>\n",
       "      <td>0.000000</td>\n",
       "    </tr>\n",
       "    <tr>\n",
       "      <th>50%</th>\n",
       "      <td>0.000000</td>\n",
       "      <td>30.000000</td>\n",
       "      <td>40200.000000</td>\n",
       "      <td>1.000000</td>\n",
       "      <td>0.000000</td>\n",
       "    </tr>\n",
       "    <tr>\n",
       "      <th>75%</th>\n",
       "      <td>1.000000</td>\n",
       "      <td>37.000000</td>\n",
       "      <td>46600.000000</td>\n",
       "      <td>2.000000</td>\n",
       "      <td>0.000000</td>\n",
       "    </tr>\n",
       "    <tr>\n",
       "      <th>max</th>\n",
       "      <td>1.000000</td>\n",
       "      <td>65.000000</td>\n",
       "      <td>79000.000000</td>\n",
       "      <td>6.000000</td>\n",
       "      <td>5.000000</td>\n",
       "    </tr>\n",
       "  </tbody>\n",
       "</table>\n",
       "</div>"
      ],
      "text/plain": [
       "               Пол      Возраст      Зарплата  Члены семьи  Страховые выплаты\n",
       "count  5000.000000  5000.000000   5000.000000  5000.000000        5000.000000\n",
       "mean      0.499000    30.952800  39916.360000     1.194200           0.148000\n",
       "std       0.500049     8.440807   9900.083569     1.091387           0.463183\n",
       "min       0.000000    18.000000   5300.000000     0.000000           0.000000\n",
       "25%       0.000000    24.000000  33300.000000     0.000000           0.000000\n",
       "50%       0.000000    30.000000  40200.000000     1.000000           0.000000\n",
       "75%       1.000000    37.000000  46600.000000     2.000000           0.000000\n",
       "max       1.000000    65.000000  79000.000000     6.000000           5.000000"
      ]
     },
     "execution_count": 3,
     "metadata": {},
     "output_type": "execute_result"
    }
   ],
   "source": [
    "# dataset statistics \n",
    "df.describe()"
   ]
  },
  {
   "cell_type": "code",
   "execution_count": 4,
   "metadata": {},
   "outputs": [
    {
     "data": {
      "text/plain": [
       "Пол                  0.0\n",
       "Возраст              0.0\n",
       "Зарплата             0.0\n",
       "Члены семьи          0.0\n",
       "Страховые выплаты    0.0\n",
       "dtype: float64"
      ]
     },
     "execution_count": 4,
     "metadata": {},
     "output_type": "execute_result"
    }
   ],
   "source": [
    "# presence of missing values\n",
    "df.isnull().mean()"
   ]
  },
  {
   "cell_type": "code",
   "execution_count": 5,
   "metadata": {},
   "outputs": [
    {
     "name": "stdout",
     "output_type": "stream",
     "text": [
      "<class 'pandas.core.frame.DataFrame'>\n",
      "RangeIndex: 5000 entries, 0 to 4999\n",
      "Data columns (total 5 columns):\n",
      " #   Column             Non-Null Count  Dtype  \n",
      "---  ------             --------------  -----  \n",
      " 0   Пол                5000 non-null   int64  \n",
      " 1   Возраст            5000 non-null   float64\n",
      " 2   Зарплата           5000 non-null   float64\n",
      " 3   Члены семьи        5000 non-null   int64  \n",
      " 4   Страховые выплаты  5000 non-null   int64  \n",
      "dtypes: float64(2), int64(3)\n",
      "memory usage: 195.4 KB\n"
     ]
    }
   ],
   "source": [
    "# information on the dataset\n",
    "df.info()"
   ]
  },
  {
   "cell_type": "markdown",
   "metadata": {},
   "source": [
    "We downloaded the data, looked for missing values ​​- there were none. Displayed the stat. data, as well as information by data type. We have a dataset of 5 columns and 5000 rows. Data type - numerical values. In the gender column - designations 1 and 0; age min 18 years, max 65 years, average age 30 years; salary min 5300, max 79000, average 40200; family members min 0, max 6, average 1; insurance payments - designations 1 and 0."
   ]
  },
  {
   "cell_type": "markdown",
   "metadata": {},
   "source": [
    "## Matrix multiplication"
   ]
  },
  {
   "cell_type": "markdown",
   "metadata": {},
   "source": [
    "Designations:\n",
    "\n",
    "- $X$ — feature matrix (zero column consists of ones)\n",
    "\n",
    "- $y$ — target feature vector\n",
    "\n",
    "- $P$ — matrix by which features are multiplied\n",
    "\n",
    "- $w$ — vector of linear regression weights (zero element equals shift)"
   ]
  },
  {
   "cell_type": "markdown",
   "metadata": {},
   "source": [
    "Predictions:\n",
    "\n",
    "$$\n",
    "a = Xw\n",
    "$$\n",
    "\n",
    "Learning Objective:\n",
    "\n",
    "$$\n",
    "w = \\arg\\min_w MSE(Xw, y)\n",
    "$$\n",
    "\n",
    "Training formula:\n",
    "\n",
    "$$\n",
    "w = (X^T X)^{-1} X^T y\n",
    "$$"
   ]
  },
  {
   "cell_type": "markdown",
   "metadata": {},
   "source": [
    "**Answer:** will not change\n",
    "\n",
    "**Rationale:** To prove this, let’s multiply the signs by an invertible matrix. Let our features have the same dimension as in the original dataset, 5000 * 4, and the matrix for multiplying 4 by 4. The multiplied matrix will have the form X * P. Then the prediction formula will take the following form:\n",
    "$$\n",
    "𝑎'= XPw'\n",
    "$$\n",
    "Let's substitute the learning formula for the matrix X P into the prediction formula:\n",
    "$$\n",
    "𝑎' = XP((XP)^T(XP))^{-1}(XP)^T y\n",
    "$$\n",
    "There are properties of matrices:\n",
    "$$\n",
    "(AB)^{-1} = (B)^{-1})(A){-1}\n",
    "$$\n",
    "\n",
    "$$\n",
    "(AB)^T = B^TA^T\n",
    "$$\n",
    "\n",
    "$$\n",
    "AA^{-1} = E\n",
    "$$\n",
    "\n",
    "$$\n",
    "AE = EA = A\n",
    "$$\n",
    "\n",
    "Let's open the brackets using the above properties.\n",
    "\n",
    "$$\n",
    "𝑎' = XP(P^TX^TXP)^{-1}P^TX^T y\n",
    "$$\n",
    "\n",
    "When multiplying a matrix by its inverse matrix, we get an identity matrix.\n",
    "Opening the brackets:\n",
    "\n",
    "$$\n",
    "𝑎'= XPP^{-1}(X^TX)^{-1}(P^T)^{-1}P^TX^Ty\n",
    "$$\n",
    "\n",
    "We cancel the identity matrices and then what remains is:\n",
    "\n",
    "$$\n",
    "𝑎'= X(X^TX)^{-1}X^Ty\n",
    "$$\n",
    "\n",
    "As a result of all the transformations, we returned to the original form of Predictions\n",
    "\n",
    "$$\n",
    "𝑎' = Xw\n",
    "$$\n",
    "\n",
    "The linear regression parameters in the original and transformed problems are related as follows:\n",
    "\n",
    "$$\n",
    "wp = ((XP)^TXP)^{-1}(XP)^Ty\n",
    "$$\n",
    "$$\n",
    "wp = (P^T(X^TX)P)^{-1}P^TX^Ty\n",
    "$$\n",
    "$$\n",
    "wp = P^{-1}(X^TX)^{-1}(P^T)^{-1}P^TX^Ty\n",
    "$$\n",
    "$$\n",
    "wp = P^{-1}(X^TX)^{-1}X^Ty\n",
    "$$\n",
    "$$\n",
    "wp = P^{-1}w\n",
    "$$\n"
   ]
  },
  {
   "cell_type": "markdown",
   "metadata": {},
   "source": [
    "## Conversion algorithm"
   ]
  },
  {
   "cell_type": "markdown",
   "metadata": {},
   "source": [
    "### Algorithm\n",
    "\n",
    "Let's multiply the features of the original dataset by a random invertible matrix of size 4*4. Let's create a linear regression model on the data before transformation and calculate the R2 metric. Afterwards, we calculate the R2 mark of linear regression on the data multiplied by the invertible matrix. The final results should be the same."
   ]
  },
  {
   "cell_type": "markdown",
   "metadata": {},
   "source": [
    "### Rationale"
   ]
  },
  {
   "cell_type": "code",
   "execution_count": 6,
   "metadata": {},
   "outputs": [
    {
     "name": "stdout",
     "output_type": "stream",
     "text": [
      "Size of samples with features: (5000, 4)\n",
      "Size of samples with target attribute: (5000,)\n"
     ]
    }
   ],
   "source": [
    "# let's create features for training the model\n",
    "features = df.drop('Страховые выплаты', axis=1)\n",
    "target = df['Страховые выплаты']\n",
    "# проверим размеры выборок\n",
    "print('Size of samples with features:', features.shape)\n",
    "print('Size of samples with target attribute:', target.shape)"
   ]
  },
  {
   "cell_type": "code",
   "execution_count": 7,
   "metadata": {},
   "outputs": [
    {
     "name": "stdout",
     "output_type": "stream",
     "text": [
      "The R2 metric for features in the initial state is equal to 0.4249455028666801\n"
     ]
    }
   ],
   "source": [
    "# let's carry out modeling\n",
    "model = LinearRegression()\n",
    "model.fit(features, target)\n",
    "predictions = model.predict(features)\n",
    "r2 = r2_score(target, predictions)\n",
    "# let's derive the r2 metric for the data before multiplication\n",
    "print(f'The R2 metric for features in the initial state is equal to {r2}')"
   ]
  },
  {
   "cell_type": "markdown",
   "metadata": {},
   "source": [
    "## Algorithm verification"
   ]
  },
  {
   "cell_type": "code",
   "execution_count": 8,
   "metadata": {},
   "outputs": [
    {
     "data": {
      "text/plain": [
       "array([[-1.04972753, -0.50175608, -0.08553739,  0.21028805],\n",
       "       [-0.99621138, -0.45652665,  0.38250587,  0.3052428 ],\n",
       "       [ 0.01057047, -1.50215932, -0.53459244,  1.24041408],\n",
       "       [ 0.42677732,  2.63490757, -0.19074775, -0.51384911]])"
      ]
     },
     "metadata": {},
     "output_type": "display_data"
    }
   ],
   "source": [
    "# let's create an invertible matrix\n",
    "matrix = np.random.randn(4, 4)\n",
    "\n",
    "# display the matrix on the screen\n",
    "display(matrix)"
   ]
  },
  {
   "cell_type": "code",
   "execution_count": 9,
   "metadata": {},
   "outputs": [
    {
     "data": {
      "text/plain": [
       "array([[-0.91870842, -0.08425907,  0.12825249, -0.11642851],\n",
       "       [-0.17483477,  0.39666603,  0.13605692,  0.49251951],\n",
       "       [-1.81458896,  1.84862134, -0.20651608, -0.14298649],\n",
       "       [-0.9859482 ,  1.27780331,  0.88085227,  0.53581622]])"
      ]
     },
     "metadata": {},
     "output_type": "display_data"
    },
    {
     "data": {
      "text/plain": [
       "array([[ 1., -0.,  0.,  0.],\n",
       "       [-0.,  1.,  0., -0.],\n",
       "       [ 0., -0.,  1., -0.],\n",
       "       [-0.,  0.,  0.,  1.]])"
      ]
     },
     "metadata": {},
     "output_type": "display_data"
    }
   ],
   "source": [
    "# let's check our matrix for invertibility\n",
    "matrix_b = np.linalg.inv(matrix)\n",
    "# identity matrix check\n",
    "matrix_1 = matrix @ matrix_b\n",
    "# display the results on the screen\n",
    "display(matrix_b)\n",
    "display((matrix_1).round())"
   ]
  },
  {
   "cell_type": "code",
   "execution_count": 10,
   "metadata": {},
   "outputs": [
    {
     "name": "stdout",
     "output_type": "stream",
     "text": [
      "Matrix P:\n",
      " [[-0.86205457  0.24583378  0.31897699  0.76149539]\n",
      " [ 0.67008099 -0.73145595  1.1385825  -0.33620908]\n",
      " [-0.92195419  1.03098871 -1.25736139 -0.60976184]\n",
      " [-0.49204387  0.0024066   0.05212793  0.02571277]]\n",
      "\n",
      "Testing for identity matrix:\n"
     ]
    },
    {
     "data": {
      "text/plain": [
       "array([[ 1.,  0., -0.,  0.],\n",
       "       [ 0.,  1.,  0., -0.],\n",
       "       [ 0.,  0.,  1.,  0.],\n",
       "       [ 0.,  0.,  0.,  1.]])"
      ]
     },
     "metadata": {},
     "output_type": "display_data"
    }
   ],
   "source": [
    "# checking with an infinite loop\n",
    "data = matrix.copy()\n",
    "def get_rand_matrix():\n",
    "    det = 0\n",
    "    while det == 0:\n",
    "        matrix = np.random.normal(size=(data.shape[1], data.shape[1]))\n",
    "        det = np.linalg.det(matrix)\n",
    "    return matrix\n",
    "\n",
    "P = get_rand_matrix()\n",
    "print('Matrix P:\\n', P)\n",
    "\n",
    "print('\\nTesting for identity matrix:')\n",
    "display((P @ np.linalg.inv(P)).round(5))"
   ]
  },
  {
   "cell_type": "markdown",
   "metadata": {},
   "source": [
    "From the obtained result we see that the matrix is ​​invertible"
   ]
  },
  {
   "cell_type": "code",
   "execution_count": 11,
   "metadata": {},
   "outputs": [
    {
     "data": {
      "text/html": [
       "<div>\n",
       "<style scoped>\n",
       "    .dataframe tbody tr th:only-of-type {\n",
       "        vertical-align: middle;\n",
       "    }\n",
       "\n",
       "    .dataframe tbody tr th {\n",
       "        vertical-align: top;\n",
       "    }\n",
       "\n",
       "    .dataframe thead th {\n",
       "        text-align: right;\n",
       "    }\n",
       "</style>\n",
       "<table border=\"1\" class=\"dataframe\">\n",
       "  <thead>\n",
       "    <tr style=\"text-align: right;\">\n",
       "      <th></th>\n",
       "      <th>0</th>\n",
       "      <th>1</th>\n",
       "      <th>2</th>\n",
       "      <th>3</th>\n",
       "    </tr>\n",
       "  </thead>\n",
       "  <tbody>\n",
       "    <tr>\n",
       "      <th>0</th>\n",
       "      <td>482.827580</td>\n",
       "      <td>-74523.686793</td>\n",
       "      <td>-26500.378333</td>\n",
       "      <td>61536.749633</td>\n",
       "    </tr>\n",
       "    <tr>\n",
       "      <th>1</th>\n",
       "      <td>356.278825</td>\n",
       "      <td>-57100.419539</td>\n",
       "      <td>-20297.108018</td>\n",
       "      <td>47149.262261</td>\n",
       "    </tr>\n",
       "    <tr>\n",
       "      <th>2</th>\n",
       "      <td>193.089691</td>\n",
       "      <td>-31558.585026</td>\n",
       "      <td>-11215.348470</td>\n",
       "      <td>26057.547667</td>\n",
       "    </tr>\n",
       "    <tr>\n",
       "      <th>3</th>\n",
       "      <td>420.721618</td>\n",
       "      <td>-62644.360955</td>\n",
       "      <td>-22284.853423</td>\n",
       "      <td>51730.649429</td>\n",
       "    </tr>\n",
       "    <tr>\n",
       "      <th>4</th>\n",
       "      <td>246.945560</td>\n",
       "      <td>-39219.642796</td>\n",
       "      <td>-13942.237933</td>\n",
       "      <td>32383.564507</td>\n",
       "    </tr>\n",
       "  </tbody>\n",
       "</table>\n",
       "</div>"
      ],
      "text/plain": [
       "            0             1             2             3\n",
       "0  482.827580 -74523.686793 -26500.378333  61536.749633\n",
       "1  356.278825 -57100.419539 -20297.108018  47149.262261\n",
       "2  193.089691 -31558.585026 -11215.348470  26057.547667\n",
       "3  420.721618 -62644.360955 -22284.853423  51730.649429\n",
       "4  246.945560 -39219.642796 -13942.237933  32383.564507"
      ]
     },
     "execution_count": 11,
     "metadata": {},
     "output_type": "execute_result"
    }
   ],
   "source": [
    "# multiply the original features by our matrix\n",
    "df_pr = features @ matrix\n",
    "\n",
    "# display the matrix on the screen\n",
    "df_pr.head()"
   ]
  },
  {
   "cell_type": "code",
   "execution_count": 12,
   "metadata": {},
   "outputs": [
    {
     "name": "stdout",
     "output_type": "stream",
     "text": [
      "The R2 metric for features in a changed state is equal to0.4249455028666774\n"
     ]
    }
   ],
   "source": [
    "# we will carry out modeling on the changed data\n",
    "model_pr = LinearRegression()\n",
    "model_pr.fit(df_pr, target)\n",
    "predictions_pr = model_pr.predict(df_pr)\n",
    "r2_pr = r2_score(target, predictions_pr)\n",
    "# we will derive the r2 metric for the data after multiplication by an invertible matrix\n",
    "print(f'The R2 metric for features in a changed state is equal to{r2_pr}')"
   ]
  },
  {
   "cell_type": "markdown",
   "metadata": {},
   "source": [
    "Conclusion:\n",
    "\n",
    "During preparation, no changes were made to the data, since the dataset has no missing values, the format of the values also corresponds.\n",
    "\n",
    "We conducted a theoretical study and answered the question whether the r2 metric will change if the original data is multiplied by an invertible matrix. The answer is no, the conclusions are in paragraph 2. Matrix multiplication.\n",
    "\n",
    "We checked the r2 metric on the original data. The result is 0.4249455028666.\n",
    "\n",
    "We checked the metric on data with features multiplied by an invertible matrix. The result is 0.4249455028666.\n",
    "\n",
    "This once again proves that the quality of linear regression from sklearn does not differ before and after transformation.\n"
   ]
  },
  {
   "cell_type": "code",
   "execution_count": null,
   "metadata": {},
   "outputs": [],
   "source": []
  }
 ],
 "metadata": {
  "ExecuteTimeLog": [
   {
    "duration": 446,
    "start_time": "2023-07-05T15:20:56.454Z"
   },
   {
    "duration": 90,
    "start_time": "2023-07-05T15:22:13.821Z"
   },
   {
    "duration": 45,
    "start_time": "2023-07-05T15:22:56.130Z"
   },
   {
    "duration": 67,
    "start_time": "2023-07-05T16:03:20.429Z"
   },
   {
    "duration": 23,
    "start_time": "2023-07-05T16:03:37.448Z"
   },
   {
    "duration": 11,
    "start_time": "2023-07-05T16:04:43.149Z"
   },
   {
    "duration": 9,
    "start_time": "2023-07-05T16:05:56.443Z"
   },
   {
    "duration": 11,
    "start_time": "2023-07-05T16:06:12.244Z"
   },
   {
    "duration": 51,
    "start_time": "2023-07-07T05:15:30.770Z"
   },
   {
    "duration": 1047,
    "start_time": "2023-07-07T05:15:55.241Z"
   },
   {
    "duration": 112,
    "start_time": "2023-07-07T05:15:56.291Z"
   },
   {
    "duration": 29,
    "start_time": "2023-07-07T05:15:56.405Z"
   },
   {
    "duration": 7,
    "start_time": "2023-07-07T05:15:56.437Z"
   },
   {
    "duration": 38,
    "start_time": "2023-07-07T05:15:56.446Z"
   },
   {
    "duration": 130,
    "start_time": "2023-07-07T05:15:56.485Z"
   },
   {
    "duration": 9,
    "start_time": "2023-07-07T05:16:10.393Z"
   },
   {
    "duration": 22,
    "start_time": "2023-07-07T05:16:16.768Z"
   },
   {
    "duration": 10,
    "start_time": "2023-07-07T05:19:42.596Z"
   },
   {
    "duration": 10,
    "start_time": "2023-07-07T05:20:00.176Z"
   },
   {
    "duration": 5,
    "start_time": "2023-07-07T05:21:25.910Z"
   },
   {
    "duration": 11,
    "start_time": "2023-07-07T05:23:38.399Z"
   },
   {
    "duration": 7,
    "start_time": "2023-07-07T05:26:54.470Z"
   },
   {
    "duration": 11,
    "start_time": "2023-07-07T05:34:02.436Z"
   },
   {
    "duration": 96,
    "start_time": "2023-07-07T05:35:53.381Z"
   },
   {
    "duration": 12,
    "start_time": "2023-07-07T05:36:30.351Z"
   },
   {
    "duration": 3,
    "start_time": "2023-07-07T05:42:50.756Z"
   },
   {
    "duration": 1073,
    "start_time": "2023-07-07T05:43:03.411Z"
   },
   {
    "duration": 42,
    "start_time": "2023-07-07T05:43:04.486Z"
   },
   {
    "duration": 22,
    "start_time": "2023-07-07T05:43:04.530Z"
   },
   {
    "duration": 7,
    "start_time": "2023-07-07T05:43:04.554Z"
   },
   {
    "duration": 21,
    "start_time": "2023-07-07T05:43:04.563Z"
   },
   {
    "duration": 13,
    "start_time": "2023-07-07T05:43:04.586Z"
   },
   {
    "duration": 77,
    "start_time": "2023-07-07T05:43:04.601Z"
   },
   {
    "duration": 103,
    "start_time": "2023-07-07T05:43:04.681Z"
   },
   {
    "duration": 34,
    "start_time": "2023-07-07T05:43:04.786Z"
   },
   {
    "duration": 54,
    "start_time": "2023-07-07T05:43:04.822Z"
   },
   {
    "duration": 3910,
    "start_time": "2023-07-07T06:09:57.592Z"
   },
   {
    "duration": 147,
    "start_time": "2023-07-07T06:10:01.504Z"
   },
   {
    "duration": 20,
    "start_time": "2023-07-07T06:10:01.653Z"
   },
   {
    "duration": 111,
    "start_time": "2023-07-07T06:10:01.675Z"
   },
   {
    "duration": 84,
    "start_time": "2023-07-07T06:10:01.788Z"
   },
   {
    "duration": 23,
    "start_time": "2023-07-07T06:10:01.874Z"
   },
   {
    "duration": 198,
    "start_time": "2023-07-07T06:10:01.909Z"
   },
   {
    "duration": 181,
    "start_time": "2023-07-07T06:10:02.112Z"
   },
   {
    "duration": 119,
    "start_time": "2023-07-07T06:10:02.294Z"
   },
   {
    "duration": 86,
    "start_time": "2023-07-07T06:10:02.419Z"
   },
   {
    "duration": 51,
    "start_time": "2023-07-11T10:00:22.799Z"
   },
   {
    "duration": 1269,
    "start_time": "2023-07-11T10:00:36.643Z"
   },
   {
    "duration": 97,
    "start_time": "2023-07-11T10:00:37.914Z"
   },
   {
    "duration": 24,
    "start_time": "2023-07-11T10:00:38.012Z"
   },
   {
    "duration": 6,
    "start_time": "2023-07-11T10:00:38.038Z"
   },
   {
    "duration": 16,
    "start_time": "2023-07-11T10:00:38.046Z"
   },
   {
    "duration": 9,
    "start_time": "2023-07-11T10:00:38.065Z"
   },
   {
    "duration": 15,
    "start_time": "2023-07-11T10:00:38.077Z"
   },
   {
    "duration": 101,
    "start_time": "2023-07-11T10:00:38.155Z"
   },
   {
    "duration": 8,
    "start_time": "2023-07-11T10:00:38.259Z"
   },
   {
    "duration": 96,
    "start_time": "2023-07-11T10:00:38.268Z"
   },
   {
    "duration": 197,
    "start_time": "2023-07-11T10:00:38.368Z"
   },
   {
    "duration": 6,
    "start_time": "2023-07-11T10:02:33.796Z"
   },
   {
    "duration": 127,
    "start_time": "2023-07-11T10:07:20.677Z"
   },
   {
    "duration": 1705,
    "start_time": "2023-07-11T10:58:22.145Z"
   },
   {
    "duration": 67,
    "start_time": "2023-07-11T10:58:23.852Z"
   },
   {
    "duration": 31,
    "start_time": "2023-07-11T10:58:23.921Z"
   },
   {
    "duration": 23,
    "start_time": "2023-07-11T10:58:23.970Z"
   },
   {
    "duration": 14,
    "start_time": "2023-07-11T10:58:23.998Z"
   },
   {
    "duration": 21,
    "start_time": "2023-07-11T10:58:24.015Z"
   },
   {
    "duration": 75,
    "start_time": "2023-07-11T10:58:24.038Z"
   },
   {
    "duration": 58,
    "start_time": "2023-07-11T10:58:24.198Z"
   },
   {
    "duration": 35,
    "start_time": "2023-07-11T10:58:24.258Z"
   },
   {
    "duration": 74,
    "start_time": "2023-07-11T10:58:24.302Z"
   },
   {
    "duration": 90,
    "start_time": "2023-07-11T10:58:24.378Z"
   },
   {
    "duration": 10,
    "start_time": "2023-07-11T13:33:12.737Z"
   },
   {
    "duration": 1110,
    "start_time": "2023-07-11T13:33:31.070Z"
   },
   {
    "duration": 43,
    "start_time": "2023-07-11T13:33:32.182Z"
   },
   {
    "duration": 24,
    "start_time": "2023-07-11T13:33:32.227Z"
   },
   {
    "duration": 7,
    "start_time": "2023-07-11T13:33:32.253Z"
   },
   {
    "duration": 19,
    "start_time": "2023-07-11T13:33:32.262Z"
   },
   {
    "duration": 17,
    "start_time": "2023-07-11T13:33:32.283Z"
   },
   {
    "duration": 15,
    "start_time": "2023-07-11T13:33:32.302Z"
   },
   {
    "duration": 44,
    "start_time": "2023-07-11T13:33:32.319Z"
   },
   {
    "duration": 98,
    "start_time": "2023-07-11T13:33:32.456Z"
   },
   {
    "duration": 7,
    "start_time": "2023-07-11T13:33:32.557Z"
   },
   {
    "duration": 99,
    "start_time": "2023-07-11T13:33:32.567Z"
   },
   {
    "duration": 92,
    "start_time": "2023-07-11T13:33:32.668Z"
   },
   {
    "duration": 1127,
    "start_time": "2023-07-11T13:41:34.565Z"
   },
   {
    "duration": 43,
    "start_time": "2023-07-11T13:41:35.695Z"
   },
   {
    "duration": 24,
    "start_time": "2023-07-11T13:41:35.741Z"
   },
   {
    "duration": 7,
    "start_time": "2023-07-11T13:41:35.767Z"
   },
   {
    "duration": 13,
    "start_time": "2023-07-11T13:41:35.776Z"
   },
   {
    "duration": 5,
    "start_time": "2023-07-11T13:41:35.791Z"
   },
   {
    "duration": 59,
    "start_time": "2023-07-11T13:41:35.798Z"
   },
   {
    "duration": 95,
    "start_time": "2023-07-11T13:41:35.860Z"
   },
   {
    "duration": 8,
    "start_time": "2023-07-11T13:41:35.957Z"
   },
   {
    "duration": 95,
    "start_time": "2023-07-11T13:41:35.967Z"
   },
   {
    "duration": 96,
    "start_time": "2023-07-11T13:41:36.064Z"
   },
   {
    "duration": 2512,
    "start_time": "2023-07-11T14:14:54.014Z"
   },
   {
    "duration": 40,
    "start_time": "2023-07-11T14:14:56.528Z"
   },
   {
    "duration": 21,
    "start_time": "2023-07-11T14:14:56.570Z"
   },
   {
    "duration": 5,
    "start_time": "2023-07-11T14:14:56.593Z"
   },
   {
    "duration": 14,
    "start_time": "2023-07-11T14:14:56.600Z"
   },
   {
    "duration": 9,
    "start_time": "2023-07-11T14:14:56.615Z"
   },
   {
    "duration": 52,
    "start_time": "2023-07-11T14:14:56.626Z"
   },
   {
    "duration": 104,
    "start_time": "2023-07-11T14:14:56.680Z"
   },
   {
    "duration": 10,
    "start_time": "2023-07-11T14:14:56.786Z"
   },
   {
    "duration": 84,
    "start_time": "2023-07-11T14:14:56.797Z"
   },
   {
    "duration": 97,
    "start_time": "2023-07-11T14:14:56.883Z"
   },
   {
    "duration": 31,
    "start_time": "2023-07-11T14:21:56.837Z"
   },
   {
    "duration": 1093,
    "start_time": "2023-07-11T14:22:11.302Z"
   },
   {
    "duration": 44,
    "start_time": "2023-07-11T14:22:12.398Z"
   },
   {
    "duration": 27,
    "start_time": "2023-07-11T14:22:12.444Z"
   },
   {
    "duration": 8,
    "start_time": "2023-07-11T14:22:12.474Z"
   },
   {
    "duration": 16,
    "start_time": "2023-07-11T14:22:12.484Z"
   },
   {
    "duration": 10,
    "start_time": "2023-07-11T14:22:12.503Z"
   },
   {
    "duration": 46,
    "start_time": "2023-07-11T14:22:12.515Z"
   },
   {
    "duration": 92,
    "start_time": "2023-07-11T14:22:12.564Z"
   },
   {
    "duration": 11,
    "start_time": "2023-07-11T14:22:12.658Z"
   },
   {
    "duration": 97,
    "start_time": "2023-07-11T14:22:12.757Z"
   },
   {
    "duration": 99,
    "start_time": "2023-07-11T14:22:12.856Z"
   },
   {
    "duration": 17,
    "start_time": "2023-07-11T14:23:18.091Z"
   },
   {
    "duration": 108,
    "start_time": "2023-07-11T14:24:24.546Z"
   },
   {
    "duration": 1214,
    "start_time": "2023-07-11T14:25:14.329Z"
   },
   {
    "duration": 44,
    "start_time": "2023-07-11T14:25:15.546Z"
   },
   {
    "duration": 26,
    "start_time": "2023-07-11T14:25:15.591Z"
   },
   {
    "duration": 7,
    "start_time": "2023-07-11T14:25:15.619Z"
   },
   {
    "duration": 14,
    "start_time": "2023-07-11T14:25:15.628Z"
   },
   {
    "duration": 6,
    "start_time": "2023-07-11T14:25:15.655Z"
   },
   {
    "duration": 94,
    "start_time": "2023-07-11T14:25:15.663Z"
   },
   {
    "duration": 6,
    "start_time": "2023-07-11T14:25:15.759Z"
   },
   {
    "duration": 94,
    "start_time": "2023-07-11T14:25:15.767Z"
   },
   {
    "duration": 275,
    "start_time": "2023-07-11T14:25:15.865Z"
   },
   {
    "duration": 0,
    "start_time": "2023-07-11T14:25:16.142Z"
   },
   {
    "duration": 17,
    "start_time": "2023-07-11T14:27:43.899Z"
   },
   {
    "duration": 59,
    "start_time": "2023-07-11T14:28:28.202Z"
   },
   {
    "duration": 18,
    "start_time": "2023-07-11T14:28:58.991Z"
   },
   {
    "duration": 19,
    "start_time": "2023-07-11T14:31:05.497Z"
   },
   {
    "duration": 12,
    "start_time": "2023-07-11T14:31:32.785Z"
   },
   {
    "duration": 1261,
    "start_time": "2023-07-11T14:42:05.127Z"
   },
   {
    "duration": 54,
    "start_time": "2023-07-11T14:42:06.391Z"
   },
   {
    "duration": 38,
    "start_time": "2023-07-11T14:42:06.447Z"
   },
   {
    "duration": 9,
    "start_time": "2023-07-11T14:42:06.488Z"
   },
   {
    "duration": 17,
    "start_time": "2023-07-11T14:42:06.499Z"
   },
   {
    "duration": 6,
    "start_time": "2023-07-11T14:42:06.519Z"
   },
   {
    "duration": 101,
    "start_time": "2023-07-11T14:42:06.553Z"
   },
   {
    "duration": 98,
    "start_time": "2023-07-11T14:42:06.657Z"
   },
   {
    "duration": 12,
    "start_time": "2023-07-11T14:42:06.757Z"
   },
   {
    "duration": 90,
    "start_time": "2023-07-11T14:42:06.772Z"
   },
   {
    "duration": 96,
    "start_time": "2023-07-11T14:42:06.865Z"
   },
   {
    "duration": 1225,
    "start_time": "2023-07-11T14:46:01.259Z"
   },
   {
    "duration": 42,
    "start_time": "2023-07-11T14:46:02.487Z"
   },
   {
    "duration": 25,
    "start_time": "2023-07-11T14:46:02.531Z"
   },
   {
    "duration": 29,
    "start_time": "2023-07-11T14:46:02.558Z"
   },
   {
    "duration": 27,
    "start_time": "2023-07-11T14:46:02.590Z"
   },
   {
    "duration": 7,
    "start_time": "2023-07-11T14:46:02.619Z"
   },
   {
    "duration": 30,
    "start_time": "2023-07-11T14:46:02.628Z"
   },
   {
    "duration": 6,
    "start_time": "2023-07-11T14:46:02.659Z"
   },
   {
    "duration": 94,
    "start_time": "2023-07-11T14:46:02.667Z"
   },
   {
    "duration": 100,
    "start_time": "2023-07-11T14:46:02.764Z"
   },
   {
    "duration": 95,
    "start_time": "2023-07-11T14:46:02.867Z"
   },
   {
    "duration": 1186,
    "start_time": "2023-07-11T14:49:10.344Z"
   },
   {
    "duration": 43,
    "start_time": "2023-07-11T14:49:11.533Z"
   },
   {
    "duration": 25,
    "start_time": "2023-07-11T14:49:11.578Z"
   },
   {
    "duration": 7,
    "start_time": "2023-07-11T14:49:11.605Z"
   },
   {
    "duration": 13,
    "start_time": "2023-07-11T14:49:11.613Z"
   },
   {
    "duration": 28,
    "start_time": "2023-07-11T14:49:11.628Z"
   },
   {
    "duration": 16,
    "start_time": "2023-07-11T14:49:11.658Z"
   },
   {
    "duration": 81,
    "start_time": "2023-07-11T14:49:11.676Z"
   },
   {
    "duration": 96,
    "start_time": "2023-07-11T14:49:11.759Z"
   },
   {
    "duration": 97,
    "start_time": "2023-07-11T14:49:11.859Z"
   },
   {
    "duration": 11,
    "start_time": "2023-07-11T14:49:11.957Z"
   }
  ],
  "kernelspec": {
   "display_name": "Python 3 (ipykernel)",
   "language": "python",
   "name": "python3"
  },
  "language_info": {
   "codemirror_mode": {
    "name": "ipython",
    "version": 3
   },
   "file_extension": ".py",
   "mimetype": "text/x-python",
   "name": "python",
   "nbconvert_exporter": "python",
   "pygments_lexer": "ipython3",
   "version": "3.11.4"
  },
  "toc": {
   "base_numbering": 1,
   "nav_menu": {},
   "number_sections": true,
   "sideBar": true,
   "skip_h1_title": true,
   "title_cell": "Contents",
   "title_sidebar": "Contents",
   "toc_cell": true,
   "toc_position": {
    "height": "calc(100% - 180px)",
    "left": "10px",
    "top": "150px",
    "width": "254.396px"
   },
   "toc_section_display": true,
   "toc_window_display": true
  }
 },
 "nbformat": 4,
 "nbformat_minor": 2
}
