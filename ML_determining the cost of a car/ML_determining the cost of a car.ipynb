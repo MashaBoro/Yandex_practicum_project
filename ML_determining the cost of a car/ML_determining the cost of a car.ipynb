{
 "cells": [
  {
   "cell_type": "markdown",
   "metadata": {},
   "source": [
    "# Determining the cost of cars"
   ]
  },
  {
   "cell_type": "markdown",
   "metadata": {},
   "source": [
    "The service for selling used cars “Not a Bit, Not a Paint” is developing an application to attract new customers. Here you can quickly find out the market value of your car. Historical data is at your disposal: technical characteristics, configurations and prices of cars. You need to build a model to determine the cost. \n",
    "\n",
    "*Important for the customer:*\n",
    "\n",
    "- quality of prediction;\n",
    "- prediction speed;\n",
    "- studying time.\n",
    "\n",
    "*Features:*\n",
    "\n",
    "DateCrawled — date of downloading the questionnaire from the database\n",
    "\n",
    "VehicleType — car body type\n",
    "\n",
    "RegistrationYear — car registration year\n",
    "\n",
    "Gearbox — gearbox type\n",
    "\n",
    "Power — power (horsepower)\n",
    "\n",
    "Model — сar model\n",
    "\n",
    "Kilometer — car mileage (km)\n",
    "\n",
    "RegistrationMonth — month of car registration\n",
    "\n",
    "FuelType — fuel type\n",
    "\n",
    "Brand — car model\n",
    "\n",
    "Repaired — whether the car was repaired or not\n",
    "\n",
    "DateCreated — date of creation of the questionnaire\n",
    "\n",
    "NumberOfPictures — number of car photos\n",
    "\n",
    "PostalCode — postal code of the application owner (user)\n",
    "\n",
    "LastSeen — date of last user activity\n",
    "\n",
    "Target\n",
    "\n",
    "Price — price (EUR)"
   ]
  },
  {
   "cell_type": "markdown",
   "metadata": {},
   "source": [
    "*Work plan:*\n",
    "\n",
    "1. Download data\n",
    "2. Explore the data. Fill missing values and handle anomalies in columns. \n",
    "3. Prepare samples for training models.\n",
    "4. Train models\n",
    "* LinearRegression\n",
    "* RandomForestRegressor\n",
    "* CatBoostRegressor\n",
    "* LightGBM\n",
    "4. Analyze training time, prediction time and quality of models.\n",
    "5. Based on the customer’s criteria, choose the best model, check its quality on a test sample."
   ]
  },
  {
   "cell_type": "markdown",
   "metadata": {},
   "source": [
    "*Note:*\n",
    "\n",
    "1. To assess the quality of models, apply a metric RMSE.\n",
    "2. Metric value RMSE should be less 2500.\n",
    "3. The gradient boosting model can take a long time to train, so it only needs to change two or three parameters."
   ]
  },
  {
   "cell_type": "markdown",
   "metadata": {},
   "source": [
    "## Data preparation"
   ]
  },
  {
   "cell_type": "code",
   "execution_count": 1,
   "metadata": {},
   "outputs": [],
   "source": [
    "# download the libraries\n",
    "import pandas as pd\n",
    "import numpy as np\n",
    "import datetime\n",
    "from sklearn.metrics import r2_score, mean_squared_error, accuracy_score\n",
    "from sklearn.model_selection import train_test_split, GridSearchCV\n",
    "from sklearn.preprocessing import StandardScaler\n",
    "from sklearn.linear_model import LinearRegression\n",
    "from sklearn.ensemble import RandomForestRegressor\n",
    "from catboost import CatBoostRegressor\n",
    "import lightgbm as lgb\n",
    "import matplotlib.pyplot as plt\n",
    "from math import sqrt\n",
    "from sklearn.preprocessing import OrdinalEncoder\n",
    "import time\n",
    "from lightgbm import LGBMRegressor\n",
    "import sklearn\n",
    "import inspect\n",
    "from category_encoders import MEstimateEncoder"
   ]
  },
  {
   "cell_type": "markdown",
   "metadata": {},
   "source": [
    " from category_encoders import MEstimateEncoder\n",
    "#---------------------------------------------------------------------------\n",
    "ModuleNotFoundError                       Traceback (most recent call last)\n",
    "/tmp/ipykernel_742/3800338789.py in <module>\n",
    "     16 import sklearn\n",
    "     17 import inspect\n",
    "---> 18 import category_encoders\n",
    "     19 from category_encoders import MEstimateEncoder\n",
    "\n",
    "ModuleNotFoundError: No module named 'category_encoders'\n",
    "    "
   ]
  },
  {
   "cell_type": "code",
   "execution_count": 2,
   "metadata": {},
   "outputs": [],
   "source": [
    "import warnings\n",
    "warnings.filterwarnings('ignore')"
   ]
  },
  {
   "cell_type": "code",
   "execution_count": 3,
   "metadata": {
    "scrolled": true
   },
   "outputs": [
    {
     "data": {
      "text/html": [
       "<div>\n",
       "<style scoped>\n",
       "    .dataframe tbody tr th:only-of-type {\n",
       "        vertical-align: middle;\n",
       "    }\n",
       "\n",
       "    .dataframe tbody tr th {\n",
       "        vertical-align: top;\n",
       "    }\n",
       "\n",
       "    .dataframe thead th {\n",
       "        text-align: right;\n",
       "    }\n",
       "</style>\n",
       "<table border=\"1\" class=\"dataframe\">\n",
       "  <thead>\n",
       "    <tr style=\"text-align: right;\">\n",
       "      <th></th>\n",
       "      <th>DateCrawled</th>\n",
       "      <th>Price</th>\n",
       "      <th>VehicleType</th>\n",
       "      <th>RegistrationYear</th>\n",
       "      <th>Gearbox</th>\n",
       "      <th>Power</th>\n",
       "      <th>Model</th>\n",
       "      <th>Kilometer</th>\n",
       "      <th>RegistrationMonth</th>\n",
       "      <th>FuelType</th>\n",
       "      <th>Brand</th>\n",
       "      <th>Repaired</th>\n",
       "      <th>DateCreated</th>\n",
       "      <th>NumberOfPictures</th>\n",
       "      <th>PostalCode</th>\n",
       "      <th>LastSeen</th>\n",
       "    </tr>\n",
       "  </thead>\n",
       "  <tbody>\n",
       "    <tr>\n",
       "      <th>0</th>\n",
       "      <td>2016-03-24 11:52:17</td>\n",
       "      <td>480</td>\n",
       "      <td>NaN</td>\n",
       "      <td>1993</td>\n",
       "      <td>manual</td>\n",
       "      <td>0</td>\n",
       "      <td>golf</td>\n",
       "      <td>150000</td>\n",
       "      <td>0</td>\n",
       "      <td>petrol</td>\n",
       "      <td>volkswagen</td>\n",
       "      <td>NaN</td>\n",
       "      <td>2016-03-24 00:00:00</td>\n",
       "      <td>0</td>\n",
       "      <td>70435</td>\n",
       "      <td>2016-04-07 03:16:57</td>\n",
       "    </tr>\n",
       "    <tr>\n",
       "      <th>1</th>\n",
       "      <td>2016-03-24 10:58:45</td>\n",
       "      <td>18300</td>\n",
       "      <td>coupe</td>\n",
       "      <td>2011</td>\n",
       "      <td>manual</td>\n",
       "      <td>190</td>\n",
       "      <td>NaN</td>\n",
       "      <td>125000</td>\n",
       "      <td>5</td>\n",
       "      <td>gasoline</td>\n",
       "      <td>audi</td>\n",
       "      <td>yes</td>\n",
       "      <td>2016-03-24 00:00:00</td>\n",
       "      <td>0</td>\n",
       "      <td>66954</td>\n",
       "      <td>2016-04-07 01:46:50</td>\n",
       "    </tr>\n",
       "    <tr>\n",
       "      <th>2</th>\n",
       "      <td>2016-03-14 12:52:21</td>\n",
       "      <td>9800</td>\n",
       "      <td>suv</td>\n",
       "      <td>2004</td>\n",
       "      <td>auto</td>\n",
       "      <td>163</td>\n",
       "      <td>grand</td>\n",
       "      <td>125000</td>\n",
       "      <td>8</td>\n",
       "      <td>gasoline</td>\n",
       "      <td>jeep</td>\n",
       "      <td>NaN</td>\n",
       "      <td>2016-03-14 00:00:00</td>\n",
       "      <td>0</td>\n",
       "      <td>90480</td>\n",
       "      <td>2016-04-05 12:47:46</td>\n",
       "    </tr>\n",
       "    <tr>\n",
       "      <th>3</th>\n",
       "      <td>2016-03-17 16:54:04</td>\n",
       "      <td>1500</td>\n",
       "      <td>small</td>\n",
       "      <td>2001</td>\n",
       "      <td>manual</td>\n",
       "      <td>75</td>\n",
       "      <td>golf</td>\n",
       "      <td>150000</td>\n",
       "      <td>6</td>\n",
       "      <td>petrol</td>\n",
       "      <td>volkswagen</td>\n",
       "      <td>no</td>\n",
       "      <td>2016-03-17 00:00:00</td>\n",
       "      <td>0</td>\n",
       "      <td>91074</td>\n",
       "      <td>2016-03-17 17:40:17</td>\n",
       "    </tr>\n",
       "    <tr>\n",
       "      <th>4</th>\n",
       "      <td>2016-03-31 17:25:20</td>\n",
       "      <td>3600</td>\n",
       "      <td>small</td>\n",
       "      <td>2008</td>\n",
       "      <td>manual</td>\n",
       "      <td>69</td>\n",
       "      <td>fabia</td>\n",
       "      <td>90000</td>\n",
       "      <td>7</td>\n",
       "      <td>gasoline</td>\n",
       "      <td>skoda</td>\n",
       "      <td>no</td>\n",
       "      <td>2016-03-31 00:00:00</td>\n",
       "      <td>0</td>\n",
       "      <td>60437</td>\n",
       "      <td>2016-04-06 10:17:21</td>\n",
       "    </tr>\n",
       "  </tbody>\n",
       "</table>\n",
       "</div>"
      ],
      "text/plain": [
       "           DateCrawled  Price VehicleType  RegistrationYear Gearbox  Power  \\\n",
       "0  2016-03-24 11:52:17    480         NaN              1993  manual      0   \n",
       "1  2016-03-24 10:58:45  18300       coupe              2011  manual    190   \n",
       "2  2016-03-14 12:52:21   9800         suv              2004    auto    163   \n",
       "3  2016-03-17 16:54:04   1500       small              2001  manual     75   \n",
       "4  2016-03-31 17:25:20   3600       small              2008  manual     69   \n",
       "\n",
       "   Model  Kilometer  RegistrationMonth  FuelType       Brand Repaired  \\\n",
       "0   golf     150000                  0    petrol  volkswagen      NaN   \n",
       "1    NaN     125000                  5  gasoline        audi      yes   \n",
       "2  grand     125000                  8  gasoline        jeep      NaN   \n",
       "3   golf     150000                  6    petrol  volkswagen       no   \n",
       "4  fabia      90000                  7  gasoline       skoda       no   \n",
       "\n",
       "           DateCreated  NumberOfPictures  PostalCode             LastSeen  \n",
       "0  2016-03-24 00:00:00                 0       70435  2016-04-07 03:16:57  \n",
       "1  2016-03-24 00:00:00                 0       66954  2016-04-07 01:46:50  \n",
       "2  2016-03-14 00:00:00                 0       90480  2016-04-05 12:47:46  \n",
       "3  2016-03-17 00:00:00                 0       91074  2016-03-17 17:40:17  \n",
       "4  2016-03-31 00:00:00                 0       60437  2016-04-06 10:17:21  "
      ]
     },
     "metadata": {},
     "output_type": "display_data"
    }
   ],
   "source": [
    "# load the data and display it on the screen\n",
    "df = pd.read_csv('C:/Users/hp/Documents/data_science/GitHub/Yandex_project/Датасеты/autos.csv')\n",
    "display(df.head())"
   ]
  },
  {
   "cell_type": "markdown",
   "metadata": {},
   "source": [
    "the table has 16 columns and more than 300,000 rows. We can already see that there are gaps in the cells."
   ]
  },
  {
   "cell_type": "code",
   "execution_count": 4,
   "metadata": {},
   "outputs": [
    {
     "name": "stdout",
     "output_type": "stream",
     "text": [
      "<class 'pandas.core.frame.DataFrame'>\n",
      "RangeIndex: 354369 entries, 0 to 354368\n",
      "Data columns (total 16 columns):\n",
      " #   Column             Non-Null Count   Dtype \n",
      "---  ------             --------------   ----- \n",
      " 0   DateCrawled        354369 non-null  object\n",
      " 1   Price              354369 non-null  int64 \n",
      " 2   VehicleType        316879 non-null  object\n",
      " 3   RegistrationYear   354369 non-null  int64 \n",
      " 4   Gearbox            334536 non-null  object\n",
      " 5   Power              354369 non-null  int64 \n",
      " 6   Model              334664 non-null  object\n",
      " 7   Kilometer          354369 non-null  int64 \n",
      " 8   RegistrationMonth  354369 non-null  int64 \n",
      " 9   FuelType           321474 non-null  object\n",
      " 10  Brand              354369 non-null  object\n",
      " 11  Repaired           283215 non-null  object\n",
      " 12  DateCreated        354369 non-null  object\n",
      " 13  NumberOfPictures   354369 non-null  int64 \n",
      " 14  PostalCode         354369 non-null  int64 \n",
      " 15  LastSeen           354369 non-null  object\n",
      "dtypes: int64(7), object(9)\n",
      "memory usage: 43.3+ MB\n"
     ]
    }
   ],
   "source": [
    "# display information about the data\n",
    "df.info()"
   ]
  },
  {
   "cell_type": "markdown",
   "metadata": {},
   "source": [
    "info() shows that there are gaps in a large number of data columns in our dataframe. Let's work through these points."
   ]
  },
  {
   "cell_type": "code",
   "execution_count": 5,
   "metadata": {},
   "outputs": [
    {
     "data": {
      "text/plain": [
       "DateCrawled          0.000000\n",
       "Price                0.000000\n",
       "VehicleType          0.105794\n",
       "RegistrationYear     0.000000\n",
       "Gearbox              0.055967\n",
       "Power                0.000000\n",
       "Model                0.055606\n",
       "Kilometer            0.000000\n",
       "RegistrationMonth    0.000000\n",
       "FuelType             0.092827\n",
       "Brand                0.000000\n",
       "Repaired             0.200791\n",
       "DateCreated          0.000000\n",
       "NumberOfPictures     0.000000\n",
       "PostalCode           0.000000\n",
       "LastSeen             0.000000\n",
       "dtype: float64"
      ]
     },
     "execution_count": 5,
     "metadata": {},
     "output_type": "execute_result"
    }
   ],
   "source": [
    "# let's look at the gaps\n",
    "df.isnull().mean()"
   ]
  },
  {
   "cell_type": "markdown",
   "metadata": {},
   "source": [
    "Missing values in the columns \"Car body type\", \"Gearbox type\", \"Car model\", \"Fuel type\", \"Has the car been repaired...\". Next, let's see what we should do with these passes."
   ]
  },
  {
   "cell_type": "code",
   "execution_count": 6,
   "metadata": {
    "scrolled": true
   },
   "outputs": [
    {
     "data": {
      "text/html": [
       "<style type=\"text/css\">\n",
       "#T_fd1af_row0_col0, #T_fd1af_row1_col1, #T_fd1af_row2_col2, #T_fd1af_row3_col3, #T_fd1af_row4_col4, #T_fd1af_row6_col6 {\n",
       "  background-color: #b40426;\n",
       "  color: #f1f1f1;\n",
       "}\n",
       "#T_fd1af_row0_col1 {\n",
       "  background-color: #516ddb;\n",
       "  color: #f1f1f1;\n",
       "}\n",
       "#T_fd1af_row0_col2 {\n",
       "  background-color: #6c8ff1;\n",
       "  color: #f1f1f1;\n",
       "}\n",
       "#T_fd1af_row0_col3, #T_fd1af_row1_col2, #T_fd1af_row1_col4, #T_fd1af_row3_col0, #T_fd1af_row3_col1, #T_fd1af_row3_col6 {\n",
       "  background-color: #3b4cc0;\n",
       "  color: #f1f1f1;\n",
       "}\n",
       "#T_fd1af_row0_col4 {\n",
       "  background-color: #5f7fe8;\n",
       "  color: #f1f1f1;\n",
       "}\n",
       "#T_fd1af_row0_col5, #T_fd1af_row1_col5, #T_fd1af_row2_col5, #T_fd1af_row3_col5, #T_fd1af_row4_col5, #T_fd1af_row5_col0, #T_fd1af_row5_col1, #T_fd1af_row5_col2, #T_fd1af_row5_col3, #T_fd1af_row5_col4, #T_fd1af_row5_col5, #T_fd1af_row5_col6, #T_fd1af_row6_col5 {\n",
       "  background-color: #000000;\n",
       "  color: #f1f1f1;\n",
       "}\n",
       "#T_fd1af_row0_col6 {\n",
       "  background-color: #5470de;\n",
       "  color: #f1f1f1;\n",
       "}\n",
       "#T_fd1af_row1_col0 {\n",
       "  background-color: #94b6ff;\n",
       "  color: #000000;\n",
       "}\n",
       "#T_fd1af_row1_col3 {\n",
       "  background-color: #7ea1fa;\n",
       "  color: #f1f1f1;\n",
       "}\n",
       "#T_fd1af_row1_col6 {\n",
       "  background-color: #3c4ec2;\n",
       "  color: #f1f1f1;\n",
       "}\n",
       "#T_fd1af_row2_col0 {\n",
       "  background-color: #b6cefa;\n",
       "  color: #000000;\n",
       "}\n",
       "#T_fd1af_row2_col1, #T_fd1af_row6_col1 {\n",
       "  background-color: #4961d2;\n",
       "  color: #f1f1f1;\n",
       "}\n",
       "#T_fd1af_row2_col3 {\n",
       "  background-color: #93b5fe;\n",
       "  color: #000000;\n",
       "}\n",
       "#T_fd1af_row2_col4 {\n",
       "  background-color: #4a63d3;\n",
       "  color: #f1f1f1;\n",
       "}\n",
       "#T_fd1af_row2_col6 {\n",
       "  background-color: #4358cb;\n",
       "  color: #f1f1f1;\n",
       "}\n",
       "#T_fd1af_row3_col2, #T_fd1af_row6_col4 {\n",
       "  background-color: #4257c9;\n",
       "  color: #f1f1f1;\n",
       "}\n",
       "#T_fd1af_row3_col4, #T_fd1af_row4_col6, #T_fd1af_row6_col2 {\n",
       "  background-color: #4055c8;\n",
       "  color: #f1f1f1;\n",
       "}\n",
       "#T_fd1af_row4_col0 {\n",
       "  background-color: #aac7fd;\n",
       "  color: #000000;\n",
       "}\n",
       "#T_fd1af_row4_col1 {\n",
       "  background-color: #465ecf;\n",
       "  color: #f1f1f1;\n",
       "}\n",
       "#T_fd1af_row4_col2 {\n",
       "  background-color: #485fd1;\n",
       "  color: #f1f1f1;\n",
       "}\n",
       "#T_fd1af_row4_col3 {\n",
       "  background-color: #8fb1fe;\n",
       "  color: #000000;\n",
       "}\n",
       "#T_fd1af_row6_col0 {\n",
       "  background-color: #a1c0ff;\n",
       "  color: #000000;\n",
       "}\n",
       "#T_fd1af_row6_col3 {\n",
       "  background-color: #8badfd;\n",
       "  color: #000000;\n",
       "}\n",
       "</style>\n",
       "<table id=\"T_fd1af\">\n",
       "  <thead>\n",
       "    <tr>\n",
       "      <th class=\"blank level0\" >&nbsp;</th>\n",
       "      <th id=\"T_fd1af_level0_col0\" class=\"col_heading level0 col0\" >Price</th>\n",
       "      <th id=\"T_fd1af_level0_col1\" class=\"col_heading level0 col1\" >RegistrationYear</th>\n",
       "      <th id=\"T_fd1af_level0_col2\" class=\"col_heading level0 col2\" >Power</th>\n",
       "      <th id=\"T_fd1af_level0_col3\" class=\"col_heading level0 col3\" >Kilometer</th>\n",
       "      <th id=\"T_fd1af_level0_col4\" class=\"col_heading level0 col4\" >RegistrationMonth</th>\n",
       "      <th id=\"T_fd1af_level0_col5\" class=\"col_heading level0 col5\" >NumberOfPictures</th>\n",
       "      <th id=\"T_fd1af_level0_col6\" class=\"col_heading level0 col6\" >PostalCode</th>\n",
       "    </tr>\n",
       "  </thead>\n",
       "  <tbody>\n",
       "    <tr>\n",
       "      <th id=\"T_fd1af_level0_row0\" class=\"row_heading level0 row0\" >Price</th>\n",
       "      <td id=\"T_fd1af_row0_col0\" class=\"data row0 col0\" >1.000000</td>\n",
       "      <td id=\"T_fd1af_row0_col1\" class=\"data row0 col1\" >0.026916</td>\n",
       "      <td id=\"T_fd1af_row0_col2\" class=\"data row0 col2\" >0.158872</td>\n",
       "      <td id=\"T_fd1af_row0_col3\" class=\"data row0 col3\" >-0.333199</td>\n",
       "      <td id=\"T_fd1af_row0_col4\" class=\"data row0 col4\" >0.110581</td>\n",
       "      <td id=\"T_fd1af_row0_col5\" class=\"data row0 col5\" >nan</td>\n",
       "      <td id=\"T_fd1af_row0_col6\" class=\"data row0 col6\" >0.076055</td>\n",
       "    </tr>\n",
       "    <tr>\n",
       "      <th id=\"T_fd1af_level0_row1\" class=\"row_heading level0 row1\" >RegistrationYear</th>\n",
       "      <td id=\"T_fd1af_row1_col0\" class=\"data row1 col0\" >0.026916</td>\n",
       "      <td id=\"T_fd1af_row1_col1\" class=\"data row1 col1\" >1.000000</td>\n",
       "      <td id=\"T_fd1af_row1_col2\" class=\"data row1 col2\" >-0.000828</td>\n",
       "      <td id=\"T_fd1af_row1_col3\" class=\"data row1 col3\" >-0.053447</td>\n",
       "      <td id=\"T_fd1af_row1_col4\" class=\"data row1 col4\" >-0.011619</td>\n",
       "      <td id=\"T_fd1af_row1_col5\" class=\"data row1 col5\" >nan</td>\n",
       "      <td id=\"T_fd1af_row1_col6\" class=\"data row1 col6\" >-0.003459</td>\n",
       "    </tr>\n",
       "    <tr>\n",
       "      <th id=\"T_fd1af_level0_row2\" class=\"row_heading level0 row2\" >Power</th>\n",
       "      <td id=\"T_fd1af_row2_col0\" class=\"data row2 col0\" >0.158872</td>\n",
       "      <td id=\"T_fd1af_row2_col1\" class=\"data row2 col1\" >-0.000828</td>\n",
       "      <td id=\"T_fd1af_row2_col2\" class=\"data row2 col2\" >1.000000</td>\n",
       "      <td id=\"T_fd1af_row2_col3\" class=\"data row2 col3\" >0.024002</td>\n",
       "      <td id=\"T_fd1af_row2_col4\" class=\"data row2 col4\" >0.043380</td>\n",
       "      <td id=\"T_fd1af_row2_col5\" class=\"data row2 col5\" >nan</td>\n",
       "      <td id=\"T_fd1af_row2_col6\" class=\"data row2 col6\" >0.021665</td>\n",
       "    </tr>\n",
       "    <tr>\n",
       "      <th id=\"T_fd1af_level0_row3\" class=\"row_heading level0 row3\" >Kilometer</th>\n",
       "      <td id=\"T_fd1af_row3_col0\" class=\"data row3 col0\" >-0.333199</td>\n",
       "      <td id=\"T_fd1af_row3_col1\" class=\"data row3 col1\" >-0.053447</td>\n",
       "      <td id=\"T_fd1af_row3_col2\" class=\"data row3 col2\" >0.024002</td>\n",
       "      <td id=\"T_fd1af_row3_col3\" class=\"data row3 col3\" >1.000000</td>\n",
       "      <td id=\"T_fd1af_row3_col4\" class=\"data row3 col4\" >0.009571</td>\n",
       "      <td id=\"T_fd1af_row3_col5\" class=\"data row3 col5\" >nan</td>\n",
       "      <td id=\"T_fd1af_row3_col6\" class=\"data row3 col6\" >-0.007698</td>\n",
       "    </tr>\n",
       "    <tr>\n",
       "      <th id=\"T_fd1af_level0_row4\" class=\"row_heading level0 row4\" >RegistrationMonth</th>\n",
       "      <td id=\"T_fd1af_row4_col0\" class=\"data row4 col0\" >0.110581</td>\n",
       "      <td id=\"T_fd1af_row4_col1\" class=\"data row4 col1\" >-0.011619</td>\n",
       "      <td id=\"T_fd1af_row4_col2\" class=\"data row4 col2\" >0.043380</td>\n",
       "      <td id=\"T_fd1af_row4_col3\" class=\"data row4 col3\" >0.009571</td>\n",
       "      <td id=\"T_fd1af_row4_col4\" class=\"data row4 col4\" >1.000000</td>\n",
       "      <td id=\"T_fd1af_row4_col5\" class=\"data row4 col5\" >nan</td>\n",
       "      <td id=\"T_fd1af_row4_col6\" class=\"data row4 col6\" >0.013995</td>\n",
       "    </tr>\n",
       "    <tr>\n",
       "      <th id=\"T_fd1af_level0_row5\" class=\"row_heading level0 row5\" >NumberOfPictures</th>\n",
       "      <td id=\"T_fd1af_row5_col0\" class=\"data row5 col0\" >nan</td>\n",
       "      <td id=\"T_fd1af_row5_col1\" class=\"data row5 col1\" >nan</td>\n",
       "      <td id=\"T_fd1af_row5_col2\" class=\"data row5 col2\" >nan</td>\n",
       "      <td id=\"T_fd1af_row5_col3\" class=\"data row5 col3\" >nan</td>\n",
       "      <td id=\"T_fd1af_row5_col4\" class=\"data row5 col4\" >nan</td>\n",
       "      <td id=\"T_fd1af_row5_col5\" class=\"data row5 col5\" >nan</td>\n",
       "      <td id=\"T_fd1af_row5_col6\" class=\"data row5 col6\" >nan</td>\n",
       "    </tr>\n",
       "    <tr>\n",
       "      <th id=\"T_fd1af_level0_row6\" class=\"row_heading level0 row6\" >PostalCode</th>\n",
       "      <td id=\"T_fd1af_row6_col0\" class=\"data row6 col0\" >0.076055</td>\n",
       "      <td id=\"T_fd1af_row6_col1\" class=\"data row6 col1\" >-0.003459</td>\n",
       "      <td id=\"T_fd1af_row6_col2\" class=\"data row6 col2\" >0.021665</td>\n",
       "      <td id=\"T_fd1af_row6_col3\" class=\"data row6 col3\" >-0.007698</td>\n",
       "      <td id=\"T_fd1af_row6_col4\" class=\"data row6 col4\" >0.013995</td>\n",
       "      <td id=\"T_fd1af_row6_col5\" class=\"data row6 col5\" >nan</td>\n",
       "      <td id=\"T_fd1af_row6_col6\" class=\"data row6 col6\" >1.000000</td>\n",
       "    </tr>\n",
       "  </tbody>\n",
       "</table>\n"
      ],
      "text/plain": [
       "<pandas.io.formats.style.Styler at 0x1e6b7d69210>"
      ]
     },
     "execution_count": 6,
     "metadata": {},
     "output_type": "execute_result"
    }
   ],
   "source": [
    "# let's look at the correlation matrix\n",
    "df.corr().style.background_gradient(cmap='coolwarm')"
   ]
  },
  {
   "cell_type": "code",
   "execution_count": 7,
   "metadata": {},
   "outputs": [
    {
     "data": {
      "text/html": [
       "<div>\n",
       "<style scoped>\n",
       "    .dataframe tbody tr th:only-of-type {\n",
       "        vertical-align: middle;\n",
       "    }\n",
       "\n",
       "    .dataframe tbody tr th {\n",
       "        vertical-align: top;\n",
       "    }\n",
       "\n",
       "    .dataframe thead th {\n",
       "        text-align: right;\n",
       "    }\n",
       "</style>\n",
       "<table border=\"1\" class=\"dataframe\">\n",
       "  <thead>\n",
       "    <tr style=\"text-align: right;\">\n",
       "      <th></th>\n",
       "      <th>Price</th>\n",
       "      <th>RegistrationYear</th>\n",
       "      <th>Power</th>\n",
       "      <th>Kilometer</th>\n",
       "      <th>RegistrationMonth</th>\n",
       "      <th>NumberOfPictures</th>\n",
       "      <th>PostalCode</th>\n",
       "    </tr>\n",
       "  </thead>\n",
       "  <tbody>\n",
       "    <tr>\n",
       "      <th>count</th>\n",
       "      <td>354369.000000</td>\n",
       "      <td>354369.000000</td>\n",
       "      <td>354369.000000</td>\n",
       "      <td>354369.000000</td>\n",
       "      <td>354369.000000</td>\n",
       "      <td>354369.0</td>\n",
       "      <td>354369.000000</td>\n",
       "    </tr>\n",
       "    <tr>\n",
       "      <th>mean</th>\n",
       "      <td>4416.656776</td>\n",
       "      <td>2004.234448</td>\n",
       "      <td>110.094337</td>\n",
       "      <td>128211.172535</td>\n",
       "      <td>5.714645</td>\n",
       "      <td>0.0</td>\n",
       "      <td>50508.689087</td>\n",
       "    </tr>\n",
       "    <tr>\n",
       "      <th>std</th>\n",
       "      <td>4514.158514</td>\n",
       "      <td>90.227958</td>\n",
       "      <td>189.850405</td>\n",
       "      <td>37905.341530</td>\n",
       "      <td>3.726421</td>\n",
       "      <td>0.0</td>\n",
       "      <td>25783.096248</td>\n",
       "    </tr>\n",
       "    <tr>\n",
       "      <th>min</th>\n",
       "      <td>0.000000</td>\n",
       "      <td>1000.000000</td>\n",
       "      <td>0.000000</td>\n",
       "      <td>5000.000000</td>\n",
       "      <td>0.000000</td>\n",
       "      <td>0.0</td>\n",
       "      <td>1067.000000</td>\n",
       "    </tr>\n",
       "    <tr>\n",
       "      <th>25%</th>\n",
       "      <td>1050.000000</td>\n",
       "      <td>1999.000000</td>\n",
       "      <td>69.000000</td>\n",
       "      <td>125000.000000</td>\n",
       "      <td>3.000000</td>\n",
       "      <td>0.0</td>\n",
       "      <td>30165.000000</td>\n",
       "    </tr>\n",
       "    <tr>\n",
       "      <th>50%</th>\n",
       "      <td>2700.000000</td>\n",
       "      <td>2003.000000</td>\n",
       "      <td>105.000000</td>\n",
       "      <td>150000.000000</td>\n",
       "      <td>6.000000</td>\n",
       "      <td>0.0</td>\n",
       "      <td>49413.000000</td>\n",
       "    </tr>\n",
       "    <tr>\n",
       "      <th>75%</th>\n",
       "      <td>6400.000000</td>\n",
       "      <td>2008.000000</td>\n",
       "      <td>143.000000</td>\n",
       "      <td>150000.000000</td>\n",
       "      <td>9.000000</td>\n",
       "      <td>0.0</td>\n",
       "      <td>71083.000000</td>\n",
       "    </tr>\n",
       "    <tr>\n",
       "      <th>max</th>\n",
       "      <td>20000.000000</td>\n",
       "      <td>9999.000000</td>\n",
       "      <td>20000.000000</td>\n",
       "      <td>150000.000000</td>\n",
       "      <td>12.000000</td>\n",
       "      <td>0.0</td>\n",
       "      <td>99998.000000</td>\n",
       "    </tr>\n",
       "  </tbody>\n",
       "</table>\n",
       "</div>"
      ],
      "text/plain": [
       "               Price  RegistrationYear          Power      Kilometer  \\\n",
       "count  354369.000000     354369.000000  354369.000000  354369.000000   \n",
       "mean     4416.656776       2004.234448     110.094337  128211.172535   \n",
       "std      4514.158514         90.227958     189.850405   37905.341530   \n",
       "min         0.000000       1000.000000       0.000000    5000.000000   \n",
       "25%      1050.000000       1999.000000      69.000000  125000.000000   \n",
       "50%      2700.000000       2003.000000     105.000000  150000.000000   \n",
       "75%      6400.000000       2008.000000     143.000000  150000.000000   \n",
       "max     20000.000000       9999.000000   20000.000000  150000.000000   \n",
       "\n",
       "       RegistrationMonth  NumberOfPictures     PostalCode  \n",
       "count      354369.000000          354369.0  354369.000000  \n",
       "mean            5.714645               0.0   50508.689087  \n",
       "std             3.726421               0.0   25783.096248  \n",
       "min             0.000000               0.0    1067.000000  \n",
       "25%             3.000000               0.0   30165.000000  \n",
       "50%             6.000000               0.0   49413.000000  \n",
       "75%             9.000000               0.0   71083.000000  \n",
       "max            12.000000               0.0   99998.000000  "
      ]
     },
     "execution_count": 7,
     "metadata": {},
     "output_type": "execute_result"
    }
   ],
   "source": [
    "# Let's look at the statistical information\n",
    "df.describe()"
   ]
  },
  {
   "cell_type": "markdown",
   "metadata": {},
   "source": [
    "There are lines with zero in Price. There is also zero data in the Power column, as well as a very high max for this column. We will display this data separately."
   ]
  },
  {
   "cell_type": "code",
   "execution_count": 8,
   "metadata": {},
   "outputs": [
    {
     "data": {
      "image/png": "[encoded data removed]",
      "text/plain": [
       "<Figure size 1400x700 with 1 Axes>"
      ]
     },
     "metadata": {},
     "output_type": "display_data"
    }
   ],
   "source": [
    "# Box plot\n",
    "df_plt = df['Price']\n",
    "plt.figure(figsize=(14,7))\n",
    "plt.boxplot(df_plt)\n",
    "plt.xticks([1],['Price'])\n",
    "plt.title('Ящик с усами: Стоимость')\n",
    "plt.ylabel('Стоимость, евро')\n",
    "plt.show()"
   ]
  },
  {
   "cell_type": "markdown",
   "metadata": {},
   "source": [
    "We see a long tail outside 15000."
   ]
  },
  {
   "cell_type": "code",
   "execution_count": 9,
   "metadata": {},
   "outputs": [
    {
     "data": {
      "text/plain": [
       "13314"
      ]
     },
     "execution_count": 9,
     "metadata": {},
     "output_type": "execute_result"
    }
   ],
   "source": [
    "# Let's see how many cars cost up to 100 EUR\n",
    "df[df['Price'] < 100]['Price'].count()"
   ]
  },
  {
   "cell_type": "code",
   "execution_count": 10,
   "metadata": {},
   "outputs": [
    {
     "data": {
      "text/plain": [
       "3.757100649323163"
      ]
     },
     "execution_count": 10,
     "metadata": {},
     "output_type": "execute_result"
    }
   ],
   "source": [
    "# Let's see what percentage of lines are less than 100 EUR in Price\n",
    "df.query('Price<100').shape[0]/df.shape[0]*100"
   ]
  },
  {
   "cell_type": "markdown",
   "metadata": {},
   "source": [
    "The number of lines where the cost of the car is indicated below 100 EUR is 3.76% of the total number of lines. But nevertheless, we will not delete these lines; perhaps there really are cars on sale with such a low cost (for spare parts)."
   ]
  },
  {
   "cell_type": "code",
   "execution_count": 11,
   "metadata": {},
   "outputs": [
    {
     "data": {
      "image/png": "[encoded data removed]",
      "text/plain": [
       "<Figure size 1400x700 with 1 Axes>"
      ]
     },
     "metadata": {},
     "output_type": "display_data"
    }
   ],
   "source": [
    "# Let's look at the outlier values for the Power column\n",
    "# Let's build a Box plot with whiskers and look at the data distribution\n",
    "df_plt_1=df['Power']\n",
    "plt.figure(figsize=(14,7))\n",
    "plt.boxplot(df_plt)\n",
    "plt.xticks([1],['Power'])\n",
    "plt.title('Ящик с усами: Мощность')\n",
    "plt.ylabel('Мощность, л.с.')\n",
    "plt.show()"
   ]
  },
  {
   "cell_type": "markdown",
   "metadata": {},
   "source": [
    "We see completely strange power figures. The fastest cars in the World, sold exclusively, have no more than 2000 hp. Minimum - 17. Therefore, when preparing information, we will rely on these figures."
   ]
  },
  {
   "cell_type": "code",
   "execution_count": 12,
   "metadata": {},
   "outputs": [
    {
     "data": {
      "text/plain": [
       "11.482099167816598"
      ]
     },
     "execution_count": 12,
     "metadata": {},
     "output_type": "execute_result"
    }
   ],
   "source": [
    "# Let's see what percentage are lines less than 17 and more than 2000 h.p. in Power\n",
    "(df.query('2000 < Power').shape[0] + df.query('17 > Power').shape[0])/df.shape[0]*100\n"
   ]
  },
  {
   "cell_type": "markdown",
   "metadata": {},
   "source": [
    "Percentage of data with power less than 17 and more than 2000 h.p. is approximately 10%. So let's delete the lines."
   ]
  },
  {
   "cell_type": "code",
   "execution_count": 13,
   "metadata": {},
   "outputs": [
    {
     "data": {
      "text/html": [
       "<div>\n",
       "<style scoped>\n",
       "    .dataframe tbody tr th:only-of-type {\n",
       "        vertical-align: middle;\n",
       "    }\n",
       "\n",
       "    .dataframe tbody tr th {\n",
       "        vertical-align: top;\n",
       "    }\n",
       "\n",
       "    .dataframe thead th {\n",
       "        text-align: right;\n",
       "    }\n",
       "</style>\n",
       "<table border=\"1\" class=\"dataframe\">\n",
       "  <thead>\n",
       "    <tr style=\"text-align: right;\">\n",
       "      <th></th>\n",
       "      <th>Price</th>\n",
       "      <th>RegistrationYear</th>\n",
       "      <th>Power</th>\n",
       "      <th>Kilometer</th>\n",
       "      <th>RegistrationMonth</th>\n",
       "      <th>NumberOfPictures</th>\n",
       "      <th>PostalCode</th>\n",
       "    </tr>\n",
       "  </thead>\n",
       "  <tbody>\n",
       "    <tr>\n",
       "      <th>count</th>\n",
       "      <td>313680.000000</td>\n",
       "      <td>313680.000000</td>\n",
       "      <td>313680.000000</td>\n",
       "      <td>313680.000000</td>\n",
       "      <td>313680.000000</td>\n",
       "      <td>313680.0</td>\n",
       "      <td>313680.000000</td>\n",
       "    </tr>\n",
       "    <tr>\n",
       "      <th>mean</th>\n",
       "      <td>4705.565344</td>\n",
       "      <td>2003.468532</td>\n",
       "      <td>121.208231</td>\n",
       "      <td>128568.461489</td>\n",
       "      <td>5.934481</td>\n",
       "      <td>0.0</td>\n",
       "      <td>51024.373801</td>\n",
       "    </tr>\n",
       "    <tr>\n",
       "      <th>std</th>\n",
       "      <td>4591.511545</td>\n",
       "      <td>34.996617</td>\n",
       "      <td>64.212764</td>\n",
       "      <td>36732.386259</td>\n",
       "      <td>3.615682</td>\n",
       "      <td>0.0</td>\n",
       "      <td>25795.126315</td>\n",
       "    </tr>\n",
       "    <tr>\n",
       "      <th>min</th>\n",
       "      <td>0.000000</td>\n",
       "      <td>1000.000000</td>\n",
       "      <td>17.000000</td>\n",
       "      <td>5000.000000</td>\n",
       "      <td>0.000000</td>\n",
       "      <td>0.0</td>\n",
       "      <td>1067.000000</td>\n",
       "    </tr>\n",
       "    <tr>\n",
       "      <th>25%</th>\n",
       "      <td>1250.000000</td>\n",
       "      <td>1999.000000</td>\n",
       "      <td>75.000000</td>\n",
       "      <td>125000.000000</td>\n",
       "      <td>3.000000</td>\n",
       "      <td>0.0</td>\n",
       "      <td>30853.000000</td>\n",
       "    </tr>\n",
       "    <tr>\n",
       "      <th>50%</th>\n",
       "      <td>2999.000000</td>\n",
       "      <td>2003.000000</td>\n",
       "      <td>110.000000</td>\n",
       "      <td>150000.000000</td>\n",
       "      <td>6.000000</td>\n",
       "      <td>0.0</td>\n",
       "      <td>49824.000000</td>\n",
       "    </tr>\n",
       "    <tr>\n",
       "      <th>75%</th>\n",
       "      <td>6890.000000</td>\n",
       "      <td>2008.000000</td>\n",
       "      <td>150.000000</td>\n",
       "      <td>150000.000000</td>\n",
       "      <td>9.000000</td>\n",
       "      <td>0.0</td>\n",
       "      <td>71665.000000</td>\n",
       "    </tr>\n",
       "    <tr>\n",
       "      <th>max</th>\n",
       "      <td>20000.000000</td>\n",
       "      <td>9999.000000</td>\n",
       "      <td>2000.000000</td>\n",
       "      <td>150000.000000</td>\n",
       "      <td>12.000000</td>\n",
       "      <td>0.0</td>\n",
       "      <td>99998.000000</td>\n",
       "    </tr>\n",
       "  </tbody>\n",
       "</table>\n",
       "</div>"
      ],
      "text/plain": [
       "               Price  RegistrationYear          Power      Kilometer  \\\n",
       "count  313680.000000     313680.000000  313680.000000  313680.000000   \n",
       "mean     4705.565344       2003.468532     121.208231  128568.461489   \n",
       "std      4591.511545         34.996617      64.212764   36732.386259   \n",
       "min         0.000000       1000.000000      17.000000    5000.000000   \n",
       "25%      1250.000000       1999.000000      75.000000  125000.000000   \n",
       "50%      2999.000000       2003.000000     110.000000  150000.000000   \n",
       "75%      6890.000000       2008.000000     150.000000  150000.000000   \n",
       "max     20000.000000       9999.000000    2000.000000  150000.000000   \n",
       "\n",
       "       RegistrationMonth  NumberOfPictures     PostalCode  \n",
       "count      313680.000000          313680.0  313680.000000  \n",
       "mean            5.934481               0.0   51024.373801  \n",
       "std             3.615682               0.0   25795.126315  \n",
       "min             0.000000               0.0    1067.000000  \n",
       "25%             3.000000               0.0   30853.000000  \n",
       "50%             6.000000               0.0   49824.000000  \n",
       "75%             9.000000               0.0   71665.000000  \n",
       "max            12.000000               0.0   99998.000000  "
      ]
     },
     "execution_count": 13,
     "metadata": {},
     "output_type": "execute_result"
    }
   ],
   "source": [
    "# Let's discard rows with values less than 17 and more than 2000 h.p.\n",
    "df = df.query('17 <= Power <= 2000')\n",
    "df.describe()"
   ]
  },
  {
   "cell_type": "code",
   "execution_count": 14,
   "metadata": {},
   "outputs": [
    {
     "data": {
      "text/plain": [
       "min    2016-03-05 14:06:22\n",
       "max    2016-04-07 14:36:58\n",
       "Name: DateCrawled, dtype: object"
      ]
     },
     "execution_count": 14,
     "metadata": {},
     "output_type": "execute_result"
    }
   ],
   "source": [
    "# Let's look at the max value for the DateCrawled column\n",
    "df['DateCrawled'].agg(['min', 'max'])"
   ]
  },
  {
   "cell_type": "code",
   "execution_count": 15,
   "metadata": {},
   "outputs": [
    {
     "data": {
      "text/plain": [
       "min    2015-03-20 00:00:00\n",
       "max    2016-04-07 00:00:00\n",
       "Name: DateCreated, dtype: object"
      ]
     },
     "execution_count": 15,
     "metadata": {},
     "output_type": "execute_result"
    }
   ],
   "source": [
    "# Let's look at the max value for the DateCreated column\n",
    "df['DateCreated'].agg(['min', 'max'])"
   ]
  },
  {
   "cell_type": "code",
   "execution_count": 16,
   "metadata": {},
   "outputs": [
    {
     "data": {
      "text/plain": [
       "array([2011, 2004, 2001, 2008, 1995, 1980, 2014, 1998, 2005, 2016, 2007,\n",
       "       2009, 2002, 2018, 1997, 1990, 2017, 1981, 2003, 1991, 1984, 2006,\n",
       "       1999, 2012, 1994, 2010, 2000, 1992, 2013, 1996, 1989, 2015, 1993,\n",
       "       1985, 1982, 1983, 1973, 1969, 1971, 1987, 1988, 1970, 1986, 1976,\n",
       "       1965, 1945, 1974, 1955, 1978, 1979, 1972, 1977, 1961, 1975, 1968,\n",
       "       1963, 1966, 1954, 1958, 1959, 1956, 1941, 1960, 1500, 1962, 1929,\n",
       "       1957, 1910, 1940, 1964, 1967, 1949, 1937, 1800, 1953, 2019, 1234,\n",
       "       2900, 6000, 5911, 1400, 4000, 8000, 1200, 1932, 1951, 1952, 1950,\n",
       "       5000, 1942, 1935, 3000, 6500, 1000, 1930, 9999, 1943, 1938, 9000,\n",
       "       1936, 1928, 2800, 1931, 1948, 4500, 1927, 1933, 8200, 1947, 1944,\n",
       "       3500, 1600], dtype=int64)"
      ]
     },
     "execution_count": 16,
     "metadata": {},
     "output_type": "execute_result"
    }
   ],
   "source": [
    "# Let's look at the unique values for the RegistrationYear column\n",
    "df['RegistrationYear'].unique()"
   ]
  },
  {
   "cell_type": "markdown",
   "metadata": {},
   "source": [
    "So, we see that there are numbers that correspond to years from the future, there are years of past centuries 16, 15. Let's get rid of the lines that contain such strange data. We will leave the maximum year of registration as 2016, the month as March, since the latest deadline for the questionnaire is 04/07/2016, the minimum is 1970 (the year the first VAZ2101 was produced)."
   ]
  },
  {
   "cell_type": "code",
   "execution_count": 17,
   "metadata": {},
   "outputs": [
    {
     "data": {
      "text/html": [
       "<div>\n",
       "<style scoped>\n",
       "    .dataframe tbody tr th:only-of-type {\n",
       "        vertical-align: middle;\n",
       "    }\n",
       "\n",
       "    .dataframe tbody tr th {\n",
       "        vertical-align: top;\n",
       "    }\n",
       "\n",
       "    .dataframe thead th {\n",
       "        text-align: right;\n",
       "    }\n",
       "</style>\n",
       "<table border=\"1\" class=\"dataframe\">\n",
       "  <thead>\n",
       "    <tr style=\"text-align: right;\">\n",
       "      <th></th>\n",
       "      <th>DateCrawled</th>\n",
       "      <th>Price</th>\n",
       "      <th>VehicleType</th>\n",
       "      <th>RegistrationYear</th>\n",
       "      <th>Gearbox</th>\n",
       "      <th>Power</th>\n",
       "      <th>Model</th>\n",
       "      <th>Kilometer</th>\n",
       "      <th>RegistrationMonth</th>\n",
       "      <th>FuelType</th>\n",
       "      <th>Brand</th>\n",
       "      <th>Repaired</th>\n",
       "      <th>DateCreated</th>\n",
       "      <th>NumberOfPictures</th>\n",
       "      <th>PostalCode</th>\n",
       "      <th>LastSeen</th>\n",
       "    </tr>\n",
       "  </thead>\n",
       "  <tbody>\n",
       "    <tr>\n",
       "      <th>16</th>\n",
       "      <td>2016-04-01 12:46:46</td>\n",
       "      <td>300</td>\n",
       "      <td>NaN</td>\n",
       "      <td>2016</td>\n",
       "      <td>NaN</td>\n",
       "      <td>60</td>\n",
       "      <td>polo</td>\n",
       "      <td>150000</td>\n",
       "      <td>0</td>\n",
       "      <td>petrol</td>\n",
       "      <td>volkswagen</td>\n",
       "      <td>NaN</td>\n",
       "      <td>2016-04-01 00:00:00</td>\n",
       "      <td>0</td>\n",
       "      <td>38871</td>\n",
       "      <td>2016-04-01 12:46:46</td>\n",
       "    </tr>\n",
       "    <tr>\n",
       "      <th>52</th>\n",
       "      <td>2016-04-04 10:57:36</td>\n",
       "      <td>1400</td>\n",
       "      <td>NaN</td>\n",
       "      <td>2016</td>\n",
       "      <td>manual</td>\n",
       "      <td>55</td>\n",
       "      <td>other</td>\n",
       "      <td>5000</td>\n",
       "      <td>1</td>\n",
       "      <td>NaN</td>\n",
       "      <td>hyundai</td>\n",
       "      <td>NaN</td>\n",
       "      <td>2016-04-04 00:00:00</td>\n",
       "      <td>0</td>\n",
       "      <td>34454</td>\n",
       "      <td>2016-04-06 12:45:43</td>\n",
       "    </tr>\n",
       "    <tr>\n",
       "      <th>79</th>\n",
       "      <td>2016-03-17 18:52:56</td>\n",
       "      <td>150</td>\n",
       "      <td>NaN</td>\n",
       "      <td>2016</td>\n",
       "      <td>manual</td>\n",
       "      <td>75</td>\n",
       "      <td>astra</td>\n",
       "      <td>150000</td>\n",
       "      <td>3</td>\n",
       "      <td>petrol</td>\n",
       "      <td>opel</td>\n",
       "      <td>yes</td>\n",
       "      <td>2016-03-17 00:00:00</td>\n",
       "      <td>0</td>\n",
       "      <td>78315</td>\n",
       "      <td>2016-04-05 03:45:22</td>\n",
       "    </tr>\n",
       "    <tr>\n",
       "      <th>181</th>\n",
       "      <td>2016-03-21 14:43:48</td>\n",
       "      <td>3000</td>\n",
       "      <td>NaN</td>\n",
       "      <td>2016</td>\n",
       "      <td>auto</td>\n",
       "      <td>75</td>\n",
       "      <td>fabia</td>\n",
       "      <td>150000</td>\n",
       "      <td>0</td>\n",
       "      <td>petrol</td>\n",
       "      <td>skoda</td>\n",
       "      <td>NaN</td>\n",
       "      <td>2016-03-21 00:00:00</td>\n",
       "      <td>0</td>\n",
       "      <td>24782</td>\n",
       "      <td>2016-03-31 17:45:24</td>\n",
       "    </tr>\n",
       "    <tr>\n",
       "      <th>281</th>\n",
       "      <td>2016-03-24 11:48:01</td>\n",
       "      <td>150</td>\n",
       "      <td>NaN</td>\n",
       "      <td>2016</td>\n",
       "      <td>auto</td>\n",
       "      <td>75</td>\n",
       "      <td>fiesta</td>\n",
       "      <td>50000</td>\n",
       "      <td>1</td>\n",
       "      <td>petrol</td>\n",
       "      <td>ford</td>\n",
       "      <td>yes</td>\n",
       "      <td>2016-03-24 00:00:00</td>\n",
       "      <td>0</td>\n",
       "      <td>32457</td>\n",
       "      <td>2016-03-30 11:48:26</td>\n",
       "    </tr>\n",
       "  </tbody>\n",
       "</table>\n",
       "</div>"
      ],
      "text/plain": [
       "             DateCrawled  Price VehicleType  RegistrationYear Gearbox  Power  \\\n",
       "16   2016-04-01 12:46:46    300         NaN              2016     NaN     60   \n",
       "52   2016-04-04 10:57:36   1400         NaN              2016  manual     55   \n",
       "79   2016-03-17 18:52:56    150         NaN              2016  manual     75   \n",
       "181  2016-03-21 14:43:48   3000         NaN              2016    auto     75   \n",
       "281  2016-03-24 11:48:01    150         NaN              2016    auto     75   \n",
       "\n",
       "      Model  Kilometer  RegistrationMonth FuelType       Brand Repaired  \\\n",
       "16     polo     150000                  0   petrol  volkswagen      NaN   \n",
       "52    other       5000                  1      NaN     hyundai      NaN   \n",
       "79    astra     150000                  3   petrol        opel      yes   \n",
       "181   fabia     150000                  0   petrol       skoda      NaN   \n",
       "281  fiesta      50000                  1   petrol        ford      yes   \n",
       "\n",
       "             DateCreated  NumberOfPictures  PostalCode             LastSeen  \n",
       "16   2016-04-01 00:00:00                 0       38871  2016-04-01 12:46:46  \n",
       "52   2016-04-04 00:00:00                 0       34454  2016-04-06 12:45:43  \n",
       "79   2016-03-17 00:00:00                 0       78315  2016-04-05 03:45:22  \n",
       "181  2016-03-21 00:00:00                 0       24782  2016-03-31 17:45:24  \n",
       "281  2016-03-24 00:00:00                 0       32457  2016-03-30 11:48:26  "
      ]
     },
     "execution_count": 17,
     "metadata": {},
     "output_type": "execute_result"
    }
   ],
   "source": [
    "# Let's sort the table by RegistrationYear=2016 and RegistrationMonth of March and earlier\n",
    "df1 = df.loc[((df['RegistrationYear'] == 2016) &(df['RegistrationMonth' ] <= 3))]\n",
    "df1.head()"
   ]
  },
  {
   "cell_type": "code",
   "execution_count": 18,
   "metadata": {},
   "outputs": [
    {
     "data": {
      "text/html": [
       "<div>\n",
       "<style scoped>\n",
       "    .dataframe tbody tr th:only-of-type {\n",
       "        vertical-align: middle;\n",
       "    }\n",
       "\n",
       "    .dataframe tbody tr th {\n",
       "        vertical-align: top;\n",
       "    }\n",
       "\n",
       "    .dataframe thead th {\n",
       "        text-align: right;\n",
       "    }\n",
       "</style>\n",
       "<table border=\"1\" class=\"dataframe\">\n",
       "  <thead>\n",
       "    <tr style=\"text-align: right;\">\n",
       "      <th></th>\n",
       "      <th>Price</th>\n",
       "      <th>RegistrationYear</th>\n",
       "      <th>Power</th>\n",
       "      <th>Kilometer</th>\n",
       "      <th>RegistrationMonth</th>\n",
       "      <th>NumberOfPictures</th>\n",
       "      <th>PostalCode</th>\n",
       "    </tr>\n",
       "  </thead>\n",
       "  <tbody>\n",
       "    <tr>\n",
       "      <th>count</th>\n",
       "      <td>295388.000000</td>\n",
       "      <td>295388.000000</td>\n",
       "      <td>295388.000000</td>\n",
       "      <td>295388.000000</td>\n",
       "      <td>295388.000000</td>\n",
       "      <td>295388.0</td>\n",
       "      <td>295388.000000</td>\n",
       "    </tr>\n",
       "    <tr>\n",
       "      <th>mean</th>\n",
       "      <td>4795.660037</td>\n",
       "      <td>2002.548350</td>\n",
       "      <td>121.985741</td>\n",
       "      <td>128411.191382</td>\n",
       "      <td>5.990484</td>\n",
       "      <td>0.0</td>\n",
       "      <td>51179.889383</td>\n",
       "    </tr>\n",
       "    <tr>\n",
       "      <th>std</th>\n",
       "      <td>4620.818648</td>\n",
       "      <td>6.003247</td>\n",
       "      <td>63.502097</td>\n",
       "      <td>36670.143243</td>\n",
       "      <td>3.588883</td>\n",
       "      <td>0.0</td>\n",
       "      <td>25809.056287</td>\n",
       "    </tr>\n",
       "    <tr>\n",
       "      <th>min</th>\n",
       "      <td>0.000000</td>\n",
       "      <td>1970.000000</td>\n",
       "      <td>17.000000</td>\n",
       "      <td>5000.000000</td>\n",
       "      <td>0.000000</td>\n",
       "      <td>0.0</td>\n",
       "      <td>1067.000000</td>\n",
       "    </tr>\n",
       "    <tr>\n",
       "      <th>25%</th>\n",
       "      <td>1299.000000</td>\n",
       "      <td>1999.000000</td>\n",
       "      <td>77.000000</td>\n",
       "      <td>125000.000000</td>\n",
       "      <td>3.000000</td>\n",
       "      <td>0.0</td>\n",
       "      <td>30900.000000</td>\n",
       "    </tr>\n",
       "    <tr>\n",
       "      <th>50%</th>\n",
       "      <td>3100.000000</td>\n",
       "      <td>2003.000000</td>\n",
       "      <td>113.000000</td>\n",
       "      <td>150000.000000</td>\n",
       "      <td>6.000000</td>\n",
       "      <td>0.0</td>\n",
       "      <td>50226.000000</td>\n",
       "    </tr>\n",
       "    <tr>\n",
       "      <th>75%</th>\n",
       "      <td>6990.000000</td>\n",
       "      <td>2007.000000</td>\n",
       "      <td>150.000000</td>\n",
       "      <td>150000.000000</td>\n",
       "      <td>9.000000</td>\n",
       "      <td>0.0</td>\n",
       "      <td>72070.500000</td>\n",
       "    </tr>\n",
       "    <tr>\n",
       "      <th>max</th>\n",
       "      <td>20000.000000</td>\n",
       "      <td>2015.000000</td>\n",
       "      <td>2000.000000</td>\n",
       "      <td>150000.000000</td>\n",
       "      <td>12.000000</td>\n",
       "      <td>0.0</td>\n",
       "      <td>99998.000000</td>\n",
       "    </tr>\n",
       "  </tbody>\n",
       "</table>\n",
       "</div>"
      ],
      "text/plain": [
       "               Price  RegistrationYear          Power      Kilometer  \\\n",
       "count  295388.000000     295388.000000  295388.000000  295388.000000   \n",
       "mean     4795.660037       2002.548350     121.985741  128411.191382   \n",
       "std      4620.818648          6.003247      63.502097   36670.143243   \n",
       "min         0.000000       1970.000000      17.000000    5000.000000   \n",
       "25%      1299.000000       1999.000000      77.000000  125000.000000   \n",
       "50%      3100.000000       2003.000000     113.000000  150000.000000   \n",
       "75%      6990.000000       2007.000000     150.000000  150000.000000   \n",
       "max     20000.000000       2015.000000    2000.000000  150000.000000   \n",
       "\n",
       "       RegistrationMonth  NumberOfPictures     PostalCode  \n",
       "count      295388.000000          295388.0  295388.000000  \n",
       "mean            5.990484               0.0   51179.889383  \n",
       "std             3.588883               0.0   25809.056287  \n",
       "min             0.000000               0.0    1067.000000  \n",
       "25%             3.000000               0.0   30900.000000  \n",
       "50%             6.000000               0.0   50226.000000  \n",
       "75%             9.000000               0.0   72070.500000  \n",
       "max            12.000000               0.0   99998.000000  "
      ]
     },
     "execution_count": 18,
     "metadata": {},
     "output_type": "execute_result"
    }
   ],
   "source": [
    "# delete lines with a registration date in RegistrationYear older than 1970\n",
    "# and younger than 2015\n",
    "df = df.query('1970 <= RegistrationYear <= 2015')\n",
    "\n",
    "df.describe()"
   ]
  },
  {
   "cell_type": "code",
   "execution_count": 19,
   "metadata": {},
   "outputs": [
    {
     "data": {
      "text/html": [
       "<div>\n",
       "<style scoped>\n",
       "    .dataframe tbody tr th:only-of-type {\n",
       "        vertical-align: middle;\n",
       "    }\n",
       "\n",
       "    .dataframe tbody tr th {\n",
       "        vertical-align: top;\n",
       "    }\n",
       "\n",
       "    .dataframe thead th {\n",
       "        text-align: right;\n",
       "    }\n",
       "</style>\n",
       "<table border=\"1\" class=\"dataframe\">\n",
       "  <thead>\n",
       "    <tr style=\"text-align: right;\">\n",
       "      <th></th>\n",
       "      <th>Price</th>\n",
       "      <th>RegistrationYear</th>\n",
       "      <th>Power</th>\n",
       "      <th>Kilometer</th>\n",
       "      <th>RegistrationMonth</th>\n",
       "      <th>NumberOfPictures</th>\n",
       "      <th>PostalCode</th>\n",
       "    </tr>\n",
       "  </thead>\n",
       "  <tbody>\n",
       "    <tr>\n",
       "      <th>count</th>\n",
       "      <td>298113.000000</td>\n",
       "      <td>298113.000000</td>\n",
       "      <td>298113.000000</td>\n",
       "      <td>298113.000000</td>\n",
       "      <td>298113.000000</td>\n",
       "      <td>298113.0</td>\n",
       "      <td>298113.000000</td>\n",
       "    </tr>\n",
       "    <tr>\n",
       "      <th>mean</th>\n",
       "      <td>4771.231818</td>\n",
       "      <td>2002.671309</td>\n",
       "      <td>121.792646</td>\n",
       "      <td>128449.883098</td>\n",
       "      <td>5.943947</td>\n",
       "      <td>0.0</td>\n",
       "      <td>51153.495738</td>\n",
       "    </tr>\n",
       "    <tr>\n",
       "      <th>std</th>\n",
       "      <td>4617.874351</td>\n",
       "      <td>6.111337</td>\n",
       "      <td>63.652880</td>\n",
       "      <td>36703.032301</td>\n",
       "      <td>3.606953</td>\n",
       "      <td>0.0</td>\n",
       "      <td>25806.714361</td>\n",
       "    </tr>\n",
       "    <tr>\n",
       "      <th>min</th>\n",
       "      <td>0.000000</td>\n",
       "      <td>1970.000000</td>\n",
       "      <td>17.000000</td>\n",
       "      <td>5000.000000</td>\n",
       "      <td>0.000000</td>\n",
       "      <td>0.0</td>\n",
       "      <td>1067.000000</td>\n",
       "    </tr>\n",
       "    <tr>\n",
       "      <th>25%</th>\n",
       "      <td>1250.000000</td>\n",
       "      <td>1999.000000</td>\n",
       "      <td>77.000000</td>\n",
       "      <td>125000.000000</td>\n",
       "      <td>3.000000</td>\n",
       "      <td>0.0</td>\n",
       "      <td>30890.000000</td>\n",
       "    </tr>\n",
       "    <tr>\n",
       "      <th>50%</th>\n",
       "      <td>3000.000000</td>\n",
       "      <td>2003.000000</td>\n",
       "      <td>113.000000</td>\n",
       "      <td>150000.000000</td>\n",
       "      <td>6.000000</td>\n",
       "      <td>0.0</td>\n",
       "      <td>50181.000000</td>\n",
       "    </tr>\n",
       "    <tr>\n",
       "      <th>75%</th>\n",
       "      <td>6950.000000</td>\n",
       "      <td>2007.000000</td>\n",
       "      <td>150.000000</td>\n",
       "      <td>150000.000000</td>\n",
       "      <td>9.000000</td>\n",
       "      <td>0.0</td>\n",
       "      <td>71732.000000</td>\n",
       "    </tr>\n",
       "    <tr>\n",
       "      <th>max</th>\n",
       "      <td>20000.000000</td>\n",
       "      <td>2016.000000</td>\n",
       "      <td>2000.000000</td>\n",
       "      <td>150000.000000</td>\n",
       "      <td>12.000000</td>\n",
       "      <td>0.0</td>\n",
       "      <td>99998.000000</td>\n",
       "    </tr>\n",
       "  </tbody>\n",
       "</table>\n",
       "</div>"
      ],
      "text/plain": [
       "               Price  RegistrationYear          Power      Kilometer  \\\n",
       "count  298113.000000     298113.000000  298113.000000  298113.000000   \n",
       "mean     4771.231818       2002.671309     121.792646  128449.883098   \n",
       "std      4617.874351          6.111337      63.652880   36703.032301   \n",
       "min         0.000000       1970.000000      17.000000    5000.000000   \n",
       "25%      1250.000000       1999.000000      77.000000  125000.000000   \n",
       "50%      3000.000000       2003.000000     113.000000  150000.000000   \n",
       "75%      6950.000000       2007.000000     150.000000  150000.000000   \n",
       "max     20000.000000       2016.000000    2000.000000  150000.000000   \n",
       "\n",
       "       RegistrationMonth  NumberOfPictures     PostalCode  \n",
       "count      298113.000000          298113.0  298113.000000  \n",
       "mean            5.943947               0.0   51153.495738  \n",
       "std             3.606953               0.0   25806.714361  \n",
       "min             0.000000               0.0    1067.000000  \n",
       "25%             3.000000               0.0   30890.000000  \n",
       "50%             6.000000               0.0   50181.000000  \n",
       "75%             9.000000               0.0   71732.000000  \n",
       "max            12.000000               0.0   99998.000000  "
      ]
     },
     "execution_count": 19,
     "metadata": {},
     "output_type": "execute_result"
    }
   ],
   "source": [
    "# concat tables\n",
    "df = pd.concat([df1, df]).sort_index(ascending = True)\n",
    "df.describe()"
   ]
  },
  {
   "cell_type": "code",
   "execution_count": 20,
   "metadata": {
    "scrolled": true
   },
   "outputs": [
    {
     "data": {
      "text/html": [
       "<div>\n",
       "<style scoped>\n",
       "    .dataframe tbody tr th:only-of-type {\n",
       "        vertical-align: middle;\n",
       "    }\n",
       "\n",
       "    .dataframe tbody tr th {\n",
       "        vertical-align: top;\n",
       "    }\n",
       "\n",
       "    .dataframe thead th {\n",
       "        text-align: right;\n",
       "    }\n",
       "</style>\n",
       "<table border=\"1\" class=\"dataframe\">\n",
       "  <thead>\n",
       "    <tr style=\"text-align: right;\">\n",
       "      <th></th>\n",
       "      <th>DateCrawled</th>\n",
       "      <th>Price</th>\n",
       "      <th>VehicleType</th>\n",
       "      <th>RegistrationYear</th>\n",
       "      <th>Gearbox</th>\n",
       "      <th>Power</th>\n",
       "      <th>Model</th>\n",
       "      <th>Kilometer</th>\n",
       "      <th>RegistrationMonth</th>\n",
       "      <th>FuelType</th>\n",
       "      <th>Brand</th>\n",
       "      <th>Repaired</th>\n",
       "      <th>DateCreated</th>\n",
       "      <th>NumberOfPictures</th>\n",
       "      <th>PostalCode</th>\n",
       "      <th>LastSeen</th>\n",
       "    </tr>\n",
       "  </thead>\n",
       "  <tbody>\n",
       "    <tr>\n",
       "      <th>28</th>\n",
       "      <td>2016-03-09 11:56:38</td>\n",
       "      <td>1990</td>\n",
       "      <td>bus</td>\n",
       "      <td>1981</td>\n",
       "      <td>manual</td>\n",
       "      <td>50</td>\n",
       "      <td>transporter</td>\n",
       "      <td>5000</td>\n",
       "      <td>1</td>\n",
       "      <td>petrol</td>\n",
       "      <td>volkswagen</td>\n",
       "      <td>no</td>\n",
       "      <td>2016-03-09 00:00:00</td>\n",
       "      <td>0</td>\n",
       "      <td>87471</td>\n",
       "      <td>2016-03-10 07:44:33</td>\n",
       "    </tr>\n",
       "    <tr>\n",
       "      <th>52</th>\n",
       "      <td>2016-04-04 10:57:36</td>\n",
       "      <td>1400</td>\n",
       "      <td>NaN</td>\n",
       "      <td>2016</td>\n",
       "      <td>manual</td>\n",
       "      <td>55</td>\n",
       "      <td>other</td>\n",
       "      <td>5000</td>\n",
       "      <td>1</td>\n",
       "      <td>NaN</td>\n",
       "      <td>hyundai</td>\n",
       "      <td>NaN</td>\n",
       "      <td>2016-04-04 00:00:00</td>\n",
       "      <td>0</td>\n",
       "      <td>34454</td>\n",
       "      <td>2016-04-06 12:45:43</td>\n",
       "    </tr>\n",
       "    <tr>\n",
       "      <th>157</th>\n",
       "      <td>2016-03-23 14:45:57</td>\n",
       "      <td>7500</td>\n",
       "      <td>suv</td>\n",
       "      <td>2007</td>\n",
       "      <td>auto</td>\n",
       "      <td>194</td>\n",
       "      <td>sorento</td>\n",
       "      <td>5000</td>\n",
       "      <td>11</td>\n",
       "      <td>petrol</td>\n",
       "      <td>kia</td>\n",
       "      <td>NaN</td>\n",
       "      <td>2016-03-23 00:00:00</td>\n",
       "      <td>0</td>\n",
       "      <td>34314</td>\n",
       "      <td>2016-04-05 15:47:51</td>\n",
       "    </tr>\n",
       "    <tr>\n",
       "      <th>291</th>\n",
       "      <td>2016-04-01 00:51:10</td>\n",
       "      <td>2000</td>\n",
       "      <td>sedan</td>\n",
       "      <td>2004</td>\n",
       "      <td>manual</td>\n",
       "      <td>122</td>\n",
       "      <td>6_reihe</td>\n",
       "      <td>5000</td>\n",
       "      <td>7</td>\n",
       "      <td>gasoline</td>\n",
       "      <td>mazda</td>\n",
       "      <td>no</td>\n",
       "      <td>2016-03-31 00:00:00</td>\n",
       "      <td>0</td>\n",
       "      <td>54558</td>\n",
       "      <td>2016-04-05 00:44:27</td>\n",
       "    </tr>\n",
       "    <tr>\n",
       "      <th>736</th>\n",
       "      <td>2016-03-31 00:28:47</td>\n",
       "      <td>1290</td>\n",
       "      <td>bus</td>\n",
       "      <td>2001</td>\n",
       "      <td>manual</td>\n",
       "      <td>101</td>\n",
       "      <td>transit</td>\n",
       "      <td>5000</td>\n",
       "      <td>6</td>\n",
       "      <td>gasoline</td>\n",
       "      <td>ford</td>\n",
       "      <td>NaN</td>\n",
       "      <td>2016-03-29 00:00:00</td>\n",
       "      <td>0</td>\n",
       "      <td>35435</td>\n",
       "      <td>2016-04-02 21:11:39</td>\n",
       "    </tr>\n",
       "    <tr>\n",
       "      <th>...</th>\n",
       "      <td>...</td>\n",
       "      <td>...</td>\n",
       "      <td>...</td>\n",
       "      <td>...</td>\n",
       "      <td>...</td>\n",
       "      <td>...</td>\n",
       "      <td>...</td>\n",
       "      <td>...</td>\n",
       "      <td>...</td>\n",
       "      <td>...</td>\n",
       "      <td>...</td>\n",
       "      <td>...</td>\n",
       "      <td>...</td>\n",
       "      <td>...</td>\n",
       "      <td>...</td>\n",
       "      <td>...</td>\n",
       "    </tr>\n",
       "    <tr>\n",
       "      <th>353456</th>\n",
       "      <td>2016-03-16 20:55:51</td>\n",
       "      <td>8500</td>\n",
       "      <td>small</td>\n",
       "      <td>2016</td>\n",
       "      <td>manual</td>\n",
       "      <td>69</td>\n",
       "      <td>c1</td>\n",
       "      <td>5000</td>\n",
       "      <td>3</td>\n",
       "      <td>petrol</td>\n",
       "      <td>citroen</td>\n",
       "      <td>no</td>\n",
       "      <td>2016-03-16 00:00:00</td>\n",
       "      <td>0</td>\n",
       "      <td>49716</td>\n",
       "      <td>2016-04-07 07:46:21</td>\n",
       "    </tr>\n",
       "    <tr>\n",
       "      <th>353523</th>\n",
       "      <td>2016-03-16 20:57:43</td>\n",
       "      <td>10000</td>\n",
       "      <td>small</td>\n",
       "      <td>1991</td>\n",
       "      <td>manual</td>\n",
       "      <td>174</td>\n",
       "      <td>NaN</td>\n",
       "      <td>5000</td>\n",
       "      <td>4</td>\n",
       "      <td>petrol</td>\n",
       "      <td>volkswagen</td>\n",
       "      <td>no</td>\n",
       "      <td>2016-03-16 00:00:00</td>\n",
       "      <td>0</td>\n",
       "      <td>74379</td>\n",
       "      <td>2016-03-29 01:47:33</td>\n",
       "    </tr>\n",
       "    <tr>\n",
       "      <th>353807</th>\n",
       "      <td>2016-03-20 14:48:13</td>\n",
       "      <td>2499</td>\n",
       "      <td>wagon</td>\n",
       "      <td>2002</td>\n",
       "      <td>auto</td>\n",
       "      <td>150</td>\n",
       "      <td>a6</td>\n",
       "      <td>5000</td>\n",
       "      <td>4</td>\n",
       "      <td>gasoline</td>\n",
       "      <td>audi</td>\n",
       "      <td>yes</td>\n",
       "      <td>2016-03-20 00:00:00</td>\n",
       "      <td>0</td>\n",
       "      <td>76889</td>\n",
       "      <td>2016-04-06 18:18:24</td>\n",
       "    </tr>\n",
       "    <tr>\n",
       "      <th>354079</th>\n",
       "      <td>2016-03-31 13:39:54</td>\n",
       "      <td>10985</td>\n",
       "      <td>small</td>\n",
       "      <td>2015</td>\n",
       "      <td>manual</td>\n",
       "      <td>82</td>\n",
       "      <td>1_reihe</td>\n",
       "      <td>5000</td>\n",
       "      <td>11</td>\n",
       "      <td>petrol</td>\n",
       "      <td>peugeot</td>\n",
       "      <td>no</td>\n",
       "      <td>2016-03-31 00:00:00</td>\n",
       "      <td>0</td>\n",
       "      <td>66128</td>\n",
       "      <td>2016-04-06 05:46:51</td>\n",
       "    </tr>\n",
       "    <tr>\n",
       "      <th>354158</th>\n",
       "      <td>2016-03-27 16:48:25</td>\n",
       "      <td>0</td>\n",
       "      <td>NaN</td>\n",
       "      <td>2000</td>\n",
       "      <td>manual</td>\n",
       "      <td>55</td>\n",
       "      <td>punto</td>\n",
       "      <td>5000</td>\n",
       "      <td>5</td>\n",
       "      <td>petrol</td>\n",
       "      <td>fiat</td>\n",
       "      <td>yes</td>\n",
       "      <td>2016-03-27 00:00:00</td>\n",
       "      <td>0</td>\n",
       "      <td>29386</td>\n",
       "      <td>2016-04-05 12:21:27</td>\n",
       "    </tr>\n",
       "  </tbody>\n",
       "</table>\n",
       "<p>2986 rows × 16 columns</p>\n",
       "</div>"
      ],
      "text/plain": [
       "                DateCrawled  Price VehicleType  RegistrationYear Gearbox  \\\n",
       "28      2016-03-09 11:56:38   1990         bus              1981  manual   \n",
       "52      2016-04-04 10:57:36   1400         NaN              2016  manual   \n",
       "157     2016-03-23 14:45:57   7500         suv              2007    auto   \n",
       "291     2016-04-01 00:51:10   2000       sedan              2004  manual   \n",
       "736     2016-03-31 00:28:47   1290         bus              2001  manual   \n",
       "...                     ...    ...         ...               ...     ...   \n",
       "353456  2016-03-16 20:55:51   8500       small              2016  manual   \n",
       "353523  2016-03-16 20:57:43  10000       small              1991  manual   \n",
       "353807  2016-03-20 14:48:13   2499       wagon              2002    auto   \n",
       "354079  2016-03-31 13:39:54  10985       small              2015  manual   \n",
       "354158  2016-03-27 16:48:25      0         NaN              2000  manual   \n",
       "\n",
       "        Power        Model  Kilometer  RegistrationMonth  FuelType  \\\n",
       "28         50  transporter       5000                  1    petrol   \n",
       "52         55        other       5000                  1       NaN   \n",
       "157       194      sorento       5000                 11    petrol   \n",
       "291       122      6_reihe       5000                  7  gasoline   \n",
       "736       101      transit       5000                  6  gasoline   \n",
       "...       ...          ...        ...                ...       ...   \n",
       "353456     69           c1       5000                  3    petrol   \n",
       "353523    174          NaN       5000                  4    petrol   \n",
       "353807    150           a6       5000                  4  gasoline   \n",
       "354079     82      1_reihe       5000                 11    petrol   \n",
       "354158     55        punto       5000                  5    petrol   \n",
       "\n",
       "             Brand Repaired          DateCreated  NumberOfPictures  \\\n",
       "28      volkswagen       no  2016-03-09 00:00:00                 0   \n",
       "52         hyundai      NaN  2016-04-04 00:00:00                 0   \n",
       "157            kia      NaN  2016-03-23 00:00:00                 0   \n",
       "291          mazda       no  2016-03-31 00:00:00                 0   \n",
       "736           ford      NaN  2016-03-29 00:00:00                 0   \n",
       "...            ...      ...                  ...               ...   \n",
       "353456     citroen       no  2016-03-16 00:00:00                 0   \n",
       "353523  volkswagen       no  2016-03-16 00:00:00                 0   \n",
       "353807        audi      yes  2016-03-20 00:00:00                 0   \n",
       "354079     peugeot       no  2016-03-31 00:00:00                 0   \n",
       "354158        fiat      yes  2016-03-27 00:00:00                 0   \n",
       "\n",
       "        PostalCode             LastSeen  \n",
       "28           87471  2016-03-10 07:44:33  \n",
       "52           34454  2016-04-06 12:45:43  \n",
       "157          34314  2016-04-05 15:47:51  \n",
       "291          54558  2016-04-05 00:44:27  \n",
       "736          35435  2016-04-02 21:11:39  \n",
       "...            ...                  ...  \n",
       "353456       49716  2016-04-07 07:46:21  \n",
       "353523       74379  2016-03-29 01:47:33  \n",
       "353807       76889  2016-04-06 18:18:24  \n",
       "354079       66128  2016-04-06 05:46:51  \n",
       "354158       29386  2016-04-05 12:21:27  \n",
       "\n",
       "[2986 rows x 16 columns]"
      ]
     },
     "execution_count": 20,
     "metadata": {},
     "output_type": "execute_result"
    }
   ],
   "source": [
    "# We will display information on mileage equal to 5000 km\n",
    "df.query('Kilometer == 5000')"
   ]
  },
  {
   "cell_type": "markdown",
   "metadata": {},
   "source": [
    "We see a discrepancy between the year of registration and the mileage of some cars. It is acceptable that a car can run no more than 2000 km per year (you need to pay attention to the year of registration, the date of creation of the questionnaire and the mileage), so for a car from 1981 the mileage of 5000 km is very small. Let’s assume that even older cars may have low mileage and we won’t delete any lines."
   ]
  },
  {
   "cell_type": "code",
   "execution_count": 21,
   "metadata": {
    "scrolled": true
   },
   "outputs": [
    {
     "data": {
      "text/html": [
       "<div>\n",
       "<style scoped>\n",
       "    .dataframe tbody tr th:only-of-type {\n",
       "        vertical-align: middle;\n",
       "    }\n",
       "\n",
       "    .dataframe tbody tr th {\n",
       "        vertical-align: top;\n",
       "    }\n",
       "\n",
       "    .dataframe thead th {\n",
       "        text-align: right;\n",
       "    }\n",
       "</style>\n",
       "<table border=\"1\" class=\"dataframe\">\n",
       "  <thead>\n",
       "    <tr style=\"text-align: right;\">\n",
       "      <th></th>\n",
       "      <th>DateCrawled</th>\n",
       "      <th>Price</th>\n",
       "      <th>VehicleType</th>\n",
       "      <th>RegistrationYear</th>\n",
       "      <th>Gearbox</th>\n",
       "      <th>Power</th>\n",
       "      <th>Model</th>\n",
       "      <th>Kilometer</th>\n",
       "      <th>RegistrationMonth</th>\n",
       "      <th>FuelType</th>\n",
       "      <th>Brand</th>\n",
       "      <th>Repaired</th>\n",
       "      <th>DateCreated</th>\n",
       "      <th>NumberOfPictures</th>\n",
       "      <th>PostalCode</th>\n",
       "      <th>LastSeen</th>\n",
       "    </tr>\n",
       "  </thead>\n",
       "  <tbody>\n",
       "    <tr>\n",
       "      <th>1</th>\n",
       "      <td>2016-03-24 10:58:45</td>\n",
       "      <td>18300</td>\n",
       "      <td>coupe</td>\n",
       "      <td>2011</td>\n",
       "      <td>manual</td>\n",
       "      <td>190</td>\n",
       "      <td>NaN</td>\n",
       "      <td>125000</td>\n",
       "      <td>5</td>\n",
       "      <td>gasoline</td>\n",
       "      <td>audi</td>\n",
       "      <td>yes</td>\n",
       "      <td>2016</td>\n",
       "      <td>0</td>\n",
       "      <td>66954</td>\n",
       "      <td>2016-04-07 01:46:50</td>\n",
       "    </tr>\n",
       "    <tr>\n",
       "      <th>2</th>\n",
       "      <td>2016-03-14 12:52:21</td>\n",
       "      <td>9800</td>\n",
       "      <td>suv</td>\n",
       "      <td>2004</td>\n",
       "      <td>auto</td>\n",
       "      <td>163</td>\n",
       "      <td>grand</td>\n",
       "      <td>125000</td>\n",
       "      <td>8</td>\n",
       "      <td>gasoline</td>\n",
       "      <td>jeep</td>\n",
       "      <td>NaN</td>\n",
       "      <td>2016</td>\n",
       "      <td>0</td>\n",
       "      <td>90480</td>\n",
       "      <td>2016-04-05 12:47:46</td>\n",
       "    </tr>\n",
       "    <tr>\n",
       "      <th>3</th>\n",
       "      <td>2016-03-17 16:54:04</td>\n",
       "      <td>1500</td>\n",
       "      <td>small</td>\n",
       "      <td>2001</td>\n",
       "      <td>manual</td>\n",
       "      <td>75</td>\n",
       "      <td>golf</td>\n",
       "      <td>150000</td>\n",
       "      <td>6</td>\n",
       "      <td>petrol</td>\n",
       "      <td>volkswagen</td>\n",
       "      <td>no</td>\n",
       "      <td>2016</td>\n",
       "      <td>0</td>\n",
       "      <td>91074</td>\n",
       "      <td>2016-03-17 17:40:17</td>\n",
       "    </tr>\n",
       "    <tr>\n",
       "      <th>4</th>\n",
       "      <td>2016-03-31 17:25:20</td>\n",
       "      <td>3600</td>\n",
       "      <td>small</td>\n",
       "      <td>2008</td>\n",
       "      <td>manual</td>\n",
       "      <td>69</td>\n",
       "      <td>fabia</td>\n",
       "      <td>90000</td>\n",
       "      <td>7</td>\n",
       "      <td>gasoline</td>\n",
       "      <td>skoda</td>\n",
       "      <td>no</td>\n",
       "      <td>2016</td>\n",
       "      <td>0</td>\n",
       "      <td>60437</td>\n",
       "      <td>2016-04-06 10:17:21</td>\n",
       "    </tr>\n",
       "    <tr>\n",
       "      <th>5</th>\n",
       "      <td>2016-04-04 17:36:23</td>\n",
       "      <td>650</td>\n",
       "      <td>sedan</td>\n",
       "      <td>1995</td>\n",
       "      <td>manual</td>\n",
       "      <td>102</td>\n",
       "      <td>3er</td>\n",
       "      <td>150000</td>\n",
       "      <td>10</td>\n",
       "      <td>petrol</td>\n",
       "      <td>bmw</td>\n",
       "      <td>yes</td>\n",
       "      <td>2016</td>\n",
       "      <td>0</td>\n",
       "      <td>33775</td>\n",
       "      <td>2016-04-06 19:17:07</td>\n",
       "    </tr>\n",
       "  </tbody>\n",
       "</table>\n",
       "</div>"
      ],
      "text/plain": [
       "           DateCrawled  Price VehicleType  RegistrationYear Gearbox  Power  \\\n",
       "1  2016-03-24 10:58:45  18300       coupe              2011  manual    190   \n",
       "2  2016-03-14 12:52:21   9800         suv              2004    auto    163   \n",
       "3  2016-03-17 16:54:04   1500       small              2001  manual     75   \n",
       "4  2016-03-31 17:25:20   3600       small              2008  manual     69   \n",
       "5  2016-04-04 17:36:23    650       sedan              1995  manual    102   \n",
       "\n",
       "   Model  Kilometer  RegistrationMonth  FuelType       Brand Repaired  \\\n",
       "1    NaN     125000                  5  gasoline        audi      yes   \n",
       "2  grand     125000                  8  gasoline        jeep      NaN   \n",
       "3   golf     150000                  6    petrol  volkswagen       no   \n",
       "4  fabia      90000                  7  gasoline       skoda       no   \n",
       "5    3er     150000                 10    petrol         bmw      yes   \n",
       "\n",
       "   DateCreated  NumberOfPictures  PostalCode             LastSeen  \n",
       "1         2016                 0       66954  2016-04-07 01:46:50  \n",
       "2         2016                 0       90480  2016-04-05 12:47:46  \n",
       "3         2016                 0       91074  2016-03-17 17:40:17  \n",
       "4         2016                 0       60437  2016-04-06 10:17:21  \n",
       "5         2016                 0       33775  2016-04-06 19:17:07  "
      ]
     },
     "execution_count": 21,
     "metadata": {},
     "output_type": "execute_result"
    }
   ],
   "source": [
    "# Let's bring the DateCreated column to the form where we will leave \n",
    "# only the year the questionnaire was created\n",
    "df['DateCreated'] = pd.DatetimeIndex(df['DateCreated']).year\n",
    "df.head()"
   ]
  },
  {
   "cell_type": "code",
   "execution_count": 22,
   "metadata": {},
   "outputs": [],
   "source": [
    "# Let's convert DateCreated to int to be able to perform further calculations\n",
    "df['DateCreated'] = df['DateCreated'].astype(str).astype(int)"
   ]
  },
  {
   "cell_type": "code",
   "execution_count": 23,
   "metadata": {},
   "outputs": [
    {
     "name": "stdout",
     "output_type": "stream",
     "text": [
      "<class 'pandas.core.frame.DataFrame'>\n",
      "Int64Index: 298113 entries, 1 to 354368\n",
      "Data columns (total 16 columns):\n",
      " #   Column             Non-Null Count   Dtype \n",
      "---  ------             --------------   ----- \n",
      " 0   DateCrawled        298113 non-null  object\n",
      " 1   Price              298113 non-null  int64 \n",
      " 2   VehicleType        298113 non-null  object\n",
      " 3   RegistrationYear   298113 non-null  int64 \n",
      " 4   Gearbox            298113 non-null  object\n",
      " 5   Power              298113 non-null  int64 \n",
      " 6   Model              298113 non-null  object\n",
      " 7   Kilometer          298113 non-null  int64 \n",
      " 8   RegistrationMonth  298113 non-null  int64 \n",
      " 9   FuelType           298113 non-null  object\n",
      " 10  Brand              298113 non-null  object\n",
      " 11  Repaired           298113 non-null  object\n",
      " 12  DateCreated        298113 non-null  int32 \n",
      " 13  NumberOfPictures   298113 non-null  int64 \n",
      " 14  PostalCode         298113 non-null  int64 \n",
      " 15  LastSeen           298113 non-null  object\n",
      "dtypes: int32(1), int64(7), object(8)\n",
      "memory usage: 37.5+ MB\n"
     ]
    }
   ],
   "source": [
    "# let's get rid of NaN\n",
    "df = df.fillna('unknoun')\n",
    "df.info()"
   ]
  },
  {
   "cell_type": "code",
   "execution_count": 24,
   "metadata": {},
   "outputs": [
    {
     "data": {
      "text/html": [
       "<div>\n",
       "<style scoped>\n",
       "    .dataframe tbody tr th:only-of-type {\n",
       "        vertical-align: middle;\n",
       "    }\n",
       "\n",
       "    .dataframe tbody tr th {\n",
       "        vertical-align: top;\n",
       "    }\n",
       "\n",
       "    .dataframe thead th {\n",
       "        text-align: right;\n",
       "    }\n",
       "</style>\n",
       "<table border=\"1\" class=\"dataframe\">\n",
       "  <thead>\n",
       "    <tr style=\"text-align: right;\">\n",
       "      <th></th>\n",
       "      <th>DateCrawled</th>\n",
       "      <th>Price</th>\n",
       "      <th>VehicleType</th>\n",
       "      <th>RegistrationYear</th>\n",
       "      <th>Gearbox</th>\n",
       "      <th>Power</th>\n",
       "      <th>Model</th>\n",
       "      <th>Kilometer</th>\n",
       "      <th>RegistrationMonth</th>\n",
       "      <th>FuelType</th>\n",
       "      <th>Brand</th>\n",
       "      <th>Repaired</th>\n",
       "      <th>DateCreated</th>\n",
       "      <th>NumberOfPictures</th>\n",
       "      <th>PostalCode</th>\n",
       "      <th>LastSeen</th>\n",
       "    </tr>\n",
       "  </thead>\n",
       "  <tbody>\n",
       "    <tr>\n",
       "      <th>171088</th>\n",
       "      <td>2016-03-08 18:42:48</td>\n",
       "      <td>1799</td>\n",
       "      <td>coupe</td>\n",
       "      <td>1999</td>\n",
       "      <td>auto</td>\n",
       "      <td>193</td>\n",
       "      <td>clk</td>\n",
       "      <td>20000</td>\n",
       "      <td>7</td>\n",
       "      <td>petrol</td>\n",
       "      <td>mercedes_benz</td>\n",
       "      <td>no</td>\n",
       "      <td>2016</td>\n",
       "      <td>0</td>\n",
       "      <td>89518</td>\n",
       "      <td>2016-03-09 09:46:57</td>\n",
       "    </tr>\n",
       "    <tr>\n",
       "      <th>231258</th>\n",
       "      <td>2016-03-28 00:56:10</td>\n",
       "      <td>1000</td>\n",
       "      <td>small</td>\n",
       "      <td>2002</td>\n",
       "      <td>manual</td>\n",
       "      <td>83</td>\n",
       "      <td>other</td>\n",
       "      <td>150000</td>\n",
       "      <td>1</td>\n",
       "      <td>petrol</td>\n",
       "      <td>suzuki</td>\n",
       "      <td>no</td>\n",
       "      <td>2016</td>\n",
       "      <td>0</td>\n",
       "      <td>66589</td>\n",
       "      <td>2016-03-28 08:46:21</td>\n",
       "    </tr>\n",
       "    <tr>\n",
       "      <th>258109</th>\n",
       "      <td>2016-04-03 09:01:15</td>\n",
       "      <td>4699</td>\n",
       "      <td>coupe</td>\n",
       "      <td>2003</td>\n",
       "      <td>auto</td>\n",
       "      <td>218</td>\n",
       "      <td>clk</td>\n",
       "      <td>125000</td>\n",
       "      <td>6</td>\n",
       "      <td>petrol</td>\n",
       "      <td>mercedes_benz</td>\n",
       "      <td>yes</td>\n",
       "      <td>2016</td>\n",
       "      <td>0</td>\n",
       "      <td>75196</td>\n",
       "      <td>2016-04-07 09:44:54</td>\n",
       "    </tr>\n",
       "    <tr>\n",
       "      <th>325651</th>\n",
       "      <td>2016-03-18 18:46:15</td>\n",
       "      <td>1999</td>\n",
       "      <td>wagon</td>\n",
       "      <td>2001</td>\n",
       "      <td>manual</td>\n",
       "      <td>131</td>\n",
       "      <td>passat</td>\n",
       "      <td>150000</td>\n",
       "      <td>7</td>\n",
       "      <td>gasoline</td>\n",
       "      <td>volkswagen</td>\n",
       "      <td>no</td>\n",
       "      <td>2016</td>\n",
       "      <td>0</td>\n",
       "      <td>36391</td>\n",
       "      <td>2016-03-18 18:46:15</td>\n",
       "    </tr>\n",
       "  </tbody>\n",
       "</table>\n",
       "</div>"
      ],
      "text/plain": [
       "                DateCrawled  Price VehicleType  RegistrationYear Gearbox  \\\n",
       "171088  2016-03-08 18:42:48   1799       coupe              1999    auto   \n",
       "231258  2016-03-28 00:56:10   1000       small              2002  manual   \n",
       "258109  2016-04-03 09:01:15   4699       coupe              2003    auto   \n",
       "325651  2016-03-18 18:46:15   1999       wagon              2001  manual   \n",
       "\n",
       "        Power   Model  Kilometer  RegistrationMonth  FuelType          Brand  \\\n",
       "171088    193     clk      20000                  7    petrol  mercedes_benz   \n",
       "231258     83   other     150000                  1    petrol         suzuki   \n",
       "258109    218     clk     125000                  6    petrol  mercedes_benz   \n",
       "325651    131  passat     150000                  7  gasoline     volkswagen   \n",
       "\n",
       "       Repaired  DateCreated  NumberOfPictures  PostalCode  \\\n",
       "171088       no         2016                 0       89518   \n",
       "231258       no         2016                 0       66589   \n",
       "258109      yes         2016                 0       75196   \n",
       "325651       no         2016                 0       36391   \n",
       "\n",
       "                   LastSeen  \n",
       "171088  2016-03-09 09:46:57  \n",
       "231258  2016-03-28 08:46:21  \n",
       "258109  2016-04-07 09:44:54  \n",
       "325651  2016-03-18 18:46:15  "
      ]
     },
     "metadata": {},
     "output_type": "display_data"
    },
    {
     "data": {
      "text/plain": [
       "4"
      ]
     },
     "execution_count": 24,
     "metadata": {},
     "output_type": "execute_result"
    }
   ],
   "source": [
    "# check the table for duplicates\n",
    "display(df[df.duplicated() == True])\n",
    "df.duplicated().sum()"
   ]
  },
  {
   "cell_type": "code",
   "execution_count": 25,
   "metadata": {},
   "outputs": [],
   "source": [
    "# remove duplicates\n",
    "df.drop_duplicates(inplace=True)"
   ]
  },
  {
   "cell_type": "code",
   "execution_count": 26,
   "metadata": {},
   "outputs": [
    {
     "data": {
      "text/html": [
       "<div>\n",
       "<style scoped>\n",
       "    .dataframe tbody tr th:only-of-type {\n",
       "        vertical-align: middle;\n",
       "    }\n",
       "\n",
       "    .dataframe tbody tr th {\n",
       "        vertical-align: top;\n",
       "    }\n",
       "\n",
       "    .dataframe thead th {\n",
       "        text-align: right;\n",
       "    }\n",
       "</style>\n",
       "<table border=\"1\" class=\"dataframe\">\n",
       "  <thead>\n",
       "    <tr style=\"text-align: right;\">\n",
       "      <th></th>\n",
       "      <th>Price</th>\n",
       "      <th>VehicleType</th>\n",
       "      <th>RegistrationYear</th>\n",
       "      <th>Gearbox</th>\n",
       "      <th>Power</th>\n",
       "      <th>Model</th>\n",
       "      <th>Kilometer</th>\n",
       "      <th>FuelType</th>\n",
       "      <th>Brand</th>\n",
       "      <th>Repaired</th>\n",
       "    </tr>\n",
       "  </thead>\n",
       "  <tbody>\n",
       "    <tr>\n",
       "      <th>1</th>\n",
       "      <td>18300</td>\n",
       "      <td>coupe</td>\n",
       "      <td>2011</td>\n",
       "      <td>manual</td>\n",
       "      <td>190</td>\n",
       "      <td>unknoun</td>\n",
       "      <td>125000</td>\n",
       "      <td>gasoline</td>\n",
       "      <td>audi</td>\n",
       "      <td>yes</td>\n",
       "    </tr>\n",
       "    <tr>\n",
       "      <th>2</th>\n",
       "      <td>9800</td>\n",
       "      <td>suv</td>\n",
       "      <td>2004</td>\n",
       "      <td>auto</td>\n",
       "      <td>163</td>\n",
       "      <td>grand</td>\n",
       "      <td>125000</td>\n",
       "      <td>gasoline</td>\n",
       "      <td>jeep</td>\n",
       "      <td>unknoun</td>\n",
       "    </tr>\n",
       "    <tr>\n",
       "      <th>3</th>\n",
       "      <td>1500</td>\n",
       "      <td>small</td>\n",
       "      <td>2001</td>\n",
       "      <td>manual</td>\n",
       "      <td>75</td>\n",
       "      <td>golf</td>\n",
       "      <td>150000</td>\n",
       "      <td>petrol</td>\n",
       "      <td>volkswagen</td>\n",
       "      <td>no</td>\n",
       "    </tr>\n",
       "    <tr>\n",
       "      <th>4</th>\n",
       "      <td>3600</td>\n",
       "      <td>small</td>\n",
       "      <td>2008</td>\n",
       "      <td>manual</td>\n",
       "      <td>69</td>\n",
       "      <td>fabia</td>\n",
       "      <td>90000</td>\n",
       "      <td>gasoline</td>\n",
       "      <td>skoda</td>\n",
       "      <td>no</td>\n",
       "    </tr>\n",
       "    <tr>\n",
       "      <th>5</th>\n",
       "      <td>650</td>\n",
       "      <td>sedan</td>\n",
       "      <td>1995</td>\n",
       "      <td>manual</td>\n",
       "      <td>102</td>\n",
       "      <td>3er</td>\n",
       "      <td>150000</td>\n",
       "      <td>petrol</td>\n",
       "      <td>bmw</td>\n",
       "      <td>yes</td>\n",
       "    </tr>\n",
       "  </tbody>\n",
       "</table>\n",
       "</div>"
      ],
      "text/plain": [
       "   Price VehicleType  RegistrationYear Gearbox  Power    Model  Kilometer  \\\n",
       "1  18300       coupe              2011  manual    190  unknoun     125000   \n",
       "2   9800         suv              2004    auto    163    grand     125000   \n",
       "3   1500       small              2001  manual     75     golf     150000   \n",
       "4   3600       small              2008  manual     69    fabia      90000   \n",
       "5    650       sedan              1995  manual    102      3er     150000   \n",
       "\n",
       "   FuelType       Brand Repaired  \n",
       "1  gasoline        audi      yes  \n",
       "2  gasoline        jeep  unknoun  \n",
       "3    petrol  volkswagen       no  \n",
       "4  gasoline       skoda       no  \n",
       "5    petrol         bmw      yes  "
      ]
     },
     "execution_count": 26,
     "metadata": {},
     "output_type": "execute_result"
    }
   ],
   "source": [
    "# remove columns that do not affect the result of the model\n",
    "# get rid of signs that do not affect the target sign:\n",
    "df.drop(columns=['DateCrawled', 'RegistrationMonth', 'DateCreated', 'NumberOfPictures', 'PostalCode', 'LastSeen'],\n",
    "           axis=1,\n",
    "           inplace=True)\n",
    "df.head()"
   ]
  },
  {
   "cell_type": "markdown",
   "metadata": {},
   "source": [
    "Conclusion:\n",
    "\n",
    "Conducted data preprocessing. The columns Price, Power, RegistrationYear, Kilometer were cleared of outlier values, both small and large.\n",
    "\n",
    "NaN in the columns was assigned to the other group, where this group was present; in unknown, where there was no other group.\n",
    "\n",
    "We checked for duplicates, found 4, but did not delete them, since upon closer examination the differences are visible.\n",
    "\n",
    "Removed columns 'DateCrawled', 'RegistrationMonth', 'DateCreated', 'NumberOfPictures', 'PostalCode', 'LastSeen' as columns that do not have the knowledge to train the model."
   ]
  },
  {
   "cell_type": "markdown",
   "metadata": {},
   "source": [
    "## Model training"
   ]
  },
  {
   "cell_type": "markdown",
   "metadata": {},
   "source": [
    "### Preparing data for training"
   ]
  },
  {
   "cell_type": "code",
   "execution_count": 27,
   "metadata": {},
   "outputs": [
    {
     "data": {
      "text/html": [
       "<div>\n",
       "<style scoped>\n",
       "    .dataframe tbody tr th:only-of-type {\n",
       "        vertical-align: middle;\n",
       "    }\n",
       "\n",
       "    .dataframe tbody tr th {\n",
       "        vertical-align: top;\n",
       "    }\n",
       "\n",
       "    .dataframe thead th {\n",
       "        text-align: right;\n",
       "    }\n",
       "</style>\n",
       "<table border=\"1\" class=\"dataframe\">\n",
       "  <thead>\n",
       "    <tr style=\"text-align: right;\">\n",
       "      <th></th>\n",
       "      <th>VehicleType</th>\n",
       "      <th>RegistrationYear</th>\n",
       "      <th>Gearbox</th>\n",
       "      <th>Power</th>\n",
       "      <th>Model</th>\n",
       "      <th>Kilometer</th>\n",
       "      <th>FuelType</th>\n",
       "      <th>Brand</th>\n",
       "      <th>Repaired</th>\n",
       "    </tr>\n",
       "  </thead>\n",
       "  <tbody>\n",
       "    <tr>\n",
       "      <th>1</th>\n",
       "      <td>coupe</td>\n",
       "      <td>2011</td>\n",
       "      <td>manual</td>\n",
       "      <td>190</td>\n",
       "      <td>unknoun</td>\n",
       "      <td>125000</td>\n",
       "      <td>gasoline</td>\n",
       "      <td>audi</td>\n",
       "      <td>yes</td>\n",
       "    </tr>\n",
       "    <tr>\n",
       "      <th>2</th>\n",
       "      <td>suv</td>\n",
       "      <td>2004</td>\n",
       "      <td>auto</td>\n",
       "      <td>163</td>\n",
       "      <td>grand</td>\n",
       "      <td>125000</td>\n",
       "      <td>gasoline</td>\n",
       "      <td>jeep</td>\n",
       "      <td>unknoun</td>\n",
       "    </tr>\n",
       "    <tr>\n",
       "      <th>3</th>\n",
       "      <td>small</td>\n",
       "      <td>2001</td>\n",
       "      <td>manual</td>\n",
       "      <td>75</td>\n",
       "      <td>golf</td>\n",
       "      <td>150000</td>\n",
       "      <td>petrol</td>\n",
       "      <td>volkswagen</td>\n",
       "      <td>no</td>\n",
       "    </tr>\n",
       "    <tr>\n",
       "      <th>4</th>\n",
       "      <td>small</td>\n",
       "      <td>2008</td>\n",
       "      <td>manual</td>\n",
       "      <td>69</td>\n",
       "      <td>fabia</td>\n",
       "      <td>90000</td>\n",
       "      <td>gasoline</td>\n",
       "      <td>skoda</td>\n",
       "      <td>no</td>\n",
       "    </tr>\n",
       "    <tr>\n",
       "      <th>5</th>\n",
       "      <td>sedan</td>\n",
       "      <td>1995</td>\n",
       "      <td>manual</td>\n",
       "      <td>102</td>\n",
       "      <td>3er</td>\n",
       "      <td>150000</td>\n",
       "      <td>petrol</td>\n",
       "      <td>bmw</td>\n",
       "      <td>yes</td>\n",
       "    </tr>\n",
       "    <tr>\n",
       "      <th>...</th>\n",
       "      <td>...</td>\n",
       "      <td>...</td>\n",
       "      <td>...</td>\n",
       "      <td>...</td>\n",
       "      <td>...</td>\n",
       "      <td>...</td>\n",
       "      <td>...</td>\n",
       "      <td>...</td>\n",
       "      <td>...</td>\n",
       "    </tr>\n",
       "    <tr>\n",
       "      <th>354359</th>\n",
       "      <td>sedan</td>\n",
       "      <td>2010</td>\n",
       "      <td>manual</td>\n",
       "      <td>140</td>\n",
       "      <td>golf</td>\n",
       "      <td>150000</td>\n",
       "      <td>gasoline</td>\n",
       "      <td>volkswagen</td>\n",
       "      <td>no</td>\n",
       "    </tr>\n",
       "    <tr>\n",
       "      <th>354362</th>\n",
       "      <td>sedan</td>\n",
       "      <td>2004</td>\n",
       "      <td>manual</td>\n",
       "      <td>225</td>\n",
       "      <td>leon</td>\n",
       "      <td>150000</td>\n",
       "      <td>petrol</td>\n",
       "      <td>seat</td>\n",
       "      <td>yes</td>\n",
       "    </tr>\n",
       "    <tr>\n",
       "      <th>354366</th>\n",
       "      <td>convertible</td>\n",
       "      <td>2000</td>\n",
       "      <td>auto</td>\n",
       "      <td>101</td>\n",
       "      <td>fortwo</td>\n",
       "      <td>125000</td>\n",
       "      <td>petrol</td>\n",
       "      <td>smart</td>\n",
       "      <td>no</td>\n",
       "    </tr>\n",
       "    <tr>\n",
       "      <th>354367</th>\n",
       "      <td>bus</td>\n",
       "      <td>1996</td>\n",
       "      <td>manual</td>\n",
       "      <td>102</td>\n",
       "      <td>transporter</td>\n",
       "      <td>150000</td>\n",
       "      <td>gasoline</td>\n",
       "      <td>volkswagen</td>\n",
       "      <td>no</td>\n",
       "    </tr>\n",
       "    <tr>\n",
       "      <th>354368</th>\n",
       "      <td>wagon</td>\n",
       "      <td>2002</td>\n",
       "      <td>manual</td>\n",
       "      <td>100</td>\n",
       "      <td>golf</td>\n",
       "      <td>150000</td>\n",
       "      <td>gasoline</td>\n",
       "      <td>volkswagen</td>\n",
       "      <td>unknoun</td>\n",
       "    </tr>\n",
       "  </tbody>\n",
       "</table>\n",
       "<p>298109 rows × 9 columns</p>\n",
       "</div>"
      ],
      "text/plain": [
       "        VehicleType  RegistrationYear Gearbox  Power        Model  Kilometer  \\\n",
       "1             coupe              2011  manual    190      unknoun     125000   \n",
       "2               suv              2004    auto    163        grand     125000   \n",
       "3             small              2001  manual     75         golf     150000   \n",
       "4             small              2008  manual     69        fabia      90000   \n",
       "5             sedan              1995  manual    102          3er     150000   \n",
       "...             ...               ...     ...    ...          ...        ...   \n",
       "354359        sedan              2010  manual    140         golf     150000   \n",
       "354362        sedan              2004  manual    225         leon     150000   \n",
       "354366  convertible              2000    auto    101       fortwo     125000   \n",
       "354367          bus              1996  manual    102  transporter     150000   \n",
       "354368        wagon              2002  manual    100         golf     150000   \n",
       "\n",
       "        FuelType       Brand Repaired  \n",
       "1       gasoline        audi      yes  \n",
       "2       gasoline        jeep  unknoun  \n",
       "3         petrol  volkswagen       no  \n",
       "4       gasoline       skoda       no  \n",
       "5         petrol         bmw      yes  \n",
       "...          ...         ...      ...  \n",
       "354359  gasoline  volkswagen       no  \n",
       "354362    petrol        seat      yes  \n",
       "354366    petrol       smart       no  \n",
       "354367  gasoline  volkswagen       no  \n",
       "354368  gasoline  volkswagen  unknoun  \n",
       "\n",
       "[298109 rows x 9 columns]"
      ]
     },
     "metadata": {},
     "output_type": "display_data"
    },
    {
     "data": {
      "text/plain": [
       "1         18300\n",
       "2          9800\n",
       "3          1500\n",
       "4          3600\n",
       "5           650\n",
       "          ...  \n",
       "354359     7900\n",
       "354362     3200\n",
       "354366     1199\n",
       "354367     9200\n",
       "354368     3400\n",
       "Name: Price, Length: 298109, dtype: int64"
      ]
     },
     "metadata": {},
     "output_type": "display_data"
    }
   ],
   "source": [
    "# highlight the features and the target feature\n",
    "features = df.drop('Price', axis=1)\n",
    "target = df['Price']\n",
    "\n",
    "display(features)\n",
    "display(target)"
   ]
  },
  {
   "cell_type": "markdown",
   "metadata": {},
   "source": [
    "#### Feature encoding"
   ]
  },
  {
   "cell_type": "code",
   "execution_count": 28,
   "metadata": {},
   "outputs": [
    {
     "data": {
      "text/html": [
       "<div>\n",
       "<style scoped>\n",
       "    .dataframe tbody tr th:only-of-type {\n",
       "        vertical-align: middle;\n",
       "    }\n",
       "\n",
       "    .dataframe tbody tr th {\n",
       "        vertical-align: top;\n",
       "    }\n",
       "\n",
       "    .dataframe thead th {\n",
       "        text-align: right;\n",
       "    }\n",
       "</style>\n",
       "<table border=\"1\" class=\"dataframe\">\n",
       "  <thead>\n",
       "    <tr style=\"text-align: right;\">\n",
       "      <th></th>\n",
       "      <th>Model</th>\n",
       "      <th>Brand</th>\n",
       "      <th>RegistrationYear</th>\n",
       "      <th>Power</th>\n",
       "      <th>Kilometer</th>\n",
       "      <th>VehicleType_convertible</th>\n",
       "      <th>VehicleType_coupe</th>\n",
       "      <th>VehicleType_other</th>\n",
       "      <th>VehicleType_sedan</th>\n",
       "      <th>VehicleType_small</th>\n",
       "      <th>...</th>\n",
       "      <th>Gearbox_unknoun</th>\n",
       "      <th>FuelType_electric</th>\n",
       "      <th>FuelType_gasoline</th>\n",
       "      <th>FuelType_hybrid</th>\n",
       "      <th>FuelType_lpg</th>\n",
       "      <th>FuelType_other</th>\n",
       "      <th>FuelType_petrol</th>\n",
       "      <th>FuelType_unknoun</th>\n",
       "      <th>Repaired_unknoun</th>\n",
       "      <th>Repaired_yes</th>\n",
       "    </tr>\n",
       "  </thead>\n",
       "  <tbody>\n",
       "    <tr>\n",
       "      <th>1</th>\n",
       "      <td>unknoun</td>\n",
       "      <td>audi</td>\n",
       "      <td>2011</td>\n",
       "      <td>190</td>\n",
       "      <td>125000</td>\n",
       "      <td>0</td>\n",
       "      <td>1</td>\n",
       "      <td>0</td>\n",
       "      <td>0</td>\n",
       "      <td>0</td>\n",
       "      <td>...</td>\n",
       "      <td>0</td>\n",
       "      <td>0</td>\n",
       "      <td>1</td>\n",
       "      <td>0</td>\n",
       "      <td>0</td>\n",
       "      <td>0</td>\n",
       "      <td>0</td>\n",
       "      <td>0</td>\n",
       "      <td>0</td>\n",
       "      <td>1</td>\n",
       "    </tr>\n",
       "    <tr>\n",
       "      <th>2</th>\n",
       "      <td>grand</td>\n",
       "      <td>jeep</td>\n",
       "      <td>2004</td>\n",
       "      <td>163</td>\n",
       "      <td>125000</td>\n",
       "      <td>0</td>\n",
       "      <td>0</td>\n",
       "      <td>0</td>\n",
       "      <td>0</td>\n",
       "      <td>0</td>\n",
       "      <td>...</td>\n",
       "      <td>0</td>\n",
       "      <td>0</td>\n",
       "      <td>1</td>\n",
       "      <td>0</td>\n",
       "      <td>0</td>\n",
       "      <td>0</td>\n",
       "      <td>0</td>\n",
       "      <td>0</td>\n",
       "      <td>1</td>\n",
       "      <td>0</td>\n",
       "    </tr>\n",
       "    <tr>\n",
       "      <th>3</th>\n",
       "      <td>golf</td>\n",
       "      <td>volkswagen</td>\n",
       "      <td>2001</td>\n",
       "      <td>75</td>\n",
       "      <td>150000</td>\n",
       "      <td>0</td>\n",
       "      <td>0</td>\n",
       "      <td>0</td>\n",
       "      <td>0</td>\n",
       "      <td>1</td>\n",
       "      <td>...</td>\n",
       "      <td>0</td>\n",
       "      <td>0</td>\n",
       "      <td>0</td>\n",
       "      <td>0</td>\n",
       "      <td>0</td>\n",
       "      <td>0</td>\n",
       "      <td>1</td>\n",
       "      <td>0</td>\n",
       "      <td>0</td>\n",
       "      <td>0</td>\n",
       "    </tr>\n",
       "    <tr>\n",
       "      <th>4</th>\n",
       "      <td>fabia</td>\n",
       "      <td>skoda</td>\n",
       "      <td>2008</td>\n",
       "      <td>69</td>\n",
       "      <td>90000</td>\n",
       "      <td>0</td>\n",
       "      <td>0</td>\n",
       "      <td>0</td>\n",
       "      <td>0</td>\n",
       "      <td>1</td>\n",
       "      <td>...</td>\n",
       "      <td>0</td>\n",
       "      <td>0</td>\n",
       "      <td>1</td>\n",
       "      <td>0</td>\n",
       "      <td>0</td>\n",
       "      <td>0</td>\n",
       "      <td>0</td>\n",
       "      <td>0</td>\n",
       "      <td>0</td>\n",
       "      <td>0</td>\n",
       "    </tr>\n",
       "    <tr>\n",
       "      <th>5</th>\n",
       "      <td>3er</td>\n",
       "      <td>bmw</td>\n",
       "      <td>1995</td>\n",
       "      <td>102</td>\n",
       "      <td>150000</td>\n",
       "      <td>0</td>\n",
       "      <td>0</td>\n",
       "      <td>0</td>\n",
       "      <td>1</td>\n",
       "      <td>0</td>\n",
       "      <td>...</td>\n",
       "      <td>0</td>\n",
       "      <td>0</td>\n",
       "      <td>0</td>\n",
       "      <td>0</td>\n",
       "      <td>0</td>\n",
       "      <td>0</td>\n",
       "      <td>1</td>\n",
       "      <td>0</td>\n",
       "      <td>0</td>\n",
       "      <td>1</td>\n",
       "    </tr>\n",
       "    <tr>\n",
       "      <th>...</th>\n",
       "      <td>...</td>\n",
       "      <td>...</td>\n",
       "      <td>...</td>\n",
       "      <td>...</td>\n",
       "      <td>...</td>\n",
       "      <td>...</td>\n",
       "      <td>...</td>\n",
       "      <td>...</td>\n",
       "      <td>...</td>\n",
       "      <td>...</td>\n",
       "      <td>...</td>\n",
       "      <td>...</td>\n",
       "      <td>...</td>\n",
       "      <td>...</td>\n",
       "      <td>...</td>\n",
       "      <td>...</td>\n",
       "      <td>...</td>\n",
       "      <td>...</td>\n",
       "      <td>...</td>\n",
       "      <td>...</td>\n",
       "      <td>...</td>\n",
       "    </tr>\n",
       "    <tr>\n",
       "      <th>354359</th>\n",
       "      <td>golf</td>\n",
       "      <td>volkswagen</td>\n",
       "      <td>2010</td>\n",
       "      <td>140</td>\n",
       "      <td>150000</td>\n",
       "      <td>0</td>\n",
       "      <td>0</td>\n",
       "      <td>0</td>\n",
       "      <td>1</td>\n",
       "      <td>0</td>\n",
       "      <td>...</td>\n",
       "      <td>0</td>\n",
       "      <td>0</td>\n",
       "      <td>1</td>\n",
       "      <td>0</td>\n",
       "      <td>0</td>\n",
       "      <td>0</td>\n",
       "      <td>0</td>\n",
       "      <td>0</td>\n",
       "      <td>0</td>\n",
       "      <td>0</td>\n",
       "    </tr>\n",
       "    <tr>\n",
       "      <th>354362</th>\n",
       "      <td>leon</td>\n",
       "      <td>seat</td>\n",
       "      <td>2004</td>\n",
       "      <td>225</td>\n",
       "      <td>150000</td>\n",
       "      <td>0</td>\n",
       "      <td>0</td>\n",
       "      <td>0</td>\n",
       "      <td>1</td>\n",
       "      <td>0</td>\n",
       "      <td>...</td>\n",
       "      <td>0</td>\n",
       "      <td>0</td>\n",
       "      <td>0</td>\n",
       "      <td>0</td>\n",
       "      <td>0</td>\n",
       "      <td>0</td>\n",
       "      <td>1</td>\n",
       "      <td>0</td>\n",
       "      <td>0</td>\n",
       "      <td>1</td>\n",
       "    </tr>\n",
       "    <tr>\n",
       "      <th>354366</th>\n",
       "      <td>fortwo</td>\n",
       "      <td>smart</td>\n",
       "      <td>2000</td>\n",
       "      <td>101</td>\n",
       "      <td>125000</td>\n",
       "      <td>1</td>\n",
       "      <td>0</td>\n",
       "      <td>0</td>\n",
       "      <td>0</td>\n",
       "      <td>0</td>\n",
       "      <td>...</td>\n",
       "      <td>0</td>\n",
       "      <td>0</td>\n",
       "      <td>0</td>\n",
       "      <td>0</td>\n",
       "      <td>0</td>\n",
       "      <td>0</td>\n",
       "      <td>1</td>\n",
       "      <td>0</td>\n",
       "      <td>0</td>\n",
       "      <td>0</td>\n",
       "    </tr>\n",
       "    <tr>\n",
       "      <th>354367</th>\n",
       "      <td>transporter</td>\n",
       "      <td>volkswagen</td>\n",
       "      <td>1996</td>\n",
       "      <td>102</td>\n",
       "      <td>150000</td>\n",
       "      <td>0</td>\n",
       "      <td>0</td>\n",
       "      <td>0</td>\n",
       "      <td>0</td>\n",
       "      <td>0</td>\n",
       "      <td>...</td>\n",
       "      <td>0</td>\n",
       "      <td>0</td>\n",
       "      <td>1</td>\n",
       "      <td>0</td>\n",
       "      <td>0</td>\n",
       "      <td>0</td>\n",
       "      <td>0</td>\n",
       "      <td>0</td>\n",
       "      <td>0</td>\n",
       "      <td>0</td>\n",
       "    </tr>\n",
       "    <tr>\n",
       "      <th>354368</th>\n",
       "      <td>golf</td>\n",
       "      <td>volkswagen</td>\n",
       "      <td>2002</td>\n",
       "      <td>100</td>\n",
       "      <td>150000</td>\n",
       "      <td>0</td>\n",
       "      <td>0</td>\n",
       "      <td>0</td>\n",
       "      <td>0</td>\n",
       "      <td>0</td>\n",
       "      <td>...</td>\n",
       "      <td>0</td>\n",
       "      <td>0</td>\n",
       "      <td>1</td>\n",
       "      <td>0</td>\n",
       "      <td>0</td>\n",
       "      <td>0</td>\n",
       "      <td>0</td>\n",
       "      <td>0</td>\n",
       "      <td>1</td>\n",
       "      <td>0</td>\n",
       "    </tr>\n",
       "  </tbody>\n",
       "</table>\n",
       "<p>298109 rows × 24 columns</p>\n",
       "</div>"
      ],
      "text/plain": [
       "              Model       Brand  RegistrationYear  Power  Kilometer  \\\n",
       "1           unknoun        audi              2011    190     125000   \n",
       "2             grand        jeep              2004    163     125000   \n",
       "3              golf  volkswagen              2001     75     150000   \n",
       "4             fabia       skoda              2008     69      90000   \n",
       "5               3er         bmw              1995    102     150000   \n",
       "...             ...         ...               ...    ...        ...   \n",
       "354359         golf  volkswagen              2010    140     150000   \n",
       "354362         leon        seat              2004    225     150000   \n",
       "354366       fortwo       smart              2000    101     125000   \n",
       "354367  transporter  volkswagen              1996    102     150000   \n",
       "354368         golf  volkswagen              2002    100     150000   \n",
       "\n",
       "        VehicleType_convertible  VehicleType_coupe  VehicleType_other  \\\n",
       "1                             0                  1                  0   \n",
       "2                             0                  0                  0   \n",
       "3                             0                  0                  0   \n",
       "4                             0                  0                  0   \n",
       "5                             0                  0                  0   \n",
       "...                         ...                ...                ...   \n",
       "354359                        0                  0                  0   \n",
       "354362                        0                  0                  0   \n",
       "354366                        1                  0                  0   \n",
       "354367                        0                  0                  0   \n",
       "354368                        0                  0                  0   \n",
       "\n",
       "        VehicleType_sedan  VehicleType_small  ...  Gearbox_unknoun  \\\n",
       "1                       0                  0  ...                0   \n",
       "2                       0                  0  ...                0   \n",
       "3                       0                  1  ...                0   \n",
       "4                       0                  1  ...                0   \n",
       "5                       1                  0  ...                0   \n",
       "...                   ...                ...  ...              ...   \n",
       "354359                  1                  0  ...                0   \n",
       "354362                  1                  0  ...                0   \n",
       "354366                  0                  0  ...                0   \n",
       "354367                  0                  0  ...                0   \n",
       "354368                  0                  0  ...                0   \n",
       "\n",
       "        FuelType_electric  FuelType_gasoline  FuelType_hybrid  FuelType_lpg  \\\n",
       "1                       0                  1                0             0   \n",
       "2                       0                  1                0             0   \n",
       "3                       0                  0                0             0   \n",
       "4                       0                  1                0             0   \n",
       "5                       0                  0                0             0   \n",
       "...                   ...                ...              ...           ...   \n",
       "354359                  0                  1                0             0   \n",
       "354362                  0                  0                0             0   \n",
       "354366                  0                  0                0             0   \n",
       "354367                  0                  1                0             0   \n",
       "354368                  0                  1                0             0   \n",
       "\n",
       "        FuelType_other  FuelType_petrol  FuelType_unknoun  Repaired_unknoun  \\\n",
       "1                    0                0                 0                 0   \n",
       "2                    0                0                 0                 1   \n",
       "3                    0                1                 0                 0   \n",
       "4                    0                0                 0                 0   \n",
       "5                    0                1                 0                 0   \n",
       "...                ...              ...               ...               ...   \n",
       "354359               0                0                 0                 0   \n",
       "354362               0                1                 0                 0   \n",
       "354366               0                1                 0                 0   \n",
       "354367               0                0                 0                 0   \n",
       "354368               0                0                 0                 1   \n",
       "\n",
       "        Repaired_yes  \n",
       "1                  1  \n",
       "2                  0  \n",
       "3                  0  \n",
       "4                  0  \n",
       "5                  1  \n",
       "...              ...  \n",
       "354359             0  \n",
       "354362             1  \n",
       "354366             0  \n",
       "354367             0  \n",
       "354368             0  \n",
       "\n",
       "[298109 rows x 24 columns]"
      ]
     },
     "metadata": {},
     "output_type": "display_data"
    }
   ],
   "source": [
    "# OHE\n",
    "columns = ['VehicleType', 'RegistrationYear', 'Gearbox', 'Power', 'Kilometer', 'FuelType', 'Repaired']\n",
    "features_ohe_trans = pd.get_dummies(features[columns], drop_first=True)\n",
    "\n",
    "# add columns Model and Brand\n",
    "features_ohe = pd.concat([features['Model'], features['Brand'] , features_ohe_trans], axis=1)\n",
    "display(features_ohe)"
   ]
  },
  {
   "cell_type": "code",
   "execution_count": 29,
   "metadata": {},
   "outputs": [
    {
     "name": "stdout",
     "output_type": "stream",
     "text": [
      "Размер выборок с признаками: (178865, 24) (59622, 24) (59622, 24)\n",
      "Размер выборок с целевым признаком: (178865,) (59622,) (59622,)\n"
     ]
    }
   ],
   "source": [
    "# raining and validation samples - size 60/40\n",
    "f_ohe_train, f_ohe_val, t_ohe_train, t_ohe_val = train_test_split(features_ohe, target,\n",
    "                                                                            test_size=0.40,\n",
    "                                                                            random_state=12345)\n",
    "# validation and test samples - size 20/20. We divide the validation\n",
    "f_ohe_test, f_ohe_val, t_ohe_test, t_ohe_val = train_test_split(f_ohe_val, t_ohe_val,\n",
    "                                                                            test_size=0.50,\n",
    "                                                                            random_state=12345)\n",
    "print('Размер выборок с признаками:',f_ohe_train.shape, f_ohe_val.shape, f_ohe_test.shape)\n",
    "\n",
    "print('Размер выборок с целевым признаком:',t_ohe_train.shape, t_ohe_val.shape, t_ohe_test.shape)"
   ]
  },
  {
   "cell_type": "code",
   "execution_count": 30,
   "metadata": {},
   "outputs": [
    {
     "data": {
      "text/plain": [
       "(178865, 24)"
      ]
     },
     "execution_count": 30,
     "metadata": {},
     "output_type": "execute_result"
    }
   ],
   "source": [
    "# use MEstimateEncoder to encode the Brand and Model columns\n",
    "\n",
    "m_encoder = MEstimateEncoder(cols=['Brand', 'Model']).fit(f_ohe_train, t_ohe_train)\n",
    "f_ohe_train = m_encoder.transform(f_ohe_train)\n",
    "f_ohe_val = m_encoder.transform(f_ohe_val)\n",
    "f_ohe_test = m_encoder.transform(f_ohe_test)\n",
    "\n",
    "f_ohe_train.shape"
   ]
  },
  {
   "cell_type": "markdown",
   "metadata": {},
   "source": [
    "### StandardScaler"
   ]
  },
  {
   "cell_type": "code",
   "execution_count": 31,
   "metadata": {},
   "outputs": [
    {
     "data": {
      "text/html": [
       "<div>\n",
       "<style scoped>\n",
       "    .dataframe tbody tr th:only-of-type {\n",
       "        vertical-align: middle;\n",
       "    }\n",
       "\n",
       "    .dataframe tbody tr th {\n",
       "        vertical-align: top;\n",
       "    }\n",
       "\n",
       "    .dataframe thead th {\n",
       "        text-align: right;\n",
       "    }\n",
       "</style>\n",
       "<table border=\"1\" class=\"dataframe\">\n",
       "  <thead>\n",
       "    <tr style=\"text-align: right;\">\n",
       "      <th></th>\n",
       "      <th>Price</th>\n",
       "      <th>VehicleType</th>\n",
       "      <th>RegistrationYear</th>\n",
       "      <th>Gearbox</th>\n",
       "      <th>Power</th>\n",
       "      <th>Model</th>\n",
       "      <th>Kilometer</th>\n",
       "      <th>FuelType</th>\n",
       "      <th>Brand</th>\n",
       "      <th>Repaired</th>\n",
       "    </tr>\n",
       "  </thead>\n",
       "  <tbody>\n",
       "    <tr>\n",
       "      <th>1</th>\n",
       "      <td>18300</td>\n",
       "      <td>coupe</td>\n",
       "      <td>2011</td>\n",
       "      <td>manual</td>\n",
       "      <td>190</td>\n",
       "      <td>unknoun</td>\n",
       "      <td>125000</td>\n",
       "      <td>gasoline</td>\n",
       "      <td>audi</td>\n",
       "      <td>yes</td>\n",
       "    </tr>\n",
       "    <tr>\n",
       "      <th>2</th>\n",
       "      <td>9800</td>\n",
       "      <td>suv</td>\n",
       "      <td>2004</td>\n",
       "      <td>auto</td>\n",
       "      <td>163</td>\n",
       "      <td>grand</td>\n",
       "      <td>125000</td>\n",
       "      <td>gasoline</td>\n",
       "      <td>jeep</td>\n",
       "      <td>unknoun</td>\n",
       "    </tr>\n",
       "    <tr>\n",
       "      <th>3</th>\n",
       "      <td>1500</td>\n",
       "      <td>small</td>\n",
       "      <td>2001</td>\n",
       "      <td>manual</td>\n",
       "      <td>75</td>\n",
       "      <td>golf</td>\n",
       "      <td>150000</td>\n",
       "      <td>petrol</td>\n",
       "      <td>volkswagen</td>\n",
       "      <td>no</td>\n",
       "    </tr>\n",
       "    <tr>\n",
       "      <th>4</th>\n",
       "      <td>3600</td>\n",
       "      <td>small</td>\n",
       "      <td>2008</td>\n",
       "      <td>manual</td>\n",
       "      <td>69</td>\n",
       "      <td>fabia</td>\n",
       "      <td>90000</td>\n",
       "      <td>gasoline</td>\n",
       "      <td>skoda</td>\n",
       "      <td>no</td>\n",
       "    </tr>\n",
       "    <tr>\n",
       "      <th>5</th>\n",
       "      <td>650</td>\n",
       "      <td>sedan</td>\n",
       "      <td>1995</td>\n",
       "      <td>manual</td>\n",
       "      <td>102</td>\n",
       "      <td>3er</td>\n",
       "      <td>150000</td>\n",
       "      <td>petrol</td>\n",
       "      <td>bmw</td>\n",
       "      <td>yes</td>\n",
       "    </tr>\n",
       "  </tbody>\n",
       "</table>\n",
       "</div>"
      ],
      "text/plain": [
       "   Price VehicleType  RegistrationYear Gearbox  Power    Model  Kilometer  \\\n",
       "1  18300       coupe              2011  manual    190  unknoun     125000   \n",
       "2   9800         suv              2004    auto    163    grand     125000   \n",
       "3   1500       small              2001  manual     75     golf     150000   \n",
       "4   3600       small              2008  manual     69    fabia      90000   \n",
       "5    650       sedan              1995  manual    102      3er     150000   \n",
       "\n",
       "   FuelType       Brand Repaired  \n",
       "1  gasoline        audi      yes  \n",
       "2  gasoline        jeep  unknoun  \n",
       "3    petrol  volkswagen       no  \n",
       "4  gasoline       skoda       no  \n",
       "5    petrol         bmw      yes  "
      ]
     },
     "execution_count": 31,
     "metadata": {},
     "output_type": "execute_result"
    }
   ],
   "source": [
    "df.head()"
   ]
  },
  {
   "cell_type": "code",
   "execution_count": 32,
   "metadata": {},
   "outputs": [
    {
     "data": {
      "text/html": [
       "<div>\n",
       "<style scoped>\n",
       "    .dataframe tbody tr th:only-of-type {\n",
       "        vertical-align: middle;\n",
       "    }\n",
       "\n",
       "    .dataframe tbody tr th {\n",
       "        vertical-align: top;\n",
       "    }\n",
       "\n",
       "    .dataframe thead th {\n",
       "        text-align: right;\n",
       "    }\n",
       "</style>\n",
       "<table border=\"1\" class=\"dataframe\">\n",
       "  <thead>\n",
       "    <tr style=\"text-align: right;\">\n",
       "      <th></th>\n",
       "      <th>Model</th>\n",
       "      <th>Brand</th>\n",
       "      <th>RegistrationYear</th>\n",
       "      <th>Power</th>\n",
       "      <th>Kilometer</th>\n",
       "      <th>VehicleType_convertible</th>\n",
       "      <th>VehicleType_coupe</th>\n",
       "      <th>VehicleType_other</th>\n",
       "      <th>VehicleType_sedan</th>\n",
       "      <th>VehicleType_small</th>\n",
       "      <th>...</th>\n",
       "      <th>Gearbox_unknoun</th>\n",
       "      <th>FuelType_electric</th>\n",
       "      <th>FuelType_gasoline</th>\n",
       "      <th>FuelType_hybrid</th>\n",
       "      <th>FuelType_lpg</th>\n",
       "      <th>FuelType_other</th>\n",
       "      <th>FuelType_petrol</th>\n",
       "      <th>FuelType_unknoun</th>\n",
       "      <th>Repaired_unknoun</th>\n",
       "      <th>Repaired_yes</th>\n",
       "    </tr>\n",
       "  </thead>\n",
       "  <tbody>\n",
       "    <tr>\n",
       "      <th>153972</th>\n",
       "      <td>-0.114955</td>\n",
       "      <td>-0.003710</td>\n",
       "      <td>0.545926</td>\n",
       "      <td>0.761470</td>\n",
       "      <td>0.585534</td>\n",
       "      <td>0</td>\n",
       "      <td>0</td>\n",
       "      <td>0</td>\n",
       "      <td>1</td>\n",
       "      <td>0</td>\n",
       "      <td>...</td>\n",
       "      <td>0</td>\n",
       "      <td>0</td>\n",
       "      <td>1</td>\n",
       "      <td>0</td>\n",
       "      <td>0</td>\n",
       "      <td>0</td>\n",
       "      <td>0</td>\n",
       "      <td>0</td>\n",
       "      <td>1</td>\n",
       "      <td>0</td>\n",
       "    </tr>\n",
       "    <tr>\n",
       "      <th>4865</th>\n",
       "      <td>-0.576041</td>\n",
       "      <td>-0.003710</td>\n",
       "      <td>0.382218</td>\n",
       "      <td>-0.265664</td>\n",
       "      <td>0.585534</td>\n",
       "      <td>0</td>\n",
       "      <td>0</td>\n",
       "      <td>0</td>\n",
       "      <td>0</td>\n",
       "      <td>0</td>\n",
       "      <td>...</td>\n",
       "      <td>1</td>\n",
       "      <td>0</td>\n",
       "      <td>0</td>\n",
       "      <td>0</td>\n",
       "      <td>0</td>\n",
       "      <td>0</td>\n",
       "      <td>0</td>\n",
       "      <td>1</td>\n",
       "      <td>1</td>\n",
       "      <td>0</td>\n",
       "    </tr>\n",
       "    <tr>\n",
       "      <th>16759</th>\n",
       "      <td>0.759446</td>\n",
       "      <td>1.207262</td>\n",
       "      <td>1.364465</td>\n",
       "      <td>0.872084</td>\n",
       "      <td>-1.327498</td>\n",
       "      <td>0</td>\n",
       "      <td>0</td>\n",
       "      <td>0</td>\n",
       "      <td>1</td>\n",
       "      <td>0</td>\n",
       "      <td>...</td>\n",
       "      <td>0</td>\n",
       "      <td>0</td>\n",
       "      <td>1</td>\n",
       "      <td>0</td>\n",
       "      <td>0</td>\n",
       "      <td>0</td>\n",
       "      <td>0</td>\n",
       "      <td>0</td>\n",
       "      <td>0</td>\n",
       "      <td>0</td>\n",
       "    </tr>\n",
       "    <tr>\n",
       "      <th>31939</th>\n",
       "      <td>-0.434413</td>\n",
       "      <td>-0.734729</td>\n",
       "      <td>-0.436320</td>\n",
       "      <td>-1.071569</td>\n",
       "      <td>-0.780917</td>\n",
       "      <td>1</td>\n",
       "      <td>0</td>\n",
       "      <td>0</td>\n",
       "      <td>0</td>\n",
       "      <td>0</td>\n",
       "      <td>...</td>\n",
       "      <td>0</td>\n",
       "      <td>0</td>\n",
       "      <td>0</td>\n",
       "      <td>0</td>\n",
       "      <td>0</td>\n",
       "      <td>0</td>\n",
       "      <td>1</td>\n",
       "      <td>0</td>\n",
       "      <td>0</td>\n",
       "      <td>0</td>\n",
       "    </tr>\n",
       "    <tr>\n",
       "      <th>284757</th>\n",
       "      <td>2.138694</td>\n",
       "      <td>2.934486</td>\n",
       "      <td>1.528173</td>\n",
       "      <td>0.002971</td>\n",
       "      <td>-2.147369</td>\n",
       "      <td>0</td>\n",
       "      <td>1</td>\n",
       "      <td>0</td>\n",
       "      <td>0</td>\n",
       "      <td>0</td>\n",
       "      <td>...</td>\n",
       "      <td>0</td>\n",
       "      <td>0</td>\n",
       "      <td>0</td>\n",
       "      <td>0</td>\n",
       "      <td>0</td>\n",
       "      <td>0</td>\n",
       "      <td>1</td>\n",
       "      <td>0</td>\n",
       "      <td>0</td>\n",
       "      <td>0</td>\n",
       "    </tr>\n",
       "  </tbody>\n",
       "</table>\n",
       "<p>5 rows × 24 columns</p>\n",
       "</div>"
      ],
      "text/plain": [
       "           Model     Brand  RegistrationYear     Power  Kilometer  \\\n",
       "153972 -0.114955 -0.003710          0.545926  0.761470   0.585534   \n",
       "4865   -0.576041 -0.003710          0.382218 -0.265664   0.585534   \n",
       "16759   0.759446  1.207262          1.364465  0.872084  -1.327498   \n",
       "31939  -0.434413 -0.734729         -0.436320 -1.071569  -0.780917   \n",
       "284757  2.138694  2.934486          1.528173  0.002971  -2.147369   \n",
       "\n",
       "        VehicleType_convertible  VehicleType_coupe  VehicleType_other  \\\n",
       "153972                        0                  0                  0   \n",
       "4865                          0                  0                  0   \n",
       "16759                         0                  0                  0   \n",
       "31939                         1                  0                  0   \n",
       "284757                        0                  1                  0   \n",
       "\n",
       "        VehicleType_sedan  VehicleType_small  ...  Gearbox_unknoun  \\\n",
       "153972                  1                  0  ...                0   \n",
       "4865                    0                  0  ...                1   \n",
       "16759                   1                  0  ...                0   \n",
       "31939                   0                  0  ...                0   \n",
       "284757                  0                  0  ...                0   \n",
       "\n",
       "        FuelType_electric  FuelType_gasoline  FuelType_hybrid  FuelType_lpg  \\\n",
       "153972                  0                  1                0             0   \n",
       "4865                    0                  0                0             0   \n",
       "16759                   0                  1                0             0   \n",
       "31939                   0                  0                0             0   \n",
       "284757                  0                  0                0             0   \n",
       "\n",
       "        FuelType_other  FuelType_petrol  FuelType_unknoun  Repaired_unknoun  \\\n",
       "153972               0                0                 0                 1   \n",
       "4865                 0                0                 1                 1   \n",
       "16759                0                0                 0                 0   \n",
       "31939                0                1                 0                 0   \n",
       "284757               0                1                 0                 0   \n",
       "\n",
       "        Repaired_yes  \n",
       "153972             0  \n",
       "4865               0  \n",
       "16759              0  \n",
       "31939              0  \n",
       "284757             0  \n",
       "\n",
       "[5 rows x 24 columns]"
      ]
     },
     "metadata": {},
     "output_type": "display_data"
    },
    {
     "data": {
      "text/html": [
       "<div>\n",
       "<style scoped>\n",
       "    .dataframe tbody tr th:only-of-type {\n",
       "        vertical-align: middle;\n",
       "    }\n",
       "\n",
       "    .dataframe tbody tr th {\n",
       "        vertical-align: top;\n",
       "    }\n",
       "\n",
       "    .dataframe thead th {\n",
       "        text-align: right;\n",
       "    }\n",
       "</style>\n",
       "<table border=\"1\" class=\"dataframe\">\n",
       "  <thead>\n",
       "    <tr style=\"text-align: right;\">\n",
       "      <th></th>\n",
       "      <th>Model</th>\n",
       "      <th>Brand</th>\n",
       "      <th>RegistrationYear</th>\n",
       "      <th>Power</th>\n",
       "      <th>Kilometer</th>\n",
       "      <th>VehicleType_convertible</th>\n",
       "      <th>VehicleType_coupe</th>\n",
       "      <th>VehicleType_other</th>\n",
       "      <th>VehicleType_sedan</th>\n",
       "      <th>VehicleType_small</th>\n",
       "      <th>...</th>\n",
       "      <th>Gearbox_unknoun</th>\n",
       "      <th>FuelType_electric</th>\n",
       "      <th>FuelType_gasoline</th>\n",
       "      <th>FuelType_hybrid</th>\n",
       "      <th>FuelType_lpg</th>\n",
       "      <th>FuelType_other</th>\n",
       "      <th>FuelType_petrol</th>\n",
       "      <th>FuelType_unknoun</th>\n",
       "      <th>Repaired_unknoun</th>\n",
       "      <th>Repaired_yes</th>\n",
       "    </tr>\n",
       "  </thead>\n",
       "  <tbody>\n",
       "    <tr>\n",
       "      <th>236163</th>\n",
       "      <td>0.759446</td>\n",
       "      <td>1.207262</td>\n",
       "      <td>1.200757</td>\n",
       "      <td>0.761470</td>\n",
       "      <td>0.585534</td>\n",
       "      <td>0</td>\n",
       "      <td>0</td>\n",
       "      <td>0</td>\n",
       "      <td>1</td>\n",
       "      <td>0</td>\n",
       "      <td>...</td>\n",
       "      <td>0</td>\n",
       "      <td>0</td>\n",
       "      <td>1</td>\n",
       "      <td>0</td>\n",
       "      <td>0</td>\n",
       "      <td>0</td>\n",
       "      <td>0</td>\n",
       "      <td>0</td>\n",
       "      <td>0</td>\n",
       "      <td>0</td>\n",
       "    </tr>\n",
       "    <tr>\n",
       "      <th>307254</th>\n",
       "      <td>-0.644419</td>\n",
       "      <td>-0.539272</td>\n",
       "      <td>0.382218</td>\n",
       "      <td>-0.502695</td>\n",
       "      <td>0.585534</td>\n",
       "      <td>0</td>\n",
       "      <td>0</td>\n",
       "      <td>0</td>\n",
       "      <td>1</td>\n",
       "      <td>0</td>\n",
       "      <td>...</td>\n",
       "      <td>0</td>\n",
       "      <td>0</td>\n",
       "      <td>0</td>\n",
       "      <td>0</td>\n",
       "      <td>0</td>\n",
       "      <td>0</td>\n",
       "      <td>1</td>\n",
       "      <td>0</td>\n",
       "      <td>0</td>\n",
       "      <td>0</td>\n",
       "    </tr>\n",
       "    <tr>\n",
       "      <th>185656</th>\n",
       "      <td>-0.006649</td>\n",
       "      <td>-0.003710</td>\n",
       "      <td>0.709634</td>\n",
       "      <td>0.761470</td>\n",
       "      <td>0.585534</td>\n",
       "      <td>0</td>\n",
       "      <td>0</td>\n",
       "      <td>0</td>\n",
       "      <td>1</td>\n",
       "      <td>0</td>\n",
       "      <td>...</td>\n",
       "      <td>0</td>\n",
       "      <td>0</td>\n",
       "      <td>1</td>\n",
       "      <td>0</td>\n",
       "      <td>0</td>\n",
       "      <td>0</td>\n",
       "      <td>0</td>\n",
       "      <td>0</td>\n",
       "      <td>0</td>\n",
       "      <td>0</td>\n",
       "    </tr>\n",
       "    <tr>\n",
       "      <th>206023</th>\n",
       "      <td>0.198291</td>\n",
       "      <td>1.143350</td>\n",
       "      <td>0.545926</td>\n",
       "      <td>0.650856</td>\n",
       "      <td>0.585534</td>\n",
       "      <td>0</td>\n",
       "      <td>0</td>\n",
       "      <td>0</td>\n",
       "      <td>0</td>\n",
       "      <td>0</td>\n",
       "      <td>...</td>\n",
       "      <td>0</td>\n",
       "      <td>0</td>\n",
       "      <td>0</td>\n",
       "      <td>0</td>\n",
       "      <td>0</td>\n",
       "      <td>0</td>\n",
       "      <td>0</td>\n",
       "      <td>1</td>\n",
       "      <td>1</td>\n",
       "      <td>0</td>\n",
       "    </tr>\n",
       "    <tr>\n",
       "      <th>151089</th>\n",
       "      <td>-0.006649</td>\n",
       "      <td>-0.003710</td>\n",
       "      <td>-0.763736</td>\n",
       "      <td>0.445429</td>\n",
       "      <td>0.585534</td>\n",
       "      <td>0</td>\n",
       "      <td>0</td>\n",
       "      <td>0</td>\n",
       "      <td>1</td>\n",
       "      <td>0</td>\n",
       "      <td>...</td>\n",
       "      <td>1</td>\n",
       "      <td>0</td>\n",
       "      <td>0</td>\n",
       "      <td>0</td>\n",
       "      <td>0</td>\n",
       "      <td>0</td>\n",
       "      <td>0</td>\n",
       "      <td>1</td>\n",
       "      <td>0</td>\n",
       "      <td>1</td>\n",
       "    </tr>\n",
       "  </tbody>\n",
       "</table>\n",
       "<p>5 rows × 24 columns</p>\n",
       "</div>"
      ],
      "text/plain": [
       "           Model     Brand  RegistrationYear     Power  Kilometer  \\\n",
       "236163  0.759446  1.207262          1.200757  0.761470   0.585534   \n",
       "307254 -0.644419 -0.539272          0.382218 -0.502695   0.585534   \n",
       "185656 -0.006649 -0.003710          0.709634  0.761470   0.585534   \n",
       "206023  0.198291  1.143350          0.545926  0.650856   0.585534   \n",
       "151089 -0.006649 -0.003710         -0.763736  0.445429   0.585534   \n",
       "\n",
       "        VehicleType_convertible  VehicleType_coupe  VehicleType_other  \\\n",
       "236163                        0                  0                  0   \n",
       "307254                        0                  0                  0   \n",
       "185656                        0                  0                  0   \n",
       "206023                        0                  0                  0   \n",
       "151089                        0                  0                  0   \n",
       "\n",
       "        VehicleType_sedan  VehicleType_small  ...  Gearbox_unknoun  \\\n",
       "236163                  1                  0  ...                0   \n",
       "307254                  1                  0  ...                0   \n",
       "185656                  1                  0  ...                0   \n",
       "206023                  0                  0  ...                0   \n",
       "151089                  1                  0  ...                1   \n",
       "\n",
       "        FuelType_electric  FuelType_gasoline  FuelType_hybrid  FuelType_lpg  \\\n",
       "236163                  0                  1                0             0   \n",
       "307254                  0                  0                0             0   \n",
       "185656                  0                  1                0             0   \n",
       "206023                  0                  0                0             0   \n",
       "151089                  0                  0                0             0   \n",
       "\n",
       "        FuelType_other  FuelType_petrol  FuelType_unknoun  Repaired_unknoun  \\\n",
       "236163               0                0                 0                 0   \n",
       "307254               0                1                 0                 0   \n",
       "185656               0                0                 0                 0   \n",
       "206023               0                0                 1                 1   \n",
       "151089               0                0                 1                 0   \n",
       "\n",
       "        Repaired_yes  \n",
       "236163             0  \n",
       "307254             0  \n",
       "185656             0  \n",
       "206023             0  \n",
       "151089             1  \n",
       "\n",
       "[5 rows x 24 columns]"
      ]
     },
     "metadata": {},
     "output_type": "display_data"
    },
    {
     "data": {
      "text/html": [
       "<div>\n",
       "<style scoped>\n",
       "    .dataframe tbody tr th:only-of-type {\n",
       "        vertical-align: middle;\n",
       "    }\n",
       "\n",
       "    .dataframe tbody tr th {\n",
       "        vertical-align: top;\n",
       "    }\n",
       "\n",
       "    .dataframe thead th {\n",
       "        text-align: right;\n",
       "    }\n",
       "</style>\n",
       "<table border=\"1\" class=\"dataframe\">\n",
       "  <thead>\n",
       "    <tr style=\"text-align: right;\">\n",
       "      <th></th>\n",
       "      <th>Model</th>\n",
       "      <th>Brand</th>\n",
       "      <th>RegistrationYear</th>\n",
       "      <th>Power</th>\n",
       "      <th>Kilometer</th>\n",
       "      <th>VehicleType_convertible</th>\n",
       "      <th>VehicleType_coupe</th>\n",
       "      <th>VehicleType_other</th>\n",
       "      <th>VehicleType_sedan</th>\n",
       "      <th>VehicleType_small</th>\n",
       "      <th>...</th>\n",
       "      <th>Gearbox_unknoun</th>\n",
       "      <th>FuelType_electric</th>\n",
       "      <th>FuelType_gasoline</th>\n",
       "      <th>FuelType_hybrid</th>\n",
       "      <th>FuelType_lpg</th>\n",
       "      <th>FuelType_other</th>\n",
       "      <th>FuelType_petrol</th>\n",
       "      <th>FuelType_unknoun</th>\n",
       "      <th>Repaired_unknoun</th>\n",
       "      <th>Repaired_yes</th>\n",
       "    </tr>\n",
       "  </thead>\n",
       "  <tbody>\n",
       "    <tr>\n",
       "      <th>164067</th>\n",
       "      <td>-1.284485</td>\n",
       "      <td>-0.874323</td>\n",
       "      <td>1.037049</td>\n",
       "      <td>-0.834538</td>\n",
       "      <td>-0.780917</td>\n",
       "      <td>0</td>\n",
       "      <td>0</td>\n",
       "      <td>0</td>\n",
       "      <td>0</td>\n",
       "      <td>1</td>\n",
       "      <td>...</td>\n",
       "      <td>0</td>\n",
       "      <td>0</td>\n",
       "      <td>0</td>\n",
       "      <td>0</td>\n",
       "      <td>0</td>\n",
       "      <td>0</td>\n",
       "      <td>1</td>\n",
       "      <td>0</td>\n",
       "      <td>0</td>\n",
       "      <td>0</td>\n",
       "    </tr>\n",
       "    <tr>\n",
       "      <th>35924</th>\n",
       "      <td>-0.601992</td>\n",
       "      <td>-0.922021</td>\n",
       "      <td>0.218511</td>\n",
       "      <td>-0.739725</td>\n",
       "      <td>0.585534</td>\n",
       "      <td>0</td>\n",
       "      <td>0</td>\n",
       "      <td>0</td>\n",
       "      <td>0</td>\n",
       "      <td>1</td>\n",
       "      <td>...</td>\n",
       "      <td>0</td>\n",
       "      <td>0</td>\n",
       "      <td>0</td>\n",
       "      <td>0</td>\n",
       "      <td>0</td>\n",
       "      <td>0</td>\n",
       "      <td>1</td>\n",
       "      <td>0</td>\n",
       "      <td>0</td>\n",
       "      <td>0</td>\n",
       "    </tr>\n",
       "    <tr>\n",
       "      <th>240447</th>\n",
       "      <td>2.138694</td>\n",
       "      <td>2.934486</td>\n",
       "      <td>0.545926</td>\n",
       "      <td>-0.028633</td>\n",
       "      <td>-0.097692</td>\n",
       "      <td>0</td>\n",
       "      <td>0</td>\n",
       "      <td>0</td>\n",
       "      <td>0</td>\n",
       "      <td>1</td>\n",
       "      <td>...</td>\n",
       "      <td>0</td>\n",
       "      <td>0</td>\n",
       "      <td>0</td>\n",
       "      <td>0</td>\n",
       "      <td>0</td>\n",
       "      <td>0</td>\n",
       "      <td>1</td>\n",
       "      <td>0</td>\n",
       "      <td>0</td>\n",
       "      <td>0</td>\n",
       "    </tr>\n",
       "    <tr>\n",
       "      <th>129575</th>\n",
       "      <td>-1.330172</td>\n",
       "      <td>-1.500285</td>\n",
       "      <td>-0.600028</td>\n",
       "      <td>-1.134777</td>\n",
       "      <td>0.585534</td>\n",
       "      <td>0</td>\n",
       "      <td>0</td>\n",
       "      <td>0</td>\n",
       "      <td>0</td>\n",
       "      <td>1</td>\n",
       "      <td>...</td>\n",
       "      <td>0</td>\n",
       "      <td>0</td>\n",
       "      <td>0</td>\n",
       "      <td>0</td>\n",
       "      <td>0</td>\n",
       "      <td>0</td>\n",
       "      <td>1</td>\n",
       "      <td>0</td>\n",
       "      <td>0</td>\n",
       "      <td>0</td>\n",
       "    </tr>\n",
       "    <tr>\n",
       "      <th>230808</th>\n",
       "      <td>0.466821</td>\n",
       "      <td>0.945202</td>\n",
       "      <td>-1.418567</td>\n",
       "      <td>-0.739725</td>\n",
       "      <td>0.585534</td>\n",
       "      <td>0</td>\n",
       "      <td>0</td>\n",
       "      <td>0</td>\n",
       "      <td>1</td>\n",
       "      <td>0</td>\n",
       "      <td>...</td>\n",
       "      <td>0</td>\n",
       "      <td>0</td>\n",
       "      <td>1</td>\n",
       "      <td>0</td>\n",
       "      <td>0</td>\n",
       "      <td>0</td>\n",
       "      <td>0</td>\n",
       "      <td>0</td>\n",
       "      <td>0</td>\n",
       "      <td>0</td>\n",
       "    </tr>\n",
       "  </tbody>\n",
       "</table>\n",
       "<p>5 rows × 24 columns</p>\n",
       "</div>"
      ],
      "text/plain": [
       "           Model     Brand  RegistrationYear     Power  Kilometer  \\\n",
       "164067 -1.284485 -0.874323          1.037049 -0.834538  -0.780917   \n",
       "35924  -0.601992 -0.922021          0.218511 -0.739725   0.585534   \n",
       "240447  2.138694  2.934486          0.545926 -0.028633  -0.097692   \n",
       "129575 -1.330172 -1.500285         -0.600028 -1.134777   0.585534   \n",
       "230808  0.466821  0.945202         -1.418567 -0.739725   0.585534   \n",
       "\n",
       "        VehicleType_convertible  VehicleType_coupe  VehicleType_other  \\\n",
       "164067                        0                  0                  0   \n",
       "35924                         0                  0                  0   \n",
       "240447                        0                  0                  0   \n",
       "129575                        0                  0                  0   \n",
       "230808                        0                  0                  0   \n",
       "\n",
       "        VehicleType_sedan  VehicleType_small  ...  Gearbox_unknoun  \\\n",
       "164067                  0                  1  ...                0   \n",
       "35924                   0                  1  ...                0   \n",
       "240447                  0                  1  ...                0   \n",
       "129575                  0                  1  ...                0   \n",
       "230808                  1                  0  ...                0   \n",
       "\n",
       "        FuelType_electric  FuelType_gasoline  FuelType_hybrid  FuelType_lpg  \\\n",
       "164067                  0                  0                0             0   \n",
       "35924                   0                  0                0             0   \n",
       "240447                  0                  0                0             0   \n",
       "129575                  0                  0                0             0   \n",
       "230808                  0                  1                0             0   \n",
       "\n",
       "        FuelType_other  FuelType_petrol  FuelType_unknoun  Repaired_unknoun  \\\n",
       "164067               0                1                 0                 0   \n",
       "35924                0                1                 0                 0   \n",
       "240447               0                1                 0                 0   \n",
       "129575               0                1                 0                 0   \n",
       "230808               0                0                 0                 0   \n",
       "\n",
       "        Repaired_yes  \n",
       "164067             0  \n",
       "35924              0  \n",
       "240447             0  \n",
       "129575             0  \n",
       "230808             0  \n",
       "\n",
       "[5 rows x 24 columns]"
      ]
     },
     "metadata": {},
     "output_type": "display_data"
    }
   ],
   "source": [
    "# let's fix the numerical characteristics in numeric\n",
    "numeric = ['RegistrationYear', 'Power', 'Kilometer', 'Model', 'Brand']\n",
    "# let's scale it up\n",
    "scaler = StandardScaler()\n",
    "scaler.fit(f_ohe_train[numeric])\n",
    "# transform the samples using the transform function\n",
    "f_ohe_train[numeric] = scaler.transform(f_ohe_train[numeric])\n",
    "f_ohe_val[numeric] = scaler.transform(f_ohe_val[numeric])\n",
    "f_ohe_test[numeric] = scaler.transform(f_ohe_test[numeric])\n",
    "# display selections\n",
    "display(f_ohe_train.head())\n",
    "display(f_ohe_val.head())\n",
    "display(f_ohe_test.head())"
   ]
  },
  {
   "cell_type": "markdown",
   "metadata": {},
   "source": [
    "### LinearRegression"
   ]
  },
  {
   "cell_type": "code",
   "execution_count": 33,
   "metadata": {},
   "outputs": [
    {
     "name": "stdout",
     "output_type": "stream",
     "text": [
      "CPU times: total: 344 ms\n",
      "Wall time: 228 ms\n"
     ]
    }
   ],
   "source": [
    "%%time\n",
    "\n",
    "start = time.time()\n",
    "model_lr_ohe = LinearRegression()\n",
    "model_lr_ohe.fit(f_ohe_train, t_ohe_train)\n",
    "\n",
    "end = time.time()\n",
    "eval_time_lr_l = end-start"
   ]
  },
  {
   "cell_type": "code",
   "execution_count": 34,
   "metadata": {},
   "outputs": [
    {
     "name": "stdout",
     "output_type": "stream",
     "text": [
      "CPU times: total: 31.2 ms\n",
      "Wall time: 25.9 ms\n"
     ]
    },
    {
     "data": {
      "text/plain": [
       "2788.48"
      ]
     },
     "execution_count": 34,
     "metadata": {},
     "output_type": "execute_result"
    }
   ],
   "source": [
    "%%time\n",
    "\n",
    "start = time.time()\n",
    "\n",
    "predict_lr_ohe = model_lr_ohe.predict(f_ohe_val)\n",
    "rmse_lr_ohe = mean_squared_error(t_ohe_val, predict_lr_ohe) **0.5\n",
    "end = time.time()\n",
    "eval_time_lr_p = end-start\n",
    "\n",
    "round(rmse_lr_ohe, 2)"
   ]
  },
  {
   "cell_type": "markdown",
   "metadata": {},
   "source": [
    "### RandomForestRegressor"
   ]
  },
  {
   "cell_type": "code",
   "execution_count": 35,
   "metadata": {},
   "outputs": [
    {
     "name": "stdout",
     "output_type": "stream",
     "text": [
      "(*, criterion='squared_error', splitter='best', max_depth=None, min_samples_split=2, min_samples_leaf=1, min_weight_fraction_leaf=0.0, max_features=None, random_state=None, max_leaf_nodes=None, min_impurity_decrease=0.0, ccp_alpha=0.0)\n",
      "(*, criterion='squared_error', splitter='best', max_depth=None, min_samples_split=2, min_samples_leaf=1, min_weight_fraction_leaf=0.0, max_features=None, random_state=None, max_leaf_nodes=None, min_impurity_decrease=0.0, ccp_alpha=0.0)\n",
      "(*, criterion='squared_error', splitter='best', max_depth=None, min_samples_split=2, min_samples_leaf=1, min_weight_fraction_leaf=0.0, max_features=None, random_state=None, max_leaf_nodes=None, min_impurity_decrease=0.0, ccp_alpha=0.0)\n",
      "(*, criterion='squared_error', splitter='best', max_depth=None, min_samples_split=2, min_samples_leaf=1, min_weight_fraction_leaf=0.0, max_features=None, random_state=None, max_leaf_nodes=None, min_impurity_decrease=0.0, ccp_alpha=0.0)\n",
      "(*, criterion='squared_error', splitter='best', max_depth=None, min_samples_split=2, min_samples_leaf=1, min_weight_fraction_leaf=0.0, max_features=None, random_state=None, max_leaf_nodes=None, min_impurity_decrease=0.0, ccp_alpha=0.0)\n",
      "(*, criterion='squared_error', splitter='best', max_depth=None, min_samples_split=2, min_samples_leaf=1, min_weight_fraction_leaf=0.0, max_features=None, random_state=None, max_leaf_nodes=None, min_impurity_decrease=0.0, ccp_alpha=0.0)\n",
      "(*, criterion='squared_error', splitter='best', max_depth=None, min_samples_split=2, min_samples_leaf=1, min_weight_fraction_leaf=0.0, max_features=None, random_state=None, max_leaf_nodes=None, min_impurity_decrease=0.0, ccp_alpha=0.0)\n",
      "(*, criterion='squared_error', splitter='best', max_depth=None, min_samples_split=2, min_samples_leaf=1, min_weight_fraction_leaf=0.0, max_features=None, random_state=None, max_leaf_nodes=None, min_impurity_decrease=0.0, ccp_alpha=0.0)\n",
      "(*, criterion='squared_error', splitter='best', max_depth=None, min_samples_split=2, min_samples_leaf=1, min_weight_fraction_leaf=0.0, max_features=None, random_state=None, max_leaf_nodes=None, min_impurity_decrease=0.0, ccp_alpha=0.0)\n",
      "(*, criterion='squared_error', splitter='best', max_depth=None, min_samples_split=2, min_samples_leaf=1, min_weight_fraction_leaf=0.0, max_features=None, random_state=None, max_leaf_nodes=None, min_impurity_decrease=0.0, ccp_alpha=0.0)\n",
      "CPU times: total: 13.7 s\n",
      "Wall time: 13.6 s\n"
     ]
    }
   ],
   "source": [
    "%%time\n",
    "\n",
    "start = time.time()\n",
    "\n",
    "model_rfr = RandomForestRegressor(random_state=12345, n_estimators=10, \n",
    "                                  criterion='friedman_mse')\n",
    "model_rfr.fit(f_ohe_train, t_ohe_train)\n",
    "for m in model_rfr:\n",
    "    hyperparams = inspect.signature(m.__init__)\n",
    "    print(hyperparams)\n",
    "\n",
    "end = time.time()\n",
    "eval_time_rfr_l = end-start"
   ]
  },
  {
   "cell_type": "code",
   "execution_count": 36,
   "metadata": {},
   "outputs": [
    {
     "name": "stdout",
     "output_type": "stream",
     "text": [
      "RMSE: 1696.84\n",
      "CPU times: total: 281 ms\n",
      "Wall time: 310 ms\n"
     ]
    }
   ],
   "source": [
    " %%time\n",
    "\n",
    "start = time.time()\n",
    "\n",
    "predict_rfr = model_rfr.predict(f_ohe_val)\n",
    "rmse_rfr = mean_squared_error(t_ohe_val, predict_rfr) **0.5\n",
    " \n",
    "end = time.time()\n",
    "eval_time_rfr_p = end-start\n",
    "print('RMSE:', round(rmse_rfr, 2))\n"
   ]
  },
  {
   "cell_type": "markdown",
   "metadata": {},
   "source": [
    "###  CatBoostRegressor"
   ]
  },
  {
   "cell_type": "code",
   "execution_count": 37,
   "metadata": {},
   "outputs": [
    {
     "name": "stdout",
     "output_type": "stream",
     "text": [
      "0:\tlearn: 3473.1786227\ttotal: 224ms\tremaining: 3m 43s\n",
      "100:\tlearn: 1675.8472754\ttotal: 2.66s\tremaining: 23.7s\n",
      "200:\tlearn: 1602.3393812\ttotal: 4.98s\tremaining: 19.8s\n",
      "300:\tlearn: 1557.6907170\ttotal: 7.3s\tremaining: 17s\n",
      "400:\tlearn: 1520.7548271\ttotal: 9.63s\tremaining: 14.4s\n",
      "500:\tlearn: 1496.2944892\ttotal: 11.9s\tremaining: 11.8s\n",
      "600:\tlearn: 1474.8753539\ttotal: 14.2s\tremaining: 9.44s\n",
      "700:\tlearn: 1456.7152306\ttotal: 16.5s\tremaining: 7.03s\n",
      "800:\tlearn: 1440.3263148\ttotal: 18.8s\tremaining: 4.68s\n",
      "900:\tlearn: 1425.4434912\ttotal: 21.1s\tremaining: 2.32s\n",
      "999:\tlearn: 1411.7423356\ttotal: 23.4s\tremaining: 0us\n",
      "CPU times: total: 1min 30s\n",
      "Wall time: 24 s\n"
     ]
    }
   ],
   "source": [
    "%%time\n",
    "start = time.time()\n",
    "\n",
    "model_cb = CatBoostRegressor(random_state=123, learning_rate=0.4 , verbose=100 ,n_estimators=1000)\n",
    "model_cb.fit(f_ohe_train, t_ohe_train)\n",
    "\n",
    "\n",
    "end = time.time()\n",
    "eval_time_cb_l = end-start"
   ]
  },
  {
   "cell_type": "code",
   "execution_count": 38,
   "metadata": {},
   "outputs": [
    {
     "name": "stdout",
     "output_type": "stream",
     "text": [
      "RMSE: 1624.28\n",
      "CPU times: total: 125 ms\n",
      "Wall time: 62.8 ms\n"
     ]
    }
   ],
   "source": [
    "%%time\n",
    "start = time.time()\n",
    "\n",
    "predict_cb = model_cb.predict(f_ohe_val)\n",
    "rmse_cb = mean_squared_error(t_ohe_val, predict_cb) **0.5\n",
    "\n",
    "end = time.time()\n",
    "eval_time_cb_p = end-start\n",
    "print('RMSE:', round(rmse_cb, 2))"
   ]
  },
  {
   "cell_type": "markdown",
   "metadata": {},
   "source": [
    "### LightGBMRegressor"
   ]
  },
  {
   "cell_type": "code",
   "execution_count": 39,
   "metadata": {},
   "outputs": [
    {
     "name": "stdout",
     "output_type": "stream",
     "text": [
      "[LightGBM] [Info] Auto-choosing row-wise multi-threading, the overhead of testing was 0.012634 seconds.\n",
      "You can set `force_row_wise=true` to remove the overhead.\n",
      "And if memory is not enough, you can set `force_col_wise=true`.\n",
      "[LightGBM] [Info] Total Bins 643\n",
      "[LightGBM] [Info] Number of data points in the train set: 178865, number of used features: 24\n",
      "[LightGBM] [Info] Start training from score 4765.414983\n",
      "CPU times: total: 2.08 s\n",
      "Wall time: 1.21 s\n"
     ]
    }
   ],
   "source": [
    "%%time\n",
    "\n",
    "start = time.time()\n",
    "\n",
    "model_lgbm = LGBMRegressor(n_estimators=100, random_state=12345, learning_rate=0.4)\n",
    "model_lgbm.fit(f_ohe_train, t_ohe_train)\n",
    "\n",
    "end = time.time()\n",
    "eval_time_lgbm_l = end-start"
   ]
  },
  {
   "cell_type": "code",
   "execution_count": 40,
   "metadata": {
    "scrolled": true
   },
   "outputs": [
    {
     "name": "stdout",
     "output_type": "stream",
     "text": [
      "RMSE: 1674.47\n",
      "CPU times: total: 375 ms\n",
      "Wall time: 202 ms\n"
     ]
    }
   ],
   "source": [
    "%%time\n",
    "\n",
    "start = time.time()\n",
    "\n",
    "predict_lgbm = model_lgbm.predict(f_ohe_val)\n",
    "rmse_lgbm = mean_squared_error(t_ohe_val, predict_lgbm) **0.5\n",
    "\n",
    "end = time.time()\n",
    "eval_time_lgbm_p = end-start\n",
    "print('RMSE:', round(rmse_lgbm, 2))"
   ]
  },
  {
   "cell_type": "markdown",
   "metadata": {},
   "source": [
    "Conclusion: \n",
    "\n",
    "We prepared the signs for training. OHE coding translated categorical into numeric features. We scaled the numerical features, since the features had a large range from 1 to thousands. Next, the LinearRegression, RandomForestRegressor, CatBoostRegressor, and LightGBMRegressor models were trained on the prepared samples."
   ]
  },
  {
   "cell_type": "markdown",
   "metadata": {},
   "source": [
    "## Model Analysis"
   ]
  },
  {
   "cell_type": "code",
   "execution_count": 41,
   "metadata": {},
   "outputs": [
    {
     "data": {
      "text/html": [
       "<div>\n",
       "<style scoped>\n",
       "    .dataframe tbody tr th:only-of-type {\n",
       "        vertical-align: middle;\n",
       "    }\n",
       "\n",
       "    .dataframe tbody tr th {\n",
       "        vertical-align: top;\n",
       "    }\n",
       "\n",
       "    .dataframe thead th {\n",
       "        text-align: right;\n",
       "    }\n",
       "</style>\n",
       "<table border=\"1\" class=\"dataframe\">\n",
       "  <thead>\n",
       "    <tr style=\"text-align: right;\">\n",
       "      <th></th>\n",
       "      <th>RMSE</th>\n",
       "      <th>Время обучения</th>\n",
       "      <th>Время предсказания</th>\n",
       "    </tr>\n",
       "  </thead>\n",
       "  <tbody>\n",
       "    <tr>\n",
       "      <th>LinearRegression</th>\n",
       "      <td>2788.478803</td>\n",
       "      <td>0.228309</td>\n",
       "      <td>0.025930</td>\n",
       "    </tr>\n",
       "    <tr>\n",
       "      <th>RandomForestRegressor</th>\n",
       "      <td>1696.844003</td>\n",
       "      <td>13.562713</td>\n",
       "      <td>0.309171</td>\n",
       "    </tr>\n",
       "    <tr>\n",
       "      <th>CatBoostRegressor</th>\n",
       "      <td>1624.282839</td>\n",
       "      <td>23.995847</td>\n",
       "      <td>0.062830</td>\n",
       "    </tr>\n",
       "    <tr>\n",
       "      <th>LightGBMRegressor</th>\n",
       "      <td>1674.473142</td>\n",
       "      <td>1.213307</td>\n",
       "      <td>0.202462</td>\n",
       "    </tr>\n",
       "  </tbody>\n",
       "</table>\n",
       "</div>"
      ],
      "text/plain": [
       "                              RMSE  Время обучения  Время предсказания\n",
       "LinearRegression       2788.478803        0.228309            0.025930\n",
       "RandomForestRegressor  1696.844003       13.562713            0.309171\n",
       "CatBoostRegressor      1624.282839       23.995847            0.062830\n",
       "LightGBMRegressor      1674.473142        1.213307            0.202462"
      ]
     },
     "metadata": {},
     "output_type": "display_data"
    }
   ],
   "source": [
    "# Let's put the data into a table\n",
    "index = ['LinearRegression', 'RandomForestRegressor', 'CatBoostRegressor', 'LightGBMRegressor']\n",
    "data = {'RMSE':  [rmse_lr_ohe, rmse_rfr, rmse_cb, rmse_lgbm],\n",
    "        'Время обучения':  [eval_time_lr_l, eval_time_rfr_l,  eval_time_cb_l, eval_time_lgbm_l],\n",
    "        'Время предсказания': [eval_time_lr_p, eval_time_rfr_p,  eval_time_cb_p, eval_time_lgbm_p]\n",
    "       }\n",
    "data_analysis = pd.DataFrame(data=data, index=index)\n",
    "display(data_analysis)"
   ]
  },
  {
   "cell_type": "markdown",
   "metadata": {},
   "source": [
    " In terms of RMSE, CatBoostRegressor wins (1624.28). The model training time is the highest, in terms of training it is in last place, and in terms of prediction it is in second place. LGBM is in second place in terms of quality and time spent on training and prediction. I would suggest using CatBoostRegressor for testing, since with a longer training time it has a faster time compared to LightGBMRegressor and a lower RMSE."
   ]
  },
  {
   "cell_type": "code",
   "execution_count": 42,
   "metadata": {},
   "outputs": [],
   "source": [
    "# Let's check CatBoostRegressor on a test sample"
   ]
  },
  {
   "cell_type": "code",
   "execution_count": 43,
   "metadata": {},
   "outputs": [
    {
     "name": "stdout",
     "output_type": "stream",
     "text": [
      "RMSE: 1625.24\n",
      "CPU times: total: 234 ms\n",
      "Wall time: 71.8 ms\n"
     ]
    }
   ],
   "source": [
    "%%time\n",
    "start = time.time()\n",
    "\n",
    "predict_cb = model_cb.predict(f_ohe_test)\n",
    "rmse_cb = mean_squared_error(t_ohe_test, predict_cb) **0.5\n",
    "\n",
    "end = time.time()\n",
    "eval_time_cb_p = end-start\n",
    "print('RMSE:', round(rmse_cb, 2))"
   ]
  },
  {
   "attachments": {
    "image-5.png": {
     "image/png": "[encoded data removed]"
    },
    "image-6.png": {
     "image/png": "[encoded data removed]"
    }
   },
   "cell_type": "markdown",
   "metadata": {},
   "source": [
    "Conclusion:\n",
    "\n",
    "1. During the work, we preprocessed the data. The columns Price, Power, RegistrationYear, Kilometer were cleared of outlier values, both small and large.\n",
    "\n",
    "NaN in all columns was classified as unknown.\n",
    "\n",
    "We checked for duplicates, found 4, but did not delete them, since upon closer examination the differences are visible.\n",
    "\n",
    "Removed columns 'DateCrawled', 'RegistrationMonth', 'DateCreated', 'NumberOfPictures', 'PostalCode', 'LastSeen' as columns that are not relevant for model training.\n",
    "\n",
    "During preprocessing, the approximate amount of data removed is 10% of the total data.\n",
    "\n",
    "2. When preparing the data, we divided it into three samples: training, validation and test. The test one makes up 10% of the entire dataset.\n",
    "\n",
    "Conducted coding of the following signs. columns 'VehicleType', 'RegistrationYear', 'Gearbox', 'Power', 'Kilometer', 'FuelType', 'Repaired' get_dummies.\n",
    "Used MEstimateEncoder to encode the Brand and Model columns since these columns contain a large number of unique values.\n",
    "Scaling StandardScaler 'RegistrationYear', 'Power', 'Kilometer', 'Model', 'Brand'.\n",
    "\n",
    "Trained LinearRegression, RandomForestRegressor, CatBoostRegressor, LightGBMRegressor models.\n",
    "We got the following results during training:\n",
    "![image-6.png](attachment:image-6.png)\n",
    "\n",
    "We chose CatBoostRegressor for testing, since with a longer training time it has a faster time compared to LightGBMRegressor and a lower RMSE.\n",
    "\n",
    "In the test this model showed:\n",
    "![image-5.png](attachment:image-5.png)\n",
    "\n",
    "The RMSE performance target should not exceed 2500.\n",
    "We have achieved our goal."
   ]
  },
  {
   "cell_type": "code",
   "execution_count": null,
   "metadata": {},
   "outputs": [],
   "source": []
  }
 ],
 "metadata": {
  "ExecuteTimeLog": [
   {
    "duration": 1236,
    "start_time": "2023-07-21T10:26:15.190Z"
   },
   {
    "duration": 1055,
    "start_time": "2023-07-21T10:28:06.164Z"
   },
   {
    "duration": 127,
    "start_time": "2023-07-21T10:30:09.929Z"
   },
   {
    "duration": 119,
    "start_time": "2023-07-21T10:34:31.703Z"
   },
   {
    "duration": 735,
    "start_time": "2023-07-21T10:53:59.569Z"
   },
   {
    "duration": 30,
    "start_time": "2023-07-21T11:04:55.947Z"
   },
   {
    "duration": 38,
    "start_time": "2023-07-21T11:07:00.725Z"
   },
   {
    "duration": 99,
    "start_time": "2023-07-21T11:09:01.056Z"
   },
   {
    "duration": 24,
    "start_time": "2023-07-21T11:15:57.154Z"
   },
   {
    "duration": 106,
    "start_time": "2023-07-21T11:19:19.137Z"
   },
   {
    "duration": 118,
    "start_time": "2023-07-21T11:26:49.752Z"
   },
   {
    "duration": 46,
    "start_time": "2023-07-21T11:27:00.877Z"
   },
   {
    "duration": 200,
    "start_time": "2023-07-21T11:35:45.837Z"
   },
   {
    "duration": 9,
    "start_time": "2023-07-21T11:36:26.802Z"
   },
   {
    "duration": 10,
    "start_time": "2023-07-21T11:36:58.737Z"
   },
   {
    "duration": 125,
    "start_time": "2023-07-21T11:37:41.963Z"
   },
   {
    "duration": 3,
    "start_time": "2023-07-21T11:37:47.367Z"
   },
   {
    "duration": 11,
    "start_time": "2023-07-21T11:37:53.395Z"
   },
   {
    "duration": 9,
    "start_time": "2023-07-21T11:38:03.193Z"
   },
   {
    "duration": 11,
    "start_time": "2023-07-21T11:40:31.918Z"
   },
   {
    "duration": 11,
    "start_time": "2023-07-21T11:45:11.691Z"
   },
   {
    "duration": 1351,
    "start_time": "2023-07-21T11:46:13.067Z"
   },
   {
    "duration": 978,
    "start_time": "2023-07-21T11:46:14.421Z"
   },
   {
    "duration": 142,
    "start_time": "2023-07-21T11:46:15.401Z"
   },
   {
    "duration": 127,
    "start_time": "2023-07-21T11:46:15.545Z"
   },
   {
    "duration": 465,
    "start_time": "2023-07-21T11:46:15.674Z"
   },
   {
    "duration": 129,
    "start_time": "2023-07-21T11:46:16.141Z"
   },
   {
    "duration": 38,
    "start_time": "2023-07-21T11:46:16.272Z"
   },
   {
    "duration": 246,
    "start_time": "2023-07-21T11:46:16.312Z"
   },
   {
    "duration": 10,
    "start_time": "2023-07-21T11:47:12.804Z"
   },
   {
    "duration": 15,
    "start_time": "2023-07-21T11:47:33.253Z"
   },
   {
    "duration": 14,
    "start_time": "2023-07-21T11:48:05.149Z"
   },
   {
    "duration": 13,
    "start_time": "2023-07-21T11:48:55.304Z"
   },
   {
    "duration": 1224,
    "start_time": "2023-07-21T11:49:15.477Z"
   },
   {
    "duration": 946,
    "start_time": "2023-07-21T11:49:16.704Z"
   },
   {
    "duration": 130,
    "start_time": "2023-07-21T11:49:17.651Z"
   },
   {
    "duration": 123,
    "start_time": "2023-07-21T11:49:17.784Z"
   },
   {
    "duration": 431,
    "start_time": "2023-07-21T11:49:17.908Z"
   },
   {
    "duration": 119,
    "start_time": "2023-07-21T11:49:18.341Z"
   },
   {
    "duration": 37,
    "start_time": "2023-07-21T11:49:18.461Z"
   },
   {
    "duration": 38,
    "start_time": "2023-07-21T11:49:27.980Z"
   },
   {
    "duration": 202,
    "start_time": "2023-07-21T11:50:27.206Z"
   },
   {
    "duration": 12,
    "start_time": "2023-07-21T11:50:53.120Z"
   },
   {
    "duration": 1202,
    "start_time": "2023-07-21T11:51:20.951Z"
   },
   {
    "duration": 1006,
    "start_time": "2023-07-21T11:51:22.155Z"
   },
   {
    "duration": 152,
    "start_time": "2023-07-21T11:51:23.164Z"
   },
   {
    "duration": 137,
    "start_time": "2023-07-21T11:51:23.318Z"
   },
   {
    "duration": 474,
    "start_time": "2023-07-21T11:51:23.457Z"
   },
   {
    "duration": 151,
    "start_time": "2023-07-21T11:51:23.933Z"
   },
   {
    "duration": 41,
    "start_time": "2023-07-21T11:51:24.086Z"
   },
   {
    "duration": 237,
    "start_time": "2023-07-21T11:51:24.129Z"
   },
   {
    "duration": 13,
    "start_time": "2023-07-21T11:51:45.354Z"
   },
   {
    "duration": 11,
    "start_time": "2023-07-21T11:52:18.321Z"
   },
   {
    "duration": 13,
    "start_time": "2023-07-21T11:52:28.525Z"
   },
   {
    "duration": 1517,
    "start_time": "2023-07-21T11:52:56.953Z"
   },
   {
    "duration": 1065,
    "start_time": "2023-07-21T11:52:58.473Z"
   },
   {
    "duration": 134,
    "start_time": "2023-07-21T11:52:59.540Z"
   },
   {
    "duration": 132,
    "start_time": "2023-07-21T11:52:59.678Z"
   },
   {
    "duration": 590,
    "start_time": "2023-07-21T11:52:59.812Z"
   },
   {
    "duration": 135,
    "start_time": "2023-07-21T11:53:00.405Z"
   },
   {
    "duration": 41,
    "start_time": "2023-07-21T11:53:00.542Z"
   },
   {
    "duration": 117,
    "start_time": "2023-07-21T11:56:08.171Z"
   },
   {
    "duration": 145,
    "start_time": "2023-07-21T11:56:32.566Z"
   },
   {
    "duration": 14,
    "start_time": "2023-07-21T12:10:02.141Z"
   },
   {
    "duration": 13,
    "start_time": "2023-07-21T12:10:12.235Z"
   },
   {
    "duration": 11,
    "start_time": "2023-07-21T12:10:46.513Z"
   },
   {
    "duration": 13,
    "start_time": "2023-07-21T12:11:22.288Z"
   },
   {
    "duration": 14,
    "start_time": "2023-07-21T12:15:03.262Z"
   },
   {
    "duration": 14,
    "start_time": "2023-07-21T12:15:34.542Z"
   },
   {
    "duration": 13,
    "start_time": "2023-07-21T12:16:01.759Z"
   },
   {
    "duration": 1254,
    "start_time": "2023-07-21T12:17:05.852Z"
   },
   {
    "duration": 939,
    "start_time": "2023-07-21T12:17:07.109Z"
   },
   {
    "duration": 146,
    "start_time": "2023-07-21T12:17:08.049Z"
   },
   {
    "duration": 128,
    "start_time": "2023-07-21T12:17:08.198Z"
   },
   {
    "duration": 477,
    "start_time": "2023-07-21T12:17:08.328Z"
   },
   {
    "duration": 123,
    "start_time": "2023-07-21T12:17:08.808Z"
   },
   {
    "duration": 40,
    "start_time": "2023-07-21T12:17:08.933Z"
   },
   {
    "duration": 54,
    "start_time": "2023-07-21T12:17:08.975Z"
   },
   {
    "duration": 11,
    "start_time": "2023-07-21T12:17:24.331Z"
   },
   {
    "duration": 13,
    "start_time": "2023-07-21T12:17:51.514Z"
   },
   {
    "duration": 11,
    "start_time": "2023-07-21T12:18:06.936Z"
   },
   {
    "duration": 1149,
    "start_time": "2023-07-21T12:18:36.388Z"
   },
   {
    "duration": 948,
    "start_time": "2023-07-21T12:18:37.539Z"
   },
   {
    "duration": 145,
    "start_time": "2023-07-21T12:18:38.489Z"
   },
   {
    "duration": 134,
    "start_time": "2023-07-21T12:18:38.636Z"
   },
   {
    "duration": 473,
    "start_time": "2023-07-21T12:18:38.772Z"
   },
   {
    "duration": 112,
    "start_time": "2023-07-21T12:18:39.247Z"
   },
   {
    "duration": 32,
    "start_time": "2023-07-21T12:18:39.368Z"
   },
   {
    "duration": 69,
    "start_time": "2023-07-21T12:18:39.402Z"
   },
   {
    "duration": 10,
    "start_time": "2023-07-21T12:18:52.570Z"
   },
   {
    "duration": 1273,
    "start_time": "2023-07-21T12:19:20.312Z"
   },
   {
    "duration": 973,
    "start_time": "2023-07-21T12:19:21.588Z"
   },
   {
    "duration": 133,
    "start_time": "2023-07-21T12:19:22.563Z"
   },
   {
    "duration": 135,
    "start_time": "2023-07-21T12:19:22.700Z"
   },
   {
    "duration": 485,
    "start_time": "2023-07-21T12:19:22.837Z"
   },
   {
    "duration": 128,
    "start_time": "2023-07-21T12:19:23.325Z"
   },
   {
    "duration": 46,
    "start_time": "2023-07-21T12:19:23.455Z"
   },
   {
    "duration": 90,
    "start_time": "2023-07-21T12:19:23.502Z"
   },
   {
    "duration": 158,
    "start_time": "2023-07-21T12:22:08.636Z"
   },
   {
    "duration": 44,
    "start_time": "2023-07-21T12:25:39.335Z"
   },
   {
    "duration": 49,
    "start_time": "2023-07-21T12:26:20.486Z"
   },
   {
    "duration": 119,
    "start_time": "2023-07-21T12:51:10.250Z"
   },
   {
    "duration": 5,
    "start_time": "2023-07-21T12:51:43.773Z"
   },
   {
    "duration": 1713,
    "start_time": "2023-07-21T12:51:54.836Z"
   },
   {
    "duration": 987,
    "start_time": "2023-07-21T12:51:56.551Z"
   },
   {
    "duration": 135,
    "start_time": "2023-07-21T12:51:57.540Z"
   },
   {
    "duration": 143,
    "start_time": "2023-07-21T12:51:57.677Z"
   },
   {
    "duration": 156,
    "start_time": "2023-07-21T12:51:57.823Z"
   },
   {
    "duration": 122,
    "start_time": "2023-07-21T12:51:57.981Z"
   },
   {
    "duration": 395,
    "start_time": "2023-07-21T12:51:58.105Z"
   },
   {
    "duration": 0,
    "start_time": "2023-07-21T12:51:58.502Z"
   },
   {
    "duration": 0,
    "start_time": "2023-07-21T12:51:58.503Z"
   },
   {
    "duration": 282,
    "start_time": "2023-07-21T12:52:36.359Z"
   },
   {
    "duration": 656,
    "start_time": "2023-07-21T12:53:49.834Z"
   },
   {
    "duration": 177,
    "start_time": "2023-07-21T12:54:47.890Z"
   },
   {
    "duration": 560,
    "start_time": "2023-07-21T12:55:01.837Z"
   },
   {
    "duration": 14,
    "start_time": "2023-07-21T12:59:15.729Z"
   },
   {
    "duration": 4659,
    "start_time": "2023-07-21T13:00:10.697Z"
   },
   {
    "duration": 1655,
    "start_time": "2023-07-22T09:44:12.875Z"
   },
   {
    "duration": 2841,
    "start_time": "2023-07-22T09:44:14.533Z"
   },
   {
    "duration": 112,
    "start_time": "2023-07-22T09:44:17.376Z"
   },
   {
    "duration": 114,
    "start_time": "2023-07-22T09:44:17.490Z"
   },
   {
    "duration": 132,
    "start_time": "2023-07-22T09:44:17.605Z"
   },
   {
    "duration": 99,
    "start_time": "2023-07-22T09:44:17.738Z"
   },
   {
    "duration": 4796,
    "start_time": "2023-07-22T09:44:17.838Z"
   },
   {
    "duration": 0,
    "start_time": "2023-07-22T09:44:22.635Z"
   },
   {
    "duration": 0,
    "start_time": "2023-07-22T09:44:22.637Z"
   },
   {
    "duration": 4260,
    "start_time": "2023-07-22T09:45:18.560Z"
   },
   {
    "duration": 75,
    "start_time": "2023-07-22T09:45:33.498Z"
   },
   {
    "duration": 54145,
    "start_time": "2023-07-22T09:46:12.401Z"
   },
   {
    "duration": 152,
    "start_time": "2023-07-22T09:51:28.376Z"
   },
   {
    "duration": 173,
    "start_time": "2023-07-22T09:52:13.936Z"
   },
   {
    "duration": 54,
    "start_time": "2023-07-23T09:00:45.983Z"
   },
   {
    "duration": 1812,
    "start_time": "2023-07-23T09:00:56.049Z"
   },
   {
    "duration": 2876,
    "start_time": "2023-07-23T09:00:57.863Z"
   },
   {
    "duration": 120,
    "start_time": "2023-07-23T09:01:00.740Z"
   },
   {
    "duration": 113,
    "start_time": "2023-07-23T09:01:00.862Z"
   },
   {
    "duration": 136,
    "start_time": "2023-07-23T09:01:00.977Z"
   },
   {
    "duration": 105,
    "start_time": "2023-07-23T09:01:01.115Z"
   },
   {
    "duration": 170,
    "start_time": "2023-07-23T09:01:01.223Z"
   },
   {
    "duration": 38,
    "start_time": "2023-07-23T09:01:01.394Z"
   },
   {
    "duration": 145,
    "start_time": "2023-07-23T09:01:01.434Z"
   },
   {
    "duration": 105,
    "start_time": "2023-07-23T09:05:18.668Z"
   },
   {
    "duration": 13,
    "start_time": "2023-07-23T09:05:28.849Z"
   },
   {
    "duration": 12,
    "start_time": "2023-07-23T09:05:35.851Z"
   },
   {
    "duration": 11,
    "start_time": "2023-07-23T09:05:52.360Z"
   },
   {
    "duration": 160,
    "start_time": "2023-07-23T09:06:05.889Z"
   },
   {
    "duration": 19,
    "start_time": "2023-07-23T09:06:20.015Z"
   },
   {
    "duration": 10,
    "start_time": "2023-07-23T09:06:30.293Z"
   },
   {
    "duration": 12,
    "start_time": "2023-07-23T09:06:46.485Z"
   },
   {
    "duration": 11,
    "start_time": "2023-07-23T09:10:39.349Z"
   },
   {
    "duration": 11,
    "start_time": "2023-07-23T09:10:48.174Z"
   },
   {
    "duration": 13,
    "start_time": "2023-07-23T09:10:54.521Z"
   },
   {
    "duration": 11,
    "start_time": "2023-07-23T09:12:02.678Z"
   },
   {
    "duration": 15,
    "start_time": "2023-07-23T09:13:41.929Z"
   },
   {
    "duration": 12,
    "start_time": "2023-07-23T09:13:55.549Z"
   },
   {
    "duration": 13,
    "start_time": "2023-07-23T09:14:12.995Z"
   },
   {
    "duration": 16,
    "start_time": "2023-07-23T09:15:43.937Z"
   },
   {
    "duration": 11,
    "start_time": "2023-07-23T09:16:51.443Z"
   },
   {
    "duration": 11,
    "start_time": "2023-07-23T09:17:06.663Z"
   },
   {
    "duration": 1314,
    "start_time": "2023-07-23T09:17:57.840Z"
   },
   {
    "duration": 739,
    "start_time": "2023-07-23T09:17:59.156Z"
   },
   {
    "duration": 116,
    "start_time": "2023-07-23T09:17:59.896Z"
   },
   {
    "duration": 109,
    "start_time": "2023-07-23T09:18:00.014Z"
   },
   {
    "duration": 126,
    "start_time": "2023-07-23T09:18:00.125Z"
   },
   {
    "duration": 96,
    "start_time": "2023-07-23T09:18:00.252Z"
   },
   {
    "duration": 154,
    "start_time": "2023-07-23T09:18:00.350Z"
   },
   {
    "duration": 26,
    "start_time": "2023-07-23T09:18:00.507Z"
   },
   {
    "duration": 18,
    "start_time": "2023-07-23T09:18:00.535Z"
   },
   {
    "duration": 15,
    "start_time": "2023-07-23T09:18:31.358Z"
   },
   {
    "duration": 14,
    "start_time": "2023-07-23T09:19:04.486Z"
   },
   {
    "duration": 136,
    "start_time": "2023-07-23T09:22:21.968Z"
   },
   {
    "duration": 124,
    "start_time": "2023-07-23T09:22:38.165Z"
   },
   {
    "duration": 1324,
    "start_time": "2023-07-23T09:22:51.421Z"
   },
   {
    "duration": 720,
    "start_time": "2023-07-23T09:22:52.747Z"
   },
   {
    "duration": 100,
    "start_time": "2023-07-23T09:22:53.469Z"
   },
   {
    "duration": 129,
    "start_time": "2023-07-23T09:22:53.571Z"
   },
   {
    "duration": 128,
    "start_time": "2023-07-23T09:22:53.705Z"
   },
   {
    "duration": 95,
    "start_time": "2023-07-23T09:22:53.834Z"
   },
   {
    "duration": 161,
    "start_time": "2023-07-23T09:22:53.931Z"
   },
   {
    "duration": 27,
    "start_time": "2023-07-23T09:22:54.094Z"
   },
   {
    "duration": 16,
    "start_time": "2023-07-23T09:22:54.122Z"
   },
   {
    "duration": 154,
    "start_time": "2023-07-23T09:22:54.139Z"
   },
   {
    "duration": 191,
    "start_time": "2023-07-23T09:34:19.692Z"
   },
   {
    "duration": 101,
    "start_time": "2023-07-23T09:43:15.265Z"
   },
   {
    "duration": 54,
    "start_time": "2023-07-23T09:44:24.503Z"
   },
   {
    "duration": 8,
    "start_time": "2023-07-23T09:45:26.481Z"
   },
   {
    "duration": 1372,
    "start_time": "2023-07-23T09:45:50.870Z"
   },
   {
    "duration": 823,
    "start_time": "2023-07-23T09:45:52.245Z"
   },
   {
    "duration": 129,
    "start_time": "2023-07-23T09:45:53.069Z"
   },
   {
    "duration": 120,
    "start_time": "2023-07-23T09:45:53.200Z"
   },
   {
    "duration": 125,
    "start_time": "2023-07-23T09:45:53.321Z"
   },
   {
    "duration": 94,
    "start_time": "2023-07-23T09:45:53.448Z"
   },
   {
    "duration": 160,
    "start_time": "2023-07-23T09:45:53.543Z"
   },
   {
    "duration": 35,
    "start_time": "2023-07-23T09:45:53.708Z"
   },
   {
    "duration": 14,
    "start_time": "2023-07-23T09:45:53.746Z"
   },
   {
    "duration": 135,
    "start_time": "2023-07-23T09:45:53.762Z"
   },
   {
    "duration": 183,
    "start_time": "2023-07-23T09:45:53.898Z"
   },
   {
    "duration": 9,
    "start_time": "2023-07-23T09:45:54.083Z"
   },
   {
    "duration": 53,
    "start_time": "2023-07-23T09:46:49.397Z"
   },
   {
    "duration": 10,
    "start_time": "2023-07-23T09:48:23.303Z"
   },
   {
    "duration": 112,
    "start_time": "2023-07-23T09:49:26.888Z"
   },
   {
    "duration": 35,
    "start_time": "2023-07-23T09:50:26.564Z"
   },
   {
    "duration": 18,
    "start_time": "2023-07-23T09:50:54.705Z"
   },
   {
    "duration": 10,
    "start_time": "2023-07-23T09:51:16.843Z"
   },
   {
    "duration": 10,
    "start_time": "2023-07-23T09:51:33.175Z"
   },
   {
    "duration": 9,
    "start_time": "2023-07-23T09:51:41.481Z"
   },
   {
    "duration": 42,
    "start_time": "2023-07-23T09:52:06.808Z"
   },
   {
    "duration": 1144,
    "start_time": "2023-07-23T09:53:53.683Z"
   },
   {
    "duration": 26,
    "start_time": "2023-07-23T09:54:05.661Z"
   },
   {
    "duration": 28,
    "start_time": "2023-07-23T09:54:26.105Z"
   },
   {
    "duration": 29,
    "start_time": "2023-07-23T09:55:55.000Z"
   },
   {
    "duration": 17,
    "start_time": "2023-07-23T09:56:03.846Z"
   },
   {
    "duration": 7,
    "start_time": "2023-07-23T09:56:17.495Z"
   },
   {
    "duration": 8,
    "start_time": "2023-07-23T09:56:31.193Z"
   },
   {
    "duration": 8,
    "start_time": "2023-07-23T09:57:21.653Z"
   },
   {
    "duration": 23,
    "start_time": "2023-07-23T09:57:56.945Z"
   },
   {
    "duration": 27,
    "start_time": "2023-07-23T09:58:38.799Z"
   },
   {
    "duration": 118,
    "start_time": "2023-07-23T10:06:41.763Z"
   },
   {
    "duration": 10,
    "start_time": "2023-07-23T10:38:27.907Z"
   },
   {
    "duration": 1429,
    "start_time": "2023-07-23T11:50:51.550Z"
   },
   {
    "duration": 1672,
    "start_time": "2023-07-23T11:50:52.981Z"
   },
   {
    "duration": 117,
    "start_time": "2023-07-23T11:50:54.655Z"
   },
   {
    "duration": 137,
    "start_time": "2023-07-23T11:50:54.774Z"
   },
   {
    "duration": 138,
    "start_time": "2023-07-23T11:50:54.913Z"
   },
   {
    "duration": 90,
    "start_time": "2023-07-23T11:50:55.053Z"
   },
   {
    "duration": 202,
    "start_time": "2023-07-23T11:50:55.146Z"
   },
   {
    "duration": 25,
    "start_time": "2023-07-23T11:50:55.350Z"
   },
   {
    "duration": 16,
    "start_time": "2023-07-23T11:50:55.376Z"
   },
   {
    "duration": 163,
    "start_time": "2023-07-23T11:50:55.394Z"
   },
   {
    "duration": 175,
    "start_time": "2023-07-23T11:50:55.558Z"
   },
   {
    "duration": 22,
    "start_time": "2023-07-23T11:50:55.735Z"
   },
   {
    "duration": 154,
    "start_time": "2023-07-23T11:50:55.759Z"
   },
   {
    "duration": 6,
    "start_time": "2023-07-23T11:50:55.916Z"
   },
   {
    "duration": 47,
    "start_time": "2023-07-23T11:50:55.924Z"
   },
   {
    "duration": 120,
    "start_time": "2023-07-23T11:51:27.250Z"
   },
   {
    "duration": 26,
    "start_time": "2023-07-23T11:53:35.840Z"
   },
   {
    "duration": 33,
    "start_time": "2023-07-23T12:06:00.016Z"
   },
   {
    "duration": 1407,
    "start_time": "2023-07-23T12:06:10.295Z"
   },
   {
    "duration": 3038,
    "start_time": "2023-07-23T12:06:11.703Z"
   },
   {
    "duration": 121,
    "start_time": "2023-07-23T12:06:14.743Z"
   },
   {
    "duration": 113,
    "start_time": "2023-07-23T12:06:14.867Z"
   },
   {
    "duration": 201,
    "start_time": "2023-07-23T12:06:14.982Z"
   },
   {
    "duration": 110,
    "start_time": "2023-07-23T12:06:15.185Z"
   },
   {
    "duration": 179,
    "start_time": "2023-07-23T12:06:15.296Z"
   },
   {
    "duration": 30,
    "start_time": "2023-07-23T12:06:15.476Z"
   },
   {
    "duration": 41,
    "start_time": "2023-07-23T12:06:15.508Z"
   },
   {
    "duration": 132,
    "start_time": "2023-07-23T12:06:15.551Z"
   },
   {
    "duration": 147,
    "start_time": "2023-07-23T12:06:15.684Z"
   },
   {
    "duration": 20,
    "start_time": "2023-07-23T12:06:15.833Z"
   },
   {
    "duration": 138,
    "start_time": "2023-07-23T12:06:15.855Z"
   },
   {
    "duration": 13,
    "start_time": "2023-07-23T12:06:15.994Z"
   },
   {
    "duration": 139,
    "start_time": "2023-07-23T12:06:16.008Z"
   },
   {
    "duration": 24,
    "start_time": "2023-07-23T12:06:16.148Z"
   },
   {
    "duration": 26,
    "start_time": "2023-07-23T12:07:33.764Z"
   },
   {
    "duration": 1428,
    "start_time": "2023-07-23T12:07:42.335Z"
   },
   {
    "duration": 800,
    "start_time": "2023-07-23T12:07:43.765Z"
   },
   {
    "duration": 133,
    "start_time": "2023-07-23T12:07:44.566Z"
   },
   {
    "duration": 128,
    "start_time": "2023-07-23T12:07:44.707Z"
   },
   {
    "duration": 135,
    "start_time": "2023-07-23T12:07:44.837Z"
   },
   {
    "duration": 111,
    "start_time": "2023-07-23T12:07:44.974Z"
   },
   {
    "duration": 177,
    "start_time": "2023-07-23T12:07:45.086Z"
   },
   {
    "duration": 23,
    "start_time": "2023-07-23T12:07:45.265Z"
   },
   {
    "duration": 29,
    "start_time": "2023-07-23T12:07:45.289Z"
   },
   {
    "duration": 149,
    "start_time": "2023-07-23T12:07:45.322Z"
   },
   {
    "duration": 169,
    "start_time": "2023-07-23T12:07:45.473Z"
   },
   {
    "duration": 19,
    "start_time": "2023-07-23T12:07:45.644Z"
   },
   {
    "duration": 138,
    "start_time": "2023-07-23T12:07:45.665Z"
   },
   {
    "duration": 5,
    "start_time": "2023-07-23T12:07:45.808Z"
   },
   {
    "duration": 138,
    "start_time": "2023-07-23T12:07:45.814Z"
   },
   {
    "duration": 24,
    "start_time": "2023-07-23T12:07:45.954Z"
   },
   {
    "duration": 1111,
    "start_time": "2023-07-23T12:16:12.311Z"
   },
   {
    "duration": 1285,
    "start_time": "2023-07-23T12:17:46.265Z"
   },
   {
    "duration": 945,
    "start_time": "2023-07-23T12:17:47.552Z"
   },
   {
    "duration": 104,
    "start_time": "2023-07-23T12:17:48.499Z"
   },
   {
    "duration": 119,
    "start_time": "2023-07-23T12:17:48.605Z"
   },
   {
    "duration": 129,
    "start_time": "2023-07-23T12:17:48.727Z"
   },
   {
    "duration": 104,
    "start_time": "2023-07-23T12:17:48.858Z"
   },
   {
    "duration": 181,
    "start_time": "2023-07-23T12:17:48.964Z"
   },
   {
    "duration": 22,
    "start_time": "2023-07-23T12:17:49.147Z"
   },
   {
    "duration": 14,
    "start_time": "2023-07-23T12:17:49.171Z"
   },
   {
    "duration": 137,
    "start_time": "2023-07-23T12:17:49.206Z"
   },
   {
    "duration": 143,
    "start_time": "2023-07-23T12:17:49.345Z"
   },
   {
    "duration": 39,
    "start_time": "2023-07-23T12:17:49.490Z"
   },
   {
    "duration": 137,
    "start_time": "2023-07-23T12:17:49.531Z"
   },
   {
    "duration": 5,
    "start_time": "2023-07-23T12:17:49.670Z"
   },
   {
    "duration": 126,
    "start_time": "2023-07-23T12:17:49.676Z"
   },
   {
    "duration": 33,
    "start_time": "2023-07-23T12:17:49.807Z"
   },
   {
    "duration": 1006,
    "start_time": "2023-07-23T12:17:49.841Z"
   },
   {
    "duration": 131,
    "start_time": "2023-07-23T12:19:31.369Z"
   },
   {
    "duration": 10,
    "start_time": "2023-07-23T12:19:48.069Z"
   },
   {
    "duration": 12,
    "start_time": "2023-07-23T12:21:30.549Z"
   },
   {
    "duration": 67,
    "start_time": "2023-07-23T12:23:07.490Z"
   },
   {
    "duration": 73,
    "start_time": "2023-07-23T12:23:30.460Z"
   },
   {
    "duration": 74,
    "start_time": "2023-07-23T12:23:55.706Z"
   },
   {
    "duration": 42,
    "start_time": "2023-07-23T12:24:19.249Z"
   },
   {
    "duration": 48,
    "start_time": "2023-07-23T12:28:15.110Z"
   },
   {
    "duration": 18,
    "start_time": "2023-07-23T12:34:48.728Z"
   },
   {
    "duration": 28,
    "start_time": "2023-07-23T12:35:39.248Z"
   },
   {
    "duration": 40,
    "start_time": "2023-07-23T12:35:45.629Z"
   },
   {
    "duration": 1441,
    "start_time": "2023-07-23T13:50:11.412Z"
   },
   {
    "duration": 943,
    "start_time": "2023-07-23T13:50:12.855Z"
   },
   {
    "duration": 103,
    "start_time": "2023-07-23T13:50:13.800Z"
   },
   {
    "duration": 110,
    "start_time": "2023-07-23T13:50:13.905Z"
   },
   {
    "duration": 114,
    "start_time": "2023-07-23T13:50:14.016Z"
   },
   {
    "duration": 92,
    "start_time": "2023-07-23T13:50:14.131Z"
   },
   {
    "duration": 153,
    "start_time": "2023-07-23T13:50:14.224Z"
   },
   {
    "duration": 25,
    "start_time": "2023-07-23T13:50:14.378Z"
   },
   {
    "duration": 10,
    "start_time": "2023-07-23T13:50:14.405Z"
   },
   {
    "duration": 137,
    "start_time": "2023-07-23T13:50:14.417Z"
   },
   {
    "duration": 149,
    "start_time": "2023-07-23T13:50:14.555Z"
   },
   {
    "duration": 17,
    "start_time": "2023-07-23T13:50:14.705Z"
   },
   {
    "duration": 125,
    "start_time": "2023-07-23T13:50:14.724Z"
   },
   {
    "duration": 5,
    "start_time": "2023-07-23T13:50:14.850Z"
   },
   {
    "duration": 117,
    "start_time": "2023-07-23T13:50:14.856Z"
   },
   {
    "duration": 31,
    "start_time": "2023-07-23T13:50:14.974Z"
   },
   {
    "duration": 81,
    "start_time": "2023-07-23T13:50:15.006Z"
   },
   {
    "duration": 118,
    "start_time": "2023-07-23T13:50:15.088Z"
   },
   {
    "duration": 12,
    "start_time": "2023-07-23T13:52:47.492Z"
   },
   {
    "duration": 402,
    "start_time": "2023-07-23T13:53:34.088Z"
   },
   {
    "duration": 407,
    "start_time": "2023-07-23T13:56:29.420Z"
   },
   {
    "duration": 20,
    "start_time": "2023-07-23T13:57:58.427Z"
   },
   {
    "duration": 6,
    "start_time": "2023-07-23T13:58:05.023Z"
   },
   {
    "duration": 21,
    "start_time": "2023-07-23T13:58:18.934Z"
   },
   {
    "duration": 133,
    "start_time": "2023-07-23T14:04:53.111Z"
   },
   {
    "duration": 95,
    "start_time": "2023-07-23T14:05:13.092Z"
   },
   {
    "duration": 10,
    "start_time": "2023-07-23T14:06:58.388Z"
   },
   {
    "duration": 11,
    "start_time": "2023-07-23T14:08:00.826Z"
   },
   {
    "duration": 91,
    "start_time": "2023-07-23T14:09:07.003Z"
   },
   {
    "duration": 9,
    "start_time": "2023-07-23T14:09:19.383Z"
   },
   {
    "duration": 9,
    "start_time": "2023-07-23T14:10:07.990Z"
   },
   {
    "duration": 10,
    "start_time": "2023-07-23T14:10:30.623Z"
   },
   {
    "duration": 95,
    "start_time": "2023-07-23T14:17:45.889Z"
   },
   {
    "duration": 907,
    "start_time": "2023-07-23T14:17:55.350Z"
   },
   {
    "duration": 800,
    "start_time": "2023-07-23T14:19:00.924Z"
   },
   {
    "duration": 899,
    "start_time": "2023-07-23T14:20:16.536Z"
   },
   {
    "duration": 1373,
    "start_time": "2023-07-23T14:21:06.786Z"
   },
   {
    "duration": 689,
    "start_time": "2023-07-23T14:21:08.160Z"
   },
   {
    "duration": 118,
    "start_time": "2023-07-23T14:21:08.850Z"
   },
   {
    "duration": 105,
    "start_time": "2023-07-23T14:21:08.970Z"
   },
   {
    "duration": 120,
    "start_time": "2023-07-23T14:21:09.077Z"
   },
   {
    "duration": 79,
    "start_time": "2023-07-23T14:21:09.199Z"
   },
   {
    "duration": 155,
    "start_time": "2023-07-23T14:21:09.280Z"
   },
   {
    "duration": 18,
    "start_time": "2023-07-23T14:21:09.437Z"
   },
   {
    "duration": 10,
    "start_time": "2023-07-23T14:21:09.456Z"
   },
   {
    "duration": 138,
    "start_time": "2023-07-23T14:21:09.468Z"
   },
   {
    "duration": 140,
    "start_time": "2023-07-23T14:21:09.607Z"
   },
   {
    "duration": 17,
    "start_time": "2023-07-23T14:21:09.748Z"
   },
   {
    "duration": 139,
    "start_time": "2023-07-23T14:21:09.767Z"
   },
   {
    "duration": 6,
    "start_time": "2023-07-23T14:21:09.908Z"
   },
   {
    "duration": 127,
    "start_time": "2023-07-23T14:21:09.915Z"
   },
   {
    "duration": 22,
    "start_time": "2023-07-23T14:21:10.043Z"
   },
   {
    "duration": 36,
    "start_time": "2023-07-23T14:21:10.066Z"
   },
   {
    "duration": 21,
    "start_time": "2023-07-23T14:21:10.104Z"
   },
   {
    "duration": 893,
    "start_time": "2023-07-23T14:21:10.126Z"
   },
   {
    "duration": 2431,
    "start_time": "2023-07-23T14:22:58.346Z"
   },
   {
    "duration": 1358,
    "start_time": "2023-07-23T14:24:07.091Z"
   },
   {
    "duration": 677,
    "start_time": "2023-07-23T14:24:08.451Z"
   },
   {
    "duration": 136,
    "start_time": "2023-07-23T14:24:09.129Z"
   },
   {
    "duration": 117,
    "start_time": "2023-07-23T14:24:09.267Z"
   },
   {
    "duration": 129,
    "start_time": "2023-07-23T14:24:09.386Z"
   },
   {
    "duration": 86,
    "start_time": "2023-07-23T14:24:09.517Z"
   },
   {
    "duration": 153,
    "start_time": "2023-07-23T14:24:09.604Z"
   },
   {
    "duration": 27,
    "start_time": "2023-07-23T14:24:09.759Z"
   },
   {
    "duration": 15,
    "start_time": "2023-07-23T14:24:09.799Z"
   },
   {
    "duration": 132,
    "start_time": "2023-07-23T14:24:09.816Z"
   },
   {
    "duration": 151,
    "start_time": "2023-07-23T14:24:09.949Z"
   },
   {
    "duration": 17,
    "start_time": "2023-07-23T14:24:10.102Z"
   },
   {
    "duration": 136,
    "start_time": "2023-07-23T14:24:10.121Z"
   },
   {
    "duration": 6,
    "start_time": "2023-07-23T14:24:10.259Z"
   },
   {
    "duration": 128,
    "start_time": "2023-07-23T14:24:10.266Z"
   },
   {
    "duration": 25,
    "start_time": "2023-07-23T14:24:10.396Z"
   },
   {
    "duration": 22,
    "start_time": "2023-07-23T14:24:10.423Z"
   },
   {
    "duration": 6,
    "start_time": "2023-07-23T14:24:10.446Z"
   },
   {
    "duration": 2500,
    "start_time": "2023-07-23T14:24:10.453Z"
   },
   {
    "duration": 12,
    "start_time": "2023-07-23T14:35:47.570Z"
   },
   {
    "duration": 1265,
    "start_time": "2023-07-23T14:36:02.202Z"
   },
   {
    "duration": 682,
    "start_time": "2023-07-23T14:36:03.469Z"
   },
   {
    "duration": 98,
    "start_time": "2023-07-23T14:36:04.153Z"
   },
   {
    "duration": 99,
    "start_time": "2023-07-23T14:36:04.253Z"
   },
   {
    "duration": 118,
    "start_time": "2023-07-23T14:36:04.354Z"
   },
   {
    "duration": 88,
    "start_time": "2023-07-23T14:36:04.473Z"
   },
   {
    "duration": 154,
    "start_time": "2023-07-23T14:36:04.562Z"
   },
   {
    "duration": 19,
    "start_time": "2023-07-23T14:36:04.717Z"
   },
   {
    "duration": 10,
    "start_time": "2023-07-23T14:36:04.737Z"
   },
   {
    "duration": 137,
    "start_time": "2023-07-23T14:36:04.749Z"
   },
   {
    "duration": 144,
    "start_time": "2023-07-23T14:36:04.888Z"
   },
   {
    "duration": 17,
    "start_time": "2023-07-23T14:36:05.034Z"
   },
   {
    "duration": 147,
    "start_time": "2023-07-23T14:36:05.053Z"
   },
   {
    "duration": 6,
    "start_time": "2023-07-23T14:36:05.201Z"
   },
   {
    "duration": 121,
    "start_time": "2023-07-23T14:36:05.208Z"
   },
   {
    "duration": 22,
    "start_time": "2023-07-23T14:36:05.330Z"
   },
   {
    "duration": 47,
    "start_time": "2023-07-23T14:36:05.353Z"
   },
   {
    "duration": 5,
    "start_time": "2023-07-23T14:36:05.402Z"
   },
   {
    "duration": 115,
    "start_time": "2023-07-23T14:36:05.409Z"
   },
   {
    "duration": 23,
    "start_time": "2023-07-23T14:36:50.422Z"
   },
   {
    "duration": 1224,
    "start_time": "2023-07-23T14:37:15.945Z"
   },
   {
    "duration": 686,
    "start_time": "2023-07-23T14:37:17.171Z"
   },
   {
    "duration": 107,
    "start_time": "2023-07-23T14:37:17.858Z"
   },
   {
    "duration": 100,
    "start_time": "2023-07-23T14:37:17.966Z"
   },
   {
    "duration": 134,
    "start_time": "2023-07-23T14:37:18.068Z"
   },
   {
    "duration": 79,
    "start_time": "2023-07-23T14:37:18.203Z"
   },
   {
    "duration": 159,
    "start_time": "2023-07-23T14:37:18.284Z"
   },
   {
    "duration": 23,
    "start_time": "2023-07-23T14:37:18.444Z"
   },
   {
    "duration": 12,
    "start_time": "2023-07-23T14:37:18.469Z"
   },
   {
    "duration": 147,
    "start_time": "2023-07-23T14:37:18.500Z"
   },
   {
    "duration": 148,
    "start_time": "2023-07-23T14:37:18.649Z"
   },
   {
    "duration": 17,
    "start_time": "2023-07-23T14:37:18.799Z"
   },
   {
    "duration": 129,
    "start_time": "2023-07-23T14:37:18.818Z"
   },
   {
    "duration": 5,
    "start_time": "2023-07-23T14:37:18.948Z"
   },
   {
    "duration": 123,
    "start_time": "2023-07-23T14:37:18.954Z"
   },
   {
    "duration": 28,
    "start_time": "2023-07-23T14:37:19.078Z"
   },
   {
    "duration": 20,
    "start_time": "2023-07-23T14:37:19.108Z"
   },
   {
    "duration": 5,
    "start_time": "2023-07-23T14:37:19.129Z"
   },
   {
    "duration": 21,
    "start_time": "2023-07-23T14:37:19.135Z"
   },
   {
    "duration": 22,
    "start_time": "2023-07-23T14:53:44.026Z"
   },
   {
    "duration": 97,
    "start_time": "2023-07-23T14:54:28.492Z"
   },
   {
    "duration": 181,
    "start_time": "2023-07-23T14:55:40.289Z"
   },
   {
    "duration": 37,
    "start_time": "2023-07-23T14:58:17.999Z"
   },
   {
    "duration": 1300,
    "start_time": "2023-07-23T14:58:31.301Z"
   },
   {
    "duration": 693,
    "start_time": "2023-07-23T14:58:32.603Z"
   },
   {
    "duration": 101,
    "start_time": "2023-07-23T14:58:33.299Z"
   },
   {
    "duration": 100,
    "start_time": "2023-07-23T14:58:33.402Z"
   },
   {
    "duration": 124,
    "start_time": "2023-07-23T14:58:33.504Z"
   },
   {
    "duration": 84,
    "start_time": "2023-07-23T14:58:33.630Z"
   },
   {
    "duration": 149,
    "start_time": "2023-07-23T14:58:33.715Z"
   },
   {
    "duration": 18,
    "start_time": "2023-07-23T14:58:33.865Z"
   },
   {
    "duration": 21,
    "start_time": "2023-07-23T14:58:33.884Z"
   },
   {
    "duration": 128,
    "start_time": "2023-07-23T14:58:33.907Z"
   },
   {
    "duration": 139,
    "start_time": "2023-07-23T14:58:34.037Z"
   },
   {
    "duration": 23,
    "start_time": "2023-07-23T14:58:34.178Z"
   },
   {
    "duration": 128,
    "start_time": "2023-07-23T14:58:34.202Z"
   },
   {
    "duration": 4,
    "start_time": "2023-07-23T14:58:34.331Z"
   },
   {
    "duration": 121,
    "start_time": "2023-07-23T14:58:34.337Z"
   },
   {
    "duration": 22,
    "start_time": "2023-07-23T14:58:34.459Z"
   },
   {
    "duration": 90,
    "start_time": "2023-07-23T14:58:34.482Z"
   },
   {
    "duration": 198,
    "start_time": "2023-07-23T14:58:34.574Z"
   },
   {
    "duration": 45,
    "start_time": "2023-07-23T14:58:34.773Z"
   },
   {
    "duration": 6,
    "start_time": "2023-07-23T15:05:33.455Z"
   },
   {
    "duration": 83,
    "start_time": "2023-07-23T15:05:50.164Z"
   },
   {
    "duration": 21,
    "start_time": "2023-07-23T15:06:05.834Z"
   },
   {
    "duration": 22,
    "start_time": "2023-07-23T15:10:48.837Z"
   },
   {
    "duration": 10,
    "start_time": "2023-07-23T15:11:03.475Z"
   },
   {
    "duration": 9,
    "start_time": "2023-07-23T15:11:17.590Z"
   },
   {
    "duration": 1320,
    "start_time": "2023-07-23T15:11:41.695Z"
   },
   {
    "duration": 701,
    "start_time": "2023-07-23T15:11:43.017Z"
   },
   {
    "duration": 105,
    "start_time": "2023-07-23T15:11:43.720Z"
   },
   {
    "duration": 105,
    "start_time": "2023-07-23T15:11:43.827Z"
   },
   {
    "duration": 119,
    "start_time": "2023-07-23T15:11:43.934Z"
   },
   {
    "duration": 85,
    "start_time": "2023-07-23T15:11:44.054Z"
   },
   {
    "duration": 154,
    "start_time": "2023-07-23T15:11:44.141Z"
   },
   {
    "duration": 21,
    "start_time": "2023-07-23T15:11:44.299Z"
   },
   {
    "duration": 10,
    "start_time": "2023-07-23T15:11:44.322Z"
   },
   {
    "duration": 138,
    "start_time": "2023-07-23T15:11:44.334Z"
   },
   {
    "duration": 145,
    "start_time": "2023-07-23T15:11:44.474Z"
   },
   {
    "duration": 16,
    "start_time": "2023-07-23T15:11:44.621Z"
   },
   {
    "duration": 130,
    "start_time": "2023-07-23T15:11:44.639Z"
   },
   {
    "duration": 5,
    "start_time": "2023-07-23T15:11:44.770Z"
   },
   {
    "duration": 119,
    "start_time": "2023-07-23T15:11:44.776Z"
   },
   {
    "duration": 20,
    "start_time": "2023-07-23T15:11:44.897Z"
   },
   {
    "duration": 92,
    "start_time": "2023-07-23T15:11:44.918Z"
   },
   {
    "duration": 198,
    "start_time": "2023-07-23T15:11:45.012Z"
   },
   {
    "duration": 47,
    "start_time": "2023-07-23T15:11:45.211Z"
   },
   {
    "duration": 16,
    "start_time": "2023-07-23T15:11:45.259Z"
   },
   {
    "duration": 59,
    "start_time": "2023-07-23T15:11:45.277Z"
   },
   {
    "duration": 111,
    "start_time": "2023-07-23T15:19:34.952Z"
   },
   {
    "duration": 15,
    "start_time": "2023-07-23T15:19:42.794Z"
   },
   {
    "duration": 15,
    "start_time": "2023-07-23T15:23:37.135Z"
   },
   {
    "duration": 27,
    "start_time": "2023-07-23T15:24:03.615Z"
   },
   {
    "duration": 2907,
    "start_time": "2023-07-23T15:25:19.133Z"
   },
   {
    "duration": 720,
    "start_time": "2023-07-23T15:25:22.042Z"
   },
   {
    "duration": 99,
    "start_time": "2023-07-23T15:25:22.763Z"
   },
   {
    "duration": 132,
    "start_time": "2023-07-23T15:25:22.864Z"
   },
   {
    "duration": 120,
    "start_time": "2023-07-23T15:25:22.997Z"
   },
   {
    "duration": 86,
    "start_time": "2023-07-23T15:25:23.118Z"
   },
   {
    "duration": 164,
    "start_time": "2023-07-23T15:25:23.205Z"
   },
   {
    "duration": 19,
    "start_time": "2023-07-23T15:25:23.370Z"
   },
   {
    "duration": 11,
    "start_time": "2023-07-23T15:25:23.400Z"
   },
   {
    "duration": 141,
    "start_time": "2023-07-23T15:25:23.413Z"
   },
   {
    "duration": 156,
    "start_time": "2023-07-23T15:25:23.555Z"
   },
   {
    "duration": 18,
    "start_time": "2023-07-23T15:25:23.713Z"
   },
   {
    "duration": 125,
    "start_time": "2023-07-23T15:25:23.732Z"
   },
   {
    "duration": 4,
    "start_time": "2023-07-23T15:25:23.859Z"
   },
   {
    "duration": 123,
    "start_time": "2023-07-23T15:25:23.865Z"
   },
   {
    "duration": 28,
    "start_time": "2023-07-23T15:25:23.989Z"
   },
   {
    "duration": 94,
    "start_time": "2023-07-23T15:25:24.019Z"
   },
   {
    "duration": 177,
    "start_time": "2023-07-23T15:25:24.115Z"
   },
   {
    "duration": 37,
    "start_time": "2023-07-23T15:25:24.298Z"
   },
   {
    "duration": 16,
    "start_time": "2023-07-23T15:25:24.337Z"
   },
   {
    "duration": 65,
    "start_time": "2023-07-23T15:25:24.355Z"
   },
   {
    "duration": 16,
    "start_time": "2023-07-23T15:25:24.421Z"
   },
   {
    "duration": 29,
    "start_time": "2023-07-23T15:25:24.438Z"
   },
   {
    "duration": 14,
    "start_time": "2023-07-23T15:26:39.090Z"
   },
   {
    "duration": 26,
    "start_time": "2023-07-23T15:30:22.259Z"
   },
   {
    "duration": 26,
    "start_time": "2023-07-23T15:30:28.404Z"
   },
   {
    "duration": 17,
    "start_time": "2023-07-23T15:31:20.594Z"
   },
   {
    "duration": 29,
    "start_time": "2023-07-23T15:33:42.301Z"
   },
   {
    "duration": 30,
    "start_time": "2023-07-23T15:34:55.804Z"
   },
   {
    "duration": 21,
    "start_time": "2023-07-23T15:38:03.224Z"
   },
   {
    "duration": 79,
    "start_time": "2023-07-23T15:43:53.920Z"
   },
   {
    "duration": 17,
    "start_time": "2023-07-23T15:53:57.560Z"
   },
   {
    "duration": 13,
    "start_time": "2023-07-23T15:54:49.428Z"
   },
   {
    "duration": 30,
    "start_time": "2023-07-23T15:54:59.387Z"
   },
   {
    "duration": 14,
    "start_time": "2023-07-23T15:55:51.807Z"
   },
   {
    "duration": 31,
    "start_time": "2023-07-23T15:56:54.300Z"
   },
   {
    "duration": 1317,
    "start_time": "2023-07-23T15:57:09.176Z"
   },
   {
    "duration": 686,
    "start_time": "2023-07-23T15:57:10.494Z"
   },
   {
    "duration": 110,
    "start_time": "2023-07-23T15:57:11.182Z"
   },
   {
    "duration": 105,
    "start_time": "2023-07-23T15:57:11.294Z"
   },
   {
    "duration": 122,
    "start_time": "2023-07-23T15:57:11.400Z"
   },
   {
    "duration": 88,
    "start_time": "2023-07-23T15:57:11.523Z"
   },
   {
    "duration": 157,
    "start_time": "2023-07-23T15:57:11.612Z"
   },
   {
    "duration": 20,
    "start_time": "2023-07-23T15:57:11.770Z"
   },
   {
    "duration": 16,
    "start_time": "2023-07-23T15:57:11.791Z"
   },
   {
    "duration": 140,
    "start_time": "2023-07-23T15:57:11.810Z"
   },
   {
    "duration": 154,
    "start_time": "2023-07-23T15:57:11.952Z"
   },
   {
    "duration": 17,
    "start_time": "2023-07-23T15:57:12.107Z"
   },
   {
    "duration": 128,
    "start_time": "2023-07-23T15:57:12.125Z"
   },
   {
    "duration": 5,
    "start_time": "2023-07-23T15:57:12.255Z"
   },
   {
    "duration": 113,
    "start_time": "2023-07-23T15:57:12.261Z"
   },
   {
    "duration": 29,
    "start_time": "2023-07-23T15:57:12.375Z"
   },
   {
    "duration": 82,
    "start_time": "2023-07-23T15:57:12.406Z"
   },
   {
    "duration": 179,
    "start_time": "2023-07-23T15:57:12.489Z"
   },
   {
    "duration": 46,
    "start_time": "2023-07-23T15:57:12.669Z"
   },
   {
    "duration": 16,
    "start_time": "2023-07-23T15:57:12.716Z"
   },
   {
    "duration": 45,
    "start_time": "2023-07-23T15:57:12.733Z"
   },
   {
    "duration": 28,
    "start_time": "2023-07-23T15:57:12.779Z"
   },
   {
    "duration": 28,
    "start_time": "2023-07-23T15:57:12.809Z"
   },
   {
    "duration": 15,
    "start_time": "2023-07-23T15:57:12.838Z"
   },
   {
    "duration": 27,
    "start_time": "2023-07-23T15:57:12.854Z"
   },
   {
    "duration": 129,
    "start_time": "2023-07-23T15:57:12.882Z"
   },
   {
    "duration": 0,
    "start_time": "2023-07-23T15:57:13.013Z"
   },
   {
    "duration": 0,
    "start_time": "2023-07-23T15:57:13.013Z"
   },
   {
    "duration": 0,
    "start_time": "2023-07-23T15:57:13.015Z"
   },
   {
    "duration": 0,
    "start_time": "2023-07-23T15:57:13.015Z"
   },
   {
    "duration": 0,
    "start_time": "2023-07-23T15:57:13.017Z"
   },
   {
    "duration": 79,
    "start_time": "2023-07-23T15:58:14.183Z"
   },
   {
    "duration": 23,
    "start_time": "2023-07-23T15:58:27.495Z"
   },
   {
    "duration": 1310,
    "start_time": "2023-07-23T15:58:36.991Z"
   },
   {
    "duration": 715,
    "start_time": "2023-07-23T15:58:38.303Z"
   },
   {
    "duration": 109,
    "start_time": "2023-07-23T15:58:39.019Z"
   },
   {
    "duration": 139,
    "start_time": "2023-07-23T15:58:39.133Z"
   },
   {
    "duration": 120,
    "start_time": "2023-07-23T15:58:39.273Z"
   },
   {
    "duration": 88,
    "start_time": "2023-07-23T15:58:39.394Z"
   },
   {
    "duration": 165,
    "start_time": "2023-07-23T15:58:39.484Z"
   },
   {
    "duration": 20,
    "start_time": "2023-07-23T15:58:39.650Z"
   },
   {
    "duration": 28,
    "start_time": "2023-07-23T15:58:39.671Z"
   },
   {
    "duration": 129,
    "start_time": "2023-07-23T15:58:39.702Z"
   },
   {
    "duration": 147,
    "start_time": "2023-07-23T15:58:39.833Z"
   },
   {
    "duration": 27,
    "start_time": "2023-07-23T15:58:39.982Z"
   },
   {
    "duration": 134,
    "start_time": "2023-07-23T15:58:40.011Z"
   },
   {
    "duration": 6,
    "start_time": "2023-07-23T15:58:40.147Z"
   },
   {
    "duration": 128,
    "start_time": "2023-07-23T15:58:40.155Z"
   },
   {
    "duration": 27,
    "start_time": "2023-07-23T15:58:40.284Z"
   },
   {
    "duration": 86,
    "start_time": "2023-07-23T15:58:40.313Z"
   },
   {
    "duration": 190,
    "start_time": "2023-07-23T15:58:40.401Z"
   },
   {
    "duration": 47,
    "start_time": "2023-07-23T15:58:40.593Z"
   },
   {
    "duration": 18,
    "start_time": "2023-07-23T15:58:40.641Z"
   },
   {
    "duration": 60,
    "start_time": "2023-07-23T15:58:40.661Z"
   },
   {
    "duration": 15,
    "start_time": "2023-07-23T15:58:40.722Z"
   },
   {
    "duration": 38,
    "start_time": "2023-07-23T15:58:40.738Z"
   },
   {
    "duration": 23,
    "start_time": "2023-07-23T15:58:40.777Z"
   },
   {
    "duration": 38,
    "start_time": "2023-07-23T15:58:40.801Z"
   },
   {
    "duration": 122,
    "start_time": "2023-07-23T15:58:40.841Z"
   },
   {
    "duration": 0,
    "start_time": "2023-07-23T15:58:40.964Z"
   },
   {
    "duration": 0,
    "start_time": "2023-07-23T15:58:40.965Z"
   },
   {
    "duration": 0,
    "start_time": "2023-07-23T15:58:40.966Z"
   },
   {
    "duration": 0,
    "start_time": "2023-07-23T15:58:40.966Z"
   },
   {
    "duration": 0,
    "start_time": "2023-07-23T15:58:40.968Z"
   },
   {
    "duration": 21,
    "start_time": "2023-07-23T15:58:53.403Z"
   },
   {
    "duration": 21,
    "start_time": "2023-07-23T15:58:58.276Z"
   },
   {
    "duration": 84,
    "start_time": "2023-07-23T15:59:01.033Z"
   },
   {
    "duration": 20,
    "start_time": "2023-07-23T15:59:35.353Z"
   },
   {
    "duration": 22,
    "start_time": "2023-07-23T15:59:50.060Z"
   },
   {
    "duration": 1728,
    "start_time": "2023-07-23T16:00:05.655Z"
   },
   {
    "duration": 738,
    "start_time": "2023-07-23T16:00:07.385Z"
   },
   {
    "duration": 111,
    "start_time": "2023-07-23T16:00:08.124Z"
   },
   {
    "duration": 107,
    "start_time": "2023-07-23T16:00:08.237Z"
   },
   {
    "duration": 120,
    "start_time": "2023-07-23T16:00:08.346Z"
   },
   {
    "duration": 87,
    "start_time": "2023-07-23T16:00:08.468Z"
   },
   {
    "duration": 152,
    "start_time": "2023-07-23T16:00:08.556Z"
   },
   {
    "duration": 20,
    "start_time": "2023-07-23T16:00:08.709Z"
   },
   {
    "duration": 12,
    "start_time": "2023-07-23T16:00:08.730Z"
   },
   {
    "duration": 140,
    "start_time": "2023-07-23T16:00:08.744Z"
   },
   {
    "duration": 157,
    "start_time": "2023-07-23T16:00:08.885Z"
   },
   {
    "duration": 17,
    "start_time": "2023-07-23T16:00:09.044Z"
   },
   {
    "duration": 129,
    "start_time": "2023-07-23T16:00:09.062Z"
   },
   {
    "duration": 7,
    "start_time": "2023-07-23T16:00:09.193Z"
   },
   {
    "duration": 126,
    "start_time": "2023-07-23T16:00:09.201Z"
   },
   {
    "duration": 20,
    "start_time": "2023-07-23T16:00:09.329Z"
   },
   {
    "duration": 92,
    "start_time": "2023-07-23T16:00:09.351Z"
   },
   {
    "duration": 201,
    "start_time": "2023-07-23T16:00:09.444Z"
   },
   {
    "duration": 38,
    "start_time": "2023-07-23T16:00:09.647Z"
   },
   {
    "duration": 26,
    "start_time": "2023-07-23T16:00:09.687Z"
   },
   {
    "duration": 46,
    "start_time": "2023-07-23T16:00:09.715Z"
   },
   {
    "duration": 14,
    "start_time": "2023-07-23T16:00:09.763Z"
   },
   {
    "duration": 44,
    "start_time": "2023-07-23T16:00:09.779Z"
   },
   {
    "duration": 13,
    "start_time": "2023-07-23T16:00:09.825Z"
   },
   {
    "duration": 42,
    "start_time": "2023-07-23T16:00:09.840Z"
   },
   {
    "duration": 111,
    "start_time": "2023-07-23T16:00:09.884Z"
   },
   {
    "duration": 0,
    "start_time": "2023-07-23T16:00:09.999Z"
   },
   {
    "duration": 0,
    "start_time": "2023-07-23T16:00:10.001Z"
   },
   {
    "duration": 0,
    "start_time": "2023-07-23T16:00:10.002Z"
   },
   {
    "duration": 0,
    "start_time": "2023-07-23T16:00:10.003Z"
   },
   {
    "duration": 0,
    "start_time": "2023-07-23T16:00:10.004Z"
   },
   {
    "duration": 17,
    "start_time": "2023-07-23T16:00:38.281Z"
   },
   {
    "duration": 1285,
    "start_time": "2023-07-23T16:00:53.122Z"
   },
   {
    "duration": 717,
    "start_time": "2023-07-23T16:00:54.409Z"
   },
   {
    "duration": 106,
    "start_time": "2023-07-23T16:00:55.127Z"
   },
   {
    "duration": 123,
    "start_time": "2023-07-23T16:00:55.236Z"
   },
   {
    "duration": 120,
    "start_time": "2023-07-23T16:00:55.361Z"
   },
   {
    "duration": 91,
    "start_time": "2023-07-23T16:00:55.484Z"
   },
   {
    "duration": 165,
    "start_time": "2023-07-23T16:00:55.577Z"
   },
   {
    "duration": 20,
    "start_time": "2023-07-23T16:00:55.744Z"
   },
   {
    "duration": 17,
    "start_time": "2023-07-23T16:00:55.766Z"
   },
   {
    "duration": 131,
    "start_time": "2023-07-23T16:00:55.799Z"
   },
   {
    "duration": 155,
    "start_time": "2023-07-23T16:00:55.932Z"
   },
   {
    "duration": 32,
    "start_time": "2023-07-23T16:00:56.088Z"
   },
   {
    "duration": 168,
    "start_time": "2023-07-23T16:00:56.122Z"
   },
   {
    "duration": 9,
    "start_time": "2023-07-23T16:00:56.292Z"
   },
   {
    "duration": 180,
    "start_time": "2023-07-23T16:00:56.303Z"
   },
   {
    "duration": 27,
    "start_time": "2023-07-23T16:00:56.486Z"
   },
   {
    "duration": 86,
    "start_time": "2023-07-23T16:00:56.514Z"
   },
   {
    "duration": 217,
    "start_time": "2023-07-23T16:00:56.602Z"
   },
   {
    "duration": 48,
    "start_time": "2023-07-23T16:00:56.820Z"
   },
   {
    "duration": 17,
    "start_time": "2023-07-23T16:00:56.869Z"
   },
   {
    "duration": 72,
    "start_time": "2023-07-23T16:00:56.887Z"
   },
   {
    "duration": 17,
    "start_time": "2023-07-23T16:00:56.960Z"
   },
   {
    "duration": 39,
    "start_time": "2023-07-23T16:00:56.978Z"
   },
   {
    "duration": 15,
    "start_time": "2023-07-23T16:00:57.018Z"
   },
   {
    "duration": 56,
    "start_time": "2023-07-23T16:00:57.034Z"
   },
   {
    "duration": 56,
    "start_time": "2023-07-23T16:00:57.091Z"
   },
   {
    "duration": 98,
    "start_time": "2023-07-23T16:00:57.148Z"
   },
   {
    "duration": 17,
    "start_time": "2023-07-23T16:00:57.249Z"
   },
   {
    "duration": 44,
    "start_time": "2023-07-23T16:00:57.268Z"
   },
   {
    "duration": 18,
    "start_time": "2023-07-23T16:00:57.314Z"
   },
   {
    "duration": 52,
    "start_time": "2023-07-23T16:00:57.334Z"
   },
   {
    "duration": 101,
    "start_time": "2023-07-23T16:04:11.338Z"
   },
   {
    "duration": 8,
    "start_time": "2023-07-23T16:04:28.770Z"
   },
   {
    "duration": 288,
    "start_time": "2023-07-23T16:04:55.746Z"
   },
   {
    "duration": 485,
    "start_time": "2023-07-23T16:05:20.289Z"
   },
   {
    "duration": 508,
    "start_time": "2023-07-23T16:23:15.324Z"
   },
   {
    "duration": 515,
    "start_time": "2023-07-23T16:23:45.564Z"
   },
   {
    "duration": 547,
    "start_time": "2023-07-23T16:23:58.438Z"
   },
   {
    "duration": 22,
    "start_time": "2023-07-23T16:30:10.651Z"
   },
   {
    "duration": 14,
    "start_time": "2023-07-23T16:30:22.759Z"
   },
   {
    "duration": 1513,
    "start_time": "2023-07-23T16:30:39.986Z"
   },
   {
    "duration": 698,
    "start_time": "2023-07-23T16:30:41.501Z"
   },
   {
    "duration": 110,
    "start_time": "2023-07-23T16:30:42.200Z"
   },
   {
    "duration": 103,
    "start_time": "2023-07-23T16:30:42.312Z"
   },
   {
    "duration": 122,
    "start_time": "2023-07-23T16:30:42.416Z"
   },
   {
    "duration": 89,
    "start_time": "2023-07-23T16:30:42.540Z"
   },
   {
    "duration": 151,
    "start_time": "2023-07-23T16:30:42.631Z"
   },
   {
    "duration": 25,
    "start_time": "2023-07-23T16:30:42.783Z"
   },
   {
    "duration": 15,
    "start_time": "2023-07-23T16:30:42.809Z"
   },
   {
    "duration": 131,
    "start_time": "2023-07-23T16:30:42.826Z"
   },
   {
    "duration": 144,
    "start_time": "2023-07-23T16:30:42.958Z"
   },
   {
    "duration": 17,
    "start_time": "2023-07-23T16:30:43.103Z"
   },
   {
    "duration": 124,
    "start_time": "2023-07-23T16:30:43.122Z"
   },
   {
    "duration": 4,
    "start_time": "2023-07-23T16:30:43.247Z"
   },
   {
    "duration": 134,
    "start_time": "2023-07-23T16:30:43.253Z"
   },
   {
    "duration": 22,
    "start_time": "2023-07-23T16:30:43.389Z"
   },
   {
    "duration": 88,
    "start_time": "2023-07-23T16:30:43.412Z"
   },
   {
    "duration": 200,
    "start_time": "2023-07-23T16:30:43.502Z"
   },
   {
    "duration": 61,
    "start_time": "2023-07-23T16:30:43.704Z"
   },
   {
    "duration": 16,
    "start_time": "2023-07-23T16:30:43.766Z"
   },
   {
    "duration": 48,
    "start_time": "2023-07-23T16:30:43.783Z"
   },
   {
    "duration": 14,
    "start_time": "2023-07-23T16:30:43.832Z"
   },
   {
    "duration": 39,
    "start_time": "2023-07-23T16:30:43.847Z"
   },
   {
    "duration": 16,
    "start_time": "2023-07-23T16:30:43.887Z"
   },
   {
    "duration": 36,
    "start_time": "2023-07-23T16:30:43.905Z"
   },
   {
    "duration": 16,
    "start_time": "2023-07-23T16:30:43.943Z"
   },
   {
    "duration": 86,
    "start_time": "2023-07-23T16:30:43.960Z"
   },
   {
    "duration": 16,
    "start_time": "2023-07-23T16:30:44.048Z"
   },
   {
    "duration": 55,
    "start_time": "2023-07-23T16:30:44.065Z"
   },
   {
    "duration": 14,
    "start_time": "2023-07-23T16:30:44.121Z"
   },
   {
    "duration": 31,
    "start_time": "2023-07-23T16:30:44.136Z"
   },
   {
    "duration": 536,
    "start_time": "2023-07-23T16:30:44.169Z"
   },
   {
    "duration": 30,
    "start_time": "2023-07-23T16:30:44.707Z"
   },
   {
    "duration": 108,
    "start_time": "2023-07-23T16:33:22.031Z"
   },
   {
    "duration": 1268,
    "start_time": "2023-07-23T16:33:30.964Z"
   },
   {
    "duration": 711,
    "start_time": "2023-07-23T16:33:32.234Z"
   },
   {
    "duration": 109,
    "start_time": "2023-07-23T16:33:32.946Z"
   },
   {
    "duration": 108,
    "start_time": "2023-07-23T16:33:33.057Z"
   },
   {
    "duration": 117,
    "start_time": "2023-07-23T16:33:33.167Z"
   },
   {
    "duration": 89,
    "start_time": "2023-07-23T16:33:33.286Z"
   },
   {
    "duration": 160,
    "start_time": "2023-07-23T16:33:33.377Z"
   },
   {
    "duration": 19,
    "start_time": "2023-07-23T16:33:33.538Z"
   },
   {
    "duration": 21,
    "start_time": "2023-07-23T16:33:33.558Z"
   },
   {
    "duration": 135,
    "start_time": "2023-07-23T16:33:33.582Z"
   },
   {
    "duration": 139,
    "start_time": "2023-07-23T16:33:33.719Z"
   },
   {
    "duration": 18,
    "start_time": "2023-07-23T16:33:33.859Z"
   },
   {
    "duration": 128,
    "start_time": "2023-07-23T16:33:33.878Z"
   },
   {
    "duration": 4,
    "start_time": "2023-07-23T16:33:34.008Z"
   },
   {
    "duration": 123,
    "start_time": "2023-07-23T16:33:34.013Z"
   },
   {
    "duration": 21,
    "start_time": "2023-07-23T16:33:34.138Z"
   },
   {
    "duration": 91,
    "start_time": "2023-07-23T16:33:34.160Z"
   },
   {
    "duration": 199,
    "start_time": "2023-07-23T16:33:34.253Z"
   },
   {
    "duration": 38,
    "start_time": "2023-07-23T16:33:34.453Z"
   },
   {
    "duration": 23,
    "start_time": "2023-07-23T16:33:34.492Z"
   },
   {
    "duration": 46,
    "start_time": "2023-07-23T16:33:34.517Z"
   },
   {
    "duration": 34,
    "start_time": "2023-07-23T16:33:34.565Z"
   },
   {
    "duration": 27,
    "start_time": "2023-07-23T16:33:34.601Z"
   },
   {
    "duration": 14,
    "start_time": "2023-07-23T16:33:34.630Z"
   },
   {
    "duration": 28,
    "start_time": "2023-07-23T16:33:34.646Z"
   },
   {
    "duration": 39,
    "start_time": "2023-07-23T16:33:34.676Z"
   },
   {
    "duration": 87,
    "start_time": "2023-07-23T16:33:34.717Z"
   },
   {
    "duration": 15,
    "start_time": "2023-07-23T16:33:34.808Z"
   },
   {
    "duration": 27,
    "start_time": "2023-07-23T16:33:34.824Z"
   },
   {
    "duration": 14,
    "start_time": "2023-07-23T16:33:34.852Z"
   },
   {
    "duration": 51,
    "start_time": "2023-07-23T16:33:34.868Z"
   },
   {
    "duration": 564,
    "start_time": "2023-07-23T16:33:34.921Z"
   },
   {
    "duration": 37,
    "start_time": "2023-07-23T16:33:35.487Z"
   },
   {
    "duration": 73,
    "start_time": "2023-07-23T19:29:58.422Z"
   },
   {
    "duration": 1941,
    "start_time": "2023-07-23T19:30:09.627Z"
   },
   {
    "duration": 3993,
    "start_time": "2023-07-23T19:30:11.579Z"
   },
   {
    "duration": 231,
    "start_time": "2023-07-23T19:30:15.596Z"
   },
   {
    "duration": 164,
    "start_time": "2023-07-23T19:30:15.830Z"
   },
   {
    "duration": 179,
    "start_time": "2023-07-23T19:30:15.996Z"
   },
   {
    "duration": 127,
    "start_time": "2023-07-23T19:30:16.181Z"
   },
   {
    "duration": 247,
    "start_time": "2023-07-23T19:30:16.310Z"
   },
   {
    "duration": 36,
    "start_time": "2023-07-23T19:30:16.559Z"
   },
   {
    "duration": 39,
    "start_time": "2023-07-23T19:30:16.597Z"
   },
   {
    "duration": 206,
    "start_time": "2023-07-23T19:30:16.640Z"
   },
   {
    "duration": 211,
    "start_time": "2023-07-23T19:30:16.848Z"
   },
   {
    "duration": 39,
    "start_time": "2023-07-23T19:30:17.060Z"
   },
   {
    "duration": 175,
    "start_time": "2023-07-23T19:30:17.103Z"
   },
   {
    "duration": 9,
    "start_time": "2023-07-23T19:30:17.279Z"
   },
   {
    "duration": 163,
    "start_time": "2023-07-23T19:30:17.290Z"
   },
   {
    "duration": 53,
    "start_time": "2023-07-23T19:30:17.455Z"
   },
   {
    "duration": 138,
    "start_time": "2023-07-23T19:30:17.510Z"
   },
   {
    "duration": 284,
    "start_time": "2023-07-23T19:30:17.650Z"
   },
   {
    "duration": 78,
    "start_time": "2023-07-23T19:30:17.937Z"
   },
   {
    "duration": 29,
    "start_time": "2023-07-23T19:30:18.017Z"
   },
   {
    "duration": 92,
    "start_time": "2023-07-23T19:30:18.048Z"
   },
   {
    "duration": 18,
    "start_time": "2023-07-23T19:30:18.141Z"
   },
   {
    "duration": 63,
    "start_time": "2023-07-23T19:30:18.160Z"
   },
   {
    "duration": 17,
    "start_time": "2023-07-23T19:30:18.226Z"
   },
   {
    "duration": 72,
    "start_time": "2023-07-23T19:30:18.245Z"
   },
   {
    "duration": 21,
    "start_time": "2023-07-23T19:30:18.321Z"
   },
   {
    "duration": 121,
    "start_time": "2023-07-23T19:30:18.344Z"
   },
   {
    "duration": 36,
    "start_time": "2023-07-23T19:30:18.470Z"
   },
   {
    "duration": 64,
    "start_time": "2023-07-23T19:30:18.508Z"
   },
   {
    "duration": 36,
    "start_time": "2023-07-23T19:30:18.574Z"
   },
   {
    "duration": 38,
    "start_time": "2023-07-23T19:30:18.612Z"
   },
   {
    "duration": 889,
    "start_time": "2023-07-23T19:30:18.652Z"
   },
   {
    "duration": 507,
    "start_time": "2023-07-23T19:30:19.543Z"
   },
   {
    "duration": 151,
    "start_time": "2023-07-23T19:30:20.052Z"
   },
   {
    "duration": 11,
    "start_time": "2023-07-23T19:30:52.248Z"
   },
   {
    "duration": 1790,
    "start_time": "2023-07-23T19:31:36.468Z"
   },
   {
    "duration": 1184,
    "start_time": "2023-07-23T19:31:38.260Z"
   },
   {
    "duration": 189,
    "start_time": "2023-07-23T19:31:39.446Z"
   },
   {
    "duration": 141,
    "start_time": "2023-07-23T19:31:39.638Z"
   },
   {
    "duration": 154,
    "start_time": "2023-07-23T19:31:39.781Z"
   },
   {
    "duration": 138,
    "start_time": "2023-07-23T19:31:39.937Z"
   },
   {
    "duration": 234,
    "start_time": "2023-07-23T19:31:40.077Z"
   },
   {
    "duration": 41,
    "start_time": "2023-07-23T19:31:40.313Z"
   },
   {
    "duration": 50,
    "start_time": "2023-07-23T19:31:40.357Z"
   },
   {
    "duration": 188,
    "start_time": "2023-07-23T19:31:40.411Z"
   },
   {
    "duration": 195,
    "start_time": "2023-07-23T19:31:40.601Z"
   },
   {
    "duration": 29,
    "start_time": "2023-07-23T19:31:40.804Z"
   },
   {
    "duration": 183,
    "start_time": "2023-07-23T19:31:40.835Z"
   },
   {
    "duration": 7,
    "start_time": "2023-07-23T19:31:41.021Z"
   },
   {
    "duration": 191,
    "start_time": "2023-07-23T19:31:41.030Z"
   },
   {
    "duration": 72,
    "start_time": "2023-07-23T19:31:41.223Z"
   },
   {
    "duration": 128,
    "start_time": "2023-07-23T19:31:41.300Z"
   },
   {
    "duration": 249,
    "start_time": "2023-07-23T19:31:41.431Z"
   },
   {
    "duration": 88,
    "start_time": "2023-07-23T19:31:41.686Z"
   },
   {
    "duration": 37,
    "start_time": "2023-07-23T19:31:41.779Z"
   },
   {
    "duration": 86,
    "start_time": "2023-07-23T19:31:41.817Z"
   },
   {
    "duration": 22,
    "start_time": "2023-07-23T19:31:41.907Z"
   },
   {
    "duration": 43,
    "start_time": "2023-07-23T19:31:41.931Z"
   },
   {
    "duration": 27,
    "start_time": "2023-07-23T19:31:41.976Z"
   },
   {
    "duration": 35,
    "start_time": "2023-07-23T19:31:42.005Z"
   },
   {
    "duration": 66,
    "start_time": "2023-07-23T19:31:42.042Z"
   },
   {
    "duration": 131,
    "start_time": "2023-07-23T19:31:42.110Z"
   },
   {
    "duration": 25,
    "start_time": "2023-07-23T19:31:42.246Z"
   },
   {
    "duration": 54,
    "start_time": "2023-07-23T19:31:42.273Z"
   },
   {
    "duration": 32,
    "start_time": "2023-07-23T19:31:42.328Z"
   },
   {
    "duration": 72,
    "start_time": "2023-07-23T19:31:42.363Z"
   },
   {
    "duration": 1063,
    "start_time": "2023-07-23T19:31:42.438Z"
   },
   {
    "duration": 559,
    "start_time": "2023-07-23T19:31:43.503Z"
   },
   {
    "duration": 190,
    "start_time": "2023-07-23T19:31:44.065Z"
   },
   {
    "duration": 10,
    "start_time": "2023-07-23T19:34:19.304Z"
   },
   {
    "duration": 1638,
    "start_time": "2023-07-23T19:34:41.908Z"
   },
   {
    "duration": 1096,
    "start_time": "2023-07-23T19:34:43.549Z"
   },
   {
    "duration": 143,
    "start_time": "2023-07-23T19:34:44.646Z"
   },
   {
    "duration": 144,
    "start_time": "2023-07-23T19:34:44.796Z"
   },
   {
    "duration": 165,
    "start_time": "2023-07-23T19:34:44.942Z"
   },
   {
    "duration": 123,
    "start_time": "2023-07-23T19:34:45.109Z"
   },
   {
    "duration": 224,
    "start_time": "2023-07-23T19:34:45.234Z"
   },
   {
    "duration": 47,
    "start_time": "2023-07-23T19:34:45.460Z"
   },
   {
    "duration": 21,
    "start_time": "2023-07-23T19:34:45.509Z"
   },
   {
    "duration": 202,
    "start_time": "2023-07-23T19:34:45.533Z"
   },
   {
    "duration": 190,
    "start_time": "2023-07-23T19:34:45.738Z"
   },
   {
    "duration": 49,
    "start_time": "2023-07-23T19:34:45.930Z"
   },
   {
    "duration": 166,
    "start_time": "2023-07-23T19:34:45.987Z"
   },
   {
    "duration": 7,
    "start_time": "2023-07-23T19:34:46.155Z"
   },
   {
    "duration": 168,
    "start_time": "2023-07-23T19:34:46.168Z"
   },
   {
    "duration": 44,
    "start_time": "2023-07-23T19:34:46.338Z"
   },
   {
    "duration": 148,
    "start_time": "2023-07-23T19:34:46.384Z"
   },
   {
    "duration": 238,
    "start_time": "2023-07-23T19:34:46.533Z"
   },
   {
    "duration": 64,
    "start_time": "2023-07-23T19:34:46.773Z"
   },
   {
    "duration": 45,
    "start_time": "2023-07-23T19:34:46.840Z"
   },
   {
    "duration": 76,
    "start_time": "2023-07-23T19:34:46.888Z"
   },
   {
    "duration": 28,
    "start_time": "2023-07-23T19:34:46.967Z"
   },
   {
    "duration": 39,
    "start_time": "2023-07-23T19:34:47.001Z"
   },
   {
    "duration": 28,
    "start_time": "2023-07-23T19:34:47.042Z"
   },
   {
    "duration": 50,
    "start_time": "2023-07-23T19:34:47.072Z"
   },
   {
    "duration": 21,
    "start_time": "2023-07-23T19:34:47.124Z"
   },
   {
    "duration": 139,
    "start_time": "2023-07-23T19:34:47.147Z"
   },
   {
    "duration": 23,
    "start_time": "2023-07-23T19:34:47.290Z"
   },
   {
    "duration": 58,
    "start_time": "2023-07-23T19:34:47.314Z"
   },
   {
    "duration": 34,
    "start_time": "2023-07-23T19:34:47.376Z"
   },
   {
    "duration": 51,
    "start_time": "2023-07-23T19:34:47.412Z"
   },
   {
    "duration": 868,
    "start_time": "2023-07-23T19:34:47.465Z"
   },
   {
    "duration": 506,
    "start_time": "2023-07-23T19:34:48.335Z"
   },
   {
    "duration": 145,
    "start_time": "2023-07-23T19:34:48.843Z"
   },
   {
    "duration": 13,
    "start_time": "2023-07-23T19:36:03.316Z"
   },
   {
    "duration": 9,
    "start_time": "2023-07-23T19:36:19.865Z"
   },
   {
    "duration": 1603,
    "start_time": "2023-07-23T19:36:58.321Z"
   },
   {
    "duration": 1158,
    "start_time": "2023-07-23T19:36:59.927Z"
   },
   {
    "duration": 154,
    "start_time": "2023-07-23T19:37:01.091Z"
   },
   {
    "duration": 163,
    "start_time": "2023-07-23T19:37:01.249Z"
   },
   {
    "duration": 204,
    "start_time": "2023-07-23T19:37:01.414Z"
   },
   {
    "duration": 129,
    "start_time": "2023-07-23T19:37:01.619Z"
   },
   {
    "duration": 215,
    "start_time": "2023-07-23T19:37:01.749Z"
   },
   {
    "duration": 40,
    "start_time": "2023-07-23T19:37:01.966Z"
   },
   {
    "duration": 73,
    "start_time": "2023-07-23T19:37:02.008Z"
   },
   {
    "duration": 206,
    "start_time": "2023-07-23T19:37:02.091Z"
   },
   {
    "duration": 218,
    "start_time": "2023-07-23T19:37:02.299Z"
   },
   {
    "duration": 29,
    "start_time": "2023-07-23T19:37:02.520Z"
   },
   {
    "duration": 213,
    "start_time": "2023-07-23T19:37:02.551Z"
   },
   {
    "duration": 29,
    "start_time": "2023-07-23T19:37:02.766Z"
   },
   {
    "duration": 191,
    "start_time": "2023-07-23T19:37:02.800Z"
   },
   {
    "duration": 35,
    "start_time": "2023-07-23T19:37:02.996Z"
   },
   {
    "duration": 173,
    "start_time": "2023-07-23T19:37:03.034Z"
   },
   {
    "duration": 288,
    "start_time": "2023-07-23T19:37:03.210Z"
   },
   {
    "duration": 60,
    "start_time": "2023-07-23T19:37:03.500Z"
   },
   {
    "duration": 35,
    "start_time": "2023-07-23T19:37:03.562Z"
   },
   {
    "duration": 95,
    "start_time": "2023-07-23T19:37:03.599Z"
   },
   {
    "duration": 20,
    "start_time": "2023-07-23T19:37:03.697Z"
   },
   {
    "duration": 60,
    "start_time": "2023-07-23T19:37:03.720Z"
   },
   {
    "duration": 25,
    "start_time": "2023-07-23T19:37:03.786Z"
   },
   {
    "duration": 32,
    "start_time": "2023-07-23T19:37:03.813Z"
   },
   {
    "duration": 50,
    "start_time": "2023-07-23T19:37:03.847Z"
   },
   {
    "duration": 143,
    "start_time": "2023-07-23T19:37:03.900Z"
   },
   {
    "duration": 49,
    "start_time": "2023-07-23T19:37:04.047Z"
   },
   {
    "duration": 48,
    "start_time": "2023-07-23T19:37:04.099Z"
   },
   {
    "duration": 29,
    "start_time": "2023-07-23T19:37:04.149Z"
   },
   {
    "duration": 49,
    "start_time": "2023-07-23T19:37:04.180Z"
   },
   {
    "duration": 912,
    "start_time": "2023-07-23T19:37:04.232Z"
   },
   {
    "duration": 466,
    "start_time": "2023-07-23T19:37:05.146Z"
   },
   {
    "duration": 71,
    "start_time": "2023-07-23T19:37:05.613Z"
   },
   {
    "duration": 1722,
    "start_time": "2023-07-23T19:50:14.175Z"
   },
   {
    "duration": 1111,
    "start_time": "2023-07-23T19:50:15.901Z"
   },
   {
    "duration": 158,
    "start_time": "2023-07-23T19:50:17.014Z"
   },
   {
    "duration": 148,
    "start_time": "2023-07-23T19:50:17.175Z"
   },
   {
    "duration": 173,
    "start_time": "2023-07-23T19:50:17.326Z"
   },
   {
    "duration": 135,
    "start_time": "2023-07-23T19:50:17.502Z"
   },
   {
    "duration": 211,
    "start_time": "2023-07-23T19:50:17.638Z"
   },
   {
    "duration": 50,
    "start_time": "2023-07-23T19:50:17.851Z"
   },
   {
    "duration": 21,
    "start_time": "2023-07-23T19:50:17.904Z"
   },
   {
    "duration": 204,
    "start_time": "2023-07-23T19:50:17.928Z"
   },
   {
    "duration": 219,
    "start_time": "2023-07-23T19:50:18.135Z"
   },
   {
    "duration": 48,
    "start_time": "2023-07-23T19:50:18.357Z"
   },
   {
    "duration": 192,
    "start_time": "2023-07-23T19:50:18.407Z"
   },
   {
    "duration": 6,
    "start_time": "2023-07-23T19:50:18.601Z"
   },
   {
    "duration": 186,
    "start_time": "2023-07-23T19:50:18.609Z"
   },
   {
    "duration": 41,
    "start_time": "2023-07-23T19:50:18.800Z"
   },
   {
    "duration": 164,
    "start_time": "2023-07-23T19:50:18.843Z"
   },
   {
    "duration": 241,
    "start_time": "2023-07-23T19:50:19.009Z"
   },
   {
    "duration": 73,
    "start_time": "2023-07-23T19:50:19.252Z"
   },
   {
    "duration": 59,
    "start_time": "2023-07-23T19:50:19.327Z"
   },
   {
    "duration": 72,
    "start_time": "2023-07-23T19:50:19.392Z"
   },
   {
    "duration": 35,
    "start_time": "2023-07-23T19:50:19.465Z"
   },
   {
    "duration": 32,
    "start_time": "2023-07-23T19:50:19.502Z"
   },
   {
    "duration": 32,
    "start_time": "2023-07-23T19:50:19.537Z"
   },
   {
    "duration": 49,
    "start_time": "2023-07-23T19:50:19.571Z"
   },
   {
    "duration": 21,
    "start_time": "2023-07-23T19:50:19.621Z"
   },
   {
    "duration": 147,
    "start_time": "2023-07-23T19:50:19.644Z"
   },
   {
    "duration": 20,
    "start_time": "2023-07-23T19:50:19.801Z"
   },
   {
    "duration": 72,
    "start_time": "2023-07-23T19:50:19.822Z"
   },
   {
    "duration": 20,
    "start_time": "2023-07-23T19:50:19.895Z"
   },
   {
    "duration": 44,
    "start_time": "2023-07-23T19:50:19.917Z"
   },
   {
    "duration": 943,
    "start_time": "2023-07-23T19:50:19.963Z"
   },
   {
    "duration": 498,
    "start_time": "2023-07-23T19:50:20.908Z"
   },
   {
    "duration": 65,
    "start_time": "2023-07-23T19:50:21.409Z"
   },
   {
    "duration": 33,
    "start_time": "2023-07-23T19:52:17.263Z"
   },
   {
    "duration": 62,
    "start_time": "2023-07-23T19:53:21.426Z"
   },
   {
    "duration": 112,
    "start_time": "2023-07-23T20:02:06.714Z"
   },
   {
    "duration": 1876,
    "start_time": "2023-07-23T20:27:05.065Z"
   },
   {
    "duration": 1096,
    "start_time": "2023-07-23T20:27:06.943Z"
   },
   {
    "duration": 168,
    "start_time": "2023-07-23T20:27:08.041Z"
   },
   {
    "duration": 140,
    "start_time": "2023-07-23T20:27:08.212Z"
   },
   {
    "duration": 156,
    "start_time": "2023-07-23T20:27:08.354Z"
   },
   {
    "duration": 139,
    "start_time": "2023-07-23T20:27:08.516Z"
   },
   {
    "duration": 205,
    "start_time": "2023-07-23T20:27:08.657Z"
   },
   {
    "duration": 45,
    "start_time": "2023-07-23T20:27:08.867Z"
   },
   {
    "duration": 19,
    "start_time": "2023-07-23T20:27:08.915Z"
   },
   {
    "duration": 217,
    "start_time": "2023-07-23T20:27:08.937Z"
   },
   {
    "duration": 201,
    "start_time": "2023-07-23T20:27:09.156Z"
   },
   {
    "duration": 42,
    "start_time": "2023-07-23T20:27:09.359Z"
   },
   {
    "duration": 173,
    "start_time": "2023-07-23T20:27:09.409Z"
   },
   {
    "duration": 10,
    "start_time": "2023-07-23T20:27:09.583Z"
   },
   {
    "duration": 253,
    "start_time": "2023-07-23T20:27:09.598Z"
   },
   {
    "duration": 49,
    "start_time": "2023-07-23T20:27:09.853Z"
   },
   {
    "duration": 152,
    "start_time": "2023-07-23T20:27:09.907Z"
   },
   {
    "duration": 286,
    "start_time": "2023-07-23T20:27:10.061Z"
   },
   {
    "duration": 72,
    "start_time": "2023-07-23T20:27:10.349Z"
   },
   {
    "duration": 44,
    "start_time": "2023-07-23T20:27:10.425Z"
   },
   {
    "duration": 70,
    "start_time": "2023-07-23T20:27:10.470Z"
   },
   {
    "duration": 54,
    "start_time": "2023-07-23T20:27:10.542Z"
   },
   {
    "duration": 34,
    "start_time": "2023-07-23T20:27:10.598Z"
   },
   {
    "duration": 23,
    "start_time": "2023-07-23T20:27:10.634Z"
   },
   {
    "duration": 67,
    "start_time": "2023-07-23T20:27:10.659Z"
   },
   {
    "duration": 21,
    "start_time": "2023-07-23T20:27:10.728Z"
   },
   {
    "duration": 158,
    "start_time": "2023-07-23T20:27:10.751Z"
   },
   {
    "duration": 20,
    "start_time": "2023-07-23T20:27:10.913Z"
   },
   {
    "duration": 41,
    "start_time": "2023-07-23T20:27:10.935Z"
   },
   {
    "duration": 29,
    "start_time": "2023-07-23T20:27:10.978Z"
   },
   {
    "duration": 89,
    "start_time": "2023-07-23T20:27:11.009Z"
   },
   {
    "duration": 850,
    "start_time": "2023-07-23T20:27:11.100Z"
   },
   {
    "duration": 449,
    "start_time": "2023-07-23T20:27:11.952Z"
   },
   {
    "duration": 43,
    "start_time": "2023-07-23T20:27:12.403Z"
   },
   {
    "duration": 66,
    "start_time": "2023-07-23T20:27:12.448Z"
   },
   {
    "duration": 102,
    "start_time": "2023-07-23T20:27:12.515Z"
   },
   {
    "duration": 4,
    "start_time": "2023-07-23T20:27:12.619Z"
   },
   {
    "duration": 1292,
    "start_time": "2023-07-23T21:13:38.327Z"
   },
   {
    "duration": 1496,
    "start_time": "2023-07-23T21:14:15.155Z"
   },
   {
    "duration": 25,
    "start_time": "2023-07-23T21:22:26.269Z"
   },
   {
    "duration": 1926,
    "start_time": "2023-07-24T08:17:02.753Z"
   },
   {
    "duration": 3375,
    "start_time": "2023-07-24T08:17:04.691Z"
   },
   {
    "duration": 137,
    "start_time": "2023-07-24T08:17:08.081Z"
   },
   {
    "duration": 138,
    "start_time": "2023-07-24T08:17:08.220Z"
   },
   {
    "duration": 156,
    "start_time": "2023-07-24T08:17:08.360Z"
   },
   {
    "duration": 123,
    "start_time": "2023-07-24T08:17:08.518Z"
   },
   {
    "duration": 207,
    "start_time": "2023-07-24T08:17:08.642Z"
   },
   {
    "duration": 44,
    "start_time": "2023-07-24T08:17:08.852Z"
   },
   {
    "duration": 19,
    "start_time": "2023-07-24T08:17:08.901Z"
   },
   {
    "duration": 183,
    "start_time": "2023-07-24T08:17:08.922Z"
   },
   {
    "duration": 196,
    "start_time": "2023-07-24T08:17:09.107Z"
   },
   {
    "duration": 25,
    "start_time": "2023-07-24T08:17:09.305Z"
   },
   {
    "duration": 174,
    "start_time": "2023-07-24T08:17:09.332Z"
   },
   {
    "duration": 6,
    "start_time": "2023-07-24T08:17:09.508Z"
   },
   {
    "duration": 248,
    "start_time": "2023-07-24T08:17:09.516Z"
   },
   {
    "duration": 35,
    "start_time": "2023-07-24T08:17:09.767Z"
   },
   {
    "duration": 130,
    "start_time": "2023-07-24T08:17:09.804Z"
   },
   {
    "duration": 248,
    "start_time": "2023-07-24T08:17:09.936Z"
   },
   {
    "duration": 77,
    "start_time": "2023-07-24T08:17:10.186Z"
   },
   {
    "duration": 35,
    "start_time": "2023-07-24T08:17:10.265Z"
   },
   {
    "duration": 94,
    "start_time": "2023-07-24T08:17:10.303Z"
   },
   {
    "duration": 24,
    "start_time": "2023-07-24T08:17:10.399Z"
   },
   {
    "duration": 48,
    "start_time": "2023-07-24T08:17:10.425Z"
   },
   {
    "duration": 51,
    "start_time": "2023-07-24T08:17:10.474Z"
   },
   {
    "duration": 99,
    "start_time": "2023-07-24T08:17:10.527Z"
   },
   {
    "duration": 27,
    "start_time": "2023-07-24T08:17:10.628Z"
   },
   {
    "duration": 104,
    "start_time": "2023-07-24T08:17:10.657Z"
   },
   {
    "duration": 31,
    "start_time": "2023-07-24T08:17:10.767Z"
   },
   {
    "duration": 48,
    "start_time": "2023-07-24T08:17:10.800Z"
   },
   {
    "duration": 47,
    "start_time": "2023-07-24T08:17:10.850Z"
   },
   {
    "duration": 44,
    "start_time": "2023-07-24T08:17:10.899Z"
   },
   {
    "duration": 914,
    "start_time": "2023-07-24T08:17:10.945Z"
   },
   {
    "duration": 421,
    "start_time": "2023-07-24T08:17:11.861Z"
   },
   {
    "duration": 49,
    "start_time": "2023-07-24T08:17:12.284Z"
   },
   {
    "duration": 60,
    "start_time": "2023-07-24T08:17:12.335Z"
   },
   {
    "duration": 86,
    "start_time": "2023-07-24T08:17:12.397Z"
   },
   {
    "duration": 1428,
    "start_time": "2023-07-24T08:17:12.485Z"
   },
   {
    "duration": 5,
    "start_time": "2023-07-24T08:17:13.915Z"
   },
   {
    "duration": 1671,
    "start_time": "2023-07-24T08:22:05.317Z"
   },
   {
    "duration": 954,
    "start_time": "2023-07-24T08:22:06.991Z"
   },
   {
    "duration": 143,
    "start_time": "2023-07-24T08:22:07.947Z"
   },
   {
    "duration": 136,
    "start_time": "2023-07-24T08:22:08.092Z"
   },
   {
    "duration": 183,
    "start_time": "2023-07-24T08:22:08.229Z"
   },
   {
    "duration": 118,
    "start_time": "2023-07-24T08:22:08.413Z"
   },
   {
    "duration": 212,
    "start_time": "2023-07-24T08:22:08.533Z"
   },
   {
    "duration": 37,
    "start_time": "2023-07-24T08:22:08.747Z"
   },
   {
    "duration": 17,
    "start_time": "2023-07-24T08:22:08.786Z"
   },
   {
    "duration": 179,
    "start_time": "2023-07-24T08:22:08.806Z"
   },
   {
    "duration": 198,
    "start_time": "2023-07-24T08:22:08.986Z"
   },
   {
    "duration": 25,
    "start_time": "2023-07-24T08:22:09.186Z"
   },
   {
    "duration": 168,
    "start_time": "2023-07-24T08:22:09.213Z"
   },
   {
    "duration": 6,
    "start_time": "2023-07-24T08:22:09.383Z"
   },
   {
    "duration": 242,
    "start_time": "2023-07-24T08:22:09.390Z"
   },
   {
    "duration": 42,
    "start_time": "2023-07-24T08:22:09.633Z"
   },
   {
    "duration": 120,
    "start_time": "2023-07-24T08:22:09.677Z"
   },
   {
    "duration": 234,
    "start_time": "2023-07-24T08:22:09.799Z"
   },
   {
    "duration": 130,
    "start_time": "2023-07-24T08:22:10.034Z"
   },
   {
    "duration": 27,
    "start_time": "2023-07-24T08:22:10.165Z"
   },
   {
    "duration": 77,
    "start_time": "2023-07-24T08:22:10.194Z"
   },
   {
    "duration": 21,
    "start_time": "2023-07-24T08:22:10.273Z"
   },
   {
    "duration": 64,
    "start_time": "2023-07-24T08:22:10.296Z"
   },
   {
    "duration": 42,
    "start_time": "2023-07-24T08:22:10.362Z"
   },
   {
    "duration": 54,
    "start_time": "2023-07-24T08:22:10.406Z"
   },
   {
    "duration": 28,
    "start_time": "2023-07-24T08:22:10.462Z"
   },
   {
    "duration": 104,
    "start_time": "2023-07-24T08:22:10.491Z"
   },
   {
    "duration": 17,
    "start_time": "2023-07-24T08:22:10.598Z"
   },
   {
    "duration": 77,
    "start_time": "2023-07-24T08:22:10.617Z"
   },
   {
    "duration": 35,
    "start_time": "2023-07-24T08:22:10.696Z"
   },
   {
    "duration": 53,
    "start_time": "2023-07-24T08:22:10.733Z"
   },
   {
    "duration": 814,
    "start_time": "2023-07-24T08:22:10.788Z"
   },
   {
    "duration": 403,
    "start_time": "2023-07-24T08:22:11.604Z"
   },
   {
    "duration": 41,
    "start_time": "2023-07-24T08:22:12.009Z"
   },
   {
    "duration": 48,
    "start_time": "2023-07-24T08:22:12.052Z"
   },
   {
    "duration": 138,
    "start_time": "2023-07-24T08:22:12.102Z"
   },
   {
    "duration": 0,
    "start_time": "2023-07-24T08:22:12.241Z"
   },
   {
    "duration": 0,
    "start_time": "2023-07-24T08:22:12.243Z"
   },
   {
    "duration": 949,
    "start_time": "2023-07-24T08:25:39.993Z"
   },
   {
    "duration": 941,
    "start_time": "2023-07-24T08:26:15.846Z"
   },
   {
    "duration": 439,
    "start_time": "2023-07-24T08:34:03.758Z"
   },
   {
    "duration": 1855,
    "start_time": "2023-07-24T08:35:06.406Z"
   },
   {
    "duration": 1063,
    "start_time": "2023-07-24T08:35:08.265Z"
   },
   {
    "duration": 165,
    "start_time": "2023-07-24T08:35:09.330Z"
   },
   {
    "duration": 144,
    "start_time": "2023-07-24T08:35:09.498Z"
   },
   {
    "duration": 179,
    "start_time": "2023-07-24T08:35:09.644Z"
   },
   {
    "duration": 163,
    "start_time": "2023-07-24T08:35:09.825Z"
   },
   {
    "duration": 229,
    "start_time": "2023-07-24T08:35:09.999Z"
   },
   {
    "duration": 29,
    "start_time": "2023-07-24T08:35:10.229Z"
   },
   {
    "duration": 39,
    "start_time": "2023-07-24T08:35:10.260Z"
   },
   {
    "duration": 181,
    "start_time": "2023-07-24T08:35:10.302Z"
   },
   {
    "duration": 213,
    "start_time": "2023-07-24T08:35:10.485Z"
   },
   {
    "duration": 30,
    "start_time": "2023-07-24T08:35:10.701Z"
   },
   {
    "duration": 187,
    "start_time": "2023-07-24T08:35:10.733Z"
   },
   {
    "duration": 8,
    "start_time": "2023-07-24T08:35:10.922Z"
   },
   {
    "duration": 301,
    "start_time": "2023-07-24T08:35:10.933Z"
   },
   {
    "duration": 55,
    "start_time": "2023-07-24T08:35:11.236Z"
   },
   {
    "duration": 125,
    "start_time": "2023-07-24T08:35:11.298Z"
   },
   {
    "duration": 260,
    "start_time": "2023-07-24T08:35:11.425Z"
   },
   {
    "duration": 106,
    "start_time": "2023-07-24T08:35:11.686Z"
   },
   {
    "duration": 30,
    "start_time": "2023-07-24T08:35:11.793Z"
   },
   {
    "duration": 85,
    "start_time": "2023-07-24T08:35:11.825Z"
   },
   {
    "duration": 20,
    "start_time": "2023-07-24T08:35:11.912Z"
   },
   {
    "duration": 78,
    "start_time": "2023-07-24T08:35:11.934Z"
   },
   {
    "duration": 31,
    "start_time": "2023-07-24T08:35:12.014Z"
   },
   {
    "duration": 85,
    "start_time": "2023-07-24T08:35:12.048Z"
   },
   {
    "duration": 47,
    "start_time": "2023-07-24T08:35:12.135Z"
   },
   {
    "duration": 133,
    "start_time": "2023-07-24T08:35:12.193Z"
   },
   {
    "duration": 19,
    "start_time": "2023-07-24T08:35:12.329Z"
   },
   {
    "duration": 78,
    "start_time": "2023-07-24T08:35:12.351Z"
   },
   {
    "duration": 31,
    "start_time": "2023-07-24T08:35:12.432Z"
   },
   {
    "duration": 74,
    "start_time": "2023-07-24T08:35:12.468Z"
   },
   {
    "duration": 954,
    "start_time": "2023-07-24T08:35:12.544Z"
   },
   {
    "duration": 486,
    "start_time": "2023-07-24T08:35:13.500Z"
   },
   {
    "duration": 56,
    "start_time": "2023-07-24T08:35:13.989Z"
   },
   {
    "duration": 68,
    "start_time": "2023-07-24T08:35:14.048Z"
   },
   {
    "duration": 130,
    "start_time": "2023-07-24T08:35:14.121Z"
   },
   {
    "duration": 1061,
    "start_time": "2023-07-24T08:35:14.254Z"
   },
   {
    "duration": 427,
    "start_time": "2023-07-24T08:35:15.317Z"
   },
   {
    "duration": 4,
    "start_time": "2023-07-24T08:35:15.746Z"
   },
   {
    "duration": 138,
    "start_time": "2023-07-24T08:49:29.547Z"
   },
   {
    "duration": 1757,
    "start_time": "2023-07-24T08:49:54.593Z"
   },
   {
    "duration": 931,
    "start_time": "2023-07-24T08:49:56.352Z"
   },
   {
    "duration": 136,
    "start_time": "2023-07-24T08:49:57.285Z"
   },
   {
    "duration": 129,
    "start_time": "2023-07-24T08:49:57.424Z"
   },
   {
    "duration": 156,
    "start_time": "2023-07-24T08:49:57.555Z"
   },
   {
    "duration": 125,
    "start_time": "2023-07-24T08:49:57.713Z"
   },
   {
    "duration": 209,
    "start_time": "2023-07-24T08:49:57.839Z"
   },
   {
    "duration": 39,
    "start_time": "2023-07-24T08:49:58.050Z"
   },
   {
    "duration": 19,
    "start_time": "2023-07-24T08:49:58.091Z"
   },
   {
    "duration": 187,
    "start_time": "2023-07-24T08:49:58.114Z"
   },
   {
    "duration": 192,
    "start_time": "2023-07-24T08:49:58.303Z"
   },
   {
    "duration": 26,
    "start_time": "2023-07-24T08:49:58.497Z"
   },
   {
    "duration": 187,
    "start_time": "2023-07-24T08:49:58.525Z"
   },
   {
    "duration": 6,
    "start_time": "2023-07-24T08:49:58.714Z"
   },
   {
    "duration": 284,
    "start_time": "2023-07-24T08:49:58.721Z"
   },
   {
    "duration": 30,
    "start_time": "2023-07-24T08:49:59.007Z"
   },
   {
    "duration": 147,
    "start_time": "2023-07-24T08:49:59.039Z"
   },
   {
    "duration": 228,
    "start_time": "2023-07-24T08:49:59.189Z"
   },
   {
    "duration": 81,
    "start_time": "2023-07-24T08:49:59.419Z"
   },
   {
    "duration": 28,
    "start_time": "2023-07-24T08:49:59.502Z"
   },
   {
    "duration": 82,
    "start_time": "2023-07-24T08:49:59.532Z"
   },
   {
    "duration": 18,
    "start_time": "2023-07-24T08:49:59.616Z"
   },
   {
    "duration": 51,
    "start_time": "2023-07-24T08:49:59.636Z"
   },
   {
    "duration": 29,
    "start_time": "2023-07-24T08:49:59.697Z"
   },
   {
    "duration": 54,
    "start_time": "2023-07-24T08:49:59.728Z"
   },
   {
    "duration": 30,
    "start_time": "2023-07-24T08:49:59.786Z"
   },
   {
    "duration": 110,
    "start_time": "2023-07-24T08:49:59.818Z"
   },
   {
    "duration": 19,
    "start_time": "2023-07-24T08:49:59.932Z"
   },
   {
    "duration": 54,
    "start_time": "2023-07-24T08:49:59.953Z"
   },
   {
    "duration": 66,
    "start_time": "2023-07-24T08:50:00.009Z"
   },
   {
    "duration": 53,
    "start_time": "2023-07-24T08:50:00.080Z"
   },
   {
    "duration": 848,
    "start_time": "2023-07-24T08:50:00.135Z"
   },
   {
    "duration": 453,
    "start_time": "2023-07-24T08:50:00.985Z"
   },
   {
    "duration": 55,
    "start_time": "2023-07-24T08:50:01.441Z"
   },
   {
    "duration": 128,
    "start_time": "2023-07-24T08:50:01.498Z"
   },
   {
    "duration": 167,
    "start_time": "2023-07-24T08:50:01.628Z"
   },
   {
    "duration": 1164,
    "start_time": "2023-07-24T08:50:01.798Z"
   },
   {
    "duration": 396,
    "start_time": "2023-07-24T08:50:02.968Z"
   },
   {
    "duration": 137,
    "start_time": "2023-07-24T08:50:03.367Z"
   },
   {
    "duration": 0,
    "start_time": "2023-07-24T08:50:03.506Z"
   },
   {
    "duration": 656,
    "start_time": "2023-07-24T08:50:30.569Z"
   },
   {
    "duration": 3127,
    "start_time": "2023-07-24T08:52:17.381Z"
   },
   {
    "duration": 471,
    "start_time": "2023-07-24T08:55:06.085Z"
   },
   {
    "duration": 484,
    "start_time": "2023-07-24T08:55:30.154Z"
   },
   {
    "duration": 489,
    "start_time": "2023-07-24T08:55:44.617Z"
   },
   {
    "duration": 550,
    "start_time": "2023-07-24T08:57:44.248Z"
   },
   {
    "duration": 62,
    "start_time": "2023-07-24T08:59:24.526Z"
   },
   {
    "duration": 1832,
    "start_time": "2023-07-24T08:59:40.417Z"
   },
   {
    "duration": 965,
    "start_time": "2023-07-24T08:59:42.251Z"
   },
   {
    "duration": 172,
    "start_time": "2023-07-24T08:59:43.218Z"
   },
   {
    "duration": 142,
    "start_time": "2023-07-24T08:59:43.392Z"
   },
   {
    "duration": 155,
    "start_time": "2023-07-24T08:59:43.535Z"
   },
   {
    "duration": 127,
    "start_time": "2023-07-24T08:59:43.691Z"
   },
   {
    "duration": 238,
    "start_time": "2023-07-24T08:59:43.820Z"
   },
   {
    "duration": 36,
    "start_time": "2023-07-24T08:59:44.061Z"
   },
   {
    "duration": 23,
    "start_time": "2023-07-24T08:59:44.100Z"
   },
   {
    "duration": 202,
    "start_time": "2023-07-24T08:59:44.126Z"
   },
   {
    "duration": 188,
    "start_time": "2023-07-24T08:59:44.330Z"
   },
   {
    "duration": 26,
    "start_time": "2023-07-24T08:59:44.520Z"
   },
   {
    "duration": 167,
    "start_time": "2023-07-24T08:59:44.547Z"
   },
   {
    "duration": 6,
    "start_time": "2023-07-24T08:59:44.716Z"
   },
   {
    "duration": 254,
    "start_time": "2023-07-24T08:59:44.724Z"
   },
   {
    "duration": 31,
    "start_time": "2023-07-24T08:59:44.980Z"
   },
   {
    "duration": 137,
    "start_time": "2023-07-24T08:59:45.013Z"
   },
   {
    "duration": 244,
    "start_time": "2023-07-24T08:59:45.152Z"
   },
   {
    "duration": 59,
    "start_time": "2023-07-24T08:59:45.398Z"
   },
   {
    "duration": 29,
    "start_time": "2023-07-24T08:59:45.467Z"
   },
   {
    "duration": 82,
    "start_time": "2023-07-24T08:59:45.498Z"
   },
   {
    "duration": 18,
    "start_time": "2023-07-24T08:59:45.582Z"
   },
   {
    "duration": 37,
    "start_time": "2023-07-24T08:59:45.602Z"
   },
   {
    "duration": 44,
    "start_time": "2023-07-24T08:59:45.640Z"
   },
   {
    "duration": 33,
    "start_time": "2023-07-24T08:59:45.686Z"
   },
   {
    "duration": 41,
    "start_time": "2023-07-24T08:59:45.721Z"
   },
   {
    "duration": 126,
    "start_time": "2023-07-24T08:59:45.764Z"
   },
   {
    "duration": 19,
    "start_time": "2023-07-24T08:59:45.893Z"
   },
   {
    "duration": 32,
    "start_time": "2023-07-24T08:59:45.913Z"
   },
   {
    "duration": 38,
    "start_time": "2023-07-24T08:59:45.948Z"
   },
   {
    "duration": 42,
    "start_time": "2023-07-24T08:59:45.989Z"
   },
   {
    "duration": 846,
    "start_time": "2023-07-24T08:59:46.033Z"
   },
   {
    "duration": 413,
    "start_time": "2023-07-24T08:59:46.884Z"
   },
   {
    "duration": 43,
    "start_time": "2023-07-24T08:59:47.299Z"
   },
   {
    "duration": 48,
    "start_time": "2023-07-24T08:59:47.344Z"
   },
   {
    "duration": 93,
    "start_time": "2023-07-24T08:59:47.393Z"
   },
   {
    "duration": 909,
    "start_time": "2023-07-24T08:59:47.487Z"
   },
   {
    "duration": 386,
    "start_time": "2023-07-24T08:59:48.398Z"
   },
   {
    "duration": 572,
    "start_time": "2023-07-24T08:59:48.786Z"
   },
   {
    "duration": 67,
    "start_time": "2023-07-24T08:59:49.359Z"
   },
   {
    "duration": 4,
    "start_time": "2023-07-24T08:59:49.428Z"
   },
   {
    "duration": 2359,
    "start_time": "2023-07-24T12:11:12.557Z"
   },
   {
    "duration": 2625,
    "start_time": "2023-07-24T12:11:14.920Z"
   },
   {
    "duration": 274,
    "start_time": "2023-07-24T12:11:17.556Z"
   },
   {
    "duration": 283,
    "start_time": "2023-07-24T12:11:17.838Z"
   },
   {
    "duration": 275,
    "start_time": "2023-07-24T12:11:18.125Z"
   },
   {
    "duration": 147,
    "start_time": "2023-07-24T12:11:18.407Z"
   },
   {
    "duration": 283,
    "start_time": "2023-07-24T12:11:18.557Z"
   },
   {
    "duration": 35,
    "start_time": "2023-07-24T12:11:18.843Z"
   },
   {
    "duration": 38,
    "start_time": "2023-07-24T12:11:18.880Z"
   },
   {
    "duration": 236,
    "start_time": "2023-07-24T12:11:18.922Z"
   },
   {
    "duration": 238,
    "start_time": "2023-07-24T12:11:19.168Z"
   },
   {
    "duration": 30,
    "start_time": "2023-07-24T12:11:19.409Z"
   },
   {
    "duration": 202,
    "start_time": "2023-07-24T12:11:19.441Z"
   },
   {
    "duration": 9,
    "start_time": "2023-07-24T12:11:19.646Z"
   },
   {
    "duration": 303,
    "start_time": "2023-07-24T12:11:19.657Z"
   },
   {
    "duration": 55,
    "start_time": "2023-07-24T12:11:19.962Z"
   },
   {
    "duration": 221,
    "start_time": "2023-07-24T12:11:20.023Z"
   },
   {
    "duration": 292,
    "start_time": "2023-07-24T12:11:20.246Z"
   },
   {
    "duration": 128,
    "start_time": "2023-07-24T12:11:20.540Z"
   },
   {
    "duration": 42,
    "start_time": "2023-07-24T12:11:20.671Z"
   },
   {
    "duration": 121,
    "start_time": "2023-07-24T12:11:20.721Z"
   },
   {
    "duration": 55,
    "start_time": "2023-07-24T12:11:20.844Z"
   },
   {
    "duration": 65,
    "start_time": "2023-07-24T12:11:20.901Z"
   },
   {
    "duration": 123,
    "start_time": "2023-07-24T12:11:20.969Z"
   },
   {
    "duration": 137,
    "start_time": "2023-07-24T12:11:21.095Z"
   },
   {
    "duration": 32,
    "start_time": "2023-07-24T12:11:21.239Z"
   },
   {
    "duration": 180,
    "start_time": "2023-07-24T12:11:21.274Z"
   },
   {
    "duration": 32,
    "start_time": "2023-07-24T12:11:21.459Z"
   },
   {
    "duration": 139,
    "start_time": "2023-07-24T12:11:21.494Z"
   },
   {
    "duration": 83,
    "start_time": "2023-07-24T12:11:21.635Z"
   },
   {
    "duration": 73,
    "start_time": "2023-07-24T12:11:21.722Z"
   },
   {
    "duration": 1126,
    "start_time": "2023-07-24T12:11:21.797Z"
   },
   {
    "duration": 643,
    "start_time": "2023-07-24T12:11:22.925Z"
   },
   {
    "duration": 69,
    "start_time": "2023-07-24T12:11:23.571Z"
   },
   {
    "duration": 116,
    "start_time": "2023-07-24T12:11:23.642Z"
   },
   {
    "duration": 169,
    "start_time": "2023-07-24T12:11:23.761Z"
   },
   {
    "duration": 1400,
    "start_time": "2023-07-24T12:11:23.942Z"
   },
   {
    "duration": 547,
    "start_time": "2023-07-24T12:11:25.348Z"
   },
   {
    "duration": 975,
    "start_time": "2023-07-24T12:11:25.900Z"
   },
   {
    "duration": 90,
    "start_time": "2023-07-24T12:11:26.877Z"
   },
   {
    "duration": 23,
    "start_time": "2023-07-24T12:11:26.974Z"
   },
   {
    "duration": 1871,
    "start_time": "2023-07-24T12:16:48.402Z"
   },
   {
    "duration": 993,
    "start_time": "2023-07-24T12:16:50.275Z"
   },
   {
    "duration": 184,
    "start_time": "2023-07-24T12:16:51.271Z"
   },
   {
    "duration": 165,
    "start_time": "2023-07-24T12:16:51.457Z"
   },
   {
    "duration": 174,
    "start_time": "2023-07-24T12:16:51.623Z"
   },
   {
    "duration": 138,
    "start_time": "2023-07-24T12:16:51.799Z"
   },
   {
    "duration": 255,
    "start_time": "2023-07-24T12:16:51.939Z"
   },
   {
    "duration": 48,
    "start_time": "2023-07-24T12:16:52.196Z"
   },
   {
    "duration": 54,
    "start_time": "2023-07-24T12:16:52.247Z"
   },
   {
    "duration": 218,
    "start_time": "2023-07-24T12:16:52.304Z"
   },
   {
    "duration": 198,
    "start_time": "2023-07-24T12:16:52.524Z"
   },
   {
    "duration": 29,
    "start_time": "2023-07-24T12:16:52.724Z"
   },
   {
    "duration": 199,
    "start_time": "2023-07-24T12:16:52.755Z"
   },
   {
    "duration": 8,
    "start_time": "2023-07-24T12:16:52.956Z"
   },
   {
    "duration": 300,
    "start_time": "2023-07-24T12:16:52.966Z"
   },
   {
    "duration": 57,
    "start_time": "2023-07-24T12:16:53.268Z"
   },
   {
    "duration": 161,
    "start_time": "2023-07-24T12:16:53.327Z"
   },
   {
    "duration": 199,
    "start_time": "2023-07-24T12:16:53.491Z"
   },
   {
    "duration": 89,
    "start_time": "2023-07-24T12:16:53.692Z"
   },
   {
    "duration": 30,
    "start_time": "2023-07-24T12:16:53.786Z"
   },
   {
    "duration": 67,
    "start_time": "2023-07-24T12:16:53.819Z"
   },
   {
    "duration": 35,
    "start_time": "2023-07-24T12:16:53.888Z"
   },
   {
    "duration": 67,
    "start_time": "2023-07-24T12:16:53.925Z"
   },
   {
    "duration": 27,
    "start_time": "2023-07-24T12:16:53.994Z"
   },
   {
    "duration": 48,
    "start_time": "2023-07-24T12:16:54.023Z"
   },
   {
    "duration": 21,
    "start_time": "2023-07-24T12:16:54.074Z"
   },
   {
    "duration": 116,
    "start_time": "2023-07-24T12:16:54.097Z"
   },
   {
    "duration": 19,
    "start_time": "2023-07-24T12:16:54.217Z"
   },
   {
    "duration": 87,
    "start_time": "2023-07-24T12:16:54.238Z"
   },
   {
    "duration": 32,
    "start_time": "2023-07-24T12:16:54.327Z"
   },
   {
    "duration": 49,
    "start_time": "2023-07-24T12:16:54.361Z"
   },
   {
    "duration": 889,
    "start_time": "2023-07-24T12:16:54.413Z"
   },
   {
    "duration": 449,
    "start_time": "2023-07-24T12:16:55.304Z"
   },
   {
    "duration": 54,
    "start_time": "2023-07-24T12:16:55.756Z"
   },
   {
    "duration": 51,
    "start_time": "2023-07-24T12:16:55.813Z"
   },
   {
    "duration": 150,
    "start_time": "2023-07-24T12:16:55.869Z"
   },
   {
    "duration": 1358,
    "start_time": "2023-07-24T12:16:56.021Z"
   },
   {
    "duration": 427,
    "start_time": "2023-07-24T12:16:57.381Z"
   },
   {
    "duration": 674,
    "start_time": "2023-07-24T12:16:57.810Z"
   },
   {
    "duration": 76,
    "start_time": "2023-07-24T12:16:58.487Z"
   },
   {
    "duration": 5,
    "start_time": "2023-07-24T12:16:58.565Z"
   },
   {
    "duration": 45344,
    "start_time": "2023-07-24T12:22:40.571Z"
   },
   {
    "duration": 7,
    "start_time": "2023-07-24T12:26:17.808Z"
   },
   {
    "duration": 1772,
    "start_time": "2023-07-24T12:27:40.479Z"
   },
   {
    "duration": 997,
    "start_time": "2023-07-24T12:27:42.253Z"
   },
   {
    "duration": 141,
    "start_time": "2023-07-24T12:27:43.252Z"
   },
   {
    "duration": 132,
    "start_time": "2023-07-24T12:27:43.395Z"
   },
   {
    "duration": 149,
    "start_time": "2023-07-24T12:27:43.528Z"
   },
   {
    "duration": 121,
    "start_time": "2023-07-24T12:27:43.678Z"
   },
   {
    "duration": 224,
    "start_time": "2023-07-24T12:27:43.800Z"
   },
   {
    "duration": 31,
    "start_time": "2023-07-24T12:27:44.026Z"
   },
   {
    "duration": 18,
    "start_time": "2023-07-24T12:27:44.059Z"
   },
   {
    "duration": 214,
    "start_time": "2023-07-24T12:27:44.080Z"
   },
   {
    "duration": 182,
    "start_time": "2023-07-24T12:27:44.296Z"
   },
   {
    "duration": 40,
    "start_time": "2023-07-24T12:27:44.481Z"
   },
   {
    "duration": 167,
    "start_time": "2023-07-24T12:27:44.523Z"
   },
   {
    "duration": 22,
    "start_time": "2023-07-24T12:27:44.692Z"
   },
   {
    "duration": 311,
    "start_time": "2023-07-24T12:27:44.722Z"
   },
   {
    "duration": 30,
    "start_time": "2023-07-24T12:27:45.036Z"
   },
   {
    "duration": 156,
    "start_time": "2023-07-24T12:27:45.068Z"
   },
   {
    "duration": 220,
    "start_time": "2023-07-24T12:27:45.226Z"
   },
   {
    "duration": 83,
    "start_time": "2023-07-24T12:27:45.449Z"
   },
   {
    "duration": 27,
    "start_time": "2023-07-24T12:27:45.535Z"
   },
   {
    "duration": 82,
    "start_time": "2023-07-24T12:27:45.565Z"
   },
   {
    "duration": 19,
    "start_time": "2023-07-24T12:27:45.648Z"
   },
   {
    "duration": 57,
    "start_time": "2023-07-24T12:27:45.668Z"
   },
   {
    "duration": 36,
    "start_time": "2023-07-24T12:27:45.727Z"
   },
   {
    "duration": 72,
    "start_time": "2023-07-24T12:27:45.765Z"
   },
   {
    "duration": 28,
    "start_time": "2023-07-24T12:27:45.840Z"
   },
   {
    "duration": 125,
    "start_time": "2023-07-24T12:27:45.870Z"
   },
   {
    "duration": 28,
    "start_time": "2023-07-24T12:27:46.000Z"
   },
   {
    "duration": 65,
    "start_time": "2023-07-24T12:27:46.030Z"
   },
   {
    "duration": 21,
    "start_time": "2023-07-24T12:27:46.098Z"
   },
   {
    "duration": 51,
    "start_time": "2023-07-24T12:27:46.122Z"
   },
   {
    "duration": 777,
    "start_time": "2023-07-24T12:27:46.175Z"
   },
   {
    "duration": 422,
    "start_time": "2023-07-24T12:27:46.953Z"
   },
   {
    "duration": 57,
    "start_time": "2023-07-24T12:27:47.377Z"
   },
   {
    "duration": 34,
    "start_time": "2023-07-24T12:27:47.436Z"
   },
   {
    "duration": 101,
    "start_time": "2023-07-24T12:27:47.472Z"
   },
   {
    "duration": 1023,
    "start_time": "2023-07-24T12:27:47.575Z"
   },
   {
    "duration": 435,
    "start_time": "2023-07-24T12:27:48.600Z"
   },
   {
    "duration": 651,
    "start_time": "2023-07-24T12:27:49.037Z"
   },
   {
    "duration": 69,
    "start_time": "2023-07-24T12:27:49.690Z"
   },
   {
    "duration": 51175,
    "start_time": "2023-07-24T12:27:49.761Z"
   },
   {
    "duration": 4,
    "start_time": "2023-07-24T12:31:32.833Z"
   },
   {
    "duration": 347,
    "start_time": "2023-07-24T12:32:48.448Z"
   },
   {
    "duration": 328,
    "start_time": "2023-07-24T12:32:59.067Z"
   },
   {
    "duration": 37,
    "start_time": "2023-07-24T12:37:20.170Z"
   },
   {
    "duration": 783,
    "start_time": "2023-07-24T12:38:31.545Z"
   },
   {
    "duration": 834,
    "start_time": "2023-07-24T12:38:38.981Z"
   },
   {
    "duration": 11,
    "start_time": "2023-07-24T12:38:39.819Z"
   },
   {
    "duration": 80,
    "start_time": "2023-07-24T12:41:24.205Z"
   },
   {
    "duration": 43,
    "start_time": "2023-07-24T12:41:31.580Z"
   },
   {
    "duration": 9,
    "start_time": "2023-07-24T12:41:59.975Z"
   },
   {
    "duration": 2087,
    "start_time": "2023-07-24T12:42:13.208Z"
   },
   {
    "duration": 948,
    "start_time": "2023-07-24T12:42:15.298Z"
   },
   {
    "duration": 163,
    "start_time": "2023-07-24T12:42:16.249Z"
   },
   {
    "duration": 241,
    "start_time": "2023-07-24T12:42:16.415Z"
   },
   {
    "duration": 187,
    "start_time": "2023-07-24T12:42:16.659Z"
   },
   {
    "duration": 116,
    "start_time": "2023-07-24T12:42:16.848Z"
   },
   {
    "duration": 197,
    "start_time": "2023-07-24T12:42:16.966Z"
   },
   {
    "duration": 28,
    "start_time": "2023-07-24T12:42:17.166Z"
   },
   {
    "duration": 30,
    "start_time": "2023-07-24T12:42:17.195Z"
   },
   {
    "duration": 184,
    "start_time": "2023-07-24T12:42:17.227Z"
   },
   {
    "duration": 199,
    "start_time": "2023-07-24T12:42:17.413Z"
   },
   {
    "duration": 28,
    "start_time": "2023-07-24T12:42:17.614Z"
   },
   {
    "duration": 216,
    "start_time": "2023-07-24T12:42:17.645Z"
   },
   {
    "duration": 6,
    "start_time": "2023-07-24T12:42:17.864Z"
   },
   {
    "duration": 440,
    "start_time": "2023-07-24T12:42:17.872Z"
   },
   {
    "duration": 30,
    "start_time": "2023-07-24T12:42:18.314Z"
   },
   {
    "duration": 138,
    "start_time": "2023-07-24T12:42:18.346Z"
   },
   {
    "duration": 223,
    "start_time": "2023-07-24T12:42:18.487Z"
   },
   {
    "duration": 69,
    "start_time": "2023-07-24T12:42:18.712Z"
   },
   {
    "duration": 36,
    "start_time": "2023-07-24T12:42:18.783Z"
   },
   {
    "duration": 69,
    "start_time": "2023-07-24T12:42:18.821Z"
   },
   {
    "duration": 27,
    "start_time": "2023-07-24T12:42:18.891Z"
   },
   {
    "duration": 57,
    "start_time": "2023-07-24T12:42:18.920Z"
   },
   {
    "duration": 19,
    "start_time": "2023-07-24T12:42:18.980Z"
   },
   {
    "duration": 46,
    "start_time": "2023-07-24T12:42:19.001Z"
   },
   {
    "duration": 22,
    "start_time": "2023-07-24T12:42:19.050Z"
   },
   {
    "duration": 130,
    "start_time": "2023-07-24T12:42:19.075Z"
   },
   {
    "duration": 20,
    "start_time": "2023-07-24T12:42:19.208Z"
   },
   {
    "duration": 73,
    "start_time": "2023-07-24T12:42:19.231Z"
   },
   {
    "duration": 41,
    "start_time": "2023-07-24T12:42:19.307Z"
   },
   {
    "duration": 70,
    "start_time": "2023-07-24T12:42:19.351Z"
   },
   {
    "duration": 918,
    "start_time": "2023-07-24T12:42:19.424Z"
   },
   {
    "duration": 477,
    "start_time": "2023-07-24T12:42:20.343Z"
   },
   {
    "duration": 43,
    "start_time": "2023-07-24T12:42:20.821Z"
   },
   {
    "duration": 99,
    "start_time": "2023-07-24T12:42:20.866Z"
   },
   {
    "duration": 102,
    "start_time": "2023-07-24T12:42:20.967Z"
   },
   {
    "duration": 1097,
    "start_time": "2023-07-24T12:42:21.071Z"
   },
   {
    "duration": 413,
    "start_time": "2023-07-24T12:42:22.171Z"
   },
   {
    "duration": 569,
    "start_time": "2023-07-24T12:42:22.586Z"
   },
   {
    "duration": 73,
    "start_time": "2023-07-24T12:42:23.157Z"
   },
   {
    "duration": 30177,
    "start_time": "2023-07-24T12:42:23.234Z"
   },
   {
    "duration": 803,
    "start_time": "2023-07-24T12:42:53.413Z"
   },
   {
    "duration": 93,
    "start_time": "2023-07-24T12:42:54.221Z"
   },
   {
    "duration": 29027,
    "start_time": "2023-07-24T12:49:54.487Z"
   },
   {
    "duration": 836,
    "start_time": "2023-07-24T12:51:02.583Z"
   },
   {
    "duration": 9,
    "start_time": "2023-07-24T12:51:26.491Z"
   },
   {
    "duration": 1651,
    "start_time": "2023-07-24T12:51:40.761Z"
   },
   {
    "duration": 989,
    "start_time": "2023-07-24T12:51:42.414Z"
   },
   {
    "duration": 129,
    "start_time": "2023-07-24T12:51:43.405Z"
   },
   {
    "duration": 141,
    "start_time": "2023-07-24T12:51:43.537Z"
   },
   {
    "duration": 152,
    "start_time": "2023-07-24T12:51:43.680Z"
   },
   {
    "duration": 123,
    "start_time": "2023-07-24T12:51:43.834Z"
   },
   {
    "duration": 205,
    "start_time": "2023-07-24T12:51:43.959Z"
   },
   {
    "duration": 45,
    "start_time": "2023-07-24T12:51:44.166Z"
   },
   {
    "duration": 19,
    "start_time": "2023-07-24T12:51:44.212Z"
   },
   {
    "duration": 267,
    "start_time": "2023-07-24T12:51:44.234Z"
   },
   {
    "duration": 191,
    "start_time": "2023-07-24T12:51:44.503Z"
   },
   {
    "duration": 36,
    "start_time": "2023-07-24T12:51:44.696Z"
   },
   {
    "duration": 176,
    "start_time": "2023-07-24T12:51:44.734Z"
   },
   {
    "duration": 8,
    "start_time": "2023-07-24T12:51:44.912Z"
   },
   {
    "duration": 277,
    "start_time": "2023-07-24T12:51:44.922Z"
   },
   {
    "duration": 33,
    "start_time": "2023-07-24T12:51:45.201Z"
   },
   {
    "duration": 201,
    "start_time": "2023-07-24T12:51:45.236Z"
   },
   {
    "duration": 347,
    "start_time": "2023-07-24T12:51:45.439Z"
   },
   {
    "duration": 155,
    "start_time": "2023-07-24T12:51:45.789Z"
   },
   {
    "duration": 63,
    "start_time": "2023-07-24T12:51:45.946Z"
   },
   {
    "duration": 83,
    "start_time": "2023-07-24T12:51:46.011Z"
   },
   {
    "duration": 29,
    "start_time": "2023-07-24T12:51:46.098Z"
   },
   {
    "duration": 82,
    "start_time": "2023-07-24T12:51:46.129Z"
   },
   {
    "duration": 78,
    "start_time": "2023-07-24T12:51:46.214Z"
   },
   {
    "duration": 114,
    "start_time": "2023-07-24T12:51:46.294Z"
   },
   {
    "duration": 21,
    "start_time": "2023-07-24T12:51:46.410Z"
   },
   {
    "duration": 125,
    "start_time": "2023-07-24T12:51:46.432Z"
   },
   {
    "duration": 19,
    "start_time": "2023-07-24T12:51:46.561Z"
   },
   {
    "duration": 47,
    "start_time": "2023-07-24T12:51:46.581Z"
   },
   {
    "duration": 18,
    "start_time": "2023-07-24T12:51:46.630Z"
   },
   {
    "duration": 45,
    "start_time": "2023-07-24T12:51:46.650Z"
   },
   {
    "duration": 841,
    "start_time": "2023-07-24T12:51:46.698Z"
   },
   {
    "duration": 420,
    "start_time": "2023-07-24T12:51:47.541Z"
   },
   {
    "duration": 55,
    "start_time": "2023-07-24T12:51:47.963Z"
   },
   {
    "duration": 46,
    "start_time": "2023-07-24T12:51:48.020Z"
   },
   {
    "duration": 110,
    "start_time": "2023-07-24T12:51:48.068Z"
   },
   {
    "duration": 1062,
    "start_time": "2023-07-24T12:51:48.180Z"
   },
   {
    "duration": 429,
    "start_time": "2023-07-24T12:51:49.244Z"
   },
   {
    "duration": 597,
    "start_time": "2023-07-24T12:51:49.676Z"
   },
   {
    "duration": 67,
    "start_time": "2023-07-24T12:51:50.274Z"
   },
   {
    "duration": 32571,
    "start_time": "2023-07-24T12:51:50.343Z"
   },
   {
    "duration": 804,
    "start_time": "2023-07-24T12:52:22.916Z"
   },
   {
    "duration": 93,
    "start_time": "2023-07-24T12:52:23.722Z"
   },
   {
    "duration": 1038,
    "start_time": "2023-07-24T12:59:00.692Z"
   },
   {
    "duration": 1739,
    "start_time": "2023-07-24T13:02:19.551Z"
   },
   {
    "duration": 1182,
    "start_time": "2023-07-24T13:02:21.292Z"
   },
   {
    "duration": 166,
    "start_time": "2023-07-24T13:02:22.476Z"
   },
   {
    "duration": 156,
    "start_time": "2023-07-24T13:02:22.645Z"
   },
   {
    "duration": 163,
    "start_time": "2023-07-24T13:02:22.802Z"
   },
   {
    "duration": 135,
    "start_time": "2023-07-24T13:02:22.967Z"
   },
   {
    "duration": 199,
    "start_time": "2023-07-24T13:02:23.115Z"
   },
   {
    "duration": 38,
    "start_time": "2023-07-24T13:02:23.316Z"
   },
   {
    "duration": 19,
    "start_time": "2023-07-24T13:02:23.356Z"
   },
   {
    "duration": 196,
    "start_time": "2023-07-24T13:02:23.378Z"
   },
   {
    "duration": 253,
    "start_time": "2023-07-24T13:02:23.576Z"
   },
   {
    "duration": 36,
    "start_time": "2023-07-24T13:02:23.833Z"
   },
   {
    "duration": 194,
    "start_time": "2023-07-24T13:02:23.871Z"
   },
   {
    "duration": 7,
    "start_time": "2023-07-24T13:02:24.067Z"
   },
   {
    "duration": 272,
    "start_time": "2023-07-24T13:02:24.076Z"
   },
   {
    "duration": 71,
    "start_time": "2023-07-24T13:02:24.350Z"
   },
   {
    "duration": 133,
    "start_time": "2023-07-24T13:02:24.424Z"
   },
   {
    "duration": 242,
    "start_time": "2023-07-24T13:02:24.558Z"
   },
   {
    "duration": 83,
    "start_time": "2023-07-24T13:02:24.802Z"
   },
   {
    "duration": 41,
    "start_time": "2023-07-24T13:02:24.887Z"
   },
   {
    "duration": 63,
    "start_time": "2023-07-24T13:02:24.930Z"
   },
   {
    "duration": 34,
    "start_time": "2023-07-24T13:02:24.996Z"
   },
   {
    "duration": 60,
    "start_time": "2023-07-24T13:02:25.033Z"
   },
   {
    "duration": 36,
    "start_time": "2023-07-24T13:02:25.096Z"
   },
   {
    "duration": 37,
    "start_time": "2023-07-24T13:02:25.134Z"
   },
   {
    "duration": 67,
    "start_time": "2023-07-24T13:02:25.174Z"
   },
   {
    "duration": 155,
    "start_time": "2023-07-24T13:02:25.243Z"
   },
   {
    "duration": 44,
    "start_time": "2023-07-24T13:02:25.409Z"
   },
   {
    "duration": 39,
    "start_time": "2023-07-24T13:02:25.456Z"
   },
   {
    "duration": 37,
    "start_time": "2023-07-24T13:02:25.497Z"
   },
   {
    "duration": 50,
    "start_time": "2023-07-24T13:02:25.537Z"
   },
   {
    "duration": 981,
    "start_time": "2023-07-24T13:02:25.589Z"
   },
   {
    "duration": 453,
    "start_time": "2023-07-24T13:02:26.572Z"
   },
   {
    "duration": 57,
    "start_time": "2023-07-24T13:02:27.031Z"
   },
   {
    "duration": 283,
    "start_time": "2023-07-24T13:02:27.090Z"
   },
   {
    "duration": 200,
    "start_time": "2023-07-24T13:02:27.375Z"
   },
   {
    "duration": 1169,
    "start_time": "2023-07-24T13:02:27.578Z"
   },
   {
    "duration": 426,
    "start_time": "2023-07-24T13:02:28.749Z"
   },
   {
    "duration": 671,
    "start_time": "2023-07-24T13:02:29.177Z"
   },
   {
    "duration": 78,
    "start_time": "2023-07-24T13:02:29.850Z"
   },
   {
    "duration": 47185,
    "start_time": "2023-07-24T13:02:29.930Z"
   },
   {
    "duration": 915,
    "start_time": "2023-07-24T13:03:17.124Z"
   },
   {
    "duration": 12,
    "start_time": "2023-07-24T13:03:18.049Z"
   },
   {
    "duration": 2160,
    "start_time": "2023-07-24T13:14:18.827Z"
   },
   {
    "duration": 1177,
    "start_time": "2023-07-24T13:14:20.989Z"
   },
   {
    "duration": 263,
    "start_time": "2023-07-24T13:14:22.168Z"
   },
   {
    "duration": 276,
    "start_time": "2023-07-24T13:14:22.436Z"
   },
   {
    "duration": 157,
    "start_time": "2023-07-24T13:14:22.714Z"
   },
   {
    "duration": 151,
    "start_time": "2023-07-24T13:14:22.874Z"
   },
   {
    "duration": 311,
    "start_time": "2023-07-24T13:14:23.028Z"
   },
   {
    "duration": 34,
    "start_time": "2023-07-24T13:14:23.341Z"
   },
   {
    "duration": 88,
    "start_time": "2023-07-24T13:14:23.377Z"
   },
   {
    "duration": 211,
    "start_time": "2023-07-24T13:14:23.470Z"
   },
   {
    "duration": 204,
    "start_time": "2023-07-24T13:14:23.683Z"
   },
   {
    "duration": 50,
    "start_time": "2023-07-24T13:14:23.889Z"
   },
   {
    "duration": 226,
    "start_time": "2023-07-24T13:14:23.941Z"
   },
   {
    "duration": 7,
    "start_time": "2023-07-24T13:14:24.170Z"
   },
   {
    "duration": 291,
    "start_time": "2023-07-24T13:14:24.179Z"
   },
   {
    "duration": 55,
    "start_time": "2023-07-24T13:14:24.472Z"
   },
   {
    "duration": 195,
    "start_time": "2023-07-24T13:14:24.529Z"
   },
   {
    "duration": 249,
    "start_time": "2023-07-24T13:14:24.731Z"
   },
   {
    "duration": 78,
    "start_time": "2023-07-24T13:14:24.982Z"
   },
   {
    "duration": 52,
    "start_time": "2023-07-24T13:14:25.063Z"
   },
   {
    "duration": 77,
    "start_time": "2023-07-24T13:14:25.116Z"
   },
   {
    "duration": 27,
    "start_time": "2023-07-24T13:14:25.214Z"
   },
   {
    "duration": 71,
    "start_time": "2023-07-24T13:14:25.244Z"
   },
   {
    "duration": 38,
    "start_time": "2023-07-24T13:14:25.320Z"
   },
   {
    "duration": 55,
    "start_time": "2023-07-24T13:14:25.360Z"
   },
   {
    "duration": 44,
    "start_time": "2023-07-24T13:14:25.418Z"
   },
   {
    "duration": 129,
    "start_time": "2023-07-24T13:14:25.464Z"
   },
   {
    "duration": 44,
    "start_time": "2023-07-24T13:14:25.597Z"
   },
   {
    "duration": 60,
    "start_time": "2023-07-24T13:14:25.644Z"
   },
   {
    "duration": 71,
    "start_time": "2023-07-24T13:14:25.706Z"
   },
   {
    "duration": 69,
    "start_time": "2023-07-24T13:14:25.779Z"
   },
   {
    "duration": 1163,
    "start_time": "2023-07-24T13:14:25.850Z"
   },
   {
    "duration": 486,
    "start_time": "2023-07-24T13:14:27.014Z"
   },
   {
    "duration": 55,
    "start_time": "2023-07-24T13:14:27.502Z"
   },
   {
    "duration": 85,
    "start_time": "2023-07-24T13:14:27.558Z"
   },
   {
    "duration": 131,
    "start_time": "2023-07-24T13:14:27.646Z"
   },
   {
    "duration": 1158,
    "start_time": "2023-07-24T13:14:27.780Z"
   },
   {
    "duration": 425,
    "start_time": "2023-07-24T13:14:28.941Z"
   },
   {
    "duration": 680,
    "start_time": "2023-07-24T13:14:29.369Z"
   },
   {
    "duration": 76,
    "start_time": "2023-07-24T13:14:30.051Z"
   },
   {
    "duration": 52391,
    "start_time": "2023-07-24T13:14:30.133Z"
   },
   {
    "duration": 1843,
    "start_time": "2023-07-24T13:23:57.888Z"
   },
   {
    "duration": 1191,
    "start_time": "2023-07-24T13:23:59.735Z"
   },
   {
    "duration": 134,
    "start_time": "2023-07-24T13:24:00.929Z"
   },
   {
    "duration": 259,
    "start_time": "2023-07-24T13:24:01.067Z"
   },
   {
    "duration": 150,
    "start_time": "2023-07-24T13:24:01.331Z"
   },
   {
    "duration": 298,
    "start_time": "2023-07-24T13:24:01.484Z"
   },
   {
    "duration": 356,
    "start_time": "2023-07-24T13:24:01.784Z"
   },
   {
    "duration": 58,
    "start_time": "2023-07-24T13:24:02.142Z"
   },
   {
    "duration": 45,
    "start_time": "2023-07-24T13:24:02.202Z"
   },
   {
    "duration": 242,
    "start_time": "2023-07-24T13:24:02.251Z"
   },
   {
    "duration": 290,
    "start_time": "2023-07-24T13:24:02.497Z"
   },
   {
    "duration": 54,
    "start_time": "2023-07-24T13:24:02.789Z"
   },
   {
    "duration": 338,
    "start_time": "2023-07-24T13:24:02.845Z"
   },
   {
    "duration": 7,
    "start_time": "2023-07-24T13:24:03.185Z"
   },
   {
    "duration": 360,
    "start_time": "2023-07-24T13:24:03.194Z"
   },
   {
    "duration": 33,
    "start_time": "2023-07-24T13:24:03.556Z"
   },
   {
    "duration": 190,
    "start_time": "2023-07-24T13:24:03.591Z"
   },
   {
    "duration": 259,
    "start_time": "2023-07-24T13:24:03.783Z"
   },
   {
    "duration": 108,
    "start_time": "2023-07-24T13:24:04.044Z"
   },
   {
    "duration": 105,
    "start_time": "2023-07-24T13:24:04.154Z"
   },
   {
    "duration": 165,
    "start_time": "2023-07-24T13:24:04.262Z"
   },
   {
    "duration": 29,
    "start_time": "2023-07-24T13:24:04.429Z"
   },
   {
    "duration": 44,
    "start_time": "2023-07-24T13:24:04.460Z"
   },
   {
    "duration": 43,
    "start_time": "2023-07-24T13:24:04.506Z"
   },
   {
    "duration": 42,
    "start_time": "2023-07-24T13:24:04.550Z"
   },
   {
    "duration": 51,
    "start_time": "2023-07-24T13:24:04.594Z"
   },
   {
    "duration": 156,
    "start_time": "2023-07-24T13:24:04.647Z"
   },
   {
    "duration": 30,
    "start_time": "2023-07-24T13:24:04.808Z"
   },
   {
    "duration": 93,
    "start_time": "2023-07-24T13:24:04.840Z"
   },
   {
    "duration": 160,
    "start_time": "2023-07-24T13:24:04.936Z"
   },
   {
    "duration": 115,
    "start_time": "2023-07-24T13:24:05.099Z"
   },
   {
    "duration": 1029,
    "start_time": "2023-07-24T13:24:05.222Z"
   },
   {
    "duration": 578,
    "start_time": "2023-07-24T13:24:06.254Z"
   },
   {
    "duration": 51,
    "start_time": "2023-07-24T13:24:06.835Z"
   },
   {
    "duration": 61,
    "start_time": "2023-07-24T13:24:06.888Z"
   },
   {
    "duration": 137,
    "start_time": "2023-07-24T13:24:06.951Z"
   },
   {
    "duration": 1202,
    "start_time": "2023-07-24T13:24:07.090Z"
   },
   {
    "duration": 445,
    "start_time": "2023-07-24T13:24:08.294Z"
   },
   {
    "duration": 644,
    "start_time": "2023-07-24T13:24:08.742Z"
   },
   {
    "duration": 86,
    "start_time": "2023-07-24T13:24:09.388Z"
   },
   {
    "duration": 48185,
    "start_time": "2023-07-24T13:24:09.476Z"
   },
   {
    "duration": 121614,
    "start_time": "2023-07-24T13:24:57.664Z"
   },
   {
    "duration": 372,
    "start_time": "2023-07-24T13:26:59.280Z"
   },
   {
    "duration": 604,
    "start_time": "2023-07-24T13:40:35.177Z"
   },
   {
    "duration": 697,
    "start_time": "2023-07-24T13:42:43.256Z"
   },
   {
    "duration": 1578,
    "start_time": "2023-07-24T13:43:20.845Z"
   },
   {
    "duration": 1029,
    "start_time": "2023-07-24T13:43:22.425Z"
   },
   {
    "duration": 125,
    "start_time": "2023-07-24T13:43:23.456Z"
   },
   {
    "duration": 130,
    "start_time": "2023-07-24T13:43:23.583Z"
   },
   {
    "duration": 147,
    "start_time": "2023-07-24T13:43:23.714Z"
   },
   {
    "duration": 123,
    "start_time": "2023-07-24T13:43:23.863Z"
   },
   {
    "duration": 206,
    "start_time": "2023-07-24T13:43:23.989Z"
   },
   {
    "duration": 41,
    "start_time": "2023-07-24T13:43:24.197Z"
   },
   {
    "duration": 21,
    "start_time": "2023-07-24T13:43:24.240Z"
   },
   {
    "duration": 197,
    "start_time": "2023-07-24T13:43:24.264Z"
   },
   {
    "duration": 188,
    "start_time": "2023-07-24T13:43:24.464Z"
   },
   {
    "duration": 31,
    "start_time": "2023-07-24T13:43:24.654Z"
   },
   {
    "duration": 187,
    "start_time": "2023-07-24T13:43:24.687Z"
   },
   {
    "duration": 7,
    "start_time": "2023-07-24T13:43:24.876Z"
   },
   {
    "duration": 271,
    "start_time": "2023-07-24T13:43:24.885Z"
   },
   {
    "duration": 32,
    "start_time": "2023-07-24T13:43:25.159Z"
   },
   {
    "duration": 139,
    "start_time": "2023-07-24T13:43:25.193Z"
   },
   {
    "duration": 211,
    "start_time": "2023-07-24T13:43:25.334Z"
   },
   {
    "duration": 74,
    "start_time": "2023-07-24T13:43:25.546Z"
   },
   {
    "duration": 31,
    "start_time": "2023-07-24T13:43:25.622Z"
   },
   {
    "duration": 84,
    "start_time": "2023-07-24T13:43:25.655Z"
   },
   {
    "duration": 19,
    "start_time": "2023-07-24T13:43:25.742Z"
   },
   {
    "duration": 51,
    "start_time": "2023-07-24T13:43:25.763Z"
   },
   {
    "duration": 18,
    "start_time": "2023-07-24T13:43:25.816Z"
   },
   {
    "duration": 51,
    "start_time": "2023-07-24T13:43:25.837Z"
   },
   {
    "duration": 42,
    "start_time": "2023-07-24T13:43:25.891Z"
   },
   {
    "duration": 143,
    "start_time": "2023-07-24T13:43:25.936Z"
   },
   {
    "duration": 33,
    "start_time": "2023-07-24T13:43:26.084Z"
   },
   {
    "duration": 60,
    "start_time": "2023-07-24T13:43:26.120Z"
   },
   {
    "duration": 26,
    "start_time": "2023-07-24T13:43:26.183Z"
   },
   {
    "duration": 68,
    "start_time": "2023-07-24T13:43:26.211Z"
   },
   {
    "duration": 868,
    "start_time": "2023-07-24T13:43:26.282Z"
   },
   {
    "duration": 450,
    "start_time": "2023-07-24T13:43:27.152Z"
   },
   {
    "duration": 48,
    "start_time": "2023-07-24T13:43:27.604Z"
   },
   {
    "duration": 59,
    "start_time": "2023-07-24T13:43:27.654Z"
   },
   {
    "duration": 99,
    "start_time": "2023-07-24T13:43:27.714Z"
   },
   {
    "duration": 1130,
    "start_time": "2023-07-24T13:43:27.814Z"
   },
   {
    "duration": 402,
    "start_time": "2023-07-24T13:43:28.945Z"
   },
   {
    "duration": 630,
    "start_time": "2023-07-24T13:43:29.349Z"
   },
   {
    "duration": 108,
    "start_time": "2023-07-24T13:43:29.981Z"
   },
   {
    "duration": 30132,
    "start_time": "2023-07-24T13:43:30.092Z"
   },
   {
    "duration": 122254,
    "start_time": "2023-07-24T13:44:00.310Z"
   },
   {
    "duration": 554,
    "start_time": "2023-07-24T13:46:02.567Z"
   },
   {
    "duration": 23,
    "start_time": "2023-07-24T13:51:05.119Z"
   },
   {
    "duration": 37,
    "start_time": "2023-07-24T13:51:41.725Z"
   },
   {
    "duration": 16,
    "start_time": "2023-07-24T13:52:19.924Z"
   },
   {
    "duration": 29,
    "start_time": "2023-07-24T13:56:52.125Z"
   },
   {
    "duration": 42,
    "start_time": "2023-07-24T13:57:31.293Z"
   },
   {
    "duration": 14,
    "start_time": "2023-07-24T13:58:23.723Z"
   },
   {
    "duration": 20,
    "start_time": "2023-07-24T14:00:19.835Z"
   },
   {
    "duration": 1620,
    "start_time": "2023-07-24T14:02:23.486Z"
   },
   {
    "duration": 1053,
    "start_time": "2023-07-24T14:02:25.108Z"
   },
   {
    "duration": 132,
    "start_time": "2023-07-24T14:02:26.163Z"
   },
   {
    "duration": 127,
    "start_time": "2023-07-24T14:02:26.308Z"
   },
   {
    "duration": 146,
    "start_time": "2023-07-24T14:02:26.437Z"
   },
   {
    "duration": 126,
    "start_time": "2023-07-24T14:02:26.585Z"
   },
   {
    "duration": 201,
    "start_time": "2023-07-24T14:02:26.713Z"
   },
   {
    "duration": 32,
    "start_time": "2023-07-24T14:02:26.916Z"
   },
   {
    "duration": 20,
    "start_time": "2023-07-24T14:02:26.950Z"
   },
   {
    "duration": 196,
    "start_time": "2023-07-24T14:02:26.973Z"
   },
   {
    "duration": 177,
    "start_time": "2023-07-24T14:02:27.171Z"
   },
   {
    "duration": 29,
    "start_time": "2023-07-24T14:02:27.350Z"
   },
   {
    "duration": 183,
    "start_time": "2023-07-24T14:02:27.381Z"
   },
   {
    "duration": 6,
    "start_time": "2023-07-24T14:02:27.566Z"
   },
   {
    "duration": 266,
    "start_time": "2023-07-24T14:02:27.574Z"
   },
   {
    "duration": 33,
    "start_time": "2023-07-24T14:02:27.841Z"
   },
   {
    "duration": 143,
    "start_time": "2023-07-24T14:02:27.876Z"
   },
   {
    "duration": 210,
    "start_time": "2023-07-24T14:02:28.021Z"
   },
   {
    "duration": 85,
    "start_time": "2023-07-24T14:02:28.233Z"
   },
   {
    "duration": 29,
    "start_time": "2023-07-24T14:02:28.320Z"
   },
   {
    "duration": 78,
    "start_time": "2023-07-24T14:02:28.351Z"
   },
   {
    "duration": 18,
    "start_time": "2023-07-24T14:02:28.430Z"
   },
   {
    "duration": 57,
    "start_time": "2023-07-24T14:02:28.450Z"
   },
   {
    "duration": 19,
    "start_time": "2023-07-24T14:02:28.508Z"
   },
   {
    "duration": 48,
    "start_time": "2023-07-24T14:02:28.529Z"
   },
   {
    "duration": 22,
    "start_time": "2023-07-24T14:02:28.579Z"
   },
   {
    "duration": 112,
    "start_time": "2023-07-24T14:02:28.609Z"
   },
   {
    "duration": 20,
    "start_time": "2023-07-24T14:02:28.726Z"
   },
   {
    "duration": 34,
    "start_time": "2023-07-24T14:02:28.748Z"
   },
   {
    "duration": 38,
    "start_time": "2023-07-24T14:02:28.784Z"
   },
   {
    "duration": 37,
    "start_time": "2023-07-24T14:02:28.824Z"
   },
   {
    "duration": 896,
    "start_time": "2023-07-24T14:02:28.863Z"
   },
   {
    "duration": 476,
    "start_time": "2023-07-24T14:02:29.761Z"
   },
   {
    "duration": 48,
    "start_time": "2023-07-24T14:02:30.239Z"
   },
   {
    "duration": 80,
    "start_time": "2023-07-24T14:02:30.289Z"
   },
   {
    "duration": 109,
    "start_time": "2023-07-24T14:02:30.372Z"
   },
   {
    "duration": 1164,
    "start_time": "2023-07-24T14:02:30.484Z"
   },
   {
    "duration": 419,
    "start_time": "2023-07-24T14:02:31.650Z"
   },
   {
    "duration": 139,
    "start_time": "2023-07-24T14:02:32.072Z"
   },
   {
    "duration": 0,
    "start_time": "2023-07-24T14:02:32.213Z"
   },
   {
    "duration": 0,
    "start_time": "2023-07-24T14:02:32.215Z"
   },
   {
    "duration": 0,
    "start_time": "2023-07-24T14:02:32.216Z"
   },
   {
    "duration": 0,
    "start_time": "2023-07-24T14:02:32.218Z"
   },
   {
    "duration": 2256,
    "start_time": "2023-07-24T14:05:36.290Z"
   },
   {
    "duration": 1048,
    "start_time": "2023-07-24T14:05:38.550Z"
   },
   {
    "duration": 139,
    "start_time": "2023-07-24T14:05:39.600Z"
   },
   {
    "duration": 127,
    "start_time": "2023-07-24T14:05:39.742Z"
   },
   {
    "duration": 162,
    "start_time": "2023-07-24T14:05:39.873Z"
   },
   {
    "duration": 130,
    "start_time": "2023-07-24T14:05:40.038Z"
   },
   {
    "duration": 209,
    "start_time": "2023-07-24T14:05:40.170Z"
   },
   {
    "duration": 45,
    "start_time": "2023-07-24T14:05:40.382Z"
   },
   {
    "duration": 21,
    "start_time": "2023-07-24T14:05:40.429Z"
   },
   {
    "duration": 205,
    "start_time": "2023-07-24T14:05:40.452Z"
   },
   {
    "duration": 188,
    "start_time": "2023-07-24T14:05:40.659Z"
   },
   {
    "duration": 31,
    "start_time": "2023-07-24T14:05:40.849Z"
   },
   {
    "duration": 184,
    "start_time": "2023-07-24T14:05:40.882Z"
   },
   {
    "duration": 7,
    "start_time": "2023-07-24T14:05:41.070Z"
   },
   {
    "duration": 316,
    "start_time": "2023-07-24T14:05:41.079Z"
   },
   {
    "duration": 35,
    "start_time": "2023-07-24T14:05:41.397Z"
   },
   {
    "duration": 133,
    "start_time": "2023-07-24T14:05:41.434Z"
   },
   {
    "duration": 222,
    "start_time": "2023-07-24T14:05:41.569Z"
   },
   {
    "duration": 69,
    "start_time": "2023-07-24T14:05:41.793Z"
   },
   {
    "duration": 46,
    "start_time": "2023-07-24T14:05:41.864Z"
   },
   {
    "duration": 64,
    "start_time": "2023-07-24T14:05:41.911Z"
   },
   {
    "duration": 49,
    "start_time": "2023-07-24T14:05:41.977Z"
   },
   {
    "duration": 51,
    "start_time": "2023-07-24T14:05:42.028Z"
   },
   {
    "duration": 21,
    "start_time": "2023-07-24T14:05:42.081Z"
   },
   {
    "duration": 48,
    "start_time": "2023-07-24T14:05:42.104Z"
   },
   {
    "duration": 21,
    "start_time": "2023-07-24T14:05:42.155Z"
   },
   {
    "duration": 111,
    "start_time": "2023-07-24T14:05:42.179Z"
   },
   {
    "duration": 22,
    "start_time": "2023-07-24T14:05:42.293Z"
   },
   {
    "duration": 39,
    "start_time": "2023-07-24T14:05:42.317Z"
   },
   {
    "duration": 21,
    "start_time": "2023-07-24T14:05:42.358Z"
   },
   {
    "duration": 51,
    "start_time": "2023-07-24T14:05:42.381Z"
   },
   {
    "duration": 904,
    "start_time": "2023-07-24T14:05:42.434Z"
   },
   {
    "duration": 502,
    "start_time": "2023-07-24T14:05:43.340Z"
   },
   {
    "duration": 45,
    "start_time": "2023-07-24T14:05:43.844Z"
   },
   {
    "duration": 54,
    "start_time": "2023-07-24T14:05:43.891Z"
   },
   {
    "duration": 109,
    "start_time": "2023-07-24T14:05:43.948Z"
   },
   {
    "duration": 1124,
    "start_time": "2023-07-24T14:05:44.059Z"
   },
   {
    "duration": 394,
    "start_time": "2023-07-24T14:05:45.185Z"
   },
   {
    "duration": 584,
    "start_time": "2023-07-24T14:05:45.581Z"
   },
   {
    "duration": 126,
    "start_time": "2023-07-24T14:05:46.167Z"
   },
   {
    "duration": 0,
    "start_time": "2023-07-24T14:05:46.295Z"
   },
   {
    "duration": 0,
    "start_time": "2023-07-24T14:05:46.296Z"
   },
   {
    "duration": 0,
    "start_time": "2023-07-24T14:05:46.309Z"
   },
   {
    "duration": 1753,
    "start_time": "2023-07-24T14:06:56.518Z"
   },
   {
    "duration": 1035,
    "start_time": "2023-07-24T14:06:58.273Z"
   },
   {
    "duration": 161,
    "start_time": "2023-07-24T14:06:59.310Z"
   },
   {
    "duration": 166,
    "start_time": "2023-07-24T14:06:59.474Z"
   },
   {
    "duration": 152,
    "start_time": "2023-07-24T14:06:59.642Z"
   },
   {
    "duration": 127,
    "start_time": "2023-07-24T14:06:59.795Z"
   },
   {
    "duration": 207,
    "start_time": "2023-07-24T14:06:59.924Z"
   },
   {
    "duration": 34,
    "start_time": "2023-07-24T14:07:00.133Z"
   },
   {
    "duration": 55,
    "start_time": "2023-07-24T14:07:00.169Z"
   },
   {
    "duration": 269,
    "start_time": "2023-07-24T14:07:00.228Z"
   },
   {
    "duration": 189,
    "start_time": "2023-07-24T14:07:00.499Z"
   },
   {
    "duration": 41,
    "start_time": "2023-07-24T14:07:00.690Z"
   },
   {
    "duration": 192,
    "start_time": "2023-07-24T14:07:00.733Z"
   },
   {
    "duration": 8,
    "start_time": "2023-07-24T14:07:00.927Z"
   },
   {
    "duration": 310,
    "start_time": "2023-07-24T14:07:00.937Z"
   },
   {
    "duration": 37,
    "start_time": "2023-07-24T14:07:01.250Z"
   },
   {
    "duration": 242,
    "start_time": "2023-07-24T14:07:01.289Z"
   },
   {
    "duration": 260,
    "start_time": "2023-07-24T14:07:01.533Z"
   },
   {
    "duration": 67,
    "start_time": "2023-07-24T14:07:01.795Z"
   },
   {
    "duration": 100,
    "start_time": "2023-07-24T14:07:01.864Z"
   },
   {
    "duration": 352,
    "start_time": "2023-07-24T14:07:01.967Z"
   },
   {
    "duration": 62,
    "start_time": "2023-07-24T14:07:02.322Z"
   },
   {
    "duration": 215,
    "start_time": "2023-07-24T14:07:02.386Z"
   },
   {
    "duration": 141,
    "start_time": "2023-07-24T14:07:02.603Z"
   },
   {
    "duration": 162,
    "start_time": "2023-07-24T14:07:02.746Z"
   },
   {
    "duration": 209,
    "start_time": "2023-07-24T14:07:02.910Z"
   },
   {
    "duration": 150,
    "start_time": "2023-07-24T14:07:03.120Z"
   },
   {
    "duration": 38,
    "start_time": "2023-07-24T14:07:03.273Z"
   },
   {
    "duration": 82,
    "start_time": "2023-07-24T14:07:03.312Z"
   },
   {
    "duration": 38,
    "start_time": "2023-07-24T14:07:03.396Z"
   },
   {
    "duration": 63,
    "start_time": "2023-07-24T14:07:03.436Z"
   },
   {
    "duration": 1017,
    "start_time": "2023-07-24T14:07:03.501Z"
   },
   {
    "duration": 454,
    "start_time": "2023-07-24T14:07:04.520Z"
   },
   {
    "duration": 51,
    "start_time": "2023-07-24T14:07:04.975Z"
   },
   {
    "duration": 41,
    "start_time": "2023-07-24T14:07:05.028Z"
   },
   {
    "duration": 127,
    "start_time": "2023-07-24T14:07:05.071Z"
   },
   {
    "duration": 1114,
    "start_time": "2023-07-24T14:07:05.201Z"
   },
   {
    "duration": 409,
    "start_time": "2023-07-24T14:07:06.317Z"
   },
   {
    "duration": 582,
    "start_time": "2023-07-24T14:07:06.728Z"
   },
   {
    "duration": 62,
    "start_time": "2023-07-24T14:07:07.312Z"
   },
   {
    "duration": 31040,
    "start_time": "2023-07-24T14:07:07.377Z"
   },
   {
    "duration": 116603,
    "start_time": "2023-07-24T14:07:38.419Z"
   },
   {
    "duration": 239,
    "start_time": "2023-07-24T14:09:35.025Z"
   },
   {
    "duration": 30,
    "start_time": "2023-07-24T14:10:25.165Z"
   },
   {
    "duration": 1689,
    "start_time": "2023-07-24T14:11:35.527Z"
   },
   {
    "duration": 1041,
    "start_time": "2023-07-24T14:11:37.218Z"
   },
   {
    "duration": 148,
    "start_time": "2023-07-24T14:11:38.268Z"
   },
   {
    "duration": 135,
    "start_time": "2023-07-24T14:11:38.419Z"
   },
   {
    "duration": 151,
    "start_time": "2023-07-24T14:11:38.555Z"
   },
   {
    "duration": 123,
    "start_time": "2023-07-24T14:11:38.709Z"
   },
   {
    "duration": 199,
    "start_time": "2023-07-24T14:11:38.834Z"
   },
   {
    "duration": 39,
    "start_time": "2023-07-24T14:11:39.036Z"
   },
   {
    "duration": 36,
    "start_time": "2023-07-24T14:11:39.077Z"
   },
   {
    "duration": 197,
    "start_time": "2023-07-24T14:11:39.116Z"
   },
   {
    "duration": 219,
    "start_time": "2023-07-24T14:11:39.315Z"
   },
   {
    "duration": 30,
    "start_time": "2023-07-24T14:11:39.536Z"
   },
   {
    "duration": 180,
    "start_time": "2023-07-24T14:11:39.568Z"
   },
   {
    "duration": 7,
    "start_time": "2023-07-24T14:11:39.750Z"
   },
   {
    "duration": 276,
    "start_time": "2023-07-24T14:11:39.758Z"
   },
   {
    "duration": 32,
    "start_time": "2023-07-24T14:11:40.036Z"
   },
   {
    "duration": 144,
    "start_time": "2023-07-24T14:11:40.070Z"
   },
   {
    "duration": 257,
    "start_time": "2023-07-24T14:11:40.216Z"
   },
   {
    "duration": 61,
    "start_time": "2023-07-24T14:11:40.475Z"
   },
   {
    "duration": 31,
    "start_time": "2023-07-24T14:11:40.539Z"
   },
   {
    "duration": 84,
    "start_time": "2023-07-24T14:11:40.572Z"
   },
   {
    "duration": 20,
    "start_time": "2023-07-24T14:11:40.659Z"
   },
   {
    "duration": 55,
    "start_time": "2023-07-24T14:11:40.681Z"
   },
   {
    "duration": 37,
    "start_time": "2023-07-24T14:11:40.738Z"
   },
   {
    "duration": 57,
    "start_time": "2023-07-24T14:11:40.777Z"
   },
   {
    "duration": 22,
    "start_time": "2023-07-24T14:11:40.837Z"
   },
   {
    "duration": 140,
    "start_time": "2023-07-24T14:11:40.860Z"
   },
   {
    "duration": 20,
    "start_time": "2023-07-24T14:11:41.008Z"
   },
   {
    "duration": 61,
    "start_time": "2023-07-24T14:11:41.030Z"
   },
   {
    "duration": 19,
    "start_time": "2023-07-24T14:11:41.093Z"
   },
   {
    "duration": 59,
    "start_time": "2023-07-24T14:11:41.114Z"
   },
   {
    "duration": 855,
    "start_time": "2023-07-24T14:11:41.175Z"
   },
   {
    "duration": 454,
    "start_time": "2023-07-24T14:11:42.032Z"
   },
   {
    "duration": 58,
    "start_time": "2023-07-24T14:11:42.488Z"
   },
   {
    "duration": 155,
    "start_time": "2023-07-24T14:11:42.548Z"
   },
   {
    "duration": 117,
    "start_time": "2023-07-24T14:11:42.705Z"
   },
   {
    "duration": 1120,
    "start_time": "2023-07-24T14:11:42.824Z"
   },
   {
    "duration": 446,
    "start_time": "2023-07-24T14:11:43.947Z"
   },
   {
    "duration": 599,
    "start_time": "2023-07-24T14:11:44.395Z"
   },
   {
    "duration": 70,
    "start_time": "2023-07-24T14:11:44.996Z"
   },
   {
    "duration": 26746,
    "start_time": "2023-07-24T14:11:45.068Z"
   },
   {
    "duration": 112384,
    "start_time": "2023-07-24T14:12:11.816Z"
   },
   {
    "duration": 264,
    "start_time": "2023-07-24T14:14:04.209Z"
   },
   {
    "duration": 1746,
    "start_time": "2023-07-24T14:15:37.230Z"
   },
   {
    "duration": 1062,
    "start_time": "2023-07-24T14:15:38.979Z"
   },
   {
    "duration": 124,
    "start_time": "2023-07-24T14:15:40.043Z"
   },
   {
    "duration": 151,
    "start_time": "2023-07-24T14:15:40.170Z"
   },
   {
    "duration": 149,
    "start_time": "2023-07-24T14:15:40.323Z"
   },
   {
    "duration": 124,
    "start_time": "2023-07-24T14:15:40.473Z"
   },
   {
    "duration": 196,
    "start_time": "2023-07-24T14:15:40.599Z"
   },
   {
    "duration": 38,
    "start_time": "2023-07-24T14:15:40.797Z"
   },
   {
    "duration": 21,
    "start_time": "2023-07-24T14:15:40.837Z"
   },
   {
    "duration": 193,
    "start_time": "2023-07-24T14:15:40.861Z"
   },
   {
    "duration": 192,
    "start_time": "2023-07-24T14:15:41.056Z"
   },
   {
    "duration": 37,
    "start_time": "2023-07-24T14:15:41.250Z"
   },
   {
    "duration": 183,
    "start_time": "2023-07-24T14:15:41.288Z"
   },
   {
    "duration": 6,
    "start_time": "2023-07-24T14:15:41.473Z"
   },
   {
    "duration": 276,
    "start_time": "2023-07-24T14:15:41.481Z"
   },
   {
    "duration": 32,
    "start_time": "2023-07-24T14:15:41.760Z"
   },
   {
    "duration": 148,
    "start_time": "2023-07-24T14:15:41.794Z"
   },
   {
    "duration": 264,
    "start_time": "2023-07-24T14:15:41.944Z"
   },
   {
    "duration": 63,
    "start_time": "2023-07-24T14:15:42.212Z"
   },
   {
    "duration": 48,
    "start_time": "2023-07-24T14:15:42.277Z"
   },
   {
    "duration": 65,
    "start_time": "2023-07-24T14:15:42.328Z"
   },
   {
    "duration": 19,
    "start_time": "2023-07-24T14:15:42.410Z"
   },
   {
    "duration": 36,
    "start_time": "2023-07-24T14:15:42.431Z"
   },
   {
    "duration": 40,
    "start_time": "2023-07-24T14:15:42.470Z"
   },
   {
    "duration": 32,
    "start_time": "2023-07-24T14:15:42.512Z"
   },
   {
    "duration": 35,
    "start_time": "2023-07-24T14:15:42.546Z"
   },
   {
    "duration": 121,
    "start_time": "2023-07-24T14:15:42.583Z"
   },
   {
    "duration": 18,
    "start_time": "2023-07-24T14:15:42.708Z"
   },
   {
    "duration": 51,
    "start_time": "2023-07-24T14:15:42.728Z"
   },
   {
    "duration": 30,
    "start_time": "2023-07-24T14:15:42.782Z"
   },
   {
    "duration": 67,
    "start_time": "2023-07-24T14:15:42.815Z"
   },
   {
    "duration": 900,
    "start_time": "2023-07-24T14:15:42.884Z"
   },
   {
    "duration": 467,
    "start_time": "2023-07-24T14:15:43.786Z"
   },
   {
    "duration": 57,
    "start_time": "2023-07-24T14:15:44.255Z"
   },
   {
    "duration": 53,
    "start_time": "2023-07-24T14:15:44.314Z"
   },
   {
    "duration": 104,
    "start_time": "2023-07-24T14:15:44.369Z"
   },
   {
    "duration": 1094,
    "start_time": "2023-07-24T14:15:44.474Z"
   },
   {
    "duration": 423,
    "start_time": "2023-07-24T14:15:45.571Z"
   },
   {
    "duration": 618,
    "start_time": "2023-07-24T14:15:45.997Z"
   },
   {
    "duration": 60,
    "start_time": "2023-07-24T14:15:46.617Z"
   },
   {
    "duration": 27829,
    "start_time": "2023-07-24T14:15:46.679Z"
   },
   {
    "duration": 120833,
    "start_time": "2023-07-24T14:16:14.511Z"
   },
   {
    "duration": 275,
    "start_time": "2023-07-24T14:18:15.346Z"
   },
   {
    "duration": 67,
    "start_time": "2023-07-24T14:23:09.658Z"
   },
   {
    "duration": 1833,
    "start_time": "2023-07-24T14:28:46.631Z"
   },
   {
    "duration": 1042,
    "start_time": "2023-07-24T14:28:48.467Z"
   },
   {
    "duration": 141,
    "start_time": "2023-07-24T14:28:49.511Z"
   },
   {
    "duration": 134,
    "start_time": "2023-07-24T14:28:49.654Z"
   },
   {
    "duration": 145,
    "start_time": "2023-07-24T14:28:49.790Z"
   },
   {
    "duration": 126,
    "start_time": "2023-07-24T14:28:49.937Z"
   },
   {
    "duration": 196,
    "start_time": "2023-07-24T14:28:50.065Z"
   },
   {
    "duration": 33,
    "start_time": "2023-07-24T14:28:50.263Z"
   },
   {
    "duration": 23,
    "start_time": "2023-07-24T14:28:50.308Z"
   },
   {
    "duration": 190,
    "start_time": "2023-07-24T14:28:50.334Z"
   },
   {
    "duration": 192,
    "start_time": "2023-07-24T14:28:50.527Z"
   },
   {
    "duration": 34,
    "start_time": "2023-07-24T14:28:50.721Z"
   },
   {
    "duration": 186,
    "start_time": "2023-07-24T14:28:50.757Z"
   },
   {
    "duration": 6,
    "start_time": "2023-07-24T14:28:50.945Z"
   },
   {
    "duration": 269,
    "start_time": "2023-07-24T14:28:50.952Z"
   },
   {
    "duration": 30,
    "start_time": "2023-07-24T14:28:51.223Z"
   },
   {
    "duration": 135,
    "start_time": "2023-07-24T14:28:51.255Z"
   },
   {
    "duration": 229,
    "start_time": "2023-07-24T14:28:51.392Z"
   },
   {
    "duration": 57,
    "start_time": "2023-07-24T14:28:51.623Z"
   },
   {
    "duration": 48,
    "start_time": "2023-07-24T14:28:51.682Z"
   },
   {
    "duration": 81,
    "start_time": "2023-07-24T14:28:51.731Z"
   },
   {
    "duration": 17,
    "start_time": "2023-07-24T14:28:51.814Z"
   },
   {
    "duration": 39,
    "start_time": "2023-07-24T14:28:51.833Z"
   },
   {
    "duration": 40,
    "start_time": "2023-07-24T14:28:51.874Z"
   },
   {
    "duration": 32,
    "start_time": "2023-07-24T14:28:51.916Z"
   },
   {
    "duration": 21,
    "start_time": "2023-07-24T14:28:51.950Z"
   },
   {
    "duration": 136,
    "start_time": "2023-07-24T14:28:51.973Z"
   },
   {
    "duration": 19,
    "start_time": "2023-07-24T14:28:52.114Z"
   },
   {
    "duration": 44,
    "start_time": "2023-07-24T14:28:52.135Z"
   },
   {
    "duration": 29,
    "start_time": "2023-07-24T14:28:52.182Z"
   },
   {
    "duration": 32,
    "start_time": "2023-07-24T14:28:52.213Z"
   },
   {
    "duration": 865,
    "start_time": "2023-07-24T14:28:52.247Z"
   },
   {
    "duration": 441,
    "start_time": "2023-07-24T14:28:53.113Z"
   },
   {
    "duration": 53,
    "start_time": "2023-07-24T14:28:53.557Z"
   },
   {
    "duration": 40,
    "start_time": "2023-07-24T14:28:53.612Z"
   },
   {
    "duration": 105,
    "start_time": "2023-07-24T14:28:53.654Z"
   },
   {
    "duration": 1077,
    "start_time": "2023-07-24T14:28:53.762Z"
   },
   {
    "duration": 400,
    "start_time": "2023-07-24T14:28:54.841Z"
   },
   {
    "duration": 43371,
    "start_time": "2023-07-24T14:28:55.243Z"
   },
   {
    "duration": 295238,
    "start_time": "2023-07-24T14:44:36.075Z"
   },
   {
    "duration": 274,
    "start_time": "2023-07-24T15:27:07.525Z"
   },
   {
    "duration": 14577,
    "start_time": "2023-07-24T15:27:20.695Z"
   },
   {
    "duration": 12984,
    "start_time": "2023-07-24T15:31:27.908Z"
   },
   {
    "duration": 47060,
    "start_time": "2023-07-24T15:32:25.447Z"
   },
   {
    "duration": 40931,
    "start_time": "2023-07-24T15:37:08.261Z"
   },
   {
    "duration": 1901,
    "start_time": "2023-07-24T15:43:08.979Z"
   },
   {
    "duration": 1092,
    "start_time": "2023-07-24T15:43:10.882Z"
   },
   {
    "duration": 166,
    "start_time": "2023-07-24T15:43:11.976Z"
   },
   {
    "duration": 138,
    "start_time": "2023-07-24T15:43:12.144Z"
   },
   {
    "duration": 163,
    "start_time": "2023-07-24T15:43:12.284Z"
   },
   {
    "duration": 139,
    "start_time": "2023-07-24T15:43:12.449Z"
   },
   {
    "duration": 212,
    "start_time": "2023-07-24T15:43:12.590Z"
   },
   {
    "duration": 43,
    "start_time": "2023-07-24T15:43:12.804Z"
   },
   {
    "duration": 50,
    "start_time": "2023-07-24T15:43:12.850Z"
   },
   {
    "duration": 202,
    "start_time": "2023-07-24T15:43:12.903Z"
   },
   {
    "duration": 195,
    "start_time": "2023-07-24T15:43:13.109Z"
   },
   {
    "duration": 35,
    "start_time": "2023-07-24T15:43:13.319Z"
   },
   {
    "duration": 194,
    "start_time": "2023-07-24T15:43:13.356Z"
   },
   {
    "duration": 6,
    "start_time": "2023-07-24T15:43:13.552Z"
   },
   {
    "duration": 294,
    "start_time": "2023-07-24T15:43:13.560Z"
   },
   {
    "duration": 31,
    "start_time": "2023-07-24T15:43:13.856Z"
   },
   {
    "duration": 164,
    "start_time": "2023-07-24T15:43:13.889Z"
   },
   {
    "duration": 266,
    "start_time": "2023-07-24T15:43:14.055Z"
   },
   {
    "duration": 145,
    "start_time": "2023-07-24T15:43:14.329Z"
   },
   {
    "duration": 111,
    "start_time": "2023-07-24T15:43:14.476Z"
   },
   {
    "duration": 152,
    "start_time": "2023-07-24T15:43:14.590Z"
   },
   {
    "duration": 50,
    "start_time": "2023-07-24T15:43:14.744Z"
   },
   {
    "duration": 96,
    "start_time": "2023-07-24T15:43:14.796Z"
   },
   {
    "duration": 89,
    "start_time": "2023-07-24T15:43:14.895Z"
   },
   {
    "duration": 105,
    "start_time": "2023-07-24T15:43:14.986Z"
   },
   {
    "duration": 49,
    "start_time": "2023-07-24T15:43:15.093Z"
   },
   {
    "duration": 127,
    "start_time": "2023-07-24T15:43:15.144Z"
   },
   {
    "duration": 21,
    "start_time": "2023-07-24T15:43:15.275Z"
   },
   {
    "duration": 96,
    "start_time": "2023-07-24T15:43:15.298Z"
   },
   {
    "duration": 51,
    "start_time": "2023-07-24T15:43:15.396Z"
   },
   {
    "duration": 53,
    "start_time": "2023-07-24T15:43:15.450Z"
   },
   {
    "duration": 1049,
    "start_time": "2023-07-24T15:43:15.505Z"
   },
   {
    "duration": 501,
    "start_time": "2023-07-24T15:43:16.556Z"
   },
   {
    "duration": 67,
    "start_time": "2023-07-24T15:43:17.059Z"
   },
   {
    "duration": 45,
    "start_time": "2023-07-24T15:43:17.128Z"
   },
   {
    "duration": 109,
    "start_time": "2023-07-24T15:43:17.176Z"
   },
   {
    "duration": 1150,
    "start_time": "2023-07-24T15:43:17.287Z"
   },
   {
    "duration": 422,
    "start_time": "2023-07-24T15:43:18.440Z"
   },
   {
    "duration": 72545,
    "start_time": "2023-07-24T15:43:18.864Z"
   },
   {
    "duration": 639491,
    "start_time": "2023-07-24T15:44:31.411Z"
   },
   {
    "duration": 37778,
    "start_time": "2023-07-24T15:55:10.904Z"
   },
   {
    "duration": 1781,
    "start_time": "2023-07-24T15:56:58.694Z"
   },
   {
    "duration": 1184,
    "start_time": "2023-07-24T15:57:00.477Z"
   },
   {
    "duration": 156,
    "start_time": "2023-07-24T15:57:01.662Z"
   },
   {
    "duration": 158,
    "start_time": "2023-07-24T15:57:01.820Z"
   },
   {
    "duration": 163,
    "start_time": "2023-07-24T15:57:01.980Z"
   },
   {
    "duration": 127,
    "start_time": "2023-07-24T15:57:02.146Z"
   },
   {
    "duration": 221,
    "start_time": "2023-07-24T15:57:02.275Z"
   },
   {
    "duration": 48,
    "start_time": "2023-07-24T15:57:02.498Z"
   },
   {
    "duration": 125,
    "start_time": "2023-07-24T15:57:02.548Z"
   },
   {
    "duration": 190,
    "start_time": "2023-07-24T15:57:02.676Z"
   },
   {
    "duration": 254,
    "start_time": "2023-07-24T15:57:02.868Z"
   },
   {
    "duration": 35,
    "start_time": "2023-07-24T15:57:03.130Z"
   },
   {
    "duration": 177,
    "start_time": "2023-07-24T15:57:03.167Z"
   },
   {
    "duration": 6,
    "start_time": "2023-07-24T15:57:03.345Z"
   },
   {
    "duration": 381,
    "start_time": "2023-07-24T15:57:03.352Z"
   },
   {
    "duration": 35,
    "start_time": "2023-07-24T15:57:03.735Z"
   },
   {
    "duration": 158,
    "start_time": "2023-07-24T15:57:03.772Z"
   },
   {
    "duration": 333,
    "start_time": "2023-07-24T15:57:03.932Z"
   },
   {
    "duration": 87,
    "start_time": "2023-07-24T15:57:04.267Z"
   },
   {
    "duration": 31,
    "start_time": "2023-07-24T15:57:04.357Z"
   },
   {
    "duration": 93,
    "start_time": "2023-07-24T15:57:04.390Z"
   },
   {
    "duration": 46,
    "start_time": "2023-07-24T15:57:04.484Z"
   },
   {
    "duration": 39,
    "start_time": "2023-07-24T15:57:04.532Z"
   },
   {
    "duration": 18,
    "start_time": "2023-07-24T15:57:04.573Z"
   },
   {
    "duration": 67,
    "start_time": "2023-07-24T15:57:04.593Z"
   },
   {
    "duration": 21,
    "start_time": "2023-07-24T15:57:04.662Z"
   },
   {
    "duration": 155,
    "start_time": "2023-07-24T15:57:04.685Z"
   },
   {
    "duration": 19,
    "start_time": "2023-07-24T15:57:04.845Z"
   },
   {
    "duration": 75,
    "start_time": "2023-07-24T15:57:04.866Z"
   },
   {
    "duration": 19,
    "start_time": "2023-07-24T15:57:04.943Z"
   },
   {
    "duration": 45,
    "start_time": "2023-07-24T15:57:04.964Z"
   },
   {
    "duration": 883,
    "start_time": "2023-07-24T15:57:05.012Z"
   },
   {
    "duration": 524,
    "start_time": "2023-07-24T15:57:05.896Z"
   },
   {
    "duration": 51,
    "start_time": "2023-07-24T15:57:06.425Z"
   },
   {
    "duration": 55,
    "start_time": "2023-07-24T15:57:06.478Z"
   },
   {
    "duration": 103,
    "start_time": "2023-07-24T15:57:06.535Z"
   },
   {
    "duration": 1008,
    "start_time": "2023-07-24T15:57:06.640Z"
   },
   {
    "duration": 416,
    "start_time": "2023-07-24T15:57:07.650Z"
   },
   {
    "duration": 69560,
    "start_time": "2023-07-24T15:57:08.068Z"
   },
   {
    "duration": 1836,
    "start_time": "2023-07-24T16:22:40.384Z"
   },
   {
    "duration": 1054,
    "start_time": "2023-07-24T16:22:42.227Z"
   },
   {
    "duration": 159,
    "start_time": "2023-07-24T16:22:43.283Z"
   },
   {
    "duration": 147,
    "start_time": "2023-07-24T16:22:43.448Z"
   },
   {
    "duration": 180,
    "start_time": "2023-07-24T16:22:43.599Z"
   },
   {
    "duration": 136,
    "start_time": "2023-07-24T16:22:43.781Z"
   },
   {
    "duration": 220,
    "start_time": "2023-07-24T16:22:43.923Z"
   },
   {
    "duration": 32,
    "start_time": "2023-07-24T16:22:44.148Z"
   },
   {
    "duration": 53,
    "start_time": "2023-07-24T16:22:44.182Z"
   },
   {
    "duration": 233,
    "start_time": "2023-07-24T16:22:44.243Z"
   },
   {
    "duration": 246,
    "start_time": "2023-07-24T16:22:44.478Z"
   },
   {
    "duration": 42,
    "start_time": "2023-07-24T16:22:44.729Z"
   },
   {
    "duration": 176,
    "start_time": "2023-07-24T16:22:44.773Z"
   },
   {
    "duration": 6,
    "start_time": "2023-07-24T16:22:44.953Z"
   },
   {
    "duration": 483,
    "start_time": "2023-07-24T16:22:44.961Z"
   },
   {
    "duration": 30,
    "start_time": "2023-07-24T16:22:45.448Z"
   },
   {
    "duration": 222,
    "start_time": "2023-07-24T16:22:45.480Z"
   },
   {
    "duration": 294,
    "start_time": "2023-07-24T16:22:45.704Z"
   },
   {
    "duration": 168,
    "start_time": "2023-07-24T16:22:46.001Z"
   },
   {
    "duration": 33,
    "start_time": "2023-07-24T16:22:46.172Z"
   },
   {
    "duration": 137,
    "start_time": "2023-07-24T16:22:46.215Z"
   },
   {
    "duration": 35,
    "start_time": "2023-07-24T16:22:46.356Z"
   },
   {
    "duration": 112,
    "start_time": "2023-07-24T16:22:46.395Z"
   },
   {
    "duration": 78,
    "start_time": "2023-07-24T16:22:46.509Z"
   },
   {
    "duration": 70,
    "start_time": "2023-07-24T16:22:46.589Z"
   },
   {
    "duration": 24,
    "start_time": "2023-07-24T16:22:46.661Z"
   },
   {
    "duration": 133,
    "start_time": "2023-07-24T16:22:46.687Z"
   },
   {
    "duration": 29,
    "start_time": "2023-07-24T16:22:46.822Z"
   },
   {
    "duration": 41,
    "start_time": "2023-07-24T16:22:46.853Z"
   },
   {
    "duration": 41,
    "start_time": "2023-07-24T16:22:46.896Z"
   },
   {
    "duration": 45,
    "start_time": "2023-07-24T16:22:46.939Z"
   },
   {
    "duration": 989,
    "start_time": "2023-07-24T16:22:46.986Z"
   },
   {
    "duration": 543,
    "start_time": "2023-07-24T16:22:47.977Z"
   },
   {
    "duration": 48,
    "start_time": "2023-07-24T16:22:48.525Z"
   },
   {
    "duration": 70,
    "start_time": "2023-07-24T16:22:48.575Z"
   },
   {
    "duration": 94,
    "start_time": "2023-07-24T16:22:48.647Z"
   },
   {
    "duration": 961,
    "start_time": "2023-07-24T16:22:48.748Z"
   },
   {
    "duration": 416,
    "start_time": "2023-07-24T16:22:49.714Z"
   },
   {
    "duration": 72587,
    "start_time": "2023-07-24T16:22:50.135Z"
   },
   {
    "duration": 846,
    "start_time": "2023-07-24T16:24:02.724Z"
   },
   {
    "duration": 14,
    "start_time": "2023-07-24T16:24:03.574Z"
   },
   {
    "duration": 0,
    "start_time": "2023-07-24T16:24:03.590Z"
   },
   {
    "duration": 1742,
    "start_time": "2023-07-24T16:28:19.013Z"
   },
   {
    "duration": 1040,
    "start_time": "2023-07-24T16:28:20.757Z"
   },
   {
    "duration": 160,
    "start_time": "2023-07-24T16:28:21.799Z"
   },
   {
    "duration": 150,
    "start_time": "2023-07-24T16:28:21.961Z"
   },
   {
    "duration": 158,
    "start_time": "2023-07-24T16:28:22.113Z"
   },
   {
    "duration": 123,
    "start_time": "2023-07-24T16:28:22.273Z"
   },
   {
    "duration": 202,
    "start_time": "2023-07-24T16:28:22.398Z"
   },
   {
    "duration": 37,
    "start_time": "2023-07-24T16:28:22.611Z"
   },
   {
    "duration": 77,
    "start_time": "2023-07-24T16:28:22.650Z"
   },
   {
    "duration": 200,
    "start_time": "2023-07-24T16:28:22.731Z"
   },
   {
    "duration": 195,
    "start_time": "2023-07-24T16:28:22.935Z"
   },
   {
    "duration": 33,
    "start_time": "2023-07-24T16:28:23.132Z"
   },
   {
    "duration": 190,
    "start_time": "2023-07-24T16:28:23.167Z"
   },
   {
    "duration": 8,
    "start_time": "2023-07-24T16:28:23.359Z"
   },
   {
    "duration": 311,
    "start_time": "2023-07-24T16:28:23.369Z"
   },
   {
    "duration": 60,
    "start_time": "2023-07-24T16:28:23.682Z"
   },
   {
    "duration": 127,
    "start_time": "2023-07-24T16:28:23.744Z"
   },
   {
    "duration": 286,
    "start_time": "2023-07-24T16:28:23.873Z"
   },
   {
    "duration": 126,
    "start_time": "2023-07-24T16:28:24.161Z"
   },
   {
    "duration": 44,
    "start_time": "2023-07-24T16:28:24.288Z"
   },
   {
    "duration": 193,
    "start_time": "2023-07-24T16:28:24.334Z"
   },
   {
    "duration": 27,
    "start_time": "2023-07-24T16:28:24.528Z"
   },
   {
    "duration": 108,
    "start_time": "2023-07-24T16:28:24.556Z"
   },
   {
    "duration": 28,
    "start_time": "2023-07-24T16:28:24.665Z"
   },
   {
    "duration": 76,
    "start_time": "2023-07-24T16:28:24.695Z"
   },
   {
    "duration": 34,
    "start_time": "2023-07-24T16:28:24.773Z"
   },
   {
    "duration": 155,
    "start_time": "2023-07-24T16:28:24.809Z"
   },
   {
    "duration": 19,
    "start_time": "2023-07-24T16:28:24.969Z"
   },
   {
    "duration": 57,
    "start_time": "2023-07-24T16:28:24.990Z"
   },
   {
    "duration": 40,
    "start_time": "2023-07-24T16:28:25.049Z"
   },
   {
    "duration": 54,
    "start_time": "2023-07-24T16:28:25.091Z"
   },
   {
    "duration": 913,
    "start_time": "2023-07-24T16:28:25.147Z"
   },
   {
    "duration": 499,
    "start_time": "2023-07-24T16:28:26.063Z"
   },
   {
    "duration": 57,
    "start_time": "2023-07-24T16:28:26.564Z"
   },
   {
    "duration": 43,
    "start_time": "2023-07-24T16:28:26.622Z"
   },
   {
    "duration": 106,
    "start_time": "2023-07-24T16:28:26.667Z"
   },
   {
    "duration": 966,
    "start_time": "2023-07-24T16:28:26.775Z"
   },
   {
    "duration": 416,
    "start_time": "2023-07-24T16:28:27.744Z"
   },
   {
    "duration": 76366,
    "start_time": "2023-07-24T16:28:28.163Z"
   },
   {
    "duration": 1855,
    "start_time": "2023-07-24T16:38:55.526Z"
   },
   {
    "duration": 1030,
    "start_time": "2023-07-24T16:38:57.383Z"
   },
   {
    "duration": 135,
    "start_time": "2023-07-24T16:38:58.415Z"
   },
   {
    "duration": 130,
    "start_time": "2023-07-24T16:38:58.552Z"
   },
   {
    "duration": 160,
    "start_time": "2023-07-24T16:38:58.684Z"
   },
   {
    "duration": 131,
    "start_time": "2023-07-24T16:38:58.846Z"
   },
   {
    "duration": 205,
    "start_time": "2023-07-24T16:38:58.979Z"
   },
   {
    "duration": 51,
    "start_time": "2023-07-24T16:38:59.186Z"
   },
   {
    "duration": 21,
    "start_time": "2023-07-24T16:38:59.239Z"
   },
   {
    "duration": 195,
    "start_time": "2023-07-24T16:38:59.263Z"
   },
   {
    "duration": 201,
    "start_time": "2023-07-24T16:38:59.461Z"
   },
   {
    "duration": 30,
    "start_time": "2023-07-24T16:38:59.664Z"
   },
   {
    "duration": 185,
    "start_time": "2023-07-24T16:38:59.696Z"
   },
   {
    "duration": 6,
    "start_time": "2023-07-24T16:38:59.882Z"
   },
   {
    "duration": 278,
    "start_time": "2023-07-24T16:38:59.890Z"
   },
   {
    "duration": 29,
    "start_time": "2023-07-24T16:39:00.170Z"
   },
   {
    "duration": 149,
    "start_time": "2023-07-24T16:39:00.200Z"
   },
   {
    "duration": 244,
    "start_time": "2023-07-24T16:39:00.350Z"
   },
   {
    "duration": 133,
    "start_time": "2023-07-24T16:39:00.596Z"
   },
   {
    "duration": 30,
    "start_time": "2023-07-24T16:39:00.735Z"
   },
   {
    "duration": 79,
    "start_time": "2023-07-24T16:39:00.768Z"
   },
   {
    "duration": 18,
    "start_time": "2023-07-24T16:39:00.850Z"
   },
   {
    "duration": 75,
    "start_time": "2023-07-24T16:39:00.871Z"
   },
   {
    "duration": 85,
    "start_time": "2023-07-24T16:39:00.948Z"
   },
   {
    "duration": 129,
    "start_time": "2023-07-24T16:39:01.036Z"
   },
   {
    "duration": 38,
    "start_time": "2023-07-24T16:39:01.168Z"
   },
   {
    "duration": 171,
    "start_time": "2023-07-24T16:39:01.208Z"
   },
   {
    "duration": 19,
    "start_time": "2023-07-24T16:39:01.384Z"
   },
   {
    "duration": 99,
    "start_time": "2023-07-24T16:39:01.412Z"
   },
   {
    "duration": 103,
    "start_time": "2023-07-24T16:39:01.513Z"
   },
   {
    "duration": 111,
    "start_time": "2023-07-24T16:39:01.618Z"
   },
   {
    "duration": 1062,
    "start_time": "2023-07-24T16:39:01.732Z"
   },
   {
    "duration": 502,
    "start_time": "2023-07-24T16:39:02.797Z"
   },
   {
    "duration": 52,
    "start_time": "2023-07-24T16:39:03.301Z"
   },
   {
    "duration": 88,
    "start_time": "2023-07-24T16:39:03.355Z"
   },
   {
    "duration": 121,
    "start_time": "2023-07-24T16:39:03.444Z"
   },
   {
    "duration": 1057,
    "start_time": "2023-07-24T16:39:03.566Z"
   },
   {
    "duration": 456,
    "start_time": "2023-07-24T16:39:04.625Z"
   },
   {
    "duration": 65827,
    "start_time": "2023-07-24T16:39:05.083Z"
   },
   {
    "duration": 60935,
    "start_time": "2023-07-24T16:40:10.912Z"
   },
   {
    "duration": 344,
    "start_time": "2023-07-24T16:41:11.849Z"
   },
   {
    "duration": 37749,
    "start_time": "2023-07-24T16:41:12.195Z"
   },
   {
    "duration": 1947,
    "start_time": "2023-07-24T16:42:19.710Z"
   },
   {
    "duration": 1818,
    "start_time": "2023-07-24T16:43:09.035Z"
   },
   {
    "duration": 35646,
    "start_time": "2023-07-24T16:50:18.864Z"
   },
   {
    "duration": 35757,
    "start_time": "2023-07-24T16:51:42.346Z"
   },
   {
    "duration": 130,
    "start_time": "2023-07-24T16:56:41.676Z"
   },
   {
    "duration": 2021,
    "start_time": "2023-07-24T16:57:49.175Z"
   },
   {
    "duration": 1042,
    "start_time": "2023-07-24T16:57:51.198Z"
   },
   {
    "duration": 125,
    "start_time": "2023-07-24T16:57:52.242Z"
   },
   {
    "duration": 130,
    "start_time": "2023-07-24T16:57:52.370Z"
   },
   {
    "duration": 161,
    "start_time": "2023-07-24T16:57:52.502Z"
   },
   {
    "duration": 128,
    "start_time": "2023-07-24T16:57:52.664Z"
   },
   {
    "duration": 280,
    "start_time": "2023-07-24T16:57:52.794Z"
   },
   {
    "duration": 44,
    "start_time": "2023-07-24T16:57:53.076Z"
   },
   {
    "duration": 28,
    "start_time": "2023-07-24T16:57:53.122Z"
   },
   {
    "duration": 247,
    "start_time": "2023-07-24T16:57:53.154Z"
   },
   {
    "duration": 183,
    "start_time": "2023-07-24T16:57:53.409Z"
   },
   {
    "duration": 33,
    "start_time": "2023-07-24T16:57:53.594Z"
   },
   {
    "duration": 172,
    "start_time": "2023-07-24T16:57:53.629Z"
   },
   {
    "duration": 9,
    "start_time": "2023-07-24T16:57:53.803Z"
   },
   {
    "duration": 264,
    "start_time": "2023-07-24T16:57:53.813Z"
   },
   {
    "duration": 38,
    "start_time": "2023-07-24T16:57:54.080Z"
   },
   {
    "duration": 128,
    "start_time": "2023-07-24T16:57:54.120Z"
   },
   {
    "duration": 228,
    "start_time": "2023-07-24T16:57:54.250Z"
   },
   {
    "duration": 66,
    "start_time": "2023-07-24T16:57:54.479Z"
   },
   {
    "duration": 28,
    "start_time": "2023-07-24T16:57:54.547Z"
   },
   {
    "duration": 80,
    "start_time": "2023-07-24T16:57:54.577Z"
   },
   {
    "duration": 19,
    "start_time": "2023-07-24T16:57:54.659Z"
   },
   {
    "duration": 59,
    "start_time": "2023-07-24T16:57:54.679Z"
   },
   {
    "duration": 25,
    "start_time": "2023-07-24T16:57:54.740Z"
   },
   {
    "duration": 82,
    "start_time": "2023-07-24T16:57:54.766Z"
   },
   {
    "duration": 59,
    "start_time": "2023-07-24T16:57:54.850Z"
   },
   {
    "duration": 173,
    "start_time": "2023-07-24T16:57:54.912Z"
   },
   {
    "duration": 36,
    "start_time": "2023-07-24T16:57:55.090Z"
   },
   {
    "duration": 47,
    "start_time": "2023-07-24T16:57:55.128Z"
   },
   {
    "duration": 24,
    "start_time": "2023-07-24T16:57:55.177Z"
   },
   {
    "duration": 36,
    "start_time": "2023-07-24T16:57:55.203Z"
   },
   {
    "duration": 857,
    "start_time": "2023-07-24T16:57:55.241Z"
   },
   {
    "duration": 445,
    "start_time": "2023-07-24T16:57:56.101Z"
   },
   {
    "duration": 45,
    "start_time": "2023-07-24T16:57:56.548Z"
   },
   {
    "duration": 40,
    "start_time": "2023-07-24T16:57:56.608Z"
   },
   {
    "duration": 103,
    "start_time": "2023-07-24T16:57:56.649Z"
   },
   {
    "duration": 1001,
    "start_time": "2023-07-24T16:57:56.754Z"
   },
   {
    "duration": 399,
    "start_time": "2023-07-24T16:57:57.757Z"
   },
   {
    "duration": 27563,
    "start_time": "2023-07-24T16:57:58.158Z"
   },
   {
    "duration": 55809,
    "start_time": "2023-07-24T16:58:25.724Z"
   },
   {
    "duration": 1756,
    "start_time": "2023-07-24T16:59:21.535Z"
   },
   {
    "duration": 34231,
    "start_time": "2023-07-24T16:59:23.293Z"
   },
   {
    "duration": 210,
    "start_time": "2023-07-24T16:59:57.526Z"
   },
   {
    "duration": 1951,
    "start_time": "2023-07-24T17:33:24.082Z"
   },
   {
    "duration": 929,
    "start_time": "2023-07-24T17:33:26.035Z"
   },
   {
    "duration": 120,
    "start_time": "2023-07-24T17:33:26.966Z"
   },
   {
    "duration": 129,
    "start_time": "2023-07-24T17:33:27.088Z"
   },
   {
    "duration": 147,
    "start_time": "2023-07-24T17:33:27.218Z"
   },
   {
    "duration": 120,
    "start_time": "2023-07-24T17:33:27.366Z"
   },
   {
    "duration": 191,
    "start_time": "2023-07-24T17:33:27.488Z"
   },
   {
    "duration": 38,
    "start_time": "2023-07-24T17:33:27.680Z"
   },
   {
    "duration": 19,
    "start_time": "2023-07-24T17:33:27.720Z"
   },
   {
    "duration": 179,
    "start_time": "2023-07-24T17:33:27.742Z"
   },
   {
    "duration": 173,
    "start_time": "2023-07-24T17:33:27.923Z"
   },
   {
    "duration": 33,
    "start_time": "2023-07-24T17:33:28.098Z"
   },
   {
    "duration": 167,
    "start_time": "2023-07-24T17:33:28.133Z"
   },
   {
    "duration": 9,
    "start_time": "2023-07-24T17:33:28.301Z"
   },
   {
    "duration": 257,
    "start_time": "2023-07-24T17:33:28.311Z"
   },
   {
    "duration": 43,
    "start_time": "2023-07-24T17:33:28.570Z"
   },
   {
    "duration": 129,
    "start_time": "2023-07-24T17:33:28.615Z"
   },
   {
    "duration": 208,
    "start_time": "2023-07-24T17:33:28.746Z"
   },
   {
    "duration": 66,
    "start_time": "2023-07-24T17:33:28.956Z"
   },
   {
    "duration": 29,
    "start_time": "2023-07-24T17:33:29.024Z"
   },
   {
    "duration": 82,
    "start_time": "2023-07-24T17:33:29.054Z"
   },
   {
    "duration": 20,
    "start_time": "2023-07-24T17:33:29.138Z"
   },
   {
    "duration": 60,
    "start_time": "2023-07-24T17:33:29.159Z"
   },
   {
    "duration": 19,
    "start_time": "2023-07-24T17:33:29.220Z"
   },
   {
    "duration": 41,
    "start_time": "2023-07-24T17:33:29.241Z"
   },
   {
    "duration": 31,
    "start_time": "2023-07-24T17:33:29.284Z"
   },
   {
    "duration": 144,
    "start_time": "2023-07-24T17:33:29.316Z"
   },
   {
    "duration": 21,
    "start_time": "2023-07-24T17:33:29.466Z"
   },
   {
    "duration": 62,
    "start_time": "2023-07-24T17:33:29.489Z"
   },
   {
    "duration": 25,
    "start_time": "2023-07-24T17:33:29.553Z"
   },
   {
    "duration": 45,
    "start_time": "2023-07-24T17:33:29.580Z"
   },
   {
    "duration": 761,
    "start_time": "2023-07-24T17:33:29.626Z"
   },
   {
    "duration": 419,
    "start_time": "2023-07-24T17:33:30.388Z"
   },
   {
    "duration": 55,
    "start_time": "2023-07-24T17:33:30.809Z"
   },
   {
    "duration": 54,
    "start_time": "2023-07-24T17:33:30.866Z"
   },
   {
    "duration": 116,
    "start_time": "2023-07-24T17:33:30.921Z"
   },
   {
    "duration": 923,
    "start_time": "2023-07-24T17:33:31.039Z"
   },
   {
    "duration": 397,
    "start_time": "2023-07-24T17:33:31.964Z"
   },
   {
    "duration": 34552,
    "start_time": "2023-07-24T17:33:32.363Z"
   },
   {
    "duration": 56320,
    "start_time": "2023-07-24T17:34:06.917Z"
   },
   {
    "duration": 1780,
    "start_time": "2023-07-24T17:35:03.239Z"
   },
   {
    "duration": 35062,
    "start_time": "2023-07-24T17:35:05.021Z"
   },
   {
    "duration": 4,
    "start_time": "2023-07-24T17:35:40.085Z"
   },
   {
    "duration": 6365,
    "start_time": "2023-07-24T17:36:02.845Z"
   },
   {
    "duration": 2184,
    "start_time": "2023-07-24T17:38:01.728Z"
   },
   {
    "duration": 1671,
    "start_time": "2023-07-25T06:36:38.596Z"
   },
   {
    "duration": 2941,
    "start_time": "2023-07-25T06:36:40.269Z"
   },
   {
    "duration": 123,
    "start_time": "2023-07-25T06:36:43.212Z"
   },
   {
    "duration": 124,
    "start_time": "2023-07-25T06:36:43.337Z"
   },
   {
    "duration": 134,
    "start_time": "2023-07-25T06:36:43.463Z"
   },
   {
    "duration": 107,
    "start_time": "2023-07-25T06:36:43.599Z"
   },
   {
    "duration": 186,
    "start_time": "2023-07-25T06:36:43.708Z"
   },
   {
    "duration": 33,
    "start_time": "2023-07-25T06:36:43.897Z"
   },
   {
    "duration": 39,
    "start_time": "2023-07-25T06:36:43.933Z"
   },
   {
    "duration": 168,
    "start_time": "2023-07-25T06:36:43.974Z"
   },
   {
    "duration": 171,
    "start_time": "2023-07-25T06:36:44.143Z"
   },
   {
    "duration": 26,
    "start_time": "2023-07-25T06:36:44.316Z"
   },
   {
    "duration": 156,
    "start_time": "2023-07-25T06:36:44.343Z"
   },
   {
    "duration": 6,
    "start_time": "2023-07-25T06:36:44.503Z"
   },
   {
    "duration": 253,
    "start_time": "2023-07-25T06:36:44.511Z"
   },
   {
    "duration": 29,
    "start_time": "2023-07-25T06:36:44.766Z"
   },
   {
    "duration": 128,
    "start_time": "2023-07-25T06:36:44.797Z"
   },
   {
    "duration": 222,
    "start_time": "2023-07-25T06:36:44.927Z"
   },
   {
    "duration": 77,
    "start_time": "2023-07-25T06:36:45.150Z"
   },
   {
    "duration": 30,
    "start_time": "2023-07-25T06:36:45.229Z"
   },
   {
    "duration": 75,
    "start_time": "2023-07-25T06:36:45.261Z"
   },
   {
    "duration": 18,
    "start_time": "2023-07-25T06:36:45.338Z"
   },
   {
    "duration": 40,
    "start_time": "2023-07-25T06:36:45.357Z"
   },
   {
    "duration": 25,
    "start_time": "2023-07-25T06:36:45.398Z"
   },
   {
    "duration": 60,
    "start_time": "2023-07-25T06:36:45.424Z"
   },
   {
    "duration": 19,
    "start_time": "2023-07-25T06:36:45.486Z"
   },
   {
    "duration": 112,
    "start_time": "2023-07-25T06:36:45.506Z"
   },
   {
    "duration": 20,
    "start_time": "2023-07-25T06:36:45.620Z"
   },
   {
    "duration": 55,
    "start_time": "2023-07-25T06:36:45.642Z"
   },
   {
    "duration": 18,
    "start_time": "2023-07-25T06:36:45.699Z"
   },
   {
    "duration": 48,
    "start_time": "2023-07-25T06:36:45.719Z"
   },
   {
    "duration": 770,
    "start_time": "2023-07-25T06:36:45.769Z"
   },
   {
    "duration": 381,
    "start_time": "2023-07-25T06:36:46.541Z"
   },
   {
    "duration": 54,
    "start_time": "2023-07-25T06:36:46.923Z"
   },
   {
    "duration": 35,
    "start_time": "2023-07-25T06:36:46.979Z"
   },
   {
    "duration": 87,
    "start_time": "2023-07-25T06:36:47.016Z"
   },
   {
    "duration": 867,
    "start_time": "2023-07-25T06:36:47.105Z"
   },
   {
    "duration": 398,
    "start_time": "2023-07-25T06:36:47.974Z"
   },
   {
    "duration": 24298,
    "start_time": "2023-07-25T06:36:48.373Z"
   },
   {
    "duration": 49881,
    "start_time": "2023-07-25T06:37:12.673Z"
   },
   {
    "duration": 1732,
    "start_time": "2023-07-25T06:38:02.558Z"
   },
   {
    "duration": 32932,
    "start_time": "2023-07-25T06:38:04.292Z"
   },
   {
    "duration": 458,
    "start_time": "2023-07-25T06:38:37.225Z"
   },
   {
    "duration": 6484,
    "start_time": "2023-07-25T06:38:37.684Z"
   },
   {
    "duration": 2203,
    "start_time": "2023-07-25T06:38:44.170Z"
   },
   {
    "duration": 1491,
    "start_time": "2023-07-25T06:44:40.474Z"
   },
   {
    "duration": 877,
    "start_time": "2023-07-25T06:44:41.968Z"
   },
   {
    "duration": 126,
    "start_time": "2023-07-25T06:44:42.847Z"
   },
   {
    "duration": 112,
    "start_time": "2023-07-25T06:44:42.976Z"
   },
   {
    "duration": 145,
    "start_time": "2023-07-25T06:44:43.090Z"
   },
   {
    "duration": 103,
    "start_time": "2023-07-25T06:44:43.237Z"
   },
   {
    "duration": 184,
    "start_time": "2023-07-25T06:44:43.342Z"
   },
   {
    "duration": 40,
    "start_time": "2023-07-25T06:44:43.528Z"
   },
   {
    "duration": 19,
    "start_time": "2023-07-25T06:44:43.570Z"
   },
   {
    "duration": 170,
    "start_time": "2023-07-25T06:44:43.593Z"
   },
   {
    "duration": 186,
    "start_time": "2023-07-25T06:44:43.766Z"
   },
   {
    "duration": 42,
    "start_time": "2023-07-25T06:44:43.954Z"
   },
   {
    "duration": 162,
    "start_time": "2023-07-25T06:44:43.998Z"
   },
   {
    "duration": 8,
    "start_time": "2023-07-25T06:44:44.162Z"
   },
   {
    "duration": 260,
    "start_time": "2023-07-25T06:44:44.171Z"
   },
   {
    "duration": 35,
    "start_time": "2023-07-25T06:44:44.433Z"
   },
   {
    "duration": 118,
    "start_time": "2023-07-25T06:44:44.469Z"
   },
   {
    "duration": 200,
    "start_time": "2023-07-25T06:44:44.589Z"
   },
   {
    "duration": 72,
    "start_time": "2023-07-25T06:44:44.790Z"
   },
   {
    "duration": 28,
    "start_time": "2023-07-25T06:44:44.864Z"
   },
   {
    "duration": 77,
    "start_time": "2023-07-25T06:44:44.894Z"
   },
   {
    "duration": 17,
    "start_time": "2023-07-25T06:44:44.973Z"
   },
   {
    "duration": 67,
    "start_time": "2023-07-25T06:44:44.991Z"
   },
   {
    "duration": 18,
    "start_time": "2023-07-25T06:44:45.060Z"
   },
   {
    "duration": 53,
    "start_time": "2023-07-25T06:44:45.080Z"
   },
   {
    "duration": 38,
    "start_time": "2023-07-25T06:44:45.135Z"
   },
   {
    "duration": 129,
    "start_time": "2023-07-25T06:44:45.175Z"
   },
   {
    "duration": 18,
    "start_time": "2023-07-25T06:44:45.307Z"
   },
   {
    "duration": 44,
    "start_time": "2023-07-25T06:44:45.327Z"
   },
   {
    "duration": 17,
    "start_time": "2023-07-25T06:44:45.373Z"
   },
   {
    "duration": 38,
    "start_time": "2023-07-25T06:44:45.392Z"
   },
   {
    "duration": 728,
    "start_time": "2023-07-25T06:44:45.432Z"
   },
   {
    "duration": 386,
    "start_time": "2023-07-25T06:44:46.162Z"
   },
   {
    "duration": 49,
    "start_time": "2023-07-25T06:44:46.550Z"
   },
   {
    "duration": 37,
    "start_time": "2023-07-25T06:44:46.600Z"
   },
   {
    "duration": 85,
    "start_time": "2023-07-25T06:44:46.639Z"
   },
   {
    "duration": 683,
    "start_time": "2023-07-25T06:44:46.726Z"
   },
   {
    "duration": 369,
    "start_time": "2023-07-25T06:44:47.411Z"
   },
   {
    "duration": 22086,
    "start_time": "2023-07-25T06:44:47.782Z"
   },
   {
    "duration": 802,
    "start_time": "2023-07-25T06:45:09.870Z"
   },
   {
    "duration": 49236,
    "start_time": "2023-07-25T06:45:10.674Z"
   },
   {
    "duration": 1722,
    "start_time": "2023-07-25T06:45:59.912Z"
   },
   {
    "duration": 32780,
    "start_time": "2023-07-25T06:46:01.636Z"
   },
   {
    "duration": 452,
    "start_time": "2023-07-25T06:46:34.418Z"
   },
   {
    "duration": 12896,
    "start_time": "2023-07-25T06:46:34.872Z"
   },
   {
    "duration": 2119,
    "start_time": "2023-07-25T06:46:47.770Z"
   },
   {
    "duration": 95,
    "start_time": "2023-07-25T15:13:26.833Z"
   },
   {
    "duration": 4,
    "start_time": "2023-07-25T15:16:11.495Z"
   },
   {
    "duration": 1709,
    "start_time": "2023-07-25T15:16:25.912Z"
   },
   {
    "duration": 1217,
    "start_time": "2023-07-25T15:16:27.623Z"
   },
   {
    "duration": 167,
    "start_time": "2023-07-25T15:16:28.842Z"
   },
   {
    "duration": 136,
    "start_time": "2023-07-25T15:16:29.011Z"
   },
   {
    "duration": 152,
    "start_time": "2023-07-25T15:16:29.150Z"
   },
   {
    "duration": 96,
    "start_time": "2023-07-25T15:16:29.304Z"
   },
   {
    "duration": 179,
    "start_time": "2023-07-25T15:16:29.402Z"
   },
   {
    "duration": 25,
    "start_time": "2023-07-25T15:16:29.584Z"
   },
   {
    "duration": 14,
    "start_time": "2023-07-25T15:16:29.612Z"
   },
   {
    "duration": 172,
    "start_time": "2023-07-25T15:16:29.628Z"
   },
   {
    "duration": 186,
    "start_time": "2023-07-25T15:16:29.803Z"
   },
   {
    "duration": 31,
    "start_time": "2023-07-25T15:16:29.991Z"
   },
   {
    "duration": 164,
    "start_time": "2023-07-25T15:16:30.024Z"
   },
   {
    "duration": 8,
    "start_time": "2023-07-25T15:16:30.193Z"
   },
   {
    "duration": 248,
    "start_time": "2023-07-25T15:16:30.204Z"
   },
   {
    "duration": 26,
    "start_time": "2023-07-25T15:16:30.454Z"
   },
   {
    "duration": 126,
    "start_time": "2023-07-25T15:16:30.482Z"
   },
   {
    "duration": 218,
    "start_time": "2023-07-25T15:16:30.610Z"
   },
   {
    "duration": 113,
    "start_time": "2023-07-25T15:16:30.830Z"
   },
   {
    "duration": 25,
    "start_time": "2023-07-25T15:16:30.944Z"
   },
   {
    "duration": 89,
    "start_time": "2023-07-25T15:16:30.970Z"
   },
   {
    "duration": 19,
    "start_time": "2023-07-25T15:16:31.061Z"
   },
   {
    "duration": 91,
    "start_time": "2023-07-25T15:16:31.082Z"
   },
   {
    "duration": 73,
    "start_time": "2023-07-25T15:16:31.175Z"
   },
   {
    "duration": 97,
    "start_time": "2023-07-25T15:16:31.250Z"
   },
   {
    "duration": 110,
    "start_time": "2023-07-25T15:16:31.350Z"
   },
   {
    "duration": 217,
    "start_time": "2023-07-25T15:16:31.462Z"
   },
   {
    "duration": 27,
    "start_time": "2023-07-25T15:16:31.681Z"
   },
   {
    "duration": 97,
    "start_time": "2023-07-25T15:16:31.710Z"
   },
   {
    "duration": 39,
    "start_time": "2023-07-25T15:16:31.809Z"
   },
   {
    "duration": 74,
    "start_time": "2023-07-25T15:16:31.850Z"
   },
   {
    "duration": 762,
    "start_time": "2023-07-25T15:16:31.926Z"
   },
   {
    "duration": 383,
    "start_time": "2023-07-25T15:16:32.691Z"
   },
   {
    "duration": 36,
    "start_time": "2023-07-25T15:16:33.076Z"
   },
   {
    "duration": 35,
    "start_time": "2023-07-25T15:16:33.114Z"
   },
   {
    "duration": 623,
    "start_time": "2023-07-25T15:16:33.171Z"
   },
   {
    "duration": 350,
    "start_time": "2023-07-25T15:16:33.796Z"
   },
   {
    "duration": 36527,
    "start_time": "2023-07-25T15:16:34.147Z"
   },
   {
    "duration": 797,
    "start_time": "2023-07-25T15:17:10.676Z"
   },
   {
    "duration": 48307,
    "start_time": "2023-07-25T15:17:11.475Z"
   },
   {
    "duration": 1561,
    "start_time": "2023-07-25T15:17:59.793Z"
   },
   {
    "duration": 35525,
    "start_time": "2023-07-25T15:18:01.356Z"
   },
   {
    "duration": 482,
    "start_time": "2023-07-25T15:18:36.883Z"
   },
   {
    "duration": 326801,
    "start_time": "2023-07-25T15:18:37.371Z"
   },
   {
    "duration": 2116,
    "start_time": "2023-07-25T15:24:04.174Z"
   },
   {
    "duration": 4,
    "start_time": "2023-07-25T15:24:06.292Z"
   },
   {
    "duration": 1506,
    "start_time": "2023-07-25T15:29:58.626Z"
   },
   {
    "duration": 868,
    "start_time": "2023-07-25T15:30:00.134Z"
   },
   {
    "duration": 135,
    "start_time": "2023-07-25T15:30:01.005Z"
   },
   {
    "duration": 224,
    "start_time": "2023-07-25T15:30:01.142Z"
   },
   {
    "duration": 188,
    "start_time": "2023-07-25T15:30:01.368Z"
   },
   {
    "duration": 103,
    "start_time": "2023-07-25T15:30:01.557Z"
   },
   {
    "duration": 181,
    "start_time": "2023-07-25T15:30:01.662Z"
   },
   {
    "duration": 34,
    "start_time": "2023-07-25T15:30:01.846Z"
   },
   {
    "duration": 72,
    "start_time": "2023-07-25T15:30:01.882Z"
   },
   {
    "duration": 224,
    "start_time": "2023-07-25T15:30:01.956Z"
   },
   {
    "duration": 170,
    "start_time": "2023-07-25T15:30:02.182Z"
   },
   {
    "duration": 37,
    "start_time": "2023-07-25T15:30:02.354Z"
   },
   {
    "duration": 185,
    "start_time": "2023-07-25T15:30:02.393Z"
   },
   {
    "duration": 6,
    "start_time": "2023-07-25T15:30:02.582Z"
   },
   {
    "duration": 223,
    "start_time": "2023-07-25T15:30:02.590Z"
   },
   {
    "duration": 28,
    "start_time": "2023-07-25T15:30:02.815Z"
   },
   {
    "duration": 128,
    "start_time": "2023-07-25T15:30:02.845Z"
   },
   {
    "duration": 214,
    "start_time": "2023-07-25T15:30:02.975Z"
   },
   {
    "duration": 90,
    "start_time": "2023-07-25T15:30:03.191Z"
   },
   {
    "duration": 32,
    "start_time": "2023-07-25T15:30:03.283Z"
   },
   {
    "duration": 104,
    "start_time": "2023-07-25T15:30:03.317Z"
   },
   {
    "duration": 18,
    "start_time": "2023-07-25T15:30:03.423Z"
   },
   {
    "duration": 107,
    "start_time": "2023-07-25T15:30:03.443Z"
   },
   {
    "duration": 28,
    "start_time": "2023-07-25T15:30:03.551Z"
   },
   {
    "duration": 56,
    "start_time": "2023-07-25T15:30:03.580Z"
   },
   {
    "duration": 20,
    "start_time": "2023-07-25T15:30:03.638Z"
   },
   {
    "duration": 109,
    "start_time": "2023-07-25T15:30:03.660Z"
   },
   {
    "duration": 20,
    "start_time": "2023-07-25T15:30:03.771Z"
   },
   {
    "duration": 56,
    "start_time": "2023-07-25T15:30:03.792Z"
   },
   {
    "duration": 19,
    "start_time": "2023-07-25T15:30:03.850Z"
   },
   {
    "duration": 42,
    "start_time": "2023-07-25T15:30:03.871Z"
   },
   {
    "duration": 677,
    "start_time": "2023-07-25T15:30:03.915Z"
   },
   {
    "duration": 342,
    "start_time": "2023-07-25T15:30:04.594Z"
   },
   {
    "duration": 42,
    "start_time": "2023-07-25T15:30:04.937Z"
   },
   {
    "duration": 38,
    "start_time": "2023-07-25T15:30:04.980Z"
   },
   {
    "duration": 617,
    "start_time": "2023-07-25T15:30:05.020Z"
   },
   {
    "duration": 373,
    "start_time": "2023-07-25T15:30:05.639Z"
   },
   {
    "duration": 24762,
    "start_time": "2023-07-25T15:30:06.014Z"
   },
   {
    "duration": 803,
    "start_time": "2023-07-25T15:30:30.778Z"
   },
   {
    "duration": 47447,
    "start_time": "2023-07-25T15:30:31.583Z"
   },
   {
    "duration": 1472,
    "start_time": "2023-07-25T15:31:19.033Z"
   },
   {
    "duration": 32291,
    "start_time": "2023-07-25T15:31:20.507Z"
   },
   {
    "duration": 443,
    "start_time": "2023-07-25T15:31:52.799Z"
   },
   {
    "duration": 126848,
    "start_time": "2023-07-25T15:31:53.244Z"
   },
   {
    "duration": 3580,
    "start_time": "2023-07-25T15:34:00.094Z"
   },
   {
    "duration": 76,
    "start_time": "2023-07-25T15:34:03.687Z"
   },
   {
    "duration": 26876,
    "start_time": "2023-07-25T15:47:13.547Z"
   },
   {
    "duration": 24658,
    "start_time": "2023-07-25T15:48:05.013Z"
   },
   {
    "duration": 2170,
    "start_time": "2023-07-25T15:49:07.510Z"
   },
   {
    "duration": 876,
    "start_time": "2023-07-25T15:49:09.682Z"
   },
   {
    "duration": 167,
    "start_time": "2023-07-25T15:49:10.560Z"
   },
   {
    "duration": 150,
    "start_time": "2023-07-25T15:49:10.729Z"
   },
   {
    "duration": 137,
    "start_time": "2023-07-25T15:49:10.882Z"
   },
   {
    "duration": 132,
    "start_time": "2023-07-25T15:49:11.020Z"
   },
   {
    "duration": 175,
    "start_time": "2023-07-25T15:49:11.153Z"
   },
   {
    "duration": 25,
    "start_time": "2023-07-25T15:49:11.330Z"
   },
   {
    "duration": 16,
    "start_time": "2023-07-25T15:49:11.370Z"
   },
   {
    "duration": 166,
    "start_time": "2023-07-25T15:49:11.388Z"
   },
   {
    "duration": 165,
    "start_time": "2023-07-25T15:49:11.556Z"
   },
   {
    "duration": 30,
    "start_time": "2023-07-25T15:49:11.723Z"
   },
   {
    "duration": 167,
    "start_time": "2023-07-25T15:49:11.755Z"
   },
   {
    "duration": 6,
    "start_time": "2023-07-25T15:49:11.925Z"
   },
   {
    "duration": 214,
    "start_time": "2023-07-25T15:49:11.932Z"
   },
   {
    "duration": 39,
    "start_time": "2023-07-25T15:49:12.147Z"
   },
   {
    "duration": 118,
    "start_time": "2023-07-25T15:49:12.188Z"
   },
   {
    "duration": 218,
    "start_time": "2023-07-25T15:49:12.309Z"
   },
   {
    "duration": 66,
    "start_time": "2023-07-25T15:49:12.529Z"
   },
   {
    "duration": 25,
    "start_time": "2023-07-25T15:49:12.597Z"
   },
   {
    "duration": 65,
    "start_time": "2023-07-25T15:49:12.624Z"
   },
   {
    "duration": 18,
    "start_time": "2023-07-25T15:49:12.691Z"
   },
   {
    "duration": 33,
    "start_time": "2023-07-25T15:49:12.711Z"
   },
   {
    "duration": 35,
    "start_time": "2023-07-25T15:49:12.746Z"
   },
   {
    "duration": 39,
    "start_time": "2023-07-25T15:49:12.783Z"
   },
   {
    "duration": 22,
    "start_time": "2023-07-25T15:49:12.824Z"
   },
   {
    "duration": 127,
    "start_time": "2023-07-25T15:49:12.848Z"
   },
   {
    "duration": 22,
    "start_time": "2023-07-25T15:49:12.977Z"
   },
   {
    "duration": 47,
    "start_time": "2023-07-25T15:49:13.000Z"
   },
   {
    "duration": 48,
    "start_time": "2023-07-25T15:49:13.049Z"
   },
   {
    "duration": 55,
    "start_time": "2023-07-25T15:49:13.099Z"
   },
   {
    "duration": 729,
    "start_time": "2023-07-25T15:49:13.156Z"
   },
   {
    "duration": 391,
    "start_time": "2023-07-25T15:49:13.887Z"
   },
   {
    "duration": 35,
    "start_time": "2023-07-25T15:49:14.280Z"
   },
   {
    "duration": 36,
    "start_time": "2023-07-25T15:49:14.316Z"
   },
   {
    "duration": 590,
    "start_time": "2023-07-25T15:49:14.371Z"
   },
   {
    "duration": 359,
    "start_time": "2023-07-25T15:49:14.963Z"
   },
   {
    "duration": 29939,
    "start_time": "2023-07-25T15:49:15.323Z"
   },
   {
    "duration": 711,
    "start_time": "2023-07-25T15:49:45.264Z"
   },
   {
    "duration": 45171,
    "start_time": "2023-07-25T15:49:45.978Z"
   },
   {
    "duration": 1618,
    "start_time": "2023-07-25T15:50:31.153Z"
   },
   {
    "duration": 31576,
    "start_time": "2023-07-25T15:50:32.773Z"
   },
   {
    "duration": 446,
    "start_time": "2023-07-25T15:51:04.351Z"
   },
   {
    "duration": 1545,
    "start_time": "2023-07-25T15:52:54.333Z"
   },
   {
    "duration": 975,
    "start_time": "2023-07-25T15:52:55.880Z"
   },
   {
    "duration": 159,
    "start_time": "2023-07-25T15:52:56.856Z"
   },
   {
    "duration": 147,
    "start_time": "2023-07-25T15:52:57.018Z"
   },
   {
    "duration": 135,
    "start_time": "2023-07-25T15:52:57.171Z"
   },
   {
    "duration": 121,
    "start_time": "2023-07-25T15:52:57.308Z"
   },
   {
    "duration": 183,
    "start_time": "2023-07-25T15:52:57.431Z"
   },
   {
    "duration": 26,
    "start_time": "2023-07-25T15:52:57.616Z"
   },
   {
    "duration": 34,
    "start_time": "2023-07-25T15:52:57.644Z"
   },
   {
    "duration": 153,
    "start_time": "2023-07-25T15:52:57.682Z"
   },
   {
    "duration": 178,
    "start_time": "2023-07-25T15:52:57.837Z"
   },
   {
    "duration": 23,
    "start_time": "2023-07-25T15:52:58.018Z"
   },
   {
    "duration": 241,
    "start_time": "2023-07-25T15:52:58.042Z"
   },
   {
    "duration": 6,
    "start_time": "2023-07-25T15:52:58.284Z"
   },
   {
    "duration": 216,
    "start_time": "2023-07-25T15:52:58.292Z"
   },
   {
    "duration": 38,
    "start_time": "2023-07-25T15:52:58.509Z"
   },
   {
    "duration": 127,
    "start_time": "2023-07-25T15:52:58.548Z"
   },
   {
    "duration": 212,
    "start_time": "2023-07-25T15:52:58.677Z"
   },
   {
    "duration": 62,
    "start_time": "2023-07-25T15:52:58.891Z"
   },
   {
    "duration": 34,
    "start_time": "2023-07-25T15:52:58.955Z"
   },
   {
    "duration": 70,
    "start_time": "2023-07-25T15:52:58.990Z"
   },
   {
    "duration": 19,
    "start_time": "2023-07-25T15:52:59.071Z"
   },
   {
    "duration": 45,
    "start_time": "2023-07-25T15:52:59.091Z"
   },
   {
    "duration": 18,
    "start_time": "2023-07-25T15:52:59.137Z"
   },
   {
    "duration": 58,
    "start_time": "2023-07-25T15:52:59.156Z"
   },
   {
    "duration": 37,
    "start_time": "2023-07-25T15:52:59.217Z"
   },
   {
    "duration": 108,
    "start_time": "2023-07-25T15:52:59.256Z"
   },
   {
    "duration": 19,
    "start_time": "2023-07-25T15:52:59.370Z"
   },
   {
    "duration": 59,
    "start_time": "2023-07-25T15:52:59.391Z"
   },
   {
    "duration": 19,
    "start_time": "2023-07-25T15:52:59.451Z"
   },
   {
    "duration": 50,
    "start_time": "2023-07-25T15:52:59.471Z"
   },
   {
    "duration": 694,
    "start_time": "2023-07-25T15:52:59.523Z"
   },
   {
    "duration": 371,
    "start_time": "2023-07-25T15:53:00.219Z"
   },
   {
    "duration": 40,
    "start_time": "2023-07-25T15:53:00.592Z"
   },
   {
    "duration": 65,
    "start_time": "2023-07-25T15:53:00.634Z"
   },
   {
    "duration": 737,
    "start_time": "2023-07-25T15:53:00.701Z"
   },
   {
    "duration": 358,
    "start_time": "2023-07-25T15:53:01.440Z"
   },
   {
    "duration": 26874,
    "start_time": "2023-07-25T15:53:01.800Z"
   },
   {
    "duration": 800,
    "start_time": "2023-07-25T15:53:28.677Z"
   },
   {
    "duration": 46965,
    "start_time": "2023-07-25T15:53:29.480Z"
   },
   {
    "duration": 1559,
    "start_time": "2023-07-25T15:54:16.447Z"
   },
   {
    "duration": 32944,
    "start_time": "2023-07-25T15:54:18.008Z"
   },
   {
    "duration": 444,
    "start_time": "2023-07-25T15:54:50.953Z"
   },
   {
    "duration": 6877,
    "start_time": "2023-07-25T15:54:51.399Z"
   },
   {
    "duration": 2219,
    "start_time": "2023-07-25T15:54:58.278Z"
   },
   {
    "duration": 15,
    "start_time": "2023-07-25T15:55:00.500Z"
   },
   {
    "duration": 0,
    "start_time": "2023-07-25T15:55:00.571Z"
   },
   {
    "duration": 1531,
    "start_time": "2023-07-25T15:55:30.555Z"
   },
   {
    "duration": 913,
    "start_time": "2023-07-25T15:55:32.088Z"
   },
   {
    "duration": 149,
    "start_time": "2023-07-25T15:55:33.003Z"
   },
   {
    "duration": 148,
    "start_time": "2023-07-25T15:55:33.155Z"
   },
   {
    "duration": 132,
    "start_time": "2023-07-25T15:55:33.304Z"
   },
   {
    "duration": 105,
    "start_time": "2023-07-25T15:55:33.437Z"
   },
   {
    "duration": 180,
    "start_time": "2023-07-25T15:55:33.543Z"
   },
   {
    "duration": 25,
    "start_time": "2023-07-25T15:55:33.725Z"
   },
   {
    "duration": 32,
    "start_time": "2023-07-25T15:55:33.751Z"
   },
   {
    "duration": 161,
    "start_time": "2023-07-25T15:55:33.786Z"
   },
   {
    "duration": 166,
    "start_time": "2023-07-25T15:55:33.949Z"
   },
   {
    "duration": 22,
    "start_time": "2023-07-25T15:55:34.117Z"
   },
   {
    "duration": 157,
    "start_time": "2023-07-25T15:55:34.140Z"
   },
   {
    "duration": 6,
    "start_time": "2023-07-25T15:55:34.298Z"
   },
   {
    "duration": 217,
    "start_time": "2023-07-25T15:55:34.305Z"
   },
   {
    "duration": 27,
    "start_time": "2023-07-25T15:55:34.524Z"
   },
   {
    "duration": 142,
    "start_time": "2023-07-25T15:55:34.553Z"
   },
   {
    "duration": 215,
    "start_time": "2023-07-25T15:55:34.696Z"
   },
   {
    "duration": 64,
    "start_time": "2023-07-25T15:55:34.913Z"
   },
   {
    "duration": 25,
    "start_time": "2023-07-25T15:55:34.979Z"
   },
   {
    "duration": 73,
    "start_time": "2023-07-25T15:55:35.005Z"
   },
   {
    "duration": 21,
    "start_time": "2023-07-25T15:55:35.079Z"
   },
   {
    "duration": 47,
    "start_time": "2023-07-25T15:55:35.101Z"
   },
   {
    "duration": 22,
    "start_time": "2023-07-25T15:55:35.149Z"
   },
   {
    "duration": 58,
    "start_time": "2023-07-25T15:55:35.172Z"
   },
   {
    "duration": 39,
    "start_time": "2023-07-25T15:55:35.231Z"
   },
   {
    "duration": 128,
    "start_time": "2023-07-25T15:55:35.272Z"
   },
   {
    "duration": 21,
    "start_time": "2023-07-25T15:55:35.403Z"
   },
   {
    "duration": 104,
    "start_time": "2023-07-25T15:55:35.426Z"
   },
   {
    "duration": 34,
    "start_time": "2023-07-25T15:55:35.532Z"
   },
   {
    "duration": 49,
    "start_time": "2023-07-25T15:55:35.568Z"
   },
   {
    "duration": 710,
    "start_time": "2023-07-25T15:55:35.619Z"
   },
   {
    "duration": 405,
    "start_time": "2023-07-25T15:55:36.331Z"
   },
   {
    "duration": 44,
    "start_time": "2023-07-25T15:55:36.738Z"
   },
   {
    "duration": 37,
    "start_time": "2023-07-25T15:55:36.784Z"
   },
   {
    "duration": 617,
    "start_time": "2023-07-25T15:55:36.823Z"
   },
   {
    "duration": 347,
    "start_time": "2023-07-25T15:55:37.441Z"
   },
   {
    "duration": 26790,
    "start_time": "2023-07-25T15:55:37.790Z"
   },
   {
    "duration": 801,
    "start_time": "2023-07-25T15:56:04.671Z"
   },
   {
    "duration": 47698,
    "start_time": "2023-07-25T15:56:05.474Z"
   },
   {
    "duration": 1816,
    "start_time": "2023-07-25T15:56:53.174Z"
   },
   {
    "duration": 33038,
    "start_time": "2023-07-25T15:56:54.992Z"
   },
   {
    "duration": 444,
    "start_time": "2023-07-25T15:57:28.031Z"
   },
   {
    "duration": 19400,
    "start_time": "2023-07-25T15:57:28.477Z"
   },
   {
    "duration": 2201,
    "start_time": "2023-07-25T15:57:47.879Z"
   },
   {
    "duration": 11,
    "start_time": "2023-07-25T15:57:50.082Z"
   },
   {
    "duration": 5,
    "start_time": "2023-07-25T16:09:29.543Z"
   },
   {
    "duration": 3,
    "start_time": "2023-07-25T16:10:10.713Z"
   },
   {
    "duration": 162,
    "start_time": "2023-07-25T16:10:17.700Z"
   },
   {
    "duration": 1616,
    "start_time": "2023-07-25T16:14:58.768Z"
   },
   {
    "duration": 899,
    "start_time": "2023-07-25T16:15:00.386Z"
   },
   {
    "duration": 161,
    "start_time": "2023-07-25T16:15:01.287Z"
   },
   {
    "duration": 146,
    "start_time": "2023-07-25T16:15:01.451Z"
   },
   {
    "duration": 136,
    "start_time": "2023-07-25T16:15:01.599Z"
   },
   {
    "duration": 111,
    "start_time": "2023-07-25T16:15:01.737Z"
   },
   {
    "duration": 176,
    "start_time": "2023-07-25T16:15:01.850Z"
   },
   {
    "duration": 26,
    "start_time": "2023-07-25T16:15:02.028Z"
   },
   {
    "duration": 213,
    "start_time": "2023-07-25T16:15:02.056Z"
   },
   {
    "duration": 635,
    "start_time": "2023-07-25T16:15:02.272Z"
   },
   {
    "duration": 176,
    "start_time": "2023-07-25T16:15:02.908Z"
   },
   {
    "duration": 70,
    "start_time": "2023-07-25T16:15:03.086Z"
   },
   {
    "duration": 161,
    "start_time": "2023-07-25T16:15:03.159Z"
   },
   {
    "duration": 6,
    "start_time": "2023-07-25T16:15:03.322Z"
   },
   {
    "duration": 318,
    "start_time": "2023-07-25T16:15:03.330Z"
   },
   {
    "duration": 31,
    "start_time": "2023-07-25T16:15:03.649Z"
   },
   {
    "duration": 112,
    "start_time": "2023-07-25T16:15:03.682Z"
   },
   {
    "duration": 217,
    "start_time": "2023-07-25T16:15:03.796Z"
   },
   {
    "duration": 62,
    "start_time": "2023-07-25T16:15:04.015Z"
   },
   {
    "duration": 27,
    "start_time": "2023-07-25T16:15:04.079Z"
   },
   {
    "duration": 73,
    "start_time": "2023-07-25T16:15:04.109Z"
   },
   {
    "duration": 19,
    "start_time": "2023-07-25T16:15:04.183Z"
   },
   {
    "duration": 45,
    "start_time": "2023-07-25T16:15:04.204Z"
   },
   {
    "duration": 20,
    "start_time": "2023-07-25T16:15:04.251Z"
   },
   {
    "duration": 64,
    "start_time": "2023-07-25T16:15:04.272Z"
   },
   {
    "duration": 42,
    "start_time": "2023-07-25T16:15:04.338Z"
   },
   {
    "duration": 120,
    "start_time": "2023-07-25T16:15:04.382Z"
   },
   {
    "duration": 29,
    "start_time": "2023-07-25T16:15:04.506Z"
   },
   {
    "duration": 52,
    "start_time": "2023-07-25T16:15:04.536Z"
   },
   {
    "duration": 19,
    "start_time": "2023-07-25T16:15:04.590Z"
   },
   {
    "duration": 58,
    "start_time": "2023-07-25T16:15:04.611Z"
   },
   {
    "duration": 690,
    "start_time": "2023-07-25T16:15:04.671Z"
   },
   {
    "duration": 387,
    "start_time": "2023-07-25T16:15:05.363Z"
   },
   {
    "duration": 44,
    "start_time": "2023-07-25T16:15:05.752Z"
   },
   {
    "duration": 75,
    "start_time": "2023-07-25T16:15:05.798Z"
   },
   {
    "duration": 704,
    "start_time": "2023-07-25T16:15:05.874Z"
   },
   {
    "duration": 348,
    "start_time": "2023-07-25T16:15:06.579Z"
   },
   {
    "duration": 20757,
    "start_time": "2023-07-25T16:15:06.929Z"
   },
   {
    "duration": 703,
    "start_time": "2023-07-25T16:15:27.771Z"
   },
   {
    "duration": 46333,
    "start_time": "2023-07-25T16:15:28.476Z"
   },
   {
    "duration": 1668,
    "start_time": "2023-07-25T16:16:14.812Z"
   },
   {
    "duration": 32166,
    "start_time": "2023-07-25T16:16:16.483Z"
   },
   {
    "duration": 492,
    "start_time": "2023-07-25T16:16:48.651Z"
   },
   {
    "duration": 6338,
    "start_time": "2023-07-25T16:16:49.145Z"
   },
   {
    "duration": 2204,
    "start_time": "2023-07-25T16:16:55.485Z"
   },
   {
    "duration": 11,
    "start_time": "2023-07-25T16:16:57.691Z"
   },
   {
    "duration": 22,
    "start_time": "2023-07-25T16:16:57.704Z"
   },
   {
    "duration": 210,
    "start_time": "2023-07-25T16:16:57.728Z"
   },
   {
    "duration": 51,
    "start_time": "2023-07-26T12:27:22.542Z"
   },
   {
    "duration": 2074,
    "start_time": "2023-07-26T12:27:31.715Z"
   },
   {
    "duration": 2,
    "start_time": "2023-07-26T12:27:33.792Z"
   },
   {
    "duration": 1259,
    "start_time": "2023-07-26T12:27:33.796Z"
   },
   {
    "duration": 129,
    "start_time": "2023-07-26T12:27:35.057Z"
   },
   {
    "duration": 128,
    "start_time": "2023-07-26T12:27:35.188Z"
   },
   {
    "duration": 151,
    "start_time": "2023-07-26T12:27:35.317Z"
   },
   {
    "duration": 128,
    "start_time": "2023-07-26T12:27:35.470Z"
   },
   {
    "duration": 211,
    "start_time": "2023-07-26T12:27:35.600Z"
   },
   {
    "duration": 30,
    "start_time": "2023-07-26T12:27:35.814Z"
   },
   {
    "duration": 22,
    "start_time": "2023-07-26T12:27:35.848Z"
   },
   {
    "duration": 247,
    "start_time": "2023-07-26T12:27:35.872Z"
   },
   {
    "duration": 209,
    "start_time": "2023-07-26T12:27:36.121Z"
   },
   {
    "duration": 28,
    "start_time": "2023-07-26T12:27:36.332Z"
   },
   {
    "duration": 179,
    "start_time": "2023-07-26T12:27:36.362Z"
   },
   {
    "duration": 6,
    "start_time": "2023-07-26T12:27:36.543Z"
   },
   {
    "duration": 270,
    "start_time": "2023-07-26T12:27:36.551Z"
   },
   {
    "duration": 95,
    "start_time": "2023-07-26T12:27:36.823Z"
   },
   {
    "duration": 31,
    "start_time": "2023-07-26T12:27:36.920Z"
   },
   {
    "duration": 131,
    "start_time": "2023-07-26T12:27:36.953Z"
   },
   {
    "duration": 222,
    "start_time": "2023-07-26T12:27:37.086Z"
   },
   {
    "duration": 79,
    "start_time": "2023-07-26T12:27:37.310Z"
   },
   {
    "duration": 31,
    "start_time": "2023-07-26T12:27:37.391Z"
   },
   {
    "duration": 63,
    "start_time": "2023-07-26T12:27:37.424Z"
   },
   {
    "duration": 34,
    "start_time": "2023-07-26T12:27:37.489Z"
   },
   {
    "duration": 54,
    "start_time": "2023-07-26T12:27:37.525Z"
   },
   {
    "duration": 33,
    "start_time": "2023-07-26T12:27:37.581Z"
   },
   {
    "duration": 48,
    "start_time": "2023-07-26T12:27:37.616Z"
   },
   {
    "duration": 20,
    "start_time": "2023-07-26T12:27:37.668Z"
   },
   {
    "duration": 105,
    "start_time": "2023-07-26T12:27:37.690Z"
   },
   {
    "duration": 27,
    "start_time": "2023-07-26T12:27:37.797Z"
   },
   {
    "duration": 37,
    "start_time": "2023-07-26T12:27:37.826Z"
   },
   {
    "duration": 23,
    "start_time": "2023-07-26T12:27:37.865Z"
   },
   {
    "duration": 49,
    "start_time": "2023-07-26T12:27:37.890Z"
   },
   {
    "duration": 829,
    "start_time": "2023-07-26T12:27:37.940Z"
   },
   {
    "duration": 433,
    "start_time": "2023-07-26T12:27:38.771Z"
   },
   {
    "duration": 46,
    "start_time": "2023-07-26T12:27:39.206Z"
   },
   {
    "duration": 82,
    "start_time": "2023-07-26T12:27:39.255Z"
   },
   {
    "duration": 1140,
    "start_time": "2023-07-26T12:27:39.340Z"
   },
   {
    "duration": 411,
    "start_time": "2023-07-26T12:27:40.482Z"
   },
   {
    "duration": 26319,
    "start_time": "2023-07-26T12:27:40.896Z"
   },
   {
    "duration": 897,
    "start_time": "2023-07-26T12:28:07.218Z"
   },
   {
    "duration": 59412,
    "start_time": "2023-07-26T12:28:08.118Z"
   },
   {
    "duration": 1991,
    "start_time": "2023-07-26T12:29:07.532Z"
   },
   {
    "duration": 37699,
    "start_time": "2023-07-26T12:29:09.526Z"
   },
   {
    "duration": 535,
    "start_time": "2023-07-26T12:29:47.227Z"
   },
   {
    "duration": 171862,
    "start_time": "2023-07-26T12:29:47.764Z"
   },
   {
    "duration": 2283,
    "start_time": "2023-07-26T12:32:39.628Z"
   },
   {
    "duration": 11,
    "start_time": "2023-07-26T12:32:41.913Z"
   },
   {
    "duration": 12,
    "start_time": "2023-07-26T12:32:41.925Z"
   },
   {
    "duration": 235,
    "start_time": "2023-07-26T12:32:41.939Z"
   },
   {
    "duration": 2950,
    "start_time": "2023-07-26T12:37:47.008Z"
   },
   {
    "duration": 2285,
    "start_time": "2023-07-26T12:40:46.978Z"
   },
   {
    "duration": 1542,
    "start_time": "2023-07-26T12:41:05.831Z"
   },
   {
    "duration": 2,
    "start_time": "2023-07-26T12:41:07.376Z"
   },
   {
    "duration": 1012,
    "start_time": "2023-07-26T12:41:07.380Z"
   },
   {
    "duration": 140,
    "start_time": "2023-07-26T12:41:08.394Z"
   },
   {
    "duration": 132,
    "start_time": "2023-07-26T12:41:08.537Z"
   },
   {
    "duration": 167,
    "start_time": "2023-07-26T12:41:08.671Z"
   },
   {
    "duration": 129,
    "start_time": "2023-07-26T12:41:08.840Z"
   },
   {
    "duration": 193,
    "start_time": "2023-07-26T12:41:08.971Z"
   },
   {
    "duration": 30,
    "start_time": "2023-07-26T12:41:09.165Z"
   },
   {
    "duration": 213,
    "start_time": "2023-07-26T12:41:09.208Z"
   },
   {
    "duration": 363,
    "start_time": "2023-07-26T12:41:09.423Z"
   },
   {
    "duration": 200,
    "start_time": "2023-07-26T12:41:09.788Z"
   },
   {
    "duration": 41,
    "start_time": "2023-07-26T12:41:09.990Z"
   },
   {
    "duration": 259,
    "start_time": "2023-07-26T12:41:10.034Z"
   },
   {
    "duration": 6,
    "start_time": "2023-07-26T12:41:10.294Z"
   },
   {
    "duration": 165,
    "start_time": "2023-07-26T12:41:10.301Z"
   },
   {
    "duration": 6,
    "start_time": "2023-07-26T12:41:10.467Z"
   },
   {
    "duration": 48,
    "start_time": "2023-07-26T12:41:10.475Z"
   },
   {
    "duration": 114,
    "start_time": "2023-07-26T12:41:10.525Z"
   },
   {
    "duration": 217,
    "start_time": "2023-07-26T12:41:10.641Z"
   },
   {
    "duration": 73,
    "start_time": "2023-07-26T12:41:10.861Z"
   },
   {
    "duration": 34,
    "start_time": "2023-07-26T12:41:10.936Z"
   },
   {
    "duration": 78,
    "start_time": "2023-07-26T12:41:10.971Z"
   },
   {
    "duration": 19,
    "start_time": "2023-07-26T12:41:11.051Z"
   },
   {
    "duration": 49,
    "start_time": "2023-07-26T12:41:11.072Z"
   },
   {
    "duration": 18,
    "start_time": "2023-07-26T12:41:11.123Z"
   },
   {
    "duration": 41,
    "start_time": "2023-07-26T12:41:11.143Z"
   },
   {
    "duration": 36,
    "start_time": "2023-07-26T12:41:11.186Z"
   },
   {
    "duration": 115,
    "start_time": "2023-07-26T12:41:11.224Z"
   },
   {
    "duration": 22,
    "start_time": "2023-07-26T12:41:11.341Z"
   },
   {
    "duration": 52,
    "start_time": "2023-07-26T12:41:11.366Z"
   },
   {
    "duration": 18,
    "start_time": "2023-07-26T12:41:11.420Z"
   },
   {
    "duration": 38,
    "start_time": "2023-07-26T12:41:11.441Z"
   },
   {
    "duration": 907,
    "start_time": "2023-07-26T12:41:11.481Z"
   },
   {
    "duration": 490,
    "start_time": "2023-07-26T12:41:12.390Z"
   },
   {
    "duration": 49,
    "start_time": "2023-07-26T12:41:12.882Z"
   },
   {
    "duration": 32,
    "start_time": "2023-07-26T12:41:12.933Z"
   },
   {
    "duration": 1064,
    "start_time": "2023-07-26T12:41:12.967Z"
   },
   {
    "duration": 393,
    "start_time": "2023-07-26T12:41:14.033Z"
   },
   {
    "duration": 21382,
    "start_time": "2023-07-26T12:41:14.428Z"
   },
   {
    "duration": 896,
    "start_time": "2023-07-26T12:41:35.815Z"
   },
   {
    "duration": 56401,
    "start_time": "2023-07-26T12:41:36.713Z"
   },
   {
    "duration": 1888,
    "start_time": "2023-07-26T12:42:33.116Z"
   },
   {
    "duration": 34680,
    "start_time": "2023-07-26T12:42:35.009Z"
   },
   {
    "duration": 490,
    "start_time": "2023-07-26T12:43:09.691Z"
   },
   {
    "duration": 7632,
    "start_time": "2023-07-26T12:43:10.183Z"
   },
   {
    "duration": 2211,
    "start_time": "2023-07-26T12:43:17.817Z"
   },
   {
    "duration": 11,
    "start_time": "2023-07-26T12:43:20.030Z"
   },
   {
    "duration": 66,
    "start_time": "2023-07-26T12:43:20.043Z"
   },
   {
    "duration": 241,
    "start_time": "2023-07-26T12:43:20.111Z"
   },
   {
    "duration": 1767,
    "start_time": "2023-07-26T14:00:33.504Z"
   },
   {
    "duration": 3,
    "start_time": "2023-07-26T14:00:35.274Z"
   },
   {
    "duration": 3408,
    "start_time": "2023-07-26T14:00:35.278Z"
   },
   {
    "duration": 127,
    "start_time": "2023-07-26T14:00:38.689Z"
   },
   {
    "duration": 128,
    "start_time": "2023-07-26T14:00:38.817Z"
   },
   {
    "duration": 147,
    "start_time": "2023-07-26T14:00:38.946Z"
   },
   {
    "duration": 120,
    "start_time": "2023-07-26T14:00:39.094Z"
   },
   {
    "duration": 193,
    "start_time": "2023-07-26T14:00:39.216Z"
   },
   {
    "duration": 28,
    "start_time": "2023-07-26T14:00:39.411Z"
   },
   {
    "duration": 32,
    "start_time": "2023-07-26T14:00:39.442Z"
   },
   {
    "duration": 163,
    "start_time": "2023-07-26T14:00:39.476Z"
   },
   {
    "duration": 179,
    "start_time": "2023-07-26T14:00:39.641Z"
   },
   {
    "duration": 27,
    "start_time": "2023-07-26T14:00:39.822Z"
   },
   {
    "duration": 156,
    "start_time": "2023-07-26T14:00:39.852Z"
   },
   {
    "duration": 6,
    "start_time": "2023-07-26T14:00:40.010Z"
   },
   {
    "duration": 249,
    "start_time": "2023-07-26T14:00:40.018Z"
   },
   {
    "duration": 6,
    "start_time": "2023-07-26T14:00:40.269Z"
   },
   {
    "duration": 55,
    "start_time": "2023-07-26T14:00:40.277Z"
   },
   {
    "duration": 106,
    "start_time": "2023-07-26T14:00:40.334Z"
   },
   {
    "duration": 218,
    "start_time": "2023-07-26T14:00:40.442Z"
   },
   {
    "duration": 65,
    "start_time": "2023-07-26T14:00:40.666Z"
   },
   {
    "duration": 41,
    "start_time": "2023-07-26T14:00:40.734Z"
   },
   {
    "duration": 60,
    "start_time": "2023-07-26T14:00:40.778Z"
   },
   {
    "duration": 32,
    "start_time": "2023-07-26T14:00:40.840Z"
   },
   {
    "duration": 54,
    "start_time": "2023-07-26T14:00:40.875Z"
   },
   {
    "duration": 16,
    "start_time": "2023-07-26T14:00:40.931Z"
   },
   {
    "duration": 42,
    "start_time": "2023-07-26T14:00:40.949Z"
   },
   {
    "duration": 20,
    "start_time": "2023-07-26T14:00:40.995Z"
   },
   {
    "duration": 113,
    "start_time": "2023-07-26T14:00:41.017Z"
   },
   {
    "duration": 19,
    "start_time": "2023-07-26T14:00:41.132Z"
   },
   {
    "duration": 34,
    "start_time": "2023-07-26T14:00:41.168Z"
   },
   {
    "duration": 49,
    "start_time": "2023-07-26T14:00:41.204Z"
   },
   {
    "duration": 49,
    "start_time": "2023-07-26T14:00:41.255Z"
   },
   {
    "duration": 796,
    "start_time": "2023-07-26T14:00:41.306Z"
   },
   {
    "duration": 408,
    "start_time": "2023-07-26T14:00:42.104Z"
   },
   {
    "duration": 41,
    "start_time": "2023-07-26T14:00:42.515Z"
   },
   {
    "duration": 37,
    "start_time": "2023-07-26T14:00:42.567Z"
   },
   {
    "duration": 779,
    "start_time": "2023-07-26T14:00:42.606Z"
   },
   {
    "duration": 373,
    "start_time": "2023-07-26T14:00:43.387Z"
   },
   {
    "duration": 27512,
    "start_time": "2023-07-26T14:00:43.762Z"
   },
   {
    "duration": 899,
    "start_time": "2023-07-26T14:01:11.277Z"
   },
   {
    "duration": 51375,
    "start_time": "2023-07-26T14:01:12.178Z"
   },
   {
    "duration": 1757,
    "start_time": "2023-07-26T14:02:03.554Z"
   },
   {
    "duration": 32901,
    "start_time": "2023-07-26T14:02:05.313Z"
   },
   {
    "duration": 488,
    "start_time": "2023-07-26T14:02:38.216Z"
   },
   {
    "duration": 379872,
    "start_time": "2023-07-26T14:02:38.706Z"
   },
   {
    "duration": 2291,
    "start_time": "2023-07-26T14:08:58.580Z"
   },
   {
    "duration": 14,
    "start_time": "2023-07-26T14:09:00.873Z"
   },
   {
    "duration": 116,
    "start_time": "2023-07-26T14:09:00.889Z"
   },
   {
    "duration": 296,
    "start_time": "2023-07-26T14:09:01.007Z"
   },
   {
    "duration": 1894,
    "start_time": "2023-07-26T14:18:50.514Z"
   },
   {
    "duration": 1628,
    "start_time": "2023-07-26T14:19:00.445Z"
   },
   {
    "duration": 3,
    "start_time": "2023-07-26T14:19:02.075Z"
   },
   {
    "duration": 1096,
    "start_time": "2023-07-26T14:19:02.080Z"
   },
   {
    "duration": 131,
    "start_time": "2023-07-26T14:19:03.178Z"
   },
   {
    "duration": 143,
    "start_time": "2023-07-26T14:19:03.312Z"
   },
   {
    "duration": 148,
    "start_time": "2023-07-26T14:19:03.457Z"
   },
   {
    "duration": 111,
    "start_time": "2023-07-26T14:19:03.606Z"
   },
   {
    "duration": 218,
    "start_time": "2023-07-26T14:19:03.719Z"
   },
   {
    "duration": 43,
    "start_time": "2023-07-26T14:19:03.939Z"
   },
   {
    "duration": 24,
    "start_time": "2023-07-26T14:19:03.985Z"
   },
   {
    "duration": 201,
    "start_time": "2023-07-26T14:19:04.012Z"
   },
   {
    "duration": 216,
    "start_time": "2023-07-26T14:19:04.215Z"
   },
   {
    "duration": 44,
    "start_time": "2023-07-26T14:19:04.433Z"
   },
   {
    "duration": 164,
    "start_time": "2023-07-26T14:19:04.479Z"
   },
   {
    "duration": 7,
    "start_time": "2023-07-26T14:19:04.645Z"
   },
   {
    "duration": 296,
    "start_time": "2023-07-26T14:19:04.653Z"
   },
   {
    "duration": 61,
    "start_time": "2023-07-26T14:19:04.950Z"
   },
   {
    "duration": 56,
    "start_time": "2023-07-26T14:19:05.013Z"
   },
   {
    "duration": 149,
    "start_time": "2023-07-26T14:19:05.072Z"
   },
   {
    "duration": 263,
    "start_time": "2023-07-26T14:19:05.223Z"
   },
   {
    "duration": 80,
    "start_time": "2023-07-26T14:19:05.489Z"
   },
   {
    "duration": 27,
    "start_time": "2023-07-26T14:19:05.570Z"
   },
   {
    "duration": 82,
    "start_time": "2023-07-26T14:19:05.599Z"
   },
   {
    "duration": 19,
    "start_time": "2023-07-26T14:19:05.682Z"
   },
   {
    "duration": 34,
    "start_time": "2023-07-26T14:19:05.702Z"
   },
   {
    "duration": 48,
    "start_time": "2023-07-26T14:19:05.738Z"
   },
   {
    "duration": 59,
    "start_time": "2023-07-26T14:19:05.788Z"
   },
   {
    "duration": 20,
    "start_time": "2023-07-26T14:19:05.852Z"
   },
   {
    "duration": 121,
    "start_time": "2023-07-26T14:19:05.874Z"
   },
   {
    "duration": 19,
    "start_time": "2023-07-26T14:19:05.997Z"
   },
   {
    "duration": 50,
    "start_time": "2023-07-26T14:19:06.017Z"
   },
   {
    "duration": 20,
    "start_time": "2023-07-26T14:19:06.069Z"
   },
   {
    "duration": 49,
    "start_time": "2023-07-26T14:19:06.092Z"
   },
   {
    "duration": 804,
    "start_time": "2023-07-26T14:19:06.144Z"
   },
   {
    "duration": 433,
    "start_time": "2023-07-26T14:19:06.950Z"
   },
   {
    "duration": 44,
    "start_time": "2023-07-26T14:19:07.385Z"
   },
   {
    "duration": 252,
    "start_time": "2023-07-26T14:19:07.430Z"
   },
   {
    "duration": 813,
    "start_time": "2023-07-26T14:19:07.685Z"
   },
   {
    "duration": 401,
    "start_time": "2023-07-26T14:19:08.501Z"
   },
   {
    "duration": 26568,
    "start_time": "2023-07-26T14:19:08.904Z"
   },
   {
    "duration": 804,
    "start_time": "2023-07-26T14:19:35.474Z"
   },
   {
    "duration": 54320,
    "start_time": "2023-07-26T14:19:36.280Z"
   },
   {
    "duration": 1887,
    "start_time": "2023-07-26T14:20:30.603Z"
   },
   {
    "duration": 34749,
    "start_time": "2023-07-26T14:20:32.492Z"
   },
   {
    "duration": 508,
    "start_time": "2023-07-26T14:21:07.242Z"
   },
   {
    "duration": 370128,
    "start_time": "2023-07-26T14:21:07.751Z"
   },
   {
    "duration": 2214,
    "start_time": "2023-07-26T14:27:17.881Z"
   },
   {
    "duration": 15,
    "start_time": "2023-07-26T14:27:20.097Z"
   },
   {
    "duration": 54,
    "start_time": "2023-07-26T14:27:20.114Z"
   },
   {
    "duration": 230,
    "start_time": "2023-07-26T14:27:20.170Z"
   },
   {
    "duration": 1848,
    "start_time": "2023-07-26T14:33:43.518Z"
   },
   {
    "duration": 0,
    "start_time": "2023-07-26T14:33:45.369Z"
   },
   {
    "duration": 0,
    "start_time": "2023-07-26T14:33:45.372Z"
   },
   {
    "duration": 0,
    "start_time": "2023-07-26T14:33:45.374Z"
   },
   {
    "duration": 0,
    "start_time": "2023-07-26T14:33:45.374Z"
   },
   {
    "duration": 0,
    "start_time": "2023-07-26T14:33:45.376Z"
   },
   {
    "duration": 0,
    "start_time": "2023-07-26T14:33:45.377Z"
   },
   {
    "duration": 0,
    "start_time": "2023-07-26T14:33:45.378Z"
   },
   {
    "duration": 0,
    "start_time": "2023-07-26T14:33:45.381Z"
   },
   {
    "duration": 0,
    "start_time": "2023-07-26T14:33:45.382Z"
   },
   {
    "duration": 0,
    "start_time": "2023-07-26T14:33:45.383Z"
   },
   {
    "duration": 0,
    "start_time": "2023-07-26T14:33:45.384Z"
   },
   {
    "duration": 0,
    "start_time": "2023-07-26T14:33:45.386Z"
   },
   {
    "duration": 0,
    "start_time": "2023-07-26T14:33:45.387Z"
   },
   {
    "duration": 0,
    "start_time": "2023-07-26T14:33:45.388Z"
   },
   {
    "duration": 0,
    "start_time": "2023-07-26T14:33:45.389Z"
   },
   {
    "duration": 0,
    "start_time": "2023-07-26T14:33:45.390Z"
   },
   {
    "duration": 0,
    "start_time": "2023-07-26T14:33:45.391Z"
   },
   {
    "duration": 0,
    "start_time": "2023-07-26T14:33:45.392Z"
   },
   {
    "duration": 0,
    "start_time": "2023-07-26T14:33:45.393Z"
   },
   {
    "duration": 0,
    "start_time": "2023-07-26T14:33:45.394Z"
   },
   {
    "duration": 0,
    "start_time": "2023-07-26T14:33:45.395Z"
   },
   {
    "duration": 0,
    "start_time": "2023-07-26T14:33:45.396Z"
   },
   {
    "duration": 0,
    "start_time": "2023-07-26T14:33:45.398Z"
   },
   {
    "duration": 0,
    "start_time": "2023-07-26T14:33:45.399Z"
   },
   {
    "duration": 0,
    "start_time": "2023-07-26T14:33:45.400Z"
   },
   {
    "duration": 0,
    "start_time": "2023-07-26T14:33:45.401Z"
   },
   {
    "duration": 0,
    "start_time": "2023-07-26T14:33:45.402Z"
   },
   {
    "duration": 0,
    "start_time": "2023-07-26T14:33:45.403Z"
   },
   {
    "duration": 0,
    "start_time": "2023-07-26T14:33:45.404Z"
   },
   {
    "duration": 0,
    "start_time": "2023-07-26T14:33:45.406Z"
   },
   {
    "duration": 0,
    "start_time": "2023-07-26T14:33:45.407Z"
   },
   {
    "duration": 0,
    "start_time": "2023-07-26T14:33:45.408Z"
   },
   {
    "duration": 0,
    "start_time": "2023-07-26T14:33:45.467Z"
   },
   {
    "duration": 0,
    "start_time": "2023-07-26T14:33:45.469Z"
   },
   {
    "duration": 1582,
    "start_time": "2023-07-26T14:34:16.648Z"
   },
   {
    "duration": 3,
    "start_time": "2023-07-26T14:34:18.232Z"
   },
   {
    "duration": 948,
    "start_time": "2023-07-26T14:34:18.236Z"
   },
   {
    "duration": 119,
    "start_time": "2023-07-26T14:34:19.186Z"
   },
   {
    "duration": 119,
    "start_time": "2023-07-26T14:34:19.307Z"
   },
   {
    "duration": 142,
    "start_time": "2023-07-26T14:34:19.428Z"
   },
   {
    "duration": 113,
    "start_time": "2023-07-26T14:34:19.572Z"
   },
   {
    "duration": 188,
    "start_time": "2023-07-26T14:34:19.686Z"
   },
   {
    "duration": 29,
    "start_time": "2023-07-26T14:34:19.876Z"
   },
   {
    "duration": 20,
    "start_time": "2023-07-26T14:34:19.908Z"
   },
   {
    "duration": 185,
    "start_time": "2023-07-26T14:34:19.930Z"
   },
   {
    "duration": 178,
    "start_time": "2023-07-26T14:34:20.117Z"
   },
   {
    "duration": 27,
    "start_time": "2023-07-26T14:34:20.298Z"
   },
   {
    "duration": 170,
    "start_time": "2023-07-26T14:34:20.328Z"
   },
   {
    "duration": 2,
    "start_time": "2023-07-26T14:34:20.500Z"
   },
   {
    "duration": 10,
    "start_time": "2023-07-26T14:34:20.504Z"
   },
   {
    "duration": 86,
    "start_time": "2023-07-26T14:34:20.516Z"
   },
   {
    "duration": 38,
    "start_time": "2023-07-26T14:34:20.604Z"
   },
   {
    "duration": 142,
    "start_time": "2023-07-26T14:34:20.643Z"
   },
   {
    "duration": 137,
    "start_time": "2023-07-26T14:34:20.788Z"
   },
   {
    "duration": 251,
    "start_time": "2023-07-26T14:34:20.928Z"
   },
   {
    "duration": 58,
    "start_time": "2023-07-26T14:34:21.181Z"
   },
   {
    "duration": 39,
    "start_time": "2023-07-26T14:34:21.240Z"
   },
   {
    "duration": 56,
    "start_time": "2023-07-26T14:34:21.281Z"
   },
   {
    "duration": 17,
    "start_time": "2023-07-26T14:34:21.339Z"
   },
   {
    "duration": 48,
    "start_time": "2023-07-26T14:34:21.358Z"
   },
   {
    "duration": 19,
    "start_time": "2023-07-26T14:34:21.408Z"
   },
   {
    "duration": 45,
    "start_time": "2023-07-26T14:34:21.431Z"
   },
   {
    "duration": 25,
    "start_time": "2023-07-26T14:34:21.478Z"
   },
   {
    "duration": 186,
    "start_time": "2023-07-26T14:34:21.504Z"
   },
   {
    "duration": 17,
    "start_time": "2023-07-26T14:34:21.692Z"
   },
   {
    "duration": 75,
    "start_time": "2023-07-26T14:34:21.711Z"
   },
   {
    "duration": 18,
    "start_time": "2023-07-26T14:34:21.788Z"
   },
   {
    "duration": 75,
    "start_time": "2023-07-26T14:34:21.808Z"
   },
   {
    "duration": 832,
    "start_time": "2023-07-26T14:34:21.885Z"
   },
   {
    "duration": 486,
    "start_time": "2023-07-26T14:34:22.719Z"
   },
   {
    "duration": 47,
    "start_time": "2023-07-26T14:34:23.207Z"
   },
   {
    "duration": 49,
    "start_time": "2023-07-26T14:34:23.256Z"
   },
   {
    "duration": 901,
    "start_time": "2023-07-26T14:34:23.307Z"
   },
   {
    "duration": 401,
    "start_time": "2023-07-26T14:34:24.211Z"
   },
   {
    "duration": 25460,
    "start_time": "2023-07-26T14:34:24.614Z"
   },
   {
    "duration": 903,
    "start_time": "2023-07-26T14:34:50.076Z"
   },
   {
    "duration": 50520,
    "start_time": "2023-07-26T14:34:50.981Z"
   },
   {
    "duration": 1739,
    "start_time": "2023-07-26T14:35:41.503Z"
   },
   {
    "duration": 35184,
    "start_time": "2023-07-26T14:35:43.244Z"
   },
   {
    "duration": 539,
    "start_time": "2023-07-26T14:36:18.431Z"
   },
   {
    "duration": 374909,
    "start_time": "2023-07-26T14:36:18.972Z"
   },
   {
    "duration": 2223,
    "start_time": "2023-07-26T14:42:33.884Z"
   },
   {
    "duration": 11,
    "start_time": "2023-07-26T14:42:36.108Z"
   },
   {
    "duration": 2,
    "start_time": "2023-07-26T14:42:36.168Z"
   },
   {
    "duration": 203,
    "start_time": "2023-07-26T14:42:36.172Z"
   },
   {
    "duration": 1628,
    "start_time": "2023-07-26T14:49:12.816Z"
   },
   {
    "duration": 3,
    "start_time": "2023-07-26T14:49:14.447Z"
   },
   {
    "duration": 931,
    "start_time": "2023-07-26T14:49:14.452Z"
   },
   {
    "duration": 140,
    "start_time": "2023-07-26T14:49:15.385Z"
   },
   {
    "duration": 121,
    "start_time": "2023-07-26T14:49:15.527Z"
   },
   {
    "duration": 149,
    "start_time": "2023-07-26T14:49:15.650Z"
   },
   {
    "duration": 122,
    "start_time": "2023-07-26T14:49:15.801Z"
   },
   {
    "duration": 195,
    "start_time": "2023-07-26T14:49:15.925Z"
   },
   {
    "duration": 30,
    "start_time": "2023-07-26T14:49:16.122Z"
   },
   {
    "duration": 20,
    "start_time": "2023-07-26T14:49:16.166Z"
   },
   {
    "duration": 182,
    "start_time": "2023-07-26T14:49:16.188Z"
   },
   {
    "duration": 181,
    "start_time": "2023-07-26T14:49:16.372Z"
   },
   {
    "duration": 34,
    "start_time": "2023-07-26T14:49:16.555Z"
   },
   {
    "duration": 161,
    "start_time": "2023-07-26T14:49:16.590Z"
   },
   {
    "duration": 48,
    "start_time": "2023-07-26T14:49:16.753Z"
   },
   {
    "duration": 40,
    "start_time": "2023-07-26T14:49:16.803Z"
   },
   {
    "duration": 8,
    "start_time": "2023-07-26T14:49:16.866Z"
   },
   {
    "duration": 250,
    "start_time": "2023-07-26T14:49:16.876Z"
   },
   {
    "duration": 42,
    "start_time": "2023-07-26T14:49:17.128Z"
   },
   {
    "duration": 130,
    "start_time": "2023-07-26T14:49:17.173Z"
   },
   {
    "duration": 229,
    "start_time": "2023-07-26T14:49:17.304Z"
   },
   {
    "duration": 71,
    "start_time": "2023-07-26T14:49:17.535Z"
   },
   {
    "duration": 29,
    "start_time": "2023-07-26T14:49:17.609Z"
   },
   {
    "duration": 72,
    "start_time": "2023-07-26T14:49:17.640Z"
   },
   {
    "duration": 19,
    "start_time": "2023-07-26T14:49:17.714Z"
   },
   {
    "duration": 63,
    "start_time": "2023-07-26T14:49:17.735Z"
   },
   {
    "duration": 18,
    "start_time": "2023-07-26T14:49:17.800Z"
   },
   {
    "duration": 49,
    "start_time": "2023-07-26T14:49:17.824Z"
   },
   {
    "duration": 22,
    "start_time": "2023-07-26T14:49:17.876Z"
   },
   {
    "duration": 128,
    "start_time": "2023-07-26T14:49:17.900Z"
   },
   {
    "duration": 19,
    "start_time": "2023-07-26T14:49:18.030Z"
   },
   {
    "duration": 45,
    "start_time": "2023-07-26T14:49:18.052Z"
   },
   {
    "duration": 19,
    "start_time": "2023-07-26T14:49:18.099Z"
   },
   {
    "duration": 53,
    "start_time": "2023-07-26T14:49:18.119Z"
   },
   {
    "duration": 855,
    "start_time": "2023-07-26T14:49:18.174Z"
   },
   {
    "duration": 457,
    "start_time": "2023-07-26T14:49:19.032Z"
   },
   {
    "duration": 44,
    "start_time": "2023-07-26T14:49:19.491Z"
   },
   {
    "duration": 50,
    "start_time": "2023-07-26T14:49:19.537Z"
   },
   {
    "duration": 811,
    "start_time": "2023-07-26T14:49:19.589Z"
   },
   {
    "duration": 371,
    "start_time": "2023-07-26T14:49:20.401Z"
   },
   {
    "duration": 26597,
    "start_time": "2023-07-26T14:49:20.774Z"
   },
   {
    "duration": 799,
    "start_time": "2023-07-26T14:49:47.373Z"
   },
   {
    "duration": 51312,
    "start_time": "2023-07-26T14:49:48.174Z"
   },
   {
    "duration": 1737,
    "start_time": "2023-07-26T14:50:39.489Z"
   },
   {
    "duration": 33462,
    "start_time": "2023-07-26T14:50:41.228Z"
   },
   {
    "duration": 539,
    "start_time": "2023-07-26T14:51:14.692Z"
   },
   {
    "duration": 371653,
    "start_time": "2023-07-26T14:51:15.233Z"
   },
   {
    "duration": 2218,
    "start_time": "2023-07-26T14:57:26.888Z"
   },
   {
    "duration": 64,
    "start_time": "2023-07-26T14:57:29.108Z"
   },
   {
    "duration": 33,
    "start_time": "2023-07-26T14:57:29.174Z"
   },
   {
    "duration": 196,
    "start_time": "2023-07-26T14:57:29.209Z"
   },
   {
    "duration": 83,
    "start_time": "2023-07-26T15:29:11.961Z"
   },
   {
    "duration": 1646,
    "start_time": "2023-07-26T15:29:23.317Z"
   },
   {
    "duration": 2,
    "start_time": "2023-07-26T15:29:24.966Z"
   },
   {
    "duration": 966,
    "start_time": "2023-07-26T15:29:24.970Z"
   },
   {
    "duration": 158,
    "start_time": "2023-07-26T15:29:25.938Z"
   },
   {
    "duration": 140,
    "start_time": "2023-07-26T15:29:26.098Z"
   },
   {
    "duration": 149,
    "start_time": "2023-07-26T15:29:26.240Z"
   },
   {
    "duration": 121,
    "start_time": "2023-07-26T15:29:26.391Z"
   },
   {
    "duration": 191,
    "start_time": "2023-07-26T15:29:26.514Z"
   },
   {
    "duration": 33,
    "start_time": "2023-07-26T15:29:26.707Z"
   },
   {
    "duration": 39,
    "start_time": "2023-07-26T15:29:26.744Z"
   },
   {
    "duration": 190,
    "start_time": "2023-07-26T15:29:26.785Z"
   },
   {
    "duration": 186,
    "start_time": "2023-07-26T15:29:26.977Z"
   },
   {
    "duration": 28,
    "start_time": "2023-07-26T15:29:27.166Z"
   },
   {
    "duration": 169,
    "start_time": "2023-07-26T15:29:27.196Z"
   },
   {
    "duration": 46,
    "start_time": "2023-07-26T15:29:27.367Z"
   },
   {
    "duration": 55,
    "start_time": "2023-07-26T15:29:27.414Z"
   },
   {
    "duration": 6,
    "start_time": "2023-07-26T15:29:27.471Z"
   },
   {
    "duration": 235,
    "start_time": "2023-07-26T15:29:27.478Z"
   },
   {
    "duration": 28,
    "start_time": "2023-07-26T15:29:27.715Z"
   },
   {
    "duration": 133,
    "start_time": "2023-07-26T15:29:27.744Z"
   },
   {
    "duration": 194,
    "start_time": "2023-07-26T15:29:27.879Z"
   },
   {
    "duration": 75,
    "start_time": "2023-07-26T15:29:28.074Z"
   },
   {
    "duration": 28,
    "start_time": "2023-07-26T15:29:28.151Z"
   },
   {
    "duration": 69,
    "start_time": "2023-07-26T15:29:28.181Z"
   },
   {
    "duration": 26,
    "start_time": "2023-07-26T15:29:28.252Z"
   },
   {
    "duration": 54,
    "start_time": "2023-07-26T15:29:28.280Z"
   },
   {
    "duration": 49,
    "start_time": "2023-07-26T15:29:28.336Z"
   },
   {
    "duration": 58,
    "start_time": "2023-07-26T15:29:28.391Z"
   },
   {
    "duration": 22,
    "start_time": "2023-07-26T15:29:28.452Z"
   },
   {
    "duration": 163,
    "start_time": "2023-07-26T15:29:28.475Z"
   },
   {
    "duration": 18,
    "start_time": "2023-07-26T15:29:28.640Z"
   },
   {
    "duration": 31,
    "start_time": "2023-07-26T15:29:28.666Z"
   },
   {
    "duration": 26,
    "start_time": "2023-07-26T15:29:28.699Z"
   },
   {
    "duration": 41,
    "start_time": "2023-07-26T15:29:28.727Z"
   },
   {
    "duration": 843,
    "start_time": "2023-07-26T15:29:28.769Z"
   },
   {
    "duration": 498,
    "start_time": "2023-07-26T15:29:29.614Z"
   },
   {
    "duration": 40,
    "start_time": "2023-07-26T15:29:30.114Z"
   },
   {
    "duration": 74,
    "start_time": "2023-07-26T15:29:30.156Z"
   },
   {
    "duration": 1037,
    "start_time": "2023-07-26T15:29:30.232Z"
   },
   {
    "duration": 399,
    "start_time": "2023-07-26T15:29:31.272Z"
   },
   {
    "duration": 28100,
    "start_time": "2023-07-26T15:29:31.674Z"
   },
   {
    "duration": 895,
    "start_time": "2023-07-26T15:29:59.776Z"
   },
   {
    "duration": 52765,
    "start_time": "2023-07-26T15:30:00.674Z"
   },
   {
    "duration": 1860,
    "start_time": "2023-07-26T15:30:53.441Z"
   },
   {
    "duration": 34570,
    "start_time": "2023-07-26T15:30:55.303Z"
   },
   {
    "duration": 506,
    "start_time": "2023-07-26T15:31:29.876Z"
   },
   {
    "duration": 360296,
    "start_time": "2023-07-26T15:31:30.384Z"
   },
   {
    "duration": 2308,
    "start_time": "2023-07-26T15:37:30.682Z"
   },
   {
    "duration": 11,
    "start_time": "2023-07-26T15:37:32.992Z"
   },
   {
    "duration": 12,
    "start_time": "2023-07-26T15:37:33.005Z"
   },
   {
    "duration": 266,
    "start_time": "2023-07-26T15:37:33.019Z"
   },
   {
    "duration": 189,
    "start_time": "2023-07-26T15:45:05.186Z"
   },
   {
    "duration": 1598,
    "start_time": "2023-07-26T15:45:22.004Z"
   },
   {
    "duration": 2,
    "start_time": "2023-07-26T15:45:23.604Z"
   },
   {
    "duration": 1015,
    "start_time": "2023-07-26T15:45:23.608Z"
   },
   {
    "duration": 140,
    "start_time": "2023-07-26T15:45:24.625Z"
   },
   {
    "duration": 141,
    "start_time": "2023-07-26T15:45:24.766Z"
   },
   {
    "duration": 149,
    "start_time": "2023-07-26T15:45:24.910Z"
   },
   {
    "duration": 137,
    "start_time": "2023-07-26T15:45:25.066Z"
   },
   {
    "duration": 200,
    "start_time": "2023-07-26T15:45:25.205Z"
   },
   {
    "duration": 31,
    "start_time": "2023-07-26T15:45:25.407Z"
   },
   {
    "duration": 38,
    "start_time": "2023-07-26T15:45:25.442Z"
   },
   {
    "duration": 177,
    "start_time": "2023-07-26T15:45:25.483Z"
   },
   {
    "duration": 188,
    "start_time": "2023-07-26T15:45:25.662Z"
   },
   {
    "duration": 35,
    "start_time": "2023-07-26T15:45:25.852Z"
   },
   {
    "duration": 177,
    "start_time": "2023-07-26T15:45:25.890Z"
   },
   {
    "duration": 56,
    "start_time": "2023-07-26T15:45:26.069Z"
   },
   {
    "duration": 53,
    "start_time": "2023-07-26T15:45:26.127Z"
   },
   {
    "duration": 7,
    "start_time": "2023-07-26T15:45:26.182Z"
   },
   {
    "duration": 254,
    "start_time": "2023-07-26T15:45:26.191Z"
   },
   {
    "duration": 45,
    "start_time": "2023-07-26T15:45:26.448Z"
   },
   {
    "duration": 81,
    "start_time": "2023-07-26T15:45:26.495Z"
   },
   {
    "duration": 89,
    "start_time": "2023-07-26T15:45:26.578Z"
   },
   {
    "duration": 49,
    "start_time": "2023-07-26T15:45:26.669Z"
   },
   {
    "duration": 17,
    "start_time": "2023-07-26T15:45:26.720Z"
   },
   {
    "duration": 58,
    "start_time": "2023-07-26T15:45:26.740Z"
   },
   {
    "duration": 9,
    "start_time": "2023-07-26T15:45:26.800Z"
   },
   {
    "duration": 23,
    "start_time": "2023-07-26T15:45:26.811Z"
   },
   {
    "duration": 12,
    "start_time": "2023-07-26T15:45:26.836Z"
   },
   {
    "duration": 19,
    "start_time": "2023-07-26T15:45:26.871Z"
   },
   {
    "duration": 21,
    "start_time": "2023-07-26T15:45:26.892Z"
   },
   {
    "duration": 43,
    "start_time": "2023-07-26T15:45:26.915Z"
   },
   {
    "duration": 13,
    "start_time": "2023-07-26T15:45:26.966Z"
   },
   {
    "duration": 32,
    "start_time": "2023-07-26T15:45:26.980Z"
   },
   {
    "duration": 31,
    "start_time": "2023-07-26T15:45:27.013Z"
   },
   {
    "duration": 48,
    "start_time": "2023-07-26T15:45:27.045Z"
   },
   {
    "duration": 290,
    "start_time": "2023-07-26T15:45:27.095Z"
   },
   {
    "duration": 154,
    "start_time": "2023-07-26T15:45:27.386Z"
   },
   {
    "duration": 33,
    "start_time": "2023-07-26T15:45:27.542Z"
   },
   {
    "duration": 24,
    "start_time": "2023-07-26T15:45:27.577Z"
   },
   {
    "duration": 213,
    "start_time": "2023-07-26T15:45:27.603Z"
   },
   {
    "duration": 120,
    "start_time": "2023-07-26T15:45:27.818Z"
   },
   {
    "duration": 6032,
    "start_time": "2023-07-26T15:45:27.940Z"
   },
   {
    "duration": 393,
    "start_time": "2023-07-26T15:45:33.974Z"
   },
   {
    "duration": 11732,
    "start_time": "2023-07-26T15:45:34.373Z"
   },
   {
    "duration": 444,
    "start_time": "2023-07-26T15:45:46.107Z"
   },
   {
    "duration": 11393,
    "start_time": "2023-07-26T15:45:46.553Z"
   },
   {
    "duration": 157,
    "start_time": "2023-07-26T15:45:57.949Z"
   },
   {
    "duration": 1745,
    "start_time": "2023-07-26T15:48:33.099Z"
   },
   {
    "duration": 2,
    "start_time": "2023-07-26T15:48:34.846Z"
   },
   {
    "duration": 959,
    "start_time": "2023-07-26T15:48:34.851Z"
   },
   {
    "duration": 138,
    "start_time": "2023-07-26T15:48:35.813Z"
   },
   {
    "duration": 134,
    "start_time": "2023-07-26T15:48:35.953Z"
   },
   {
    "duration": 151,
    "start_time": "2023-07-26T15:48:36.089Z"
   },
   {
    "duration": 121,
    "start_time": "2023-07-26T15:48:36.242Z"
   },
   {
    "duration": 204,
    "start_time": "2023-07-26T15:48:36.367Z"
   },
   {
    "duration": 31,
    "start_time": "2023-07-26T15:48:36.572Z"
   },
   {
    "duration": 20,
    "start_time": "2023-07-26T15:48:36.606Z"
   },
   {
    "duration": 190,
    "start_time": "2023-07-26T15:48:36.628Z"
   },
   {
    "duration": 183,
    "start_time": "2023-07-26T15:48:36.821Z"
   },
   {
    "duration": 27,
    "start_time": "2023-07-26T15:48:37.006Z"
   },
   {
    "duration": 178,
    "start_time": "2023-07-26T15:48:37.035Z"
   },
   {
    "duration": 59,
    "start_time": "2023-07-26T15:48:37.215Z"
   },
   {
    "duration": 37,
    "start_time": "2023-07-26T15:48:37.276Z"
   },
   {
    "duration": 6,
    "start_time": "2023-07-26T15:48:37.315Z"
   },
   {
    "duration": 273,
    "start_time": "2023-07-26T15:48:37.322Z"
   },
   {
    "duration": 7,
    "start_time": "2023-07-26T15:48:37.597Z"
   },
   {
    "duration": 32,
    "start_time": "2023-07-26T15:48:37.606Z"
   },
   {
    "duration": 63,
    "start_time": "2023-07-26T15:48:37.640Z"
   },
   {
    "duration": 84,
    "start_time": "2023-07-26T15:48:37.705Z"
   },
   {
    "duration": 40,
    "start_time": "2023-07-26T15:48:37.791Z"
   },
   {
    "duration": 34,
    "start_time": "2023-07-26T15:48:37.833Z"
   },
   {
    "duration": 56,
    "start_time": "2023-07-26T15:48:37.869Z"
   },
   {
    "duration": 10,
    "start_time": "2023-07-26T15:48:37.926Z"
   },
   {
    "duration": 44,
    "start_time": "2023-07-26T15:48:37.938Z"
   },
   {
    "duration": 27,
    "start_time": "2023-07-26T15:48:37.986Z"
   },
   {
    "duration": 23,
    "start_time": "2023-07-26T15:48:38.015Z"
   },
   {
    "duration": 10,
    "start_time": "2023-07-26T15:48:38.040Z"
   },
   {
    "duration": 58,
    "start_time": "2023-07-26T15:48:38.051Z"
   },
   {
    "duration": 9,
    "start_time": "2023-07-26T15:48:38.111Z"
   },
   {
    "duration": 33,
    "start_time": "2023-07-26T15:48:38.122Z"
   },
   {
    "duration": 15,
    "start_time": "2023-07-26T15:48:38.157Z"
   },
   {
    "duration": 16,
    "start_time": "2023-07-26T15:48:38.174Z"
   },
   {
    "duration": 306,
    "start_time": "2023-07-26T15:48:38.192Z"
   },
   {
    "duration": 169,
    "start_time": "2023-07-26T15:48:38.500Z"
   },
   {
    "duration": 32,
    "start_time": "2023-07-26T15:48:38.671Z"
   },
   {
    "duration": 23,
    "start_time": "2023-07-26T15:48:38.705Z"
   },
   {
    "duration": 222,
    "start_time": "2023-07-26T15:48:38.730Z"
   },
   {
    "duration": 96,
    "start_time": "2023-07-26T15:48:38.954Z"
   },
   {
    "duration": 8523,
    "start_time": "2023-07-26T15:48:39.052Z"
   },
   {
    "duration": 402,
    "start_time": "2023-07-26T15:48:47.577Z"
   },
   {
    "duration": 11718,
    "start_time": "2023-07-26T15:48:47.980Z"
   },
   {
    "duration": 449,
    "start_time": "2023-07-26T15:48:59.700Z"
   },
   {
    "duration": 11942,
    "start_time": "2023-07-26T15:49:00.151Z"
   },
   {
    "duration": 177,
    "start_time": "2023-07-26T15:49:12.095Z"
   },
   {
    "duration": 1795,
    "start_time": "2023-07-26T15:53:13.533Z"
   },
   {
    "duration": 3,
    "start_time": "2023-07-26T15:53:15.332Z"
   },
   {
    "duration": 982,
    "start_time": "2023-07-26T15:53:15.337Z"
   },
   {
    "duration": 159,
    "start_time": "2023-07-26T15:53:16.321Z"
   },
   {
    "duration": 120,
    "start_time": "2023-07-26T15:53:16.482Z"
   },
   {
    "duration": 152,
    "start_time": "2023-07-26T15:53:16.604Z"
   },
   {
    "duration": 125,
    "start_time": "2023-07-26T15:53:16.758Z"
   },
   {
    "duration": 194,
    "start_time": "2023-07-26T15:53:16.885Z"
   },
   {
    "duration": 32,
    "start_time": "2023-07-26T15:53:17.081Z"
   },
   {
    "duration": 21,
    "start_time": "2023-07-26T15:53:17.116Z"
   },
   {
    "duration": 199,
    "start_time": "2023-07-26T15:53:17.138Z"
   },
   {
    "duration": 185,
    "start_time": "2023-07-26T15:53:17.339Z"
   },
   {
    "duration": 28,
    "start_time": "2023-07-26T15:53:17.526Z"
   },
   {
    "duration": 162,
    "start_time": "2023-07-26T15:53:17.568Z"
   },
   {
    "duration": 56,
    "start_time": "2023-07-26T15:53:17.731Z"
   },
   {
    "duration": 38,
    "start_time": "2023-07-26T15:53:17.789Z"
   },
   {
    "duration": 26,
    "start_time": "2023-07-26T15:53:17.829Z"
   },
   {
    "duration": 251,
    "start_time": "2023-07-26T15:53:17.867Z"
   },
   {
    "duration": 5,
    "start_time": "2023-07-26T15:53:18.120Z"
   },
   {
    "duration": 42,
    "start_time": "2023-07-26T15:53:18.127Z"
   },
   {
    "duration": 133,
    "start_time": "2023-07-26T15:53:18.171Z"
   },
   {
    "duration": 223,
    "start_time": "2023-07-26T15:53:18.306Z"
   },
   {
    "duration": 76,
    "start_time": "2023-07-26T15:53:18.531Z"
   },
   {
    "duration": 30,
    "start_time": "2023-07-26T15:53:18.609Z"
   },
   {
    "duration": 78,
    "start_time": "2023-07-26T15:53:18.640Z"
   },
   {
    "duration": 25,
    "start_time": "2023-07-26T15:53:18.720Z"
   },
   {
    "duration": 62,
    "start_time": "2023-07-26T15:53:18.748Z"
   },
   {
    "duration": 16,
    "start_time": "2023-07-26T15:53:18.814Z"
   },
   {
    "duration": 50,
    "start_time": "2023-07-26T15:53:18.832Z"
   },
   {
    "duration": 20,
    "start_time": "2023-07-26T15:53:18.884Z"
   },
   {
    "duration": 124,
    "start_time": "2023-07-26T15:53:18.906Z"
   },
   {
    "duration": 19,
    "start_time": "2023-07-26T15:53:19.032Z"
   },
   {
    "duration": 41,
    "start_time": "2023-07-26T15:53:19.067Z"
   },
   {
    "duration": 17,
    "start_time": "2023-07-26T15:53:19.109Z"
   },
   {
    "duration": 44,
    "start_time": "2023-07-26T15:53:19.128Z"
   },
   {
    "duration": 854,
    "start_time": "2023-07-26T15:53:19.173Z"
   },
   {
    "duration": 475,
    "start_time": "2023-07-26T15:53:20.028Z"
   },
   {
    "duration": 45,
    "start_time": "2023-07-26T15:53:20.506Z"
   },
   {
    "duration": 46,
    "start_time": "2023-07-26T15:53:20.567Z"
   },
   {
    "duration": 860,
    "start_time": "2023-07-26T15:53:20.615Z"
   },
   {
    "duration": 392,
    "start_time": "2023-07-26T15:53:21.477Z"
   },
   {
    "duration": 28602,
    "start_time": "2023-07-26T15:53:21.871Z"
   },
   {
    "duration": 893,
    "start_time": "2023-07-26T15:53:50.475Z"
   },
   {
    "duration": 52517,
    "start_time": "2023-07-26T15:53:51.371Z"
   },
   {
    "duration": 1737,
    "start_time": "2023-07-26T15:54:43.890Z"
   },
   {
    "duration": 34276,
    "start_time": "2023-07-26T15:54:45.629Z"
   },
   {
    "duration": 519,
    "start_time": "2023-07-26T15:55:19.907Z"
   },
   {
    "duration": 1733,
    "start_time": "2023-07-26T15:59:03.724Z"
   },
   {
    "duration": 3,
    "start_time": "2023-07-26T15:59:05.459Z"
   },
   {
    "duration": 1095,
    "start_time": "2023-07-26T15:59:05.464Z"
   },
   {
    "duration": 142,
    "start_time": "2023-07-26T15:59:06.567Z"
   },
   {
    "duration": 181,
    "start_time": "2023-07-26T15:59:06.711Z"
   },
   {
    "duration": 152,
    "start_time": "2023-07-26T15:59:06.894Z"
   },
   {
    "duration": 122,
    "start_time": "2023-07-26T15:59:07.048Z"
   },
   {
    "duration": 199,
    "start_time": "2023-07-26T15:59:07.172Z"
   },
   {
    "duration": 32,
    "start_time": "2023-07-26T15:59:07.373Z"
   },
   {
    "duration": 20,
    "start_time": "2023-07-26T15:59:07.408Z"
   },
   {
    "duration": 217,
    "start_time": "2023-07-26T15:59:07.430Z"
   },
   {
    "duration": 198,
    "start_time": "2023-07-26T15:59:07.649Z"
   },
   {
    "duration": 44,
    "start_time": "2023-07-26T15:59:07.850Z"
   },
   {
    "duration": 170,
    "start_time": "2023-07-26T15:59:07.897Z"
   },
   {
    "duration": 46,
    "start_time": "2023-07-26T15:59:08.069Z"
   },
   {
    "duration": 53,
    "start_time": "2023-07-26T15:59:08.117Z"
   },
   {
    "duration": 7,
    "start_time": "2023-07-26T15:59:08.172Z"
   },
   {
    "duration": 261,
    "start_time": "2023-07-26T15:59:08.181Z"
   },
   {
    "duration": 158,
    "start_time": "2023-07-26T15:59:08.444Z"
   },
   {
    "duration": 0,
    "start_time": "2023-07-26T15:59:08.606Z"
   },
   {
    "duration": 0,
    "start_time": "2023-07-26T15:59:08.607Z"
   },
   {
    "duration": 0,
    "start_time": "2023-07-26T15:59:08.609Z"
   },
   {
    "duration": 0,
    "start_time": "2023-07-26T15:59:08.611Z"
   },
   {
    "duration": 0,
    "start_time": "2023-07-26T15:59:08.612Z"
   },
   {
    "duration": 1,
    "start_time": "2023-07-26T15:59:08.613Z"
   },
   {
    "duration": 0,
    "start_time": "2023-07-26T15:59:08.615Z"
   },
   {
    "duration": 0,
    "start_time": "2023-07-26T15:59:08.617Z"
   },
   {
    "duration": 0,
    "start_time": "2023-07-26T15:59:08.618Z"
   },
   {
    "duration": 0,
    "start_time": "2023-07-26T15:59:08.619Z"
   },
   {
    "duration": 0,
    "start_time": "2023-07-26T15:59:08.620Z"
   },
   {
    "duration": 0,
    "start_time": "2023-07-26T15:59:08.621Z"
   },
   {
    "duration": 0,
    "start_time": "2023-07-26T15:59:08.623Z"
   },
   {
    "duration": 0,
    "start_time": "2023-07-26T15:59:08.624Z"
   },
   {
    "duration": 0,
    "start_time": "2023-07-26T15:59:08.625Z"
   },
   {
    "duration": 0,
    "start_time": "2023-07-26T15:59:08.627Z"
   },
   {
    "duration": 1,
    "start_time": "2023-07-26T15:59:08.628Z"
   },
   {
    "duration": 0,
    "start_time": "2023-07-26T15:59:08.667Z"
   },
   {
    "duration": 0,
    "start_time": "2023-07-26T15:59:08.669Z"
   },
   {
    "duration": 0,
    "start_time": "2023-07-26T15:59:08.671Z"
   },
   {
    "duration": 0,
    "start_time": "2023-07-26T15:59:08.673Z"
   },
   {
    "duration": 0,
    "start_time": "2023-07-26T15:59:08.674Z"
   },
   {
    "duration": 0,
    "start_time": "2023-07-26T15:59:08.675Z"
   },
   {
    "duration": 0,
    "start_time": "2023-07-26T15:59:08.676Z"
   },
   {
    "duration": 0,
    "start_time": "2023-07-26T15:59:08.678Z"
   },
   {
    "duration": 0,
    "start_time": "2023-07-26T15:59:08.679Z"
   },
   {
    "duration": 0,
    "start_time": "2023-07-26T15:59:08.680Z"
   },
   {
    "duration": 0,
    "start_time": "2023-07-26T15:59:08.682Z"
   },
   {
    "duration": 0,
    "start_time": "2023-07-26T15:59:08.683Z"
   },
   {
    "duration": 0,
    "start_time": "2023-07-26T15:59:08.684Z"
   },
   {
    "duration": 0,
    "start_time": "2023-07-26T15:59:08.688Z"
   },
   {
    "duration": 0,
    "start_time": "2023-07-26T15:59:08.689Z"
   },
   {
    "duration": 0,
    "start_time": "2023-07-26T15:59:08.690Z"
   },
   {
    "duration": 24,
    "start_time": "2023-07-26T16:00:39.106Z"
   },
   {
    "duration": 39,
    "start_time": "2023-07-26T16:01:21.632Z"
   },
   {
    "duration": 130,
    "start_time": "2023-07-26T16:06:07.410Z"
   },
   {
    "duration": 76,
    "start_time": "2023-07-26T16:06:22.399Z"
   },
   {
    "duration": 81,
    "start_time": "2023-07-26T16:09:10.566Z"
   },
   {
    "duration": 71,
    "start_time": "2023-07-26T16:20:17.739Z"
   },
   {
    "duration": 8,
    "start_time": "2023-07-26T16:24:46.008Z"
   },
   {
    "duration": 37,
    "start_time": "2023-07-26T16:25:13.600Z"
   },
   {
    "duration": 77,
    "start_time": "2023-07-26T16:26:05.108Z"
   },
   {
    "duration": 142,
    "start_time": "2023-07-26T16:27:09.770Z"
   },
   {
    "duration": 6755,
    "start_time": "2023-07-26T16:32:20.731Z"
   },
   {
    "duration": 99,
    "start_time": "2023-07-26T16:33:38.476Z"
   },
   {
    "duration": 7058,
    "start_time": "2023-07-26T16:34:04.739Z"
   },
   {
    "duration": 5684,
    "start_time": "2023-07-26T16:34:57.152Z"
   },
   {
    "duration": 42,
    "start_time": "2023-07-26T16:40:24.173Z"
   },
   {
    "duration": 2502,
    "start_time": "2023-07-26T16:42:00.746Z"
   },
   {
    "duration": 2106,
    "start_time": "2023-07-26T16:42:53.861Z"
   },
   {
    "duration": 79,
    "start_time": "2023-07-26T16:49:48.750Z"
   },
   {
    "duration": 88,
    "start_time": "2023-07-26T16:50:04.358Z"
   },
   {
    "duration": 30,
    "start_time": "2023-07-26T17:01:03.373Z"
   },
   {
    "duration": 62,
    "start_time": "2023-07-26T17:01:20.090Z"
   },
   {
    "duration": 1613,
    "start_time": "2023-07-26T17:01:49.617Z"
   },
   {
    "duration": 4,
    "start_time": "2023-07-26T17:01:51.232Z"
   },
   {
    "duration": 1084,
    "start_time": "2023-07-26T17:01:51.240Z"
   },
   {
    "duration": 156,
    "start_time": "2023-07-26T17:01:52.327Z"
   },
   {
    "duration": 132,
    "start_time": "2023-07-26T17:01:52.485Z"
   },
   {
    "duration": 181,
    "start_time": "2023-07-26T17:01:52.619Z"
   },
   {
    "duration": 148,
    "start_time": "2023-07-26T17:01:52.802Z"
   },
   {
    "duration": 225,
    "start_time": "2023-07-26T17:01:52.952Z"
   },
   {
    "duration": 39,
    "start_time": "2023-07-26T17:01:53.179Z"
   },
   {
    "duration": 24,
    "start_time": "2023-07-26T17:01:53.222Z"
   },
   {
    "duration": 195,
    "start_time": "2023-07-26T17:01:53.268Z"
   },
   {
    "duration": 244,
    "start_time": "2023-07-26T17:01:53.467Z"
   },
   {
    "duration": 33,
    "start_time": "2023-07-26T17:01:53.713Z"
   },
   {
    "duration": 214,
    "start_time": "2023-07-26T17:01:53.748Z"
   },
   {
    "duration": 81,
    "start_time": "2023-07-26T17:01:53.968Z"
   },
   {
    "duration": 62,
    "start_time": "2023-07-26T17:01:54.051Z"
   },
   {
    "duration": 10,
    "start_time": "2023-07-26T17:01:54.116Z"
   },
   {
    "duration": 303,
    "start_time": "2023-07-26T17:01:54.129Z"
   },
   {
    "duration": 136,
    "start_time": "2023-07-26T17:01:54.435Z"
   },
   {
    "duration": 126,
    "start_time": "2023-07-26T17:01:54.573Z"
   },
   {
    "duration": 37,
    "start_time": "2023-07-26T17:01:54.701Z"
   },
   {
    "duration": 92,
    "start_time": "2023-07-26T17:01:54.740Z"
   },
   {
    "duration": 105,
    "start_time": "2023-07-26T17:01:54.835Z"
   },
   {
    "duration": 62,
    "start_time": "2023-07-26T17:01:54.942Z"
   },
   {
    "duration": 15,
    "start_time": "2023-07-26T17:01:55.006Z"
   },
   {
    "duration": 77,
    "start_time": "2023-07-26T17:01:55.024Z"
   },
   {
    "duration": 13,
    "start_time": "2023-07-26T17:01:55.103Z"
   },
   {
    "duration": 52,
    "start_time": "2023-07-26T17:01:55.123Z"
   },
   {
    "duration": 57,
    "start_time": "2023-07-26T17:01:55.178Z"
   },
   {
    "duration": 61,
    "start_time": "2023-07-26T17:01:55.238Z"
   },
   {
    "duration": 41,
    "start_time": "2023-07-26T17:01:55.301Z"
   },
   {
    "duration": 78,
    "start_time": "2023-07-26T17:01:55.344Z"
   },
   {
    "duration": 52,
    "start_time": "2023-07-26T17:01:55.424Z"
   },
   {
    "duration": 79,
    "start_time": "2023-07-26T17:01:55.478Z"
   },
   {
    "duration": 35,
    "start_time": "2023-07-26T17:01:55.559Z"
   },
   {
    "duration": 58,
    "start_time": "2023-07-26T17:01:55.596Z"
   },
   {
    "duration": 399,
    "start_time": "2023-07-26T17:01:55.657Z"
   },
   {
    "duration": 188,
    "start_time": "2023-07-26T17:01:56.059Z"
   },
   {
    "duration": 39,
    "start_time": "2023-07-26T17:01:56.249Z"
   },
   {
    "duration": 38,
    "start_time": "2023-07-26T17:01:56.291Z"
   },
   {
    "duration": 227,
    "start_time": "2023-07-26T17:01:56.331Z"
   },
   {
    "duration": 113,
    "start_time": "2023-07-26T17:01:56.566Z"
   },
   {
    "duration": 9789,
    "start_time": "2023-07-26T17:01:56.682Z"
   },
   {
    "duration": 495,
    "start_time": "2023-07-26T17:02:06.473Z"
   },
   {
    "duration": 11790,
    "start_time": "2023-07-26T17:02:06.970Z"
   },
   {
    "duration": 456,
    "start_time": "2023-07-26T17:02:18.762Z"
   },
   {
    "duration": 13528,
    "start_time": "2023-07-26T17:02:19.221Z"
   },
   {
    "duration": 178,
    "start_time": "2023-07-26T17:02:32.751Z"
   },
   {
    "duration": 371649,
    "start_time": "2023-07-26T17:02:32.932Z"
   },
   {
    "duration": 711,
    "start_time": "2023-07-26T17:08:44.583Z"
   },
   {
    "duration": 13,
    "start_time": "2023-07-26T17:08:45.366Z"
   },
   {
    "duration": 27,
    "start_time": "2023-07-26T17:08:45.382Z"
   },
   {
    "duration": 113,
    "start_time": "2023-07-26T17:08:45.411Z"
   },
   {
    "duration": 158,
    "start_time": "2023-07-26T17:28:01.054Z"
   },
   {
    "duration": 1575,
    "start_time": "2023-07-26T17:28:11.422Z"
   },
   {
    "duration": 2,
    "start_time": "2023-07-26T17:28:13.000Z"
   },
   {
    "duration": 964,
    "start_time": "2023-07-26T17:28:13.004Z"
   },
   {
    "duration": 219,
    "start_time": "2023-07-26T17:28:13.971Z"
   },
   {
    "duration": 134,
    "start_time": "2023-07-26T17:28:14.192Z"
   },
   {
    "duration": 154,
    "start_time": "2023-07-26T17:28:14.328Z"
   },
   {
    "duration": 115,
    "start_time": "2023-07-26T17:28:14.484Z"
   },
   {
    "duration": 194,
    "start_time": "2023-07-26T17:28:14.601Z"
   },
   {
    "duration": 34,
    "start_time": "2023-07-26T17:28:14.798Z"
   },
   {
    "duration": 38,
    "start_time": "2023-07-26T17:28:14.835Z"
   },
   {
    "duration": 180,
    "start_time": "2023-07-26T17:28:14.876Z"
   },
   {
    "duration": 188,
    "start_time": "2023-07-26T17:28:15.058Z"
   },
   {
    "duration": 35,
    "start_time": "2023-07-26T17:28:15.248Z"
   },
   {
    "duration": 172,
    "start_time": "2023-07-26T17:28:15.285Z"
   },
   {
    "duration": 52,
    "start_time": "2023-07-26T17:28:15.459Z"
   },
   {
    "duration": 54,
    "start_time": "2023-07-26T17:28:15.513Z"
   },
   {
    "duration": 7,
    "start_time": "2023-07-26T17:28:15.569Z"
   },
   {
    "duration": 272,
    "start_time": "2023-07-26T17:28:15.577Z"
   },
   {
    "duration": 193,
    "start_time": "2023-07-26T17:28:15.850Z"
   },
   {
    "duration": 97,
    "start_time": "2023-07-26T17:28:16.046Z"
   },
   {
    "duration": 43,
    "start_time": "2023-07-26T17:28:16.144Z"
   },
   {
    "duration": 60,
    "start_time": "2023-07-26T17:28:16.189Z"
   },
   {
    "duration": 75,
    "start_time": "2023-07-26T17:28:16.251Z"
   },
   {
    "duration": 56,
    "start_time": "2023-07-26T17:28:16.328Z"
   },
   {
    "duration": 15,
    "start_time": "2023-07-26T17:28:16.386Z"
   },
   {
    "duration": 64,
    "start_time": "2023-07-26T17:28:16.404Z"
   },
   {
    "duration": 9,
    "start_time": "2023-07-26T17:28:16.471Z"
   },
   {
    "duration": 15,
    "start_time": "2023-07-26T17:28:16.483Z"
   },
   {
    "duration": 9,
    "start_time": "2023-07-26T17:28:16.500Z"
   },
   {
    "duration": 15,
    "start_time": "2023-07-26T17:28:16.511Z"
   },
   {
    "duration": 42,
    "start_time": "2023-07-26T17:28:16.527Z"
   },
   {
    "duration": 41,
    "start_time": "2023-07-26T17:28:16.570Z"
   },
   {
    "duration": 9,
    "start_time": "2023-07-26T17:28:16.612Z"
   },
   {
    "duration": 38,
    "start_time": "2023-07-26T17:28:16.623Z"
   },
   {
    "duration": 19,
    "start_time": "2023-07-26T17:28:16.663Z"
   },
   {
    "duration": 16,
    "start_time": "2023-07-26T17:28:16.684Z"
   },
   {
    "duration": 276,
    "start_time": "2023-07-26T17:28:16.701Z"
   },
   {
    "duration": 146,
    "start_time": "2023-07-26T17:28:16.979Z"
   },
   {
    "duration": 39,
    "start_time": "2023-07-26T17:28:17.128Z"
   },
   {
    "duration": 22,
    "start_time": "2023-07-26T17:28:17.169Z"
   },
   {
    "duration": 189,
    "start_time": "2023-07-26T17:28:17.192Z"
   },
   {
    "duration": 99,
    "start_time": "2023-07-26T17:28:17.383Z"
   },
   {
    "duration": 7486,
    "start_time": "2023-07-26T17:28:17.484Z"
   },
   {
    "duration": 394,
    "start_time": "2023-07-26T17:28:24.972Z"
   },
   {
    "duration": 11711,
    "start_time": "2023-07-26T17:28:25.369Z"
   },
   {
    "duration": 470,
    "start_time": "2023-07-26T17:28:37.082Z"
   },
   {
    "duration": 11647,
    "start_time": "2023-07-26T17:28:37.554Z"
   },
   {
    "duration": 155,
    "start_time": "2023-07-26T17:28:49.203Z"
   },
   {
    "duration": 430415,
    "start_time": "2023-07-26T17:28:49.360Z"
   },
   {
    "duration": 718,
    "start_time": "2023-07-26T17:35:59.777Z"
   },
   {
    "duration": 85,
    "start_time": "2023-07-26T17:36:00.497Z"
   },
   {
    "duration": 113,
    "start_time": "2023-07-26T17:36:00.584Z"
   },
   {
    "duration": 132,
    "start_time": "2023-07-26T17:36:00.700Z"
   },
   {
    "duration": 140,
    "start_time": "2023-07-26T18:26:15.050Z"
   },
   {
    "duration": 1677,
    "start_time": "2023-07-26T18:26:26.525Z"
   },
   {
    "duration": 3,
    "start_time": "2023-07-26T18:26:28.204Z"
   },
   {
    "duration": 1067,
    "start_time": "2023-07-26T18:26:28.209Z"
   },
   {
    "duration": 141,
    "start_time": "2023-07-26T18:26:29.282Z"
   },
   {
    "duration": 143,
    "start_time": "2023-07-26T18:26:29.425Z"
   },
   {
    "duration": 150,
    "start_time": "2023-07-26T18:26:29.580Z"
   },
   {
    "duration": 121,
    "start_time": "2023-07-26T18:26:29.732Z"
   },
   {
    "duration": 228,
    "start_time": "2023-07-26T18:26:29.855Z"
   },
   {
    "duration": 32,
    "start_time": "2023-07-26T18:26:30.085Z"
   },
   {
    "duration": 22,
    "start_time": "2023-07-26T18:26:30.121Z"
   },
   {
    "duration": 198,
    "start_time": "2023-07-26T18:26:30.144Z"
   },
   {
    "duration": 196,
    "start_time": "2023-07-26T18:26:30.344Z"
   },
   {
    "duration": 37,
    "start_time": "2023-07-26T18:26:30.542Z"
   },
   {
    "duration": 166,
    "start_time": "2023-07-26T18:26:30.588Z"
   },
   {
    "duration": 65,
    "start_time": "2023-07-26T18:26:30.756Z"
   },
   {
    "duration": 71,
    "start_time": "2023-07-26T18:26:30.823Z"
   },
   {
    "duration": 9,
    "start_time": "2023-07-26T18:26:30.897Z"
   },
   {
    "duration": 319,
    "start_time": "2023-07-26T18:26:30.908Z"
   },
   {
    "duration": 194,
    "start_time": "2023-07-26T18:26:31.229Z"
   },
   {
    "duration": 99,
    "start_time": "2023-07-26T18:26:31.426Z"
   },
   {
    "duration": 59,
    "start_time": "2023-07-26T18:26:31.526Z"
   },
   {
    "duration": 53,
    "start_time": "2023-07-26T18:26:31.587Z"
   },
   {
    "duration": 82,
    "start_time": "2023-07-26T18:26:31.643Z"
   },
   {
    "duration": 87,
    "start_time": "2023-07-26T18:26:31.727Z"
   },
   {
    "duration": 14,
    "start_time": "2023-07-26T18:26:31.816Z"
   },
   {
    "duration": 73,
    "start_time": "2023-07-26T18:26:31.832Z"
   },
   {
    "duration": 19,
    "start_time": "2023-07-26T18:26:31.906Z"
   },
   {
    "duration": 30,
    "start_time": "2023-07-26T18:26:31.930Z"
   },
   {
    "duration": 20,
    "start_time": "2023-07-26T18:26:31.963Z"
   },
   {
    "duration": 33,
    "start_time": "2023-07-26T18:26:31.985Z"
   },
   {
    "duration": 43,
    "start_time": "2023-07-26T18:26:32.020Z"
   },
   {
    "duration": 62,
    "start_time": "2023-07-26T18:26:32.065Z"
   },
   {
    "duration": 9,
    "start_time": "2023-07-26T18:26:32.129Z"
   },
   {
    "duration": 52,
    "start_time": "2023-07-26T18:26:32.139Z"
   },
   {
    "duration": 29,
    "start_time": "2023-07-26T18:26:32.193Z"
   },
   {
    "duration": 47,
    "start_time": "2023-07-26T18:26:32.224Z"
   },
   {
    "duration": 341,
    "start_time": "2023-07-26T18:26:32.274Z"
   },
   {
    "duration": 169,
    "start_time": "2023-07-26T18:26:32.619Z"
   },
   {
    "duration": 28,
    "start_time": "2023-07-26T18:26:32.790Z"
   },
   {
    "duration": 33,
    "start_time": "2023-07-26T18:26:32.820Z"
   },
   {
    "duration": 205,
    "start_time": "2023-07-26T18:26:32.869Z"
   },
   {
    "duration": 105,
    "start_time": "2023-07-26T18:26:33.078Z"
   },
   {
    "duration": 20524,
    "start_time": "2023-07-26T18:26:33.193Z"
   },
   {
    "duration": 439,
    "start_time": "2023-07-26T18:26:53.766Z"
   },
   {
    "duration": 14228,
    "start_time": "2023-07-26T18:26:54.207Z"
   },
   {
    "duration": 487,
    "start_time": "2023-07-26T18:27:08.437Z"
   },
   {
    "duration": 14124,
    "start_time": "2023-07-26T18:27:08.926Z"
   },
   {
    "duration": 191,
    "start_time": "2023-07-26T18:27:23.052Z"
   },
   {
    "duration": 375835,
    "start_time": "2023-07-26T18:27:23.246Z"
   },
   {
    "duration": 695,
    "start_time": "2023-07-26T18:33:39.093Z"
   },
   {
    "duration": 23,
    "start_time": "2023-07-26T18:33:39.794Z"
   },
   {
    "duration": 30,
    "start_time": "2023-07-26T18:33:39.819Z"
   },
   {
    "duration": 132,
    "start_time": "2023-07-26T18:33:39.851Z"
   },
   {
    "duration": 208,
    "start_time": "2023-07-26T18:33:39.995Z"
   },
   {
    "duration": 1721,
    "start_time": "2023-07-26T18:34:39.664Z"
   },
   {
    "duration": 3,
    "start_time": "2023-07-26T18:34:41.393Z"
   },
   {
    "duration": 1021,
    "start_time": "2023-07-26T18:34:41.398Z"
   },
   {
    "duration": 136,
    "start_time": "2023-07-26T18:34:42.422Z"
   },
   {
    "duration": 156,
    "start_time": "2023-07-26T18:34:42.560Z"
   },
   {
    "duration": 163,
    "start_time": "2023-07-26T18:34:42.718Z"
   },
   {
    "duration": 127,
    "start_time": "2023-07-26T18:34:42.884Z"
   },
   {
    "duration": 218,
    "start_time": "2023-07-26T18:34:43.013Z"
   },
   {
    "duration": 48,
    "start_time": "2023-07-26T18:34:43.233Z"
   },
   {
    "duration": 23,
    "start_time": "2023-07-26T18:34:43.286Z"
   },
   {
    "duration": 188,
    "start_time": "2023-07-26T18:34:43.311Z"
   },
   {
    "duration": 191,
    "start_time": "2023-07-26T18:34:43.501Z"
   },
   {
    "duration": 29,
    "start_time": "2023-07-26T18:34:43.694Z"
   },
   {
    "duration": 187,
    "start_time": "2023-07-26T18:34:43.725Z"
   },
   {
    "duration": 77,
    "start_time": "2023-07-26T18:34:43.914Z"
   },
   {
    "duration": 55,
    "start_time": "2023-07-26T18:34:43.995Z"
   },
   {
    "duration": 26,
    "start_time": "2023-07-26T18:34:44.052Z"
   },
   {
    "duration": 285,
    "start_time": "2023-07-26T18:34:44.089Z"
   },
   {
    "duration": 159,
    "start_time": "2023-07-26T18:34:44.380Z"
   },
   {
    "duration": 0,
    "start_time": "2023-07-26T18:34:44.541Z"
   },
   {
    "duration": 0,
    "start_time": "2023-07-26T18:34:44.543Z"
   },
   {
    "duration": 0,
    "start_time": "2023-07-26T18:34:44.545Z"
   },
   {
    "duration": 0,
    "start_time": "2023-07-26T18:34:44.547Z"
   },
   {
    "duration": 0,
    "start_time": "2023-07-26T18:34:44.549Z"
   },
   {
    "duration": 0,
    "start_time": "2023-07-26T18:34:44.569Z"
   },
   {
    "duration": 0,
    "start_time": "2023-07-26T18:34:44.575Z"
   },
   {
    "duration": 0,
    "start_time": "2023-07-26T18:34:44.579Z"
   },
   {
    "duration": 0,
    "start_time": "2023-07-26T18:34:44.582Z"
   },
   {
    "duration": 0,
    "start_time": "2023-07-26T18:34:44.583Z"
   },
   {
    "duration": 0,
    "start_time": "2023-07-26T18:34:44.585Z"
   },
   {
    "duration": 0,
    "start_time": "2023-07-26T18:34:44.586Z"
   },
   {
    "duration": 0,
    "start_time": "2023-07-26T18:34:44.589Z"
   },
   {
    "duration": 0,
    "start_time": "2023-07-26T18:34:44.590Z"
   },
   {
    "duration": 0,
    "start_time": "2023-07-26T18:34:44.591Z"
   },
   {
    "duration": 0,
    "start_time": "2023-07-26T18:34:44.592Z"
   },
   {
    "duration": 0,
    "start_time": "2023-07-26T18:34:44.594Z"
   },
   {
    "duration": 0,
    "start_time": "2023-07-26T18:34:44.595Z"
   },
   {
    "duration": 0,
    "start_time": "2023-07-26T18:34:44.597Z"
   },
   {
    "duration": 0,
    "start_time": "2023-07-26T18:34:44.598Z"
   },
   {
    "duration": 0,
    "start_time": "2023-07-26T18:34:44.599Z"
   },
   {
    "duration": 0,
    "start_time": "2023-07-26T18:34:44.600Z"
   },
   {
    "duration": 0,
    "start_time": "2023-07-26T18:34:44.601Z"
   },
   {
    "duration": 0,
    "start_time": "2023-07-26T18:34:44.603Z"
   },
   {
    "duration": 0,
    "start_time": "2023-07-26T18:34:44.604Z"
   },
   {
    "duration": 0,
    "start_time": "2023-07-26T18:34:44.605Z"
   },
   {
    "duration": 0,
    "start_time": "2023-07-26T18:34:44.607Z"
   },
   {
    "duration": 0,
    "start_time": "2023-07-26T18:34:44.609Z"
   },
   {
    "duration": 0,
    "start_time": "2023-07-26T18:34:44.610Z"
   },
   {
    "duration": 0,
    "start_time": "2023-07-26T18:34:44.612Z"
   },
   {
    "duration": 0,
    "start_time": "2023-07-26T18:34:44.613Z"
   },
   {
    "duration": 0,
    "start_time": "2023-07-26T18:34:44.615Z"
   },
   {
    "duration": 0,
    "start_time": "2023-07-26T18:34:44.616Z"
   },
   {
    "duration": 1674,
    "start_time": "2023-07-26T18:35:36.135Z"
   },
   {
    "duration": 3,
    "start_time": "2023-07-26T18:35:37.812Z"
   },
   {
    "duration": 1052,
    "start_time": "2023-07-26T18:35:37.817Z"
   },
   {
    "duration": 145,
    "start_time": "2023-07-26T18:35:38.872Z"
   },
   {
    "duration": 140,
    "start_time": "2023-07-26T18:35:39.019Z"
   },
   {
    "duration": 157,
    "start_time": "2023-07-26T18:35:39.160Z"
   },
   {
    "duration": 127,
    "start_time": "2023-07-26T18:35:39.319Z"
   },
   {
    "duration": 216,
    "start_time": "2023-07-26T18:35:39.448Z"
   },
   {
    "duration": 36,
    "start_time": "2023-07-26T18:35:39.666Z"
   },
   {
    "duration": 182,
    "start_time": "2023-07-26T18:35:39.706Z"
   },
   {
    "duration": 205,
    "start_time": "2023-07-26T18:35:39.891Z"
   },
   {
    "duration": 198,
    "start_time": "2023-07-26T18:35:40.098Z"
   },
   {
    "duration": 28,
    "start_time": "2023-07-26T18:35:40.298Z"
   },
   {
    "duration": 177,
    "start_time": "2023-07-26T18:35:40.328Z"
   },
   {
    "duration": 46,
    "start_time": "2023-07-26T18:35:40.507Z"
   },
   {
    "duration": 46,
    "start_time": "2023-07-26T18:35:40.566Z"
   },
   {
    "duration": 6,
    "start_time": "2023-07-26T18:35:40.614Z"
   },
   {
    "duration": 273,
    "start_time": "2023-07-26T18:35:40.622Z"
   },
   {
    "duration": 148,
    "start_time": "2023-07-26T18:35:40.897Z"
   },
   {
    "duration": 0,
    "start_time": "2023-07-26T18:35:41.048Z"
   },
   {
    "duration": 0,
    "start_time": "2023-07-26T18:35:41.049Z"
   },
   {
    "duration": 0,
    "start_time": "2023-07-26T18:35:41.050Z"
   },
   {
    "duration": 0,
    "start_time": "2023-07-26T18:35:41.052Z"
   },
   {
    "duration": 0,
    "start_time": "2023-07-26T18:35:41.054Z"
   },
   {
    "duration": 0,
    "start_time": "2023-07-26T18:35:41.055Z"
   },
   {
    "duration": 0,
    "start_time": "2023-07-26T18:35:41.069Z"
   },
   {
    "duration": 0,
    "start_time": "2023-07-26T18:35:41.070Z"
   },
   {
    "duration": 0,
    "start_time": "2023-07-26T18:35:41.071Z"
   },
   {
    "duration": 0,
    "start_time": "2023-07-26T18:35:41.077Z"
   },
   {
    "duration": 0,
    "start_time": "2023-07-26T18:35:41.078Z"
   },
   {
    "duration": 0,
    "start_time": "2023-07-26T18:35:41.079Z"
   },
   {
    "duration": 0,
    "start_time": "2023-07-26T18:35:41.080Z"
   },
   {
    "duration": 0,
    "start_time": "2023-07-26T18:35:41.081Z"
   },
   {
    "duration": 0,
    "start_time": "2023-07-26T18:35:41.081Z"
   },
   {
    "duration": 0,
    "start_time": "2023-07-26T18:35:41.082Z"
   },
   {
    "duration": 0,
    "start_time": "2023-07-26T18:35:41.083Z"
   },
   {
    "duration": 0,
    "start_time": "2023-07-26T18:35:41.084Z"
   },
   {
    "duration": 0,
    "start_time": "2023-07-26T18:35:41.085Z"
   },
   {
    "duration": 0,
    "start_time": "2023-07-26T18:35:41.085Z"
   },
   {
    "duration": 0,
    "start_time": "2023-07-26T18:35:41.086Z"
   },
   {
    "duration": 0,
    "start_time": "2023-07-26T18:35:41.087Z"
   },
   {
    "duration": 0,
    "start_time": "2023-07-26T18:35:41.088Z"
   },
   {
    "duration": 0,
    "start_time": "2023-07-26T18:35:41.089Z"
   },
   {
    "duration": 0,
    "start_time": "2023-07-26T18:35:41.090Z"
   },
   {
    "duration": 0,
    "start_time": "2023-07-26T18:35:41.091Z"
   },
   {
    "duration": 0,
    "start_time": "2023-07-26T18:35:41.092Z"
   },
   {
    "duration": 0,
    "start_time": "2023-07-26T18:35:41.093Z"
   },
   {
    "duration": 0,
    "start_time": "2023-07-26T18:35:41.094Z"
   },
   {
    "duration": 0,
    "start_time": "2023-07-26T18:35:41.095Z"
   },
   {
    "duration": 0,
    "start_time": "2023-07-26T18:35:41.098Z"
   },
   {
    "duration": 0,
    "start_time": "2023-07-26T18:35:41.099Z"
   },
   {
    "duration": 0,
    "start_time": "2023-07-26T18:35:41.101Z"
   },
   {
    "duration": 1716,
    "start_time": "2023-07-26T18:39:30.709Z"
   },
   {
    "duration": 4,
    "start_time": "2023-07-26T18:39:32.427Z"
   },
   {
    "duration": 1090,
    "start_time": "2023-07-26T18:39:32.432Z"
   },
   {
    "duration": 154,
    "start_time": "2023-07-26T18:39:33.524Z"
   },
   {
    "duration": 139,
    "start_time": "2023-07-26T18:39:33.683Z"
   },
   {
    "duration": 174,
    "start_time": "2023-07-26T18:39:33.824Z"
   },
   {
    "duration": 132,
    "start_time": "2023-07-26T18:39:34.000Z"
   },
   {
    "duration": 264,
    "start_time": "2023-07-26T18:39:34.134Z"
   },
   {
    "duration": 27,
    "start_time": "2023-07-26T18:39:34.400Z"
   },
   {
    "duration": 18,
    "start_time": "2023-07-26T18:39:34.430Z"
   },
   {
    "duration": 167,
    "start_time": "2023-07-26T18:39:34.467Z"
   },
   {
    "duration": 248,
    "start_time": "2023-07-26T18:39:34.635Z"
   },
   {
    "duration": 30,
    "start_time": "2023-07-26T18:39:34.885Z"
   },
   {
    "duration": 184,
    "start_time": "2023-07-26T18:39:34.917Z"
   },
   {
    "duration": 47,
    "start_time": "2023-07-26T18:39:35.103Z"
   },
   {
    "duration": 59,
    "start_time": "2023-07-26T18:39:35.151Z"
   },
   {
    "duration": 6,
    "start_time": "2023-07-26T18:39:35.212Z"
   },
   {
    "duration": 241,
    "start_time": "2023-07-26T18:39:35.220Z"
   },
   {
    "duration": 40,
    "start_time": "2023-07-26T18:39:35.462Z"
   },
   {
    "duration": 29,
    "start_time": "2023-07-26T18:39:35.504Z"
   },
   {
    "duration": 154,
    "start_time": "2023-07-26T18:39:35.535Z"
   },
   {
    "duration": 251,
    "start_time": "2023-07-26T18:39:35.691Z"
   },
   {
    "duration": 81,
    "start_time": "2023-07-26T18:39:35.944Z"
   },
   {
    "duration": 29,
    "start_time": "2023-07-26T18:39:36.029Z"
   },
   {
    "duration": 71,
    "start_time": "2023-07-26T18:39:36.060Z"
   },
   {
    "duration": 18,
    "start_time": "2023-07-26T18:39:36.133Z"
   },
   {
    "duration": 55,
    "start_time": "2023-07-26T18:39:36.153Z"
   },
   {
    "duration": 17,
    "start_time": "2023-07-26T18:39:36.214Z"
   },
   {
    "duration": 61,
    "start_time": "2023-07-26T18:39:36.233Z"
   },
   {
    "duration": 21,
    "start_time": "2023-07-26T18:39:36.296Z"
   },
   {
    "duration": 124,
    "start_time": "2023-07-26T18:39:36.320Z"
   },
   {
    "duration": 39,
    "start_time": "2023-07-26T18:39:36.446Z"
   },
   {
    "duration": 38,
    "start_time": "2023-07-26T18:39:36.486Z"
   },
   {
    "duration": 22,
    "start_time": "2023-07-26T18:39:36.525Z"
   },
   {
    "duration": 57,
    "start_time": "2023-07-26T18:39:36.549Z"
   },
   {
    "duration": 834,
    "start_time": "2023-07-26T18:39:36.608Z"
   },
   {
    "duration": 478,
    "start_time": "2023-07-26T18:39:37.444Z"
   },
   {
    "duration": 61,
    "start_time": "2023-07-26T18:39:37.925Z"
   },
   {
    "duration": 40,
    "start_time": "2023-07-26T18:39:37.989Z"
   },
   {
    "duration": 873,
    "start_time": "2023-07-26T18:39:38.031Z"
   },
   {
    "duration": 411,
    "start_time": "2023-07-26T18:39:38.906Z"
   },
   {
    "duration": 1746,
    "start_time": "2023-07-26T18:40:32.092Z"
   },
   {
    "duration": 3,
    "start_time": "2023-07-26T18:40:33.840Z"
   },
   {
    "duration": 1054,
    "start_time": "2023-07-26T18:40:33.845Z"
   },
   {
    "duration": 157,
    "start_time": "2023-07-26T18:40:34.902Z"
   },
   {
    "duration": 145,
    "start_time": "2023-07-26T18:40:35.069Z"
   },
   {
    "duration": 175,
    "start_time": "2023-07-26T18:40:35.215Z"
   },
   {
    "duration": 122,
    "start_time": "2023-07-26T18:40:35.392Z"
   },
   {
    "duration": 218,
    "start_time": "2023-07-26T18:40:35.517Z"
   },
   {
    "duration": 51,
    "start_time": "2023-07-26T18:40:35.737Z"
   },
   {
    "duration": 22,
    "start_time": "2023-07-26T18:40:35.792Z"
   },
   {
    "duration": 179,
    "start_time": "2023-07-26T18:40:35.816Z"
   },
   {
    "duration": 190,
    "start_time": "2023-07-26T18:40:35.997Z"
   },
   {
    "duration": 27,
    "start_time": "2023-07-26T18:40:36.189Z"
   },
   {
    "duration": 177,
    "start_time": "2023-07-26T18:40:36.218Z"
   },
   {
    "duration": 45,
    "start_time": "2023-07-26T18:40:36.397Z"
   },
   {
    "duration": 57,
    "start_time": "2023-07-26T18:40:36.444Z"
   },
   {
    "duration": 41,
    "start_time": "2023-07-26T18:40:36.503Z"
   },
   {
    "duration": 247,
    "start_time": "2023-07-26T18:40:36.546Z"
   },
   {
    "duration": 51,
    "start_time": "2023-07-26T18:40:36.795Z"
   },
   {
    "duration": 45,
    "start_time": "2023-07-26T18:40:36.849Z"
   },
   {
    "duration": 133,
    "start_time": "2023-07-26T18:40:36.896Z"
   },
   {
    "duration": 248,
    "start_time": "2023-07-26T18:40:37.031Z"
   },
   {
    "duration": 63,
    "start_time": "2023-07-26T18:40:37.287Z"
   },
   {
    "duration": 31,
    "start_time": "2023-07-26T18:40:37.351Z"
   },
   {
    "duration": 87,
    "start_time": "2023-07-26T18:40:37.388Z"
   },
   {
    "duration": 22,
    "start_time": "2023-07-26T18:40:37.478Z"
   },
   {
    "duration": 41,
    "start_time": "2023-07-26T18:40:37.502Z"
   },
   {
    "duration": 41,
    "start_time": "2023-07-26T18:40:37.548Z"
   },
   {
    "duration": 46,
    "start_time": "2023-07-26T18:40:37.591Z"
   },
   {
    "duration": 19,
    "start_time": "2023-07-26T18:40:37.639Z"
   },
   {
    "duration": 125,
    "start_time": "2023-07-26T18:40:37.660Z"
   },
   {
    "duration": 20,
    "start_time": "2023-07-26T18:40:37.787Z"
   },
   {
    "duration": 33,
    "start_time": "2023-07-26T18:40:37.809Z"
   },
   {
    "duration": 46,
    "start_time": "2023-07-26T18:40:37.844Z"
   },
   {
    "duration": 37,
    "start_time": "2023-07-26T18:40:37.892Z"
   },
   {
    "duration": 863,
    "start_time": "2023-07-26T18:40:37.931Z"
   },
   {
    "duration": 502,
    "start_time": "2023-07-26T18:40:38.796Z"
   },
   {
    "duration": 41,
    "start_time": "2023-07-26T18:40:39.300Z"
   },
   {
    "duration": 53,
    "start_time": "2023-07-26T18:40:39.343Z"
   },
   {
    "duration": 810,
    "start_time": "2023-07-26T18:40:39.398Z"
   },
   {
    "duration": 395,
    "start_time": "2023-07-26T18:40:40.210Z"
   },
   {
    "duration": 76061,
    "start_time": "2023-07-26T18:40:40.607Z"
   },
   {
    "duration": 815,
    "start_time": "2023-07-26T18:41:56.670Z"
   },
   {
    "duration": 55416,
    "start_time": "2023-07-26T18:41:57.488Z"
   },
   {
    "duration": 1850,
    "start_time": "2023-07-26T18:42:52.906Z"
   },
   {
    "duration": 36140,
    "start_time": "2023-07-26T18:42:54.758Z"
   },
   {
    "duration": 599,
    "start_time": "2023-07-26T18:43:30.901Z"
   },
   {
    "duration": 369384,
    "start_time": "2023-07-26T18:43:31.502Z"
   },
   {
    "duration": 2210,
    "start_time": "2023-07-26T18:49:40.887Z"
   },
   {
    "duration": 12,
    "start_time": "2023-07-26T18:49:43.099Z"
   },
   {
    "duration": 13,
    "start_time": "2023-07-26T18:49:43.113Z"
   },
   {
    "duration": 229,
    "start_time": "2023-07-26T18:49:43.172Z"
   },
   {
    "duration": 1712,
    "start_time": "2023-07-26T18:57:54.328Z"
   },
   {
    "duration": 2,
    "start_time": "2023-07-26T18:57:56.043Z"
   },
   {
    "duration": 1007,
    "start_time": "2023-07-26T18:57:56.047Z"
   },
   {
    "duration": 162,
    "start_time": "2023-07-26T18:57:57.057Z"
   },
   {
    "duration": 158,
    "start_time": "2023-07-26T18:57:57.221Z"
   },
   {
    "duration": 161,
    "start_time": "2023-07-26T18:57:57.388Z"
   },
   {
    "duration": 144,
    "start_time": "2023-07-26T18:57:57.551Z"
   },
   {
    "duration": 264,
    "start_time": "2023-07-26T18:57:57.697Z"
   },
   {
    "duration": 41,
    "start_time": "2023-07-26T18:57:57.963Z"
   },
   {
    "duration": 23,
    "start_time": "2023-07-26T18:57:58.008Z"
   },
   {
    "duration": 223,
    "start_time": "2023-07-26T18:57:58.033Z"
   },
   {
    "duration": 205,
    "start_time": "2023-07-26T18:57:58.259Z"
   },
   {
    "duration": 33,
    "start_time": "2023-07-26T18:57:58.466Z"
   },
   {
    "duration": 200,
    "start_time": "2023-07-26T18:57:58.501Z"
   },
   {
    "duration": 52,
    "start_time": "2023-07-26T18:57:58.705Z"
   },
   {
    "duration": 56,
    "start_time": "2023-07-26T18:57:58.767Z"
   },
   {
    "duration": 7,
    "start_time": "2023-07-26T18:57:58.825Z"
   },
   {
    "duration": 285,
    "start_time": "2023-07-26T18:57:58.835Z"
   },
   {
    "duration": 59,
    "start_time": "2023-07-26T18:57:59.122Z"
   },
   {
    "duration": 141,
    "start_time": "2023-07-26T18:57:59.189Z"
   },
   {
    "duration": 262,
    "start_time": "2023-07-26T18:57:59.332Z"
   },
   {
    "duration": 95,
    "start_time": "2023-07-26T18:57:59.596Z"
   },
   {
    "duration": 30,
    "start_time": "2023-07-26T18:57:59.697Z"
   },
   {
    "duration": 28,
    "start_time": "2023-07-26T18:57:59.729Z"
   },
   {
    "duration": 49,
    "start_time": "2023-07-26T18:57:59.759Z"
   },
   {
    "duration": 44,
    "start_time": "2023-07-26T18:57:59.810Z"
   },
   {
    "duration": 29,
    "start_time": "2023-07-26T18:57:59.857Z"
   },
   {
    "duration": 56,
    "start_time": "2023-07-26T18:57:59.893Z"
   },
   {
    "duration": 45,
    "start_time": "2023-07-26T18:57:59.951Z"
   },
   {
    "duration": 121,
    "start_time": "2023-07-26T18:58:00.000Z"
   },
   {
    "duration": 28,
    "start_time": "2023-07-26T18:58:00.123Z"
   },
   {
    "duration": 57,
    "start_time": "2023-07-26T18:58:00.169Z"
   },
   {
    "duration": 20,
    "start_time": "2023-07-26T18:58:00.229Z"
   },
   {
    "duration": 72,
    "start_time": "2023-07-26T18:58:00.251Z"
   },
   {
    "duration": 1065,
    "start_time": "2023-07-26T18:58:00.325Z"
   },
   {
    "duration": 634,
    "start_time": "2023-07-26T18:58:01.396Z"
   },
   {
    "duration": 59,
    "start_time": "2023-07-26T18:58:02.033Z"
   },
   {
    "duration": 61,
    "start_time": "2023-07-26T18:58:02.094Z"
   },
   {
    "duration": 1068,
    "start_time": "2023-07-26T18:58:02.157Z"
   },
   {
    "duration": 408,
    "start_time": "2023-07-26T18:58:03.227Z"
   },
   {
    "duration": 66952,
    "start_time": "2023-07-26T18:58:03.637Z"
   },
   {
    "duration": 988,
    "start_time": "2023-07-26T18:59:10.591Z"
   },
   {
    "duration": 56690,
    "start_time": "2023-07-26T18:59:11.584Z"
   },
   {
    "duration": 2252,
    "start_time": "2023-07-26T19:00:08.277Z"
   },
   {
    "duration": 41366,
    "start_time": "2023-07-26T19:00:10.532Z"
   },
   {
    "duration": 604,
    "start_time": "2023-07-26T19:00:51.900Z"
   },
   {
    "duration": 350563,
    "start_time": "2023-07-26T19:00:52.506Z"
   },
   {
    "duration": 2218,
    "start_time": "2023-07-26T19:06:43.071Z"
   },
   {
    "duration": 12,
    "start_time": "2023-07-26T19:06:45.291Z"
   },
   {
    "duration": 62,
    "start_time": "2023-07-26T19:06:45.305Z"
   },
   {
    "duration": 216,
    "start_time": "2023-07-26T19:06:45.370Z"
   },
   {
    "duration": 1754,
    "start_time": "2023-07-26T19:10:43.661Z"
   },
   {
    "duration": 3,
    "start_time": "2023-07-26T19:10:45.417Z"
   },
   {
    "duration": 969,
    "start_time": "2023-07-26T19:10:45.422Z"
   },
   {
    "duration": 141,
    "start_time": "2023-07-26T19:10:46.397Z"
   },
   {
    "duration": 129,
    "start_time": "2023-07-26T19:10:46.539Z"
   },
   {
    "duration": 142,
    "start_time": "2023-07-26T19:10:46.670Z"
   },
   {
    "duration": 125,
    "start_time": "2023-07-26T19:10:46.814Z"
   },
   {
    "duration": 197,
    "start_time": "2023-07-26T19:10:46.941Z"
   },
   {
    "duration": 44,
    "start_time": "2023-07-26T19:10:47.140Z"
   },
   {
    "duration": 20,
    "start_time": "2023-07-26T19:10:47.187Z"
   },
   {
    "duration": 3,
    "start_time": "2023-07-26T19:10:47.209Z"
   },
   {
    "duration": 217,
    "start_time": "2023-07-26T19:10:47.214Z"
   },
   {
    "duration": 40,
    "start_time": "2023-07-26T19:10:47.433Z"
   },
   {
    "duration": 186,
    "start_time": "2023-07-26T19:10:47.475Z"
   },
   {
    "duration": 47,
    "start_time": "2023-07-26T19:10:47.667Z"
   },
   {
    "duration": 57,
    "start_time": "2023-07-26T19:10:47.716Z"
   },
   {
    "duration": 6,
    "start_time": "2023-07-26T19:10:47.775Z"
   },
   {
    "duration": 166,
    "start_time": "2023-07-26T19:10:47.783Z"
   },
   {
    "duration": 134,
    "start_time": "2023-07-26T19:10:47.951Z"
   },
   {
    "duration": 124,
    "start_time": "2023-07-26T19:10:48.087Z"
   },
   {
    "duration": 209,
    "start_time": "2023-07-26T19:10:48.213Z"
   },
   {
    "duration": 70,
    "start_time": "2023-07-26T19:10:48.424Z"
   },
   {
    "duration": 33,
    "start_time": "2023-07-26T19:10:48.497Z"
   },
   {
    "duration": 3,
    "start_time": "2023-07-26T19:10:48.532Z"
   },
   {
    "duration": 49,
    "start_time": "2023-07-26T19:10:48.537Z"
   },
   {
    "duration": 50,
    "start_time": "2023-07-26T19:10:48.589Z"
   },
   {
    "duration": 27,
    "start_time": "2023-07-26T19:10:48.641Z"
   },
   {
    "duration": 35,
    "start_time": "2023-07-26T19:10:48.672Z"
   },
   {
    "duration": 21,
    "start_time": "2023-07-26T19:10:48.709Z"
   },
   {
    "duration": 104,
    "start_time": "2023-07-26T19:10:48.732Z"
   },
   {
    "duration": 29,
    "start_time": "2023-07-26T19:10:48.839Z"
   },
   {
    "duration": 39,
    "start_time": "2023-07-26T19:10:48.870Z"
   },
   {
    "duration": 19,
    "start_time": "2023-07-26T19:10:48.911Z"
   },
   {
    "duration": 55,
    "start_time": "2023-07-26T19:10:48.931Z"
   },
   {
    "duration": 882,
    "start_time": "2023-07-26T19:10:48.988Z"
   },
   {
    "duration": 477,
    "start_time": "2023-07-26T19:10:49.872Z"
   },
   {
    "duration": 42,
    "start_time": "2023-07-26T19:10:50.351Z"
   },
   {
    "duration": 30,
    "start_time": "2023-07-26T19:10:50.395Z"
   },
   {
    "duration": 926,
    "start_time": "2023-07-26T19:10:50.428Z"
   },
   {
    "duration": 413,
    "start_time": "2023-07-26T19:10:51.356Z"
   },
   {
    "duration": 40906,
    "start_time": "2023-07-26T19:10:51.771Z"
   },
   {
    "duration": 1092,
    "start_time": "2023-07-26T19:11:32.679Z"
   },
   {
    "duration": 56041,
    "start_time": "2023-07-26T19:11:33.777Z"
   },
   {
    "duration": 1933,
    "start_time": "2023-07-26T19:12:29.820Z"
   },
   {
    "duration": 34301,
    "start_time": "2023-07-26T19:12:31.756Z"
   },
   {
    "duration": 523,
    "start_time": "2023-07-26T19:13:06.059Z"
   },
   {
    "duration": 437291,
    "start_time": "2023-07-26T19:13:06.584Z"
   },
   {
    "duration": 2623,
    "start_time": "2023-07-26T19:20:23.877Z"
   },
   {
    "duration": 74,
    "start_time": "2023-07-26T19:20:26.502Z"
   },
   {
    "duration": 6,
    "start_time": "2023-07-26T19:20:26.578Z"
   },
   {
    "duration": 217,
    "start_time": "2023-07-26T19:20:26.586Z"
   },
   {
    "duration": 182,
    "start_time": "2023-07-26T20:30:54.527Z"
   },
   {
    "duration": 75,
    "start_time": "2023-07-26T20:31:19.860Z"
   },
   {
    "duration": 66,
    "start_time": "2023-07-26T20:31:39.562Z"
   },
   {
    "duration": 54,
    "start_time": "2023-07-26T21:41:27.949Z"
   },
   {
    "duration": 1710,
    "start_time": "2023-07-26T21:41:56.644Z"
   },
   {
    "duration": 0,
    "start_time": "2023-07-26T21:41:58.358Z"
   },
   {
    "duration": 0,
    "start_time": "2023-07-26T21:41:58.360Z"
   },
   {
    "duration": 0,
    "start_time": "2023-07-26T21:41:58.381Z"
   },
   {
    "duration": 0,
    "start_time": "2023-07-26T21:41:58.382Z"
   },
   {
    "duration": 0,
    "start_time": "2023-07-26T21:41:58.383Z"
   },
   {
    "duration": 0,
    "start_time": "2023-07-26T21:41:58.385Z"
   },
   {
    "duration": 0,
    "start_time": "2023-07-26T21:41:58.386Z"
   },
   {
    "duration": 0,
    "start_time": "2023-07-26T21:41:58.387Z"
   },
   {
    "duration": 0,
    "start_time": "2023-07-26T21:41:58.388Z"
   },
   {
    "duration": 0,
    "start_time": "2023-07-26T21:41:58.389Z"
   },
   {
    "duration": 0,
    "start_time": "2023-07-26T21:41:58.390Z"
   },
   {
    "duration": 0,
    "start_time": "2023-07-26T21:41:58.391Z"
   },
   {
    "duration": 0,
    "start_time": "2023-07-26T21:41:58.392Z"
   },
   {
    "duration": 0,
    "start_time": "2023-07-26T21:41:58.393Z"
   },
   {
    "duration": 0,
    "start_time": "2023-07-26T21:41:58.394Z"
   },
   {
    "duration": 0,
    "start_time": "2023-07-26T21:41:58.395Z"
   },
   {
    "duration": 0,
    "start_time": "2023-07-26T21:41:58.396Z"
   },
   {
    "duration": 0,
    "start_time": "2023-07-26T21:41:58.398Z"
   },
   {
    "duration": 0,
    "start_time": "2023-07-26T21:41:58.399Z"
   },
   {
    "duration": 0,
    "start_time": "2023-07-26T21:41:58.400Z"
   },
   {
    "duration": 0,
    "start_time": "2023-07-26T21:41:58.401Z"
   },
   {
    "duration": 0,
    "start_time": "2023-07-26T21:41:58.402Z"
   },
   {
    "duration": 0,
    "start_time": "2023-07-26T21:41:58.403Z"
   },
   {
    "duration": 0,
    "start_time": "2023-07-26T21:41:58.404Z"
   },
   {
    "duration": 0,
    "start_time": "2023-07-26T21:41:58.405Z"
   },
   {
    "duration": 0,
    "start_time": "2023-07-26T21:41:58.406Z"
   },
   {
    "duration": 0,
    "start_time": "2023-07-26T21:41:58.408Z"
   },
   {
    "duration": 0,
    "start_time": "2023-07-26T21:41:58.408Z"
   },
   {
    "duration": 1,
    "start_time": "2023-07-26T21:41:58.409Z"
   },
   {
    "duration": 0,
    "start_time": "2023-07-26T21:41:58.411Z"
   },
   {
    "duration": 0,
    "start_time": "2023-07-26T21:41:58.412Z"
   },
   {
    "duration": 0,
    "start_time": "2023-07-26T21:41:58.413Z"
   },
   {
    "duration": 0,
    "start_time": "2023-07-26T21:41:58.414Z"
   },
   {
    "duration": 0,
    "start_time": "2023-07-26T21:41:58.415Z"
   },
   {
    "duration": 0,
    "start_time": "2023-07-26T21:41:58.416Z"
   },
   {
    "duration": 0,
    "start_time": "2023-07-26T21:41:58.477Z"
   },
   {
    "duration": 0,
    "start_time": "2023-07-26T21:41:58.478Z"
   },
   {
    "duration": 0,
    "start_time": "2023-07-26T21:41:58.479Z"
   },
   {
    "duration": 0,
    "start_time": "2023-07-26T21:41:58.480Z"
   },
   {
    "duration": 0,
    "start_time": "2023-07-26T21:41:58.481Z"
   },
   {
    "duration": 0,
    "start_time": "2023-07-26T21:41:58.483Z"
   },
   {
    "duration": 1,
    "start_time": "2023-07-26T21:41:58.483Z"
   },
   {
    "duration": 0,
    "start_time": "2023-07-26T21:41:58.484Z"
   },
   {
    "duration": 0,
    "start_time": "2023-07-26T21:41:58.485Z"
   },
   {
    "duration": 0,
    "start_time": "2023-07-26T21:41:58.487Z"
   },
   {
    "duration": 0,
    "start_time": "2023-07-26T21:41:58.488Z"
   },
   {
    "duration": 0,
    "start_time": "2023-07-26T21:41:58.489Z"
   },
   {
    "duration": 0,
    "start_time": "2023-07-26T21:41:58.490Z"
   },
   {
    "duration": 0,
    "start_time": "2023-07-26T21:41:58.492Z"
   },
   {
    "duration": 0,
    "start_time": "2023-07-26T21:41:58.493Z"
   },
   {
    "duration": 0,
    "start_time": "2023-07-26T21:41:58.494Z"
   },
   {
    "duration": 1756,
    "start_time": "2023-07-26T21:42:16.046Z"
   },
   {
    "duration": 0,
    "start_time": "2023-07-26T21:42:17.805Z"
   },
   {
    "duration": 0,
    "start_time": "2023-07-26T21:42:17.806Z"
   },
   {
    "duration": 0,
    "start_time": "2023-07-26T21:42:17.807Z"
   },
   {
    "duration": 0,
    "start_time": "2023-07-26T21:42:17.808Z"
   },
   {
    "duration": 0,
    "start_time": "2023-07-26T21:42:17.809Z"
   },
   {
    "duration": 0,
    "start_time": "2023-07-26T21:42:17.810Z"
   },
   {
    "duration": 0,
    "start_time": "2023-07-26T21:42:17.811Z"
   },
   {
    "duration": 0,
    "start_time": "2023-07-26T21:42:17.812Z"
   },
   {
    "duration": 0,
    "start_time": "2023-07-26T21:42:17.813Z"
   },
   {
    "duration": 0,
    "start_time": "2023-07-26T21:42:17.814Z"
   },
   {
    "duration": 0,
    "start_time": "2023-07-26T21:42:17.815Z"
   },
   {
    "duration": 0,
    "start_time": "2023-07-26T21:42:17.816Z"
   },
   {
    "duration": 0,
    "start_time": "2023-07-26T21:42:17.816Z"
   },
   {
    "duration": 0,
    "start_time": "2023-07-26T21:42:17.817Z"
   },
   {
    "duration": 0,
    "start_time": "2023-07-26T21:42:17.819Z"
   },
   {
    "duration": 0,
    "start_time": "2023-07-26T21:42:17.820Z"
   },
   {
    "duration": 0,
    "start_time": "2023-07-26T21:42:17.821Z"
   },
   {
    "duration": 0,
    "start_time": "2023-07-26T21:42:17.822Z"
   },
   {
    "duration": 0,
    "start_time": "2023-07-26T21:42:17.824Z"
   },
   {
    "duration": 0,
    "start_time": "2023-07-26T21:42:17.825Z"
   },
   {
    "duration": 0,
    "start_time": "2023-07-26T21:42:17.826Z"
   },
   {
    "duration": 0,
    "start_time": "2023-07-26T21:42:17.827Z"
   },
   {
    "duration": 0,
    "start_time": "2023-07-26T21:42:17.829Z"
   },
   {
    "duration": 0,
    "start_time": "2023-07-26T21:42:17.830Z"
   },
   {
    "duration": 0,
    "start_time": "2023-07-26T21:42:17.882Z"
   },
   {
    "duration": 0,
    "start_time": "2023-07-26T21:42:17.883Z"
   },
   {
    "duration": 0,
    "start_time": "2023-07-26T21:42:17.884Z"
   },
   {
    "duration": 0,
    "start_time": "2023-07-26T21:42:17.885Z"
   },
   {
    "duration": 0,
    "start_time": "2023-07-26T21:42:17.887Z"
   },
   {
    "duration": 0,
    "start_time": "2023-07-26T21:42:17.888Z"
   },
   {
    "duration": 0,
    "start_time": "2023-07-26T21:42:17.890Z"
   },
   {
    "duration": 0,
    "start_time": "2023-07-26T21:42:17.891Z"
   },
   {
    "duration": 0,
    "start_time": "2023-07-26T21:42:17.891Z"
   },
   {
    "duration": 0,
    "start_time": "2023-07-26T21:42:17.892Z"
   },
   {
    "duration": 0,
    "start_time": "2023-07-26T21:42:17.893Z"
   },
   {
    "duration": 0,
    "start_time": "2023-07-26T21:42:17.895Z"
   },
   {
    "duration": 0,
    "start_time": "2023-07-26T21:42:17.895Z"
   },
   {
    "duration": 0,
    "start_time": "2023-07-26T21:42:17.896Z"
   },
   {
    "duration": 0,
    "start_time": "2023-07-26T21:42:17.897Z"
   },
   {
    "duration": 0,
    "start_time": "2023-07-26T21:42:17.898Z"
   },
   {
    "duration": 0,
    "start_time": "2023-07-26T21:42:17.899Z"
   },
   {
    "duration": 0,
    "start_time": "2023-07-26T21:42:17.901Z"
   },
   {
    "duration": 0,
    "start_time": "2023-07-26T21:42:17.902Z"
   },
   {
    "duration": 0,
    "start_time": "2023-07-26T21:42:17.903Z"
   },
   {
    "duration": 0,
    "start_time": "2023-07-26T21:42:17.904Z"
   },
   {
    "duration": 0,
    "start_time": "2023-07-26T21:42:17.905Z"
   },
   {
    "duration": 0,
    "start_time": "2023-07-26T21:42:17.906Z"
   },
   {
    "duration": 0,
    "start_time": "2023-07-26T21:42:17.907Z"
   },
   {
    "duration": 0,
    "start_time": "2023-07-26T21:42:17.908Z"
   },
   {
    "duration": 0,
    "start_time": "2023-07-26T21:42:17.909Z"
   },
   {
    "duration": 0,
    "start_time": "2023-07-26T21:42:17.910Z"
   },
   {
    "duration": 1692,
    "start_time": "2023-07-26T21:43:40.404Z"
   },
   {
    "duration": 0,
    "start_time": "2023-07-26T21:43:42.099Z"
   },
   {
    "duration": 0,
    "start_time": "2023-07-26T21:43:42.100Z"
   },
   {
    "duration": 0,
    "start_time": "2023-07-26T21:43:42.102Z"
   },
   {
    "duration": 0,
    "start_time": "2023-07-26T21:43:42.103Z"
   },
   {
    "duration": 0,
    "start_time": "2023-07-26T21:43:42.105Z"
   },
   {
    "duration": 0,
    "start_time": "2023-07-26T21:43:42.106Z"
   },
   {
    "duration": 0,
    "start_time": "2023-07-26T21:43:42.107Z"
   },
   {
    "duration": 0,
    "start_time": "2023-07-26T21:43:42.109Z"
   },
   {
    "duration": 0,
    "start_time": "2023-07-26T21:43:42.110Z"
   },
   {
    "duration": 0,
    "start_time": "2023-07-26T21:43:42.111Z"
   },
   {
    "duration": 0,
    "start_time": "2023-07-26T21:43:42.112Z"
   },
   {
    "duration": 0,
    "start_time": "2023-07-26T21:43:42.113Z"
   },
   {
    "duration": 0,
    "start_time": "2023-07-26T21:43:42.115Z"
   },
   {
    "duration": 0,
    "start_time": "2023-07-26T21:43:42.116Z"
   },
   {
    "duration": 0,
    "start_time": "2023-07-26T21:43:42.117Z"
   },
   {
    "duration": 0,
    "start_time": "2023-07-26T21:43:42.118Z"
   },
   {
    "duration": 0,
    "start_time": "2023-07-26T21:43:42.119Z"
   },
   {
    "duration": 0,
    "start_time": "2023-07-26T21:43:42.121Z"
   },
   {
    "duration": 0,
    "start_time": "2023-07-26T21:43:42.122Z"
   },
   {
    "duration": 0,
    "start_time": "2023-07-26T21:43:42.123Z"
   },
   {
    "duration": 0,
    "start_time": "2023-07-26T21:43:42.124Z"
   },
   {
    "duration": 0,
    "start_time": "2023-07-26T21:43:42.125Z"
   },
   {
    "duration": 0,
    "start_time": "2023-07-26T21:43:42.127Z"
   },
   {
    "duration": 0,
    "start_time": "2023-07-26T21:43:42.128Z"
   },
   {
    "duration": 0,
    "start_time": "2023-07-26T21:43:42.169Z"
   },
   {
    "duration": 1,
    "start_time": "2023-07-26T21:43:42.169Z"
   },
   {
    "duration": 0,
    "start_time": "2023-07-26T21:43:42.170Z"
   },
   {
    "duration": 0,
    "start_time": "2023-07-26T21:43:42.171Z"
   },
   {
    "duration": 1,
    "start_time": "2023-07-26T21:43:42.174Z"
   },
   {
    "duration": 0,
    "start_time": "2023-07-26T21:43:42.176Z"
   },
   {
    "duration": 0,
    "start_time": "2023-07-26T21:43:42.177Z"
   },
   {
    "duration": 0,
    "start_time": "2023-07-26T21:43:42.178Z"
   },
   {
    "duration": 0,
    "start_time": "2023-07-26T21:43:42.180Z"
   },
   {
    "duration": 0,
    "start_time": "2023-07-26T21:43:42.181Z"
   },
   {
    "duration": 0,
    "start_time": "2023-07-26T21:43:42.182Z"
   },
   {
    "duration": 0,
    "start_time": "2023-07-26T21:43:42.183Z"
   },
   {
    "duration": 0,
    "start_time": "2023-07-26T21:43:42.184Z"
   },
   {
    "duration": 0,
    "start_time": "2023-07-26T21:43:42.186Z"
   },
   {
    "duration": 0,
    "start_time": "2023-07-26T21:43:42.187Z"
   },
   {
    "duration": 0,
    "start_time": "2023-07-26T21:43:42.188Z"
   },
   {
    "duration": 0,
    "start_time": "2023-07-26T21:43:42.189Z"
   },
   {
    "duration": 0,
    "start_time": "2023-07-26T21:43:42.190Z"
   },
   {
    "duration": 0,
    "start_time": "2023-07-26T21:43:42.190Z"
   },
   {
    "duration": 0,
    "start_time": "2023-07-26T21:43:42.191Z"
   },
   {
    "duration": 0,
    "start_time": "2023-07-26T21:43:42.192Z"
   },
   {
    "duration": 0,
    "start_time": "2023-07-26T21:43:42.193Z"
   },
   {
    "duration": 0,
    "start_time": "2023-07-26T21:43:42.194Z"
   },
   {
    "duration": 0,
    "start_time": "2023-07-26T21:43:42.195Z"
   },
   {
    "duration": 1,
    "start_time": "2023-07-26T21:43:42.195Z"
   },
   {
    "duration": 0,
    "start_time": "2023-07-26T21:43:42.196Z"
   },
   {
    "duration": 0,
    "start_time": "2023-07-26T21:43:42.197Z"
   },
   {
    "duration": 43,
    "start_time": "2023-07-26T21:54:56.781Z"
   },
   {
    "duration": 1619,
    "start_time": "2023-07-26T21:58:31.737Z"
   },
   {
    "duration": 2,
    "start_time": "2023-07-26T21:58:33.358Z"
   },
   {
    "duration": 981,
    "start_time": "2023-07-26T21:58:33.372Z"
   },
   {
    "duration": 149,
    "start_time": "2023-07-26T21:58:34.356Z"
   },
   {
    "duration": 140,
    "start_time": "2023-07-26T21:58:34.507Z"
   },
   {
    "duration": 151,
    "start_time": "2023-07-26T21:58:34.649Z"
   },
   {
    "duration": 119,
    "start_time": "2023-07-26T21:58:34.802Z"
   },
   {
    "duration": 199,
    "start_time": "2023-07-26T21:58:34.922Z"
   },
   {
    "duration": 30,
    "start_time": "2023-07-26T21:58:35.123Z"
   },
   {
    "duration": 31,
    "start_time": "2023-07-26T21:58:35.167Z"
   },
   {
    "duration": 3,
    "start_time": "2023-07-26T21:58:35.200Z"
   },
   {
    "duration": 217,
    "start_time": "2023-07-26T21:58:35.205Z"
   },
   {
    "duration": 47,
    "start_time": "2023-07-26T21:58:35.424Z"
   },
   {
    "duration": 172,
    "start_time": "2023-07-26T21:58:35.473Z"
   },
   {
    "duration": 58,
    "start_time": "2023-07-26T21:58:35.647Z"
   },
   {
    "duration": 40,
    "start_time": "2023-07-26T21:58:35.707Z"
   },
   {
    "duration": 7,
    "start_time": "2023-07-26T21:58:35.750Z"
   },
   {
    "duration": 167,
    "start_time": "2023-07-26T21:58:35.772Z"
   },
   {
    "duration": 140,
    "start_time": "2023-07-26T21:58:35.940Z"
   },
   {
    "duration": 144,
    "start_time": "2023-07-26T21:58:36.082Z"
   },
   {
    "duration": 231,
    "start_time": "2023-07-26T21:58:36.228Z"
   },
   {
    "duration": 82,
    "start_time": "2023-07-26T21:58:36.467Z"
   },
   {
    "duration": 45,
    "start_time": "2023-07-26T21:58:36.551Z"
   },
   {
    "duration": 2,
    "start_time": "2023-07-26T21:58:36.598Z"
   },
   {
    "duration": 46,
    "start_time": "2023-07-26T21:58:36.602Z"
   },
   {
    "duration": 46,
    "start_time": "2023-07-26T21:58:36.650Z"
   },
   {
    "duration": 25,
    "start_time": "2023-07-26T21:58:36.698Z"
   },
   {
    "duration": 58,
    "start_time": "2023-07-26T21:58:36.727Z"
   },
   {
    "duration": 21,
    "start_time": "2023-07-26T21:58:36.787Z"
   },
   {
    "duration": 110,
    "start_time": "2023-07-26T21:58:36.810Z"
   },
   {
    "duration": 19,
    "start_time": "2023-07-26T21:58:36.922Z"
   },
   {
    "duration": 62,
    "start_time": "2023-07-26T21:58:36.942Z"
   },
   {
    "duration": 17,
    "start_time": "2023-07-26T21:58:37.006Z"
   },
   {
    "duration": 55,
    "start_time": "2023-07-26T21:58:37.025Z"
   },
   {
    "duration": 920,
    "start_time": "2023-07-26T21:58:37.082Z"
   },
   {
    "duration": 504,
    "start_time": "2023-07-26T21:58:38.004Z"
   },
   {
    "duration": 41,
    "start_time": "2023-07-26T21:58:38.509Z"
   },
   {
    "duration": 218,
    "start_time": "2023-07-26T21:58:38.566Z"
   },
   {
    "duration": 0,
    "start_time": "2023-07-26T21:58:38.786Z"
   },
   {
    "duration": 1,
    "start_time": "2023-07-26T21:58:38.787Z"
   },
   {
    "duration": 0,
    "start_time": "2023-07-26T21:58:38.789Z"
   },
   {
    "duration": 0,
    "start_time": "2023-07-26T21:58:38.790Z"
   },
   {
    "duration": 0,
    "start_time": "2023-07-26T21:58:38.792Z"
   },
   {
    "duration": 0,
    "start_time": "2023-07-26T21:58:38.794Z"
   },
   {
    "duration": 0,
    "start_time": "2023-07-26T21:58:38.796Z"
   },
   {
    "duration": 0,
    "start_time": "2023-07-26T21:58:38.797Z"
   },
   {
    "duration": 0,
    "start_time": "2023-07-26T21:58:38.798Z"
   },
   {
    "duration": 0,
    "start_time": "2023-07-26T21:58:38.800Z"
   },
   {
    "duration": 0,
    "start_time": "2023-07-26T21:58:38.801Z"
   },
   {
    "duration": 0,
    "start_time": "2023-07-26T21:58:38.802Z"
   },
   {
    "duration": 0,
    "start_time": "2023-07-26T21:58:38.803Z"
   },
   {
    "duration": 0,
    "start_time": "2023-07-26T21:58:38.804Z"
   },
   {
    "duration": 1514,
    "start_time": "2023-07-26T22:11:09.404Z"
   },
   {
    "duration": 2,
    "start_time": "2023-07-26T22:11:10.920Z"
   },
   {
    "duration": 908,
    "start_time": "2023-07-26T22:11:10.923Z"
   },
   {
    "duration": 122,
    "start_time": "2023-07-26T22:11:11.833Z"
   },
   {
    "duration": 123,
    "start_time": "2023-07-26T22:11:11.957Z"
   },
   {
    "duration": 146,
    "start_time": "2023-07-26T22:11:12.082Z"
   },
   {
    "duration": 117,
    "start_time": "2023-07-26T22:11:12.230Z"
   },
   {
    "duration": 185,
    "start_time": "2023-07-26T22:11:12.349Z"
   },
   {
    "duration": 49,
    "start_time": "2023-07-26T22:11:12.535Z"
   },
   {
    "duration": 20,
    "start_time": "2023-07-26T22:11:12.586Z"
   },
   {
    "duration": 3,
    "start_time": "2023-07-26T22:11:12.607Z"
   },
   {
    "duration": 182,
    "start_time": "2023-07-26T22:11:12.611Z"
   },
   {
    "duration": 28,
    "start_time": "2023-07-26T22:11:12.795Z"
   },
   {
    "duration": 171,
    "start_time": "2023-07-26T22:11:12.826Z"
   },
   {
    "duration": 47,
    "start_time": "2023-07-26T22:11:12.998Z"
   },
   {
    "duration": 55,
    "start_time": "2023-07-26T22:11:13.047Z"
   },
   {
    "duration": 8,
    "start_time": "2023-07-26T22:11:13.104Z"
   },
   {
    "duration": 176,
    "start_time": "2023-07-26T22:11:13.114Z"
   },
   {
    "duration": 130,
    "start_time": "2023-07-26T22:11:13.291Z"
   },
   {
    "duration": 147,
    "start_time": "2023-07-26T22:11:13.423Z"
   },
   {
    "duration": 214,
    "start_time": "2023-07-26T22:11:13.572Z"
   },
   {
    "duration": 55,
    "start_time": "2023-07-26T22:11:13.788Z"
   },
   {
    "duration": 49,
    "start_time": "2023-07-26T22:11:13.844Z"
   },
   {
    "duration": 3,
    "start_time": "2023-07-26T22:11:13.895Z"
   },
   {
    "duration": 30,
    "start_time": "2023-07-26T22:11:13.899Z"
   },
   {
    "duration": 60,
    "start_time": "2023-07-26T22:11:13.931Z"
   },
   {
    "duration": 22,
    "start_time": "2023-07-26T22:11:13.993Z"
   },
   {
    "duration": 53,
    "start_time": "2023-07-26T22:11:14.020Z"
   },
   {
    "duration": 26,
    "start_time": "2023-07-26T22:11:14.074Z"
   },
   {
    "duration": 89,
    "start_time": "2023-07-26T22:11:14.102Z"
   },
   {
    "duration": 18,
    "start_time": "2023-07-26T22:11:14.193Z"
   },
   {
    "duration": 33,
    "start_time": "2023-07-26T22:11:14.213Z"
   },
   {
    "duration": 38,
    "start_time": "2023-07-26T22:11:14.248Z"
   },
   {
    "duration": 33,
    "start_time": "2023-07-26T22:11:14.287Z"
   },
   {
    "duration": 875,
    "start_time": "2023-07-26T22:11:14.322Z"
   },
   {
    "duration": 493,
    "start_time": "2023-07-26T22:11:15.199Z"
   },
   {
    "duration": 40,
    "start_time": "2023-07-26T22:11:15.694Z"
   },
   {
    "duration": 7,
    "start_time": "2023-07-26T22:11:15.736Z"
   },
   {
    "duration": 48,
    "start_time": "2023-07-26T22:11:15.745Z"
   },
   {
    "duration": 803,
    "start_time": "2023-07-26T22:11:15.795Z"
   },
   {
    "duration": 423,
    "start_time": "2023-07-26T22:11:16.600Z"
   },
   {
    "duration": 37046,
    "start_time": "2023-07-26T22:11:17.025Z"
   },
   {
    "duration": 917,
    "start_time": "2023-07-26T22:11:54.074Z"
   },
   {
    "duration": 53056,
    "start_time": "2023-07-26T22:11:55.069Z"
   },
   {
    "duration": 1916,
    "start_time": "2023-07-26T22:12:48.127Z"
   },
   {
    "duration": 34479,
    "start_time": "2023-07-26T22:12:50.045Z"
   },
   {
    "duration": 518,
    "start_time": "2023-07-26T22:13:24.526Z"
   },
   {
    "duration": 35633,
    "start_time": "2023-07-26T22:13:25.046Z"
   },
   {
    "duration": 2318,
    "start_time": "2023-07-26T22:14:00.685Z"
   },
   {
    "duration": 70,
    "start_time": "2023-07-26T22:14:03.005Z"
   },
   {
    "duration": 10,
    "start_time": "2023-07-26T22:14:03.081Z"
   },
   {
    "duration": 219,
    "start_time": "2023-07-26T22:14:03.092Z"
   },
   {
    "duration": 448,
    "start_time": "2023-07-26T23:05:28.465Z"
   },
   {
    "duration": 480,
    "start_time": "2023-07-26T23:05:47.587Z"
   },
   {
    "duration": 112,
    "start_time": "2023-07-26T23:08:56.820Z"
   },
   {
    "duration": 278,
    "start_time": "2023-07-27T08:52:21.534Z"
   },
   {
    "duration": 0,
    "start_time": "2023-07-27T08:52:21.815Z"
   },
   {
    "duration": 0,
    "start_time": "2023-07-27T08:52:21.817Z"
   },
   {
    "duration": 0,
    "start_time": "2023-07-27T08:52:21.818Z"
   },
   {
    "duration": 1,
    "start_time": "2023-07-27T08:52:21.819Z"
   },
   {
    "duration": 0,
    "start_time": "2023-07-27T08:52:21.821Z"
   },
   {
    "duration": 0,
    "start_time": "2023-07-27T08:52:21.823Z"
   },
   {
    "duration": 0,
    "start_time": "2023-07-27T08:52:21.824Z"
   },
   {
    "duration": 0,
    "start_time": "2023-07-27T08:52:21.825Z"
   },
   {
    "duration": 0,
    "start_time": "2023-07-27T08:52:21.827Z"
   },
   {
    "duration": 0,
    "start_time": "2023-07-27T08:52:21.829Z"
   },
   {
    "duration": 0,
    "start_time": "2023-07-27T08:52:21.830Z"
   },
   {
    "duration": 0,
    "start_time": "2023-07-27T08:52:21.832Z"
   },
   {
    "duration": 0,
    "start_time": "2023-07-27T08:52:21.833Z"
   },
   {
    "duration": 0,
    "start_time": "2023-07-27T08:52:21.835Z"
   },
   {
    "duration": 0,
    "start_time": "2023-07-27T08:52:21.836Z"
   },
   {
    "duration": 0,
    "start_time": "2023-07-27T08:52:21.838Z"
   },
   {
    "duration": 0,
    "start_time": "2023-07-27T08:52:21.839Z"
   },
   {
    "duration": 0,
    "start_time": "2023-07-27T08:52:21.841Z"
   },
   {
    "duration": 0,
    "start_time": "2023-07-27T08:52:21.842Z"
   },
   {
    "duration": 0,
    "start_time": "2023-07-27T08:52:21.843Z"
   },
   {
    "duration": 0,
    "start_time": "2023-07-27T08:52:21.844Z"
   },
   {
    "duration": 0,
    "start_time": "2023-07-27T08:52:21.845Z"
   },
   {
    "duration": 0,
    "start_time": "2023-07-27T08:52:21.846Z"
   },
   {
    "duration": 0,
    "start_time": "2023-07-27T08:52:21.848Z"
   },
   {
    "duration": 0,
    "start_time": "2023-07-27T08:52:21.849Z"
   },
   {
    "duration": 0,
    "start_time": "2023-07-27T08:52:21.850Z"
   },
   {
    "duration": 0,
    "start_time": "2023-07-27T08:52:21.851Z"
   },
   {
    "duration": 0,
    "start_time": "2023-07-27T08:52:21.851Z"
   },
   {
    "duration": 0,
    "start_time": "2023-07-27T08:52:21.852Z"
   },
   {
    "duration": 0,
    "start_time": "2023-07-27T08:52:21.854Z"
   },
   {
    "duration": 0,
    "start_time": "2023-07-27T08:52:21.881Z"
   },
   {
    "duration": 0,
    "start_time": "2023-07-27T08:52:21.882Z"
   },
   {
    "duration": 0,
    "start_time": "2023-07-27T08:52:21.882Z"
   },
   {
    "duration": 0,
    "start_time": "2023-07-27T08:52:21.883Z"
   },
   {
    "duration": 0,
    "start_time": "2023-07-27T08:52:21.884Z"
   },
   {
    "duration": 0,
    "start_time": "2023-07-27T08:52:21.884Z"
   },
   {
    "duration": 0,
    "start_time": "2023-07-27T08:52:21.885Z"
   },
   {
    "duration": 0,
    "start_time": "2023-07-27T08:52:21.885Z"
   },
   {
    "duration": 0,
    "start_time": "2023-07-27T08:52:21.886Z"
   },
   {
    "duration": 0,
    "start_time": "2023-07-27T08:52:21.887Z"
   },
   {
    "duration": 0,
    "start_time": "2023-07-27T08:52:21.887Z"
   },
   {
    "duration": 0,
    "start_time": "2023-07-27T08:52:21.888Z"
   },
   {
    "duration": 0,
    "start_time": "2023-07-27T08:52:21.888Z"
   },
   {
    "duration": 0,
    "start_time": "2023-07-27T08:52:21.891Z"
   },
   {
    "duration": 0,
    "start_time": "2023-07-27T08:52:21.892Z"
   },
   {
    "duration": 0,
    "start_time": "2023-07-27T08:52:21.894Z"
   },
   {
    "duration": 0,
    "start_time": "2023-07-27T08:52:21.895Z"
   },
   {
    "duration": 381,
    "start_time": "2023-07-27T08:52:21.898Z"
   },
   {
    "duration": 13,
    "start_time": "2023-07-27T08:52:22.283Z"
   },
   {
    "duration": 0,
    "start_time": "2023-07-27T08:52:22.298Z"
   },
   {
    "duration": 0,
    "start_time": "2023-07-27T08:52:22.300Z"
   },
   {
    "duration": 191,
    "start_time": "2023-07-27T08:52:50.309Z"
   },
   {
    "duration": 2334,
    "start_time": "2023-07-27T08:53:55.358Z"
   },
   {
    "duration": 929,
    "start_time": "2023-07-27T08:54:34.845Z"
   },
   {
    "duration": 0,
    "start_time": "2023-07-27T08:54:35.776Z"
   },
   {
    "duration": 0,
    "start_time": "2023-07-27T08:54:35.777Z"
   },
   {
    "duration": 0,
    "start_time": "2023-07-27T08:54:35.779Z"
   },
   {
    "duration": 0,
    "start_time": "2023-07-27T08:54:35.780Z"
   },
   {
    "duration": 0,
    "start_time": "2023-07-27T08:54:35.781Z"
   },
   {
    "duration": 0,
    "start_time": "2023-07-27T08:54:35.782Z"
   },
   {
    "duration": 0,
    "start_time": "2023-07-27T08:54:35.783Z"
   },
   {
    "duration": 0,
    "start_time": "2023-07-27T08:54:35.784Z"
   },
   {
    "duration": 0,
    "start_time": "2023-07-27T08:54:35.785Z"
   },
   {
    "duration": 0,
    "start_time": "2023-07-27T08:54:35.786Z"
   },
   {
    "duration": 0,
    "start_time": "2023-07-27T08:54:35.787Z"
   },
   {
    "duration": 0,
    "start_time": "2023-07-27T08:54:35.788Z"
   },
   {
    "duration": 0,
    "start_time": "2023-07-27T08:54:35.789Z"
   },
   {
    "duration": 0,
    "start_time": "2023-07-27T08:54:35.790Z"
   },
   {
    "duration": 0,
    "start_time": "2023-07-27T08:54:35.791Z"
   },
   {
    "duration": 0,
    "start_time": "2023-07-27T08:54:35.792Z"
   },
   {
    "duration": 0,
    "start_time": "2023-07-27T08:54:35.793Z"
   },
   {
    "duration": 0,
    "start_time": "2023-07-27T08:54:35.794Z"
   },
   {
    "duration": 0,
    "start_time": "2023-07-27T08:54:35.795Z"
   },
   {
    "duration": 0,
    "start_time": "2023-07-27T08:54:35.796Z"
   },
   {
    "duration": 0,
    "start_time": "2023-07-27T08:54:35.797Z"
   },
   {
    "duration": 0,
    "start_time": "2023-07-27T08:54:35.798Z"
   },
   {
    "duration": 0,
    "start_time": "2023-07-27T08:54:35.799Z"
   },
   {
    "duration": 0,
    "start_time": "2023-07-27T08:54:35.800Z"
   },
   {
    "duration": 0,
    "start_time": "2023-07-27T08:54:35.801Z"
   },
   {
    "duration": 0,
    "start_time": "2023-07-27T08:54:35.803Z"
   },
   {
    "duration": 0,
    "start_time": "2023-07-27T08:54:35.804Z"
   },
   {
    "duration": 0,
    "start_time": "2023-07-27T08:54:35.805Z"
   },
   {
    "duration": 0,
    "start_time": "2023-07-27T08:54:35.806Z"
   },
   {
    "duration": 0,
    "start_time": "2023-07-27T08:54:35.807Z"
   },
   {
    "duration": 0,
    "start_time": "2023-07-27T08:54:35.808Z"
   },
   {
    "duration": 0,
    "start_time": "2023-07-27T08:54:35.809Z"
   },
   {
    "duration": 0,
    "start_time": "2023-07-27T08:54:35.810Z"
   },
   {
    "duration": 0,
    "start_time": "2023-07-27T08:54:35.811Z"
   },
   {
    "duration": 0,
    "start_time": "2023-07-27T08:54:35.870Z"
   },
   {
    "duration": 0,
    "start_time": "2023-07-27T08:54:35.872Z"
   },
   {
    "duration": 0,
    "start_time": "2023-07-27T08:54:35.873Z"
   },
   {
    "duration": 0,
    "start_time": "2023-07-27T08:54:35.874Z"
   },
   {
    "duration": 0,
    "start_time": "2023-07-27T08:54:35.875Z"
   },
   {
    "duration": 0,
    "start_time": "2023-07-27T08:54:35.876Z"
   },
   {
    "duration": 0,
    "start_time": "2023-07-27T08:54:35.877Z"
   },
   {
    "duration": 0,
    "start_time": "2023-07-27T08:54:35.878Z"
   },
   {
    "duration": 0,
    "start_time": "2023-07-27T08:54:35.879Z"
   },
   {
    "duration": 0,
    "start_time": "2023-07-27T08:54:35.880Z"
   },
   {
    "duration": 0,
    "start_time": "2023-07-27T08:54:35.881Z"
   },
   {
    "duration": 0,
    "start_time": "2023-07-27T08:54:35.882Z"
   },
   {
    "duration": 0,
    "start_time": "2023-07-27T08:54:35.884Z"
   },
   {
    "duration": 0,
    "start_time": "2023-07-27T08:54:35.885Z"
   },
   {
    "duration": 0,
    "start_time": "2023-07-27T08:54:35.886Z"
   },
   {
    "duration": 0,
    "start_time": "2023-07-27T08:54:35.888Z"
   },
   {
    "duration": 0,
    "start_time": "2023-07-27T08:54:35.889Z"
   },
   {
    "duration": 1726,
    "start_time": "2023-07-27T08:59:16.095Z"
   },
   {
    "duration": 262,
    "start_time": "2023-07-27T09:00:37.485Z"
   },
   {
    "duration": 571,
    "start_time": "2023-07-27T09:01:07.465Z"
   },
   {
    "duration": 1750,
    "start_time": "2023-07-27T09:01:45.854Z"
   },
   {
    "duration": 2,
    "start_time": "2023-07-27T09:01:47.606Z"
   },
   {
    "duration": 1158,
    "start_time": "2023-07-27T09:01:47.609Z"
   },
   {
    "duration": 182,
    "start_time": "2023-07-27T09:01:48.769Z"
   },
   {
    "duration": 147,
    "start_time": "2023-07-27T09:01:48.953Z"
   },
   {
    "duration": 155,
    "start_time": "2023-07-27T09:01:49.102Z"
   },
   {
    "duration": 97,
    "start_time": "2023-07-27T09:01:49.259Z"
   },
   {
    "duration": 184,
    "start_time": "2023-07-27T09:01:49.358Z"
   },
   {
    "duration": 23,
    "start_time": "2023-07-27T09:01:49.544Z"
   },
   {
    "duration": 17,
    "start_time": "2023-07-27T09:01:49.572Z"
   },
   {
    "duration": 5,
    "start_time": "2023-07-27T09:01:49.591Z"
   },
   {
    "duration": 189,
    "start_time": "2023-07-27T09:01:49.597Z"
   },
   {
    "duration": 23,
    "start_time": "2023-07-27T09:01:49.788Z"
   },
   {
    "duration": 140,
    "start_time": "2023-07-27T09:01:49.813Z"
   },
   {
    "duration": 54,
    "start_time": "2023-07-27T09:01:49.955Z"
   },
   {
    "duration": 66,
    "start_time": "2023-07-27T09:01:50.011Z"
   },
   {
    "duration": 10,
    "start_time": "2023-07-27T09:01:50.084Z"
   },
   {
    "duration": 128,
    "start_time": "2023-07-27T09:01:50.096Z"
   },
   {
    "duration": 102,
    "start_time": "2023-07-27T09:01:50.226Z"
   },
   {
    "duration": 117,
    "start_time": "2023-07-27T09:01:50.329Z"
   },
   {
    "duration": 213,
    "start_time": "2023-07-27T09:01:50.448Z"
   },
   {
    "duration": 58,
    "start_time": "2023-07-27T09:01:50.663Z"
   },
   {
    "duration": 27,
    "start_time": "2023-07-27T09:01:50.723Z"
   },
   {
    "duration": 2,
    "start_time": "2023-07-27T09:01:50.752Z"
   },
   {
    "duration": 33,
    "start_time": "2023-07-27T09:01:50.770Z"
   },
   {
    "duration": 51,
    "start_time": "2023-07-27T09:01:50.804Z"
   },
   {
    "duration": 35,
    "start_time": "2023-07-27T09:01:50.856Z"
   },
   {
    "duration": 56,
    "start_time": "2023-07-27T09:01:50.897Z"
   },
   {
    "duration": 43,
    "start_time": "2023-07-27T09:01:50.954Z"
   },
   {
    "duration": 111,
    "start_time": "2023-07-27T09:01:50.999Z"
   },
   {
    "duration": 19,
    "start_time": "2023-07-27T09:01:51.111Z"
   },
   {
    "duration": 56,
    "start_time": "2023-07-27T09:01:51.131Z"
   },
   {
    "duration": 17,
    "start_time": "2023-07-27T09:01:51.189Z"
   },
   {
    "duration": 41,
    "start_time": "2023-07-27T09:01:51.208Z"
   },
   {
    "duration": 733,
    "start_time": "2023-07-27T09:01:51.250Z"
   },
   {
    "duration": 397,
    "start_time": "2023-07-27T09:01:51.985Z"
   },
   {
    "duration": 34,
    "start_time": "2023-07-27T09:01:52.384Z"
   },
   {
    "duration": 3,
    "start_time": "2023-07-27T09:01:52.420Z"
   },
   {
    "duration": 58,
    "start_time": "2023-07-27T09:01:52.424Z"
   },
   {
    "duration": 571,
    "start_time": "2023-07-27T09:01:52.485Z"
   },
   {
    "duration": 446,
    "start_time": "2023-07-27T09:01:53.058Z"
   },
   {
    "duration": 29067,
    "start_time": "2023-07-27T09:01:53.506Z"
   },
   {
    "duration": 795,
    "start_time": "2023-07-27T09:02:22.583Z"
   },
   {
    "duration": 35924,
    "start_time": "2023-07-27T09:02:23.380Z"
   },
   {
    "duration": 1171,
    "start_time": "2023-07-27T09:02:59.306Z"
   },
   {
    "duration": 25994,
    "start_time": "2023-07-27T09:03:00.483Z"
   },
   {
    "duration": 344,
    "start_time": "2023-07-27T09:03:26.481Z"
   },
   {
    "duration": 39054,
    "start_time": "2023-07-27T09:03:26.827Z"
   },
   {
    "duration": 1904,
    "start_time": "2023-07-27T09:04:05.887Z"
   },
   {
    "duration": 10,
    "start_time": "2023-07-27T09:04:07.793Z"
   },
   {
    "duration": 25,
    "start_time": "2023-07-27T09:04:07.804Z"
   },
   {
    "duration": 151,
    "start_time": "2023-07-27T09:04:07.830Z"
   },
   {
    "duration": 578,
    "start_time": "2023-07-27T09:24:10.413Z"
   },
   {
    "duration": 345,
    "start_time": "2023-07-27T09:27:59.298Z"
   },
   {
    "duration": 1716,
    "start_time": "2023-07-27T10:15:41.140Z"
   },
   {
    "duration": 2,
    "start_time": "2023-07-27T10:15:42.858Z"
   },
   {
    "duration": 863,
    "start_time": "2023-07-27T10:15:42.861Z"
   },
   {
    "duration": 149,
    "start_time": "2023-07-27T10:15:43.726Z"
   },
   {
    "duration": 144,
    "start_time": "2023-07-27T10:15:43.877Z"
   },
   {
    "duration": 136,
    "start_time": "2023-07-27T10:15:44.023Z"
   },
   {
    "duration": 110,
    "start_time": "2023-07-27T10:15:44.161Z"
   },
   {
    "duration": 187,
    "start_time": "2023-07-27T10:15:44.273Z"
   },
   {
    "duration": 31,
    "start_time": "2023-07-27T10:15:44.462Z"
   },
   {
    "duration": 49,
    "start_time": "2023-07-27T10:15:44.495Z"
   },
   {
    "duration": 16,
    "start_time": "2023-07-27T10:15:44.546Z"
   },
   {
    "duration": 165,
    "start_time": "2023-07-27T10:15:44.563Z"
   },
   {
    "duration": 22,
    "start_time": "2023-07-27T10:15:44.730Z"
   },
   {
    "duration": 147,
    "start_time": "2023-07-27T10:15:44.753Z"
   },
   {
    "duration": 45,
    "start_time": "2023-07-27T10:15:44.901Z"
   },
   {
    "duration": 56,
    "start_time": "2023-07-27T10:15:44.948Z"
   },
   {
    "duration": 6,
    "start_time": "2023-07-27T10:15:45.006Z"
   },
   {
    "duration": 153,
    "start_time": "2023-07-27T10:15:45.014Z"
   },
   {
    "duration": 92,
    "start_time": "2023-07-27T10:15:45.169Z"
   },
   {
    "duration": 119,
    "start_time": "2023-07-27T10:15:45.263Z"
   },
   {
    "duration": 210,
    "start_time": "2023-07-27T10:15:45.384Z"
   },
   {
    "duration": 88,
    "start_time": "2023-07-27T10:15:45.595Z"
   },
   {
    "duration": 28,
    "start_time": "2023-07-27T10:15:45.685Z"
   },
   {
    "duration": 2,
    "start_time": "2023-07-27T10:15:45.715Z"
   },
   {
    "duration": 42,
    "start_time": "2023-07-27T10:15:45.718Z"
   },
   {
    "duration": 65,
    "start_time": "2023-07-27T10:15:45.761Z"
   },
   {
    "duration": 18,
    "start_time": "2023-07-27T10:15:45.828Z"
   },
   {
    "duration": 35,
    "start_time": "2023-07-27T10:15:45.849Z"
   },
   {
    "duration": 19,
    "start_time": "2023-07-27T10:15:45.886Z"
   },
   {
    "duration": 97,
    "start_time": "2023-07-27T10:15:45.907Z"
   },
   {
    "duration": 19,
    "start_time": "2023-07-27T10:15:46.006Z"
   },
   {
    "duration": 74,
    "start_time": "2023-07-27T10:15:46.026Z"
   },
   {
    "duration": 18,
    "start_time": "2023-07-27T10:15:46.102Z"
   },
   {
    "duration": 42,
    "start_time": "2023-07-27T10:15:46.122Z"
   },
   {
    "duration": 737,
    "start_time": "2023-07-27T10:15:46.166Z"
   },
   {
    "duration": 400,
    "start_time": "2023-07-27T10:15:46.904Z"
   },
   {
    "duration": 33,
    "start_time": "2023-07-27T10:15:47.306Z"
   },
   {
    "duration": 3,
    "start_time": "2023-07-27T10:15:47.340Z"
   },
   {
    "duration": 48,
    "start_time": "2023-07-27T10:15:47.345Z"
   },
   {
    "duration": 581,
    "start_time": "2023-07-27T10:15:47.395Z"
   },
   {
    "duration": 438,
    "start_time": "2023-07-27T10:15:47.977Z"
   },
   {
    "duration": 15463,
    "start_time": "2023-07-27T10:15:48.416Z"
   },
   {
    "duration": 297,
    "start_time": "2023-07-27T10:16:03.881Z"
   },
   {
    "duration": 35289,
    "start_time": "2023-07-27T10:16:04.180Z"
   },
   {
    "duration": 401,
    "start_time": "2023-07-27T10:16:39.471Z"
   },
   {
    "duration": 25626,
    "start_time": "2023-07-27T10:16:39.873Z"
   },
   {
    "duration": 136,
    "start_time": "2023-07-27T10:17:05.503Z"
   },
   {
    "duration": 5443,
    "start_time": "2023-07-27T10:17:05.641Z"
   },
   {
    "duration": 607,
    "start_time": "2023-07-27T10:17:11.086Z"
   },
   {
    "duration": 84,
    "start_time": "2023-07-27T10:17:11.694Z"
   },
   {
    "duration": 34,
    "start_time": "2023-07-27T10:17:11.780Z"
   },
   {
    "duration": 154,
    "start_time": "2023-07-27T10:17:11.815Z"
   },
   {
    "duration": 18,
    "start_time": "2023-07-27T10:28:53.198Z"
   },
   {
    "duration": 2049,
    "start_time": "2023-07-27T10:34:44.719Z"
   },
   {
    "duration": 3,
    "start_time": "2023-07-27T10:34:46.769Z"
   },
   {
    "duration": 883,
    "start_time": "2023-07-27T10:34:46.773Z"
   },
   {
    "duration": 138,
    "start_time": "2023-07-27T10:34:47.658Z"
   },
   {
    "duration": 136,
    "start_time": "2023-07-27T10:34:47.799Z"
   },
   {
    "duration": 130,
    "start_time": "2023-07-27T10:34:47.936Z"
   },
   {
    "duration": 89,
    "start_time": "2023-07-27T10:34:48.068Z"
   },
   {
    "duration": 186,
    "start_time": "2023-07-27T10:34:48.159Z"
   },
   {
    "duration": 31,
    "start_time": "2023-07-27T10:34:48.346Z"
   },
   {
    "duration": 16,
    "start_time": "2023-07-27T10:34:48.380Z"
   },
   {
    "duration": 16,
    "start_time": "2023-07-27T10:34:48.398Z"
   },
   {
    "duration": 191,
    "start_time": "2023-07-27T10:34:48.415Z"
   },
   {
    "duration": 23,
    "start_time": "2023-07-27T10:34:48.607Z"
   },
   {
    "duration": 158,
    "start_time": "2023-07-27T10:34:48.632Z"
   },
   {
    "duration": 67,
    "start_time": "2023-07-27T10:34:48.792Z"
   },
   {
    "duration": 71,
    "start_time": "2023-07-27T10:34:48.860Z"
   },
   {
    "duration": 7,
    "start_time": "2023-07-27T10:34:48.933Z"
   },
   {
    "duration": 152,
    "start_time": "2023-07-27T10:34:48.942Z"
   },
   {
    "duration": 115,
    "start_time": "2023-07-27T10:34:49.096Z"
   },
   {
    "duration": 123,
    "start_time": "2023-07-27T10:34:49.213Z"
   },
   {
    "duration": 192,
    "start_time": "2023-07-27T10:34:49.337Z"
   },
   {
    "duration": 104,
    "start_time": "2023-07-27T10:34:49.531Z"
   },
   {
    "duration": 69,
    "start_time": "2023-07-27T10:34:49.637Z"
   },
   {
    "duration": 47,
    "start_time": "2023-07-27T10:34:49.708Z"
   },
   {
    "duration": 50,
    "start_time": "2023-07-27T10:34:49.757Z"
   },
   {
    "duration": 87,
    "start_time": "2023-07-27T10:34:49.808Z"
   },
   {
    "duration": 68,
    "start_time": "2023-07-27T10:34:49.896Z"
   },
   {
    "duration": 65,
    "start_time": "2023-07-27T10:34:49.967Z"
   },
   {
    "duration": 68,
    "start_time": "2023-07-27T10:34:50.034Z"
   },
   {
    "duration": 131,
    "start_time": "2023-07-27T10:34:50.104Z"
   },
   {
    "duration": 21,
    "start_time": "2023-07-27T10:34:50.237Z"
   },
   {
    "duration": 88,
    "start_time": "2023-07-27T10:34:50.259Z"
   },
   {
    "duration": 47,
    "start_time": "2023-07-27T10:34:50.348Z"
   },
   {
    "duration": 73,
    "start_time": "2023-07-27T10:34:50.396Z"
   },
   {
    "duration": 794,
    "start_time": "2023-07-27T10:34:50.470Z"
   },
   {
    "duration": 420,
    "start_time": "2023-07-27T10:34:51.266Z"
   },
   {
    "duration": 34,
    "start_time": "2023-07-27T10:34:51.688Z"
   },
   {
    "duration": 10,
    "start_time": "2023-07-27T10:34:51.724Z"
   },
   {
    "duration": 64,
    "start_time": "2023-07-27T10:34:51.735Z"
   },
   {
    "duration": 650,
    "start_time": "2023-07-27T10:34:51.800Z"
   },
   {
    "duration": 463,
    "start_time": "2023-07-27T10:34:52.452Z"
   },
   {
    "duration": 17,
    "start_time": "2023-07-27T10:34:52.917Z"
   },
   {
    "duration": 153,
    "start_time": "2023-07-27T10:34:52.935Z"
   },
   {
    "duration": 0,
    "start_time": "2023-07-27T10:34:53.090Z"
   },
   {
    "duration": 0,
    "start_time": "2023-07-27T10:34:53.092Z"
   },
   {
    "duration": 0,
    "start_time": "2023-07-27T10:34:53.093Z"
   },
   {
    "duration": 0,
    "start_time": "2023-07-27T10:34:53.095Z"
   },
   {
    "duration": 0,
    "start_time": "2023-07-27T10:34:53.096Z"
   },
   {
    "duration": 0,
    "start_time": "2023-07-27T10:34:53.098Z"
   },
   {
    "duration": 0,
    "start_time": "2023-07-27T10:34:53.100Z"
   },
   {
    "duration": 0,
    "start_time": "2023-07-27T10:34:53.102Z"
   },
   {
    "duration": 0,
    "start_time": "2023-07-27T10:34:53.103Z"
   },
   {
    "duration": 1,
    "start_time": "2023-07-27T10:34:53.104Z"
   },
   {
    "duration": 0,
    "start_time": "2023-07-27T10:34:53.106Z"
   },
   {
    "duration": 2058,
    "start_time": "2023-07-27T10:53:26.059Z"
   },
   {
    "duration": 2,
    "start_time": "2023-07-27T10:53:28.119Z"
   },
   {
    "duration": 961,
    "start_time": "2023-07-27T10:53:28.122Z"
   },
   {
    "duration": 195,
    "start_time": "2023-07-27T10:53:29.086Z"
   },
   {
    "duration": 140,
    "start_time": "2023-07-27T10:53:29.283Z"
   },
   {
    "duration": 133,
    "start_time": "2023-07-27T10:53:29.424Z"
   },
   {
    "duration": 95,
    "start_time": "2023-07-27T10:53:29.559Z"
   },
   {
    "duration": 187,
    "start_time": "2023-07-27T10:53:29.656Z"
   },
   {
    "duration": 33,
    "start_time": "2023-07-27T10:53:29.844Z"
   },
   {
    "duration": 18,
    "start_time": "2023-07-27T10:53:29.881Z"
   },
   {
    "duration": 2,
    "start_time": "2023-07-27T10:53:29.901Z"
   },
   {
    "duration": 309,
    "start_time": "2023-07-27T10:53:29.904Z"
   },
   {
    "duration": 23,
    "start_time": "2023-07-27T10:53:30.215Z"
   },
   {
    "duration": 222,
    "start_time": "2023-07-27T10:53:30.240Z"
   },
   {
    "duration": 67,
    "start_time": "2023-07-27T10:53:30.471Z"
   },
   {
    "duration": 107,
    "start_time": "2023-07-27T10:53:30.539Z"
   },
   {
    "duration": 40,
    "start_time": "2023-07-27T10:53:30.648Z"
   },
   {
    "duration": 194,
    "start_time": "2023-07-27T10:53:30.690Z"
   },
   {
    "duration": 119,
    "start_time": "2023-07-27T10:53:30.886Z"
   },
   {
    "duration": 122,
    "start_time": "2023-07-27T10:53:31.007Z"
   },
   {
    "duration": 228,
    "start_time": "2023-07-27T10:53:31.131Z"
   },
   {
    "duration": 92,
    "start_time": "2023-07-27T10:53:31.360Z"
   },
   {
    "duration": 63,
    "start_time": "2023-07-27T10:53:31.454Z"
   },
   {
    "duration": 3,
    "start_time": "2023-07-27T10:53:31.518Z"
   },
   {
    "duration": 79,
    "start_time": "2023-07-27T10:53:31.522Z"
   },
   {
    "duration": 52,
    "start_time": "2023-07-27T10:53:31.603Z"
   },
   {
    "duration": 27,
    "start_time": "2023-07-27T10:53:31.657Z"
   },
   {
    "duration": 63,
    "start_time": "2023-07-27T10:53:31.688Z"
   },
   {
    "duration": 32,
    "start_time": "2023-07-27T10:53:31.753Z"
   },
   {
    "duration": 110,
    "start_time": "2023-07-27T10:53:31.787Z"
   },
   {
    "duration": 19,
    "start_time": "2023-07-27T10:53:31.899Z"
   },
   {
    "duration": 56,
    "start_time": "2023-07-27T10:53:31.920Z"
   },
   {
    "duration": 48,
    "start_time": "2023-07-27T10:53:31.979Z"
   },
   {
    "duration": 79,
    "start_time": "2023-07-27T10:53:32.029Z"
   },
   {
    "duration": 839,
    "start_time": "2023-07-27T10:53:32.109Z"
   },
   {
    "duration": 457,
    "start_time": "2023-07-27T10:53:32.949Z"
   },
   {
    "duration": 36,
    "start_time": "2023-07-27T10:53:33.408Z"
   },
   {
    "duration": 2,
    "start_time": "2023-07-27T10:53:33.446Z"
   },
   {
    "duration": 50,
    "start_time": "2023-07-27T10:53:33.450Z"
   },
   {
    "duration": 703,
    "start_time": "2023-07-27T10:53:33.502Z"
   },
   {
    "duration": 487,
    "start_time": "2023-07-27T10:53:34.207Z"
   },
   {
    "duration": 17,
    "start_time": "2023-07-27T10:53:34.696Z"
   },
   {
    "duration": 141,
    "start_time": "2023-07-27T10:53:34.714Z"
   },
   {
    "duration": 0,
    "start_time": "2023-07-27T10:53:34.857Z"
   },
   {
    "duration": 0,
    "start_time": "2023-07-27T10:53:34.858Z"
   },
   {
    "duration": 0,
    "start_time": "2023-07-27T10:53:34.860Z"
   },
   {
    "duration": 0,
    "start_time": "2023-07-27T10:53:34.861Z"
   },
   {
    "duration": 0,
    "start_time": "2023-07-27T10:53:34.870Z"
   },
   {
    "duration": 0,
    "start_time": "2023-07-27T10:53:34.871Z"
   },
   {
    "duration": 0,
    "start_time": "2023-07-27T10:53:34.873Z"
   },
   {
    "duration": 0,
    "start_time": "2023-07-27T10:53:34.879Z"
   },
   {
    "duration": 0,
    "start_time": "2023-07-27T10:53:34.881Z"
   },
   {
    "duration": 0,
    "start_time": "2023-07-27T10:53:34.882Z"
   },
   {
    "duration": 0,
    "start_time": "2023-07-27T10:53:34.884Z"
   },
   {
    "duration": 1541,
    "start_time": "2023-07-27T10:55:08.815Z"
   },
   {
    "duration": 2,
    "start_time": "2023-07-27T10:55:10.358Z"
   },
   {
    "duration": 963,
    "start_time": "2023-07-27T10:55:10.362Z"
   },
   {
    "duration": 160,
    "start_time": "2023-07-27T10:55:11.327Z"
   },
   {
    "duration": 147,
    "start_time": "2023-07-27T10:55:11.489Z"
   },
   {
    "duration": 146,
    "start_time": "2023-07-27T10:55:11.638Z"
   },
   {
    "duration": 111,
    "start_time": "2023-07-27T10:55:11.786Z"
   },
   {
    "duration": 198,
    "start_time": "2023-07-27T10:55:11.899Z"
   },
   {
    "duration": 27,
    "start_time": "2023-07-27T10:55:12.099Z"
   },
   {
    "duration": 16,
    "start_time": "2023-07-27T10:55:12.129Z"
   },
   {
    "duration": 9,
    "start_time": "2023-07-27T10:55:12.147Z"
   },
   {
    "duration": 199,
    "start_time": "2023-07-27T10:55:12.158Z"
   },
   {
    "duration": 30,
    "start_time": "2023-07-27T10:55:12.358Z"
   },
   {
    "duration": 150,
    "start_time": "2023-07-27T10:55:12.390Z"
   },
   {
    "duration": 62,
    "start_time": "2023-07-27T10:55:12.542Z"
   },
   {
    "duration": 42,
    "start_time": "2023-07-27T10:55:12.606Z"
   },
   {
    "duration": 23,
    "start_time": "2023-07-27T10:55:12.650Z"
   },
   {
    "duration": 150,
    "start_time": "2023-07-27T10:55:12.675Z"
   },
   {
    "duration": 116,
    "start_time": "2023-07-27T10:55:12.827Z"
   },
   {
    "duration": 128,
    "start_time": "2023-07-27T10:55:12.945Z"
   },
   {
    "duration": 220,
    "start_time": "2023-07-27T10:55:13.079Z"
   },
   {
    "duration": 91,
    "start_time": "2023-07-27T10:55:13.301Z"
   },
   {
    "duration": 29,
    "start_time": "2023-07-27T10:55:13.393Z"
   },
   {
    "duration": 2,
    "start_time": "2023-07-27T10:55:13.424Z"
   },
   {
    "duration": 33,
    "start_time": "2023-07-27T10:55:13.427Z"
   },
   {
    "duration": 59,
    "start_time": "2023-07-27T10:55:13.462Z"
   },
   {
    "duration": 18,
    "start_time": "2023-07-27T10:55:13.523Z"
   },
   {
    "duration": 50,
    "start_time": "2023-07-27T10:55:13.545Z"
   },
   {
    "duration": 21,
    "start_time": "2023-07-27T10:55:13.597Z"
   },
   {
    "duration": 110,
    "start_time": "2023-07-27T10:55:13.620Z"
   },
   {
    "duration": 18,
    "start_time": "2023-07-27T10:55:13.732Z"
   },
   {
    "duration": 44,
    "start_time": "2023-07-27T10:55:13.752Z"
   },
   {
    "duration": 19,
    "start_time": "2023-07-27T10:55:13.798Z"
   },
   {
    "duration": 38,
    "start_time": "2023-07-27T10:55:13.818Z"
   },
   {
    "duration": 865,
    "start_time": "2023-07-27T10:55:13.873Z"
   },
   {
    "duration": 478,
    "start_time": "2023-07-27T10:55:14.740Z"
   },
   {
    "duration": 36,
    "start_time": "2023-07-27T10:55:15.220Z"
   },
   {
    "duration": 3,
    "start_time": "2023-07-27T10:55:15.258Z"
   },
   {
    "duration": 44,
    "start_time": "2023-07-27T10:55:15.273Z"
   },
   {
    "duration": 667,
    "start_time": "2023-07-27T10:55:15.319Z"
   },
   {
    "duration": 506,
    "start_time": "2023-07-27T10:55:15.988Z"
   },
   {
    "duration": 22,
    "start_time": "2023-07-27T10:55:16.496Z"
   },
   {
    "duration": 206,
    "start_time": "2023-07-27T10:55:16.521Z"
   },
   {
    "duration": 0,
    "start_time": "2023-07-27T10:55:16.729Z"
   },
   {
    "duration": 0,
    "start_time": "2023-07-27T10:55:16.730Z"
   },
   {
    "duration": 0,
    "start_time": "2023-07-27T10:55:16.731Z"
   },
   {
    "duration": 0,
    "start_time": "2023-07-27T10:55:16.732Z"
   },
   {
    "duration": 0,
    "start_time": "2023-07-27T10:55:16.734Z"
   },
   {
    "duration": 0,
    "start_time": "2023-07-27T10:55:16.736Z"
   },
   {
    "duration": 0,
    "start_time": "2023-07-27T10:55:16.737Z"
   },
   {
    "duration": 0,
    "start_time": "2023-07-27T10:55:16.739Z"
   },
   {
    "duration": 1,
    "start_time": "2023-07-27T10:55:16.740Z"
   },
   {
    "duration": 0,
    "start_time": "2023-07-27T10:55:16.742Z"
   },
   {
    "duration": 0,
    "start_time": "2023-07-27T10:55:16.743Z"
   },
   {
    "duration": 2079,
    "start_time": "2023-07-27T10:55:44.941Z"
   },
   {
    "duration": 2,
    "start_time": "2023-07-27T10:55:47.022Z"
   },
   {
    "duration": 981,
    "start_time": "2023-07-27T10:55:47.026Z"
   },
   {
    "duration": 140,
    "start_time": "2023-07-27T10:55:48.009Z"
   },
   {
    "duration": 150,
    "start_time": "2023-07-27T10:55:48.150Z"
   },
   {
    "duration": 139,
    "start_time": "2023-07-27T10:55:48.301Z"
   },
   {
    "duration": 107,
    "start_time": "2023-07-27T10:55:48.442Z"
   },
   {
    "duration": 190,
    "start_time": "2023-07-27T10:55:48.551Z"
   },
   {
    "duration": 34,
    "start_time": "2023-07-27T10:55:48.742Z"
   },
   {
    "duration": 19,
    "start_time": "2023-07-27T10:55:48.780Z"
   },
   {
    "duration": 3,
    "start_time": "2023-07-27T10:55:48.801Z"
   },
   {
    "duration": 211,
    "start_time": "2023-07-27T10:55:48.806Z"
   },
   {
    "duration": 23,
    "start_time": "2023-07-27T10:55:49.019Z"
   },
   {
    "duration": 171,
    "start_time": "2023-07-27T10:55:49.044Z"
   },
   {
    "duration": 67,
    "start_time": "2023-07-27T10:55:49.216Z"
   },
   {
    "duration": 45,
    "start_time": "2023-07-27T10:55:49.285Z"
   },
   {
    "duration": 5,
    "start_time": "2023-07-27T10:55:49.332Z"
   },
   {
    "duration": 156,
    "start_time": "2023-07-27T10:55:49.338Z"
   },
   {
    "duration": 106,
    "start_time": "2023-07-27T10:55:49.495Z"
   },
   {
    "duration": 140,
    "start_time": "2023-07-27T10:55:49.603Z"
   },
   {
    "duration": 229,
    "start_time": "2023-07-27T10:55:49.744Z"
   },
   {
    "duration": 61,
    "start_time": "2023-07-27T10:55:49.981Z"
   },
   {
    "duration": 30,
    "start_time": "2023-07-27T10:55:50.043Z"
   },
   {
    "duration": 2,
    "start_time": "2023-07-27T10:55:50.075Z"
   },
   {
    "duration": 48,
    "start_time": "2023-07-27T10:55:50.082Z"
   },
   {
    "duration": 58,
    "start_time": "2023-07-27T10:55:50.131Z"
   },
   {
    "duration": 18,
    "start_time": "2023-07-27T10:55:50.191Z"
   },
   {
    "duration": 45,
    "start_time": "2023-07-27T10:55:50.212Z"
   },
   {
    "duration": 29,
    "start_time": "2023-07-27T10:55:50.259Z"
   },
   {
    "duration": 92,
    "start_time": "2023-07-27T10:55:50.289Z"
   },
   {
    "duration": 19,
    "start_time": "2023-07-27T10:55:50.384Z"
   },
   {
    "duration": 41,
    "start_time": "2023-07-27T10:55:50.404Z"
   },
   {
    "duration": 27,
    "start_time": "2023-07-27T10:55:50.447Z"
   },
   {
    "duration": 47,
    "start_time": "2023-07-27T10:55:50.476Z"
   },
   {
    "duration": 832,
    "start_time": "2023-07-27T10:55:50.524Z"
   },
   {
    "duration": 450,
    "start_time": "2023-07-27T10:55:51.358Z"
   },
   {
    "duration": 34,
    "start_time": "2023-07-27T10:55:51.809Z"
   },
   {
    "duration": 3,
    "start_time": "2023-07-27T10:55:51.845Z"
   },
   {
    "duration": 61,
    "start_time": "2023-07-27T10:55:51.850Z"
   },
   {
    "duration": 678,
    "start_time": "2023-07-27T10:55:51.912Z"
   },
   {
    "duration": 483,
    "start_time": "2023-07-27T10:55:52.591Z"
   },
   {
    "duration": 20,
    "start_time": "2023-07-27T10:55:53.081Z"
   },
   {
    "duration": 220,
    "start_time": "2023-07-27T10:55:53.103Z"
   },
   {
    "duration": 0,
    "start_time": "2023-07-27T10:55:53.325Z"
   },
   {
    "duration": 0,
    "start_time": "2023-07-27T10:55:53.326Z"
   },
   {
    "duration": 0,
    "start_time": "2023-07-27T10:55:53.327Z"
   },
   {
    "duration": 0,
    "start_time": "2023-07-27T10:55:53.328Z"
   },
   {
    "duration": 0,
    "start_time": "2023-07-27T10:55:53.329Z"
   },
   {
    "duration": 0,
    "start_time": "2023-07-27T10:55:53.330Z"
   },
   {
    "duration": 0,
    "start_time": "2023-07-27T10:55:53.331Z"
   },
   {
    "duration": 0,
    "start_time": "2023-07-27T10:55:53.331Z"
   },
   {
    "duration": 0,
    "start_time": "2023-07-27T10:55:53.332Z"
   },
   {
    "duration": 0,
    "start_time": "2023-07-27T10:55:53.333Z"
   },
   {
    "duration": 0,
    "start_time": "2023-07-27T10:55:53.334Z"
   },
   {
    "duration": 1545,
    "start_time": "2023-07-27T10:59:44.191Z"
   },
   {
    "duration": 2,
    "start_time": "2023-07-27T10:59:45.738Z"
   },
   {
    "duration": 929,
    "start_time": "2023-07-27T10:59:45.742Z"
   },
   {
    "duration": 159,
    "start_time": "2023-07-27T10:59:46.673Z"
   },
   {
    "duration": 141,
    "start_time": "2023-07-27T10:59:46.834Z"
   },
   {
    "duration": 139,
    "start_time": "2023-07-27T10:59:46.977Z"
   },
   {
    "duration": 102,
    "start_time": "2023-07-27T10:59:47.117Z"
   },
   {
    "duration": 182,
    "start_time": "2023-07-27T10:59:47.220Z"
   },
   {
    "duration": 25,
    "start_time": "2023-07-27T10:59:47.403Z"
   },
   {
    "duration": 65,
    "start_time": "2023-07-27T10:59:47.431Z"
   },
   {
    "duration": 15,
    "start_time": "2023-07-27T10:59:47.498Z"
   },
   {
    "duration": 343,
    "start_time": "2023-07-27T10:59:47.515Z"
   },
   {
    "duration": 28,
    "start_time": "2023-07-27T10:59:47.860Z"
   },
   {
    "duration": 148,
    "start_time": "2023-07-27T10:59:47.889Z"
   },
   {
    "duration": 53,
    "start_time": "2023-07-27T10:59:48.039Z"
   },
   {
    "duration": 42,
    "start_time": "2023-07-27T10:59:48.094Z"
   },
   {
    "duration": 6,
    "start_time": "2023-07-27T10:59:48.137Z"
   },
   {
    "duration": 150,
    "start_time": "2023-07-27T10:59:48.144Z"
   },
   {
    "duration": 105,
    "start_time": "2023-07-27T10:59:48.296Z"
   },
   {
    "duration": 115,
    "start_time": "2023-07-27T10:59:48.403Z"
   },
   {
    "duration": 218,
    "start_time": "2023-07-27T10:59:48.519Z"
   },
   {
    "duration": 58,
    "start_time": "2023-07-27T10:59:48.739Z"
   },
   {
    "duration": 32,
    "start_time": "2023-07-27T10:59:48.799Z"
   },
   {
    "duration": 2,
    "start_time": "2023-07-27T10:59:48.833Z"
   },
   {
    "duration": 37,
    "start_time": "2023-07-27T10:59:48.837Z"
   },
   {
    "duration": 43,
    "start_time": "2023-07-27T10:59:48.876Z"
   },
   {
    "duration": 19,
    "start_time": "2023-07-27T10:59:48.920Z"
   },
   {
    "duration": 51,
    "start_time": "2023-07-27T10:59:48.944Z"
   },
   {
    "duration": 21,
    "start_time": "2023-07-27T10:59:48.996Z"
   },
   {
    "duration": 92,
    "start_time": "2023-07-27T10:59:49.019Z"
   },
   {
    "duration": 19,
    "start_time": "2023-07-27T10:59:49.114Z"
   },
   {
    "duration": 48,
    "start_time": "2023-07-27T10:59:49.135Z"
   },
   {
    "duration": 27,
    "start_time": "2023-07-27T10:59:49.185Z"
   },
   {
    "duration": 45,
    "start_time": "2023-07-27T10:59:49.213Z"
   },
   {
    "duration": 739,
    "start_time": "2023-07-27T10:59:49.270Z"
   },
   {
    "duration": 421,
    "start_time": "2023-07-27T10:59:50.011Z"
   },
   {
    "duration": 41,
    "start_time": "2023-07-27T10:59:50.434Z"
   },
   {
    "duration": 2,
    "start_time": "2023-07-27T10:59:50.477Z"
   },
   {
    "duration": 37,
    "start_time": "2023-07-27T10:59:50.481Z"
   },
   {
    "duration": 659,
    "start_time": "2023-07-27T10:59:50.520Z"
   },
   {
    "duration": 452,
    "start_time": "2023-07-27T10:59:51.181Z"
   },
   {
    "duration": 17,
    "start_time": "2023-07-27T10:59:51.635Z"
   },
   {
    "duration": 140,
    "start_time": "2023-07-27T10:59:51.653Z"
   },
   {
    "duration": 0,
    "start_time": "2023-07-27T10:59:51.795Z"
   },
   {
    "duration": 0,
    "start_time": "2023-07-27T10:59:51.796Z"
   },
   {
    "duration": 0,
    "start_time": "2023-07-27T10:59:51.797Z"
   },
   {
    "duration": 0,
    "start_time": "2023-07-27T10:59:51.798Z"
   },
   {
    "duration": 0,
    "start_time": "2023-07-27T10:59:51.799Z"
   },
   {
    "duration": 0,
    "start_time": "2023-07-27T10:59:51.801Z"
   },
   {
    "duration": 0,
    "start_time": "2023-07-27T10:59:51.802Z"
   },
   {
    "duration": 0,
    "start_time": "2023-07-27T10:59:51.803Z"
   },
   {
    "duration": 0,
    "start_time": "2023-07-27T10:59:51.804Z"
   },
   {
    "duration": 0,
    "start_time": "2023-07-27T10:59:51.806Z"
   },
   {
    "duration": 0,
    "start_time": "2023-07-27T10:59:51.807Z"
   },
   {
    "duration": 1720,
    "start_time": "2023-07-27T11:01:04.552Z"
   },
   {
    "duration": 3,
    "start_time": "2023-07-27T11:01:06.275Z"
   },
   {
    "duration": 946,
    "start_time": "2023-07-27T11:01:06.280Z"
   },
   {
    "duration": 146,
    "start_time": "2023-07-27T11:01:07.228Z"
   },
   {
    "duration": 140,
    "start_time": "2023-07-27T11:01:07.377Z"
   },
   {
    "duration": 137,
    "start_time": "2023-07-27T11:01:07.518Z"
   },
   {
    "duration": 101,
    "start_time": "2023-07-27T11:01:07.656Z"
   },
   {
    "duration": 178,
    "start_time": "2023-07-27T11:01:07.759Z"
   },
   {
    "duration": 33,
    "start_time": "2023-07-27T11:01:07.939Z"
   },
   {
    "duration": 15,
    "start_time": "2023-07-27T11:01:07.974Z"
   },
   {
    "duration": 2,
    "start_time": "2023-07-27T11:01:07.991Z"
   },
   {
    "duration": 171,
    "start_time": "2023-07-27T11:01:07.994Z"
   },
   {
    "duration": 23,
    "start_time": "2023-07-27T11:01:08.167Z"
   },
   {
    "duration": 149,
    "start_time": "2023-07-27T11:01:08.193Z"
   },
   {
    "duration": 54,
    "start_time": "2023-07-27T11:01:08.344Z"
   },
   {
    "duration": 42,
    "start_time": "2023-07-27T11:01:08.400Z"
   },
   {
    "duration": 18,
    "start_time": "2023-07-27T11:01:08.443Z"
   },
   {
    "duration": 209,
    "start_time": "2023-07-27T11:01:08.462Z"
   },
   {
    "duration": 25,
    "start_time": "2023-07-27T11:01:08.673Z"
   },
   {
    "duration": 141,
    "start_time": "2023-07-27T11:01:08.700Z"
   },
   {
    "duration": 228,
    "start_time": "2023-07-27T11:01:08.843Z"
   },
   {
    "duration": 49,
    "start_time": "2023-07-27T11:01:09.073Z"
   },
   {
    "duration": 49,
    "start_time": "2023-07-27T11:01:09.124Z"
   },
   {
    "duration": 2,
    "start_time": "2023-07-27T11:01:09.176Z"
   },
   {
    "duration": 59,
    "start_time": "2023-07-27T11:01:09.180Z"
   },
   {
    "duration": 66,
    "start_time": "2023-07-27T11:01:09.241Z"
   },
   {
    "duration": 23,
    "start_time": "2023-07-27T11:01:09.309Z"
   },
   {
    "duration": 46,
    "start_time": "2023-07-27T11:01:09.334Z"
   },
   {
    "duration": 21,
    "start_time": "2023-07-27T11:01:09.382Z"
   },
   {
    "duration": 113,
    "start_time": "2023-07-27T11:01:09.405Z"
   },
   {
    "duration": 19,
    "start_time": "2023-07-27T11:01:09.520Z"
   },
   {
    "duration": 82,
    "start_time": "2023-07-27T11:01:09.541Z"
   },
   {
    "duration": 27,
    "start_time": "2023-07-27T11:01:09.625Z"
   },
   {
    "duration": 55,
    "start_time": "2023-07-27T11:01:09.654Z"
   },
   {
    "duration": 726,
    "start_time": "2023-07-27T11:01:09.710Z"
   },
   {
    "duration": 398,
    "start_time": "2023-07-27T11:01:10.438Z"
   },
   {
    "duration": 45,
    "start_time": "2023-07-27T11:01:10.838Z"
   },
   {
    "duration": 3,
    "start_time": "2023-07-27T11:01:10.884Z"
   },
   {
    "duration": 48,
    "start_time": "2023-07-27T11:01:10.888Z"
   },
   {
    "duration": 632,
    "start_time": "2023-07-27T11:01:10.937Z"
   },
   {
    "duration": 445,
    "start_time": "2023-07-27T11:01:11.573Z"
   },
   {
    "duration": 18,
    "start_time": "2023-07-27T11:01:12.020Z"
   },
   {
    "duration": 482,
    "start_time": "2023-07-27T11:01:12.039Z"
   },
   {
    "duration": 462,
    "start_time": "2023-07-27T11:01:12.523Z"
   },
   {
    "duration": 182,
    "start_time": "2023-07-27T11:01:12.987Z"
   },
   {
    "duration": 683,
    "start_time": "2023-07-27T11:01:13.171Z"
   },
   {
    "duration": 579,
    "start_time": "2023-07-27T11:01:13.856Z"
   },
   {
    "duration": 23374,
    "start_time": "2023-07-27T11:01:14.436Z"
   },
   {
    "duration": 65,
    "start_time": "2023-07-27T11:01:37.812Z"
   },
   {
    "duration": 2293,
    "start_time": "2023-07-27T11:01:37.879Z"
   },
   {
    "duration": 303,
    "start_time": "2023-07-27T11:01:40.175Z"
   },
   {
    "duration": 12,
    "start_time": "2023-07-27T11:01:40.480Z"
   },
   {
    "duration": 0,
    "start_time": "2023-07-27T11:01:40.493Z"
   },
   {
    "duration": 0,
    "start_time": "2023-07-27T11:01:40.494Z"
   },
   {
    "duration": 1609,
    "start_time": "2023-07-27T11:15:45.277Z"
   },
   {
    "duration": 2,
    "start_time": "2023-07-27T11:15:46.888Z"
   },
   {
    "duration": 836,
    "start_time": "2023-07-27T11:15:46.892Z"
   },
   {
    "duration": 147,
    "start_time": "2023-07-27T11:15:47.730Z"
   },
   {
    "duration": 136,
    "start_time": "2023-07-27T11:15:47.879Z"
   },
   {
    "duration": 126,
    "start_time": "2023-07-27T11:15:48.017Z"
   },
   {
    "duration": 103,
    "start_time": "2023-07-27T11:15:48.145Z"
   },
   {
    "duration": 177,
    "start_time": "2023-07-27T11:15:48.250Z"
   },
   {
    "duration": 27,
    "start_time": "2023-07-27T11:15:48.428Z"
   },
   {
    "duration": 16,
    "start_time": "2023-07-27T11:15:48.470Z"
   },
   {
    "duration": 2,
    "start_time": "2023-07-27T11:15:48.488Z"
   },
   {
    "duration": 175,
    "start_time": "2023-07-27T11:15:48.492Z"
   },
   {
    "duration": 23,
    "start_time": "2023-07-27T11:15:48.671Z"
   },
   {
    "duration": 165,
    "start_time": "2023-07-27T11:15:48.695Z"
   },
   {
    "duration": 63,
    "start_time": "2023-07-27T11:15:48.862Z"
   },
   {
    "duration": 54,
    "start_time": "2023-07-27T11:15:48.929Z"
   },
   {
    "duration": 6,
    "start_time": "2023-07-27T11:15:48.984Z"
   },
   {
    "duration": 139,
    "start_time": "2023-07-27T11:15:48.991Z"
   },
   {
    "duration": 122,
    "start_time": "2023-07-27T11:15:49.132Z"
   },
   {
    "duration": 117,
    "start_time": "2023-07-27T11:15:49.255Z"
   },
   {
    "duration": 211,
    "start_time": "2023-07-27T11:15:49.374Z"
   },
   {
    "duration": 61,
    "start_time": "2023-07-27T11:15:49.587Z"
   },
   {
    "duration": 34,
    "start_time": "2023-07-27T11:15:49.650Z"
   },
   {
    "duration": 3,
    "start_time": "2023-07-27T11:15:49.685Z"
   },
   {
    "duration": 32,
    "start_time": "2023-07-27T11:15:49.689Z"
   },
   {
    "duration": 38,
    "start_time": "2023-07-27T11:15:49.722Z"
   },
   {
    "duration": 96,
    "start_time": "2023-07-27T11:15:49.762Z"
   },
   {
    "duration": 51,
    "start_time": "2023-07-27T11:15:49.861Z"
   },
   {
    "duration": 20,
    "start_time": "2023-07-27T11:15:49.914Z"
   },
   {
    "duration": 82,
    "start_time": "2023-07-27T11:15:49.935Z"
   },
   {
    "duration": 20,
    "start_time": "2023-07-27T11:15:50.019Z"
   },
   {
    "duration": 58,
    "start_time": "2023-07-27T11:15:50.041Z"
   },
   {
    "duration": 18,
    "start_time": "2023-07-27T11:15:50.101Z"
   },
   {
    "duration": 82,
    "start_time": "2023-07-27T11:15:50.120Z"
   },
   {
    "duration": 760,
    "start_time": "2023-07-27T11:15:50.204Z"
   },
   {
    "duration": 399,
    "start_time": "2023-07-27T11:15:50.965Z"
   },
   {
    "duration": 39,
    "start_time": "2023-07-27T11:15:51.365Z"
   },
   {
    "duration": 3,
    "start_time": "2023-07-27T11:15:51.405Z"
   },
   {
    "duration": 42,
    "start_time": "2023-07-27T11:15:51.409Z"
   },
   {
    "duration": 625,
    "start_time": "2023-07-27T11:15:51.453Z"
   },
   {
    "duration": 452,
    "start_time": "2023-07-27T11:15:52.080Z"
   },
   {
    "duration": 17,
    "start_time": "2023-07-27T11:15:52.533Z"
   },
   {
    "duration": 193,
    "start_time": "2023-07-27T11:15:52.552Z"
   },
   {
    "duration": 15229,
    "start_time": "2023-07-27T11:15:52.747Z"
   },
   {
    "duration": 203,
    "start_time": "2023-07-27T11:16:07.978Z"
   },
   {
    "duration": 35023,
    "start_time": "2023-07-27T11:16:08.270Z"
   },
   {
    "duration": 413,
    "start_time": "2023-07-27T11:16:43.295Z"
   },
   {
    "duration": 25752,
    "start_time": "2023-07-27T11:16:43.710Z"
   },
   {
    "duration": 137,
    "start_time": "2023-07-27T11:17:09.463Z"
   },
   {
    "duration": 5281,
    "start_time": "2023-07-27T11:17:09.601Z"
   },
   {
    "duration": 693,
    "start_time": "2023-07-27T11:17:14.883Z"
   },
   {
    "duration": 11,
    "start_time": "2023-07-27T11:17:15.577Z"
   },
   {
    "duration": 38,
    "start_time": "2023-07-27T11:17:15.590Z"
   },
   {
    "duration": 157,
    "start_time": "2023-07-27T11:17:15.630Z"
   },
   {
    "duration": 127,
    "start_time": "2023-07-27T11:37:31.888Z"
   },
   {
    "duration": 171,
    "start_time": "2023-07-27T11:41:14.720Z"
   },
   {
    "duration": 3847,
    "start_time": "2023-07-27T11:41:35.487Z"
   },
   {
    "duration": 2511,
    "start_time": "2023-07-27T11:41:59.297Z"
   },
   {
    "duration": 1567,
    "start_time": "2023-07-27T11:42:01.810Z"
   },
   {
    "duration": 2,
    "start_time": "2023-07-27T11:42:03.379Z"
   },
   {
    "duration": 865,
    "start_time": "2023-07-27T11:42:03.383Z"
   },
   {
    "duration": 153,
    "start_time": "2023-07-27T11:42:04.249Z"
   },
   {
    "duration": 134,
    "start_time": "2023-07-27T11:42:04.404Z"
   },
   {
    "duration": 133,
    "start_time": "2023-07-27T11:42:04.540Z"
   },
   {
    "duration": 100,
    "start_time": "2023-07-27T11:42:04.674Z"
   },
   {
    "duration": 189,
    "start_time": "2023-07-27T11:42:04.776Z"
   },
   {
    "duration": 24,
    "start_time": "2023-07-27T11:42:04.970Z"
   },
   {
    "duration": 16,
    "start_time": "2023-07-27T11:42:04.995Z"
   },
   {
    "duration": 3,
    "start_time": "2023-07-27T11:42:05.012Z"
   },
   {
    "duration": 184,
    "start_time": "2023-07-27T11:42:05.016Z"
   },
   {
    "duration": 23,
    "start_time": "2023-07-27T11:42:05.202Z"
   },
   {
    "duration": 145,
    "start_time": "2023-07-27T11:42:05.226Z"
   },
   {
    "duration": 47,
    "start_time": "2023-07-27T11:42:05.373Z"
   },
   {
    "duration": 53,
    "start_time": "2023-07-27T11:42:05.422Z"
   },
   {
    "duration": 6,
    "start_time": "2023-07-27T11:42:05.477Z"
   },
   {
    "duration": 158,
    "start_time": "2023-07-27T11:42:05.485Z"
   },
   {
    "duration": 105,
    "start_time": "2023-07-27T11:42:05.645Z"
   },
   {
    "duration": 110,
    "start_time": "2023-07-27T11:42:05.752Z"
   },
   {
    "duration": 192,
    "start_time": "2023-07-27T11:42:05.871Z"
   },
   {
    "duration": 50,
    "start_time": "2023-07-27T11:42:06.071Z"
   },
   {
    "duration": 27,
    "start_time": "2023-07-27T11:42:06.123Z"
   },
   {
    "duration": 19,
    "start_time": "2023-07-27T11:42:06.152Z"
   },
   {
    "duration": 21,
    "start_time": "2023-07-27T11:42:06.173Z"
   },
   {
    "duration": 32,
    "start_time": "2023-07-27T11:42:06.195Z"
   },
   {
    "duration": 41,
    "start_time": "2023-07-27T11:42:06.232Z"
   },
   {
    "duration": 42,
    "start_time": "2023-07-27T11:42:06.275Z"
   },
   {
    "duration": 19,
    "start_time": "2023-07-27T11:42:06.319Z"
   },
   {
    "duration": 88,
    "start_time": "2023-07-27T11:42:06.340Z"
   },
   {
    "duration": 18,
    "start_time": "2023-07-27T11:42:06.430Z"
   },
   {
    "duration": 62,
    "start_time": "2023-07-27T11:42:06.449Z"
   },
   {
    "duration": 18,
    "start_time": "2023-07-27T11:42:06.512Z"
   },
   {
    "duration": 54,
    "start_time": "2023-07-27T11:42:06.532Z"
   },
   {
    "duration": 766,
    "start_time": "2023-07-27T11:42:06.588Z"
   },
   {
    "duration": 401,
    "start_time": "2023-07-27T11:42:07.355Z"
   },
   {
    "duration": 35,
    "start_time": "2023-07-27T11:42:07.758Z"
   },
   {
    "duration": 2,
    "start_time": "2023-07-27T11:42:07.794Z"
   },
   {
    "duration": 44,
    "start_time": "2023-07-27T11:42:07.798Z"
   },
   {
    "duration": 632,
    "start_time": "2023-07-27T11:42:07.843Z"
   },
   {
    "duration": 455,
    "start_time": "2023-07-27T11:42:08.477Z"
   },
   {
    "duration": 16,
    "start_time": "2023-07-27T11:42:08.934Z"
   },
   {
    "duration": 190,
    "start_time": "2023-07-27T11:42:08.952Z"
   },
   {
    "duration": 20030,
    "start_time": "2023-07-27T11:42:09.144Z"
   },
   {
    "duration": 197,
    "start_time": "2023-07-27T11:42:29.176Z"
   },
   {
    "duration": 36033,
    "start_time": "2023-07-27T11:42:29.375Z"
   },
   {
    "duration": 416,
    "start_time": "2023-07-27T11:43:05.410Z"
   },
   {
    "duration": 26513,
    "start_time": "2023-07-27T11:43:05.828Z"
   },
   {
    "duration": 134,
    "start_time": "2023-07-27T11:43:32.343Z"
   },
   {
    "duration": 5901,
    "start_time": "2023-07-27T11:43:32.478Z"
   },
   {
    "duration": 607,
    "start_time": "2023-07-27T11:43:38.380Z"
   },
   {
    "duration": 10,
    "start_time": "2023-07-27T11:43:39.070Z"
   },
   {
    "duration": 11,
    "start_time": "2023-07-27T11:43:39.082Z"
   },
   {
    "duration": 168,
    "start_time": "2023-07-27T11:43:39.094Z"
   },
   {
    "duration": 2585,
    "start_time": "2023-07-27T11:55:10.977Z"
   },
   {
    "duration": 1883,
    "start_time": "2023-07-27T11:55:13.564Z"
   },
   {
    "duration": 2,
    "start_time": "2023-07-27T11:55:15.449Z"
   },
   {
    "duration": 900,
    "start_time": "2023-07-27T11:55:15.453Z"
   },
   {
    "duration": 166,
    "start_time": "2023-07-27T11:55:16.354Z"
   },
   {
    "duration": 175,
    "start_time": "2023-07-27T11:55:16.523Z"
   },
   {
    "duration": 145,
    "start_time": "2023-07-27T11:55:16.701Z"
   },
   {
    "duration": 108,
    "start_time": "2023-07-27T11:55:16.847Z"
   },
   {
    "duration": 179,
    "start_time": "2023-07-27T11:55:16.956Z"
   },
   {
    "duration": 26,
    "start_time": "2023-07-27T11:55:17.137Z"
   },
   {
    "duration": 88,
    "start_time": "2023-07-27T11:55:17.171Z"
   },
   {
    "duration": 11,
    "start_time": "2023-07-27T11:55:17.261Z"
   },
   {
    "duration": 182,
    "start_time": "2023-07-27T11:55:17.274Z"
   },
   {
    "duration": 29,
    "start_time": "2023-07-27T11:55:17.458Z"
   },
   {
    "duration": 142,
    "start_time": "2023-07-27T11:55:17.489Z"
   },
   {
    "duration": 53,
    "start_time": "2023-07-27T11:55:17.633Z"
   },
   {
    "duration": 51,
    "start_time": "2023-07-27T11:55:17.688Z"
   },
   {
    "duration": 30,
    "start_time": "2023-07-27T11:55:17.740Z"
   },
   {
    "duration": 131,
    "start_time": "2023-07-27T11:55:17.772Z"
   },
   {
    "duration": 28,
    "start_time": "2023-07-27T11:55:17.905Z"
   },
   {
    "duration": 137,
    "start_time": "2023-07-27T11:55:17.934Z"
   },
   {
    "duration": 195,
    "start_time": "2023-07-27T11:55:18.073Z"
   },
   {
    "duration": 79,
    "start_time": "2023-07-27T11:55:18.270Z"
   },
   {
    "duration": 29,
    "start_time": "2023-07-27T11:55:18.350Z"
   },
   {
    "duration": 2,
    "start_time": "2023-07-27T11:55:18.381Z"
   },
   {
    "duration": 45,
    "start_time": "2023-07-27T11:55:18.385Z"
   },
   {
    "duration": 64,
    "start_time": "2023-07-27T11:55:18.432Z"
   },
   {
    "duration": 28,
    "start_time": "2023-07-27T11:55:18.501Z"
   },
   {
    "duration": 61,
    "start_time": "2023-07-27T11:55:18.531Z"
   },
   {
    "duration": 21,
    "start_time": "2023-07-27T11:55:18.593Z"
   },
   {
    "duration": 97,
    "start_time": "2023-07-27T11:55:18.615Z"
   },
   {
    "duration": 21,
    "start_time": "2023-07-27T11:55:18.713Z"
   },
   {
    "duration": 69,
    "start_time": "2023-07-27T11:55:18.736Z"
   },
   {
    "duration": 29,
    "start_time": "2023-07-27T11:55:18.807Z"
   },
   {
    "duration": 71,
    "start_time": "2023-07-27T11:55:18.838Z"
   },
   {
    "duration": 748,
    "start_time": "2023-07-27T11:55:18.911Z"
   },
   {
    "duration": 393,
    "start_time": "2023-07-27T11:55:19.661Z"
   },
   {
    "duration": 38,
    "start_time": "2023-07-27T11:55:20.056Z"
   },
   {
    "duration": 6,
    "start_time": "2023-07-27T11:55:20.096Z"
   },
   {
    "duration": 58,
    "start_time": "2023-07-27T11:55:20.103Z"
   },
   {
    "duration": 618,
    "start_time": "2023-07-27T11:55:20.162Z"
   },
   {
    "duration": 450,
    "start_time": "2023-07-27T11:55:20.782Z"
   },
   {
    "duration": 16,
    "start_time": "2023-07-27T11:55:21.234Z"
   },
   {
    "duration": 207,
    "start_time": "2023-07-27T11:55:21.252Z"
   },
   {
    "duration": 17219,
    "start_time": "2023-07-27T11:55:21.460Z"
   },
   {
    "duration": 291,
    "start_time": "2023-07-27T11:55:38.681Z"
   },
   {
    "duration": 35113,
    "start_time": "2023-07-27T11:55:38.974Z"
   },
   {
    "duration": 400,
    "start_time": "2023-07-27T11:56:14.089Z"
   },
   {
    "duration": 25157,
    "start_time": "2023-07-27T11:56:14.491Z"
   },
   {
    "duration": 130,
    "start_time": "2023-07-27T11:56:39.650Z"
   },
   {
    "duration": 5092,
    "start_time": "2023-07-27T11:56:39.782Z"
   },
   {
    "duration": 608,
    "start_time": "2023-07-27T11:56:44.876Z"
   },
   {
    "duration": 9,
    "start_time": "2023-07-27T11:56:45.485Z"
   },
   {
    "duration": 15,
    "start_time": "2023-07-27T11:56:45.496Z"
   },
   {
    "duration": 189,
    "start_time": "2023-07-27T11:56:45.512Z"
   },
   {
    "duration": 2703,
    "start_time": "2023-07-27T12:13:48.857Z"
   },
   {
    "duration": 2715,
    "start_time": "2023-07-27T12:13:51.562Z"
   },
   {
    "duration": 2,
    "start_time": "2023-07-27T12:13:54.278Z"
   },
   {
    "duration": 850,
    "start_time": "2023-07-27T12:13:54.282Z"
   },
   {
    "duration": 151,
    "start_time": "2023-07-27T12:13:55.134Z"
   },
   {
    "duration": 144,
    "start_time": "2023-07-27T12:13:55.287Z"
   },
   {
    "duration": 143,
    "start_time": "2023-07-27T12:13:55.433Z"
   },
   {
    "duration": 106,
    "start_time": "2023-07-27T12:13:55.578Z"
   },
   {
    "duration": 180,
    "start_time": "2023-07-27T12:13:55.686Z"
   },
   {
    "duration": 27,
    "start_time": "2023-07-27T12:13:55.868Z"
   },
   {
    "duration": 112,
    "start_time": "2023-07-27T12:13:55.896Z"
   },
   {
    "duration": 3,
    "start_time": "2023-07-27T12:13:56.010Z"
   },
   {
    "duration": 252,
    "start_time": "2023-07-27T12:13:56.014Z"
   },
   {
    "duration": 24,
    "start_time": "2023-07-27T12:13:56.271Z"
   },
   {
    "duration": 167,
    "start_time": "2023-07-27T12:13:56.297Z"
   },
   {
    "duration": 45,
    "start_time": "2023-07-27T12:13:56.470Z"
   },
   {
    "duration": 69,
    "start_time": "2023-07-27T12:13:56.517Z"
   },
   {
    "duration": 7,
    "start_time": "2023-07-27T12:13:56.588Z"
   },
   {
    "duration": 158,
    "start_time": "2023-07-27T12:13:56.598Z"
   },
   {
    "duration": 40,
    "start_time": "2023-07-27T12:13:56.758Z"
   },
   {
    "duration": 158,
    "start_time": "2023-07-27T12:13:56.801Z"
   },
   {
    "duration": 195,
    "start_time": "2023-07-27T12:13:56.961Z"
   },
   {
    "duration": 53,
    "start_time": "2023-07-27T12:13:57.158Z"
   },
   {
    "duration": 25,
    "start_time": "2023-07-27T12:13:57.213Z"
   },
   {
    "duration": 2,
    "start_time": "2023-07-27T12:13:57.240Z"
   },
   {
    "duration": 38,
    "start_time": "2023-07-27T12:13:57.243Z"
   },
   {
    "duration": 31,
    "start_time": "2023-07-27T12:13:57.283Z"
   },
   {
    "duration": 35,
    "start_time": "2023-07-27T12:13:57.317Z"
   },
   {
    "duration": 35,
    "start_time": "2023-07-27T12:13:57.354Z"
   },
   {
    "duration": 20,
    "start_time": "2023-07-27T12:13:57.391Z"
   },
   {
    "duration": 87,
    "start_time": "2023-07-27T12:13:57.413Z"
   },
   {
    "duration": 18,
    "start_time": "2023-07-27T12:13:57.502Z"
   },
   {
    "duration": 33,
    "start_time": "2023-07-27T12:13:57.522Z"
   },
   {
    "duration": 32,
    "start_time": "2023-07-27T12:13:57.556Z"
   },
   {
    "duration": 36,
    "start_time": "2023-07-27T12:13:57.590Z"
   },
   {
    "duration": 688,
    "start_time": "2023-07-27T12:13:57.628Z"
   },
   {
    "duration": 377,
    "start_time": "2023-07-27T12:13:58.318Z"
   },
   {
    "duration": 35,
    "start_time": "2023-07-27T12:13:58.697Z"
   },
   {
    "duration": 168,
    "start_time": "2023-07-27T12:13:58.733Z"
   },
   {
    "duration": 0,
    "start_time": "2023-07-27T12:13:58.904Z"
   },
   {
    "duration": 0,
    "start_time": "2023-07-27T12:13:58.906Z"
   },
   {
    "duration": 0,
    "start_time": "2023-07-27T12:13:58.908Z"
   },
   {
    "duration": 0,
    "start_time": "2023-07-27T12:13:58.909Z"
   },
   {
    "duration": 0,
    "start_time": "2023-07-27T12:13:58.910Z"
   },
   {
    "duration": 0,
    "start_time": "2023-07-27T12:13:58.912Z"
   },
   {
    "duration": 0,
    "start_time": "2023-07-27T12:13:58.914Z"
   },
   {
    "duration": 0,
    "start_time": "2023-07-27T12:13:58.915Z"
   },
   {
    "duration": 0,
    "start_time": "2023-07-27T12:13:58.917Z"
   },
   {
    "duration": 0,
    "start_time": "2023-07-27T12:13:58.919Z"
   },
   {
    "duration": 0,
    "start_time": "2023-07-27T12:13:58.920Z"
   },
   {
    "duration": 0,
    "start_time": "2023-07-27T12:13:58.920Z"
   },
   {
    "duration": 0,
    "start_time": "2023-07-27T12:13:58.921Z"
   },
   {
    "duration": 0,
    "start_time": "2023-07-27T12:13:58.923Z"
   },
   {
    "duration": 0,
    "start_time": "2023-07-27T12:13:58.924Z"
   },
   {
    "duration": 0,
    "start_time": "2023-07-27T12:13:58.925Z"
   },
   {
    "duration": 81,
    "start_time": "2023-07-27T12:16:49.850Z"
   },
   {
    "duration": 2,
    "start_time": "2023-07-27T12:29:49.685Z"
   },
   {
    "duration": 3647,
    "start_time": "2023-07-27T12:30:51.892Z"
   },
   {
    "duration": 2077,
    "start_time": "2023-07-27T12:30:55.541Z"
   },
   {
    "duration": 3,
    "start_time": "2023-07-27T12:30:57.619Z"
   },
   {
    "duration": 854,
    "start_time": "2023-07-27T12:30:57.623Z"
   },
   {
    "duration": 135,
    "start_time": "2023-07-27T12:30:58.479Z"
   },
   {
    "duration": 143,
    "start_time": "2023-07-27T12:30:58.615Z"
   },
   {
    "duration": 151,
    "start_time": "2023-07-27T12:30:58.760Z"
   },
   {
    "duration": 108,
    "start_time": "2023-07-27T12:30:58.914Z"
   },
   {
    "duration": 179,
    "start_time": "2023-07-27T12:30:59.023Z"
   },
   {
    "duration": 25,
    "start_time": "2023-07-27T12:30:59.205Z"
   },
   {
    "duration": 99,
    "start_time": "2023-07-27T12:30:59.232Z"
   },
   {
    "duration": 2,
    "start_time": "2023-07-27T12:30:59.333Z"
   },
   {
    "duration": 171,
    "start_time": "2023-07-27T12:30:59.336Z"
   },
   {
    "duration": 22,
    "start_time": "2023-07-27T12:30:59.508Z"
   },
   {
    "duration": 145,
    "start_time": "2023-07-27T12:30:59.532Z"
   },
   {
    "duration": 49,
    "start_time": "2023-07-27T12:30:59.679Z"
   },
   {
    "duration": 62,
    "start_time": "2023-07-27T12:30:59.729Z"
   },
   {
    "duration": 10,
    "start_time": "2023-07-27T12:30:59.793Z"
   },
   {
    "duration": 146,
    "start_time": "2023-07-27T12:30:59.804Z"
   },
   {
    "duration": 37,
    "start_time": "2023-07-27T12:30:59.952Z"
   },
   {
    "duration": 139,
    "start_time": "2023-07-27T12:30:59.992Z"
   },
   {
    "duration": 193,
    "start_time": "2023-07-27T12:31:00.133Z"
   },
   {
    "duration": 74,
    "start_time": "2023-07-27T12:31:00.328Z"
   },
   {
    "duration": 27,
    "start_time": "2023-07-27T12:31:00.403Z"
   },
   {
    "duration": 8,
    "start_time": "2023-07-27T12:31:00.432Z"
   },
   {
    "duration": 46,
    "start_time": "2023-07-27T12:31:00.441Z"
   },
   {
    "duration": 67,
    "start_time": "2023-07-27T12:31:00.489Z"
   },
   {
    "duration": 38,
    "start_time": "2023-07-27T12:31:00.559Z"
   },
   {
    "duration": 72,
    "start_time": "2023-07-27T12:31:00.598Z"
   },
   {
    "duration": 32,
    "start_time": "2023-07-27T12:31:00.672Z"
   },
   {
    "duration": 103,
    "start_time": "2023-07-27T12:31:00.706Z"
   },
   {
    "duration": 20,
    "start_time": "2023-07-27T12:31:00.811Z"
   },
   {
    "duration": 74,
    "start_time": "2023-07-27T12:31:00.833Z"
   },
   {
    "duration": 91,
    "start_time": "2023-07-27T12:31:00.909Z"
   },
   {
    "duration": 69,
    "start_time": "2023-07-27T12:31:01.002Z"
   },
   {
    "duration": 686,
    "start_time": "2023-07-27T12:31:01.073Z"
   },
   {
    "duration": 350,
    "start_time": "2023-07-27T12:31:01.760Z"
   },
   {
    "duration": 37,
    "start_time": "2023-07-27T12:31:02.112Z"
   },
   {
    "duration": 2,
    "start_time": "2023-07-27T12:31:02.151Z"
   },
   {
    "duration": 39,
    "start_time": "2023-07-27T12:31:02.170Z"
   },
   {
    "duration": 640,
    "start_time": "2023-07-27T12:31:02.211Z"
   },
   {
    "duration": 443,
    "start_time": "2023-07-27T12:31:02.853Z"
   },
   {
    "duration": 17,
    "start_time": "2023-07-27T12:31:03.297Z"
   },
   {
    "duration": 185,
    "start_time": "2023-07-27T12:31:03.315Z"
   },
   {
    "duration": 16876,
    "start_time": "2023-07-27T12:31:03.501Z"
   },
   {
    "duration": 293,
    "start_time": "2023-07-27T12:31:20.379Z"
   },
   {
    "duration": 34860,
    "start_time": "2023-07-27T12:31:20.675Z"
   },
   {
    "duration": 407,
    "start_time": "2023-07-27T12:31:55.537Z"
   },
   {
    "duration": 26458,
    "start_time": "2023-07-27T12:31:55.946Z"
   },
   {
    "duration": 133,
    "start_time": "2023-07-27T12:32:22.405Z"
   },
   {
    "duration": 5732,
    "start_time": "2023-07-27T12:32:22.540Z"
   },
   {
    "duration": 602,
    "start_time": "2023-07-27T12:32:28.274Z"
   },
   {
    "duration": 12,
    "start_time": "2023-07-27T12:32:28.878Z"
   },
   {
    "duration": 10,
    "start_time": "2023-07-27T12:32:28.892Z"
   },
   {
    "duration": 150,
    "start_time": "2023-07-27T12:32:28.904Z"
   },
   {
    "duration": 3153,
    "start_time": "2023-07-27T20:07:48.814Z"
   },
   {
    "duration": 1720,
    "start_time": "2023-07-27T20:07:51.970Z"
   },
   {
    "duration": 2,
    "start_time": "2023-07-27T20:07:53.692Z"
   },
   {
    "duration": 2907,
    "start_time": "2023-07-27T20:07:53.696Z"
   },
   {
    "duration": 106,
    "start_time": "2023-07-27T20:07:56.606Z"
   },
   {
    "duration": 119,
    "start_time": "2023-07-27T20:07:56.714Z"
   },
   {
    "duration": 143,
    "start_time": "2023-07-27T20:07:56.835Z"
   },
   {
    "duration": 101,
    "start_time": "2023-07-27T20:07:56.979Z"
   },
   {
    "duration": 178,
    "start_time": "2023-07-27T20:07:57.082Z"
   },
   {
    "duration": 28,
    "start_time": "2023-07-27T20:07:57.261Z"
   },
   {
    "duration": 17,
    "start_time": "2023-07-27T20:07:57.291Z"
   },
   {
    "duration": 2,
    "start_time": "2023-07-27T20:07:57.310Z"
   },
   {
    "duration": 269,
    "start_time": "2023-07-27T20:07:57.314Z"
   },
   {
    "duration": 23,
    "start_time": "2023-07-27T20:07:57.586Z"
   },
   {
    "duration": 155,
    "start_time": "2023-07-27T20:07:57.611Z"
   },
   {
    "duration": 42,
    "start_time": "2023-07-27T20:07:57.767Z"
   },
   {
    "duration": 50,
    "start_time": "2023-07-27T20:07:57.810Z"
   },
   {
    "duration": 5,
    "start_time": "2023-07-27T20:07:57.862Z"
   },
   {
    "duration": 147,
    "start_time": "2023-07-27T20:07:57.869Z"
   },
   {
    "duration": 0,
    "start_time": "2023-07-27T20:07:58.019Z"
   },
   {
    "duration": 0,
    "start_time": "2023-07-27T20:07:58.020Z"
   },
   {
    "duration": 0,
    "start_time": "2023-07-27T20:07:58.021Z"
   },
   {
    "duration": 0,
    "start_time": "2023-07-27T20:07:58.022Z"
   },
   {
    "duration": 0,
    "start_time": "2023-07-27T20:07:58.024Z"
   },
   {
    "duration": 0,
    "start_time": "2023-07-27T20:07:58.026Z"
   },
   {
    "duration": 0,
    "start_time": "2023-07-27T20:07:58.027Z"
   },
   {
    "duration": 0,
    "start_time": "2023-07-27T20:07:58.028Z"
   },
   {
    "duration": 0,
    "start_time": "2023-07-27T20:07:58.030Z"
   },
   {
    "duration": 0,
    "start_time": "2023-07-27T20:07:58.031Z"
   },
   {
    "duration": 0,
    "start_time": "2023-07-27T20:07:58.033Z"
   },
   {
    "duration": 0,
    "start_time": "2023-07-27T20:07:58.060Z"
   },
   {
    "duration": 0,
    "start_time": "2023-07-27T20:07:58.061Z"
   },
   {
    "duration": 0,
    "start_time": "2023-07-27T20:07:58.062Z"
   },
   {
    "duration": 0,
    "start_time": "2023-07-27T20:07:58.064Z"
   },
   {
    "duration": 0,
    "start_time": "2023-07-27T20:07:58.065Z"
   },
   {
    "duration": 0,
    "start_time": "2023-07-27T20:07:58.066Z"
   },
   {
    "duration": 0,
    "start_time": "2023-07-27T20:07:58.068Z"
   },
   {
    "duration": 0,
    "start_time": "2023-07-27T20:07:58.069Z"
   },
   {
    "duration": 0,
    "start_time": "2023-07-27T20:07:58.070Z"
   },
   {
    "duration": 0,
    "start_time": "2023-07-27T20:07:58.071Z"
   },
   {
    "duration": 0,
    "start_time": "2023-07-27T20:07:58.072Z"
   },
   {
    "duration": 0,
    "start_time": "2023-07-27T20:07:58.073Z"
   },
   {
    "duration": 0,
    "start_time": "2023-07-27T20:07:58.074Z"
   },
   {
    "duration": 0,
    "start_time": "2023-07-27T20:07:58.075Z"
   },
   {
    "duration": 0,
    "start_time": "2023-07-27T20:07:58.076Z"
   },
   {
    "duration": 0,
    "start_time": "2023-07-27T20:07:58.077Z"
   },
   {
    "duration": 1,
    "start_time": "2023-07-27T20:07:58.078Z"
   },
   {
    "duration": 0,
    "start_time": "2023-07-27T20:07:58.080Z"
   },
   {
    "duration": 0,
    "start_time": "2023-07-27T20:07:58.080Z"
   },
   {
    "duration": 0,
    "start_time": "2023-07-27T20:07:58.081Z"
   },
   {
    "duration": 0,
    "start_time": "2023-07-27T20:07:58.082Z"
   },
   {
    "duration": 0,
    "start_time": "2023-07-27T20:07:58.083Z"
   },
   {
    "duration": 0,
    "start_time": "2023-07-27T20:07:58.085Z"
   },
   {
    "duration": 0,
    "start_time": "2023-07-27T20:07:58.086Z"
   },
   {
    "duration": 0,
    "start_time": "2023-07-27T20:07:58.087Z"
   },
   {
    "duration": 126,
    "start_time": "2023-07-27T20:08:37.367Z"
   },
   {
    "duration": 2171,
    "start_time": "2023-07-27T20:18:25.968Z"
   },
   {
    "duration": 1579,
    "start_time": "2023-07-27T20:18:28.142Z"
   },
   {
    "duration": 2,
    "start_time": "2023-07-27T20:18:29.723Z"
   },
   {
    "duration": 891,
    "start_time": "2023-07-27T20:18:29.727Z"
   },
   {
    "duration": 117,
    "start_time": "2023-07-27T20:18:30.620Z"
   },
   {
    "duration": 167,
    "start_time": "2023-07-27T20:18:30.739Z"
   },
   {
    "duration": 173,
    "start_time": "2023-07-27T20:18:30.908Z"
   },
   {
    "duration": 111,
    "start_time": "2023-07-27T20:18:31.083Z"
   },
   {
    "duration": 193,
    "start_time": "2023-07-27T20:18:31.196Z"
   },
   {
    "duration": 26,
    "start_time": "2023-07-27T20:18:31.392Z"
   },
   {
    "duration": 130,
    "start_time": "2023-07-27T20:18:31.420Z"
   },
   {
    "duration": 1,
    "start_time": "2023-07-27T20:18:31.552Z"
   },
   {
    "duration": 183,
    "start_time": "2023-07-27T20:18:31.555Z"
   },
   {
    "duration": 37,
    "start_time": "2023-07-27T20:18:31.740Z"
   },
   {
    "duration": 158,
    "start_time": "2023-07-27T20:18:31.779Z"
   },
   {
    "duration": 53,
    "start_time": "2023-07-27T20:18:31.938Z"
   },
   {
    "duration": 34,
    "start_time": "2023-07-27T20:18:31.993Z"
   },
   {
    "duration": 33,
    "start_time": "2023-07-27T20:18:32.029Z"
   },
   {
    "duration": 182,
    "start_time": "2023-07-27T20:18:32.064Z"
   },
   {
    "duration": 36,
    "start_time": "2023-07-27T20:18:32.248Z"
   },
   {
    "duration": 145,
    "start_time": "2023-07-27T20:18:32.285Z"
   },
   {
    "duration": 205,
    "start_time": "2023-07-27T20:18:32.432Z"
   },
   {
    "duration": 68,
    "start_time": "2023-07-27T20:18:32.639Z"
   },
   {
    "duration": 27,
    "start_time": "2023-07-27T20:18:32.708Z"
   },
   {
    "duration": 3,
    "start_time": "2023-07-27T20:18:32.736Z"
   },
   {
    "duration": 45,
    "start_time": "2023-07-27T20:18:32.740Z"
   },
   {
    "duration": 34,
    "start_time": "2023-07-27T20:18:32.787Z"
   },
   {
    "duration": 17,
    "start_time": "2023-07-27T20:18:32.824Z"
   },
   {
    "duration": 52,
    "start_time": "2023-07-27T20:18:32.843Z"
   },
   {
    "duration": 20,
    "start_time": "2023-07-27T20:18:32.896Z"
   },
   {
    "duration": 96,
    "start_time": "2023-07-27T20:18:32.918Z"
   },
   {
    "duration": 20,
    "start_time": "2023-07-27T20:18:33.015Z"
   },
   {
    "duration": 60,
    "start_time": "2023-07-27T20:18:33.037Z"
   },
   {
    "duration": 35,
    "start_time": "2023-07-27T20:18:33.099Z"
   },
   {
    "duration": 65,
    "start_time": "2023-07-27T20:18:33.136Z"
   },
   {
    "duration": 739,
    "start_time": "2023-07-27T20:18:33.203Z"
   },
   {
    "duration": 475,
    "start_time": "2023-07-27T20:18:33.944Z"
   },
   {
    "duration": 53,
    "start_time": "2023-07-27T20:18:34.421Z"
   },
   {
    "duration": 2,
    "start_time": "2023-07-27T20:18:34.476Z"
   },
   {
    "duration": 40,
    "start_time": "2023-07-27T20:18:34.480Z"
   },
   {
    "duration": 805,
    "start_time": "2023-07-27T20:18:34.522Z"
   },
   {
    "duration": 505,
    "start_time": "2023-07-27T20:18:35.329Z"
   },
   {
    "duration": 25,
    "start_time": "2023-07-27T20:18:35.835Z"
   },
   {
    "duration": 202,
    "start_time": "2023-07-27T20:18:35.862Z"
   },
   {
    "duration": 52698,
    "start_time": "2023-07-27T20:18:36.066Z"
   },
   {
    "duration": 203,
    "start_time": "2023-07-27T20:19:28.772Z"
   },
   {
    "duration": 41278,
    "start_time": "2023-07-27T20:19:28.981Z"
   },
   {
    "duration": 460,
    "start_time": "2023-07-27T20:20:10.261Z"
   },
   {
    "duration": 27319,
    "start_time": "2023-07-27T20:20:10.723Z"
   },
   {
    "duration": 164,
    "start_time": "2023-07-27T20:20:38.044Z"
   },
   {
    "duration": 59661,
    "start_time": "2023-07-27T20:20:38.209Z"
   },
   {
    "duration": 688,
    "start_time": "2023-07-27T20:21:37.872Z"
   },
   {
    "duration": 15,
    "start_time": "2023-07-27T20:21:38.566Z"
   },
   {
    "duration": 7,
    "start_time": "2023-07-27T20:21:38.582Z"
   },
   {
    "duration": 164,
    "start_time": "2023-07-27T20:21:38.590Z"
   },
   {
    "duration": 3207,
    "start_time": "2023-07-28T08:50:12.553Z"
   },
   {
    "duration": 2443,
    "start_time": "2023-07-28T08:50:15.762Z"
   },
   {
    "duration": 3,
    "start_time": "2023-07-28T08:50:18.207Z"
   },
   {
    "duration": 1053,
    "start_time": "2023-07-28T08:50:18.212Z"
   },
   {
    "duration": 115,
    "start_time": "2023-07-28T08:50:19.267Z"
   },
   {
    "duration": 115,
    "start_time": "2023-07-28T08:50:19.384Z"
   },
   {
    "duration": 141,
    "start_time": "2023-07-28T08:50:19.501Z"
   },
   {
    "duration": 95,
    "start_time": "2023-07-28T08:50:19.644Z"
   },
   {
    "duration": 169,
    "start_time": "2023-07-28T08:50:19.740Z"
   },
   {
    "duration": 23,
    "start_time": "2023-07-28T08:50:19.911Z"
   },
   {
    "duration": 13,
    "start_time": "2023-07-28T08:50:19.936Z"
   },
   {
    "duration": 10,
    "start_time": "2023-07-28T08:50:19.951Z"
   },
   {
    "duration": 232,
    "start_time": "2023-07-28T08:50:19.962Z"
   },
   {
    "duration": 19,
    "start_time": "2023-07-28T08:50:20.199Z"
   },
   {
    "duration": 138,
    "start_time": "2023-07-28T08:50:20.220Z"
   },
   {
    "duration": 45,
    "start_time": "2023-07-28T08:50:20.360Z"
   },
   {
    "duration": 48,
    "start_time": "2023-07-28T08:50:20.407Z"
   },
   {
    "duration": 5,
    "start_time": "2023-07-28T08:50:20.457Z"
   },
   {
    "duration": 146,
    "start_time": "2023-07-28T08:50:20.463Z"
   },
   {
    "duration": 29,
    "start_time": "2023-07-28T08:50:20.610Z"
   },
   {
    "duration": 131,
    "start_time": "2023-07-28T08:50:20.641Z"
   },
   {
    "duration": 240,
    "start_time": "2023-07-28T08:50:20.773Z"
   },
   {
    "duration": 47,
    "start_time": "2023-07-28T08:50:21.015Z"
   },
   {
    "duration": 19,
    "start_time": "2023-07-28T08:50:21.064Z"
   },
   {
    "duration": 2,
    "start_time": "2023-07-28T08:50:21.085Z"
   },
   {
    "duration": 37,
    "start_time": "2023-07-28T08:50:21.101Z"
   },
   {
    "duration": 53,
    "start_time": "2023-07-28T08:50:21.140Z"
   },
   {
    "duration": 15,
    "start_time": "2023-07-28T08:50:21.195Z"
   },
   {
    "duration": 44,
    "start_time": "2023-07-28T08:50:21.212Z"
   },
   {
    "duration": 18,
    "start_time": "2023-07-28T08:50:21.258Z"
   },
   {
    "duration": 77,
    "start_time": "2023-07-28T08:50:21.277Z"
   },
   {
    "duration": 17,
    "start_time": "2023-07-28T08:50:21.356Z"
   },
   {
    "duration": 47,
    "start_time": "2023-07-28T08:50:21.375Z"
   },
   {
    "duration": 16,
    "start_time": "2023-07-28T08:50:21.424Z"
   },
   {
    "duration": 34,
    "start_time": "2023-07-28T08:50:21.441Z"
   },
   {
    "duration": 651,
    "start_time": "2023-07-28T08:50:21.476Z"
   },
   {
    "duration": 349,
    "start_time": "2023-07-28T08:50:22.128Z"
   },
   {
    "duration": 41,
    "start_time": "2023-07-28T08:50:22.479Z"
   },
   {
    "duration": 3,
    "start_time": "2023-07-28T08:50:22.521Z"
   },
   {
    "duration": 38,
    "start_time": "2023-07-28T08:50:22.525Z"
   },
   {
    "duration": 470,
    "start_time": "2023-07-28T08:50:22.567Z"
   },
   {
    "duration": 342,
    "start_time": "2023-07-28T08:50:23.039Z"
   },
   {
    "duration": 23,
    "start_time": "2023-07-28T08:50:23.383Z"
   },
   {
    "duration": 179,
    "start_time": "2023-07-28T08:50:23.408Z"
   },
   {
    "duration": 16717,
    "start_time": "2023-07-28T08:50:23.588Z"
   },
   {
    "duration": 199,
    "start_time": "2023-07-28T08:50:40.307Z"
   },
   {
    "duration": 28323,
    "start_time": "2023-07-28T08:50:40.508Z"
   },
   {
    "duration": 362,
    "start_time": "2023-07-28T08:51:08.833Z"
   },
   {
    "duration": 26911,
    "start_time": "2023-07-28T08:51:09.199Z"
   },
   {
    "duration": 129,
    "start_time": "2023-07-28T08:51:36.112Z"
   },
   {
    "duration": 2357,
    "start_time": "2023-07-28T09:01:52.934Z"
   },
   {
    "duration": 1710,
    "start_time": "2023-07-28T09:01:55.293Z"
   },
   {
    "duration": 3,
    "start_time": "2023-07-28T09:01:57.004Z"
   },
   {
    "duration": 863,
    "start_time": "2023-07-28T09:01:57.008Z"
   },
   {
    "duration": 110,
    "start_time": "2023-07-28T09:01:57.872Z"
   },
   {
    "duration": 118,
    "start_time": "2023-07-28T09:01:57.984Z"
   },
   {
    "duration": 136,
    "start_time": "2023-07-28T09:01:58.103Z"
   },
   {
    "duration": 89,
    "start_time": "2023-07-28T09:01:58.240Z"
   },
   {
    "duration": 154,
    "start_time": "2023-07-28T09:01:58.330Z"
   },
   {
    "duration": 27,
    "start_time": "2023-07-28T09:01:58.486Z"
   },
   {
    "duration": 72,
    "start_time": "2023-07-28T09:01:58.514Z"
   },
   {
    "duration": 2,
    "start_time": "2023-07-28T09:01:58.588Z"
   },
   {
    "duration": 152,
    "start_time": "2023-07-28T09:01:58.591Z"
   },
   {
    "duration": 18,
    "start_time": "2023-07-28T09:01:58.745Z"
   },
   {
    "duration": 160,
    "start_time": "2023-07-28T09:01:58.764Z"
   },
   {
    "duration": 40,
    "start_time": "2023-07-28T09:01:58.926Z"
   },
   {
    "duration": 70,
    "start_time": "2023-07-28T09:01:58.968Z"
   },
   {
    "duration": 32,
    "start_time": "2023-07-28T09:01:59.039Z"
   },
   {
    "duration": 1481,
    "start_time": "2023-07-28T09:01:59.072Z"
   },
   {
    "duration": 1,
    "start_time": "2023-07-28T09:02:00.555Z"
   },
   {
    "duration": 0,
    "start_time": "2023-07-28T09:02:00.557Z"
   },
   {
    "duration": 0,
    "start_time": "2023-07-28T09:02:00.558Z"
   },
   {
    "duration": 0,
    "start_time": "2023-07-28T09:02:00.559Z"
   },
   {
    "duration": 0,
    "start_time": "2023-07-28T09:02:00.560Z"
   },
   {
    "duration": 0,
    "start_time": "2023-07-28T09:02:00.562Z"
   },
   {
    "duration": 0,
    "start_time": "2023-07-28T09:02:00.563Z"
   },
   {
    "duration": 0,
    "start_time": "2023-07-28T09:02:00.565Z"
   },
   {
    "duration": 0,
    "start_time": "2023-07-28T09:02:00.567Z"
   },
   {
    "duration": 0,
    "start_time": "2023-07-28T09:02:00.568Z"
   },
   {
    "duration": 0,
    "start_time": "2023-07-28T09:02:00.569Z"
   },
   {
    "duration": 0,
    "start_time": "2023-07-28T09:02:00.570Z"
   },
   {
    "duration": 0,
    "start_time": "2023-07-28T09:02:00.571Z"
   },
   {
    "duration": 0,
    "start_time": "2023-07-28T09:02:00.571Z"
   },
   {
    "duration": 0,
    "start_time": "2023-07-28T09:02:00.572Z"
   },
   {
    "duration": 0,
    "start_time": "2023-07-28T09:02:00.573Z"
   },
   {
    "duration": 0,
    "start_time": "2023-07-28T09:02:00.574Z"
   },
   {
    "duration": 0,
    "start_time": "2023-07-28T09:02:00.574Z"
   },
   {
    "duration": 0,
    "start_time": "2023-07-28T09:02:00.575Z"
   },
   {
    "duration": 0,
    "start_time": "2023-07-28T09:02:00.576Z"
   },
   {
    "duration": 0,
    "start_time": "2023-07-28T09:02:00.577Z"
   },
   {
    "duration": 0,
    "start_time": "2023-07-28T09:02:00.578Z"
   },
   {
    "duration": 0,
    "start_time": "2023-07-28T09:02:00.579Z"
   },
   {
    "duration": 0,
    "start_time": "2023-07-28T09:02:00.579Z"
   },
   {
    "duration": 0,
    "start_time": "2023-07-28T09:02:00.580Z"
   },
   {
    "duration": 0,
    "start_time": "2023-07-28T09:02:00.581Z"
   },
   {
    "duration": 0,
    "start_time": "2023-07-28T09:02:00.582Z"
   },
   {
    "duration": 0,
    "start_time": "2023-07-28T09:02:00.583Z"
   },
   {
    "duration": 0,
    "start_time": "2023-07-28T09:02:00.584Z"
   },
   {
    "duration": 0,
    "start_time": "2023-07-28T09:02:00.585Z"
   },
   {
    "duration": 0,
    "start_time": "2023-07-28T09:02:00.586Z"
   },
   {
    "duration": 0,
    "start_time": "2023-07-28T09:02:00.587Z"
   },
   {
    "duration": 0,
    "start_time": "2023-07-28T09:02:00.588Z"
   },
   {
    "duration": 0,
    "start_time": "2023-07-28T09:02:00.589Z"
   },
   {
    "duration": 0,
    "start_time": "2023-07-28T09:02:00.590Z"
   },
   {
    "duration": 0,
    "start_time": "2023-07-28T09:02:00.590Z"
   },
   {
    "duration": 1414,
    "start_time": "2023-07-28T09:03:01.191Z"
   },
   {
    "duration": 1345,
    "start_time": "2023-07-28T09:03:20.006Z"
   },
   {
    "duration": 3938,
    "start_time": "2023-07-28T09:14:15.327Z"
   },
   {
    "duration": 50,
    "start_time": "2023-07-28T09:16:55.618Z"
   },
   {
    "duration": 52,
    "start_time": "2023-07-28T09:17:15.064Z"
   },
   {
    "duration": 3440,
    "start_time": "2023-07-28T09:20:03.628Z"
   },
   {
    "duration": 18,
    "start_time": "2023-07-28T09:25:56.038Z"
   },
   {
    "duration": 277,
    "start_time": "2023-07-28T09:28:44.723Z"
   },
   {
    "duration": 2268,
    "start_time": "2023-07-28T09:28:54.015Z"
   },
   {
    "duration": 1821,
    "start_time": "2023-07-28T09:28:56.286Z"
   },
   {
    "duration": 2,
    "start_time": "2023-07-28T09:28:58.109Z"
   },
   {
    "duration": 833,
    "start_time": "2023-07-28T09:28:58.113Z"
   },
   {
    "duration": 123,
    "start_time": "2023-07-28T09:28:58.947Z"
   },
   {
    "duration": 116,
    "start_time": "2023-07-28T09:28:59.071Z"
   },
   {
    "duration": 141,
    "start_time": "2023-07-28T09:28:59.188Z"
   },
   {
    "duration": 107,
    "start_time": "2023-07-28T09:28:59.330Z"
   },
   {
    "duration": 180,
    "start_time": "2023-07-28T09:28:59.439Z"
   },
   {
    "duration": 22,
    "start_time": "2023-07-28T09:28:59.621Z"
   },
   {
    "duration": 91,
    "start_time": "2023-07-28T09:28:59.644Z"
   },
   {
    "duration": 2,
    "start_time": "2023-07-28T09:28:59.737Z"
   },
   {
    "duration": 174,
    "start_time": "2023-07-28T09:28:59.740Z"
   },
   {
    "duration": 20,
    "start_time": "2023-07-28T09:28:59.916Z"
   },
   {
    "duration": 150,
    "start_time": "2023-07-28T09:28:59.938Z"
   },
   {
    "duration": 50,
    "start_time": "2023-07-28T09:29:00.090Z"
   },
   {
    "duration": 81,
    "start_time": "2023-07-28T09:29:00.142Z"
   },
   {
    "duration": 54,
    "start_time": "2023-07-28T09:29:00.225Z"
   },
   {
    "duration": 196,
    "start_time": "2023-07-28T09:29:00.281Z"
   },
   {
    "duration": 28,
    "start_time": "2023-07-28T09:29:00.479Z"
   },
   {
    "duration": 124,
    "start_time": "2023-07-28T09:29:00.508Z"
   },
   {
    "duration": 238,
    "start_time": "2023-07-28T09:29:00.633Z"
   },
   {
    "duration": 83,
    "start_time": "2023-07-28T09:29:00.873Z"
   },
   {
    "duration": 18,
    "start_time": "2023-07-28T09:29:00.957Z"
   },
   {
    "duration": 23,
    "start_time": "2023-07-28T09:29:00.976Z"
   },
   {
    "duration": 93,
    "start_time": "2023-07-28T09:29:01.000Z"
   },
   {
    "duration": 98,
    "start_time": "2023-07-28T09:29:01.094Z"
   },
   {
    "duration": 41,
    "start_time": "2023-07-28T09:29:01.197Z"
   },
   {
    "duration": 71,
    "start_time": "2023-07-28T09:29:01.240Z"
   },
   {
    "duration": 42,
    "start_time": "2023-07-28T09:29:01.313Z"
   },
   {
    "duration": 91,
    "start_time": "2023-07-28T09:29:01.357Z"
   },
   {
    "duration": 16,
    "start_time": "2023-07-28T09:29:01.450Z"
   },
   {
    "duration": 87,
    "start_time": "2023-07-28T09:29:01.468Z"
   },
   {
    "duration": 83,
    "start_time": "2023-07-28T09:29:01.557Z"
   },
   {
    "duration": 98,
    "start_time": "2023-07-28T09:29:01.642Z"
   },
   {
    "duration": 712,
    "start_time": "2023-07-28T09:29:01.741Z"
   },
   {
    "duration": 365,
    "start_time": "2023-07-28T09:29:02.454Z"
   },
   {
    "duration": 37,
    "start_time": "2023-07-28T09:29:02.821Z"
   },
   {
    "duration": 3,
    "start_time": "2023-07-28T09:29:02.860Z"
   },
   {
    "duration": 56,
    "start_time": "2023-07-28T09:29:02.864Z"
   },
   {
    "duration": 460,
    "start_time": "2023-07-28T09:29:02.922Z"
   },
   {
    "duration": 365,
    "start_time": "2023-07-28T09:29:03.384Z"
   },
   {
    "duration": 16,
    "start_time": "2023-07-28T09:29:03.751Z"
   },
   {
    "duration": 189,
    "start_time": "2023-07-28T09:29:03.768Z"
   },
   {
    "duration": 21448,
    "start_time": "2023-07-28T09:29:03.959Z"
   },
   {
    "duration": 197,
    "start_time": "2023-07-28T09:29:25.409Z"
   },
   {
    "duration": 28956,
    "start_time": "2023-07-28T09:29:25.608Z"
   },
   {
    "duration": 364,
    "start_time": "2023-07-28T09:29:54.566Z"
   },
   {
    "duration": 27271,
    "start_time": "2023-07-28T09:29:54.932Z"
   },
   {
    "duration": 125,
    "start_time": "2023-07-28T09:30:22.204Z"
   },
   {
    "duration": 953168,
    "start_time": "2023-07-28T09:30:22.331Z"
   },
   {
    "duration": 624,
    "start_time": "2023-07-28T09:46:15.501Z"
   },
   {
    "duration": 14,
    "start_time": "2023-07-28T09:46:16.200Z"
   },
   {
    "duration": 30,
    "start_time": "2023-07-28T09:46:16.215Z"
   },
   {
    "duration": 127,
    "start_time": "2023-07-28T09:46:16.247Z"
   },
   {
    "duration": 2378,
    "start_time": "2023-07-28T10:02:00.490Z"
   },
   {
    "duration": 1612,
    "start_time": "2023-07-28T10:02:02.870Z"
   },
   {
    "duration": 2,
    "start_time": "2023-07-28T10:02:04.484Z"
   },
   {
    "duration": 766,
    "start_time": "2023-07-28T10:02:04.487Z"
   },
   {
    "duration": 131,
    "start_time": "2023-07-28T10:02:05.256Z"
   },
   {
    "duration": 125,
    "start_time": "2023-07-28T10:02:05.389Z"
   },
   {
    "duration": 134,
    "start_time": "2023-07-28T10:02:05.516Z"
   },
   {
    "duration": 101,
    "start_time": "2023-07-28T10:02:05.651Z"
   },
   {
    "duration": 167,
    "start_time": "2023-07-28T10:02:05.753Z"
   },
   {
    "duration": 23,
    "start_time": "2023-07-28T10:02:05.922Z"
   },
   {
    "duration": 86,
    "start_time": "2023-07-28T10:02:05.948Z"
   },
   {
    "duration": 58,
    "start_time": "2023-07-28T10:02:06.036Z"
   },
   {
    "duration": 244,
    "start_time": "2023-07-28T10:02:06.096Z"
   },
   {
    "duration": 22,
    "start_time": "2023-07-28T10:02:06.344Z"
   },
   {
    "duration": 157,
    "start_time": "2023-07-28T10:02:06.368Z"
   },
   {
    "duration": 42,
    "start_time": "2023-07-28T10:02:06.527Z"
   },
   {
    "duration": 52,
    "start_time": "2023-07-28T10:02:06.571Z"
   },
   {
    "duration": 7,
    "start_time": "2023-07-28T10:02:06.625Z"
   },
   {
    "duration": 179,
    "start_time": "2023-07-28T10:02:06.633Z"
   },
   {
    "duration": 30,
    "start_time": "2023-07-28T10:02:06.814Z"
   },
   {
    "duration": 135,
    "start_time": "2023-07-28T10:02:06.845Z"
   },
   {
    "duration": 202,
    "start_time": "2023-07-28T10:02:06.982Z"
   },
   {
    "duration": 60,
    "start_time": "2023-07-28T10:02:07.186Z"
   },
   {
    "duration": 26,
    "start_time": "2023-07-28T10:02:07.248Z"
   },
   {
    "duration": 21,
    "start_time": "2023-07-28T10:02:07.275Z"
   },
   {
    "duration": 94,
    "start_time": "2023-07-28T10:02:07.297Z"
   },
   {
    "duration": 59,
    "start_time": "2023-07-28T10:02:07.393Z"
   },
   {
    "duration": 45,
    "start_time": "2023-07-28T10:02:07.453Z"
   },
   {
    "duration": 65,
    "start_time": "2023-07-28T10:02:07.500Z"
   },
   {
    "duration": 34,
    "start_time": "2023-07-28T10:02:07.567Z"
   },
   {
    "duration": 92,
    "start_time": "2023-07-28T10:02:07.602Z"
   },
   {
    "duration": 16,
    "start_time": "2023-07-28T10:02:07.695Z"
   },
   {
    "duration": 48,
    "start_time": "2023-07-28T10:02:07.712Z"
   },
   {
    "duration": 24,
    "start_time": "2023-07-28T10:02:07.761Z"
   },
   {
    "duration": 49,
    "start_time": "2023-07-28T10:02:07.786Z"
   },
   {
    "duration": 636,
    "start_time": "2023-07-28T10:02:07.836Z"
   },
   {
    "duration": 354,
    "start_time": "2023-07-28T10:02:08.474Z"
   },
   {
    "duration": 33,
    "start_time": "2023-07-28T10:02:08.829Z"
   },
   {
    "duration": 2,
    "start_time": "2023-07-28T10:02:08.863Z"
   },
   {
    "duration": 76,
    "start_time": "2023-07-28T10:02:08.867Z"
   },
   {
    "duration": 117,
    "start_time": "2023-07-28T10:02:08.947Z"
   },
   {
    "duration": 46,
    "start_time": "2023-07-28T10:02:09.065Z"
   },
   {
    "duration": 133,
    "start_time": "2023-07-28T10:02:09.113Z"
   },
   {
    "duration": 0,
    "start_time": "2023-07-28T10:02:09.248Z"
   },
   {
    "duration": 0,
    "start_time": "2023-07-28T10:02:09.249Z"
   },
   {
    "duration": 1,
    "start_time": "2023-07-28T10:02:09.249Z"
   },
   {
    "duration": 0,
    "start_time": "2023-07-28T10:02:09.250Z"
   },
   {
    "duration": 0,
    "start_time": "2023-07-28T10:02:09.251Z"
   },
   {
    "duration": 0,
    "start_time": "2023-07-28T10:02:09.252Z"
   },
   {
    "duration": 0,
    "start_time": "2023-07-28T10:02:09.253Z"
   },
   {
    "duration": 0,
    "start_time": "2023-07-28T10:02:09.254Z"
   },
   {
    "duration": 0,
    "start_time": "2023-07-28T10:02:09.254Z"
   },
   {
    "duration": 0,
    "start_time": "2023-07-28T10:02:09.255Z"
   },
   {
    "duration": 0,
    "start_time": "2023-07-28T10:02:09.256Z"
   },
   {
    "duration": 0,
    "start_time": "2023-07-28T10:02:09.257Z"
   },
   {
    "duration": 0,
    "start_time": "2023-07-28T10:02:09.258Z"
   },
   {
    "duration": 2192,
    "start_time": "2023-07-28T10:18:55.269Z"
   },
   {
    "duration": 1529,
    "start_time": "2023-07-28T10:18:57.463Z"
   },
   {
    "duration": 2,
    "start_time": "2023-07-28T10:18:58.993Z"
   },
   {
    "duration": 770,
    "start_time": "2023-07-28T10:18:58.997Z"
   },
   {
    "duration": 112,
    "start_time": "2023-07-28T10:18:59.770Z"
   },
   {
    "duration": 119,
    "start_time": "2023-07-28T10:18:59.884Z"
   },
   {
    "duration": 136,
    "start_time": "2023-07-28T10:19:00.005Z"
   },
   {
    "duration": 102,
    "start_time": "2023-07-28T10:19:00.142Z"
   },
   {
    "duration": 179,
    "start_time": "2023-07-28T10:19:00.246Z"
   },
   {
    "duration": 22,
    "start_time": "2023-07-28T10:19:00.427Z"
   },
   {
    "duration": 42,
    "start_time": "2023-07-28T10:19:00.450Z"
   },
   {
    "duration": 42,
    "start_time": "2023-07-28T10:19:00.494Z"
   },
   {
    "duration": 225,
    "start_time": "2023-07-28T10:19:00.537Z"
   },
   {
    "duration": 19,
    "start_time": "2023-07-28T10:19:00.765Z"
   },
   {
    "duration": 214,
    "start_time": "2023-07-28T10:19:00.786Z"
   },
   {
    "duration": 43,
    "start_time": "2023-07-28T10:19:01.002Z"
   },
   {
    "duration": 76,
    "start_time": "2023-07-28T10:19:01.046Z"
   },
   {
    "duration": 52,
    "start_time": "2023-07-28T10:19:01.123Z"
   },
   {
    "duration": 156,
    "start_time": "2023-07-28T10:19:01.177Z"
   },
   {
    "duration": 23,
    "start_time": "2023-07-28T10:19:01.335Z"
   },
   {
    "duration": 128,
    "start_time": "2023-07-28T10:19:01.360Z"
   },
   {
    "duration": 232,
    "start_time": "2023-07-28T10:19:01.490Z"
   },
   {
    "duration": 85,
    "start_time": "2023-07-28T10:19:01.724Z"
   },
   {
    "duration": 28,
    "start_time": "2023-07-28T10:19:01.810Z"
   },
   {
    "duration": 9,
    "start_time": "2023-07-28T10:19:01.840Z"
   },
   {
    "duration": 46,
    "start_time": "2023-07-28T10:19:01.850Z"
   },
   {
    "duration": 59,
    "start_time": "2023-07-28T10:19:01.898Z"
   },
   {
    "duration": 65,
    "start_time": "2023-07-28T10:19:01.959Z"
   },
   {
    "duration": 71,
    "start_time": "2023-07-28T10:19:02.026Z"
   },
   {
    "duration": 48,
    "start_time": "2023-07-28T10:19:02.099Z"
   },
   {
    "duration": 118,
    "start_time": "2023-07-28T10:19:02.149Z"
   },
   {
    "duration": 38,
    "start_time": "2023-07-28T10:19:02.269Z"
   },
   {
    "duration": 61,
    "start_time": "2023-07-28T10:19:02.309Z"
   },
   {
    "duration": 31,
    "start_time": "2023-07-28T10:19:02.372Z"
   },
   {
    "duration": 80,
    "start_time": "2023-07-28T10:19:02.404Z"
   },
   {
    "duration": 750,
    "start_time": "2023-07-28T10:19:02.486Z"
   },
   {
    "duration": 328,
    "start_time": "2023-07-28T10:19:03.238Z"
   },
   {
    "duration": 39,
    "start_time": "2023-07-28T10:19:03.567Z"
   },
   {
    "duration": 2,
    "start_time": "2023-07-28T10:19:03.608Z"
   },
   {
    "duration": 54,
    "start_time": "2023-07-28T10:19:03.611Z"
   },
   {
    "duration": 12,
    "start_time": "2023-07-28T10:19:03.668Z"
   },
   {
    "duration": 158,
    "start_time": "2023-07-28T10:19:03.682Z"
   },
   {
    "duration": 0,
    "start_time": "2023-07-28T10:19:03.842Z"
   },
   {
    "duration": 0,
    "start_time": "2023-07-28T10:19:03.843Z"
   },
   {
    "duration": 1,
    "start_time": "2023-07-28T10:19:03.844Z"
   },
   {
    "duration": 0,
    "start_time": "2023-07-28T10:19:03.846Z"
   },
   {
    "duration": 0,
    "start_time": "2023-07-28T10:19:03.847Z"
   },
   {
    "duration": 0,
    "start_time": "2023-07-28T10:19:03.848Z"
   },
   {
    "duration": 0,
    "start_time": "2023-07-28T10:19:03.848Z"
   },
   {
    "duration": 0,
    "start_time": "2023-07-28T10:19:03.850Z"
   },
   {
    "duration": 0,
    "start_time": "2023-07-28T10:19:03.851Z"
   },
   {
    "duration": 0,
    "start_time": "2023-07-28T10:19:03.852Z"
   },
   {
    "duration": 0,
    "start_time": "2023-07-28T10:19:03.853Z"
   },
   {
    "duration": 0,
    "start_time": "2023-07-28T10:19:03.854Z"
   },
   {
    "duration": 0,
    "start_time": "2023-07-28T10:19:03.854Z"
   },
   {
    "duration": 0,
    "start_time": "2023-07-28T10:19:03.855Z"
   },
   {
    "duration": 265,
    "start_time": "2023-07-28T10:21:37.856Z"
   },
   {
    "duration": 7805,
    "start_time": "2023-07-28T10:23:40.137Z"
   },
   {
    "duration": 8507,
    "start_time": "2023-07-28T10:25:09.573Z"
   },
   {
    "duration": 280,
    "start_time": "2023-07-28T10:27:44.466Z"
   },
   {
    "duration": 3806,
    "start_time": "2023-07-28T10:29:09.361Z"
   },
   {
    "duration": 5229,
    "start_time": "2023-07-28T10:29:40.009Z"
   },
   {
    "duration": 214,
    "start_time": "2023-07-28T10:30:24.202Z"
   },
   {
    "duration": 2832,
    "start_time": "2023-07-28T10:30:45.511Z"
   },
   {
    "duration": 1770,
    "start_time": "2023-07-28T10:30:48.345Z"
   },
   {
    "duration": 2,
    "start_time": "2023-07-28T10:30:50.116Z"
   },
   {
    "duration": 789,
    "start_time": "2023-07-28T10:30:50.120Z"
   },
   {
    "duration": 109,
    "start_time": "2023-07-28T10:30:50.912Z"
   },
   {
    "duration": 107,
    "start_time": "2023-07-28T10:30:51.023Z"
   },
   {
    "duration": 129,
    "start_time": "2023-07-28T10:30:51.132Z"
   },
   {
    "duration": 99,
    "start_time": "2023-07-28T10:30:51.262Z"
   },
   {
    "duration": 168,
    "start_time": "2023-07-28T10:30:51.362Z"
   },
   {
    "duration": 23,
    "start_time": "2023-07-28T10:30:51.531Z"
   },
   {
    "duration": 12,
    "start_time": "2023-07-28T10:30:51.555Z"
   },
   {
    "duration": 19,
    "start_time": "2023-07-28T10:30:51.568Z"
   },
   {
    "duration": 224,
    "start_time": "2023-07-28T10:30:51.588Z"
   },
   {
    "duration": 25,
    "start_time": "2023-07-28T10:30:51.816Z"
   },
   {
    "duration": 160,
    "start_time": "2023-07-28T10:30:51.842Z"
   },
   {
    "duration": 41,
    "start_time": "2023-07-28T10:30:52.004Z"
   },
   {
    "duration": 43,
    "start_time": "2023-07-28T10:30:52.046Z"
   },
   {
    "duration": 20,
    "start_time": "2023-07-28T10:30:52.090Z"
   },
   {
    "duration": 134,
    "start_time": "2023-07-28T10:30:52.112Z"
   },
   {
    "duration": 22,
    "start_time": "2023-07-28T10:30:52.247Z"
   },
   {
    "duration": 122,
    "start_time": "2023-07-28T10:30:52.270Z"
   },
   {
    "duration": 221,
    "start_time": "2023-07-28T10:30:52.400Z"
   },
   {
    "duration": 63,
    "start_time": "2023-07-28T10:30:52.623Z"
   },
   {
    "duration": 18,
    "start_time": "2023-07-28T10:30:52.687Z"
   },
   {
    "duration": 12,
    "start_time": "2023-07-28T10:30:52.707Z"
   },
   {
    "duration": 30,
    "start_time": "2023-07-28T10:30:52.720Z"
   },
   {
    "duration": 51,
    "start_time": "2023-07-28T10:30:52.751Z"
   },
   {
    "duration": 25,
    "start_time": "2023-07-28T10:30:52.804Z"
   },
   {
    "duration": 40,
    "start_time": "2023-07-28T10:30:52.830Z"
   },
   {
    "duration": 27,
    "start_time": "2023-07-28T10:30:52.872Z"
   },
   {
    "duration": 73,
    "start_time": "2023-07-28T10:30:52.901Z"
   },
   {
    "duration": 17,
    "start_time": "2023-07-28T10:30:52.975Z"
   },
   {
    "duration": 53,
    "start_time": "2023-07-28T10:30:52.999Z"
   },
   {
    "duration": 25,
    "start_time": "2023-07-28T10:30:53.053Z"
   },
   {
    "duration": 50,
    "start_time": "2023-07-28T10:30:53.080Z"
   },
   {
    "duration": 645,
    "start_time": "2023-07-28T10:30:53.131Z"
   },
   {
    "duration": 367,
    "start_time": "2023-07-28T10:30:53.777Z"
   },
   {
    "duration": 35,
    "start_time": "2023-07-28T10:30:54.146Z"
   },
   {
    "duration": 3,
    "start_time": "2023-07-28T10:30:54.182Z"
   },
   {
    "duration": 35,
    "start_time": "2023-07-28T10:30:54.199Z"
   },
   {
    "duration": 109,
    "start_time": "2023-07-28T10:30:54.237Z"
   },
   {
    "duration": 0,
    "start_time": "2023-07-28T10:30:54.348Z"
   },
   {
    "duration": 0,
    "start_time": "2023-07-28T10:30:54.349Z"
   },
   {
    "duration": 0,
    "start_time": "2023-07-28T10:30:54.349Z"
   },
   {
    "duration": 0,
    "start_time": "2023-07-28T10:30:54.350Z"
   },
   {
    "duration": 0,
    "start_time": "2023-07-28T10:30:54.351Z"
   },
   {
    "duration": 0,
    "start_time": "2023-07-28T10:30:54.351Z"
   },
   {
    "duration": 0,
    "start_time": "2023-07-28T10:30:54.352Z"
   },
   {
    "duration": 0,
    "start_time": "2023-07-28T10:30:54.353Z"
   },
   {
    "duration": 0,
    "start_time": "2023-07-28T10:30:54.354Z"
   },
   {
    "duration": 0,
    "start_time": "2023-07-28T10:30:54.354Z"
   },
   {
    "duration": 0,
    "start_time": "2023-07-28T10:30:54.355Z"
   },
   {
    "duration": 0,
    "start_time": "2023-07-28T10:30:54.356Z"
   },
   {
    "duration": 0,
    "start_time": "2023-07-28T10:30:54.357Z"
   },
   {
    "duration": 0,
    "start_time": "2023-07-28T10:30:54.357Z"
   },
   {
    "duration": 0,
    "start_time": "2023-07-28T10:30:54.358Z"
   },
   {
    "duration": 232,
    "start_time": "2023-07-28T10:31:18.504Z"
   },
   {
    "duration": 127,
    "start_time": "2023-07-28T10:31:40.011Z"
   },
   {
    "duration": 112,
    "start_time": "2023-07-28T10:41:16.939Z"
   },
   {
    "duration": 195,
    "start_time": "2023-07-28T10:41:27.796Z"
   },
   {
    "duration": 156,
    "start_time": "2023-07-28T10:41:53.025Z"
   },
   {
    "duration": 2523,
    "start_time": "2023-07-28T10:42:24.899Z"
   },
   {
    "duration": 2757,
    "start_time": "2023-07-28T10:42:27.424Z"
   },
   {
    "duration": 2,
    "start_time": "2023-07-28T10:42:30.183Z"
   },
   {
    "duration": 795,
    "start_time": "2023-07-28T10:42:30.187Z"
   },
   {
    "duration": 135,
    "start_time": "2023-07-28T10:42:30.984Z"
   },
   {
    "duration": 110,
    "start_time": "2023-07-28T10:42:31.121Z"
   },
   {
    "duration": 132,
    "start_time": "2023-07-28T10:42:31.233Z"
   },
   {
    "duration": 104,
    "start_time": "2023-07-28T10:42:31.367Z"
   },
   {
    "duration": 170,
    "start_time": "2023-07-28T10:42:31.472Z"
   },
   {
    "duration": 21,
    "start_time": "2023-07-28T10:42:31.643Z"
   },
   {
    "duration": 43,
    "start_time": "2023-07-28T10:42:31.666Z"
   },
   {
    "duration": 35,
    "start_time": "2023-07-28T10:42:31.711Z"
   },
   {
    "duration": 212,
    "start_time": "2023-07-28T10:42:31.748Z"
   },
   {
    "duration": 19,
    "start_time": "2023-07-28T10:42:31.963Z"
   },
   {
    "duration": 160,
    "start_time": "2023-07-28T10:42:31.984Z"
   },
   {
    "duration": 73,
    "start_time": "2023-07-28T10:42:32.146Z"
   },
   {
    "duration": 35,
    "start_time": "2023-07-28T10:42:32.221Z"
   },
   {
    "duration": 6,
    "start_time": "2023-07-28T10:42:32.259Z"
   },
   {
    "duration": 160,
    "start_time": "2023-07-28T10:42:32.267Z"
   },
   {
    "duration": 26,
    "start_time": "2023-07-28T10:42:32.429Z"
   },
   {
    "duration": 156,
    "start_time": "2023-07-28T10:42:32.457Z"
   },
   {
    "duration": 226,
    "start_time": "2023-07-28T10:42:32.615Z"
   },
   {
    "duration": 64,
    "start_time": "2023-07-28T10:42:32.843Z"
   },
   {
    "duration": 28,
    "start_time": "2023-07-28T10:42:32.909Z"
   },
   {
    "duration": 6,
    "start_time": "2023-07-28T10:42:32.938Z"
   },
   {
    "duration": 22,
    "start_time": "2023-07-28T10:42:32.946Z"
   },
   {
    "duration": 47,
    "start_time": "2023-07-28T10:42:32.969Z"
   },
   {
    "duration": 16,
    "start_time": "2023-07-28T10:42:33.018Z"
   },
   {
    "duration": 35,
    "start_time": "2023-07-28T10:42:33.036Z"
   },
   {
    "duration": 29,
    "start_time": "2023-07-28T10:42:33.073Z"
   },
   {
    "duration": 65,
    "start_time": "2023-07-28T10:42:33.104Z"
   },
   {
    "duration": 31,
    "start_time": "2023-07-28T10:42:33.171Z"
   },
   {
    "duration": 34,
    "start_time": "2023-07-28T10:42:33.204Z"
   },
   {
    "duration": 36,
    "start_time": "2023-07-28T10:42:33.240Z"
   },
   {
    "duration": 45,
    "start_time": "2023-07-28T10:42:33.277Z"
   },
   {
    "duration": 626,
    "start_time": "2023-07-28T10:42:33.323Z"
   },
   {
    "duration": 352,
    "start_time": "2023-07-28T10:42:33.950Z"
   },
   {
    "duration": 33,
    "start_time": "2023-07-28T10:42:34.303Z"
   },
   {
    "duration": 2,
    "start_time": "2023-07-28T10:42:34.338Z"
   },
   {
    "duration": 46,
    "start_time": "2023-07-28T10:42:34.342Z"
   },
   {
    "duration": 237,
    "start_time": "2023-07-28T10:42:34.403Z"
   },
   {
    "duration": 0,
    "start_time": "2023-07-28T10:42:34.642Z"
   },
   {
    "duration": 0,
    "start_time": "2023-07-28T10:42:34.643Z"
   },
   {
    "duration": 0,
    "start_time": "2023-07-28T10:42:34.644Z"
   },
   {
    "duration": 0,
    "start_time": "2023-07-28T10:42:34.644Z"
   },
   {
    "duration": 0,
    "start_time": "2023-07-28T10:42:34.645Z"
   },
   {
    "duration": 0,
    "start_time": "2023-07-28T10:42:34.646Z"
   },
   {
    "duration": 0,
    "start_time": "2023-07-28T10:42:34.647Z"
   },
   {
    "duration": 0,
    "start_time": "2023-07-28T10:42:34.648Z"
   },
   {
    "duration": 0,
    "start_time": "2023-07-28T10:42:34.649Z"
   },
   {
    "duration": 0,
    "start_time": "2023-07-28T10:42:34.650Z"
   },
   {
    "duration": 0,
    "start_time": "2023-07-28T10:42:34.651Z"
   },
   {
    "duration": 0,
    "start_time": "2023-07-28T10:42:34.652Z"
   },
   {
    "duration": 0,
    "start_time": "2023-07-28T10:42:34.652Z"
   },
   {
    "duration": 0,
    "start_time": "2023-07-28T10:42:34.653Z"
   },
   {
    "duration": 0,
    "start_time": "2023-07-28T10:42:34.654Z"
   },
   {
    "duration": 117,
    "start_time": "2023-07-28T10:42:48.507Z"
   },
   {
    "duration": 126,
    "start_time": "2023-07-28T10:49:50.192Z"
   },
   {
    "duration": 120,
    "start_time": "2023-07-28T11:25:36.319Z"
   },
   {
    "duration": 120,
    "start_time": "2023-07-28T11:27:52.147Z"
   },
   {
    "duration": 2884,
    "start_time": "2023-07-28T11:28:05.035Z"
   },
   {
    "duration": 1896,
    "start_time": "2023-07-28T11:28:07.922Z"
   },
   {
    "duration": 2,
    "start_time": "2023-07-28T11:28:09.820Z"
   },
   {
    "duration": 811,
    "start_time": "2023-07-28T11:28:09.824Z"
   },
   {
    "duration": 118,
    "start_time": "2023-07-28T11:28:10.636Z"
   },
   {
    "duration": 198,
    "start_time": "2023-07-28T11:28:10.756Z"
   },
   {
    "duration": 140,
    "start_time": "2023-07-28T11:28:10.955Z"
   },
   {
    "duration": 121,
    "start_time": "2023-07-28T11:28:11.096Z"
   },
   {
    "duration": 176,
    "start_time": "2023-07-28T11:28:11.219Z"
   },
   {
    "duration": 25,
    "start_time": "2023-07-28T11:28:11.397Z"
   },
   {
    "duration": 90,
    "start_time": "2023-07-28T11:28:11.424Z"
   },
   {
    "duration": 2,
    "start_time": "2023-07-28T11:28:11.515Z"
   },
   {
    "duration": 216,
    "start_time": "2023-07-28T11:28:11.522Z"
   },
   {
    "duration": 20,
    "start_time": "2023-07-28T11:28:11.739Z"
   },
   {
    "duration": 154,
    "start_time": "2023-07-28T11:28:11.760Z"
   },
   {
    "duration": 40,
    "start_time": "2023-07-28T11:28:11.916Z"
   },
   {
    "duration": 38,
    "start_time": "2023-07-28T11:28:11.957Z"
   },
   {
    "duration": 9,
    "start_time": "2023-07-28T11:28:12.013Z"
   },
   {
    "duration": 158,
    "start_time": "2023-07-28T11:28:12.024Z"
   },
   {
    "duration": 37,
    "start_time": "2023-07-28T11:28:12.183Z"
   },
   {
    "duration": 115,
    "start_time": "2023-07-28T11:28:12.222Z"
   },
   {
    "duration": 240,
    "start_time": "2023-07-28T11:28:12.339Z"
   },
   {
    "duration": 77,
    "start_time": "2023-07-28T11:28:12.581Z"
   },
   {
    "duration": 19,
    "start_time": "2023-07-28T11:28:12.660Z"
   },
   {
    "duration": 18,
    "start_time": "2023-07-28T11:28:12.680Z"
   },
   {
    "duration": 60,
    "start_time": "2023-07-28T11:28:12.699Z"
   },
   {
    "duration": 41,
    "start_time": "2023-07-28T11:28:12.761Z"
   },
   {
    "duration": 43,
    "start_time": "2023-07-28T11:28:12.806Z"
   },
   {
    "duration": 79,
    "start_time": "2023-07-28T11:28:12.851Z"
   },
   {
    "duration": 23,
    "start_time": "2023-07-28T11:28:12.931Z"
   },
   {
    "duration": 93,
    "start_time": "2023-07-28T11:28:12.955Z"
   },
   {
    "duration": 19,
    "start_time": "2023-07-28T11:28:13.050Z"
   },
   {
    "duration": 65,
    "start_time": "2023-07-28T11:28:13.071Z"
   },
   {
    "duration": 22,
    "start_time": "2023-07-28T11:28:13.138Z"
   },
   {
    "duration": 66,
    "start_time": "2023-07-28T11:28:13.161Z"
   },
   {
    "duration": 664,
    "start_time": "2023-07-28T11:28:13.228Z"
   },
   {
    "duration": 375,
    "start_time": "2023-07-28T11:28:13.894Z"
   },
   {
    "duration": 49,
    "start_time": "2023-07-28T11:28:14.270Z"
   },
   {
    "duration": 3,
    "start_time": "2023-07-28T11:28:14.322Z"
   },
   {
    "duration": 39,
    "start_time": "2023-07-28T11:28:14.326Z"
   },
   {
    "duration": 262,
    "start_time": "2023-07-28T11:28:14.367Z"
   },
   {
    "duration": 0,
    "start_time": "2023-07-28T11:28:14.631Z"
   },
   {
    "duration": 0,
    "start_time": "2023-07-28T11:28:14.633Z"
   },
   {
    "duration": 0,
    "start_time": "2023-07-28T11:28:14.634Z"
   },
   {
    "duration": 0,
    "start_time": "2023-07-28T11:28:14.635Z"
   },
   {
    "duration": 0,
    "start_time": "2023-07-28T11:28:14.636Z"
   },
   {
    "duration": 0,
    "start_time": "2023-07-28T11:28:14.637Z"
   },
   {
    "duration": 0,
    "start_time": "2023-07-28T11:28:14.638Z"
   },
   {
    "duration": 0,
    "start_time": "2023-07-28T11:28:14.640Z"
   },
   {
    "duration": 0,
    "start_time": "2023-07-28T11:28:14.641Z"
   },
   {
    "duration": 0,
    "start_time": "2023-07-28T11:28:14.642Z"
   },
   {
    "duration": 0,
    "start_time": "2023-07-28T11:28:14.643Z"
   },
   {
    "duration": 0,
    "start_time": "2023-07-28T11:28:14.644Z"
   },
   {
    "duration": 0,
    "start_time": "2023-07-28T11:28:14.645Z"
   },
   {
    "duration": 0,
    "start_time": "2023-07-28T11:28:14.646Z"
   },
   {
    "duration": 0,
    "start_time": "2023-07-28T11:28:14.646Z"
   },
   {
    "duration": 161,
    "start_time": "2023-07-28T11:38:11.417Z"
   },
   {
    "duration": 130,
    "start_time": "2023-07-28T11:40:52.579Z"
   },
   {
    "duration": 112,
    "start_time": "2023-07-28T11:42:40.982Z"
   },
   {
    "duration": 2268,
    "start_time": "2023-07-28T11:42:51.492Z"
   },
   {
    "duration": 1801,
    "start_time": "2023-07-28T11:42:53.763Z"
   },
   {
    "duration": 3,
    "start_time": "2023-07-28T11:42:55.565Z"
   },
   {
    "duration": 821,
    "start_time": "2023-07-28T11:42:55.570Z"
   },
   {
    "duration": 161,
    "start_time": "2023-07-28T11:42:56.393Z"
   },
   {
    "duration": 128,
    "start_time": "2023-07-28T11:42:56.556Z"
   },
   {
    "duration": 170,
    "start_time": "2023-07-28T11:42:56.685Z"
   },
   {
    "duration": 111,
    "start_time": "2023-07-28T11:42:56.857Z"
   },
   {
    "duration": 173,
    "start_time": "2023-07-28T11:42:56.970Z"
   },
   {
    "duration": 23,
    "start_time": "2023-07-28T11:42:57.146Z"
   },
   {
    "duration": 106,
    "start_time": "2023-07-28T11:42:57.170Z"
   },
   {
    "duration": 39,
    "start_time": "2023-07-28T11:42:57.278Z"
   },
   {
    "duration": 174,
    "start_time": "2023-07-28T11:42:57.319Z"
   },
   {
    "duration": 27,
    "start_time": "2023-07-28T11:42:57.495Z"
   },
   {
    "duration": 154,
    "start_time": "2023-07-28T11:42:57.524Z"
   },
   {
    "duration": 48,
    "start_time": "2023-07-28T11:42:57.679Z"
   },
   {
    "duration": 45,
    "start_time": "2023-07-28T11:42:57.729Z"
   },
   {
    "duration": 6,
    "start_time": "2023-07-28T11:42:57.776Z"
   },
   {
    "duration": 157,
    "start_time": "2023-07-28T11:42:57.783Z"
   },
   {
    "duration": 23,
    "start_time": "2023-07-28T11:42:57.942Z"
   },
   {
    "duration": 143,
    "start_time": "2023-07-28T11:42:57.967Z"
   },
   {
    "duration": 222,
    "start_time": "2023-07-28T11:42:58.118Z"
   },
   {
    "duration": 47,
    "start_time": "2023-07-28T11:42:58.342Z"
   },
   {
    "duration": 27,
    "start_time": "2023-07-28T11:42:58.390Z"
   },
   {
    "duration": 4,
    "start_time": "2023-07-28T11:42:58.418Z"
   },
   {
    "duration": 27,
    "start_time": "2023-07-28T11:42:58.423Z"
   },
   {
    "duration": 39,
    "start_time": "2023-07-28T11:42:58.451Z"
   },
   {
    "duration": 29,
    "start_time": "2023-07-28T11:42:58.494Z"
   },
   {
    "duration": 35,
    "start_time": "2023-07-28T11:42:58.524Z"
   },
   {
    "duration": 18,
    "start_time": "2023-07-28T11:42:58.561Z"
   },
   {
    "duration": 83,
    "start_time": "2023-07-28T11:42:58.580Z"
   },
   {
    "duration": 18,
    "start_time": "2023-07-28T11:42:58.664Z"
   },
   {
    "duration": 39,
    "start_time": "2023-07-28T11:42:58.700Z"
   },
   {
    "duration": 21,
    "start_time": "2023-07-28T11:42:58.740Z"
   },
   {
    "duration": 56,
    "start_time": "2023-07-28T11:42:58.762Z"
   },
   {
    "duration": 699,
    "start_time": "2023-07-28T11:42:58.820Z"
   },
   {
    "duration": 395,
    "start_time": "2023-07-28T11:42:59.521Z"
   },
   {
    "duration": 37,
    "start_time": "2023-07-28T11:42:59.918Z"
   },
   {
    "duration": 2,
    "start_time": "2023-07-28T11:42:59.958Z"
   },
   {
    "duration": 65,
    "start_time": "2023-07-28T11:42:59.962Z"
   },
   {
    "duration": 121,
    "start_time": "2023-07-28T11:43:00.030Z"
   },
   {
    "duration": 139,
    "start_time": "2023-07-28T11:43:00.154Z"
   },
   {
    "duration": 0,
    "start_time": "2023-07-28T11:43:00.306Z"
   },
   {
    "duration": 0,
    "start_time": "2023-07-28T11:43:00.312Z"
   },
   {
    "duration": 0,
    "start_time": "2023-07-28T11:43:00.318Z"
   },
   {
    "duration": 0,
    "start_time": "2023-07-28T11:43:00.319Z"
   },
   {
    "duration": 0,
    "start_time": "2023-07-28T11:43:00.320Z"
   },
   {
    "duration": 0,
    "start_time": "2023-07-28T11:43:00.321Z"
   },
   {
    "duration": 0,
    "start_time": "2023-07-28T11:43:00.322Z"
   },
   {
    "duration": 0,
    "start_time": "2023-07-28T11:43:00.323Z"
   },
   {
    "duration": 0,
    "start_time": "2023-07-28T11:43:00.325Z"
   },
   {
    "duration": 0,
    "start_time": "2023-07-28T11:43:00.326Z"
   },
   {
    "duration": 0,
    "start_time": "2023-07-28T11:43:00.327Z"
   },
   {
    "duration": 0,
    "start_time": "2023-07-28T11:43:00.328Z"
   },
   {
    "duration": 0,
    "start_time": "2023-07-28T11:43:00.329Z"
   },
   {
    "duration": 0,
    "start_time": "2023-07-28T11:43:00.329Z"
   },
   {
    "duration": 236,
    "start_time": "2023-07-28T11:44:32.194Z"
   },
   {
    "duration": 148,
    "start_time": "2023-07-28T11:44:53.087Z"
   },
   {
    "duration": 133,
    "start_time": "2023-07-28T11:49:27.043Z"
   },
   {
    "duration": 242,
    "start_time": "2023-07-28T11:49:43.820Z"
   },
   {
    "duration": 148,
    "start_time": "2023-07-28T11:52:48.251Z"
   },
   {
    "duration": 195,
    "start_time": "2023-07-28T11:54:30.753Z"
   },
   {
    "duration": 6866,
    "start_time": "2023-07-28T11:55:24.599Z"
   },
   {
    "duration": 191,
    "start_time": "2023-07-28T11:55:48.034Z"
   },
   {
    "duration": 168,
    "start_time": "2023-07-28T11:56:41.367Z"
   },
   {
    "duration": 224,
    "start_time": "2023-07-28T11:57:15.722Z"
   },
   {
    "duration": 2621,
    "start_time": "2023-07-28T11:57:42.928Z"
   },
   {
    "duration": 1903,
    "start_time": "2023-07-28T11:57:45.554Z"
   },
   {
    "duration": 3,
    "start_time": "2023-07-28T11:57:47.459Z"
   },
   {
    "duration": 898,
    "start_time": "2023-07-28T11:57:47.465Z"
   },
   {
    "duration": 120,
    "start_time": "2023-07-28T11:57:48.364Z"
   },
   {
    "duration": 147,
    "start_time": "2023-07-28T11:57:48.485Z"
   },
   {
    "duration": 140,
    "start_time": "2023-07-28T11:57:48.634Z"
   },
   {
    "duration": 98,
    "start_time": "2023-07-28T11:57:48.776Z"
   },
   {
    "duration": 185,
    "start_time": "2023-07-28T11:57:48.875Z"
   },
   {
    "duration": 21,
    "start_time": "2023-07-28T11:57:49.062Z"
   },
   {
    "duration": 99,
    "start_time": "2023-07-28T11:57:49.085Z"
   },
   {
    "duration": 2,
    "start_time": "2023-07-28T11:57:49.186Z"
   },
   {
    "duration": 171,
    "start_time": "2023-07-28T11:57:49.190Z"
   },
   {
    "duration": 20,
    "start_time": "2023-07-28T11:57:49.363Z"
   },
   {
    "duration": 149,
    "start_time": "2023-07-28T11:57:49.384Z"
   },
   {
    "duration": 42,
    "start_time": "2023-07-28T11:57:49.534Z"
   },
   {
    "duration": 67,
    "start_time": "2023-07-28T11:57:49.578Z"
   },
   {
    "duration": 8,
    "start_time": "2023-07-28T11:57:49.647Z"
   },
   {
    "duration": 168,
    "start_time": "2023-07-28T11:57:49.657Z"
   },
   {
    "duration": 26,
    "start_time": "2023-07-28T11:57:49.827Z"
   },
   {
    "duration": 138,
    "start_time": "2023-07-28T11:57:49.854Z"
   },
   {
    "duration": 241,
    "start_time": "2023-07-28T11:57:49.994Z"
   },
   {
    "duration": 51,
    "start_time": "2023-07-28T11:57:50.237Z"
   },
   {
    "duration": 29,
    "start_time": "2023-07-28T11:57:50.289Z"
   },
   {
    "duration": 3,
    "start_time": "2023-07-28T11:57:50.320Z"
   },
   {
    "duration": 42,
    "start_time": "2023-07-28T11:57:50.324Z"
   },
   {
    "duration": 30,
    "start_time": "2023-07-28T11:57:50.368Z"
   },
   {
    "duration": 30,
    "start_time": "2023-07-28T11:57:50.402Z"
   },
   {
    "duration": 62,
    "start_time": "2023-07-28T11:57:50.434Z"
   },
   {
    "duration": 48,
    "start_time": "2023-07-28T11:57:50.497Z"
   },
   {
    "duration": 120,
    "start_time": "2023-07-28T11:57:50.547Z"
   },
   {
    "duration": 50,
    "start_time": "2023-07-28T11:57:50.669Z"
   },
   {
    "duration": 33,
    "start_time": "2023-07-28T11:57:50.721Z"
   },
   {
    "duration": 18,
    "start_time": "2023-07-28T11:57:50.755Z"
   },
   {
    "duration": 49,
    "start_time": "2023-07-28T11:57:50.775Z"
   },
   {
    "duration": 683,
    "start_time": "2023-07-28T11:57:50.826Z"
   },
   {
    "duration": 339,
    "start_time": "2023-07-28T11:57:51.510Z"
   },
   {
    "duration": 37,
    "start_time": "2023-07-28T11:57:51.850Z"
   },
   {
    "duration": 17,
    "start_time": "2023-07-28T11:57:51.888Z"
   },
   {
    "duration": 68,
    "start_time": "2023-07-28T11:57:51.906Z"
   },
   {
    "duration": 261,
    "start_time": "2023-07-28T11:57:51.976Z"
   },
   {
    "duration": 86,
    "start_time": "2023-07-28T11:57:52.239Z"
   },
   {
    "duration": 487,
    "start_time": "2023-07-28T11:57:52.326Z"
   },
   {
    "duration": 17,
    "start_time": "2023-07-28T11:57:52.818Z"
   },
   {
    "duration": 189,
    "start_time": "2023-07-28T11:57:52.837Z"
   },
   {
    "duration": 811,
    "start_time": "2023-07-28T11:57:53.028Z"
   },
   {
    "duration": 435,
    "start_time": "2023-07-28T11:57:53.841Z"
   },
   {
    "duration": 338,
    "start_time": "2023-07-28T11:57:54.277Z"
   },
   {
    "duration": 139,
    "start_time": "2023-07-28T11:57:54.617Z"
   },
   {
    "duration": 26978,
    "start_time": "2023-07-28T11:57:54.758Z"
   },
   {
    "duration": 85,
    "start_time": "2023-07-28T11:58:21.738Z"
   },
   {
    "duration": 2272,
    "start_time": "2023-07-28T11:59:48.741Z"
   },
   {
    "duration": 2530,
    "start_time": "2023-07-28T11:59:51.020Z"
   },
   {
    "duration": 3,
    "start_time": "2023-07-28T11:59:53.552Z"
   },
   {
    "duration": 914,
    "start_time": "2023-07-28T11:59:53.557Z"
   },
   {
    "duration": 138,
    "start_time": "2023-07-28T11:59:54.474Z"
   },
   {
    "duration": 162,
    "start_time": "2023-07-28T11:59:54.614Z"
   },
   {
    "duration": 142,
    "start_time": "2023-07-28T11:59:54.778Z"
   },
   {
    "duration": 116,
    "start_time": "2023-07-28T11:59:54.922Z"
   },
   {
    "duration": 187,
    "start_time": "2023-07-28T11:59:55.040Z"
   },
   {
    "duration": 23,
    "start_time": "2023-07-28T11:59:55.229Z"
   },
   {
    "duration": 28,
    "start_time": "2023-07-28T11:59:55.253Z"
   },
   {
    "duration": 37,
    "start_time": "2023-07-28T11:59:55.283Z"
   },
   {
    "duration": 242,
    "start_time": "2023-07-28T11:59:55.322Z"
   },
   {
    "duration": 20,
    "start_time": "2023-07-28T11:59:55.567Z"
   },
   {
    "duration": 155,
    "start_time": "2023-07-28T11:59:55.600Z"
   },
   {
    "duration": 53,
    "start_time": "2023-07-28T11:59:55.757Z"
   },
   {
    "duration": 58,
    "start_time": "2023-07-28T11:59:55.811Z"
   },
   {
    "duration": 8,
    "start_time": "2023-07-28T11:59:55.871Z"
   },
   {
    "duration": 175,
    "start_time": "2023-07-28T11:59:55.881Z"
   },
   {
    "duration": 27,
    "start_time": "2023-07-28T11:59:56.059Z"
   },
   {
    "duration": 172,
    "start_time": "2023-07-28T11:59:56.105Z"
   },
   {
    "duration": 238,
    "start_time": "2023-07-28T11:59:56.280Z"
   },
   {
    "duration": 77,
    "start_time": "2023-07-28T11:59:56.520Z"
   },
   {
    "duration": 22,
    "start_time": "2023-07-28T11:59:56.609Z"
   },
   {
    "duration": 17,
    "start_time": "2023-07-28T11:59:56.633Z"
   },
   {
    "duration": 43,
    "start_time": "2023-07-28T11:59:56.652Z"
   },
   {
    "duration": 79,
    "start_time": "2023-07-28T11:59:56.697Z"
   },
   {
    "duration": 35,
    "start_time": "2023-07-28T11:59:56.778Z"
   },
   {
    "duration": 58,
    "start_time": "2023-07-28T11:59:56.815Z"
   },
   {
    "duration": 47,
    "start_time": "2023-07-28T11:59:56.874Z"
   },
   {
    "duration": 89,
    "start_time": "2023-07-28T11:59:56.924Z"
   },
   {
    "duration": 20,
    "start_time": "2023-07-28T11:59:57.014Z"
   },
   {
    "duration": 47,
    "start_time": "2023-07-28T11:59:57.035Z"
   },
   {
    "duration": 33,
    "start_time": "2023-07-28T11:59:57.084Z"
   },
   {
    "duration": 61,
    "start_time": "2023-07-28T11:59:57.119Z"
   },
   {
    "duration": 796,
    "start_time": "2023-07-28T11:59:57.181Z"
   },
   {
    "duration": 381,
    "start_time": "2023-07-28T11:59:57.979Z"
   },
   {
    "duration": 39,
    "start_time": "2023-07-28T11:59:58.362Z"
   },
   {
    "duration": 27,
    "start_time": "2023-07-28T11:59:58.402Z"
   },
   {
    "duration": 60,
    "start_time": "2023-07-28T11:59:58.431Z"
   },
   {
    "duration": 221,
    "start_time": "2023-07-28T11:59:58.496Z"
   },
   {
    "duration": 65,
    "start_time": "2023-07-28T11:59:58.719Z"
   },
   {
    "duration": 578,
    "start_time": "2023-07-28T11:59:58.786Z"
   },
   {
    "duration": 17,
    "start_time": "2023-07-28T11:59:59.366Z"
   },
   {
    "duration": 359,
    "start_time": "2023-07-28T11:59:59.384Z"
   },
   {
    "duration": 596,
    "start_time": "2023-07-28T11:59:59.745Z"
   },
   {
    "duration": 435,
    "start_time": "2023-07-28T12:00:00.343Z"
   },
   {
    "duration": 669,
    "start_time": "2023-07-28T12:00:00.780Z"
   },
   {
    "duration": 588,
    "start_time": "2023-07-28T12:00:01.451Z"
   },
   {
    "duration": 27490,
    "start_time": "2023-07-28T12:00:02.041Z"
   },
   {
    "duration": 63,
    "start_time": "2023-07-28T12:00:29.533Z"
   },
   {
    "duration": 2651,
    "start_time": "2023-07-28T12:01:16.431Z"
   },
   {
    "duration": 2184,
    "start_time": "2023-07-28T12:01:19.085Z"
   },
   {
    "duration": 3,
    "start_time": "2023-07-28T12:01:21.271Z"
   },
   {
    "duration": 1023,
    "start_time": "2023-07-28T12:01:21.275Z"
   },
   {
    "duration": 134,
    "start_time": "2023-07-28T12:01:22.300Z"
   },
   {
    "duration": 148,
    "start_time": "2023-07-28T12:01:22.436Z"
   },
   {
    "duration": 135,
    "start_time": "2023-07-28T12:01:22.586Z"
   },
   {
    "duration": 106,
    "start_time": "2023-07-28T12:01:22.722Z"
   },
   {
    "duration": 166,
    "start_time": "2023-07-28T12:01:22.830Z"
   },
   {
    "duration": 25,
    "start_time": "2023-07-28T12:01:23.007Z"
   },
   {
    "duration": 93,
    "start_time": "2023-07-28T12:01:23.034Z"
   },
   {
    "duration": 2,
    "start_time": "2023-07-28T12:01:23.129Z"
   },
   {
    "duration": 161,
    "start_time": "2023-07-28T12:01:23.132Z"
   },
   {
    "duration": 25,
    "start_time": "2023-07-28T12:01:23.294Z"
   },
   {
    "duration": 162,
    "start_time": "2023-07-28T12:01:23.321Z"
   },
   {
    "duration": 64,
    "start_time": "2023-07-28T12:01:23.485Z"
   },
   {
    "duration": 41,
    "start_time": "2023-07-28T12:01:23.551Z"
   },
   {
    "duration": 14,
    "start_time": "2023-07-28T12:01:23.602Z"
   },
   {
    "duration": 193,
    "start_time": "2023-07-28T12:01:23.620Z"
   },
   {
    "duration": 33,
    "start_time": "2023-07-28T12:01:23.815Z"
   },
   {
    "duration": 141,
    "start_time": "2023-07-28T12:01:23.850Z"
   },
   {
    "duration": 229,
    "start_time": "2023-07-28T12:01:23.992Z"
   },
   {
    "duration": 39,
    "start_time": "2023-07-28T12:01:24.223Z"
   },
   {
    "duration": 20,
    "start_time": "2023-07-28T12:01:24.264Z"
   },
   {
    "duration": 43,
    "start_time": "2023-07-28T12:01:24.285Z"
   },
   {
    "duration": 26,
    "start_time": "2023-07-28T12:01:24.330Z"
   },
   {
    "duration": 86,
    "start_time": "2023-07-28T12:01:24.358Z"
   },
   {
    "duration": 34,
    "start_time": "2023-07-28T12:01:24.448Z"
   },
   {
    "duration": 45,
    "start_time": "2023-07-28T12:01:24.484Z"
   },
   {
    "duration": 18,
    "start_time": "2023-07-28T12:01:24.530Z"
   },
   {
    "duration": 88,
    "start_time": "2023-07-28T12:01:24.549Z"
   },
   {
    "duration": 19,
    "start_time": "2023-07-28T12:01:24.638Z"
   },
   {
    "duration": 51,
    "start_time": "2023-07-28T12:01:24.658Z"
   },
   {
    "duration": 26,
    "start_time": "2023-07-28T12:01:24.710Z"
   },
   {
    "duration": 32,
    "start_time": "2023-07-28T12:01:24.738Z"
   },
   {
    "duration": 713,
    "start_time": "2023-07-28T12:01:24.773Z"
   },
   {
    "duration": 410,
    "start_time": "2023-07-28T12:01:25.487Z"
   },
   {
    "duration": 38,
    "start_time": "2023-07-28T12:01:25.899Z"
   },
   {
    "duration": 3,
    "start_time": "2023-07-28T12:01:25.939Z"
   },
   {
    "duration": 108,
    "start_time": "2023-07-28T12:01:25.943Z"
   },
   {
    "duration": 274,
    "start_time": "2023-07-28T12:01:26.053Z"
   },
   {
    "duration": 0,
    "start_time": "2023-07-28T12:01:26.330Z"
   },
   {
    "duration": 0,
    "start_time": "2023-07-28T12:01:26.331Z"
   },
   {
    "duration": 0,
    "start_time": "2023-07-28T12:01:26.332Z"
   },
   {
    "duration": 0,
    "start_time": "2023-07-28T12:01:26.333Z"
   },
   {
    "duration": 0,
    "start_time": "2023-07-28T12:01:26.335Z"
   },
   {
    "duration": 0,
    "start_time": "2023-07-28T12:01:26.337Z"
   },
   {
    "duration": 0,
    "start_time": "2023-07-28T12:01:26.338Z"
   },
   {
    "duration": 0,
    "start_time": "2023-07-28T12:01:26.339Z"
   },
   {
    "duration": 0,
    "start_time": "2023-07-28T12:01:26.341Z"
   },
   {
    "duration": 0,
    "start_time": "2023-07-28T12:01:26.342Z"
   },
   {
    "duration": 0,
    "start_time": "2023-07-28T12:01:26.344Z"
   },
   {
    "duration": 0,
    "start_time": "2023-07-28T12:01:26.345Z"
   },
   {
    "duration": 0,
    "start_time": "2023-07-28T12:01:26.346Z"
   },
   {
    "duration": 0,
    "start_time": "2023-07-28T12:01:26.347Z"
   },
   {
    "duration": 0,
    "start_time": "2023-07-28T12:01:26.348Z"
   },
   {
    "duration": 155,
    "start_time": "2023-07-28T12:02:02.001Z"
   },
   {
    "duration": 7775,
    "start_time": "2023-07-28T12:10:27.519Z"
   },
   {
    "duration": 2485,
    "start_time": "2023-07-28T12:11:00.931Z"
   },
   {
    "duration": 1734,
    "start_time": "2023-07-28T12:11:03.418Z"
   },
   {
    "duration": 2,
    "start_time": "2023-07-28T12:11:05.153Z"
   },
   {
    "duration": 908,
    "start_time": "2023-07-28T12:11:05.156Z"
   },
   {
    "duration": 130,
    "start_time": "2023-07-28T12:11:06.066Z"
   },
   {
    "duration": 216,
    "start_time": "2023-07-28T12:11:06.210Z"
   },
   {
    "duration": 154,
    "start_time": "2023-07-28T12:11:06.429Z"
   },
   {
    "duration": 95,
    "start_time": "2023-07-28T12:11:06.584Z"
   },
   {
    "duration": 179,
    "start_time": "2023-07-28T12:11:06.680Z"
   },
   {
    "duration": 21,
    "start_time": "2023-07-28T12:11:06.861Z"
   },
   {
    "duration": 35,
    "start_time": "2023-07-28T12:11:06.884Z"
   },
   {
    "duration": 28,
    "start_time": "2023-07-28T12:11:06.921Z"
   },
   {
    "duration": 222,
    "start_time": "2023-07-28T12:11:06.951Z"
   },
   {
    "duration": 34,
    "start_time": "2023-07-28T12:11:07.175Z"
   },
   {
    "duration": 134,
    "start_time": "2023-07-28T12:11:07.217Z"
   },
   {
    "duration": 40,
    "start_time": "2023-07-28T12:11:07.352Z"
   },
   {
    "duration": 45,
    "start_time": "2023-07-28T12:11:07.394Z"
   },
   {
    "duration": 5,
    "start_time": "2023-07-28T12:11:07.441Z"
   },
   {
    "duration": 151,
    "start_time": "2023-07-28T12:11:07.447Z"
   },
   {
    "duration": 28,
    "start_time": "2023-07-28T12:11:07.604Z"
   },
   {
    "duration": 115,
    "start_time": "2023-07-28T12:11:07.633Z"
   },
   {
    "duration": 228,
    "start_time": "2023-07-28T12:11:07.750Z"
   },
   {
    "duration": 61,
    "start_time": "2023-07-28T12:11:07.979Z"
   },
   {
    "duration": 20,
    "start_time": "2023-07-28T12:11:08.041Z"
   },
   {
    "duration": 2,
    "start_time": "2023-07-28T12:11:08.063Z"
   },
   {
    "duration": 51,
    "start_time": "2023-07-28T12:11:08.066Z"
   },
   {
    "duration": 41,
    "start_time": "2023-07-28T12:11:08.119Z"
   },
   {
    "duration": 18,
    "start_time": "2023-07-28T12:11:08.162Z"
   },
   {
    "duration": 77,
    "start_time": "2023-07-28T12:11:08.182Z"
   },
   {
    "duration": 19,
    "start_time": "2023-07-28T12:11:08.261Z"
   },
   {
    "duration": 78,
    "start_time": "2023-07-28T12:11:08.282Z"
   },
   {
    "duration": 17,
    "start_time": "2023-07-28T12:11:08.362Z"
   },
   {
    "duration": 56,
    "start_time": "2023-07-28T12:11:08.380Z"
   },
   {
    "duration": 16,
    "start_time": "2023-07-28T12:11:08.437Z"
   },
   {
    "duration": 44,
    "start_time": "2023-07-28T12:11:08.454Z"
   },
   {
    "duration": 715,
    "start_time": "2023-07-28T12:11:08.499Z"
   },
   {
    "duration": 397,
    "start_time": "2023-07-28T12:11:09.216Z"
   },
   {
    "duration": 34,
    "start_time": "2023-07-28T12:11:09.615Z"
   },
   {
    "duration": 2,
    "start_time": "2023-07-28T12:11:09.651Z"
   },
   {
    "duration": 64,
    "start_time": "2023-07-28T12:11:09.654Z"
   },
   {
    "duration": 4801,
    "start_time": "2023-07-28T12:11:09.722Z"
   },
   {
    "duration": 0,
    "start_time": "2023-07-28T12:11:14.525Z"
   },
   {
    "duration": 0,
    "start_time": "2023-07-28T12:11:14.526Z"
   },
   {
    "duration": 0,
    "start_time": "2023-07-28T12:11:14.527Z"
   },
   {
    "duration": 0,
    "start_time": "2023-07-28T12:11:14.529Z"
   },
   {
    "duration": 0,
    "start_time": "2023-07-28T12:11:14.530Z"
   },
   {
    "duration": 0,
    "start_time": "2023-07-28T12:11:14.531Z"
   },
   {
    "duration": 0,
    "start_time": "2023-07-28T12:11:14.532Z"
   },
   {
    "duration": 0,
    "start_time": "2023-07-28T12:11:14.533Z"
   },
   {
    "duration": 0,
    "start_time": "2023-07-28T12:11:14.534Z"
   },
   {
    "duration": 0,
    "start_time": "2023-07-28T12:11:14.536Z"
   },
   {
    "duration": 0,
    "start_time": "2023-07-28T12:11:14.537Z"
   },
   {
    "duration": 0,
    "start_time": "2023-07-28T12:11:14.538Z"
   },
   {
    "duration": 0,
    "start_time": "2023-07-28T12:11:14.540Z"
   },
   {
    "duration": 0,
    "start_time": "2023-07-28T12:11:14.541Z"
   },
   {
    "duration": 0,
    "start_time": "2023-07-28T12:11:14.542Z"
   },
   {
    "duration": 6426,
    "start_time": "2023-07-28T12:11:38.260Z"
   },
   {
    "duration": 2406,
    "start_time": "2023-07-28T12:11:48.473Z"
   },
   {
    "duration": 1576,
    "start_time": "2023-07-28T12:11:50.881Z"
   },
   {
    "duration": 2,
    "start_time": "2023-07-28T12:11:52.459Z"
   },
   {
    "duration": 834,
    "start_time": "2023-07-28T12:11:52.462Z"
   },
   {
    "duration": 125,
    "start_time": "2023-07-28T12:11:53.300Z"
   },
   {
    "duration": 125,
    "start_time": "2023-07-28T12:11:53.427Z"
   },
   {
    "duration": 174,
    "start_time": "2023-07-28T12:11:53.554Z"
   },
   {
    "duration": 107,
    "start_time": "2023-07-28T12:11:53.729Z"
   },
   {
    "duration": 158,
    "start_time": "2023-07-28T12:11:53.838Z"
   },
   {
    "duration": 24,
    "start_time": "2023-07-28T12:11:54.003Z"
   },
   {
    "duration": 95,
    "start_time": "2023-07-28T12:11:54.028Z"
   },
   {
    "duration": 3,
    "start_time": "2023-07-28T12:11:54.124Z"
   },
   {
    "duration": 168,
    "start_time": "2023-07-28T12:11:54.128Z"
   },
   {
    "duration": 29,
    "start_time": "2023-07-28T12:11:54.297Z"
   },
   {
    "duration": 132,
    "start_time": "2023-07-28T12:11:54.327Z"
   },
   {
    "duration": 56,
    "start_time": "2023-07-28T12:11:54.461Z"
   },
   {
    "duration": 35,
    "start_time": "2023-07-28T12:11:54.518Z"
   },
   {
    "duration": 5,
    "start_time": "2023-07-28T12:11:54.555Z"
   },
   {
    "duration": 152,
    "start_time": "2023-07-28T12:11:54.561Z"
   },
   {
    "duration": 24,
    "start_time": "2023-07-28T12:11:54.714Z"
   },
   {
    "duration": 114,
    "start_time": "2023-07-28T12:11:54.739Z"
   },
   {
    "duration": 227,
    "start_time": "2023-07-28T12:11:54.854Z"
   },
   {
    "duration": 53,
    "start_time": "2023-07-28T12:11:55.083Z"
   },
   {
    "duration": 19,
    "start_time": "2023-07-28T12:11:55.138Z"
   },
   {
    "duration": 3,
    "start_time": "2023-07-28T12:11:55.158Z"
   },
   {
    "duration": 19,
    "start_time": "2023-07-28T12:11:55.163Z"
   },
   {
    "duration": 60,
    "start_time": "2023-07-28T12:11:55.184Z"
   },
   {
    "duration": 16,
    "start_time": "2023-07-28T12:11:55.248Z"
   },
   {
    "duration": 50,
    "start_time": "2023-07-28T12:11:55.265Z"
   },
   {
    "duration": 30,
    "start_time": "2023-07-28T12:11:55.317Z"
   },
   {
    "duration": 77,
    "start_time": "2023-07-28T12:11:55.349Z"
   },
   {
    "duration": 17,
    "start_time": "2023-07-28T12:11:55.428Z"
   },
   {
    "duration": 37,
    "start_time": "2023-07-28T12:11:55.446Z"
   },
   {
    "duration": 41,
    "start_time": "2023-07-28T12:11:55.484Z"
   },
   {
    "duration": 82,
    "start_time": "2023-07-28T12:11:55.527Z"
   },
   {
    "duration": 702,
    "start_time": "2023-07-28T12:11:55.612Z"
   },
   {
    "duration": 341,
    "start_time": "2023-07-28T12:11:56.316Z"
   },
   {
    "duration": 55,
    "start_time": "2023-07-28T12:11:56.658Z"
   },
   {
    "duration": 20,
    "start_time": "2023-07-28T12:11:56.715Z"
   },
   {
    "duration": 82,
    "start_time": "2023-07-28T12:11:56.737Z"
   },
   {
    "duration": 4921,
    "start_time": "2023-07-28T12:11:56.821Z"
   },
   {
    "duration": 0,
    "start_time": "2023-07-28T12:12:01.744Z"
   },
   {
    "duration": 0,
    "start_time": "2023-07-28T12:12:01.745Z"
   },
   {
    "duration": 0,
    "start_time": "2023-07-28T12:12:01.746Z"
   },
   {
    "duration": 0,
    "start_time": "2023-07-28T12:12:01.747Z"
   },
   {
    "duration": 0,
    "start_time": "2023-07-28T12:12:01.748Z"
   },
   {
    "duration": 0,
    "start_time": "2023-07-28T12:12:01.749Z"
   },
   {
    "duration": 0,
    "start_time": "2023-07-28T12:12:01.750Z"
   },
   {
    "duration": 0,
    "start_time": "2023-07-28T12:12:01.751Z"
   },
   {
    "duration": 0,
    "start_time": "2023-07-28T12:12:01.752Z"
   },
   {
    "duration": 0,
    "start_time": "2023-07-28T12:12:01.753Z"
   },
   {
    "duration": 0,
    "start_time": "2023-07-28T12:12:01.754Z"
   },
   {
    "duration": 0,
    "start_time": "2023-07-28T12:12:01.755Z"
   },
   {
    "duration": 0,
    "start_time": "2023-07-28T12:12:01.756Z"
   },
   {
    "duration": 0,
    "start_time": "2023-07-28T12:12:01.757Z"
   },
   {
    "duration": 0,
    "start_time": "2023-07-28T12:12:01.758Z"
   },
   {
    "duration": 152,
    "start_time": "2023-07-28T12:14:02.763Z"
   },
   {
    "duration": 125,
    "start_time": "2023-07-28T12:14:59.148Z"
   },
   {
    "duration": 123,
    "start_time": "2023-07-28T12:17:17.697Z"
   },
   {
    "duration": 166,
    "start_time": "2023-07-28T12:30:36.118Z"
   },
   {
    "duration": 194,
    "start_time": "2023-07-28T12:32:04.425Z"
   },
   {
    "duration": 119,
    "start_time": "2023-07-28T12:32:29.916Z"
   },
   {
    "duration": 120,
    "start_time": "2023-07-28T12:37:23.773Z"
   },
   {
    "duration": 133,
    "start_time": "2023-07-28T12:38:21.864Z"
   },
   {
    "duration": 137,
    "start_time": "2023-07-28T12:39:06.232Z"
   },
   {
    "duration": 516,
    "start_time": "2023-07-28T12:39:15.530Z"
   },
   {
    "duration": 189,
    "start_time": "2023-07-28T12:39:26.529Z"
   },
   {
    "duration": 141,
    "start_time": "2023-07-28T12:40:01.023Z"
   },
   {
    "duration": 168,
    "start_time": "2023-07-28T12:40:34.819Z"
   },
   {
    "duration": 138,
    "start_time": "2023-07-28T12:42:03.054Z"
   },
   {
    "duration": 3531,
    "start_time": "2023-07-28T12:52:02.193Z"
   },
   {
    "duration": 2448,
    "start_time": "2023-07-28T12:54:13.229Z"
   },
   {
    "duration": 1735,
    "start_time": "2023-07-28T12:54:15.681Z"
   },
   {
    "duration": 3,
    "start_time": "2023-07-28T12:54:17.418Z"
   },
   {
    "duration": 1229,
    "start_time": "2023-07-28T12:54:17.423Z"
   },
   {
    "duration": 128,
    "start_time": "2023-07-28T12:54:18.654Z"
   },
   {
    "duration": 134,
    "start_time": "2023-07-28T12:54:18.784Z"
   },
   {
    "duration": 140,
    "start_time": "2023-07-28T12:54:18.920Z"
   },
   {
    "duration": 99,
    "start_time": "2023-07-28T12:54:19.062Z"
   },
   {
    "duration": 177,
    "start_time": "2023-07-28T12:54:19.163Z"
   },
   {
    "duration": 21,
    "start_time": "2023-07-28T12:54:19.342Z"
   },
   {
    "duration": 103,
    "start_time": "2023-07-28T12:54:19.365Z"
   },
   {
    "duration": 3,
    "start_time": "2023-07-28T12:54:19.470Z"
   },
   {
    "duration": 248,
    "start_time": "2023-07-28T12:54:19.475Z"
   },
   {
    "duration": 25,
    "start_time": "2023-07-28T12:54:19.726Z"
   },
   {
    "duration": 165,
    "start_time": "2023-07-28T12:54:19.753Z"
   },
   {
    "duration": 40,
    "start_time": "2023-07-28T12:54:19.919Z"
   },
   {
    "duration": 36,
    "start_time": "2023-07-28T12:54:19.961Z"
   },
   {
    "duration": 13,
    "start_time": "2023-07-28T12:54:20.006Z"
   },
   {
    "duration": 146,
    "start_time": "2023-07-28T12:54:20.021Z"
   },
   {
    "duration": 25,
    "start_time": "2023-07-28T12:54:20.168Z"
   },
   {
    "duration": 122,
    "start_time": "2023-07-28T12:54:20.199Z"
   },
   {
    "duration": 295,
    "start_time": "2023-07-28T12:54:20.323Z"
   },
   {
    "duration": 63,
    "start_time": "2023-07-28T12:54:20.620Z"
   },
   {
    "duration": 33,
    "start_time": "2023-07-28T12:54:20.684Z"
   },
   {
    "duration": 12,
    "start_time": "2023-07-28T12:54:20.718Z"
   },
   {
    "duration": 34,
    "start_time": "2023-07-28T12:54:20.731Z"
   },
   {
    "duration": 56,
    "start_time": "2023-07-28T12:54:20.767Z"
   },
   {
    "duration": 21,
    "start_time": "2023-07-28T12:54:20.826Z"
   },
   {
    "duration": 50,
    "start_time": "2023-07-28T12:54:20.848Z"
   },
   {
    "duration": 34,
    "start_time": "2023-07-28T12:54:20.906Z"
   },
   {
    "duration": 99,
    "start_time": "2023-07-28T12:54:20.942Z"
   },
   {
    "duration": 16,
    "start_time": "2023-07-28T12:54:21.043Z"
   },
   {
    "duration": 48,
    "start_time": "2023-07-28T12:54:21.061Z"
   },
   {
    "duration": 20,
    "start_time": "2023-07-28T12:54:21.110Z"
   },
   {
    "duration": 49,
    "start_time": "2023-07-28T12:54:21.132Z"
   },
   {
    "duration": 661,
    "start_time": "2023-07-28T12:54:21.183Z"
   },
   {
    "duration": 335,
    "start_time": "2023-07-28T12:54:21.846Z"
   },
   {
    "duration": 41,
    "start_time": "2023-07-28T12:54:22.182Z"
   },
   {
    "duration": 3,
    "start_time": "2023-07-28T12:54:22.224Z"
   },
   {
    "duration": 36,
    "start_time": "2023-07-28T12:54:22.228Z"
   },
   {
    "duration": 2556,
    "start_time": "2023-07-28T12:54:46.898Z"
   },
   {
    "duration": 1737,
    "start_time": "2023-07-28T12:54:49.457Z"
   },
   {
    "duration": 3,
    "start_time": "2023-07-28T12:54:51.195Z"
   },
   {
    "duration": 1151,
    "start_time": "2023-07-28T12:54:51.200Z"
   },
   {
    "duration": 119,
    "start_time": "2023-07-28T12:54:52.352Z"
   },
   {
    "duration": 122,
    "start_time": "2023-07-28T12:54:52.473Z"
   },
   {
    "duration": 137,
    "start_time": "2023-07-28T12:54:52.596Z"
   },
   {
    "duration": 98,
    "start_time": "2023-07-28T12:54:52.735Z"
   },
   {
    "duration": 180,
    "start_time": "2023-07-28T12:54:52.834Z"
   },
   {
    "duration": 29,
    "start_time": "2023-07-28T12:54:53.018Z"
   },
   {
    "duration": 85,
    "start_time": "2023-07-28T12:54:53.048Z"
   },
   {
    "duration": 2,
    "start_time": "2023-07-28T12:54:53.135Z"
   },
   {
    "duration": 180,
    "start_time": "2023-07-28T12:54:53.138Z"
   },
   {
    "duration": 18,
    "start_time": "2023-07-28T12:54:53.319Z"
   },
   {
    "duration": 129,
    "start_time": "2023-07-28T12:54:53.339Z"
   },
   {
    "duration": 49,
    "start_time": "2023-07-28T12:54:53.469Z"
   },
   {
    "duration": 42,
    "start_time": "2023-07-28T12:54:53.520Z"
   },
   {
    "duration": 11,
    "start_time": "2023-07-28T12:54:53.563Z"
   },
   {
    "duration": 157,
    "start_time": "2023-07-28T12:54:53.575Z"
   },
   {
    "duration": 22,
    "start_time": "2023-07-28T12:54:53.733Z"
   },
   {
    "duration": 153,
    "start_time": "2023-07-28T12:54:53.756Z"
   },
   {
    "duration": 215,
    "start_time": "2023-07-28T12:54:53.910Z"
   },
   {
    "duration": 54,
    "start_time": "2023-07-28T12:54:54.126Z"
   },
   {
    "duration": 30,
    "start_time": "2023-07-28T12:54:54.182Z"
   },
   {
    "duration": 4,
    "start_time": "2023-07-28T12:54:54.215Z"
   },
   {
    "duration": 38,
    "start_time": "2023-07-28T12:54:54.220Z"
   },
   {
    "duration": 36,
    "start_time": "2023-07-28T12:54:54.260Z"
   },
   {
    "duration": 23,
    "start_time": "2023-07-28T12:54:54.300Z"
   },
   {
    "duration": 36,
    "start_time": "2023-07-28T12:54:54.325Z"
   },
   {
    "duration": 42,
    "start_time": "2023-07-28T12:54:54.363Z"
   },
   {
    "duration": 105,
    "start_time": "2023-07-28T12:54:54.406Z"
   },
   {
    "duration": 18,
    "start_time": "2023-07-28T12:54:54.512Z"
   },
   {
    "duration": 34,
    "start_time": "2023-07-28T12:54:54.531Z"
   },
   {
    "duration": 47,
    "start_time": "2023-07-28T12:54:54.566Z"
   },
   {
    "duration": 57,
    "start_time": "2023-07-28T12:54:54.615Z"
   },
   {
    "duration": 663,
    "start_time": "2023-07-28T12:54:54.673Z"
   },
   {
    "duration": 394,
    "start_time": "2023-07-28T12:54:55.337Z"
   },
   {
    "duration": 34,
    "start_time": "2023-07-28T12:54:55.733Z"
   },
   {
    "duration": 2,
    "start_time": "2023-07-28T12:54:55.768Z"
   },
   {
    "duration": 50,
    "start_time": "2023-07-28T12:54:55.772Z"
   },
   {
    "duration": 5316,
    "start_time": "2023-07-28T12:54:55.823Z"
   },
   {
    "duration": 0,
    "start_time": "2023-07-28T12:55:01.141Z"
   },
   {
    "duration": 0,
    "start_time": "2023-07-28T12:55:01.142Z"
   },
   {
    "duration": 0,
    "start_time": "2023-07-28T12:55:01.143Z"
   },
   {
    "duration": 0,
    "start_time": "2023-07-28T12:55:01.144Z"
   },
   {
    "duration": 0,
    "start_time": "2023-07-28T12:55:01.145Z"
   },
   {
    "duration": 0,
    "start_time": "2023-07-28T12:55:01.145Z"
   },
   {
    "duration": 0,
    "start_time": "2023-07-28T12:55:01.146Z"
   },
   {
    "duration": 0,
    "start_time": "2023-07-28T12:55:01.147Z"
   },
   {
    "duration": 0,
    "start_time": "2023-07-28T12:55:01.148Z"
   },
   {
    "duration": 0,
    "start_time": "2023-07-28T12:55:01.150Z"
   },
   {
    "duration": 0,
    "start_time": "2023-07-28T12:55:01.151Z"
   },
   {
    "duration": 0,
    "start_time": "2023-07-28T12:55:01.152Z"
   },
   {
    "duration": 0,
    "start_time": "2023-07-28T12:55:01.153Z"
   },
   {
    "duration": 0,
    "start_time": "2023-07-28T12:55:01.155Z"
   },
   {
    "duration": 0,
    "start_time": "2023-07-28T12:55:01.156Z"
   },
   {
    "duration": 2346,
    "start_time": "2023-07-28T12:56:46.436Z"
   },
   {
    "duration": 1598,
    "start_time": "2023-07-28T12:56:48.784Z"
   },
   {
    "duration": 2,
    "start_time": "2023-07-28T12:56:50.384Z"
   },
   {
    "duration": 1140,
    "start_time": "2023-07-28T12:56:50.388Z"
   },
   {
    "duration": 138,
    "start_time": "2023-07-28T12:56:51.530Z"
   },
   {
    "duration": 115,
    "start_time": "2023-07-28T12:56:51.669Z"
   },
   {
    "duration": 146,
    "start_time": "2023-07-28T12:56:51.786Z"
   },
   {
    "duration": 98,
    "start_time": "2023-07-28T12:56:51.933Z"
   },
   {
    "duration": 164,
    "start_time": "2023-07-28T12:56:52.033Z"
   },
   {
    "duration": 28,
    "start_time": "2023-07-28T12:56:52.199Z"
   },
   {
    "duration": 101,
    "start_time": "2023-07-28T12:56:52.228Z"
   },
   {
    "duration": 3,
    "start_time": "2023-07-28T12:56:52.331Z"
   },
   {
    "duration": 195,
    "start_time": "2023-07-28T12:56:52.335Z"
   },
   {
    "duration": 19,
    "start_time": "2023-07-28T12:56:52.531Z"
   },
   {
    "duration": 146,
    "start_time": "2023-07-28T12:56:52.551Z"
   },
   {
    "duration": 48,
    "start_time": "2023-07-28T12:56:52.699Z"
   },
   {
    "duration": 57,
    "start_time": "2023-07-28T12:56:52.748Z"
   },
   {
    "duration": 33,
    "start_time": "2023-07-28T12:56:52.806Z"
   },
   {
    "duration": 136,
    "start_time": "2023-07-28T12:56:52.841Z"
   },
   {
    "duration": 40,
    "start_time": "2023-07-28T12:56:52.979Z"
   },
   {
    "duration": 119,
    "start_time": "2023-07-28T12:56:53.021Z"
   },
   {
    "duration": 204,
    "start_time": "2023-07-28T12:56:53.141Z"
   },
   {
    "duration": 41,
    "start_time": "2023-07-28T12:56:53.346Z"
   },
   {
    "duration": 37,
    "start_time": "2023-07-28T12:56:53.389Z"
   },
   {
    "duration": 3,
    "start_time": "2023-07-28T12:56:53.427Z"
   },
   {
    "duration": 52,
    "start_time": "2023-07-28T12:56:53.431Z"
   },
   {
    "duration": 50,
    "start_time": "2023-07-28T12:56:53.485Z"
   },
   {
    "duration": 74,
    "start_time": "2023-07-28T12:56:53.539Z"
   },
   {
    "duration": 51,
    "start_time": "2023-07-28T12:56:53.614Z"
   },
   {
    "duration": 19,
    "start_time": "2023-07-28T12:56:53.667Z"
   },
   {
    "duration": 88,
    "start_time": "2023-07-28T12:56:53.687Z"
   },
   {
    "duration": 18,
    "start_time": "2023-07-28T12:56:53.777Z"
   },
   {
    "duration": 77,
    "start_time": "2023-07-28T12:56:53.799Z"
   },
   {
    "duration": 21,
    "start_time": "2023-07-28T12:56:53.878Z"
   },
   {
    "duration": 45,
    "start_time": "2023-07-28T12:56:53.914Z"
   },
   {
    "duration": 636,
    "start_time": "2023-07-28T12:56:53.960Z"
   },
   {
    "duration": 341,
    "start_time": "2023-07-28T12:56:54.598Z"
   },
   {
    "duration": 34,
    "start_time": "2023-07-28T12:56:54.941Z"
   },
   {
    "duration": 2,
    "start_time": "2023-07-28T12:56:54.977Z"
   },
   {
    "duration": 49,
    "start_time": "2023-07-28T12:56:54.980Z"
   },
   {
    "duration": 2822,
    "start_time": "2023-07-28T13:01:18.695Z"
   },
   {
    "duration": 1618,
    "start_time": "2023-07-28T13:01:21.519Z"
   },
   {
    "duration": 2,
    "start_time": "2023-07-28T13:01:23.139Z"
   },
   {
    "duration": 1224,
    "start_time": "2023-07-28T13:01:23.143Z"
   },
   {
    "duration": 125,
    "start_time": "2023-07-28T13:01:24.368Z"
   },
   {
    "duration": 134,
    "start_time": "2023-07-28T13:01:24.495Z"
   },
   {
    "duration": 140,
    "start_time": "2023-07-28T13:01:24.631Z"
   },
   {
    "duration": 97,
    "start_time": "2023-07-28T13:01:24.773Z"
   },
   {
    "duration": 181,
    "start_time": "2023-07-28T13:01:24.871Z"
   },
   {
    "duration": 20,
    "start_time": "2023-07-28T13:01:25.055Z"
   },
   {
    "duration": 140,
    "start_time": "2023-07-28T13:01:25.077Z"
   },
   {
    "duration": 2,
    "start_time": "2023-07-28T13:01:25.218Z"
   },
   {
    "duration": 205,
    "start_time": "2023-07-28T13:01:25.221Z"
   },
   {
    "duration": 19,
    "start_time": "2023-07-28T13:01:25.427Z"
   },
   {
    "duration": 126,
    "start_time": "2023-07-28T13:01:25.448Z"
   },
   {
    "duration": 55,
    "start_time": "2023-07-28T13:01:25.576Z"
   },
   {
    "duration": 36,
    "start_time": "2023-07-28T13:01:25.633Z"
   },
   {
    "duration": 5,
    "start_time": "2023-07-28T13:01:25.671Z"
   },
   {
    "duration": 153,
    "start_time": "2023-07-28T13:01:25.677Z"
   },
   {
    "duration": 25,
    "start_time": "2023-07-28T13:01:25.831Z"
   },
   {
    "duration": 124,
    "start_time": "2023-07-28T13:01:25.858Z"
   },
   {
    "duration": 264,
    "start_time": "2023-07-28T13:01:25.985Z"
   },
   {
    "duration": 42,
    "start_time": "2023-07-28T13:01:26.251Z"
   },
   {
    "duration": 44,
    "start_time": "2023-07-28T13:01:26.295Z"
   },
   {
    "duration": 2,
    "start_time": "2023-07-28T13:01:26.342Z"
   },
   {
    "duration": 29,
    "start_time": "2023-07-28T13:01:26.346Z"
   },
   {
    "duration": 80,
    "start_time": "2023-07-28T13:01:26.376Z"
   },
   {
    "duration": 16,
    "start_time": "2023-07-28T13:01:26.459Z"
   },
   {
    "duration": 69,
    "start_time": "2023-07-28T13:01:26.476Z"
   },
   {
    "duration": 18,
    "start_time": "2023-07-28T13:01:26.547Z"
   },
   {
    "duration": 85,
    "start_time": "2023-07-28T13:01:26.566Z"
   },
   {
    "duration": 18,
    "start_time": "2023-07-28T13:01:26.653Z"
   },
   {
    "duration": 62,
    "start_time": "2023-07-28T13:01:26.672Z"
   },
   {
    "duration": 27,
    "start_time": "2023-07-28T13:01:26.736Z"
   },
   {
    "duration": 62,
    "start_time": "2023-07-28T13:01:26.765Z"
   },
   {
    "duration": 666,
    "start_time": "2023-07-28T13:01:26.828Z"
   },
   {
    "duration": 386,
    "start_time": "2023-07-28T13:01:27.496Z"
   },
   {
    "duration": 44,
    "start_time": "2023-07-28T13:01:27.884Z"
   },
   {
    "duration": 2,
    "start_time": "2023-07-28T13:01:27.930Z"
   },
   {
    "duration": 33,
    "start_time": "2023-07-28T13:01:27.934Z"
   },
   {
    "duration": 279,
    "start_time": "2023-07-28T13:01:27.968Z"
   },
   {
    "duration": 0,
    "start_time": "2023-07-28T13:01:28.249Z"
   },
   {
    "duration": 0,
    "start_time": "2023-07-28T13:01:28.250Z"
   },
   {
    "duration": 0,
    "start_time": "2023-07-28T13:01:28.251Z"
   },
   {
    "duration": 0,
    "start_time": "2023-07-28T13:01:28.252Z"
   },
   {
    "duration": 0,
    "start_time": "2023-07-28T13:01:28.253Z"
   },
   {
    "duration": 0,
    "start_time": "2023-07-28T13:01:28.255Z"
   },
   {
    "duration": 0,
    "start_time": "2023-07-28T13:01:28.256Z"
   },
   {
    "duration": 0,
    "start_time": "2023-07-28T13:01:28.257Z"
   },
   {
    "duration": 0,
    "start_time": "2023-07-28T13:01:28.258Z"
   },
   {
    "duration": 0,
    "start_time": "2023-07-28T13:01:28.259Z"
   },
   {
    "duration": 0,
    "start_time": "2023-07-28T13:01:28.260Z"
   },
   {
    "duration": 0,
    "start_time": "2023-07-28T13:01:28.261Z"
   },
   {
    "duration": 0,
    "start_time": "2023-07-28T13:01:28.262Z"
   },
   {
    "duration": 0,
    "start_time": "2023-07-28T13:01:28.263Z"
   },
   {
    "duration": 0,
    "start_time": "2023-07-28T13:01:28.264Z"
   },
   {
    "duration": 696,
    "start_time": "2023-07-28T13:01:47.545Z"
   },
   {
    "duration": 655,
    "start_time": "2023-07-28T13:02:52.539Z"
   },
   {
    "duration": 128,
    "start_time": "2023-07-28T13:04:15.357Z"
   },
   {
    "duration": 364,
    "start_time": "2023-07-28T13:08:04.450Z"
   },
   {
    "duration": 8784,
    "start_time": "2023-07-28T13:09:10.738Z"
   },
   {
    "duration": 409,
    "start_time": "2023-07-28T13:09:28.850Z"
   },
   {
    "duration": 185,
    "start_time": "2023-07-28T13:12:21.319Z"
   },
   {
    "duration": 390,
    "start_time": "2023-07-28T13:12:34.407Z"
   },
   {
    "duration": 4735,
    "start_time": "2023-07-28T13:15:48.431Z"
   },
   {
    "duration": 157,
    "start_time": "2023-07-28T13:17:54.728Z"
   },
   {
    "duration": 229,
    "start_time": "2023-07-28T13:18:09.546Z"
   },
   {
    "duration": 381,
    "start_time": "2023-07-28T13:18:22.775Z"
   },
   {
    "duration": 173,
    "start_time": "2023-07-28T13:20:41.038Z"
   },
   {
    "duration": 186,
    "start_time": "2023-07-28T13:20:58.499Z"
   },
   {
    "duration": 314,
    "start_time": "2023-07-28T13:21:29.531Z"
   },
   {
    "duration": 276,
    "start_time": "2023-07-28T13:21:51.133Z"
   },
   {
    "duration": 214,
    "start_time": "2023-07-28T13:22:09.634Z"
   },
   {
    "duration": 258,
    "start_time": "2023-07-28T13:22:59.891Z"
   },
   {
    "duration": 240,
    "start_time": "2023-07-28T13:23:44.838Z"
   },
   {
    "duration": 304,
    "start_time": "2023-07-28T13:26:19.937Z"
   },
   {
    "duration": 139,
    "start_time": "2023-07-28T13:28:05.222Z"
   },
   {
    "duration": 164,
    "start_time": "2023-07-28T13:30:04.892Z"
   },
   {
    "duration": 8925,
    "start_time": "2023-07-28T13:30:28.395Z"
   },
   {
    "duration": 315,
    "start_time": "2023-07-28T13:31:24.423Z"
   },
   {
    "duration": 210,
    "start_time": "2023-07-28T13:32:07.987Z"
   },
   {
    "duration": 307,
    "start_time": "2023-07-28T13:32:40.640Z"
   },
   {
    "duration": 312,
    "start_time": "2023-07-28T13:34:02.001Z"
   },
   {
    "duration": 334,
    "start_time": "2023-07-28T13:35:38.407Z"
   },
   {
    "duration": 167,
    "start_time": "2023-07-28T13:37:51.222Z"
   },
   {
    "duration": 175,
    "start_time": "2023-07-28T13:41:17.330Z"
   },
   {
    "duration": 188,
    "start_time": "2023-07-28T13:42:04.085Z"
   },
   {
    "duration": 157,
    "start_time": "2023-07-28T13:43:19.629Z"
   },
   {
    "duration": 228,
    "start_time": "2023-07-28T13:44:15.461Z"
   },
   {
    "duration": 2323,
    "start_time": "2023-07-28T13:44:53.922Z"
   },
   {
    "duration": 1857,
    "start_time": "2023-07-28T13:44:56.248Z"
   },
   {
    "duration": 14,
    "start_time": "2023-07-28T13:44:58.115Z"
   },
   {
    "duration": 797,
    "start_time": "2023-07-28T13:44:58.135Z"
   },
   {
    "duration": 124,
    "start_time": "2023-07-28T13:44:58.934Z"
   },
   {
    "duration": 118,
    "start_time": "2023-07-28T13:44:59.059Z"
   },
   {
    "duration": 147,
    "start_time": "2023-07-28T13:44:59.179Z"
   },
   {
    "duration": 90,
    "start_time": "2023-07-28T13:44:59.327Z"
   },
   {
    "duration": 163,
    "start_time": "2023-07-28T13:44:59.418Z"
   },
   {
    "duration": 38,
    "start_time": "2023-07-28T13:44:59.583Z"
   },
   {
    "duration": 14,
    "start_time": "2023-07-28T13:44:59.625Z"
   },
   {
    "duration": 2,
    "start_time": "2023-07-28T13:44:59.640Z"
   },
   {
    "duration": 235,
    "start_time": "2023-07-28T13:44:59.643Z"
   },
   {
    "duration": 47,
    "start_time": "2023-07-28T13:44:59.881Z"
   },
   {
    "duration": 146,
    "start_time": "2023-07-28T13:44:59.930Z"
   },
   {
    "duration": 57,
    "start_time": "2023-07-28T13:45:00.078Z"
   },
   {
    "duration": 96,
    "start_time": "2023-07-28T13:45:00.138Z"
   },
   {
    "duration": 95,
    "start_time": "2023-07-28T13:45:00.236Z"
   },
   {
    "duration": 232,
    "start_time": "2023-07-28T13:45:00.332Z"
   },
   {
    "duration": 22,
    "start_time": "2023-07-28T13:45:00.566Z"
   },
   {
    "duration": 145,
    "start_time": "2023-07-28T13:45:00.590Z"
   },
   {
    "duration": 197,
    "start_time": "2023-07-28T13:45:00.736Z"
   },
   {
    "duration": 104,
    "start_time": "2023-07-28T13:45:00.935Z"
   },
   {
    "duration": 58,
    "start_time": "2023-07-28T13:45:01.040Z"
   },
   {
    "duration": 76,
    "start_time": "2023-07-28T13:45:01.105Z"
   },
   {
    "duration": 95,
    "start_time": "2023-07-28T13:45:01.183Z"
   },
   {
    "duration": 101,
    "start_time": "2023-07-28T13:45:01.280Z"
   },
   {
    "duration": 59,
    "start_time": "2023-07-28T13:45:01.382Z"
   },
   {
    "duration": 48,
    "start_time": "2023-07-28T13:45:01.443Z"
   },
   {
    "duration": 73,
    "start_time": "2023-07-28T13:45:01.492Z"
   },
   {
    "duration": 104,
    "start_time": "2023-07-28T13:45:01.567Z"
   },
   {
    "duration": 16,
    "start_time": "2023-07-28T13:45:01.673Z"
   },
   {
    "duration": 108,
    "start_time": "2023-07-28T13:45:01.691Z"
   },
   {
    "duration": 123,
    "start_time": "2023-07-28T13:45:01.807Z"
   },
   {
    "duration": 140,
    "start_time": "2023-07-28T13:45:01.932Z"
   },
   {
    "duration": 803,
    "start_time": "2023-07-28T13:45:02.075Z"
   },
   {
    "duration": 405,
    "start_time": "2023-07-28T13:45:02.880Z"
   },
   {
    "duration": 45,
    "start_time": "2023-07-28T13:45:03.287Z"
   },
   {
    "duration": 8,
    "start_time": "2023-07-28T13:45:03.334Z"
   },
   {
    "duration": 46,
    "start_time": "2023-07-28T13:45:03.344Z"
   },
   {
    "duration": 249,
    "start_time": "2023-07-28T13:45:03.393Z"
   },
   {
    "duration": 156,
    "start_time": "2023-07-28T13:45:03.643Z"
   },
   {
    "duration": 0,
    "start_time": "2023-07-28T13:45:03.812Z"
   },
   {
    "duration": 0,
    "start_time": "2023-07-28T13:45:03.821Z"
   },
   {
    "duration": 0,
    "start_time": "2023-07-28T13:45:03.822Z"
   },
   {
    "duration": 0,
    "start_time": "2023-07-28T13:45:03.822Z"
   },
   {
    "duration": 0,
    "start_time": "2023-07-28T13:45:03.823Z"
   },
   {
    "duration": 0,
    "start_time": "2023-07-28T13:45:03.823Z"
   },
   {
    "duration": 0,
    "start_time": "2023-07-28T13:45:03.824Z"
   },
   {
    "duration": 0,
    "start_time": "2023-07-28T13:45:03.824Z"
   },
   {
    "duration": 0,
    "start_time": "2023-07-28T13:45:03.829Z"
   },
   {
    "duration": 0,
    "start_time": "2023-07-28T13:45:03.833Z"
   },
   {
    "duration": 0,
    "start_time": "2023-07-28T13:45:03.835Z"
   },
   {
    "duration": 0,
    "start_time": "2023-07-28T13:45:03.837Z"
   },
   {
    "duration": 0,
    "start_time": "2023-07-28T13:45:03.840Z"
   },
   {
    "duration": 0,
    "start_time": "2023-07-28T13:45:03.841Z"
   },
   {
    "duration": 231,
    "start_time": "2023-07-28T13:45:32.426Z"
   },
   {
    "duration": 252,
    "start_time": "2023-07-28T13:48:19.924Z"
   },
   {
    "duration": 165,
    "start_time": "2023-07-28T13:55:32.050Z"
   },
   {
    "duration": 9885,
    "start_time": "2023-07-28T13:56:01.909Z"
   },
   {
    "duration": 6135,
    "start_time": "2023-07-28T13:56:11.938Z"
   },
   {
    "duration": 140,
    "start_time": "2023-07-28T13:56:20.330Z"
   },
   {
    "duration": 150,
    "start_time": "2023-07-28T13:56:49.228Z"
   },
   {
    "duration": 163,
    "start_time": "2023-07-28T13:57:19.710Z"
   },
   {
    "duration": 143,
    "start_time": "2023-07-28T13:58:17.036Z"
   },
   {
    "duration": 3064,
    "start_time": "2023-07-28T13:58:35.891Z"
   },
   {
    "duration": 1668,
    "start_time": "2023-07-28T13:58:38.957Z"
   },
   {
    "duration": 4,
    "start_time": "2023-07-28T13:58:40.634Z"
   },
   {
    "duration": 842,
    "start_time": "2023-07-28T13:58:40.641Z"
   },
   {
    "duration": 155,
    "start_time": "2023-07-28T13:58:41.484Z"
   },
   {
    "duration": 149,
    "start_time": "2023-07-28T13:58:41.641Z"
   },
   {
    "duration": 123,
    "start_time": "2023-07-28T13:58:41.792Z"
   },
   {
    "duration": 93,
    "start_time": "2023-07-28T13:58:41.916Z"
   },
   {
    "duration": 168,
    "start_time": "2023-07-28T13:58:42.010Z"
   },
   {
    "duration": 42,
    "start_time": "2023-07-28T13:58:42.180Z"
   },
   {
    "duration": 106,
    "start_time": "2023-07-28T13:58:42.223Z"
   },
   {
    "duration": 3,
    "start_time": "2023-07-28T13:58:42.330Z"
   },
   {
    "duration": 199,
    "start_time": "2023-07-28T13:58:42.341Z"
   },
   {
    "duration": 20,
    "start_time": "2023-07-28T13:58:42.542Z"
   },
   {
    "duration": 169,
    "start_time": "2023-07-28T13:58:42.564Z"
   },
   {
    "duration": 41,
    "start_time": "2023-07-28T13:58:42.735Z"
   },
   {
    "duration": 60,
    "start_time": "2023-07-28T13:58:42.777Z"
   },
   {
    "duration": 25,
    "start_time": "2023-07-28T13:58:42.838Z"
   },
   {
    "duration": 173,
    "start_time": "2023-07-28T13:58:42.865Z"
   },
   {
    "duration": 24,
    "start_time": "2023-07-28T13:58:43.042Z"
   },
   {
    "duration": 127,
    "start_time": "2023-07-28T13:58:43.067Z"
   },
   {
    "duration": 251,
    "start_time": "2023-07-28T13:58:43.195Z"
   },
   {
    "duration": 49,
    "start_time": "2023-07-28T13:58:43.448Z"
   },
   {
    "duration": 50,
    "start_time": "2023-07-28T13:58:43.498Z"
   },
   {
    "duration": 31,
    "start_time": "2023-07-28T13:58:43.550Z"
   },
   {
    "duration": 69,
    "start_time": "2023-07-28T13:58:43.583Z"
   },
   {
    "duration": 89,
    "start_time": "2023-07-28T13:58:43.654Z"
   },
   {
    "duration": 46,
    "start_time": "2023-07-28T13:58:43.747Z"
   },
   {
    "duration": 73,
    "start_time": "2023-07-28T13:58:43.795Z"
   },
   {
    "duration": 67,
    "start_time": "2023-07-28T13:58:43.870Z"
   },
   {
    "duration": 108,
    "start_time": "2023-07-28T13:58:43.941Z"
   },
   {
    "duration": 15,
    "start_time": "2023-07-28T13:58:44.051Z"
   },
   {
    "duration": 91,
    "start_time": "2023-07-28T13:58:44.068Z"
   },
   {
    "duration": 37,
    "start_time": "2023-07-28T13:58:44.161Z"
   },
   {
    "duration": 82,
    "start_time": "2023-07-28T13:58:44.199Z"
   },
   {
    "duration": 712,
    "start_time": "2023-07-28T13:58:44.282Z"
   },
   {
    "duration": 398,
    "start_time": "2023-07-28T13:58:44.996Z"
   },
   {
    "duration": 51,
    "start_time": "2023-07-28T13:58:45.396Z"
   },
   {
    "duration": 44,
    "start_time": "2023-07-28T13:58:45.449Z"
   },
   {
    "duration": 79,
    "start_time": "2023-07-28T13:58:45.495Z"
   },
   {
    "duration": 187,
    "start_time": "2023-07-28T13:58:45.576Z"
   },
   {
    "duration": 160,
    "start_time": "2023-07-28T13:58:45.765Z"
   },
   {
    "duration": 0,
    "start_time": "2023-07-28T13:58:45.935Z"
   },
   {
    "duration": 0,
    "start_time": "2023-07-28T13:58:45.935Z"
   },
   {
    "duration": 0,
    "start_time": "2023-07-28T13:58:45.936Z"
   },
   {
    "duration": 0,
    "start_time": "2023-07-28T13:58:45.937Z"
   },
   {
    "duration": 0,
    "start_time": "2023-07-28T13:58:45.937Z"
   },
   {
    "duration": 0,
    "start_time": "2023-07-28T13:58:45.938Z"
   },
   {
    "duration": 0,
    "start_time": "2023-07-28T13:58:45.938Z"
   },
   {
    "duration": 0,
    "start_time": "2023-07-28T13:58:45.940Z"
   },
   {
    "duration": 0,
    "start_time": "2023-07-28T13:58:45.940Z"
   },
   {
    "duration": 0,
    "start_time": "2023-07-28T13:58:45.942Z"
   },
   {
    "duration": 0,
    "start_time": "2023-07-28T13:58:45.943Z"
   },
   {
    "duration": 0,
    "start_time": "2023-07-28T13:58:45.944Z"
   },
   {
    "duration": 0,
    "start_time": "2023-07-28T13:58:45.945Z"
   },
   {
    "duration": 0,
    "start_time": "2023-07-28T13:58:45.946Z"
   },
   {
    "duration": 2749,
    "start_time": "2023-07-28T14:00:16.540Z"
   },
   {
    "duration": 2081,
    "start_time": "2023-07-28T14:00:19.291Z"
   },
   {
    "duration": 3,
    "start_time": "2023-07-28T14:00:21.374Z"
   },
   {
    "duration": 958,
    "start_time": "2023-07-28T14:00:21.379Z"
   },
   {
    "duration": 189,
    "start_time": "2023-07-28T14:00:22.339Z"
   },
   {
    "duration": 134,
    "start_time": "2023-07-28T14:00:22.542Z"
   },
   {
    "duration": 151,
    "start_time": "2023-07-28T14:00:22.678Z"
   },
   {
    "duration": 119,
    "start_time": "2023-07-28T14:00:22.841Z"
   },
   {
    "duration": 187,
    "start_time": "2023-07-28T14:00:22.961Z"
   },
   {
    "duration": 21,
    "start_time": "2023-07-28T14:00:23.150Z"
   },
   {
    "duration": 16,
    "start_time": "2023-07-28T14:00:23.172Z"
   },
   {
    "duration": 64,
    "start_time": "2023-07-28T14:00:23.189Z"
   },
   {
    "duration": 245,
    "start_time": "2023-07-28T14:00:23.255Z"
   },
   {
    "duration": 26,
    "start_time": "2023-07-28T14:00:23.505Z"
   },
   {
    "duration": 170,
    "start_time": "2023-07-28T14:00:23.536Z"
   },
   {
    "duration": 65,
    "start_time": "2023-07-28T14:00:23.708Z"
   },
   {
    "duration": 67,
    "start_time": "2023-07-28T14:00:23.774Z"
   },
   {
    "duration": 6,
    "start_time": "2023-07-28T14:00:23.842Z"
   },
   {
    "duration": 139,
    "start_time": "2023-07-28T14:00:23.849Z"
   },
   {
    "duration": 33,
    "start_time": "2023-07-28T14:00:23.990Z"
   },
   {
    "duration": 127,
    "start_time": "2023-07-28T14:00:24.025Z"
   },
   {
    "duration": 242,
    "start_time": "2023-07-28T14:00:24.154Z"
   },
   {
    "duration": 91,
    "start_time": "2023-07-28T14:00:24.403Z"
   },
   {
    "duration": 33,
    "start_time": "2023-07-28T14:00:24.495Z"
   },
   {
    "duration": 10,
    "start_time": "2023-07-28T14:00:24.538Z"
   },
   {
    "duration": 22,
    "start_time": "2023-07-28T14:00:24.550Z"
   },
   {
    "duration": 47,
    "start_time": "2023-07-28T14:00:24.573Z"
   },
   {
    "duration": 34,
    "start_time": "2023-07-28T14:00:24.621Z"
   },
   {
    "duration": 35,
    "start_time": "2023-07-28T14:00:24.657Z"
   },
   {
    "duration": 45,
    "start_time": "2023-07-28T14:00:24.694Z"
   },
   {
    "duration": 96,
    "start_time": "2023-07-28T14:00:24.741Z"
   },
   {
    "duration": 21,
    "start_time": "2023-07-28T14:00:24.838Z"
   },
   {
    "duration": 32,
    "start_time": "2023-07-28T14:00:24.860Z"
   },
   {
    "duration": 47,
    "start_time": "2023-07-28T14:00:24.894Z"
   },
   {
    "duration": 42,
    "start_time": "2023-07-28T14:00:24.942Z"
   },
   {
    "duration": 773,
    "start_time": "2023-07-28T14:00:24.986Z"
   },
   {
    "duration": 445,
    "start_time": "2023-07-28T14:00:25.761Z"
   },
   {
    "duration": 65,
    "start_time": "2023-07-28T14:00:26.215Z"
   },
   {
    "duration": 6,
    "start_time": "2023-07-28T14:00:26.282Z"
   },
   {
    "duration": 47,
    "start_time": "2023-07-28T14:00:26.291Z"
   },
   {
    "duration": 257,
    "start_time": "2023-07-28T14:00:26.342Z"
   },
   {
    "duration": 78,
    "start_time": "2023-07-28T14:00:26.607Z"
   },
   {
    "duration": 602,
    "start_time": "2023-07-28T14:00:26.687Z"
   },
   {
    "duration": 49,
    "start_time": "2023-07-28T14:00:27.290Z"
   },
   {
    "duration": 241,
    "start_time": "2023-07-28T14:00:27.341Z"
   },
   {
    "duration": 368,
    "start_time": "2023-07-28T14:00:27.584Z"
   },
   {
    "duration": 156,
    "start_time": "2023-07-28T14:00:27.953Z"
   },
   {
    "duration": 7056,
    "start_time": "2023-07-28T14:00:28.115Z"
   },
   {
    "duration": 272,
    "start_time": "2023-07-28T14:00:35.173Z"
   },
   {
    "duration": 33282,
    "start_time": "2023-07-28T14:00:35.447Z"
   },
   {
    "duration": 98,
    "start_time": "2023-07-28T14:01:08.731Z"
   },
   {
    "duration": 3113,
    "start_time": "2023-07-28T14:05:14.279Z"
   },
   {
    "duration": 2978,
    "start_time": "2023-07-28T14:05:17.394Z"
   },
   {
    "duration": 2,
    "start_time": "2023-07-28T14:05:20.373Z"
   },
   {
    "duration": 880,
    "start_time": "2023-07-28T14:05:20.377Z"
   },
   {
    "duration": 136,
    "start_time": "2023-07-28T14:05:21.258Z"
   },
   {
    "duration": 180,
    "start_time": "2023-07-28T14:05:21.396Z"
   },
   {
    "duration": 156,
    "start_time": "2023-07-28T14:05:21.577Z"
   },
   {
    "duration": 108,
    "start_time": "2023-07-28T14:05:21.734Z"
   },
   {
    "duration": 191,
    "start_time": "2023-07-28T14:05:21.843Z"
   },
   {
    "duration": 24,
    "start_time": "2023-07-28T14:05:22.039Z"
   },
   {
    "duration": 117,
    "start_time": "2023-07-28T14:05:22.064Z"
   },
   {
    "duration": 3,
    "start_time": "2023-07-28T14:05:22.183Z"
   },
   {
    "duration": 190,
    "start_time": "2023-07-28T14:05:22.187Z"
   },
   {
    "duration": 21,
    "start_time": "2023-07-28T14:05:22.379Z"
   },
   {
    "duration": 149,
    "start_time": "2023-07-28T14:05:22.401Z"
   },
   {
    "duration": 39,
    "start_time": "2023-07-28T14:05:22.552Z"
   },
   {
    "duration": 70,
    "start_time": "2023-07-28T14:05:22.592Z"
   },
   {
    "duration": 5,
    "start_time": "2023-07-28T14:05:22.664Z"
   },
   {
    "duration": 159,
    "start_time": "2023-07-28T14:05:22.670Z"
   },
   {
    "duration": 25,
    "start_time": "2023-07-28T14:05:22.830Z"
   },
   {
    "duration": 134,
    "start_time": "2023-07-28T14:05:22.856Z"
   },
   {
    "duration": 263,
    "start_time": "2023-07-28T14:05:22.992Z"
   },
   {
    "duration": 60,
    "start_time": "2023-07-28T14:05:23.257Z"
   },
   {
    "duration": 23,
    "start_time": "2023-07-28T14:05:23.318Z"
   },
   {
    "duration": 11,
    "start_time": "2023-07-28T14:05:23.342Z"
   },
   {
    "duration": 24,
    "start_time": "2023-07-28T14:05:23.354Z"
   },
   {
    "duration": 48,
    "start_time": "2023-07-28T14:05:23.380Z"
   },
   {
    "duration": 31,
    "start_time": "2023-07-28T14:05:23.432Z"
   },
   {
    "duration": 72,
    "start_time": "2023-07-28T14:05:23.465Z"
   },
   {
    "duration": 28,
    "start_time": "2023-07-28T14:05:23.549Z"
   },
   {
    "duration": 96,
    "start_time": "2023-07-28T14:05:23.579Z"
   },
   {
    "duration": 43,
    "start_time": "2023-07-28T14:05:23.678Z"
   },
   {
    "duration": 90,
    "start_time": "2023-07-28T14:05:23.726Z"
   },
   {
    "duration": 34,
    "start_time": "2023-07-28T14:05:23.820Z"
   },
   {
    "duration": 35,
    "start_time": "2023-07-28T14:05:23.856Z"
   },
   {
    "duration": 740,
    "start_time": "2023-07-28T14:05:23.893Z"
   },
   {
    "duration": 407,
    "start_time": "2023-07-28T14:05:24.634Z"
   },
   {
    "duration": 39,
    "start_time": "2023-07-28T14:05:25.042Z"
   },
   {
    "duration": 2,
    "start_time": "2023-07-28T14:05:25.082Z"
   },
   {
    "duration": 72,
    "start_time": "2023-07-28T14:05:25.085Z"
   },
   {
    "duration": 199,
    "start_time": "2023-07-28T14:05:25.158Z"
   },
   {
    "duration": 96,
    "start_time": "2023-07-28T14:05:25.359Z"
   },
   {
    "duration": 588,
    "start_time": "2023-07-28T14:05:25.457Z"
   },
   {
    "duration": 18,
    "start_time": "2023-07-28T14:05:26.046Z"
   },
   {
    "duration": 325,
    "start_time": "2023-07-28T14:05:26.065Z"
   },
   {
    "duration": 330,
    "start_time": "2023-07-28T14:05:26.391Z"
   },
   {
    "duration": 202,
    "start_time": "2023-07-28T14:05:26.726Z"
   },
   {
    "duration": 6829,
    "start_time": "2023-07-28T14:05:26.933Z"
   },
   {
    "duration": 273,
    "start_time": "2023-07-28T14:05:33.764Z"
   },
   {
    "duration": 31387,
    "start_time": "2023-07-28T14:05:34.039Z"
   },
   {
    "duration": 75,
    "start_time": "2023-07-28T14:06:05.428Z"
   },
   {
    "duration": 992796,
    "start_time": "2023-07-28T14:06:05.504Z"
   },
   {
    "duration": 436,
    "start_time": "2023-07-28T14:22:38.314Z"
   },
   {
    "duration": 70,
    "start_time": "2023-07-28T14:22:38.751Z"
   },
   {
    "duration": 47,
    "start_time": "2023-07-28T14:22:38.823Z"
   },
   {
    "duration": 104,
    "start_time": "2023-07-28T14:22:38.872Z"
   }
  ],
  "kernelspec": {
   "display_name": "Python 3 (ipykernel)",
   "language": "python",
   "name": "python3"
  },
  "language_info": {
   "codemirror_mode": {
    "name": "ipython",
    "version": 3
   },
   "file_extension": ".py",
   "mimetype": "text/x-python",
   "name": "python",
   "nbconvert_exporter": "python",
   "pygments_lexer": "ipython3",
   "version": "3.11.4"
  },
  "toc": {
   "base_numbering": 1,
   "nav_menu": {},
   "number_sections": true,
   "sideBar": true,
   "skip_h1_title": true,
   "title_cell": "Table of Contents",
   "title_sidebar": "Contents",
   "toc_cell": false,
   "toc_position": {
    "height": "calc(100% - 180px)",
    "left": "10px",
    "top": "150px",
    "width": "354.594px"
   },
   "toc_section_display": true,
   "toc_window_display": true
  }
 },
 "nbformat": 4,
 "nbformat_minor": 2
}
